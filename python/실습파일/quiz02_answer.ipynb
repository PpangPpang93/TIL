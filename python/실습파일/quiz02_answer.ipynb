{
 "cells": [
  {
   "cell_type": "markdown",
   "metadata": {
    "slideshow": {
     "slide_type": "skip"
    }
   },
   "source": [
    "#### Quiz 1\n",
    "- `input`을 이용하여 숫자를 입력받는 코드를 작성하시오.\n",
    "    - 문자가 입력되면 에러 메시지를 보내고 다시 숫자를 입력받도록 만들어 주세요.\n",
    "- while, try-except, input() 이용\n",
    "\n",
    "\n",
    "- 결과\n",
    "```\n",
    "insert number : python\n",
    "숫자를 입력해주세요.\n",
    "insert number : !!!\n",
    "숫자를 입력해주세요.\n",
    "insert number : 1234\n",
    "숫자가 입력되었습니다 :  1234\n",
    "```"
   ]
  },
  {
   "cell_type": "code",
   "execution_count": 8,
   "metadata": {
    "ExecuteTime": {
     "end_time": "2021-09-10T01:17:44.619737Z",
     "start_time": "2021-09-10T01:17:42.068694Z"
    },
    "slideshow": {
     "slide_type": "skip"
    }
   },
   "outputs": [
    {
     "name": "stdout",
     "output_type": "stream",
     "text": [
      "insert number : !!!!\n",
      "숫자를 입력해주세요.\n",
      "insert number : 1234\n",
      "숫자가 입력되었습니다 : 1234\n"
     ]
    }
   ],
   "source": [
    "while True:\n",
    "    try:\n",
    "        number = int(input(\"insert number : \"))\n",
    "        break\n",
    "    except:\n",
    "        print(\"숫자를 입력해주세요.\")\n",
    "        \n",
    "print(\"숫자가 입력되었습니다 :\", number)"
   ]
  },
  {
   "cell_type": "markdown",
   "metadata": {
    "slideshow": {
     "slide_type": "slide"
    }
   },
   "source": [
    "#### Quiz 2\n",
    "- 이자율을 입력 받을때 이자율이 3 ~ 10 사이로 입력되도록 Account 클래스를 작성해주세요.\n",
    "- 3% 미만의 이자율을 객체로 만들때 생성하면 \"이자율을 3% 이상으로 설정해주세요.\" 메시지와 함께 에러를 발생\n",
    "- 10% 초과의 이자율을 객체로 만들때 생성하면 \"이자율을 10% 이하로 설정해주세요.\" 메시지와 함께 에러를 발생\n",
    "- if, elif, raise, class, Exception, 비교연산자 사용\n",
    "\n",
    "\n",
    "- 결과\n",
    "\n",
    "```\n",
    "# 객체 생성 1\n",
    "account1 = Account(2)\n",
    "\n",
    "# 에러 발생 1\n",
    "LowInterest: 이자율을 1.03 이상으로 설정해주세요.\n",
    "\n",
    "# 객체 생성 2\n",
    "account2 = Account(13)\n",
    "\n",
    "# 에러 발생 2\n",
    "HighInterest: 이자율을 1.10 이하로 설정해주세요.\n",
    "\n",
    "# 객체 생성 3\n",
    "account1 = Account(7)\n",
    "account1.disp()\n",
    "\n",
    "# 결과 출력\n",
    "계좌에 설정된 이자율은 7.0% 입니다\n",
    "\n",
    "```"
   ]
  },
  {
   "cell_type": "code",
   "execution_count": 2,
   "metadata": {
    "slideshow": {
     "slide_type": "skip"
    }
   },
   "outputs": [],
   "source": [
    "class LowInterest(Exception):\n",
    "    \n",
    "    def __str__(self):\n",
    "        return \"이자율을 3% 이상으로 설정해주세요.\"\n",
    "    \n",
    "class HighInterest(Exception):\n",
    "    \n",
    "    def __str__(self):\n",
    "        return \"이자율을 10% 이하로 설정해주세요.\""
   ]
  },
  {
   "cell_type": "code",
   "execution_count": 3,
   "metadata": {
    "slideshow": {
     "slide_type": "skip"
    }
   },
   "outputs": [],
   "source": [
    "class Account:\n",
    "    \n",
    "    def __init__(self, interest, asset=10000):\n",
    "        if interest < 3:\n",
    "            raise LowInterest()\n",
    "        elif interest > 10:\n",
    "            raise HighInterest()\n",
    "        else:\n",
    "            self.interest = interest / 100 + 1\n",
    "            self.asset = asset\n",
    "            \n",
    "    def disp(self):\n",
    "        interest = round((self.interest - 1) * 100, 2)\n",
    "        return \"계좌에 설정된 이자율은 {}% 입니다\".format(interest)"
   ]
  },
  {
   "cell_type": "code",
   "execution_count": 4,
   "metadata": {
    "slideshow": {
     "slide_type": "skip"
    }
   },
   "outputs": [
    {
     "ename": "LowInterest",
     "evalue": "이자율을 3% 이상으로 설정해주세요.",
     "output_type": "error",
     "traceback": [
      "\u001b[0;31m---------------------------------------------------------------------------\u001b[0m",
      "\u001b[0;31mLowInterest\u001b[0m                               Traceback (most recent call last)",
      "\u001b[0;32m<ipython-input-4-4b6a76d9a6a1>\u001b[0m in \u001b[0;36m<module>\u001b[0;34m\u001b[0m\n\u001b[0;32m----> 1\u001b[0;31m \u001b[0maccount1\u001b[0m \u001b[0;34m=\u001b[0m \u001b[0mAccount\u001b[0m\u001b[0;34m(\u001b[0m\u001b[0;36m2\u001b[0m\u001b[0;34m)\u001b[0m\u001b[0;34m\u001b[0m\u001b[0;34m\u001b[0m\u001b[0m\n\u001b[0m",
      "\u001b[0;32m<ipython-input-3-b001011c357b>\u001b[0m in \u001b[0;36m__init__\u001b[0;34m(self, interest, asset)\u001b[0m\n\u001b[1;32m      3\u001b[0m     \u001b[0;32mdef\u001b[0m \u001b[0m__init__\u001b[0m\u001b[0;34m(\u001b[0m\u001b[0mself\u001b[0m\u001b[0;34m,\u001b[0m \u001b[0minterest\u001b[0m\u001b[0;34m,\u001b[0m \u001b[0masset\u001b[0m\u001b[0;34m=\u001b[0m\u001b[0;36m10000\u001b[0m\u001b[0;34m)\u001b[0m\u001b[0;34m:\u001b[0m\u001b[0;34m\u001b[0m\u001b[0;34m\u001b[0m\u001b[0m\n\u001b[1;32m      4\u001b[0m         \u001b[0;32mif\u001b[0m \u001b[0minterest\u001b[0m \u001b[0;34m<\u001b[0m \u001b[0;36m3\u001b[0m\u001b[0;34m:\u001b[0m\u001b[0;34m\u001b[0m\u001b[0;34m\u001b[0m\u001b[0m\n\u001b[0;32m----> 5\u001b[0;31m             \u001b[0;32mraise\u001b[0m \u001b[0mLowInterest\u001b[0m\u001b[0;34m(\u001b[0m\u001b[0;34m)\u001b[0m\u001b[0;34m\u001b[0m\u001b[0;34m\u001b[0m\u001b[0m\n\u001b[0m\u001b[1;32m      6\u001b[0m         \u001b[0;32melif\u001b[0m \u001b[0minterest\u001b[0m \u001b[0;34m>\u001b[0m \u001b[0;36m10\u001b[0m\u001b[0;34m:\u001b[0m\u001b[0;34m\u001b[0m\u001b[0;34m\u001b[0m\u001b[0m\n\u001b[1;32m      7\u001b[0m             \u001b[0;32mraise\u001b[0m \u001b[0mHighInterest\u001b[0m\u001b[0;34m(\u001b[0m\u001b[0;34m)\u001b[0m\u001b[0;34m\u001b[0m\u001b[0;34m\u001b[0m\u001b[0m\n",
      "\u001b[0;31mLowInterest\u001b[0m: 이자율을 3% 이상으로 설정해주세요."
     ]
    }
   ],
   "source": [
    "account1 = Account(2)"
   ]
  },
  {
   "cell_type": "code",
   "execution_count": 4,
   "metadata": {},
   "outputs": [
    {
     "ename": "HighInterest",
     "evalue": "이자율을 10% 이하로 설정해주세요.",
     "output_type": "error",
     "traceback": [
      "\u001b[0;31m---------------------------------------------------------------------------\u001b[0m",
      "\u001b[0;31mHighInterest\u001b[0m                              Traceback (most recent call last)",
      "\u001b[0;32m<ipython-input-4-fb00ec0fa9ab>\u001b[0m in \u001b[0;36m<module>\u001b[0;34m\u001b[0m\n\u001b[0;32m----> 1\u001b[0;31m \u001b[0maccount1\u001b[0m \u001b[0;34m=\u001b[0m \u001b[0mAccount\u001b[0m\u001b[0;34m(\u001b[0m\u001b[0;36m11\u001b[0m\u001b[0;34m)\u001b[0m\u001b[0;34m\u001b[0m\u001b[0;34m\u001b[0m\u001b[0m\n\u001b[0m",
      "\u001b[0;32m<ipython-input-2-b001011c357b>\u001b[0m in \u001b[0;36m__init__\u001b[0;34m(self, interest, asset)\u001b[0m\n\u001b[1;32m      5\u001b[0m             \u001b[0;32mraise\u001b[0m \u001b[0mLowInterest\u001b[0m\u001b[0;34m(\u001b[0m\u001b[0;34m)\u001b[0m\u001b[0;34m\u001b[0m\u001b[0;34m\u001b[0m\u001b[0m\n\u001b[1;32m      6\u001b[0m         \u001b[0;32melif\u001b[0m \u001b[0minterest\u001b[0m \u001b[0;34m>\u001b[0m \u001b[0;36m10\u001b[0m\u001b[0;34m:\u001b[0m\u001b[0;34m\u001b[0m\u001b[0;34m\u001b[0m\u001b[0m\n\u001b[0;32m----> 7\u001b[0;31m             \u001b[0;32mraise\u001b[0m \u001b[0mHighInterest\u001b[0m\u001b[0;34m(\u001b[0m\u001b[0;34m)\u001b[0m\u001b[0;34m\u001b[0m\u001b[0;34m\u001b[0m\u001b[0m\n\u001b[0m\u001b[1;32m      8\u001b[0m         \u001b[0;32melse\u001b[0m\u001b[0;34m:\u001b[0m\u001b[0;34m\u001b[0m\u001b[0;34m\u001b[0m\u001b[0m\n\u001b[1;32m      9\u001b[0m             \u001b[0mself\u001b[0m\u001b[0;34m.\u001b[0m\u001b[0minterest\u001b[0m \u001b[0;34m=\u001b[0m \u001b[0minterest\u001b[0m \u001b[0;34m/\u001b[0m \u001b[0;36m100\u001b[0m \u001b[0;34m+\u001b[0m \u001b[0;36m1\u001b[0m\u001b[0;34m\u001b[0m\u001b[0;34m\u001b[0m\u001b[0m\n",
      "\u001b[0;31mHighInterest\u001b[0m: 이자율을 10% 이하로 설정해주세요."
     ]
    }
   ],
   "source": [
    "account1 = Account(11)"
   ]
  },
  {
   "cell_type": "code",
   "execution_count": 5,
   "metadata": {
    "slideshow": {
     "slide_type": "skip"
    }
   },
   "outputs": [
    {
     "name": "stdout",
     "output_type": "stream",
     "text": [
      "이자율을 10% 이하로 설정해주세요.\n"
     ]
    }
   ],
   "source": [
    "try:\n",
    "    account1 = Account(15)\n",
    "except Exception as e:\n",
    "    print(e)"
   ]
  },
  {
   "cell_type": "code",
   "execution_count": 6,
   "metadata": {
    "slideshow": {
     "slide_type": "skip"
    }
   },
   "outputs": [
    {
     "data": {
      "text/plain": [
       "'계좌에 설정된 이자율은 7.0% 입니다'"
      ]
     },
     "execution_count": 6,
     "metadata": {},
     "output_type": "execute_result"
    }
   ],
   "source": [
    "account1 = Account(7)\n",
    "account1.disp()"
   ]
  },
  {
   "cell_type": "markdown",
   "metadata": {
    "slideshow": {
     "slide_type": "slide"
    }
   },
   "source": [
    "#### Quiz 3\n",
    "- 아래와 같이 데이터 프레임을 만드세요.\n",
    "- Column\n",
    "    - line(공장라인) : line1, line2, line3 중 하나의 데이터를 랜덤하게 저장\n",
    "    - good(양품) : 100 ~ 200 중 랜덤한 정수\n",
    "    - bad(불량) : 0 ~ 100 중 랜덤한 정수\n",
    "    - date(날짜) : 1 ~ 5 중 랜던한 정수\n",
    "- Row 데이터 : 10개"
   ]
  },
  {
   "cell_type": "code",
   "execution_count": 7,
   "metadata": {},
   "outputs": [
    {
     "data": {
      "text/html": [
       "<div>\n",
       "<style scoped>\n",
       "    .dataframe tbody tr th:only-of-type {\n",
       "        vertical-align: middle;\n",
       "    }\n",
       "\n",
       "    .dataframe tbody tr th {\n",
       "        vertical-align: top;\n",
       "    }\n",
       "\n",
       "    .dataframe thead th {\n",
       "        text-align: right;\n",
       "    }\n",
       "</style>\n",
       "<table border=\"1\" class=\"dataframe\">\n",
       "  <thead>\n",
       "    <tr style=\"text-align: right;\">\n",
       "      <th></th>\n",
       "      <th>line</th>\n",
       "      <th>good</th>\n",
       "      <th>bad</th>\n",
       "      <th>date</th>\n",
       "    </tr>\n",
       "  </thead>\n",
       "  <tbody>\n",
       "    <tr>\n",
       "      <th>0</th>\n",
       "      <td>line3</td>\n",
       "      <td>168</td>\n",
       "      <td>32</td>\n",
       "      <td>1</td>\n",
       "    </tr>\n",
       "    <tr>\n",
       "      <th>1</th>\n",
       "      <td>line2</td>\n",
       "      <td>116</td>\n",
       "      <td>41</td>\n",
       "      <td>4</td>\n",
       "    </tr>\n",
       "    <tr>\n",
       "      <th>2</th>\n",
       "      <td>line3</td>\n",
       "      <td>151</td>\n",
       "      <td>91</td>\n",
       "      <td>2</td>\n",
       "    </tr>\n",
       "    <tr>\n",
       "      <th>3</th>\n",
       "      <td>line3</td>\n",
       "      <td>131</td>\n",
       "      <td>89</td>\n",
       "      <td>1</td>\n",
       "    </tr>\n",
       "    <tr>\n",
       "      <th>4</th>\n",
       "      <td>line1</td>\n",
       "      <td>103</td>\n",
       "      <td>11</td>\n",
       "      <td>1</td>\n",
       "    </tr>\n",
       "    <tr>\n",
       "      <th>5</th>\n",
       "      <td>line3</td>\n",
       "      <td>125</td>\n",
       "      <td>2</td>\n",
       "      <td>4</td>\n",
       "    </tr>\n",
       "    <tr>\n",
       "      <th>6</th>\n",
       "      <td>line2</td>\n",
       "      <td>162</td>\n",
       "      <td>58</td>\n",
       "      <td>5</td>\n",
       "    </tr>\n",
       "    <tr>\n",
       "      <th>7</th>\n",
       "      <td>line2</td>\n",
       "      <td>144</td>\n",
       "      <td>21</td>\n",
       "      <td>4</td>\n",
       "    </tr>\n",
       "    <tr>\n",
       "      <th>8</th>\n",
       "      <td>line1</td>\n",
       "      <td>155</td>\n",
       "      <td>51</td>\n",
       "      <td>2</td>\n",
       "    </tr>\n",
       "    <tr>\n",
       "      <th>9</th>\n",
       "      <td>line3</td>\n",
       "      <td>140</td>\n",
       "      <td>82</td>\n",
       "      <td>5</td>\n",
       "    </tr>\n",
       "  </tbody>\n",
       "</table>\n",
       "</div>"
      ],
      "text/plain": [
       "    line  good  bad  date\n",
       "0  line3   168   32     1\n",
       "1  line2   116   41     4\n",
       "2  line3   151   91     2\n",
       "3  line3   131   89     1\n",
       "4  line1   103   11     1\n",
       "5  line3   125    2     4\n",
       "6  line2   162   58     5\n",
       "7  line2   144   21     4\n",
       "8  line1   155   51     2\n",
       "9  line3   140   82     5"
      ]
     },
     "execution_count": 7,
     "metadata": {},
     "output_type": "execute_result"
    }
   ],
   "source": [
    "datas = []\n",
    "\n",
    "for idx in range(10):\n",
    "    datas.append(\n",
    "        { \"line\": \"line{}\".format(np.random.randint(1, 4)),\n",
    "          \"good\": np.random.randint(100, 201),\n",
    "          \"bad\": np.random.randint(101),\n",
    "          \"date\": np.random.randint(1, 6),\n",
    "        }\n",
    "    )\n",
    "\n",
    "df = pd.DataFrame(datas)\n",
    "df"
   ]
  },
  {
   "cell_type": "markdown",
   "metadata": {
    "slideshow": {
     "slide_type": "slide"
    }
   },
   "source": [
    "#### Quiz 4\n",
    "- 위의 데이터 프레임에서 전체 양품수, 전체 불량수, 불량률을 소수 둘째 자리까지 출력하세요."
   ]
  },
  {
   "cell_type": "code",
   "execution_count": 8,
   "metadata": {},
   "outputs": [
    {
     "name": "stdout",
     "output_type": "stream",
     "text": [
      "전체 양품수 : 1873, 전체 불량수 : 478\n",
      "전체 불량률 : 25.52 %\n"
     ]
    }
   ],
   "source": [
    "total_items = sum(df[\"good\"]) + sum(df[\"bad\"])\n",
    "bad_items = sum(df[\"bad\"])\n",
    "\n",
    "bad_rate = bad_items / total_items\n",
    "bad_rate = round(bad_rate*100, 2)\n",
    "\n",
    "print(\"전체 양품수 : {}, 전체 불량수 : {}\".format(total_items, bad_items))\n",
    "print(\"전체 불량률 : {} %\".format(bad_rate))"
   ]
  },
  {
   "cell_type": "markdown",
   "metadata": {
    "slideshow": {
     "slide_type": "slide"
    }
   },
   "source": [
    "#### Quiz 5\n",
    "- 생산라인별 전체 good(양품), bad(불량) 수를 데이터 프레임으로 출력하세요.\n",
    "- groupby 사용"
   ]
  },
  {
   "cell_type": "code",
   "execution_count": 9,
   "metadata": {},
   "outputs": [
    {
     "data": {
      "text/html": [
       "<div>\n",
       "<style scoped>\n",
       "    .dataframe tbody tr th:only-of-type {\n",
       "        vertical-align: middle;\n",
       "    }\n",
       "\n",
       "    .dataframe tbody tr th {\n",
       "        vertical-align: top;\n",
       "    }\n",
       "\n",
       "    .dataframe thead th {\n",
       "        text-align: right;\n",
       "    }\n",
       "</style>\n",
       "<table border=\"1\" class=\"dataframe\">\n",
       "  <thead>\n",
       "    <tr style=\"text-align: right;\">\n",
       "      <th></th>\n",
       "      <th>line</th>\n",
       "      <th>good</th>\n",
       "      <th>bad</th>\n",
       "    </tr>\n",
       "  </thead>\n",
       "  <tbody>\n",
       "    <tr>\n",
       "      <th>0</th>\n",
       "      <td>line1</td>\n",
       "      <td>258</td>\n",
       "      <td>62</td>\n",
       "    </tr>\n",
       "    <tr>\n",
       "      <th>1</th>\n",
       "      <td>line2</td>\n",
       "      <td>422</td>\n",
       "      <td>120</td>\n",
       "    </tr>\n",
       "    <tr>\n",
       "      <th>2</th>\n",
       "      <td>line3</td>\n",
       "      <td>715</td>\n",
       "      <td>296</td>\n",
       "    </tr>\n",
       "  </tbody>\n",
       "</table>\n",
       "</div>"
      ],
      "text/plain": [
       "    line  good  bad\n",
       "0  line1   258   62\n",
       "1  line2   422  120\n",
       "2  line3   715  296"
      ]
     },
     "execution_count": 9,
     "metadata": {},
     "output_type": "execute_result"
    }
   ],
   "source": [
    "line_df = df.groupby(\"line\").sum().reset_index()\n",
    "line_df[[\"line\", \"good\", \"bad\"]]"
   ]
  },
  {
   "cell_type": "markdown",
   "metadata": {
    "slideshow": {
     "slide_type": "slide"
    }
   },
   "source": [
    "#### Quiz 6\n",
    "- 생산 라인별 불량률을 출력하세요."
   ]
  },
  {
   "cell_type": "code",
   "execution_count": 10,
   "metadata": {},
   "outputs": [
    {
     "data": {
      "text/html": [
       "<div>\n",
       "<style scoped>\n",
       "    .dataframe tbody tr th:only-of-type {\n",
       "        vertical-align: middle;\n",
       "    }\n",
       "\n",
       "    .dataframe tbody tr th {\n",
       "        vertical-align: top;\n",
       "    }\n",
       "\n",
       "    .dataframe thead th {\n",
       "        text-align: right;\n",
       "    }\n",
       "</style>\n",
       "<table border=\"1\" class=\"dataframe\">\n",
       "  <thead>\n",
       "    <tr style=\"text-align: right;\">\n",
       "      <th></th>\n",
       "      <th>line</th>\n",
       "      <th>good</th>\n",
       "      <th>bad</th>\n",
       "      <th>date</th>\n",
       "      <th>bad_rate</th>\n",
       "    </tr>\n",
       "  </thead>\n",
       "  <tbody>\n",
       "    <tr>\n",
       "      <th>0</th>\n",
       "      <td>line1</td>\n",
       "      <td>258</td>\n",
       "      <td>62</td>\n",
       "      <td>3</td>\n",
       "      <td>19.38</td>\n",
       "    </tr>\n",
       "    <tr>\n",
       "      <th>1</th>\n",
       "      <td>line2</td>\n",
       "      <td>422</td>\n",
       "      <td>120</td>\n",
       "      <td>13</td>\n",
       "      <td>22.14</td>\n",
       "    </tr>\n",
       "    <tr>\n",
       "      <th>2</th>\n",
       "      <td>line3</td>\n",
       "      <td>715</td>\n",
       "      <td>296</td>\n",
       "      <td>13</td>\n",
       "      <td>29.28</td>\n",
       "    </tr>\n",
       "  </tbody>\n",
       "</table>\n",
       "</div>"
      ],
      "text/plain": [
       "    line  good  bad  date  bad_rate\n",
       "0  line1   258   62     3     19.38\n",
       "1  line2   422  120    13     22.14\n",
       "2  line3   715  296    13     29.28"
      ]
     },
     "execution_count": 10,
     "metadata": {},
     "output_type": "execute_result"
    }
   ],
   "source": [
    "line_df[\"bad_rate\"] = round( (line_df[\"bad\"] / (line_df[\"good\"] + line_df[\"bad\"])) * 100, 2)\n",
    "line_df"
   ]
  },
  {
   "cell_type": "markdown",
   "metadata": {
    "slideshow": {
     "slide_type": "slide"
    }
   },
   "source": [
    "#### Quiz 7\n",
    "- 날짜별 전체 good(양품), bad(불량) 수를 데이터 프레임으로 출력하세요.\n",
    "- groupby 사용"
   ]
  },
  {
   "cell_type": "code",
   "execution_count": 11,
   "metadata": {},
   "outputs": [
    {
     "data": {
      "text/html": [
       "<div>\n",
       "<style scoped>\n",
       "    .dataframe tbody tr th:only-of-type {\n",
       "        vertical-align: middle;\n",
       "    }\n",
       "\n",
       "    .dataframe tbody tr th {\n",
       "        vertical-align: top;\n",
       "    }\n",
       "\n",
       "    .dataframe thead th {\n",
       "        text-align: right;\n",
       "    }\n",
       "</style>\n",
       "<table border=\"1\" class=\"dataframe\">\n",
       "  <thead>\n",
       "    <tr style=\"text-align: right;\">\n",
       "      <th></th>\n",
       "      <th>date</th>\n",
       "      <th>good</th>\n",
       "      <th>bad</th>\n",
       "    </tr>\n",
       "  </thead>\n",
       "  <tbody>\n",
       "    <tr>\n",
       "      <th>0</th>\n",
       "      <td>1</td>\n",
       "      <td>402</td>\n",
       "      <td>132</td>\n",
       "    </tr>\n",
       "    <tr>\n",
       "      <th>1</th>\n",
       "      <td>2</td>\n",
       "      <td>306</td>\n",
       "      <td>142</td>\n",
       "    </tr>\n",
       "    <tr>\n",
       "      <th>2</th>\n",
       "      <td>4</td>\n",
       "      <td>385</td>\n",
       "      <td>64</td>\n",
       "    </tr>\n",
       "    <tr>\n",
       "      <th>3</th>\n",
       "      <td>5</td>\n",
       "      <td>302</td>\n",
       "      <td>140</td>\n",
       "    </tr>\n",
       "  </tbody>\n",
       "</table>\n",
       "</div>"
      ],
      "text/plain": [
       "   date  good  bad\n",
       "0     1   402  132\n",
       "1     2   306  142\n",
       "2     4   385   64\n",
       "3     5   302  140"
      ]
     },
     "execution_count": 11,
     "metadata": {},
     "output_type": "execute_result"
    }
   ],
   "source": [
    "date_df = df.groupby(\"date\").sum().reset_index()\n",
    "date_df[[\"date\", \"good\", \"bad\"]]"
   ]
  },
  {
   "cell_type": "markdown",
   "metadata": {
    "slideshow": {
     "slide_type": "slide"
    }
   },
   "source": [
    "#### Quiz 8\n",
    "- 날짜별 불량률을 출력하세요."
   ]
  },
  {
   "cell_type": "code",
   "execution_count": 12,
   "metadata": {},
   "outputs": [
    {
     "data": {
      "text/html": [
       "<div>\n",
       "<style scoped>\n",
       "    .dataframe tbody tr th:only-of-type {\n",
       "        vertical-align: middle;\n",
       "    }\n",
       "\n",
       "    .dataframe tbody tr th {\n",
       "        vertical-align: top;\n",
       "    }\n",
       "\n",
       "    .dataframe thead th {\n",
       "        text-align: right;\n",
       "    }\n",
       "</style>\n",
       "<table border=\"1\" class=\"dataframe\">\n",
       "  <thead>\n",
       "    <tr style=\"text-align: right;\">\n",
       "      <th></th>\n",
       "      <th>date</th>\n",
       "      <th>good</th>\n",
       "      <th>bad</th>\n",
       "      <th>bad_rate</th>\n",
       "    </tr>\n",
       "  </thead>\n",
       "  <tbody>\n",
       "    <tr>\n",
       "      <th>0</th>\n",
       "      <td>1</td>\n",
       "      <td>402</td>\n",
       "      <td>132</td>\n",
       "      <td>24.72</td>\n",
       "    </tr>\n",
       "    <tr>\n",
       "      <th>1</th>\n",
       "      <td>2</td>\n",
       "      <td>306</td>\n",
       "      <td>142</td>\n",
       "      <td>31.70</td>\n",
       "    </tr>\n",
       "    <tr>\n",
       "      <th>2</th>\n",
       "      <td>4</td>\n",
       "      <td>385</td>\n",
       "      <td>64</td>\n",
       "      <td>14.25</td>\n",
       "    </tr>\n",
       "    <tr>\n",
       "      <th>3</th>\n",
       "      <td>5</td>\n",
       "      <td>302</td>\n",
       "      <td>140</td>\n",
       "      <td>31.67</td>\n",
       "    </tr>\n",
       "  </tbody>\n",
       "</table>\n",
       "</div>"
      ],
      "text/plain": [
       "   date  good  bad  bad_rate\n",
       "0     1   402  132     24.72\n",
       "1     2   306  142     31.70\n",
       "2     4   385   64     14.25\n",
       "3     5   302  140     31.67"
      ]
     },
     "execution_count": 12,
     "metadata": {},
     "output_type": "execute_result"
    }
   ],
   "source": [
    "date_df[\"bad_rate\"] = round( (date_df[\"bad\"] / (date_df[\"good\"] + date_df[\"bad\"])) * 100, 2)\n",
    "date_df"
   ]
  },
  {
   "cell_type": "markdown",
   "metadata": {
    "slideshow": {
     "slide_type": "slide"
    }
   },
   "source": [
    "#### Quiz 9\n",
    "- 아래의 데이터를 pivot_table을 이용하여 출력하세요.\n",
    "    - 라인별, 날짜별, 양품수\n",
    "    - 라인별, 날짜별, 불량수\n",
    "    - 라인별, 날짜별, 불량률\n",
    "- NaN 데이터는 0으로 변경하세요.\n",
    "- pivot_table, fillna 사용"
   ]
  },
  {
   "cell_type": "code",
   "execution_count": 13,
   "metadata": {},
   "outputs": [
    {
     "data": {
      "text/html": [
       "<div>\n",
       "<style scoped>\n",
       "    .dataframe tbody tr th:only-of-type {\n",
       "        vertical-align: middle;\n",
       "    }\n",
       "\n",
       "    .dataframe tbody tr th {\n",
       "        vertical-align: top;\n",
       "    }\n",
       "\n",
       "    .dataframe thead th {\n",
       "        text-align: right;\n",
       "    }\n",
       "</style>\n",
       "<table border=\"1\" class=\"dataframe\">\n",
       "  <thead>\n",
       "    <tr style=\"text-align: right;\">\n",
       "      <th></th>\n",
       "      <th>1</th>\n",
       "      <th>2</th>\n",
       "      <th>4</th>\n",
       "      <th>5</th>\n",
       "    </tr>\n",
       "  </thead>\n",
       "  <tbody>\n",
       "    <tr>\n",
       "      <th>line1</th>\n",
       "      <td>103.0</td>\n",
       "      <td>155.0</td>\n",
       "      <td>0.0</td>\n",
       "      <td>0.0</td>\n",
       "    </tr>\n",
       "    <tr>\n",
       "      <th>line2</th>\n",
       "      <td>0.0</td>\n",
       "      <td>0.0</td>\n",
       "      <td>260.0</td>\n",
       "      <td>162.0</td>\n",
       "    </tr>\n",
       "    <tr>\n",
       "      <th>line3</th>\n",
       "      <td>299.0</td>\n",
       "      <td>151.0</td>\n",
       "      <td>125.0</td>\n",
       "      <td>140.0</td>\n",
       "    </tr>\n",
       "  </tbody>\n",
       "</table>\n",
       "</div>"
      ],
      "text/plain": [
       "           1      2      4      5\n",
       "line1  103.0  155.0    0.0    0.0\n",
       "line2    0.0    0.0  260.0  162.0\n",
       "line3  299.0  151.0  125.0  140.0"
      ]
     },
     "execution_count": 13,
     "metadata": {},
     "output_type": "execute_result"
    }
   ],
   "source": [
    "# 라인별, 날짜별, 양품수\n",
    "pivot_df_1 = df.pivot_table(\"good\", \"line\", \"date\", aggfunc=\"sum\")\n",
    "pivot_df_1 = pd.DataFrame(pivot_df_1.values, list(pivot_df_1.index), list(pivot_df_1.columns))\n",
    "pivot_df_1.fillna(0, inplace=True)\n",
    "pivot_df_1"
   ]
  },
  {
   "cell_type": "code",
   "execution_count": 14,
   "metadata": {
    "slideshow": {
     "slide_type": "slide"
    }
   },
   "outputs": [
    {
     "data": {
      "text/html": [
       "<div>\n",
       "<style scoped>\n",
       "    .dataframe tbody tr th:only-of-type {\n",
       "        vertical-align: middle;\n",
       "    }\n",
       "\n",
       "    .dataframe tbody tr th {\n",
       "        vertical-align: top;\n",
       "    }\n",
       "\n",
       "    .dataframe thead th {\n",
       "        text-align: right;\n",
       "    }\n",
       "</style>\n",
       "<table border=\"1\" class=\"dataframe\">\n",
       "  <thead>\n",
       "    <tr style=\"text-align: right;\">\n",
       "      <th></th>\n",
       "      <th>1</th>\n",
       "      <th>2</th>\n",
       "      <th>4</th>\n",
       "      <th>5</th>\n",
       "    </tr>\n",
       "  </thead>\n",
       "  <tbody>\n",
       "    <tr>\n",
       "      <th>line1</th>\n",
       "      <td>11.0</td>\n",
       "      <td>51.0</td>\n",
       "      <td>0.0</td>\n",
       "      <td>0.0</td>\n",
       "    </tr>\n",
       "    <tr>\n",
       "      <th>line2</th>\n",
       "      <td>0.0</td>\n",
       "      <td>0.0</td>\n",
       "      <td>62.0</td>\n",
       "      <td>58.0</td>\n",
       "    </tr>\n",
       "    <tr>\n",
       "      <th>line3</th>\n",
       "      <td>121.0</td>\n",
       "      <td>91.0</td>\n",
       "      <td>2.0</td>\n",
       "      <td>82.0</td>\n",
       "    </tr>\n",
       "  </tbody>\n",
       "</table>\n",
       "</div>"
      ],
      "text/plain": [
       "           1     2     4     5\n",
       "line1   11.0  51.0   0.0   0.0\n",
       "line2    0.0   0.0  62.0  58.0\n",
       "line3  121.0  91.0   2.0  82.0"
      ]
     },
     "execution_count": 14,
     "metadata": {},
     "output_type": "execute_result"
    }
   ],
   "source": [
    "# 라인별, 날짜별, 불량수\n",
    "pivot_df_2 = df.pivot_table(\"bad\", \"line\", \"date\", aggfunc=\"sum\")\n",
    "pivot_df_2 = pd.DataFrame(pivot_df_2.values, list(pivot_df_2.index), list(pivot_df_2.columns))\n",
    "pivot_df_2.fillna(0, inplace=True)\n",
    "pivot_df_2"
   ]
  },
  {
   "cell_type": "code",
   "execution_count": 15,
   "metadata": {},
   "outputs": [
    {
     "data": {
      "text/html": [
       "<div>\n",
       "<style scoped>\n",
       "    .dataframe tbody tr th:only-of-type {\n",
       "        vertical-align: middle;\n",
       "    }\n",
       "\n",
       "    .dataframe tbody tr th {\n",
       "        vertical-align: top;\n",
       "    }\n",
       "\n",
       "    .dataframe thead th {\n",
       "        text-align: right;\n",
       "    }\n",
       "</style>\n",
       "<table border=\"1\" class=\"dataframe\">\n",
       "  <thead>\n",
       "    <tr style=\"text-align: right;\">\n",
       "      <th></th>\n",
       "      <th>1</th>\n",
       "      <th>2</th>\n",
       "      <th>4</th>\n",
       "      <th>5</th>\n",
       "    </tr>\n",
       "  </thead>\n",
       "  <tbody>\n",
       "    <tr>\n",
       "      <th>line1</th>\n",
       "      <td>9.65</td>\n",
       "      <td>24.76</td>\n",
       "      <td>0.00</td>\n",
       "      <td>0.00</td>\n",
       "    </tr>\n",
       "    <tr>\n",
       "      <th>line2</th>\n",
       "      <td>0.00</td>\n",
       "      <td>0.00</td>\n",
       "      <td>19.25</td>\n",
       "      <td>26.36</td>\n",
       "    </tr>\n",
       "    <tr>\n",
       "      <th>line3</th>\n",
       "      <td>28.81</td>\n",
       "      <td>37.60</td>\n",
       "      <td>1.57</td>\n",
       "      <td>36.94</td>\n",
       "    </tr>\n",
       "  </tbody>\n",
       "</table>\n",
       "</div>"
      ],
      "text/plain": [
       "           1      2      4      5\n",
       "line1   9.65  24.76   0.00   0.00\n",
       "line2   0.00   0.00  19.25  26.36\n",
       "line3  28.81  37.60   1.57  36.94"
      ]
     },
     "execution_count": 15,
     "metadata": {},
     "output_type": "execute_result"
    }
   ],
   "source": [
    "# 라인별, 날짜별, 불량률\n",
    "pivot_df_3 = round((pivot_df_2 / (pivot_df_1 + pivot_df_2)) * 100, 2)\n",
    "pivot_df_3.fillna(0, inplace=True)\n",
    "pivot_df_3"
   ]
  }
 ],
 "metadata": {
  "kernelspec": {
   "display_name": "Python 3",
   "language": "python",
   "name": "python3"
  },
  "language_info": {
   "codemirror_mode": {
    "name": "ipython",
    "version": 3
   },
   "file_extension": ".py",
   "mimetype": "text/x-python",
   "name": "python",
   "nbconvert_exporter": "python",
   "pygments_lexer": "ipython3",
   "version": "3.7.7"
  },
  "toc": {
   "base_numbering": 1,
   "nav_menu": {},
   "number_sections": true,
   "sideBar": true,
   "skip_h1_title": false,
   "title_cell": "Table of Contents",
   "title_sidebar": "Contents",
   "toc_cell": false,
   "toc_position": {},
   "toc_section_display": true,
   "toc_window_display": false
  },
  "varInspector": {
   "cols": {
    "lenName": 16,
    "lenType": 16,
    "lenVar": 40
   },
   "kernels_config": {
    "python": {
     "delete_cmd_postfix": "",
     "delete_cmd_prefix": "del ",
     "library": "var_list.py",
     "varRefreshCmd": "print(var_dic_list())"
    },
    "r": {
     "delete_cmd_postfix": ") ",
     "delete_cmd_prefix": "rm(",
     "library": "var_list.r",
     "varRefreshCmd": "cat(var_dic_list()) "
    }
   },
   "types_to_exclude": [
    "module",
    "function",
    "builtin_function_or_method",
    "instance",
    "_Feature"
   ],
   "window_display": false
  }
 },
 "nbformat": 4,
 "nbformat_minor": 4
}
