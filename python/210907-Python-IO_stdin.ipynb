{
 "cells": [
  {
   "cell_type": "markdown",
   "metadata": {
    "id": "7KaEFFwmaz9f"
   },
   "source": [
    "# 5. I/O (Input / Output) "
   ]
  },
  {
   "cell_type": "markdown",
   "metadata": {
    "id": "WyMfCdGSaz9n"
   },
   "source": [
    "## I/O란?\n",
    "\n",
    "\n",
    "- 프로그램 입장에서 들어오는 모든 데이터를 input, 나가는 모든 데이터를 output이라고 한다.\n",
    "> 메인 메모리 입장에서 생각하는 들어오고 나가는 모든 데이터에 대해서 I/O 처리라고 부릅니다. (단, CPU와의 소통은 제외)\n",
    "\n",
    "\n",
    "- 사용자로 부터 키보드로 입력받는 것을 stdin이라고 하며, 사용자에게 다시 모니터로 출력되는 것을 stdout이라고 한다.\n",
    "\n",
    "> 통상적으로는 Unix 환경(터미널 환경)에서 부르던 용어인데, 프로그래밍에 자주 등장하기 때문에 소개한다.\n",
    "\n",
    "\n",
    "- 프로그램은 메인 메모리 상에 존재하기 때문에, 스토리지로부터 파일을 불러오는 것도 input이고, 프로그램의 결과를 스토리지에 저장하는 것도 output이다. 이러한 작업을 file I/O로 통칭한다.\n",
    "> 스토리지와 프로그램 사이의 I/O를 file I/O라고 합니다.\n",
    "\n",
    "\n",
    "- 파이썬에서 stdin/out을 사용하는 방법과 file I/O를 사용하는 방법에 대해 간단하게 알아본다."
   ]
  },
  {
   "cell_type": "markdown",
   "metadata": {
    "id": "Ob-m8XQbaz9o"
   },
   "source": [
    "## 5.1 STDIN / STDOUT (Standard IN, Standard OUT)"
   ]
  },
  {
   "cell_type": "markdown",
   "metadata": {
    "id": "I9B1Br_0az9o"
   },
   "source": [
    "- 파이썬은 input()을 통해서 stdin을 사용자로부터 입력받을 수 있다.\n",
    "\n",
    "\n",
    "- 파이썬은 print()를 통해서 stdout을 사용자에게 출력할 수 있다."
   ]
  },
  {
   "cell_type": "code",
   "execution_count": 1,
   "metadata": {
    "ExecuteTime": {
     "end_time": "2021-09-07T05:11:26.814979Z",
     "start_time": "2021-09-07T05:11:25.349865Z"
    },
    "id": "NcHNtr58az9p"
   },
   "outputs": [
    {
     "name": "stdout",
     "output_type": "stream",
     "text": [
      "2\n"
     ]
    },
    {
     "data": {
      "text/plain": [
       "('2', str)"
      ]
     },
     "execution_count": 1,
     "metadata": {},
     "output_type": "execute_result"
    }
   ],
   "source": [
    "# a에 키보드로 입력받은 값을 할당하고 출력해본다.\n",
    "a = input()\n",
    "a, type(a)"
   ]
  },
  {
   "cell_type": "markdown",
   "metadata": {
    "id": "-9bkJP0haz9q"
   },
   "source": [
    "- 파이썬에서는 stdin은 무조건 문자열 타입으로 들어온다. 이를 type casting을 통해서 다른 데이터 타입으로 바꾸어 사용해야 한다."
   ]
  },
  {
   "cell_type": "code",
   "execution_count": 2,
   "metadata": {
    "ExecuteTime": {
     "end_time": "2021-09-07T05:11:38.294225Z",
     "start_time": "2021-09-07T05:11:37.683317Z"
    },
    "id": "Kre90bwsaz9r"
   },
   "outputs": [
    {
     "name": "stdout",
     "output_type": "stream",
     "text": [
      "숫자를 입력하세요 : 3\n"
     ]
    },
    {
     "data": {
      "text/plain": [
       "(3, int)"
      ]
     },
     "execution_count": 2,
     "metadata": {},
     "output_type": "execute_result"
    }
   ],
   "source": [
    "# 입력받는 값을 숫자라고 가정한 경우.\n",
    "a = int(input(\"숫자를 입력하세요 : \")) # type casting, (명시적)타입 변환\n",
    "a, type(a)"
   ]
  },
  {
   "cell_type": "code",
   "execution_count": 3,
   "metadata": {
    "ExecuteTime": {
     "end_time": "2021-09-07T05:11:46.674418Z",
     "start_time": "2021-09-07T05:11:46.670754Z"
    },
    "id": "8iinAvVAaz9r"
   },
   "outputs": [
    {
     "data": {
      "text/plain": [
       "8"
      ]
     },
     "execution_count": 3,
     "metadata": {},
     "output_type": "execute_result"
    }
   ],
   "source": [
    "# 입력받는 값을 숫자라고 가정했는데 문자열이 들어오면 에러가 난다. 이 경우는 type casting이 실패한 경우이다.\n",
    "a + 5"
   ]
  },
  {
   "cell_type": "markdown",
   "metadata": {
    "id": "6eZWUq_Daz9r"
   },
   "source": [
    "- 입력이 문자열이기 때문에 fancy하게 input을 처리할 수 있는 방법이 있다."
   ]
  },
  {
   "cell_type": "markdown",
   "metadata": {
    "id": "XDI8URO8az9s"
   },
   "source": [
    "#### Q. 만약에 stdin으로 여러 개의 숫자가 들어오는 경우, 입력의 format을 알고 있다고 가정했을 때, 이를 효과적으로 처리할 수 있을까?"
   ]
  },
  {
   "cell_type": "code",
   "execution_count": 7,
   "metadata": {
    "ExecuteTime": {
     "end_time": "2021-09-07T05:12:33.745037Z",
     "start_time": "2021-09-07T05:12:32.393123Z"
    },
    "id": "sg0e_5H5az9s"
   },
   "outputs": [
    {
     "name": "stdout",
     "output_type": "stream",
     "text": [
      "3,4\n",
      "3 4 <class 'int'> <class 'int'>\n"
     ]
    }
   ],
   "source": [
    "# 이는 숫자를 2개로 가정한 경우\n",
    "s = input()\n",
    "a = int(s.split(',')[0])\n",
    "b = int(s.split(',')[1])\n",
    "print(a, b, type(a), type(b))"
   ]
  },
  {
   "cell_type": "code",
   "execution_count": 8,
   "metadata": {
    "ExecuteTime": {
     "end_time": "2021-09-07T05:17:13.895461Z",
     "start_time": "2021-09-07T05:17:13.890717Z"
    },
    "id": "SPAtlM66az9s"
   },
   "outputs": [
    {
     "data": {
      "text/plain": [
       "[1, 3, 5, 7, 9]"
      ]
     },
     "execution_count": 8,
     "metadata": {},
     "output_type": "execute_result"
    }
   ],
   "source": [
    "# 이와 같은 표현을 list comprehension이라고 한다.\n",
    "L = [x for x in range(1, 10) if x % 2 != 0]\n",
    "L"
   ]
  },
  {
   "cell_type": "code",
   "execution_count": 12,
   "metadata": {
    "ExecuteTime": {
     "end_time": "2021-09-07T05:18:42.423845Z",
     "start_time": "2021-09-07T05:18:36.369285Z"
    }
   },
   "outputs": [
    {
     "name": "stdout",
     "output_type": "stream",
     "text": [
      "콤마 기준으로 숫자 여러개 입력 : 2,3,1,2,3,2,4,1,2,4,5,6,7,4\n"
     ]
    },
    {
     "data": {
      "text/plain": [
       "[2, 3, 1, 2, 3, 2, 4, 1, 2, 4, 5, 6, 7, 4]"
      ]
     },
     "execution_count": 12,
     "metadata": {},
     "output_type": "execute_result"
    }
   ],
   "source": [
    "L = [int(x) for x in input(\"콤마 기준으로 숫자 여러개 입력 : \").split(',')]\n",
    "L"
   ]
  },
  {
   "cell_type": "code",
   "execution_count": 11,
   "metadata": {
    "ExecuteTime": {
     "end_time": "2021-09-07T05:18:31.282380Z",
     "start_time": "2021-09-07T05:18:31.279917Z"
    },
    "id": "SfAWJB7taz9t"
   },
   "outputs": [],
   "source": [
    "# 위의 코드는 아래와 같다. 위의 코드가 훨씬 간단한 것을 확인할 수 있다. 익숙해져서 list comprehension을 사용하도록 하자.\n",
    "L = []\n",
    "for x in input(\"콤마를 기준으로 숫자를 여러개 입력해주세요 : \").split(','):\n",
    "    x = int(x)\n",
    "    L.append(x)\n",
    "L"
   ]
  },
  {
   "cell_type": "markdown",
   "metadata": {
    "id": "DPYlwZhEaz9t"
   },
   "source": [
    "## 5.2 File I/O"
   ]
  },
  {
   "cell_type": "markdown",
   "metadata": {
    "id": "eVNcSf2iaz9t"
   },
   "source": [
    "- 파이썬에서는 open()을 이용해서 파일을 손쉽게 열 수 있다.\n",
    "\n",
    "\n",
    "- open()을 통해 파일을 열고 난뒤엔, close()를 통해서 닫아줘야 한다. ( close를 하지 않으면 jupyter가 계속해서 파일을 점유하고 있게 되어, 시스템 낭비가 일어난다. 자세한 얘기는 생략)\n",
    "\n",
    "\n",
    "- open() 함수는 다양한 옵션을 제공하지만 기본적으로는 txt파일을 여는 것을 기본으로 가정한다.\n",
    "\n",
    "\n",
    "\n",
    "- 다른 타입의 파일을 열기 위해선 다른 라이브러리들이 필요하다. \n",
    "\n",
    "e.g. csv, excel 파일을 열기 위해 pandas, csv, openpyxl 라이브러리를 사용할 수 있다.\n",
    "\n",
    "e.g. png, jpg 파일을 열기 위해 PIL, opencv 라이브러리를 사용할 수 있다.\n",
    "\n",
    "e.g. pk, pkl 파일을 열기 위해 pickle 라이브러리를 사용할 수 있다."
   ]
  },
  {
   "cell_type": "markdown",
   "metadata": {
    "id": "BGNX1KElaz9t"
   },
   "source": [
    "> 텍스트 파일을 여는 방법에는 read(), readline(), readlines(), for문을 이용한 방법이 있다. 코드를 통해 각 방법의 차이를 알아보자."
   ]
  },
  {
   "cell_type": "code",
   "execution_count": 14,
   "metadata": {
    "ExecuteTime": {
     "end_time": "2021-09-07T05:25:13.542866Z",
     "start_time": "2021-09-07T05:25:13.534739Z"
    },
    "id": "VKYHye1baz9u"
   },
   "outputs": [
    {
     "data": {
      "text/plain": [
       "'아\\n휴\\n아이구\\n아이쿠\\n아이고\\n어\\n나\\n우리\\n저희\\n따라\\n의해\\n을\\n를\\n에\\n의\\n가\\n으로\\n로\\n에게\\n뿐이다\\n의거하여\\n근거하여\\n입각하여\\n기준으로\\n예하면\\n예를 들면\\n예를 들자면'"
      ]
     },
     "execution_count": 14,
     "metadata": {},
     "output_type": "execute_result"
    }
   ],
   "source": [
    "# f.read()를 통해 data 폴더안에 있는 test.txt를 read mode로 열어봅니다.\n",
    "with open(\"/Users/ppangppang/Desktop/test.txt\",'r') as f:\n",
    "    data = f.read()\n",
    "data"
   ]
  },
  {
   "cell_type": "code",
   "execution_count": 16,
   "metadata": {
    "ExecuteTime": {
     "end_time": "2021-09-07T05:26:04.326377Z",
     "start_time": "2021-09-07T05:26:04.321642Z"
    },
    "id": "4DSliMQlaz9u"
   },
   "outputs": [
    {
     "data": {
      "text/plain": [
       "'아\\n'"
      ]
     },
     "execution_count": 16,
     "metadata": {},
     "output_type": "execute_result"
    }
   ],
   "source": [
    "# f.readline()를 통해 data 폴더안에 있는 test.txt를 read mode로 열어봅니다.\n",
    "with open(\"/Users/ppangppang/Desktop/test.txt\",'r') as f:\n",
    "    data = f.readline()\n",
    "data"
   ]
  },
  {
   "cell_type": "code",
   "execution_count": 17,
   "metadata": {
    "ExecuteTime": {
     "end_time": "2021-09-07T05:26:13.730933Z",
     "start_time": "2021-09-07T05:26:13.725886Z"
    },
    "id": "SLD_zgm4az9u"
   },
   "outputs": [
    {
     "data": {
      "text/plain": [
       "['아\\n',\n",
       " '휴\\n',\n",
       " '아이구\\n',\n",
       " '아이쿠\\n',\n",
       " '아이고\\n',\n",
       " '어\\n',\n",
       " '나\\n',\n",
       " '우리\\n',\n",
       " '저희\\n',\n",
       " '따라\\n',\n",
       " '의해\\n',\n",
       " '을\\n',\n",
       " '를\\n',\n",
       " '에\\n',\n",
       " '의\\n',\n",
       " '가\\n',\n",
       " '으로\\n',\n",
       " '로\\n',\n",
       " '에게\\n',\n",
       " '뿐이다\\n',\n",
       " '의거하여\\n',\n",
       " '근거하여\\n',\n",
       " '입각하여\\n',\n",
       " '기준으로\\n',\n",
       " '예하면\\n',\n",
       " '예를 들면\\n',\n",
       " '예를 들자면']"
      ]
     },
     "execution_count": 17,
     "metadata": {},
     "output_type": "execute_result"
    }
   ],
   "source": [
    "# f.readlines()를 통해 data 폴더안에 있는 test.txt를 read mode로 열어봅니다.\n",
    "with open(\"/Users/ppangppang/Desktop/test.txt\",'r') as f:\n",
    "    data = f.readlines()\n",
    "data"
   ]
  },
  {
   "cell_type": "code",
   "execution_count": 18,
   "metadata": {
    "ExecuteTime": {
     "end_time": "2021-09-07T05:29:23.180574Z",
     "start_time": "2021-09-07T05:29:23.174615Z"
    },
    "id": "WEP8wGLoaz9u"
   },
   "outputs": [
    {
     "name": "stdout",
     "output_type": "stream",
     "text": [
      "아\n",
      "\n",
      "휴\n",
      "\n",
      "아이구\n",
      "\n",
      "아이쿠\n",
      "\n",
      "아이고\n",
      "\n",
      "어\n",
      "\n",
      "나\n",
      "\n",
      "우리\n",
      "\n",
      "저희\n",
      "\n",
      "따라\n",
      "\n",
      "의해\n",
      "\n",
      "을\n",
      "\n",
      "를\n",
      "\n",
      "에\n",
      "\n",
      "의\n",
      "\n",
      "가\n",
      "\n",
      "으로\n",
      "\n",
      "로\n",
      "\n",
      "에게\n",
      "\n",
      "뿐이다\n",
      "\n",
      "의거하여\n",
      "\n",
      "근거하여\n",
      "\n",
      "입각하여\n",
      "\n",
      "기준으로\n",
      "\n",
      "예하면\n",
      "\n",
      "예를 들면\n",
      "\n",
      "예를 들자면\n"
     ]
    }
   ],
   "source": [
    "# for문을 통해 data 폴더안에 있는 test.txt를 read mode로 열어서 출력해봅니다.\n",
    "with open(\"/Users/ppangppang/Desktop/test.txt\",'r') as f:\n",
    "    for line in f:\n",
    "        print(line)"
   ]
  },
  {
   "cell_type": "markdown",
   "metadata": {
    "id": "RJ7dLzyeaz9v"
   },
   "source": [
    "#### Q. test.txt를 열어서 한글자짜리를 다 지우고 다시 저장하고 싶다. 어떻게 해야할까?"
   ]
  },
  {
   "cell_type": "code",
   "execution_count": 26,
   "metadata": {
    "ExecuteTime": {
     "end_time": "2021-09-07T05:34:08.509284Z",
     "start_time": "2021-09-07T05:34:08.502563Z"
    },
    "id": "fP0xhI0Caz9v"
   },
   "outputs": [],
   "source": [
    "output = []\n",
    "# test.txt를 read mode로 열고 할 일이 끝나면 자동으로 닫는다.\n",
    "with open(\"/Users/ppangppang/Desktop/test.txt\",'r') as f:\n",
    "    for line in f:\n",
    "        line = line.strip()\n",
    "        if len(line) > 1:\n",
    "            output.append(line)\n",
    "output\n",
    "# 한글자 이상인 텍스트만 output list에 저장한다.\n",
    "\n",
    "\n",
    "# result.txt로 output list에 있는 내용을 저장하기 위해 write mode로 열었다.\n",
    "with open(\"/Users/ppangppang/Desktop/test.txt\",'w') as f:\n",
    "    for line in output:\n",
    "        print(line, file=f)"
   ]
  },
  {
   "cell_type": "code",
   "execution_count": 27,
   "metadata": {
    "ExecuteTime": {
     "end_time": "2021-09-07T05:34:30.495776Z",
     "start_time": "2021-09-07T05:34:30.491490Z"
    },
    "id": "WT40gJ8Naz9v"
   },
   "outputs": [
    {
     "name": "stdout",
     "output_type": "stream",
     "text": [
      "아이구\n",
      "\n",
      "아이쿠\n",
      "\n",
      "아이고\n",
      "\n",
      "우리\n",
      "\n",
      "저희\n",
      "\n",
      "따라\n",
      "\n",
      "의해\n",
      "\n",
      "으로\n",
      "\n",
      "에게\n",
      "\n",
      "뿐이다\n",
      "\n",
      "의거하여\n",
      "\n",
      "근거하여\n",
      "\n",
      "입각하여\n",
      "\n",
      "기준으로\n",
      "\n",
      "예하면\n",
      "\n",
      "예를 들면\n",
      "\n",
      "예를 들자면\n",
      "\n"
     ]
    }
   ],
   "source": [
    "# 제대로 데이터가 저장되어 있는지, 불러와서 확인한다.\n",
    "with open(\"/Users/ppangppang/Desktop/test.txt\",'r') as f:\n",
    "    for line in f:\n",
    "        print(line)"
   ]
  },
  {
   "cell_type": "markdown",
   "metadata": {
    "id": "Z1O6wq4Baz9v"
   },
   "source": [
    "### (OPTIONAL) pickle 라이브러리를 통해서 파이썬 object 자체를 저장하기"
   ]
  },
  {
   "cell_type": "code",
   "execution_count": 28,
   "metadata": {
    "ExecuteTime": {
     "end_time": "2021-09-07T05:36:30.061150Z",
     "start_time": "2021-09-07T05:36:30.056957Z"
    },
    "id": "Y8SXE8dDaz9v"
   },
   "outputs": [
    {
     "data": {
      "text/plain": [
       "['아이구',\n",
       " '아이쿠',\n",
       " '아이고',\n",
       " '우리',\n",
       " '저희',\n",
       " '따라',\n",
       " '의해',\n",
       " '으로',\n",
       " '에게',\n",
       " '뿐이다',\n",
       " '의거하여',\n",
       " '근거하여',\n",
       " '입각하여',\n",
       " '기준으로',\n",
       " '예하면',\n",
       " '예를 들면',\n",
       " '예를 들자면']"
      ]
     },
     "execution_count": 28,
     "metadata": {},
     "output_type": "execute_result"
    }
   ],
   "source": [
    "output"
   ]
  },
  {
   "cell_type": "code",
   "execution_count": 29,
   "metadata": {
    "ExecuteTime": {
     "end_time": "2021-09-07T05:36:30.737418Z",
     "start_time": "2021-09-07T05:36:30.734834Z"
    },
    "id": "aRRPi3VZaz9w"
   },
   "outputs": [],
   "source": [
    "import pickle"
   ]
  },
  {
   "cell_type": "code",
   "execution_count": 30,
   "metadata": {
    "ExecuteTime": {
     "end_time": "2021-09-07T05:38:00.789544Z",
     "start_time": "2021-09-07T05:38:00.784153Z"
    },
    "id": "DXswSzeNaz9w"
   },
   "outputs": [],
   "source": [
    "with open(\"/Users/ppangppang/Desktop/test.pk\",'wb') as f:\n",
    "    pickle.dump(output, f)\n",
    "with open(\"/Users/ppangppang/Desktop/test.pk\",'rb') as f:\n",
    "    output = pickle.load(f)"
   ]
  },
  {
   "cell_type": "code",
   "execution_count": 31,
   "metadata": {
    "ExecuteTime": {
     "end_time": "2021-09-07T05:38:08.988342Z",
     "start_time": "2021-09-07T05:38:08.983623Z"
    },
    "id": "rB84ZyQraz9w"
   },
   "outputs": [
    {
     "data": {
      "text/plain": [
       "['아이구',\n",
       " '아이쿠',\n",
       " '아이고',\n",
       " '우리',\n",
       " '저희',\n",
       " '따라',\n",
       " '의해',\n",
       " '으로',\n",
       " '에게',\n",
       " '뿐이다',\n",
       " '의거하여',\n",
       " '근거하여',\n",
       " '입각하여',\n",
       " '기준으로',\n",
       " '예하면',\n",
       " '예를 들면',\n",
       " '예를 들자면']"
      ]
     },
     "execution_count": 31,
     "metadata": {},
     "output_type": "execute_result"
    }
   ],
   "source": [
    "output"
   ]
  },
  {
   "cell_type": "code",
   "execution_count": null,
   "metadata": {},
   "outputs": [],
   "source": []
  }
 ],
 "metadata": {
  "colab": {
   "collapsed_sections": [],
   "name": "8. 데이터 입출력(IO).ipynb",
   "provenance": []
  },
  "kernelspec": {
   "display_name": "Python 3 (ipykernel)",
   "language": "python",
   "name": "python3"
  },
  "language_info": {
   "codemirror_mode": {
    "name": "ipython",
    "version": 3
   },
   "file_extension": ".py",
   "mimetype": "text/x-python",
   "name": "python",
   "nbconvert_exporter": "python",
   "pygments_lexer": "ipython3",
   "version": "3.9.6"
  },
  "toc": {
   "base_numbering": 1,
   "nav_menu": {},
   "number_sections": true,
   "sideBar": true,
   "skip_h1_title": false,
   "title_cell": "Table of Contents",
   "title_sidebar": "Contents",
   "toc_cell": false,
   "toc_position": {},
   "toc_section_display": true,
   "toc_window_display": false
  },
  "varInspector": {
   "cols": {
    "lenName": 16,
    "lenType": 16,
    "lenVar": 40
   },
   "kernels_config": {
    "python": {
     "delete_cmd_postfix": "",
     "delete_cmd_prefix": "del ",
     "library": "var_list.py",
     "varRefreshCmd": "print(var_dic_list())"
    },
    "r": {
     "delete_cmd_postfix": ") ",
     "delete_cmd_prefix": "rm(",
     "library": "var_list.r",
     "varRefreshCmd": "cat(var_dic_list()) "
    }
   },
   "types_to_exclude": [
    "module",
    "function",
    "builtin_function_or_method",
    "instance",
    "_Feature"
   ],
   "window_display": false
  }
 },
 "nbformat": 4,
 "nbformat_minor": 1
}
