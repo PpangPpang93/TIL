{
 "cells": [
  {
   "cell_type": "code",
   "execution_count": 1,
   "metadata": {
    "ExecuteTime": {
     "end_time": "2021-09-27T04:55:37.413487Z",
     "start_time": "2021-09-27T04:55:36.580057Z"
    }
   },
   "outputs": [],
   "source": [
    "import pandas as pd\n",
    "import numpy as np\n",
    "import matplotlib.pyplot as plt\n",
    "import seaborn as sns\n",
    "import requests\n",
    "import json\n",
    "import time\n",
    "from pandas.io.json import json_normalize\n",
    "from bs4 import BeautifulSoup"
   ]
  },
  {
   "cell_type": "markdown",
   "metadata": {},
   "source": [
    "# 네이버 영화 클레멘타인 평점크롤링\n",
    "\n",
    "네이버 영화 클레멘타인에 유저들이 작성한 평점 댓글을 크롤링 해보겠습니다.\n",
    "\n",
    "아래 굵은 글씨로 기술된 테스크들을 완수하세요.\n",
    "\n",
    "**네이버 영화 클레멘타인 URL**\n",
    "\n",
    "https://movie.naver.com/movie/bi/mi/point.nhn?code=37886\n",
    "\n",
    "**1. 요청할 url 정의하기**\n",
    "\n",
    "위 URL 페이지를 확인해보면 댓글평점 페이지가 넘어가도 URL이 변하지 않는 것을 확인 할 수 있습니다.\n",
    "\n",
    "동적페이지 크롤링을 위해 개발자 도구로 숨겨진 URL을 확인 해봅시다.\n",
    "\n",
    "우선 1페이지 크롤링을 해보겠습니다."
   ]
  },
  {
   "cell_type": "code",
   "execution_count": 41,
   "metadata": {
    "ExecuteTime": {
     "end_time": "2021-09-27T05:21:11.029269Z",
     "start_time": "2021-09-27T05:21:11.026376Z"
    }
   },
   "outputs": [],
   "source": [
    "# CODE\n",
    "url='https://movie.naver.com/movie/bi/mi/pointWriteFormList.naver?code=37886&type=after&isActualPointWriteExecute=false&isMileageSubscriptionAlready=false&isMileageSubscriptionReject=false&page=1'"
   ]
  },
  {
   "cell_type": "markdown",
   "metadata": {},
   "source": [
    "**2. response 변수명으로 requests로 url 요청한 데이터의 text를 저장합니다.**"
   ]
  },
  {
   "cell_type": "code",
   "execution_count": 42,
   "metadata": {
    "ExecuteTime": {
     "end_time": "2021-09-27T05:21:11.495363Z",
     "start_time": "2021-09-27T05:21:11.393322Z"
    }
   },
   "outputs": [],
   "source": [
    "# CODE\n",
    "info={\n",
    "        'referer': 'https://movie.naver.com/movie/bi/mi/pointWriteFormList.naver?code=37886&type=after&isActualPointWriteExecute=false&isMileageSubscriptionAlready=false&isMileageSubscriptionReject=false&page=1',\n",
    "        'user-agent': 'Mozilla/5.0 (Macintosh; Intel Mac OS X 10_15_7) AppleWebKit/537.36 (KHTML, like Gecko) Chrome/94.0.4606.54 Safari/537.36'\n",
    "    } \n",
    "    \n",
    "response = requests.get(url, headers=info)"
   ]
  },
  {
   "cell_type": "markdown",
   "metadata": {},
   "source": [
    "**3. response 결과값 앞 1000글자 확인 및 어떤형태의 데이터인지 파악하기**"
   ]
  },
  {
   "cell_type": "code",
   "execution_count": 43,
   "metadata": {
    "ExecuteTime": {
     "end_time": "2021-09-27T05:21:11.773241Z",
     "start_time": "2021-09-27T05:21:11.764511Z"
    }
   },
   "outputs": [
    {
     "data": {
      "text/plain": [
       "'\\r\\n\\r\\n\\r\\n\\r\\n<!DOCTYPE html>\\r\\n<html lang=\"ko\">\\r\\n<head>\\r\\n\\t<meta charset=\"utf-8\">\\r\\n\\t<meta http-equiv=\"X-UA-Compatible\" content=\"IE=edge\">\\r\\n\\t<title>네이버 영화</title>\\r\\n\\t\\n\\n\\n\\t\\n\\t\\n\\t\\n\\t\\n\\t\\t<link rel=\"shortcut icon\" href=\"https://ssl.pstatic.net/static/m/movie/icons/naver_movie_favicon.ico\" type=\"image/x-icon\">\\n\\t\\t\\t\\n\\n\\r\\n\\t\\n<link rel=\"stylesheet\" type=\"text/css\" href=\"/css/common.css?20210728101151\" />\\r\\n\\t\\n<link rel=\"stylesheet\" type=\"text/css\" href=\"/css/movie_tablet.css?20210728101151\" />\\n<link rel=\"stylesheet\" type=\"text/css\" href=\"/css/movie_end.css?20210728101151\" />\\r\\n\\t\\r\\n\\t\\n\\n\\n<script type=\"text/javascript\" src=\"/js/deploy/movie.all.js?20210728101151\"></script>\\n\\n\\n\\r\\n</head>\\r\\n<body>\\r\\n\\t<!-- content -->\\r\\n<input type=\"hidden\" name=\"movieCode\" id=\"movieCode\" value=\"37886\"/>\\r\\n<input type=\"hidden\" name=\"onlyActualPointYn\" id=\"onlyActualPointYn\" value=\"N\"/>\\r\\n<input type=\"hidden\" name=\"includeSpoilerYn\" id=\"includeSpoilerYn\" value=\"N\"/>\\r\\n<input type=\"hidden\" name=\"order\" id=\"order\" value=\"sympathyScore\"/>\\r\\n<input typ'"
      ]
     },
     "execution_count": 43,
     "metadata": {},
     "output_type": "execute_result"
    }
   ],
   "source": [
    "# CODE\n",
    "response.text[:1000]"
   ]
  },
  {
   "cell_type": "markdown",
   "metadata": {},
   "source": [
    "**4. response 결과에 따라 적절한 변환 함수를 사용하여 data라는 변수명에 저장합니다.**"
   ]
  },
  {
   "cell_type": "code",
   "execution_count": 44,
   "metadata": {
    "ExecuteTime": {
     "end_time": "2021-09-27T05:21:15.957928Z",
     "start_time": "2021-09-27T05:21:15.920408Z"
    }
   },
   "outputs": [],
   "source": [
    "# CODE\n",
    "data = BeautifulSoup(response.text,'html.parser')"
   ]
  },
  {
   "cell_type": "markdown",
   "metadata": {},
   "source": [
    "**5. 전설적인 댓글평점 '이 영화를 보고 암이 나았습니다.' 에 selector를 사용하여 접근해봅시다.**"
   ]
  },
  {
   "cell_type": "code",
   "execution_count": 45,
   "metadata": {
    "ExecuteTime": {
     "end_time": "2021-09-27T05:21:22.911123Z",
     "start_time": "2021-09-27T05:21:22.900733Z"
    }
   },
   "outputs": [
    {
     "name": "stdout",
     "output_type": "stream",
     "text": [
      "\r\n",
      "\t\t\t\t\t\t\t\t\t\t\t\t\t\t\r\n",
      "\t\t\t\t\t\t\t\t\t\t\t\t\t\t\t\r\n",
      "\t\t\t\t\t\t\t\t\t\t\t\t\t\t\t\r\n",
      "\t\t\t\t\t\t\t\t\t\t\t\t\t\t\t\t이 영화를 보고 암이 나았습니다. \r\n",
      "\t\t\t\t\t\t\t\t\t\t\t\t\t\t\t\r\n",
      "\t\t\t\t\t\t\t\t\t\t\t\t\t\t\r\n",
      "\t\t\t\t\t\t\t\t\t\t\t\t\t\t\r\n",
      "\t\t\t\t\t\t\t\t\t\t\t\t\t\n"
     ]
    }
   ],
   "source": [
    "# CODE\n",
    "# print(data.select('div.score_reple')[0].text)\n",
    "print(data.select('span#_filtered_ment_0')[0].text)"
   ]
  },
  {
   "cell_type": "markdown",
   "metadata": {},
   "source": [
    "**6. selector로 선택한 항목에서 텍스트만을 추려봅시다. Hint: .strip()**"
   ]
  },
  {
   "cell_type": "code",
   "execution_count": 52,
   "metadata": {
    "ExecuteTime": {
     "end_time": "2021-09-27T05:21:54.487624Z",
     "start_time": "2021-09-27T05:21:54.475100Z"
    }
   },
   "outputs": [
    {
     "data": {
      "text/plain": [
       "'이 영화를 보고 암이 나았습니다.'"
      ]
     },
     "execution_count": 52,
     "metadata": {},
     "output_type": "execute_result"
    }
   ],
   "source": [
    "# CODE\n",
    "data.select('span#_filtered_ment_0')[0].text.strip()"
   ]
  },
  {
   "cell_type": "code",
   "execution_count": 53,
   "metadata": {
    "ExecuteTime": {
     "end_time": "2021-09-27T05:22:00.308062Z",
     "start_time": "2021-09-27T05:22:00.295614Z"
    }
   },
   "outputs": [
    {
     "data": {
      "text/plain": [
       "'10'"
      ]
     },
     "execution_count": 53,
     "metadata": {},
     "output_type": "execute_result"
    }
   ],
   "source": [
    "data.select('div.star_score')[0].text.strip()"
   ]
  },
  {
   "cell_type": "markdown",
   "metadata": {},
   "source": [
    "**7. 1페이지의 모든 숫자평점과, 댓글평점을 프린트해 봅시다.**"
   ]
  },
  {
   "cell_type": "code",
   "execution_count": 55,
   "metadata": {
    "ExecuteTime": {
     "end_time": "2021-09-27T05:22:20.709438Z",
     "start_time": "2021-09-27T05:22:20.651608Z"
    }
   },
   "outputs": [
    {
     "name": "stdout",
     "output_type": "stream",
     "text": [
      "10 이 영화를 보고 암이 나았습니다.\n",
      "10 이것은절대1점이아니다11점을주고싶은 내마음이다\n",
      "10 모니터도 울고 외장하드도 울고 숨어있던 바이러스도 울었다\n",
      "10 당신이 이 영화를 보지 않았다면  아직 살아있을 이유 하나를 간직하고 있는 것이다.\n",
      "10 영화계엔 BC와 AC가 있다. Before Clementain, After Clementain...\n",
      "10 남친 집에서 클레멘타인 DVD를 발견했고, 결혼을 결심했습니다.\n",
      "10 드디어 보았네요. 나이 40대 중반에 이런 감동을 느낄 수 있음에 스스로도 대견한 생각이 듭니다. 먼 훗날 제 아이들도 이 영화를 보고 저와 같은 감동을 느끼길 바라는 건 그저 바램이겠지요?\n",
      "10 평점깍아내리는 낚시글 몇개있는데 제발그만해라 이기적인새끼들아좋은건 나누는거다\n",
      "10 장난으로 쓰지마라... 본인은 2004년에 실제로 극장에서 이 영화를 봤다\n",
      "10 프로포즈 선물로 다이아반지 대신 클레멘타인 파일을 USB에담아 목걸이로 만들어 그녀 목에 걸어주었다. 눈물로 대신 대답한 그녀...그리고 2세이름은 그녀의 의견을 반영해 이동준과 스티븐시갈의 이름을 딴 이동갈로 지을...\n"
     ]
    }
   ],
   "source": [
    "# CODE\n",
    "for num in range(0,10):\n",
    "    star = data.select('div.star_score')[0].text.strip()\n",
    "    reple = data.select(f'span#_filtered_ment_{num}')[0].text.strip()\n",
    "    print(star,reple)"
   ]
  },
  {
   "cell_type": "markdown",
   "metadata": {},
   "source": [
    "**8. 1페이지의 숫자평점과 댓글평점을 데이터프레임으로 만들어봅시다.**"
   ]
  },
  {
   "cell_type": "code",
   "execution_count": 56,
   "metadata": {
    "ExecuteTime": {
     "end_time": "2021-09-27T05:22:28.396652Z",
     "start_time": "2021-09-27T05:22:28.328787Z"
    }
   },
   "outputs": [],
   "source": [
    "# CODE\n",
    "# 저장할 데이터프레임과 리스트 생성\n",
    "df=pd.DataFrame()\n",
    "star_list=[]\n",
    "reple_list = []\n",
    "# 반복문을 사용하여 리스트에 추출정보를 저장\n",
    "for num in range(0,10):\n",
    "    star = data.select('div.star_score')[0].text.strip()\n",
    "    reple = data.select(f'span#_filtered_ment_{num}')[0].text.strip()\n",
    "    star_list.append(star)\n",
    "    reple_list.append(reple)\n",
    "# 리스트정보를 데이터프레임에 저장 \n",
    "df['star'] = star_list\n",
    "df['reply'] = reple_list"
   ]
  },
  {
   "cell_type": "code",
   "execution_count": 57,
   "metadata": {
    "ExecuteTime": {
     "end_time": "2021-09-27T05:22:29.404984Z",
     "start_time": "2021-09-27T05:22:29.390220Z"
    }
   },
   "outputs": [
    {
     "data": {
      "text/html": [
       "<div>\n",
       "<style scoped>\n",
       "    .dataframe tbody tr th:only-of-type {\n",
       "        vertical-align: middle;\n",
       "    }\n",
       "\n",
       "    .dataframe tbody tr th {\n",
       "        vertical-align: top;\n",
       "    }\n",
       "\n",
       "    .dataframe thead th {\n",
       "        text-align: right;\n",
       "    }\n",
       "</style>\n",
       "<table border=\"1\" class=\"dataframe\">\n",
       "  <thead>\n",
       "    <tr style=\"text-align: right;\">\n",
       "      <th></th>\n",
       "      <th>star</th>\n",
       "      <th>reply</th>\n",
       "    </tr>\n",
       "  </thead>\n",
       "  <tbody>\n",
       "    <tr>\n",
       "      <th>0</th>\n",
       "      <td>10</td>\n",
       "      <td>이 영화를 보고 암이 나았습니다.</td>\n",
       "    </tr>\n",
       "    <tr>\n",
       "      <th>1</th>\n",
       "      <td>10</td>\n",
       "      <td>이것은절대1점이아니다11점을주고싶은 내마음이다</td>\n",
       "    </tr>\n",
       "    <tr>\n",
       "      <th>2</th>\n",
       "      <td>10</td>\n",
       "      <td>모니터도 울고 외장하드도 울고 숨어있던 바이러스도 울었다</td>\n",
       "    </tr>\n",
       "    <tr>\n",
       "      <th>3</th>\n",
       "      <td>10</td>\n",
       "      <td>당신이 이 영화를 보지 않았다면  아직 살아있을 이유 하나를 간직하고 있는 것이다.</td>\n",
       "    </tr>\n",
       "    <tr>\n",
       "      <th>4</th>\n",
       "      <td>10</td>\n",
       "      <td>영화계엔 BC와 AC가 있다. Before Clementain, After Clem...</td>\n",
       "    </tr>\n",
       "    <tr>\n",
       "      <th>5</th>\n",
       "      <td>10</td>\n",
       "      <td>남친 집에서 클레멘타인 DVD를 발견했고, 결혼을 결심했습니다.</td>\n",
       "    </tr>\n",
       "    <tr>\n",
       "      <th>6</th>\n",
       "      <td>10</td>\n",
       "      <td>드디어 보았네요. 나이 40대 중반에 이런 감동을 느낄 수 있음에 스스로도 대견한 ...</td>\n",
       "    </tr>\n",
       "    <tr>\n",
       "      <th>7</th>\n",
       "      <td>10</td>\n",
       "      <td>평점깍아내리는 낚시글 몇개있는데 제발그만해라 이기적인새끼들아좋은건 나누는거다</td>\n",
       "    </tr>\n",
       "    <tr>\n",
       "      <th>8</th>\n",
       "      <td>10</td>\n",
       "      <td>장난으로 쓰지마라... 본인은 2004년에 실제로 극장에서 이 영화를 봤다</td>\n",
       "    </tr>\n",
       "    <tr>\n",
       "      <th>9</th>\n",
       "      <td>10</td>\n",
       "      <td>프로포즈 선물로 다이아반지 대신 클레멘타인 파일을 USB에담아 목걸이로 만들어 그녀...</td>\n",
       "    </tr>\n",
       "  </tbody>\n",
       "</table>\n",
       "</div>"
      ],
      "text/plain": [
       "  star                                              reply\n",
       "0   10                                 이 영화를 보고 암이 나았습니다.\n",
       "1   10                          이것은절대1점이아니다11점을주고싶은 내마음이다\n",
       "2   10                    모니터도 울고 외장하드도 울고 숨어있던 바이러스도 울었다\n",
       "3   10     당신이 이 영화를 보지 않았다면  아직 살아있을 이유 하나를 간직하고 있는 것이다.\n",
       "4   10  영화계엔 BC와 AC가 있다. Before Clementain, After Clem...\n",
       "5   10                남친 집에서 클레멘타인 DVD를 발견했고, 결혼을 결심했습니다.\n",
       "6   10  드디어 보았네요. 나이 40대 중반에 이런 감동을 느낄 수 있음에 스스로도 대견한 ...\n",
       "7   10         평점깍아내리는 낚시글 몇개있는데 제발그만해라 이기적인새끼들아좋은건 나누는거다\n",
       "8   10          장난으로 쓰지마라... 본인은 2004년에 실제로 극장에서 이 영화를 봤다\n",
       "9   10  프로포즈 선물로 다이아반지 대신 클레멘타인 파일을 USB에담아 목걸이로 만들어 그녀..."
      ]
     },
     "execution_count": 57,
     "metadata": {},
     "output_type": "execute_result"
    }
   ],
   "source": [
    "df"
   ]
  },
  {
   "cell_type": "markdown",
   "metadata": {},
   "source": [
    "**9. 네이버에서는 기계적으로 접근하는 요청을 잘 차단합니다. 지난시간 차단을 막는 코드를 포함하여 1~10페이지의 평점과 댓글평점을 크롤링하여 데이터프레임으로 저장하세요**"
   ]
  },
  {
   "cell_type": "code",
   "execution_count": 58,
   "metadata": {
    "ExecuteTime": {
     "end_time": "2021-09-27T05:23:17.766293Z",
     "start_time": "2021-09-27T05:22:45.868311Z"
    }
   },
   "outputs": [
    {
     "name": "stdout",
     "output_type": "stream",
     "text": [
      "1페이지 정상처리\n",
      "2페이지 정상처리\n",
      "3페이지 정상처리\n",
      "4페이지 정상처리\n",
      "5페이지 정상처리\n",
      "6페이지 정상처리\n",
      "7페이지 정상처리\n",
      "8페이지 정상처리\n",
      "9페이지 정상처리\n",
      "10페이지 정상처리\n"
     ]
    }
   ],
   "source": [
    "# CODE\n",
    "# 저장할 데이터프레임과 리스트 생성\n",
    "total_df=pd.DataFrame()\n",
    "\n",
    "for page in range(1,11):\n",
    "\n",
    "    url=f'https://movie.naver.com/movie/bi/mi/pointWriteFormList.naver?code=37886&type=after&isActualPointWriteExecute=false&isMileageSubscriptionAlready=false&isMileageSubscriptionReject=false&page={page}'\n",
    "\n",
    "    info={\n",
    "            'referer': 'https://movie.naver.com/movie/bi/mi/pointWriteFormList.naver?code=37886&type=after&isActualPointWriteExecute=false&isMileageSubscriptionAlready=false&isMileageSubscriptionReject=false&page=1',\n",
    "            'user-agent': 'Mozilla/5.0 (Macintosh; Intel Mac OS X 10_15_7) AppleWebKit/537.36 (KHTML, like Gecko) Chrome/94.0.4606.54 Safari/537.36'\n",
    "        } \n",
    "    randn = np.random.randint(100)\n",
    "    np.random.seed(randn)\n",
    "    time_sleep = np.random.randint(1, 5)\n",
    "    time.sleep(time_sleep)\n",
    "\n",
    "    response = requests.get(url, headers=info)\n",
    "\n",
    "    data = BeautifulSoup(response.text,'html.parser')\n",
    "\n",
    "    star_list=[]\n",
    "    reple_list = []\n",
    "    df=pd.DataFrame()\n",
    "    \n",
    "    for num in range(0,10):\n",
    "        star = data.select('div.star_score')[0].text.strip()\n",
    "        reple = data.select(f'span#_filtered_ment_{num}')[0].text.strip()\n",
    "        star_list.append(star)\n",
    "        reple_list.append(reple)\n",
    "    df['star'] = star_list\n",
    "    df['reply'] = reple_list\n",
    "    \n",
    "    \n",
    "# 리스트정보를 데이터프레임에 저장\n",
    "    temp=df\n",
    "    total_df=pd.concat([total_df,temp])\n",
    "    print(f'{page}페이지 정상처리')"
   ]
  },
  {
   "cell_type": "code",
   "execution_count": 39,
   "metadata": {
    "ExecuteTime": {
     "end_time": "2021-09-27T05:19:24.349906Z",
     "start_time": "2021-09-27T05:19:24.328212Z"
    }
   },
   "outputs": [
    {
     "data": {
      "text/html": [
       "<div>\n",
       "<style scoped>\n",
       "    .dataframe tbody tr th:only-of-type {\n",
       "        vertical-align: middle;\n",
       "    }\n",
       "\n",
       "    .dataframe tbody tr th {\n",
       "        vertical-align: top;\n",
       "    }\n",
       "\n",
       "    .dataframe thead th {\n",
       "        text-align: right;\n",
       "    }\n",
       "</style>\n",
       "<table border=\"1\" class=\"dataframe\">\n",
       "  <thead>\n",
       "    <tr style=\"text-align: right;\">\n",
       "      <th></th>\n",
       "      <th>index</th>\n",
       "      <th>star</th>\n",
       "      <th>reply</th>\n",
       "    </tr>\n",
       "  </thead>\n",
       "  <tbody>\n",
       "    <tr>\n",
       "      <th>0</th>\n",
       "      <td>0</td>\n",
       "      <td>10</td>\n",
       "      <td>이 영화를 보고 암이 나았습니다.</td>\n",
       "    </tr>\n",
       "    <tr>\n",
       "      <th>1</th>\n",
       "      <td>1</td>\n",
       "      <td>10</td>\n",
       "      <td>이것은절대1점이아니다11점을주고싶은 내마음이다</td>\n",
       "    </tr>\n",
       "    <tr>\n",
       "      <th>2</th>\n",
       "      <td>2</td>\n",
       "      <td>10</td>\n",
       "      <td>모니터도 울고 외장하드도 울고 숨어있던 바이러스도 울었다</td>\n",
       "    </tr>\n",
       "    <tr>\n",
       "      <th>3</th>\n",
       "      <td>3</td>\n",
       "      <td>10</td>\n",
       "      <td>당신이 이 영화를 보지 않았다면  아직 살아있을 이유 하나를 간직하고 있는 것이다.</td>\n",
       "    </tr>\n",
       "    <tr>\n",
       "      <th>4</th>\n",
       "      <td>4</td>\n",
       "      <td>10</td>\n",
       "      <td>영화계엔 BC와 AC가 있다. Before Clementain, After Clem...</td>\n",
       "    </tr>\n",
       "    <tr>\n",
       "      <th>...</th>\n",
       "      <td>...</td>\n",
       "      <td>...</td>\n",
       "      <td>...</td>\n",
       "    </tr>\n",
       "    <tr>\n",
       "      <th>95</th>\n",
       "      <td>5</td>\n",
       "      <td>10</td>\n",
       "      <td>너무 장난스럽게 그러면 이 영화에 대한 신빙성이 떨어지죠. 10점은 말도 안되고 9...</td>\n",
       "    </tr>\n",
       "    <tr>\n",
       "      <th>96</th>\n",
       "      <td>6</td>\n",
       "      <td>10</td>\n",
       "      <td>이것은 영화에대한 평가가아니다, 애초에 평가를 할수가없다, 이영화를 이제서야본 내자...</td>\n",
       "    </tr>\n",
       "    <tr>\n",
       "      <th>97</th>\n",
       "      <td>7</td>\n",
       "      <td>10</td>\n",
       "      <td>1분이 1초 같아요</td>\n",
       "    </tr>\n",
       "    <tr>\n",
       "      <th>98</th>\n",
       "      <td>8</td>\n",
       "      <td>10</td>\n",
       "      <td>이영화를 보고나서 아버지 방으로가서 주무시고 계시는 아버지의 얼굴을 물끄러미 쳐다...</td>\n",
       "    </tr>\n",
       "    <tr>\n",
       "      <th>99</th>\n",
       "      <td>9</td>\n",
       "      <td>10</td>\n",
       "      <td>밑의 분 너무하시네요. 이런 명작을 폄하하시다니, 이 영화를 보신적이 있으시기나 한...</td>\n",
       "    </tr>\n",
       "  </tbody>\n",
       "</table>\n",
       "<p>100 rows × 3 columns</p>\n",
       "</div>"
      ],
      "text/plain": [
       "    index star                                              reply\n",
       "0       0   10                                이 영화를 보고 암이 나았습니다. \n",
       "1       1   10                         이것은절대1점이아니다11점을주고싶은 내마음이다 \n",
       "2       2   10                   모니터도 울고 외장하드도 울고 숨어있던 바이러스도 울었다 \n",
       "3       3   10    당신이 이 영화를 보지 않았다면  아직 살아있을 이유 하나를 간직하고 있는 것이다. \n",
       "4       4   10  영화계엔 BC와 AC가 있다. Before Clementain, After Clem...\n",
       "..    ...  ...                                                ...\n",
       "95      5   10  너무 장난스럽게 그러면 이 영화에 대한 신빙성이 떨어지죠. 10점은 말도 안되고 9...\n",
       "96      6   10  이것은 영화에대한 평가가아니다, 애초에 평가를 할수가없다, 이영화를 이제서야본 내자...\n",
       "97      7   10                                        1분이 1초 같아요 \n",
       "98      8   10   이영화를 보고나서 아버지 방으로가서 주무시고 계시는 아버지의 얼굴을 물끄러미 쳐다...\n",
       "99      9   10  밑의 분 너무하시네요. 이런 명작을 폄하하시다니, 이 영화를 보신적이 있으시기나 한...\n",
       "\n",
       "[100 rows x 3 columns]"
      ]
     },
     "execution_count": 39,
     "metadata": {},
     "output_type": "execute_result"
    }
   ],
   "source": [
    "total_df.reset_index()"
   ]
  },
  {
   "cell_type": "markdown",
   "metadata": {},
   "source": [
    "**10. 우리가 수집한 데이터를 바탕으로 이 영화를 추천할 수 있을까요? 여러분의 생각은 어떠한가요?**"
   ]
  },
  {
   "cell_type": "code",
   "execution_count": null,
   "metadata": {},
   "outputs": [],
   "source": [
    "# ANSWER"
   ]
  }
 ],
 "metadata": {
  "kernelspec": {
   "display_name": "Python 3",
   "language": "python",
   "name": "python3"
  },
  "language_info": {
   "codemirror_mode": {
    "name": "ipython",
    "version": 3
   },
   "file_extension": ".py",
   "mimetype": "text/x-python",
   "name": "python",
   "nbconvert_exporter": "python",
   "pygments_lexer": "ipython3",
   "version": "3.9.4"
  },
  "toc": {
   "base_numbering": 1,
   "nav_menu": {},
   "number_sections": true,
   "sideBar": true,
   "skip_h1_title": true,
   "title_cell": "Table of Contents",
   "title_sidebar": "Contents",
   "toc_cell": false,
   "toc_position": {},
   "toc_section_display": true,
   "toc_window_display": false
  },
  "varInspector": {
   "cols": {
    "lenName": 16,
    "lenType": 16,
    "lenVar": 40
   },
   "kernels_config": {
    "python": {
     "delete_cmd_postfix": "",
     "delete_cmd_prefix": "del ",
     "library": "var_list.py",
     "varRefreshCmd": "print(var_dic_list())"
    },
    "r": {
     "delete_cmd_postfix": ") ",
     "delete_cmd_prefix": "rm(",
     "library": "var_list.r",
     "varRefreshCmd": "cat(var_dic_list()) "
    }
   },
   "types_to_exclude": [
    "module",
    "function",
    "builtin_function_or_method",
    "instance",
    "_Feature"
   ],
   "window_display": false
  }
 },
 "nbformat": 4,
 "nbformat_minor": 2
}
