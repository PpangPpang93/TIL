{
 "cells": [
  {
   "cell_type": "code",
   "execution_count": 1,
   "id": "c2c5c6c0",
   "metadata": {
    "ExecuteTime": {
     "end_time": "2021-09-20T08:10:46.267645Z",
     "start_time": "2021-09-20T08:10:46.263252Z"
    }
   },
   "outputs": [],
   "source": [
    "# 데이터 붙이기 => 번호 컬럼만 따로 가져오기 => 기존 데이터에 내용 추가해보기"
   ]
  },
  {
   "cell_type": "code",
   "execution_count": 180,
   "id": "372fb902",
   "metadata": {
    "ExecuteTime": {
     "end_time": "2021-09-20T09:20:31.576213Z",
     "start_time": "2021-09-20T09:20:31.523502Z"
    }
   },
   "outputs": [],
   "source": [
    "import numpy as np\n",
    "import pandas as pd\n",
    "import requests \n",
    "import time\n",
    "from bs4 import BeautifulSoup \n",
    "from glob import glob\n",
    "\n",
    "file_names = glob(\"/Users/ppangppang/Downloads/*.csv\")\n",
    "file_names\n",
    "\n",
    "total = pd.DataFrame()\n",
    "for file_name in file_names:\n",
    "    temp = pd.read_csv(file_name)\n",
    "    total = pd.concat([total, temp])"
   ]
  },
  {
   "cell_type": "code",
   "execution_count": 200,
   "id": "631c489a",
   "metadata": {
    "ExecuteTime": {
     "end_time": "2021-09-20T09:26:10.923571Z",
     "start_time": "2021-09-20T09:26:10.904856Z"
    }
   },
   "outputs": [
    {
     "data": {
      "text/html": [
       "<div>\n",
       "<style scoped>\n",
       "    .dataframe tbody tr th:only-of-type {\n",
       "        vertical-align: middle;\n",
       "    }\n",
       "\n",
       "    .dataframe tbody tr th {\n",
       "        vertical-align: top;\n",
       "    }\n",
       "\n",
       "    .dataframe thead th {\n",
       "        text-align: right;\n",
       "    }\n",
       "</style>\n",
       "<table border=\"1\" class=\"dataframe\">\n",
       "  <thead>\n",
       "    <tr style=\"text-align: right;\">\n",
       "      <th></th>\n",
       "      <th>종목</th>\n",
       "      <th>기호</th>\n",
       "      <th>거래량</th>\n",
       "    </tr>\n",
       "  </thead>\n",
       "  <tbody>\n",
       "    <tr>\n",
       "      <th>0</th>\n",
       "      <td>에스디바이오센서</td>\n",
       "      <td>137310</td>\n",
       "      <td>936.74K</td>\n",
       "    </tr>\n",
       "    <tr>\n",
       "      <th>1</th>\n",
       "      <td>이마트</td>\n",
       "      <td>139480</td>\n",
       "      <td>176.55K</td>\n",
       "    </tr>\n",
       "    <tr>\n",
       "      <th>2</th>\n",
       "      <td>메리츠금융지주</td>\n",
       "      <td>138040</td>\n",
       "      <td>258.07K</td>\n",
       "    </tr>\n",
       "    <tr>\n",
       "      <th>3</th>\n",
       "      <td>엘엔에프</td>\n",
       "      <td>066970</td>\n",
       "      <td>0.00</td>\n",
       "    </tr>\n",
       "    <tr>\n",
       "      <th>4</th>\n",
       "      <td>현대중공업지주</td>\n",
       "      <td>267250</td>\n",
       "      <td>913.40K</td>\n",
       "    </tr>\n",
       "    <tr>\n",
       "      <th>...</th>\n",
       "      <td>...</td>\n",
       "      <td>...</td>\n",
       "      <td>...</td>\n",
       "    </tr>\n",
       "    <tr>\n",
       "      <th>545</th>\n",
       "      <td>하나금융지주</td>\n",
       "      <td>086790</td>\n",
       "      <td>879.20K</td>\n",
       "    </tr>\n",
       "    <tr>\n",
       "      <th>546</th>\n",
       "      <td>포스코케미칼</td>\n",
       "      <td>003670</td>\n",
       "      <td>425.56K</td>\n",
       "    </tr>\n",
       "    <tr>\n",
       "      <th>547</th>\n",
       "      <td>엔씨소프트</td>\n",
       "      <td>036570</td>\n",
       "      <td>194.65K</td>\n",
       "    </tr>\n",
       "    <tr>\n",
       "      <th>548</th>\n",
       "      <td>아모레퍼시픽</td>\n",
       "      <td>090430</td>\n",
       "      <td>402.65K</td>\n",
       "    </tr>\n",
       "    <tr>\n",
       "      <th>549</th>\n",
       "      <td>S-oil</td>\n",
       "      <td>010950</td>\n",
       "      <td>284.51K</td>\n",
       "    </tr>\n",
       "  </tbody>\n",
       "</table>\n",
       "<p>550 rows × 3 columns</p>\n",
       "</div>"
      ],
      "text/plain": [
       "           종목      기호      거래량\n",
       "0    에스디바이오센서  137310  936.74K\n",
       "1         이마트  139480  176.55K\n",
       "2     메리츠금융지주  138040  258.07K\n",
       "3        엘엔에프  066970     0.00\n",
       "4     현대중공업지주  267250  913.40K\n",
       "..        ...     ...      ...\n",
       "545    하나금융지주  086790  879.20K\n",
       "546    포스코케미칼  003670  425.56K\n",
       "547     엔씨소프트  036570  194.65K\n",
       "548    아모레퍼시픽  090430  402.65K\n",
       "549     S-oil  010950  284.51K\n",
       "\n",
       "[550 rows x 3 columns]"
      ]
     },
     "execution_count": 200,
     "metadata": {},
     "output_type": "execute_result"
    }
   ],
   "source": [
    "# 사용할 데이터만가져오기, 기존 데이터에 있는 종가는 현재 가격이 아님\n",
    "total.index = range(len(total))\n",
    "df = total[['종목','기호','거래량']]\n",
    "df"
   ]
  },
  {
   "cell_type": "code",
   "execution_count": 201,
   "id": "e8021454",
   "metadata": {
    "ExecuteTime": {
     "end_time": "2021-09-20T09:26:11.678114Z",
     "start_time": "2021-09-20T09:26:11.673089Z"
    }
   },
   "outputs": [
    {
     "data": {
      "text/plain": [
       "550"
      ]
     },
     "execution_count": 201,
     "metadata": {},
     "output_type": "execute_result"
    }
   ],
   "source": [
    "code = df['기호']\n",
    "len(code)"
   ]
  },
  {
   "cell_type": "code",
   "execution_count": 198,
   "id": "3b5762da",
   "metadata": {
    "ExecuteTime": {
     "end_time": "2021-09-20T09:26:04.066633Z",
     "start_time": "2021-09-20T09:26:04.064149Z"
    }
   },
   "outputs": [],
   "source": [
    "# code= df['기호'][0:3]\n",
    "# code[0]='000000'# 오류테스트용\n",
    "# code"
   ]
  },
  {
   "cell_type": "code",
   "execution_count": 161,
   "id": "6ddbf0ff",
   "metadata": {
    "ExecuteTime": {
     "end_time": "2021-09-20T09:11:20.615312Z",
     "start_time": "2021-09-20T09:11:20.612870Z"
    }
   },
   "outputs": [],
   "source": [
    "# 종목번호를 잘못입력해도 연결되고, html 변환도 오류 안뜬다\n",
    "\n",
    "# url = f'https://finance.naver.com/item/main.nhn?code=000000'\n",
    "# response = requests.get(url)\n",
    "# response\n",
    "# html = BeautifulSoup(response.text, 'html.parser')"
   ]
  },
  {
   "cell_type": "code",
   "execution_count": 162,
   "id": "9ecc1e68",
   "metadata": {
    "ExecuteTime": {
     "end_time": "2021-09-20T09:11:21.228101Z",
     "start_time": "2021-09-20T09:11:21.225106Z"
    }
   },
   "outputs": [],
   "source": [
    "# 오류 뜨기전 사용하던 코드\n",
    "# price = []\n",
    "\n",
    "# for num in code:\n",
    "#     url = f'https://finance.naver.com/item/main.nhn?code={num}'\n",
    "\n",
    "#     print(f'{num}종목 현재가격 크롤링중 입니다.')\n",
    "#     seed = np.random.randint(100) # seed 설정\n",
    "#     np.random.seed(seed)    # 시드 생성\n",
    "#     a = np.random.randint(5)  # 시드에서 난수 생성\n",
    "#     time.sleep(a)     # 코드실행 지연시키는 코드\n",
    "    \n",
    "#     response = requests.get(url)\n",
    "\n",
    "#     if(response.status_code == requests.codes.ok):\n",
    "#         html = BeautifulSoup(response.text, 'html.parser')\n",
    "\n",
    "#     else:\n",
    "# #         print(f'{num}종목 크롤링 실패, 값을 다시 확인해주세요(금일종가 0원으로 처리)')\n",
    "#         print(f\"크롤링 실패. 종목번호 : {num} 을 확인해 주세요\")\n",
    "# #         price.append('0')\n",
    "# #         continue\n",
    "\n",
    "#     price.append(html.select('p.no_today')[0].text)\n"
   ]
  },
  {
   "cell_type": "code",
   "execution_count": 204,
   "id": "0d5975b1",
   "metadata": {
    "ExecuteTime": {
     "end_time": "2021-09-20T09:27:04.883056Z",
     "start_time": "2021-09-20T09:26:57.016437Z"
    }
   },
   "outputs": [
    {
     "name": "stdout",
     "output_type": "stream",
     "text": [
      "137310종목 현재가격 크롤링중 입니다.\n",
      "139480종목 현재가격 크롤링중 입니다.\n",
      "138040종목 현재가격 크롤링중 입니다.\n",
      "066970종목 현재가격 크롤링중 입니다.\n"
     ]
    },
    {
     "ename": "KeyboardInterrupt",
     "evalue": "",
     "output_type": "error",
     "traceback": [
      "\u001b[0;31m---------------------------------------------------------------------------\u001b[0m",
      "\u001b[0;31mKeyboardInterrupt\u001b[0m                         Traceback (most recent call last)",
      "\u001b[0;32m<ipython-input-204-749f941907ce>\u001b[0m in \u001b[0;36m<module>\u001b[0;34m\u001b[0m\n\u001b[1;32m      9\u001b[0m     \u001b[0mnp\u001b[0m\u001b[0;34m.\u001b[0m\u001b[0mrandom\u001b[0m\u001b[0;34m.\u001b[0m\u001b[0mseed\u001b[0m\u001b[0;34m(\u001b[0m\u001b[0mseed\u001b[0m\u001b[0;34m)\u001b[0m    \u001b[0;31m# 시드 생성\u001b[0m\u001b[0;34m\u001b[0m\u001b[0;34m\u001b[0m\u001b[0m\n\u001b[1;32m     10\u001b[0m     \u001b[0ma\u001b[0m \u001b[0;34m=\u001b[0m \u001b[0mnp\u001b[0m\u001b[0;34m.\u001b[0m\u001b[0mrandom\u001b[0m\u001b[0;34m.\u001b[0m\u001b[0mrandint\u001b[0m\u001b[0;34m(\u001b[0m\u001b[0;36m5\u001b[0m\u001b[0;34m)\u001b[0m  \u001b[0;31m# 시드에서 난수 생성\u001b[0m\u001b[0;34m\u001b[0m\u001b[0;34m\u001b[0m\u001b[0m\n\u001b[0;32m---> 11\u001b[0;31m     \u001b[0mtime\u001b[0m\u001b[0;34m.\u001b[0m\u001b[0msleep\u001b[0m\u001b[0;34m(\u001b[0m\u001b[0ma\u001b[0m\u001b[0;34m)\u001b[0m     \u001b[0;31m# 코드실행 지연시키는 코드\u001b[0m\u001b[0;34m\u001b[0m\u001b[0;34m\u001b[0m\u001b[0m\n\u001b[0m\u001b[1;32m     12\u001b[0m \u001b[0;34m\u001b[0m\u001b[0m\n\u001b[1;32m     13\u001b[0m     \u001b[0mresponse\u001b[0m \u001b[0;34m=\u001b[0m \u001b[0mrequests\u001b[0m\u001b[0;34m.\u001b[0m\u001b[0mget\u001b[0m\u001b[0;34m(\u001b[0m\u001b[0murl\u001b[0m\u001b[0;34m)\u001b[0m\u001b[0;34m\u001b[0m\u001b[0;34m\u001b[0m\u001b[0m\n",
      "\u001b[0;31mKeyboardInterrupt\u001b[0m: "
     ]
    }
   ],
   "source": [
    "# 오류 테스트용\n",
    "price = []\n",
    "\n",
    "for num in code:\n",
    "    url = f'https://finance.naver.com/item/main.nhn?code={num}'\n",
    "\n",
    "    print(f'{num}종목 현재가격 크롤링중 입니다.')\n",
    "    seed = np.random.randint(100) # seed 설정\n",
    "    np.random.seed(seed)    # 시드 생성\n",
    "    a = np.random.randint(5)  # 시드에서 난수 생성\n",
    "    time.sleep(a)     # 코드실행 지연시키는 코드\n",
    "    \n",
    "    response = requests.get(url)\n",
    "\n",
    "    if(response.status_code == requests.codes.ok):\n",
    "        html = BeautifulSoup(response.text, 'html.parser')\n",
    "           \n",
    "    else:\n",
    "        print(f\"크롤링 실패. 종목번호 : {num} 을 확인해 주세요\")\n",
    "\n",
    "    try:\n",
    "        price.append(html.select('p.no_today')[0].text)\n",
    "\n",
    "    except:\n",
    "        print(f'{num}종목 크롤링 실패, 값을 다시 확인해주세요(현재가격 0원으로 처리)')\n",
    "        price.append('0')\n"
   ]
  },
  {
   "cell_type": "code",
   "execution_count": 208,
   "id": "faaaee9a",
   "metadata": {
    "ExecuteTime": {
     "end_time": "2021-09-20T09:27:39.540031Z",
     "start_time": "2021-09-20T09:27:39.522621Z"
    }
   },
   "outputs": [
    {
     "ename": "AttributeError",
     "evalue": "'numpy.ndarray' object has no attribute 'append'",
     "output_type": "error",
     "traceback": [
      "\u001b[0;31m---------------------------------------------------------------------------\u001b[0m",
      "\u001b[0;31mAttributeError\u001b[0m                            Traceback (most recent call last)",
      "\u001b[0;32m<ipython-input-208-f916982e14ce>\u001b[0m in \u001b[0;36m<module>\u001b[0;34m\u001b[0m\n\u001b[1;32m     14\u001b[0m \u001b[0;34m\u001b[0m\u001b[0m\n\u001b[1;32m     15\u001b[0m     \u001b[0;32melse\u001b[0m\u001b[0;34m:\u001b[0m\u001b[0;34m\u001b[0m\u001b[0;34m\u001b[0m\u001b[0m\n\u001b[0;32m---> 16\u001b[0;31m         \u001b[0mtemp\u001b[0m\u001b[0;34m.\u001b[0m\u001b[0mappend\u001b[0m\u001b[0;34m(\u001b[0m\u001b[0mnum\u001b[0m\u001b[0;34m.\u001b[0m\u001b[0msplit\u001b[0m\u001b[0;34m(\u001b[0m\u001b[0;34m'\\n'\u001b[0m\u001b[0;34m)\u001b[0m\u001b[0;34m)\u001b[0m\u001b[0;34m\u001b[0m\u001b[0;34m\u001b[0m\u001b[0m\n\u001b[0m\u001b[1;32m     17\u001b[0m         \u001b[0mtemp\u001b[0m\u001b[0;34m=\u001b[0m\u001b[0mnp\u001b[0m\u001b[0;34m.\u001b[0m\u001b[0marray\u001b[0m\u001b[0;34m(\u001b[0m\u001b[0mtemp\u001b[0m\u001b[0;34m)\u001b[0m\u001b[0;34m\u001b[0m\u001b[0;34m\u001b[0m\u001b[0m\n\u001b[1;32m     18\u001b[0m         \u001b[0mcode_price\u001b[0m\u001b[0;34m.\u001b[0m\u001b[0mappend\u001b[0m\u001b[0;34m(\u001b[0m\u001b[0mtemp\u001b[0m\u001b[0;34m[\u001b[0m\u001b[0;36m0\u001b[0m\u001b[0;34m,\u001b[0m\u001b[0;36m2\u001b[0m\u001b[0;34m:\u001b[0m\u001b[0;36m3\u001b[0m\u001b[0;34m]\u001b[0m\u001b[0;34m)\u001b[0m\u001b[0;34m\u001b[0m\u001b[0;34m\u001b[0m\u001b[0m\n",
      "\u001b[0;31mAttributeError\u001b[0m: 'numpy.ndarray' object has no attribute 'append'"
     ]
    }
   ],
   "source": [
    "# price 정리\n",
    "\n",
    "code_price =[]\n",
    "\n",
    "for num in price:\n",
    "    temp = []\n",
    "        # 현재가격 크롤링 되지 않는 데이터를 html.select형태로 변환해서 작업해버리자\n",
    "    if num == '0':\n",
    "        num = '\\n\\n0\\n0\\n\\n'\n",
    "        temp.append(num.split('\\n'))\n",
    "        temp=np.array(temp)\n",
    "        code_price.append(temp[0,2:3])\n",
    "\n",
    "    else:\n",
    "        temp.append(num.split('\\n'))\n",
    "        temp=np.array(temp)\n",
    "        code_price.append(temp[0,2:3])\n",
    "\n",
    "code_price = np.ravel(code_price, order='C')\n",
    "code_price = pd.DataFrame({\"현재가격\" : code_price})\n"
   ]
  },
  {
   "cell_type": "code",
   "execution_count": 206,
   "id": "5ae04a5f",
   "metadata": {
    "ExecuteTime": {
     "end_time": "2021-09-20T09:27:13.961266Z",
     "start_time": "2021-09-20T09:27:13.954736Z"
    }
   },
   "outputs": [],
   "source": [
    "# 현재 가격 열 붙이기\n",
    "df_daily = df.join(code_price, how='outer')"
   ]
  },
  {
   "cell_type": "code",
   "execution_count": 207,
   "id": "bc6c9d1c",
   "metadata": {
    "ExecuteTime": {
     "end_time": "2021-09-20T09:27:14.401784Z",
     "start_time": "2021-09-20T09:27:14.383977Z"
    }
   },
   "outputs": [
    {
     "data": {
      "text/html": [
       "<div>\n",
       "<style scoped>\n",
       "    .dataframe tbody tr th:only-of-type {\n",
       "        vertical-align: middle;\n",
       "    }\n",
       "\n",
       "    .dataframe tbody tr th {\n",
       "        vertical-align: top;\n",
       "    }\n",
       "\n",
       "    .dataframe thead th {\n",
       "        text-align: right;\n",
       "    }\n",
       "</style>\n",
       "<table border=\"1\" class=\"dataframe\">\n",
       "  <thead>\n",
       "    <tr style=\"text-align: right;\">\n",
       "      <th></th>\n",
       "      <th>종목</th>\n",
       "      <th>기호</th>\n",
       "      <th>거래량</th>\n",
       "      <th>현재가격</th>\n",
       "    </tr>\n",
       "  </thead>\n",
       "  <tbody>\n",
       "    <tr>\n",
       "      <th>0</th>\n",
       "      <td>에스디바이오센서</td>\n",
       "      <td>137310</td>\n",
       "      <td>936.74K</td>\n",
       "      <td>48,250</td>\n",
       "    </tr>\n",
       "    <tr>\n",
       "      <th>1</th>\n",
       "      <td>이마트</td>\n",
       "      <td>139480</td>\n",
       "      <td>176.55K</td>\n",
       "      <td>174,500</td>\n",
       "    </tr>\n",
       "    <tr>\n",
       "      <th>2</th>\n",
       "      <td>메리츠금융지주</td>\n",
       "      <td>138040</td>\n",
       "      <td>258.07K</td>\n",
       "      <td>37,150</td>\n",
       "    </tr>\n",
       "    <tr>\n",
       "      <th>3</th>\n",
       "      <td>엘엔에프</td>\n",
       "      <td>066970</td>\n",
       "      <td>0.00</td>\n",
       "      <td>NaN</td>\n",
       "    </tr>\n",
       "    <tr>\n",
       "      <th>4</th>\n",
       "      <td>현대중공업지주</td>\n",
       "      <td>267250</td>\n",
       "      <td>913.40K</td>\n",
       "      <td>NaN</td>\n",
       "    </tr>\n",
       "    <tr>\n",
       "      <th>...</th>\n",
       "      <td>...</td>\n",
       "      <td>...</td>\n",
       "      <td>...</td>\n",
       "      <td>...</td>\n",
       "    </tr>\n",
       "    <tr>\n",
       "      <th>545</th>\n",
       "      <td>하나금융지주</td>\n",
       "      <td>086790</td>\n",
       "      <td>879.20K</td>\n",
       "      <td>NaN</td>\n",
       "    </tr>\n",
       "    <tr>\n",
       "      <th>546</th>\n",
       "      <td>포스코케미칼</td>\n",
       "      <td>003670</td>\n",
       "      <td>425.56K</td>\n",
       "      <td>NaN</td>\n",
       "    </tr>\n",
       "    <tr>\n",
       "      <th>547</th>\n",
       "      <td>엔씨소프트</td>\n",
       "      <td>036570</td>\n",
       "      <td>194.65K</td>\n",
       "      <td>NaN</td>\n",
       "    </tr>\n",
       "    <tr>\n",
       "      <th>548</th>\n",
       "      <td>아모레퍼시픽</td>\n",
       "      <td>090430</td>\n",
       "      <td>402.65K</td>\n",
       "      <td>NaN</td>\n",
       "    </tr>\n",
       "    <tr>\n",
       "      <th>549</th>\n",
       "      <td>S-oil</td>\n",
       "      <td>010950</td>\n",
       "      <td>284.51K</td>\n",
       "      <td>NaN</td>\n",
       "    </tr>\n",
       "  </tbody>\n",
       "</table>\n",
       "<p>550 rows × 4 columns</p>\n",
       "</div>"
      ],
      "text/plain": [
       "           종목      기호      거래량     현재가격\n",
       "0    에스디바이오센서  137310  936.74K   48,250\n",
       "1         이마트  139480  176.55K  174,500\n",
       "2     메리츠금융지주  138040  258.07K   37,150\n",
       "3        엘엔에프  066970     0.00      NaN\n",
       "4     현대중공업지주  267250  913.40K      NaN\n",
       "..        ...     ...      ...      ...\n",
       "545    하나금융지주  086790  879.20K      NaN\n",
       "546    포스코케미칼  003670  425.56K      NaN\n",
       "547     엔씨소프트  036570  194.65K      NaN\n",
       "548    아모레퍼시픽  090430  402.65K      NaN\n",
       "549     S-oil  010950  284.51K      NaN\n",
       "\n",
       "[550 rows x 4 columns]"
      ]
     },
     "execution_count": 207,
     "metadata": {},
     "output_type": "execute_result"
    }
   ],
   "source": [
    "# 최종확인\n",
    "df_daily"
   ]
  }
 ],
 "metadata": {
  "kernelspec": {
   "display_name": "Python 3",
   "language": "python",
   "name": "python3"
  },
  "language_info": {
   "codemirror_mode": {
    "name": "ipython",
    "version": 3
   },
   "file_extension": ".py",
   "mimetype": "text/x-python",
   "name": "python",
   "nbconvert_exporter": "python",
   "pygments_lexer": "ipython3",
   "version": "3.9.4"
  },
  "toc": {
   "base_numbering": 1,
   "nav_menu": {},
   "number_sections": true,
   "sideBar": true,
   "skip_h1_title": false,
   "title_cell": "Table of Contents",
   "title_sidebar": "Contents",
   "toc_cell": false,
   "toc_position": {},
   "toc_section_display": true,
   "toc_window_display": false
  },
  "varInspector": {
   "cols": {
    "lenName": 16,
    "lenType": 16,
    "lenVar": 40
   },
   "kernels_config": {
    "python": {
     "delete_cmd_postfix": "",
     "delete_cmd_prefix": "del ",
     "library": "var_list.py",
     "varRefreshCmd": "print(var_dic_list())"
    },
    "r": {
     "delete_cmd_postfix": ") ",
     "delete_cmd_prefix": "rm(",
     "library": "var_list.r",
     "varRefreshCmd": "cat(var_dic_list()) "
    }
   },
   "types_to_exclude": [
    "module",
    "function",
    "builtin_function_or_method",
    "instance",
    "_Feature"
   ],
   "window_display": false
  }
 },
 "nbformat": 4,
 "nbformat_minor": 5
}
