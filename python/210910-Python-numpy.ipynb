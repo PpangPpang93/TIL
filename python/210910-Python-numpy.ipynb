{
 "cells": [
  {
   "cell_type": "markdown",
   "metadata": {
    "slideshow": {
     "slide_type": "slide"
    }
   },
   "source": [
    "# Numpy (Numeric python)\n",
    "> - 패키지 이름과 같이 **수리적 파이썬 활용**을 위한 파이썬 패키지\n",
    "> - **선형대수학 구현**과 **과학적 컴퓨팅 연산**을 위한 함수를 제공\n",
    "> - (key) `nparray` 다차원 배열을 사용하여 **벡터의 산술 연산**이 가능\n",
    "> - **브로드캐스팅**을 활용하여 shape(형태 혹은 모양)이 다른 데이터의 연산이 가능\n",
    ">> - 기존 언어에서는 제공 X\n",
    ">> - 굉장히 파워풀한 기능으로서 빅데이터 연산에 굉장히 효율이 좋음     "
   ]
  },
  {
   "cell_type": "markdown",
   "metadata": {
    "slideshow": {
     "slide_type": "slide"
    }
   },
   "source": [
    "## Numpy 설치 와 import\n",
    "> - 선행 학습을 통해 클래스와 함수에서 클래스를 불러들여 사용할 수 있다고 배웠습니다.\n",
    "- 다만 직접 작성한 클래스가 아닐경우, 그리고 현재 컴퓨터에 사용해야 할 패키지가 없을경우 간단한 명령어로 설치가능.\n",
    ">> - `pip`, `conda` 명령어 : python 라이브러리 관리 프로그램으로 오픈소스라이브러리를 간편하게 설치 할 수 있도록 하는 명령어\n",
    "\n",
    "> - 1. 콘솔창에서 실행 시  \n",
    "**`pip` `install` `[패키지명]`** 혹은  \n",
    "**`conda` `install` `[패키지명]`**\n",
    "> - 2. 주피터 노트북으로 실행 시  \n",
    "**`!pip` `install` `[패키지명]`**  \n",
    "> - 아나콘다 환경으로 python 환경설정 시 기본적으로 Numpy 설치가 되어있음"
   ]
  },
  {
   "cell_type": "code",
   "execution_count": 1,
   "metadata": {
    "ExecuteTime": {
     "end_time": "2021-09-10T02:38:59.509452Z",
     "start_time": "2021-09-10T02:38:58.771077Z"
    },
    "slideshow": {
     "slide_type": "subslide"
    }
   },
   "outputs": [
    {
     "name": "stdout",
     "output_type": "stream",
     "text": [
      "\u001b[33mDEPRECATION: Configuring installation scheme with distutils config files is deprecated and will no longer work in the near future. If you are using a Homebrew or Linuxbrew Python, please see discussion at https://github.com/Homebrew/homebrew-core/issues/76621\u001b[0m\r\n",
      "Requirement already satisfied: numpy in /opt/homebrew/lib/python3.9/site-packages (1.21.2)\r\n"
     ]
    }
   ],
   "source": [
    "# 주피터 노트북에서 Numpy 설치\n",
    "!pip install numpy"
   ]
  },
  {
   "cell_type": "code",
   "execution_count": 2,
   "metadata": {
    "ExecuteTime": {
     "end_time": "2021-09-10T02:39:02.823887Z",
     "start_time": "2021-09-10T02:39:02.820837Z"
    },
    "slideshow": {
     "slide_type": "fragment"
    }
   },
   "outputs": [],
   "source": [
    "# Numpy 사용을 위해 패키지 불러들이기\n",
    "import numpy as np\n",
    "# 관례적으로 np라는 약자를 많이 사용하게 됩니다.\n",
    "# 파이썬을 사용하는 대부분의 유저들이 사용하고 있는 닉네임이니 이건 꼭 지켜서 사용해주시는 것을 추천드립니다."
   ]
  },
  {
   "cell_type": "markdown",
   "metadata": {
    "slideshow": {
     "slide_type": "slide"
    }
   },
   "source": [
    "## 데이터분석을 위한 잠깐의 선형대수학\n",
    "numpy는 기본적으로 수리적 컴퓨팅을 위한 패키지 입니다. 선형대수학을 약간만 이해한다면 데이터를 훨씬 더 깊이있게 다룰 수 있습니다.  \n",
    "<img src=\"https://drive.google.com/uc?id=1FIVLOIP-X72PeWS7tgChMEoWCUYtyOqa\">\n",
    "\n",
    "출처 : https://art28.github.io/blog/linear-algebra-1/"
   ]
  },
  {
   "cell_type": "markdown",
   "metadata": {
    "slideshow": {
     "slide_type": "slide"
    }
   },
   "source": [
    "### 데이터의 구분에 따른 표현 방법과 예시\n",
    "\n",
    "#### 스칼라\n",
    "    1, 3.14, 실수 혹은 정수  \n",
    "    \n",
    "#### 벡터\n",
    "    [1, 2, 3, 4], \"문자열\"\n",
    "    \n",
    "#### 3 X 4 매트릭스\n",
    "    [[1, 2, 3, 4],\n",
    "     [5, 6, 7, 8],\n",
    "     [9, 0, 11, 12]]\n",
    "     \n",
    "#### 2 X 3 X 4 텐서\n",
    "    [[[1, 2, 3, 4],\n",
    "     [5, 6, 7, 8],\n",
    "     [9, 0, 11, 12]],\n",
    "     [[1, 2, 3, 4], \n",
    "     [5, 6, 7, 8],\n",
    "     [9, 0, 11, 12]]]"
   ]
  },
  {
   "cell_type": "markdown",
   "metadata": {
    "ExecuteTime": {
     "end_time": "2021-08-03T02:31:58.163370Z",
     "start_time": "2021-08-03T02:31:58.043519Z"
    }
   },
   "source": [
    "### 데이터로 표현한 선형대수학\n",
    "<img src=\"https://drive.google.com/uc?id=1JXgwhjipPcV147LPIrC2CgT0TmS4jT1R\">\n",
    "\n",
    "출처 : https://m.blog.naver.com/nabilera1/221978354680"
   ]
  },
  {
   "cell_type": "markdown",
   "metadata": {
    "slideshow": {
     "slide_type": "subslide"
    }
   },
   "source": [
    "### 데이터 형태에 따른 사칙연산\n",
    "\n",
    "> 스칼라 +, -, *, / -> 결과도 스칼라  \n",
    "벡터 +, -, 내적 -> +, - 결과는 벡터, 내적 결과는 스칼라  \n",
    "매트릭스 +, -, *, /  \n",
    "텐서 +, -, *, /  "
   ]
  },
  {
   "cell_type": "markdown",
   "metadata": {
    "slideshow": {
     "slide_type": "subslide"
    }
   },
   "source": [
    "### 데이터분석에 자주 사용하는 특수한 연산\n",
    "벡터와 벡터의 내적\n",
    "    \n",
    "$$\\begin{bmatrix}1 & 2 & 3 & 4 \\end{bmatrix} \\times \\begin{bmatrix}1 \\\\ 2 \\\\ 3 \\\\ 4 \\end{bmatrix} = 1 * 1 + \\\n",
    "2 * 2 + 3 * 3 + 4 * 4 = 30$$\n",
    "# $$ A^TA $$"
   ]
  },
  {
   "cell_type": "markdown",
   "metadata": {
    "slideshow": {
     "slide_type": "subslide"
    }
   },
   "source": [
    "#### 벡터와 벡터의 내적이 이루어지려면\n",
    "    \n",
    "    1. 벡터가 마주하는 shape의 갯수(길이)가 같아야 합니다.\n",
    "    2. 연산 앞에 위치한 벡터는 전치(transpose) 되어야 합니다.\n",
    "<img src=\"https://drive.google.com/uc?id=1VdfUo6iFHpTrPd_5RSjJLjlrX_5zWO0v\" height=\"300px\" width=\"300px\">  \n",
    "출처 : https://ko.wikipedia.org/wiki/%EC%A0%84%EC%B9%98%ED%96%89%EB%A0%AC"
   ]
  },
  {
   "cell_type": "markdown",
   "metadata": {
    "slideshow": {
     "slide_type": "subslide"
    }
   },
   "source": [
    "#### 벡터 내적으로 방정식 구현\n",
    "\n",
    "$$y = \\begin{bmatrix}1 & 2 & 1 \\end{bmatrix} \\times \\begin{bmatrix}x_1 \\\\ x_2 \\\\ x_3 \\\\ \\end{bmatrix} = 1 * x_1 + \\\n",
    "2 * x_2 + 1 * x_3 = x_1 + 2x_2 + x_3$$"
   ]
  },
  {
   "cell_type": "markdown",
   "metadata": {
    "slideshow": {
     "slide_type": "subslide"
    }
   },
   "source": [
    "## 브로드캐스팅\n",
    "> 파이썬 넘파이 연산은 브로드캐스팅을 지원합니다.  \n",
    "벡터연산 시 shape이 큰 벡터의 길이만큼 shape이 작은 벡터가 연장되어 연산됩니다.\n",
    "\n",
    "<img src=\"https://drive.google.com/uc?id=139z17KEUFNIoJR_-lSnnxepmJAJx--cw\" height=\"500px\" width=\"500px\">  \n",
    "출처 : http://www.astroml.org/book_figures/appendix/fig_broadcast_visual.html"
   ]
  },
  {
   "cell_type": "code",
   "execution_count": 15,
   "metadata": {
    "ExecuteTime": {
     "end_time": "2021-09-10T04:40:44.828525Z",
     "start_time": "2021-09-10T04:40:44.822144Z"
    }
   },
   "outputs": [
    {
     "data": {
      "text/plain": [
       "array([[0, 1, 2],\n",
       "       [1, 2, 3],\n",
       "       [2, 3, 4]])"
      ]
     },
     "execution_count": 15,
     "metadata": {},
     "output_type": "execute_result"
    }
   ],
   "source": [
    "np.arange(3).reshape((3,1))+np.arange(3)"
   ]
  },
  {
   "cell_type": "markdown",
   "metadata": {
    "slideshow": {
     "slide_type": "slide"
    }
   },
   "source": [
    "## Numpy function(유니버셜함수)\n",
    "> `numpy`는 컴퓨팅연산을 위한 다양한 연산함수를 제공합니다.  \n",
    ">> 연산함수 기본구조  \n",
    "ex) **`np.sum`**(연산대상, axis=연산방향)  \n",
    "**`dtype()`**"
   ]
  },
  {
   "cell_type": "markdown",
   "metadata": {
    "slideshow": {
     "slide_type": "subslide"
    }
   },
   "source": [
    "### 수리연산\n",
    "- **`prod()`**\n",
    "- **`dot()`**\n",
    "- **`sum()`**\n",
    "- **`cumprod()`**\n",
    "- **`cumsum()`**\n",
    "- **`abs()`**\n",
    "- **`sqaure()`**\n",
    "- **`sqrt()`**\n",
    "- **`exp()`**\n",
    "- **`log()`**"
   ]
  },
  {
   "cell_type": "markdown",
   "metadata": {
    "slideshow": {
     "slide_type": "subslide"
    }
   },
   "source": [
    "### 통계연산\n",
    "- **`mean()`**\n",
    "- **`std()`**\n",
    "- **`var()`**\n",
    "- **`max()`**\n",
    "- **`min()`**\n",
    "- **`argmax()`**\n",
    "- **`argmin()`**"
   ]
  },
  {
   "cell_type": "markdown",
   "metadata": {
    "slideshow": {
     "slide_type": "subslide"
    }
   },
   "source": [
    "### 로직연산\n",
    "- **`arange()`**\n",
    "- **`isnan()`**\n",
    "- **`isinf()`**\n",
    "- **`unique()`**"
   ]
  },
  {
   "cell_type": "markdown",
   "metadata": {
    "slideshow": {
     "slide_type": "subslide"
    }
   },
   "source": [
    "### 기하\n",
    "- **`shape()`**\n",
    "- **`reshape()`**\n",
    "- **`ndim()`**\n",
    "- **`transpose()`**\n",
    "    \n",
    "각종 연산 함수 참고: https://numpy.org/doc/stable/reference/routines.math.html"
   ]
  },
  {
   "cell_type": "markdown",
   "metadata": {},
   "source": [
    "### numpy 함수 실습"
   ]
  },
  {
   "cell_type": "code",
   "execution_count": 32,
   "metadata": {
    "ExecuteTime": {
     "end_time": "2021-09-10T06:12:13.898470Z",
     "start_time": "2021-09-10T06:12:13.891034Z"
    },
    "slideshow": {
     "slide_type": "slide"
    }
   },
   "outputs": [],
   "source": [
    "# 함수 예제를 위한 데이터셋\n",
    "test_list = [1, 2, 3, 4]\n",
    "test_list2 = [[1, 3], [5, 7]]\n",
    "test_flist = [1, 3.14, -4.5]\n",
    "test_list_2nd = [[1, 2, 3],\n",
    "              [4, 5, 6],\n",
    "              [7, 8, 9]]\n",
    "test_list_3rd = [[[1, 2, 3, 4],\n",
    "              [5, 6, 7, 8]],\n",
    "              \n",
    "              [[1, 2, 3, 4],\n",
    "               [5, 6, 7, 8]],\n",
    "\n",
    "              [[1, 2, 3, 4],\n",
    "               [5, 6, 7, 8]]]\n",
    "test_exp = [0, 1, 10]\n",
    "test_nan = [0, np.nan, np.inf]"
   ]
  },
  {
   "cell_type": "code",
   "execution_count": 24,
   "metadata": {
    "ExecuteTime": {
     "end_time": "2021-09-10T05:09:15.033363Z",
     "start_time": "2021-09-10T05:09:15.025741Z"
    },
    "slideshow": {
     "slide_type": "subslide"
    }
   },
   "outputs": [
    {
     "data": {
      "text/plain": [
       "24"
      ]
     },
     "execution_count": 24,
     "metadata": {},
     "output_type": "execute_result"
    }
   ],
   "source": [
    "# 곱연산\n",
    "np.prod(test_list)"
   ]
  },
  {
   "cell_type": "code",
   "execution_count": 29,
   "metadata": {
    "ExecuteTime": {
     "end_time": "2021-09-10T05:10:48.032928Z",
     "start_time": "2021-09-10T05:10:48.028642Z"
    },
    "slideshow": {
     "slide_type": "subslide"
    }
   },
   "outputs": [
    {
     "data": {
      "text/plain": [
       "10"
      ]
     },
     "execution_count": 29,
     "metadata": {},
     "output_type": "execute_result"
    }
   ],
   "source": [
    "# 합연산\n",
    "np.sum(test_list)"
   ]
  },
  {
   "cell_type": "code",
   "execution_count": 30,
   "metadata": {
    "ExecuteTime": {
     "end_time": "2021-09-10T05:10:48.187397Z",
     "start_time": "2021-09-10T05:10:48.181691Z"
    },
    "slideshow": {
     "slide_type": "subslide"
    }
   },
   "outputs": [
    {
     "data": {
      "text/plain": [
       "array([ 1,  2,  6, 24])"
      ]
     },
     "execution_count": 30,
     "metadata": {},
     "output_type": "execute_result"
    }
   ],
   "source": [
    "# 누적곱연산 벡터형태\n",
    "np.cumprod(test_list)"
   ]
  },
  {
   "cell_type": "code",
   "execution_count": 31,
   "metadata": {
    "ExecuteTime": {
     "end_time": "2021-09-10T05:10:54.276205Z",
     "start_time": "2021-09-10T05:10:54.271071Z"
    },
    "slideshow": {
     "slide_type": "subslide"
    }
   },
   "outputs": [
    {
     "data": {
      "text/plain": [
       "array([ 1,  3,  6, 10])"
      ]
     },
     "execution_count": 31,
     "metadata": {},
     "output_type": "execute_result"
    }
   ],
   "source": [
    "# 누적합연산\n",
    "# 매일/매월 매출에 대한 계산을 할 때 자주 사용\n",
    "np.cumsum(test_list)"
   ]
  },
  {
   "cell_type": "code",
   "execution_count": 33,
   "metadata": {
    "ExecuteTime": {
     "end_time": "2021-09-10T05:12:41.330687Z",
     "start_time": "2021-09-10T05:12:41.326338Z"
    },
    "slideshow": {
     "slide_type": "subslide"
    }
   },
   "outputs": [
    {
     "data": {
      "text/plain": [
       "array([1.  , 3.14, 4.5 ])"
      ]
     },
     "execution_count": 33,
     "metadata": {},
     "output_type": "execute_result"
    }
   ],
   "source": [
    "# 절대값\n",
    "np.abs(test_flist)"
   ]
  },
  {
   "cell_type": "code",
   "execution_count": 34,
   "metadata": {
    "ExecuteTime": {
     "end_time": "2021-09-10T05:12:47.590173Z",
     "start_time": "2021-09-10T05:12:47.585931Z"
    },
    "slideshow": {
     "slide_type": "subslide"
    }
   },
   "outputs": [
    {
     "data": {
      "text/plain": [
       "array([1.        , 1.41421356, 1.73205081, 2.        ])"
      ]
     },
     "execution_count": 34,
     "metadata": {},
     "output_type": "execute_result"
    }
   ],
   "source": [
    "# 제곱\n",
    "np.sqrt(test_list)"
   ]
  },
  {
   "cell_type": "code",
   "execution_count": null,
   "metadata": {
    "ExecuteTime": {
     "end_time": "2021-06-19T04:11:03.369518Z",
     "start_time": "2021-06-19T04:11:03.358175Z"
    },
    "slideshow": {
     "slide_type": "subslide"
    }
   },
   "outputs": [],
   "source": [
    "# 루트\n"
   ]
  },
  {
   "cell_type": "code",
   "execution_count": null,
   "metadata": {
    "ExecuteTime": {
     "end_time": "2021-06-19T04:11:18.225586Z",
     "start_time": "2021-06-19T04:11:18.219116Z"
    },
    "slideshow": {
     "slide_type": "subslide"
    }
   },
   "outputs": [],
   "source": [
    "# exp\n"
   ]
  },
  {
   "cell_type": "code",
   "execution_count": null,
   "metadata": {
    "ExecuteTime": {
     "end_time": "2021-08-03T05:01:19.591520Z",
     "start_time": "2021-08-03T05:01:19.585551Z"
    },
    "slideshow": {
     "slide_type": "subslide"
    }
   },
   "outputs": [],
   "source": [
    "# 로그\n"
   ]
  },
  {
   "cell_type": "markdown",
   "metadata": {},
   "source": [
    "### 통계값"
   ]
  },
  {
   "cell_type": "code",
   "execution_count": 35,
   "metadata": {
    "ExecuteTime": {
     "end_time": "2021-09-10T05:16:04.313223Z",
     "start_time": "2021-09-10T05:16:04.308635Z"
    },
    "slideshow": {
     "slide_type": "subslide"
    }
   },
   "outputs": [
    {
     "data": {
      "text/plain": [
       "2.5"
      ]
     },
     "execution_count": 35,
     "metadata": {},
     "output_type": "execute_result"
    }
   ],
   "source": [
    "# 평균\n",
    "np.mean(test_list)"
   ]
  },
  {
   "cell_type": "code",
   "execution_count": 36,
   "metadata": {
    "ExecuteTime": {
     "end_time": "2021-09-10T05:16:16.425156Z",
     "start_time": "2021-09-10T05:16:16.420020Z"
    },
    "slideshow": {
     "slide_type": "subslide"
    }
   },
   "outputs": [
    {
     "data": {
      "text/plain": [
       "1.118033988749895"
      ]
     },
     "execution_count": 36,
     "metadata": {},
     "output_type": "execute_result"
    }
   ],
   "source": [
    "# 표준편차\n",
    "np.std(test_list)"
   ]
  },
  {
   "cell_type": "code",
   "execution_count": 38,
   "metadata": {
    "ExecuteTime": {
     "end_time": "2021-09-10T05:16:25.001704Z",
     "start_time": "2021-09-10T05:16:24.997769Z"
    },
    "slideshow": {
     "slide_type": "subslide"
    }
   },
   "outputs": [
    {
     "data": {
      "text/plain": [
       "1.25"
      ]
     },
     "execution_count": 38,
     "metadata": {},
     "output_type": "execute_result"
    }
   ],
   "source": [
    "# 분산\n",
    "np.var(test_list)"
   ]
  },
  {
   "cell_type": "code",
   "execution_count": 39,
   "metadata": {
    "ExecuteTime": {
     "end_time": "2021-09-10T05:16:28.366567Z",
     "start_time": "2021-09-10T05:16:28.364134Z"
    },
    "slideshow": {
     "slide_type": "subslide"
    }
   },
   "outputs": [],
   "source": [
    "# 최대값\n"
   ]
  },
  {
   "cell_type": "code",
   "execution_count": 40,
   "metadata": {
    "ExecuteTime": {
     "end_time": "2021-09-10T05:16:28.688441Z",
     "start_time": "2021-09-10T05:16:28.686218Z"
    },
    "slideshow": {
     "slide_type": "subslide"
    }
   },
   "outputs": [],
   "source": [
    "# 최소값\n"
   ]
  },
  {
   "cell_type": "code",
   "execution_count": 41,
   "metadata": {
    "ExecuteTime": {
     "end_time": "2021-09-10T05:16:39.635520Z",
     "start_time": "2021-09-10T05:16:39.627635Z"
    }
   },
   "outputs": [
    {
     "data": {
      "text/plain": [
       "[[1, 2, 3], [4, 5, 6], [7, 8, 9]]"
      ]
     },
     "execution_count": 41,
     "metadata": {},
     "output_type": "execute_result"
    }
   ],
   "source": [
    "test_list_2nd"
   ]
  },
  {
   "cell_type": "code",
   "execution_count": 43,
   "metadata": {
    "ExecuteTime": {
     "end_time": "2021-09-10T05:17:18.721990Z",
     "start_time": "2021-09-10T05:17:18.716311Z"
    },
    "slideshow": {
     "slide_type": "subslide"
    }
   },
   "outputs": [
    {
     "data": {
      "text/plain": [
       "8"
      ]
     },
     "execution_count": 43,
     "metadata": {},
     "output_type": "execute_result"
    }
   ],
   "source": [
    "# 최대값이 존재하고 있는 인덱스 넘버를 리턴\n",
    "# 출력값이 인덱스\n",
    "np.argmax(test_list_2nd)"
   ]
  },
  {
   "cell_type": "code",
   "execution_count": 44,
   "metadata": {
    "ExecuteTime": {
     "end_time": "2021-09-10T05:17:32.482569Z",
     "start_time": "2021-09-10T05:17:32.477040Z"
    },
    "slideshow": {
     "slide_type": "subslide"
    }
   },
   "outputs": [
    {
     "data": {
      "text/plain": [
       "0"
      ]
     },
     "execution_count": 44,
     "metadata": {},
     "output_type": "execute_result"
    }
   ],
   "source": [
    "# 최소값 인덱스\n",
    "np.argmin(test_list_2nd)"
   ]
  },
  {
   "cell_type": "code",
   "execution_count": 50,
   "metadata": {
    "ExecuteTime": {
     "end_time": "2021-09-10T05:19:18.002464Z",
     "start_time": "2021-09-10T05:19:17.997357Z"
    },
    "slideshow": {
     "slide_type": "subslide"
    }
   },
   "outputs": [
    {
     "data": {
      "text/plain": [
       "array([10, 20, 30, 40, 50, 60, 70, 80, 90])"
      ]
     },
     "execution_count": 50,
     "metadata": {},
     "output_type": "execute_result"
    }
   ],
   "source": [
    "# 범위설정\n",
    "# range() 함수와 동일하게 작동함\n",
    "# for i in range(0, 100, 10):\n",
    "#     print(i)\n",
    "#(시작포인트, 마지막포인트+1, 스텝수)\n",
    "np.arange(10, 100, 10)"
   ]
  },
  {
   "cell_type": "code",
   "execution_count": 54,
   "metadata": {
    "ExecuteTime": {
     "end_time": "2021-09-10T05:21:58.477592Z",
     "start_time": "2021-09-10T05:21:58.470615Z"
    }
   },
   "outputs": [
    {
     "data": {
      "text/plain": [
       "array([ 0.        ,  0.20408163,  0.40816327,  0.6122449 ,  0.81632653,\n",
       "        1.02040816,  1.2244898 ,  1.42857143,  1.63265306,  1.83673469,\n",
       "        2.04081633,  2.24489796,  2.44897959,  2.65306122,  2.85714286,\n",
       "        3.06122449,  3.26530612,  3.46938776,  3.67346939,  3.87755102,\n",
       "        4.08163265,  4.28571429,  4.48979592,  4.69387755,  4.89795918,\n",
       "        5.10204082,  5.30612245,  5.51020408,  5.71428571,  5.91836735,\n",
       "        6.12244898,  6.32653061,  6.53061224,  6.73469388,  6.93877551,\n",
       "        7.14285714,  7.34693878,  7.55102041,  7.75510204,  7.95918367,\n",
       "        8.16326531,  8.36734694,  8.57142857,  8.7755102 ,  8.97959184,\n",
       "        9.18367347,  9.3877551 ,  9.59183673,  9.79591837, 10.        ])"
      ]
     },
     "execution_count": 54,
     "metadata": {},
     "output_type": "execute_result"
    }
   ],
   "source": [
    "# 범위설정2\n",
    "#(시작포인트, 마지막포인트+1, 데이터수)\n",
    "np.linspace(0, 10, 50)  # 0~10까지 50개 동일간격으로"
   ]
  },
  {
   "cell_type": "code",
   "execution_count": 56,
   "metadata": {
    "ExecuteTime": {
     "end_time": "2021-09-10T05:22:25.975447Z",
     "start_time": "2021-09-10T05:22:25.970870Z"
    }
   },
   "outputs": [
    {
     "data": {
      "text/plain": [
       "[0, nan, inf]"
      ]
     },
     "execution_count": 56,
     "metadata": {},
     "output_type": "execute_result"
    }
   ],
   "source": [
    "test_nan"
   ]
  },
  {
   "cell_type": "code",
   "execution_count": 55,
   "metadata": {
    "ExecuteTime": {
     "end_time": "2021-09-10T05:22:18.692186Z",
     "start_time": "2021-09-10T05:22:18.687515Z"
    },
    "slideshow": {
     "slide_type": "subslide"
    }
   },
   "outputs": [
    {
     "data": {
      "text/plain": [
       "array([False,  True, False])"
      ]
     },
     "execution_count": 55,
     "metadata": {},
     "output_type": "execute_result"
    }
   ],
   "source": [
    "# 결측 확인(nan 확인)\n",
    "np.isnan(test_nan)"
   ]
  },
  {
   "cell_type": "code",
   "execution_count": 57,
   "metadata": {
    "ExecuteTime": {
     "end_time": "2021-09-10T05:23:33.565350Z",
     "start_time": "2021-09-10T05:23:33.559958Z"
    },
    "slideshow": {
     "slide_type": "subslide"
    }
   },
   "outputs": [
    {
     "data": {
      "text/plain": [
       "array([False, False,  True])"
      ]
     },
     "execution_count": 57,
     "metadata": {},
     "output_type": "execute_result"
    }
   ],
   "source": [
    "# 발산 확인(무한대 확인)\n",
    "np.isinf(test_nan)"
   ]
  },
  {
   "cell_type": "code",
   "execution_count": 58,
   "metadata": {
    "ExecuteTime": {
     "end_time": "2021-09-10T05:24:11.581008Z",
     "start_time": "2021-09-10T05:24:11.576077Z"
    }
   },
   "outputs": [
    {
     "data": {
      "text/plain": [
       "[[[1, 2, 3, 4], [5, 6, 7, 8]],\n",
       " [[1, 2, 3, 4], [5, 6, 7, 8]],\n",
       " [[1, 2, 3, 4], [5, 6, 7, 8]]]"
      ]
     },
     "execution_count": 58,
     "metadata": {},
     "output_type": "execute_result"
    }
   ],
   "source": [
    "test_list_3rd"
   ]
  },
  {
   "cell_type": "code",
   "execution_count": 60,
   "metadata": {
    "ExecuteTime": {
     "end_time": "2021-09-10T05:25:36.800801Z",
     "start_time": "2021-09-10T05:25:36.795599Z"
    },
    "slideshow": {
     "slide_type": "subslide"
    }
   },
   "outputs": [
    {
     "data": {
      "text/plain": [
       "8"
      ]
     },
     "execution_count": 60,
     "metadata": {},
     "output_type": "execute_result"
    }
   ],
   "source": [
    "# 고유값 확인\n",
    "np.unique(test_list_3rd)\n",
    "len(np.unique(test_list_3rd))"
   ]
  },
  {
   "cell_type": "code",
   "execution_count": 61,
   "metadata": {
    "ExecuteTime": {
     "end_time": "2021-09-10T05:25:53.297172Z",
     "start_time": "2021-09-10T05:25:53.292612Z"
    },
    "slideshow": {
     "slide_type": "subslide"
    }
   },
   "outputs": [
    {
     "data": {
      "text/plain": [
       "(3, 2, 4)"
      ]
     },
     "execution_count": 61,
     "metadata": {},
     "output_type": "execute_result"
    }
   ],
   "source": [
    "# 데이터 구조(모양)확인(차원 확인)\n",
    "# 안쪽(열)shape부터 확인하자\n",
    "np.shape(test_list_3rd)"
   ]
  },
  {
   "cell_type": "code",
   "execution_count": 63,
   "metadata": {
    "ExecuteTime": {
     "end_time": "2021-09-10T05:28:24.481554Z",
     "start_time": "2021-09-10T05:28:24.475860Z"
    },
    "slideshow": {
     "slide_type": "subslide"
    }
   },
   "outputs": [
    {
     "data": {
      "text/plain": [
       "array([[[1, 2, 3, 4, 5, 6],\n",
       "        [7, 8, 1, 2, 3, 4]],\n",
       "\n",
       "       [[5, 6, 7, 8, 1, 2],\n",
       "        [3, 4, 5, 6, 7, 8]]])"
      ]
     },
     "execution_count": 63,
     "metadata": {},
     "output_type": "execute_result"
    }
   ],
   "source": [
    "# 데이터 shape 변경\n",
    "# 어떤 조건에서 reshape가능한가? 데이터 내부에 존재하는 속성 갯수가 같아야 함.\n",
    "np.reshape(test_list_3rd, (4,6))\n",
    "np.reshape(test_list_3rd, (2,2,6))"
   ]
  },
  {
   "cell_type": "code",
   "execution_count": 74,
   "metadata": {
    "ExecuteTime": {
     "end_time": "2021-09-10T05:33:24.976944Z",
     "start_time": "2021-09-10T05:33:24.972331Z"
    }
   },
   "outputs": [
    {
     "data": {
      "text/plain": [
       "[[[1, 2, 3, 4], [5, 6, 7, 8]],\n",
       " [[1, 2, 3, 4], [5, 6, 7, 8]],\n",
       " [[1, 2, 3, 4], [5, 6, 7, 8]]]"
      ]
     },
     "execution_count": 74,
     "metadata": {},
     "output_type": "execute_result"
    }
   ],
   "source": [
    "test_list_3rd"
   ]
  },
  {
   "cell_type": "code",
   "execution_count": 64,
   "metadata": {
    "ExecuteTime": {
     "end_time": "2021-09-10T05:30:24.919268Z",
     "start_time": "2021-09-10T05:30:24.914554Z"
    },
    "slideshow": {
     "slide_type": "subslide"
    }
   },
   "outputs": [
    {
     "data": {
      "text/plain": [
       "3"
      ]
     },
     "execution_count": 64,
     "metadata": {},
     "output_type": "execute_result"
    }
   ],
   "source": [
    "# 데이터 차원확인\n",
    "np.ndim(test_list_3rd)\n",
    "# 기하학적 데이터의 차원수를 이야기하고 데이터분식시 열기준으로 차원을 이야기한다"
   ]
  },
  {
   "cell_type": "code",
   "execution_count": 67,
   "metadata": {
    "ExecuteTime": {
     "end_time": "2021-09-10T05:31:38.497124Z",
     "start_time": "2021-09-10T05:31:38.489599Z"
    }
   },
   "outputs": [
    {
     "data": {
      "text/plain": [
       "[[1, 2, 3], [4, 5, 6], [7, 8, 9]]"
      ]
     },
     "execution_count": 67,
     "metadata": {},
     "output_type": "execute_result"
    }
   ],
   "source": [
    "test_list_2nd"
   ]
  },
  {
   "cell_type": "code",
   "execution_count": 68,
   "metadata": {
    "ExecuteTime": {
     "end_time": "2021-09-10T05:31:47.100752Z",
     "start_time": "2021-09-10T05:31:47.096608Z"
    },
    "slideshow": {
     "slide_type": "subslide"
    }
   },
   "outputs": [
    {
     "data": {
      "text/plain": [
       "array([[1, 4, 7],\n",
       "       [2, 5, 8],\n",
       "       [3, 6, 9]])"
      ]
     },
     "execution_count": 68,
     "metadata": {},
     "output_type": "execute_result"
    }
   ],
   "source": [
    "# 전치행렬\n",
    "np.transpose(test_list_2nd)"
   ]
  },
  {
   "cell_type": "code",
   "execution_count": 69,
   "metadata": {
    "ExecuteTime": {
     "end_time": "2021-09-10T05:31:58.082208Z",
     "start_time": "2021-09-10T05:31:58.078115Z"
    }
   },
   "outputs": [
    {
     "data": {
      "text/plain": [
       "[1, 2, 3, 4]"
      ]
     },
     "execution_count": 69,
     "metadata": {},
     "output_type": "execute_result"
    }
   ],
   "source": [
    "test_list"
   ]
  },
  {
   "cell_type": "code",
   "execution_count": 73,
   "metadata": {
    "ExecuteTime": {
     "end_time": "2021-09-10T05:32:47.986368Z",
     "start_time": "2021-09-10T05:32:47.974560Z"
    }
   },
   "outputs": [
    {
     "ename": "AttributeError",
     "evalue": "module 'numpy' has no attribute 'test_list'",
     "output_type": "error",
     "traceback": [
      "\u001b[0;31m---------------------------------------------------------------------------\u001b[0m",
      "\u001b[0;31mAttributeError\u001b[0m                            Traceback (most recent call last)",
      "\u001b[0;32m/var/folders/c0/q_ltjrb55gzc5wvhsv7s_vsh0000gn/T/ipykernel_35936/3766500644.py\u001b[0m in \u001b[0;36m<module>\u001b[0;34m\u001b[0m\n\u001b[0;32m----> 1\u001b[0;31m \u001b[0mnp\u001b[0m\u001b[0;34m.\u001b[0m\u001b[0mtest_list\u001b[0m \u001b[0;34m*\u001b[0m \u001b[0mnp\u001b[0m\u001b[0;34m.\u001b[0m\u001b[0mtranspose\u001b[0m\u001b[0;34m(\u001b[0m\u001b[0mtest_list\u001b[0m\u001b[0;34m)\u001b[0m\u001b[0;34m\u001b[0m\u001b[0;34m\u001b[0m\u001b[0m\n\u001b[0m",
      "\u001b[0;32m/opt/homebrew/lib/python3.9/site-packages/numpy/__init__.py\u001b[0m in \u001b[0;36m__getattr__\u001b[0;34m(attr)\u001b[0m\n\u001b[1;32m    311\u001b[0m                 \u001b[0;32mreturn\u001b[0m \u001b[0mTester\u001b[0m\u001b[0;34m\u001b[0m\u001b[0;34m\u001b[0m\u001b[0m\n\u001b[1;32m    312\u001b[0m \u001b[0;34m\u001b[0m\u001b[0m\n\u001b[0;32m--> 313\u001b[0;31m             raise AttributeError(\"module {!r} has no attribute \"\n\u001b[0m\u001b[1;32m    314\u001b[0m                                  \"{!r}\".format(__name__, attr))\n\u001b[1;32m    315\u001b[0m \u001b[0;34m\u001b[0m\u001b[0m\n",
      "\u001b[0;31mAttributeError\u001b[0m: module 'numpy' has no attribute 'test_list'"
     ]
    }
   ],
   "source": []
  },
  {
   "cell_type": "markdown",
   "metadata": {
    "slideshow": {
     "slide_type": "slide"
    }
   },
   "source": [
    "## Numpy array (배열, 행렬)\n",
    "> - numpy 연산의 기본이 되는 데이터 구조입니다.  \n",
    "- 리스트보다 간편하게 만들 수 있으며 **연산이 빠른** 장점이 있습니다.  \n",
    "- **브로드캐스팅 연산을 지원**합니다.  \n",
    "- 단, **같은 type**의 데이터만 저장 가능합니다.  \n",
    "- array 또한 numpy의 기본 함수로서 생성 가능합니다.  \n",
    ">> array 함수 호출 기본구조  \n",
    "ex) **`np.array(배열변환 대상 데이터)`**  \n",
    "ex) **`np.arange(start, end, step_forward)`**"
   ]
  },
  {
   "cell_type": "markdown",
   "metadata": {},
   "source": [
    "### numpy array 실습"
   ]
  },
  {
   "cell_type": "code",
   "execution_count": 33,
   "metadata": {
    "ExecuteTime": {
     "end_time": "2021-09-10T06:12:22.423895Z",
     "start_time": "2021-09-10T06:12:22.417592Z"
    },
    "slideshow": {
     "slide_type": "subslide"
    }
   },
   "outputs": [],
   "source": [
    "# 기존 데이터 구조를 array로 변환\n",
    "test_array = np.array(test_list)\n",
    "test_array2 = np.array(test_list2)\n",
    "test_farray = np.array(test_flist)\n",
    "test_array_2nd = np.array(test_list_2nd)\n",
    "test_array_3rd = np.array(test_list_3rd)"
   ]
  },
  {
   "cell_type": "code",
   "execution_count": 80,
   "metadata": {
    "ExecuteTime": {
     "end_time": "2021-09-10T05:38:32.511908Z",
     "start_time": "2021-09-10T05:38:32.507772Z"
    }
   },
   "outputs": [
    {
     "data": {
      "text/plain": [
       "array([1, 2, 3, 4])"
      ]
     },
     "execution_count": 80,
     "metadata": {},
     "output_type": "execute_result"
    }
   ],
   "source": [
    "# array 생성 확인\n",
    "test_array"
   ]
  },
  {
   "cell_type": "code",
   "execution_count": 86,
   "metadata": {
    "ExecuteTime": {
     "end_time": "2021-09-10T05:43:57.403863Z",
     "start_time": "2021-09-10T05:43:57.400916Z"
    }
   },
   "outputs": [],
   "source": [
    "array_list = [1,2,4.5]"
   ]
  },
  {
   "cell_type": "code",
   "execution_count": 87,
   "metadata": {
    "ExecuteTime": {
     "end_time": "2021-09-10T05:43:57.577631Z",
     "start_time": "2021-09-10T05:43:57.574488Z"
    }
   },
   "outputs": [],
   "source": [
    "# 같은 타입의 데이터만 들어가는지 확인\n",
    "array_test = np.array(array_list)"
   ]
  },
  {
   "cell_type": "code",
   "execution_count": 88,
   "metadata": {
    "ExecuteTime": {
     "end_time": "2021-09-10T05:43:57.739681Z",
     "start_time": "2021-09-10T05:43:57.735110Z"
    }
   },
   "outputs": [
    {
     "data": {
      "text/plain": [
       "array([1. , 2. , 4.5])"
      ]
     },
     "execution_count": 88,
     "metadata": {},
     "output_type": "execute_result"
    }
   ],
   "source": [
    "array_test   # 정수, 실수, 문자열 순으로 전체 타입이 설정됨"
   ]
  },
  {
   "cell_type": "code",
   "execution_count": 93,
   "metadata": {
    "ExecuteTime": {
     "end_time": "2021-09-10T05:45:20.460947Z",
     "start_time": "2021-09-10T05:45:20.456361Z"
    }
   },
   "outputs": [
    {
     "data": {
      "text/plain": [
       "array([[1, 2, 3],\n",
       "       [4, 5, 6],\n",
       "       [7, 8, 9]])"
      ]
     },
     "execution_count": 93,
     "metadata": {},
     "output_type": "execute_result"
    }
   ],
   "source": [
    "# 2차원 배열 확인\n",
    "test_list_2nd\n",
    "# 2차원 배열을 좀 더 편하게 보여줌\n",
    "test_array_2nd"
   ]
  },
  {
   "cell_type": "code",
   "execution_count": 96,
   "metadata": {
    "ExecuteTime": {
     "end_time": "2021-09-10T05:45:41.179508Z",
     "start_time": "2021-09-10T05:45:41.174341Z"
    }
   },
   "outputs": [
    {
     "data": {
      "text/plain": [
       "array([[[1, 2, 3, 4],\n",
       "        [5, 6, 7, 8]],\n",
       "\n",
       "       [[1, 2, 3, 4],\n",
       "        [5, 6, 7, 8]],\n",
       "\n",
       "       [[1, 2, 3, 4],\n",
       "        [5, 6, 7, 8]]])"
      ]
     },
     "execution_count": 96,
     "metadata": {},
     "output_type": "execute_result"
    }
   ],
   "source": [
    "# 3차원 배열 확인\n",
    "test_list_3rd\n",
    "test_array_3rd"
   ]
  },
  {
   "cell_type": "code",
   "execution_count": 98,
   "metadata": {
    "ExecuteTime": {
     "end_time": "2021-09-10T05:46:16.451523Z",
     "start_time": "2021-09-10T05:46:16.446279Z"
    },
    "slideshow": {
     "slide_type": "subslide"
    }
   },
   "outputs": [
    {
     "data": {
      "text/plain": [
       "array([[ 0,  1,  2,  3,  4],\n",
       "       [ 5,  6,  7,  8,  9],\n",
       "       [10, 11, 12, 13, 14],\n",
       "       [15, 16, 17, 18, 19],\n",
       "       [20, 21, 22, 23, 24]])"
      ]
     },
     "execution_count": 98,
     "metadata": {},
     "output_type": "execute_result"
    }
   ],
   "source": [
    "# np.arange 함수로 생성\n",
    "np.arange(25).reshape(5,5)"
   ]
  },
  {
   "cell_type": "code",
   "execution_count": 101,
   "metadata": {
    "ExecuteTime": {
     "end_time": "2021-09-10T05:47:33.097726Z",
     "start_time": "2021-09-10T05:47:33.091239Z"
    }
   },
   "outputs": [
    {
     "data": {
      "text/plain": [
       "array([[ 1,  2,  3,  4,  5,  6,  7,  8,  9, 10, 11, 12],\n",
       "       [13, 14, 15, 16, 17, 18, 19, 20, 21, 22, 23, 24]])"
      ]
     },
     "execution_count": 101,
     "metadata": {},
     "output_type": "execute_result"
    }
   ],
   "source": [
    "np.arange(1,25).reshape(2,12)"
   ]
  },
  {
   "cell_type": "markdown",
   "metadata": {
    "slideshow": {
     "slide_type": "slide"
    }
   },
   "source": [
    "### 특수한 형태의 array를 함수로 생성\n",
    "함수 호출의 기본구조\n",
    "> ex) **`np.ones([자료구조 shape])`**  \n",
    ">> 자료구조 shape은 정수, **[ ]**리스트, **( )** 튜플 로만 입력가능합니다.\n",
    "- ones()\n",
    "- zeros()\n",
    "- empty()\n",
    "- eye()"
   ]
  },
  {
   "cell_type": "code",
   "execution_count": 106,
   "metadata": {
    "ExecuteTime": {
     "end_time": "2021-09-10T06:03:20.672416Z",
     "start_time": "2021-09-10T06:03:20.667821Z"
    },
    "slideshow": {
     "slide_type": "subslide"
    }
   },
   "outputs": [
    {
     "data": {
      "text/plain": [
       "array([[1., 1., 1.],\n",
       "       [1., 1., 1.],\n",
       "       [1., 1., 1.]])"
      ]
     },
     "execution_count": 106,
     "metadata": {},
     "output_type": "execute_result"
    }
   ],
   "source": [
    "# 1로 초기화한 array 생성\n",
    "np.ones([3,3])"
   ]
  },
  {
   "cell_type": "code",
   "execution_count": 107,
   "metadata": {
    "ExecuteTime": {
     "end_time": "2021-09-10T06:04:16.132050Z",
     "start_time": "2021-09-10T06:04:16.126150Z"
    },
    "slideshow": {
     "slide_type": "subslide"
    }
   },
   "outputs": [
    {
     "data": {
      "text/plain": [
       "array([[0., 0., 0., 0., 0.],\n",
       "       [0., 0., 0., 0., 0.],\n",
       "       [0., 0., 0., 0., 0.],\n",
       "       [0., 0., 0., 0., 0.],\n",
       "       [0., 0., 0., 0., 0.]])"
      ]
     },
     "execution_count": 107,
     "metadata": {},
     "output_type": "execute_result"
    }
   ],
   "source": [
    "# 0으로 초기화\n",
    "np.zeros((5,5))"
   ]
  },
  {
   "cell_type": "code",
   "execution_count": 4,
   "metadata": {
    "ExecuteTime": {
     "end_time": "2021-09-10T06:06:28.577798Z",
     "start_time": "2021-09-10T06:06:28.572545Z"
    },
    "slideshow": {
     "slide_type": "subslide"
    }
   },
   "outputs": [
    {
     "data": {
      "text/plain": [
       "array([[0., 0.],\n",
       "       [0., 0.]])"
      ]
     },
     "execution_count": 4,
     "metadata": {},
     "output_type": "execute_result"
    }
   ],
   "source": [
    "# 빈 값으로 초기화\n",
    "np.empty((2,2))"
   ]
  },
  {
   "cell_type": "code",
   "execution_count": 25,
   "metadata": {
    "ExecuteTime": {
     "end_time": "2021-09-10T06:11:13.935249Z",
     "start_time": "2021-09-10T06:11:13.926561Z"
    },
    "slideshow": {
     "slide_type": "subslide"
    }
   },
   "outputs": [
    {
     "data": {
      "text/plain": [
       "array([[1., 0., 0., 0.],\n",
       "       [0., 1., 0., 0.],\n",
       "       [0., 0., 1., 0.],\n",
       "       [0., 0., 0., 1.]])"
      ]
     },
     "execution_count": 25,
     "metadata": {},
     "output_type": "execute_result"
    }
   ],
   "source": [
    "# 항등행렬 초기화\n",
    "# A X 항등행렬 = A\n",
    "# shape가 안맞는 경우 연산이 가능하도록 만들때 사용\n",
    "np.eye(4,4)\n",
    "\n",
    "# 예시\n",
    "# 날짜 매출\n",
    "# 날짜 매출\n",
    "# 날짜 매출\n",
    "# 날짜 매출\n",
    "# 날짜 매출\n",
    "\n",
    "# 날짜 날짜 날짜 날짜 날짜\n",
    "# 매출 없고 없고 없고 없고\n",
    "# 없고 매출 없고 없고 없고\n",
    "# 없고 없고 매출 없고 없고 "
   ]
  },
  {
   "cell_type": "code",
   "execution_count": 29,
   "metadata": {
    "ExecuteTime": {
     "end_time": "2021-09-10T06:11:27.847280Z",
     "start_time": "2021-09-10T06:11:27.841824Z"
    }
   },
   "outputs": [
    {
     "data": {
      "text/plain": [
       "array([[ 0.,  1.,  2.,  3.],\n",
       "       [ 4.,  5.,  6.,  7.],\n",
       "       [ 8.,  9., 10., 11.],\n",
       "       [12., 13., 14., 15.]])"
      ]
     },
     "execution_count": 29,
     "metadata": {},
     "output_type": "execute_result"
    }
   ],
   "source": [
    "np.arange(16).reshape(4,4) @ np.eye(4,4)"
   ]
  },
  {
   "cell_type": "code",
   "execution_count": 39,
   "metadata": {
    "ExecuteTime": {
     "end_time": "2021-09-10T06:13:22.683487Z",
     "start_time": "2021-09-10T06:13:22.679487Z"
    }
   },
   "outputs": [
    {
     "data": {
      "text/plain": [
       "array([1, 2, 3, 4])"
      ]
     },
     "execution_count": 39,
     "metadata": {},
     "output_type": "execute_result"
    }
   ],
   "source": [
    "test_array @ np.transpose(test_array)"
   ]
  },
  {
   "cell_type": "markdown",
   "metadata": {
    "slideshow": {
     "slide_type": "slide"
    }
   },
   "source": [
    "### array 속성 및 내장함수\n",
    "`np.array` 에는 유용한 수리, 통계 연산을 위한 함수가 갖추어져 있습니다. 다차원 기하학적 연산을 위한 함수도 함께 살펴보겠습니다.  \n",
    "    \n",
    "> array 내장 속성 호출 기본구조  \n",
    "ex) **`test_array.ndim`**  \n",
    "자주 사용하는 속성 `shape`, `dtype`, `ndim`\n",
    "    \n",
    "> array 내장함수 호출 기본구조  \n",
    "ex) **`test_array.prod()`**\n",
    "    \n",
    "위에 학습한 np.sum() 과는 달리 array 변수의 인자를 받아 그대로 사용합니다."
   ]
  },
  {
   "cell_type": "markdown",
   "metadata": {
    "slideshow": {
     "slide_type": "subslide"
    }
   },
   "source": [
    "#### array 속성"
   ]
  },
  {
   "cell_type": "code",
   "execution_count": 46,
   "metadata": {
    "ExecuteTime": {
     "end_time": "2021-09-10T06:20:54.184817Z",
     "start_time": "2021-09-10T06:20:54.179949Z"
    }
   },
   "outputs": [
    {
     "data": {
      "text/plain": [
       "array([[[1, 2, 3, 4],\n",
       "        [5, 6, 7, 8]],\n",
       "\n",
       "       [[1, 2, 3, 4],\n",
       "        [5, 6, 7, 8]],\n",
       "\n",
       "       [[1, 2, 3, 4],\n",
       "        [5, 6, 7, 8]]])"
      ]
     },
     "execution_count": 46,
     "metadata": {},
     "output_type": "execute_result"
    }
   ],
   "source": [
    "test_array_3rd"
   ]
  },
  {
   "cell_type": "code",
   "execution_count": 45,
   "metadata": {
    "ExecuteTime": {
     "end_time": "2021-09-10T06:20:48.306745Z",
     "start_time": "2021-09-10T06:20:48.302241Z"
    },
    "slideshow": {
     "slide_type": "fragment"
    }
   },
   "outputs": [
    {
     "data": {
      "text/plain": [
       "dtype('int64')"
      ]
     },
     "execution_count": 45,
     "metadata": {},
     "output_type": "execute_result"
    }
   ],
   "source": [
    "# 데이터 타입확인\n",
    "test_array_3rd.dtype"
   ]
  },
  {
   "cell_type": "code",
   "execution_count": 43,
   "metadata": {
    "ExecuteTime": {
     "end_time": "2021-09-10T06:20:15.049761Z",
     "start_time": "2021-09-10T06:20:15.045259Z"
    },
    "slideshow": {
     "slide_type": "subslide"
    }
   },
   "outputs": [
    {
     "data": {
      "text/plain": [
       "(3, 2, 4)"
      ]
     },
     "execution_count": 43,
     "metadata": {},
     "output_type": "execute_result"
    }
   ],
   "source": [
    "# 데이터 타입 확인\n",
    "test_array_3rd.shape"
   ]
  },
  {
   "cell_type": "code",
   "execution_count": 47,
   "metadata": {
    "ExecuteTime": {
     "end_time": "2021-09-10T06:20:59.766164Z",
     "start_time": "2021-09-10T06:20:59.761569Z"
    },
    "slideshow": {
     "slide_type": "subslide"
    }
   },
   "outputs": [
    {
     "data": {
      "text/plain": [
       "3"
      ]
     },
     "execution_count": 47,
     "metadata": {},
     "output_type": "execute_result"
    }
   ],
   "source": [
    "# 데이터 차원 확인\n",
    "test_array_3rd.ndim"
   ]
  },
  {
   "cell_type": "code",
   "execution_count": 51,
   "metadata": {
    "ExecuteTime": {
     "end_time": "2021-09-10T06:29:21.240973Z",
     "start_time": "2021-09-10T06:29:21.235307Z"
    },
    "slideshow": {
     "slide_type": "subslide"
    }
   },
   "outputs": [
    {
     "data": {
      "text/plain": [
       "array([[[1, 1, 1],\n",
       "        [5, 5, 5]],\n",
       "\n",
       "       [[2, 2, 2],\n",
       "        [6, 6, 6]],\n",
       "\n",
       "       [[3, 3, 3],\n",
       "        [7, 7, 7]],\n",
       "\n",
       "       [[4, 4, 4],\n",
       "        [8, 8, 8]]])"
      ]
     },
     "execution_count": 51,
     "metadata": {},
     "output_type": "execute_result"
    }
   ],
   "source": [
    "# 전치행렬\n",
    "np.transpose(test_array_3rd)\n",
    "test_array_3rd.T"
   ]
  },
  {
   "cell_type": "markdown",
   "metadata": {
    "slideshow": {
     "slide_type": "slide"
    }
   },
   "source": [
    "#### array 내장함수"
   ]
  },
  {
   "cell_type": "code",
   "execution_count": 60,
   "metadata": {
    "ExecuteTime": {
     "end_time": "2021-09-10T06:35:05.284188Z",
     "start_time": "2021-09-10T06:35:05.277690Z"
    }
   },
   "outputs": [
    {
     "data": {
      "text/plain": [
       "array([1.        , 1.41421356, 1.73205081, 2.        ])"
      ]
     },
     "execution_count": 60,
     "metadata": {},
     "output_type": "execute_result"
    }
   ],
   "source": [
    "# 내장함수 호출\n",
    "test_array.mean()\n",
    "np.sqrt(test_array)"
   ]
  },
  {
   "cell_type": "code",
   "execution_count": null,
   "metadata": {
    "slideshow": {
     "slide_type": "fragment"
    }
   },
   "outputs": [],
   "source": [
    "# numpy 함수와 키워드가 같습니다.\n",
    "test_array.prod()\n",
    "test_array.sum(axis=)\n",
    "...\n",
    "... "
   ]
  },
  {
   "cell_type": "markdown",
   "metadata": {
    "slideshow": {
     "slide_type": "slide"
    }
   },
   "source": [
    "### array 연산\n",
    "컴퓨팅 연산을 위한 패키지인 만큼 편리한 배열 연산 기능을 지원합니다. 여러 array 연산을 통해 다른 자료구조와의 연산 차이를 알아봅시다."
   ]
  },
  {
   "cell_type": "code",
   "execution_count": 64,
   "metadata": {
    "ExecuteTime": {
     "end_time": "2021-09-10T06:38:43.168841Z",
     "start_time": "2021-09-10T06:38:43.163695Z"
    }
   },
   "outputs": [
    {
     "data": {
      "text/plain": [
       "[2, 4, 6, 8, 10]"
      ]
     },
     "execution_count": 64,
     "metadata": {},
     "output_type": "execute_result"
    }
   ],
   "source": [
    "test_list = [1,2,3,4,5]\n",
    "test_list2 = [x*2 for x in test_list]\n",
    "test_list2"
   ]
  },
  {
   "cell_type": "code",
   "execution_count": 67,
   "metadata": {
    "ExecuteTime": {
     "end_time": "2021-09-10T06:41:20.102696Z",
     "start_time": "2021-09-10T06:41:20.097707Z"
    },
    "slideshow": {
     "slide_type": "subslide"
    }
   },
   "outputs": [
    {
     "data": {
      "text/plain": [
       "array([False,  True,  True,  True,  True])"
      ]
     },
     "execution_count": 67,
     "metadata": {},
     "output_type": "execute_result"
    }
   ],
   "source": [
    "# array 덧셈, 뺄셈, 곱셈, 나눗셈\n",
    "test_array = np.array(test_list)\n",
    "test_array > 1"
   ]
  },
  {
   "cell_type": "code",
   "execution_count": 68,
   "metadata": {
    "ExecuteTime": {
     "end_time": "2021-09-10T06:41:53.046546Z",
     "start_time": "2021-09-10T06:41:52.994289Z"
    },
    "slideshow": {
     "slide_type": "fragment"
    }
   },
   "outputs": [
    {
     "data": {
      "text/plain": [
       "(400000, 400000)"
      ]
     },
     "execution_count": 68,
     "metadata": {},
     "output_type": "execute_result"
    }
   ],
   "source": [
    "# 실제 연산속도 차이를 확인하기 위한 큰 데이터 생성\n",
    "big_list = [x for x in range(400000)]\n",
    "big_array = np.array(big_list)\n",
    "len(big_list), len(big_array)"
   ]
  },
  {
   "cell_type": "code",
   "execution_count": 77,
   "metadata": {
    "ExecuteTime": {
     "end_time": "2021-09-10T06:46:57.665484Z",
     "start_time": "2021-09-10T06:46:57.660996Z"
    }
   },
   "outputs": [
    {
     "name": "stderr",
     "output_type": "stream",
     "text": [
      "UsageError: Line magic function `%%time` not found.\n"
     ]
    }
   ],
   "source": [
    "# for로 각 리스트에 1씩 값을 더함\n",
    "big_list2 = [x+1 for x in big_list]  # 일반적인 for문보다 빠름(파이썬은 줄단위로 값을 확인)\n",
    "\n",
    "# for index, item in enumerate(big_list):\n",
    "#     big_list[index] = item + 1"
   ]
  },
  {
   "cell_type": "code",
   "execution_count": 75,
   "metadata": {
    "ExecuteTime": {
     "end_time": "2021-09-10T06:46:00.338436Z",
     "start_time": "2021-09-10T06:46:00.332142Z"
    }
   },
   "outputs": [
    {
     "data": {
      "text/plain": [
       "array([     1,      2,      3, ..., 399998, 399999, 400000])"
      ]
     },
     "execution_count": 75,
     "metadata": {},
     "output_type": "execute_result"
    }
   ],
   "source": [
    "# array성질을 이용\n",
    "big_array + 1"
   ]
  },
  {
   "cell_type": "code",
   "execution_count": 78,
   "metadata": {
    "ExecuteTime": {
     "end_time": "2021-09-10T07:02:55.295049Z",
     "start_time": "2021-09-10T07:02:55.290635Z"
    },
    "slideshow": {
     "slide_type": "subslide"
    }
   },
   "outputs": [],
   "source": [
    "# 행렬내적\n",
    "first_array = np.arange(15).reshape(5, 3)\n",
    "second_array = np.arange(15).reshape(3, 5)"
   ]
  },
  {
   "cell_type": "code",
   "execution_count": 79,
   "metadata": {
    "ExecuteTime": {
     "end_time": "2021-09-10T07:02:56.933656Z",
     "start_time": "2021-09-10T07:02:56.929315Z"
    }
   },
   "outputs": [
    {
     "data": {
      "text/plain": [
       "((5, 3), (3, 5))"
      ]
     },
     "execution_count": 79,
     "metadata": {},
     "output_type": "execute_result"
    }
   ],
   "source": [
    "first_array.shape, second_array.shape"
   ]
  },
  {
   "cell_type": "code",
   "execution_count": 80,
   "metadata": {
    "ExecuteTime": {
     "end_time": "2021-09-10T07:04:05.335457Z",
     "start_time": "2021-09-10T07:04:05.330888Z"
    },
    "slideshow": {
     "slide_type": "fragment"
    }
   },
   "outputs": [
    {
     "data": {
      "text/plain": [
       "array([[ 25,  28,  31,  34,  37],\n",
       "       [ 70,  82,  94, 106, 118],\n",
       "       [115, 136, 157, 178, 199],\n",
       "       [160, 190, 220, 250, 280],\n",
       "       [205, 244, 283, 322, 361]])"
      ]
     },
     "execution_count": 80,
     "metadata": {},
     "output_type": "execute_result"
    }
   ],
   "source": [
    "# 행렬내적 연산\n",
    "first_array @ second_array"
   ]
  },
  {
   "cell_type": "markdown",
   "metadata": {},
   "source": [
    "### 벡터 가중합\n",
    "벡터의 내적은 가중합을 계산할 때 쓰일 수 있다. **가중합(weighted sum)**이란 복수의 데이터를 단순히 합하는 것이 아니라 각각의 수에 어떤 가중치 값을 곱한 후 이 곱셈 결과들을 다시 합한 것을 말한다.  \n",
    "만약 데이터 벡터가 $x=[x_1, \\cdots, x_N]^T$이고 가중치 벡터가 $w=[w_1, \\cdots, w_N]^T$이면 데이터 벡터의 가중합은 다음과 같다.\n",
    "\n",
    "$$ \n",
    "\\begin{align}\n",
    "w_1 x_1 + \\cdots + w_N x_N = \\sum_{i=1}^N w_i x_i \n",
    "\\end{align}\n",
    "$$ \n",
    "\n",
    "이 값을 벡터 $x$와 $w$의 곱으로 나타내면 $w^Tx$ 또는 $x^Tw$ 라는 간단한 수식으로 표시할 수 있다.\n",
    "\n",
    "쇼핑을 할 때 각 물건의 가격은 데이터 벡터, 각 물건의 수량은 가중치로 생각하여 내적을 구하면 총금액을 계산할 수 있다."
   ]
  },
  {
   "cell_type": "code",
   "execution_count": 88,
   "metadata": {
    "ExecuteTime": {
     "end_time": "2021-09-10T07:17:51.809014Z",
     "start_time": "2021-09-10T07:17:51.802895Z"
    }
   },
   "outputs": [
    {
     "data": {
      "text/plain": [
       "24100000"
      ]
     },
     "execution_count": 88,
     "metadata": {},
     "output_type": "execute_result"
    }
   ],
   "source": [
    "# 벡터의 가중합 연습문제\n",
    "# 삼성전자, 셀트리온, 카카오로 포트폴리오를 구성하려한다. \n",
    "# 각 종목의 가격은 80,000원, 270,000원, 160,000원이다.\n",
    "# 삼성전자 100주, 셀트리온 30주, 카카오 50주로 구성하기 위한 매수금액을 구하시오\n",
    "price = np.array([80000,270000,160000])\n",
    "item = np.array([100,30,50])\n",
    "price @ item.T\n",
    "# shape가 맞지 않는데도 결과가 나옴 => @ 연산을하면 item.T로 작동함\n",
    "price @ item"
   ]
  },
  {
   "cell_type": "markdown",
   "metadata": {
    "slideshow": {
     "slide_type": "slide"
    }
   },
   "source": [
    "### array 인덱싱, 슬라이싱(매우중요)\n",
    "> 기본적으로 자료구조란 데이터의 묶음, 그 묶음을 관리 할 수 있는 바구니를 이야기 합니다.  \n",
    "데이터 분석을 위해 자료구조를 사용하지만 자료구조안 내용에 접근을 해야 할 경우도 있습니다.\n",
    ">> **인덱싱**이란?  \n",
    "데이터 바구니 안에 든 내용 하나에 접근하는 명령, 인덱스는 내용의 순번  \n",
    ">> **슬라이싱**이란?  \n",
    "데이터 바구니 안에 든 내용 여러가지에 접근 하는 명령  \n",
    "\n",
    "기본적으로 인덱싱과 슬라이싱의 색인은 리스트와 동일합니다."
   ]
  },
  {
   "cell_type": "markdown",
   "metadata": {},
   "source": [
    "#### 인덱싱, 슬라이싱 실습"
   ]
  },
  {
   "cell_type": "code",
   "execution_count": 91,
   "metadata": {
    "ExecuteTime": {
     "end_time": "2021-09-10T07:19:08.644709Z",
     "start_time": "2021-09-10T07:19:08.641876Z"
    }
   },
   "outputs": [],
   "source": [
    "# 10부터 19까지 범위를 가지는 array생성\n",
    "test = np.arange(10,20)"
   ]
  },
  {
   "cell_type": "code",
   "execution_count": 94,
   "metadata": {
    "ExecuteTime": {
     "end_time": "2021-09-10T07:36:47.624567Z",
     "start_time": "2021-09-10T07:36:47.620659Z"
    }
   },
   "outputs": [
    {
     "data": {
      "text/plain": [
       "array([10, 11, 12])"
      ]
     },
     "execution_count": 94,
     "metadata": {},
     "output_type": "execute_result"
    }
   ],
   "source": [
    "# 0부터 3번 인덱스까지\n",
    "test[:3]"
   ]
  },
  {
   "cell_type": "code",
   "execution_count": 95,
   "metadata": {
    "ExecuteTime": {
     "end_time": "2021-09-10T07:36:51.070028Z",
     "start_time": "2021-09-10T07:36:51.065531Z"
    }
   },
   "outputs": [
    {
     "data": {
      "text/plain": [
       "array([14, 15, 16, 17, 18, 19])"
      ]
     },
     "execution_count": 95,
     "metadata": {},
     "output_type": "execute_result"
    }
   ],
   "source": [
    "# 4번 인덱스부터 마지막 인덱스까지\n",
    "test[4:]"
   ]
  },
  {
   "cell_type": "code",
   "execution_count": 98,
   "metadata": {
    "ExecuteTime": {
     "end_time": "2021-09-10T07:37:12.934789Z",
     "start_time": "2021-09-10T07:37:12.928903Z"
    }
   },
   "outputs": [
    {
     "data": {
      "text/plain": [
       "array([17, 18, 19])"
      ]
     },
     "execution_count": 98,
     "metadata": {},
     "output_type": "execute_result"
    }
   ],
   "source": [
    "# 마지막 인덱스부터 뒤에서 3번째 인덱스까지\n",
    "test[-3:]"
   ]
  },
  {
   "cell_type": "code",
   "execution_count": 100,
   "metadata": {
    "ExecuteTime": {
     "end_time": "2021-09-10T07:37:46.045395Z",
     "start_time": "2021-09-10T07:37:46.041397Z"
    }
   },
   "outputs": [
    {
     "data": {
      "text/plain": [
       "array([10, 13, 16, 19])"
      ]
     },
     "execution_count": 100,
     "metadata": {},
     "output_type": "execute_result"
    }
   ],
   "source": [
    "# 0부터 3씩 증가하는 인덱스\n",
    "test[::3]"
   ]
  },
  {
   "cell_type": "markdown",
   "metadata": {
    "slideshow": {
     "slide_type": "subslide"
    }
   },
   "source": [
    "#### 여러가지 인덱싱 및 슬라이싱 방법을 시도해봅시다"
   ]
  },
  {
   "cell_type": "code",
   "execution_count": 101,
   "metadata": {
    "ExecuteTime": {
     "end_time": "2021-09-10T07:38:07.579582Z",
     "start_time": "2021-09-10T07:38:07.570377Z"
    }
   },
   "outputs": [
    {
     "data": {
      "text/plain": [
       "array([[ 0,  1,  2,  3,  4],\n",
       "       [ 5,  6,  7,  8,  9],\n",
       "       [10, 11, 12, 13, 14],\n",
       "       [15, 16, 17, 18, 19],\n",
       "       [20, 21, 22, 23, 24]])"
      ]
     },
     "execution_count": 101,
     "metadata": {},
     "output_type": "execute_result"
    }
   ],
   "source": [
    "index_test2 = np.array(range(25)).reshape([5, 5])\n",
    "index_test2"
   ]
  },
  {
   "cell_type": "code",
   "execution_count": 119,
   "metadata": {
    "ExecuteTime": {
     "end_time": "2021-09-10T07:41:44.940323Z",
     "start_time": "2021-09-10T07:41:44.934449Z"
    }
   },
   "outputs": [
    {
     "data": {
      "text/plain": [
       "array([[11, 12, 13],\n",
       "       [16, 17, 18],\n",
       "       [21, 22, 23]])"
      ]
     },
     "execution_count": 119,
     "metadata": {},
     "output_type": "execute_result"
    }
   ],
   "source": [
    "index_test2[2:,1:4]"
   ]
  },
  {
   "cell_type": "code",
   "execution_count": 132,
   "metadata": {
    "ExecuteTime": {
     "end_time": "2021-09-10T08:03:18.713320Z",
     "start_time": "2021-09-10T08:03:18.707833Z"
    }
   },
   "outputs": [
    {
     "data": {
      "text/plain": [
       "array([[2, 3, 4],\n",
       "       [7, 8, 9]])"
      ]
     },
     "execution_count": 132,
     "metadata": {},
     "output_type": "execute_result"
    }
   ],
   "source": [
    "index_test2[:2,2:]"
   ]
  },
  {
   "cell_type": "code",
   "execution_count": 122,
   "metadata": {
    "ExecuteTime": {
     "end_time": "2021-09-10T07:42:36.085277Z",
     "start_time": "2021-09-10T07:42:36.080042Z"
    }
   },
   "outputs": [
    {
     "data": {
      "text/plain": [
       "array([[[ 0,  1,  2,  3],\n",
       "        [ 4,  5,  6,  7],\n",
       "        [ 8,  9, 10, 11],\n",
       "        [12, 13, 14, 15],\n",
       "        [16, 17, 18, 19]],\n",
       "\n",
       "       [[20, 21, 22, 23],\n",
       "        [24, 25, 26, 27],\n",
       "        [28, 29, 30, 31],\n",
       "        [32, 33, 34, 35],\n",
       "        [36, 37, 38, 39]]])"
      ]
     },
     "execution_count": 122,
     "metadata": {},
     "output_type": "execute_result"
    }
   ],
   "source": [
    "index_test3 = np.arange(40).reshape(2, 5, 4)\n",
    "index_test3"
   ]
  },
  {
   "cell_type": "code",
   "execution_count": 134,
   "metadata": {
    "ExecuteTime": {
     "end_time": "2021-09-10T08:04:02.267311Z",
     "start_time": "2021-09-10T08:04:02.262718Z"
    }
   },
   "outputs": [
    {
     "data": {
      "text/plain": [
       "array([[13, 14],\n",
       "       [17, 18]])"
      ]
     },
     "execution_count": 134,
     "metadata": {},
     "output_type": "execute_result"
    }
   ],
   "source": [
    "index_test3[0,3:5,1:3]"
   ]
  },
  {
   "cell_type": "code",
   "execution_count": 131,
   "metadata": {
    "ExecuteTime": {
     "end_time": "2021-09-10T07:44:41.831505Z",
     "start_time": "2021-09-10T07:44:41.824775Z"
    }
   },
   "outputs": [
    {
     "data": {
      "text/plain": [
       "array([[ 1,  5,  9, 13, 17],\n",
       "       [21, 25, 29, 33, 37]])"
      ]
     },
     "execution_count": 131,
     "metadata": {},
     "output_type": "execute_result"
    }
   ],
   "source": [
    "index_test3[0:,0:,1]"
   ]
  },
  {
   "cell_type": "markdown",
   "metadata": {},
   "source": [
    "## 팬시인덱싱\n",
    "numpy에서 벡터연산을 통해 bool 형태의 벡터를 기준으로 데이터를 선별하는 방법"
   ]
  },
  {
   "cell_type": "code",
   "execution_count": 151,
   "metadata": {
    "ExecuteTime": {
     "end_time": "2021-09-10T08:21:21.921887Z",
     "start_time": "2021-09-10T08:21:21.917717Z"
    }
   },
   "outputs": [],
   "source": [
    "pet = np.array(['개','고양이','고양이','햄스터','개','햄스터'])\n",
    "num = np.array([1,2,3,4,5,6])\n",
    "indexing_test = np.random.randn(6,5)  # randn : 난수로 행렬생성"
   ]
  },
  {
   "cell_type": "code",
   "execution_count": 152,
   "metadata": {
    "ExecuteTime": {
     "end_time": "2021-09-10T08:21:24.285467Z",
     "start_time": "2021-09-10T08:21:24.280313Z"
    }
   },
   "outputs": [
    {
     "data": {
      "text/plain": [
       "array([[ 1.21892182, -0.57278769, -2.01837856,  0.37751666, -2.14632145],\n",
       "       [ 1.72627741,  0.19978955, -0.45559384,  2.3741275 ,  0.61280794],\n",
       "       [ 0.38249301, -0.10195438,  1.1064851 ,  0.14316647, -0.01103692],\n",
       "       [ 0.89879404, -0.08147537, -0.02147208,  0.77555509, -0.45326144],\n",
       "       [ 0.12338784, -0.00431352, -1.31633818,  0.85516829,  0.29007829],\n",
       "       [-0.17169369,  0.42409219,  1.69908292,  1.43223254, -1.29304307]])"
      ]
     },
     "execution_count": 152,
     "metadata": {},
     "output_type": "execute_result"
    }
   ],
   "source": [
    "indexing_test"
   ]
  },
  {
   "cell_type": "code",
   "execution_count": 153,
   "metadata": {
    "ExecuteTime": {
     "end_time": "2021-09-10T08:21:24.494367Z",
     "start_time": "2021-09-10T08:21:24.491606Z"
    }
   },
   "outputs": [
    {
     "data": {
      "text/plain": [
       "array([ True, False, False, False,  True, False])"
      ]
     },
     "execution_count": 153,
     "metadata": {},
     "output_type": "execute_result"
    }
   ],
   "source": [
    "pet == '개'"
   ]
  },
  {
   "cell_type": "code",
   "execution_count": 154,
   "metadata": {
    "ExecuteTime": {
     "end_time": "2021-09-10T08:21:24.616250Z",
     "start_time": "2021-09-10T08:21:24.613766Z"
    }
   },
   "outputs": [
    {
     "data": {
      "text/plain": [
       "array([[ 1.21892182, -0.57278769, -2.01837856,  0.37751666, -2.14632145],\n",
       "       [ 0.12338784, -0.00431352, -1.31633818,  0.85516829,  0.29007829]])"
      ]
     },
     "execution_count": 154,
     "metadata": {},
     "output_type": "execute_result"
    }
   ],
   "source": [
    "indexing_test[pet=='개']"
   ]
  },
  {
   "cell_type": "code",
   "execution_count": 155,
   "metadata": {
    "ExecuteTime": {
     "end_time": "2021-09-10T08:21:24.807753Z",
     "start_time": "2021-09-10T08:21:24.805262Z"
    }
   },
   "outputs": [
    {
     "data": {
      "text/plain": [
       "array([[ 1.72627741,  0.19978955, -0.45559384,  2.3741275 ,  0.61280794],\n",
       "       [ 0.38249301, -0.10195438,  1.1064851 ,  0.14316647, -0.01103692],\n",
       "       [ 0.89879404, -0.08147537, -0.02147208,  0.77555509, -0.45326144],\n",
       "       [-0.17169369,  0.42409219,  1.69908292,  1.43223254, -1.29304307]])"
      ]
     },
     "execution_count": 155,
     "metadata": {},
     "output_type": "execute_result"
    }
   ],
   "source": [
    "indexing_test[~(pet=='개')]"
   ]
  },
  {
   "cell_type": "code",
   "execution_count": 156,
   "metadata": {
    "ExecuteTime": {
     "end_time": "2021-09-10T08:21:24.969177Z",
     "start_time": "2021-09-10T08:21:24.967090Z"
    }
   },
   "outputs": [
    {
     "data": {
      "text/plain": [
       "array([ True, False, False,  True,  True,  True])"
      ]
     },
     "execution_count": 156,
     "metadata": {},
     "output_type": "execute_result"
    }
   ],
   "source": [
    "(pet=='개') | (pet=='햄스터')"
   ]
  },
  {
   "cell_type": "code",
   "execution_count": 157,
   "metadata": {
    "ExecuteTime": {
     "end_time": "2021-09-10T08:21:25.949290Z",
     "start_time": "2021-09-10T08:21:25.944447Z"
    }
   },
   "outputs": [
    {
     "data": {
      "text/plain": [
       "array([[ 1.21892182, -0.57278769, -2.01837856,  0.37751666, -2.14632145],\n",
       "       [ 0.89879404, -0.08147537, -0.02147208,  0.77555509, -0.45326144],\n",
       "       [ 0.12338784, -0.00431352, -1.31633818,  0.85516829,  0.29007829],\n",
       "       [-0.17169369,  0.42409219,  1.69908292,  1.43223254, -1.29304307]])"
      ]
     },
     "execution_count": 157,
     "metadata": {},
     "output_type": "execute_result"
    }
   ],
   "source": [
    "indexing_test[(pet=='개') | (pet=='햄스터')]"
   ]
  },
  {
   "cell_type": "code",
   "execution_count": 159,
   "metadata": {
    "ExecuteTime": {
     "end_time": "2021-09-10T08:21:41.975225Z",
     "start_time": "2021-09-10T08:21:41.970748Z"
    }
   },
   "outputs": [
    {
     "data": {
      "text/plain": [
       "array([False, False, False,  True,  True,  True])"
      ]
     },
     "execution_count": 159,
     "metadata": {},
     "output_type": "execute_result"
    }
   ],
   "source": [
    "num > 3"
   ]
  },
  {
   "cell_type": "code",
   "execution_count": 160,
   "metadata": {
    "ExecuteTime": {
     "end_time": "2021-09-10T08:21:50.906920Z",
     "start_time": "2021-09-10T08:21:50.901690Z"
    }
   },
   "outputs": [
    {
     "data": {
      "text/plain": [
       "array([[ 0.89879404, -0.08147537, -0.02147208,  0.77555509, -0.45326144],\n",
       "       [ 0.12338784, -0.00431352, -1.31633818,  0.85516829,  0.29007829],\n",
       "       [-0.17169369,  0.42409219,  1.69908292,  1.43223254, -1.29304307]])"
      ]
     },
     "execution_count": 160,
     "metadata": {},
     "output_type": "execute_result"
    }
   ],
   "source": [
    "indexing_test[num>3]"
   ]
  },
  {
   "cell_type": "code",
   "execution_count": 161,
   "metadata": {
    "ExecuteTime": {
     "end_time": "2021-09-10T08:23:40.368113Z",
     "start_time": "2021-09-10T08:23:40.362678Z"
    }
   },
   "outputs": [
    {
     "data": {
      "text/plain": [
       "2"
      ]
     },
     "execution_count": 161,
     "metadata": {},
     "output_type": "execute_result"
    }
   ],
   "source": [
    "# bool 형태는 1,0으로 계산이 된다\n",
    "(pet =='개').sum()"
   ]
  },
  {
   "cell_type": "code",
   "execution_count": 164,
   "metadata": {
    "ExecuteTime": {
     "end_time": "2021-09-10T08:24:30.888549Z",
     "start_time": "2021-09-10T08:24:30.884585Z"
    }
   },
   "outputs": [
    {
     "data": {
      "text/plain": [
       "True"
      ]
     },
     "execution_count": 164,
     "metadata": {},
     "output_type": "execute_result"
    }
   ],
   "source": [
    "# true가 1개라도 있으면 true\n",
    "(pet =='개').any()"
   ]
  },
  {
   "cell_type": "code",
   "execution_count": 165,
   "metadata": {
    "ExecuteTime": {
     "end_time": "2021-09-10T08:24:35.311214Z",
     "start_time": "2021-09-10T08:24:35.304306Z"
    }
   },
   "outputs": [
    {
     "data": {
      "text/plain": [
       "False"
      ]
     },
     "execution_count": 165,
     "metadata": {},
     "output_type": "execute_result"
    }
   ],
   "source": [
    "(pet =='개').all()"
   ]
  }
 ],
 "metadata": {
  "kernelspec": {
   "display_name": "Python 3 (ipykernel)",
   "language": "python",
   "name": "python3"
  },
  "language_info": {
   "codemirror_mode": {
    "name": "ipython",
    "version": 3
   },
   "file_extension": ".py",
   "mimetype": "text/x-python",
   "name": "python",
   "nbconvert_exporter": "python",
   "pygments_lexer": "ipython3",
   "version": "3.9.6"
  },
  "toc": {
   "base_numbering": 1,
   "nav_menu": {},
   "number_sections": true,
   "sideBar": true,
   "skip_h1_title": true,
   "title_cell": "Table of Contents",
   "title_sidebar": "Contents",
   "toc_cell": false,
   "toc_position": {},
   "toc_section_display": true,
   "toc_window_display": false
  },
  "varInspector": {
   "cols": {
    "lenName": 16,
    "lenType": 16,
    "lenVar": 40
   },
   "kernels_config": {
    "python": {
     "delete_cmd_postfix": "",
     "delete_cmd_prefix": "del ",
     "library": "var_list.py",
     "varRefreshCmd": "print(var_dic_list())"
    },
    "r": {
     "delete_cmd_postfix": ") ",
     "delete_cmd_prefix": "rm(",
     "library": "var_list.r",
     "varRefreshCmd": "cat(var_dic_list()) "
    }
   },
   "types_to_exclude": [
    "module",
    "function",
    "builtin_function_or_method",
    "instance",
    "_Feature"
   ],
   "window_display": false
  }
 },
 "nbformat": 4,
 "nbformat_minor": 2
}
