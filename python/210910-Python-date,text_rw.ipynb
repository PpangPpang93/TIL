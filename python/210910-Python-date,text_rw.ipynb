{
 "cells": [
  {
   "cell_type": "markdown",
   "metadata": {},
   "source": [
    "# 파이썬 내장 패키지(모듈, 라이브러리, 클래스)"
   ]
  },
  {
   "cell_type": "markdown",
   "metadata": {},
   "source": [
    "## os\n",
    "> 파일 및 디렉토리(폴더)관리를 위한 파이썬 내장패키지"
   ]
  },
  {
   "cell_type": "code",
   "execution_count": 3,
   "metadata": {
    "ExecuteTime": {
     "end_time": "2021-09-10T01:15:44.403247Z",
     "start_time": "2021-09-10T01:15:44.400302Z"
    }
   },
   "outputs": [],
   "source": [
    "# 모듈 import\n",
    "import os"
   ]
  },
  {
   "cell_type": "code",
   "execution_count": 6,
   "metadata": {
    "ExecuteTime": {
     "end_time": "2021-09-10T01:17:57.795452Z",
     "start_time": "2021-09-10T01:17:57.779778Z"
    }
   },
   "outputs": [
    {
     "data": {
      "text/plain": [
       "'/Users/ppangppang/Desktop/ssac/02.Python_/Python_Basic_Class'"
      ]
     },
     "execution_count": 6,
     "metadata": {},
     "output_type": "execute_result"
    }
   ],
   "source": [
    "# 현재 파이썬 커널 경로 확인\n",
    "path = os.getcwd()\n",
    "path"
   ]
  },
  {
   "cell_type": "code",
   "execution_count": 8,
   "metadata": {
    "ExecuteTime": {
     "end_time": "2021-09-10T01:22:23.188204Z",
     "start_time": "2021-09-10T01:22:23.183693Z"
    }
   },
   "outputs": [
    {
     "data": {
      "text/plain": [
       "'/Users/ppangppang/Desktop/ssac/02.Python_/Python_Basic_Class'"
      ]
     },
     "execution_count": 8,
     "metadata": {},
     "output_type": "execute_result"
    }
   ],
   "source": [
    "# 경로이동\n",
    "os.chdir('/Users/ppangppang/Desktop/ssac/02.Python_/Python_Basic_Class')\n",
    "os.getcwd()"
   ]
  },
  {
   "cell_type": "code",
   "execution_count": 15,
   "metadata": {
    "ExecuteTime": {
     "end_time": "2021-09-10T01:24:17.777905Z",
     "start_time": "2021-09-10T01:24:17.775031Z"
    }
   },
   "outputs": [],
   "source": [
    "# 경로 생성\n",
    "os.mkdir('test')  # 현재 경로에 test폴더 생성"
   ]
  },
  {
   "cell_type": "code",
   "execution_count": 20,
   "metadata": {
    "ExecuteTime": {
     "end_time": "2021-09-10T01:25:45.901448Z",
     "start_time": "2021-09-10T01:25:45.896868Z"
    }
   },
   "outputs": [
    {
     "data": {
      "text/plain": [
       "['09_package_pandas_finance.ipynb',\n",
       " '02_python_sequence.ipynb',\n",
       " '05_python_packages.ipynb',\n",
       " '04_python_function_class.ipynb',\n",
       " '01_python_basic.ipynb',\n",
       " 'cal.py',\n",
       " '03_python_controlflow.ipynb',\n",
       " '__pycache__',\n",
       " '07_python_selenium.ipynb',\n",
       " '10_package_visualization.ipynb',\n",
       " '06_python_crawler.ipynb',\n",
       " '08_package_numpy.ipynb',\n",
       " '.ipynb_checkpoints']"
      ]
     },
     "execution_count": 20,
     "metadata": {},
     "output_type": "execute_result"
    }
   ],
   "source": [
    "# 현재 경로의 파일, 폴더 리스트(!ls)\n",
    "os.listdir()"
   ]
  },
  {
   "cell_type": "code",
   "execution_count": 19,
   "metadata": {
    "ExecuteTime": {
     "end_time": "2021-09-10T01:25:42.485511Z",
     "start_time": "2021-09-10T01:25:42.482864Z"
    }
   },
   "outputs": [],
   "source": [
    "# 경로 삭제\n",
    "os.rmdir('test')"
   ]
  },
  {
   "cell_type": "code",
   "execution_count": 16,
   "metadata": {
    "ExecuteTime": {
     "end_time": "2021-08-23T07:35:45.653033Z",
     "start_time": "2021-08-23T07:35:45.649847Z"
    }
   },
   "outputs": [],
   "source": [
    "# 하위 경로까지 생성\n"
   ]
  },
  {
   "cell_type": "code",
   "execution_count": null,
   "metadata": {},
   "outputs": [],
   "source": [
    "# 상위 경로까지 삭제\n"
   ]
  },
  {
   "cell_type": "code",
   "execution_count": 24,
   "metadata": {
    "ExecuteTime": {
     "end_time": "2021-09-10T01:30:03.863053Z",
     "start_time": "2021-09-10T01:30:03.858189Z"
    },
    "scrolled": true
   },
   "outputs": [
    {
     "name": "stdout",
     "output_type": "stream",
     "text": [
      "SSAC_introduction_v0.3.pdf\n"
     ]
    }
   ],
   "source": [
    "# 조건문 활용 파일 셀렉션\n",
    "for file_nm in os.listdir():\n",
    "    if file_nm[-3:] == 'pdf':\n",
    "        print(file_nm)"
   ]
  },
  {
   "cell_type": "markdown",
   "metadata": {},
   "source": [
    "## glob\n",
    "파일 혹은 폴더 리스트를 관리하기 위한 파이썬 패키지"
   ]
  },
  {
   "cell_type": "code",
   "execution_count": 26,
   "metadata": {
    "ExecuteTime": {
     "end_time": "2021-09-10T01:31:11.773678Z",
     "start_time": "2021-09-10T01:31:11.771031Z"
    }
   },
   "outputs": [],
   "source": [
    "# 모듈 import \n",
    "from glob import glob   # 위에 for문으로 pdf가져오는 기능을 좀 더 심플하게 할 수 있음"
   ]
  },
  {
   "cell_type": "code",
   "execution_count": 27,
   "metadata": {
    "ExecuteTime": {
     "end_time": "2021-09-10T01:31:21.448539Z",
     "start_time": "2021-09-10T01:31:21.443470Z"
    },
    "scrolled": true
   },
   "outputs": [
    {
     "data": {
      "text/plain": [
       "['09_package_pandas_finance.ipynb',\n",
       " '02_python_sequence.ipynb',\n",
       " '05_python_packages.ipynb',\n",
       " '04_python_function_class.ipynb',\n",
       " '01_python_basic.ipynb',\n",
       " '03_python_controlflow.ipynb',\n",
       " '07_python_selenium.ipynb',\n",
       " '10_package_visualization.ipynb',\n",
       " '06_python_crawler.ipynb',\n",
       " '08_package_numpy.ipynb']"
      ]
     },
     "execution_count": 27,
     "metadata": {},
     "output_type": "execute_result"
    }
   ],
   "source": [
    "# glob 함수 적용\n",
    "glob('*.ipynb')"
   ]
  },
  {
   "cell_type": "markdown",
   "metadata": {},
   "source": [
    "## time\n",
    "현재시간, 시간차등 시간 데이터 관리를 위한 파이썬 패키지"
   ]
  },
  {
   "cell_type": "code",
   "execution_count": 28,
   "metadata": {
    "ExecuteTime": {
     "end_time": "2021-09-10T01:33:39.236817Z",
     "start_time": "2021-09-10T01:33:39.234259Z"
    }
   },
   "outputs": [],
   "source": [
    "# 모듈 import\n",
    "import time"
   ]
  },
  {
   "cell_type": "code",
   "execution_count": 29,
   "metadata": {
    "ExecuteTime": {
     "end_time": "2021-09-10T01:33:56.265044Z",
     "start_time": "2021-09-10T01:33:54.256302Z"
    }
   },
   "outputs": [
    {
     "name": "stdout",
     "output_type": "stream",
     "text": [
      "code delay\n"
     ]
    }
   ],
   "source": [
    "# time sleep\n",
    "time.sleep(2)\n",
    "print('code delay')  # 2초뒤에 실행된다."
   ]
  },
  {
   "cell_type": "markdown",
   "metadata": {
    "ExecuteTime": {
     "end_time": "2021-09-10T01:37:25.650247Z",
     "start_time": "2021-09-10T01:37:25.647924Z"
    }
   },
   "source": [
    "## datetime"
   ]
  },
  {
   "cell_type": "code",
   "execution_count": 31,
   "metadata": {
    "ExecuteTime": {
     "end_time": "2021-09-10T01:37:41.271650Z",
     "start_time": "2021-09-10T01:37:41.268219Z"
    }
   },
   "outputs": [],
   "source": [
    "# 모듈 import\n",
    "from datetime import datetime"
   ]
  },
  {
   "cell_type": "code",
   "execution_count": 82,
   "metadata": {
    "ExecuteTime": {
     "end_time": "2021-09-10T01:53:01.385091Z",
     "start_time": "2021-09-10T01:53:01.380718Z"
    }
   },
   "outputs": [],
   "source": [
    "# 현재시간\n",
    "current_time = datetime.now()  # 변수로 지정 후, 변수로도 datetime함수를 사용할 수 있다"
   ]
  },
  {
   "cell_type": "code",
   "execution_count": 83,
   "metadata": {
    "ExecuteTime": {
     "end_time": "2021-09-10T01:53:01.922398Z",
     "start_time": "2021-09-10T01:53:01.918125Z"
    }
   },
   "outputs": [
    {
     "data": {
      "text/plain": [
       "'Fri Sep 10 10:53:01 2021'"
      ]
     },
     "execution_count": 83,
     "metadata": {},
     "output_type": "execute_result"
    }
   ],
   "source": [
    "# 현재시간(weston 방식)\n",
    "current_time.ctime()"
   ]
  },
  {
   "cell_type": "code",
   "execution_count": 84,
   "metadata": {
    "ExecuteTime": {
     "end_time": "2021-09-10T01:53:02.809819Z",
     "start_time": "2021-09-10T01:53:02.805588Z"
    }
   },
   "outputs": [
    {
     "name": "stdout",
     "output_type": "stream",
     "text": [
      "2021\n",
      "9\n",
      "10\n",
      "10\n",
      "53\n",
      "1\n",
      "382461\n"
     ]
    }
   ],
   "source": [
    "# 각 시간 단위 접근 (함수가 아니다!)\n",
    "# 한 시점의 날짜정보, 시간정보를 각각 데이터분석에 활용이 가능하다\n",
    "print(current_time.year)\n",
    "print(current_time.month)\n",
    "print(current_time.day)\n",
    "print(current_time.hour)\n",
    "print(current_time.minute)\n",
    "print(current_time.second)\n",
    "print(current_time.microsecond)"
   ]
  },
  {
   "cell_type": "code",
   "execution_count": 88,
   "metadata": {
    "ExecuteTime": {
     "end_time": "2021-09-10T02:07:28.341570Z",
     "start_time": "2021-09-10T02:07:28.339015Z"
    }
   },
   "outputs": [],
   "source": [
    "# datetime 데이터 타입을 문자열 형식으로(활용도 높음)\n",
    "currnet_str_time = current_time.strftime(\"%Y-%m-%d %H:%M:%S\")"
   ]
  },
  {
   "cell_type": "code",
   "execution_count": 89,
   "metadata": {
    "ExecuteTime": {
     "end_time": "2021-09-10T02:07:28.682378Z",
     "start_time": "2021-09-10T02:07:28.678419Z"
    }
   },
   "outputs": [
    {
     "data": {
      "text/plain": [
       "datetime.datetime(2021, 9, 10, 10, 53, 1)"
      ]
     },
     "execution_count": 89,
     "metadata": {},
     "output_type": "execute_result"
    }
   ],
   "source": [
    "# 문자열 형식의 날짜를 datetime 형식으로(활용동 굉장히 높음)\n",
    "datetime.strptime(currnet_str_time, '%Y-%m-%d %H:%M:%S')"
   ]
  },
  {
   "cell_type": "code",
   "execution_count": 93,
   "metadata": {
    "ExecuteTime": {
     "end_time": "2021-09-10T02:08:14.688735Z",
     "start_time": "2021-09-10T02:08:14.685935Z"
    }
   },
   "outputs": [],
   "source": [
    "# 시간 연산, 비교연산, time_difference\n",
    "current_time2 = datetime.now()"
   ]
  },
  {
   "cell_type": "code",
   "execution_count": 100,
   "metadata": {
    "ExecuteTime": {
     "end_time": "2021-09-10T02:09:30.109340Z",
     "start_time": "2021-09-10T02:09:30.105395Z"
    }
   },
   "outputs": [],
   "source": [
    "# 이슈나 사건, 로그에 따라서 데이터가 누적이 되는 경우\n",
    "# 웹페이지 로그 분석\n",
    "# ex) 유저 1페이지 머무른 시간, 2페이지 머무른 시간\n",
    "time_test = current_time2 - current_time  # timedelta 형식으로 표현된다"
   ]
  },
  {
   "cell_type": "code",
   "execution_count": 102,
   "metadata": {
    "ExecuteTime": {
     "end_time": "2021-09-10T02:09:37.712963Z",
     "start_time": "2021-09-10T02:09:37.706941Z"
    }
   },
   "outputs": [
    {
     "data": {
      "text/plain": [
       "913"
      ]
     },
     "execution_count": 102,
     "metadata": {},
     "output_type": "execute_result"
    }
   ],
   "source": [
    "time_test.seconds  # 원하는 옵션별로 시간차를 조회 할 수 있다."
   ]
  },
  {
   "cell_type": "code",
   "execution_count": 105,
   "metadata": {
    "ExecuteTime": {
     "end_time": "2021-09-10T02:12:23.496195Z",
     "start_time": "2021-09-10T02:12:23.491500Z"
    }
   },
   "outputs": [
    {
     "data": {
      "text/plain": [
       "False"
      ]
     },
     "execution_count": 105,
     "metadata": {},
     "output_type": "execute_result"
    }
   ],
   "source": [
    "current_time2 < current_time"
   ]
  },
  {
   "cell_type": "markdown",
   "metadata": {},
   "source": [
    "## 파일 읽고 쓰기"
   ]
  },
  {
   "cell_type": "code",
   "execution_count": 106,
   "metadata": {
    "ExecuteTime": {
     "end_time": "2021-09-10T02:16:34.997523Z",
     "start_time": "2021-09-10T02:16:34.992421Z"
    }
   },
   "outputs": [],
   "source": [
    "# 파일을 읽어들이고 작업을 하고 닫는 과정\n",
    "# 1. 파일을 읽어들여옴\n",
    "# 2. 작업을 하고\n",
    "# 3. 파일을 닫아줘야 함.\n",
    "\n",
    "# 읽기 : r\n",
    "# 쓰기 : w\n",
    "# 추가 : a\n",
    "f = open('test.txt','w')\n",
    "for i in range(10):\n",
    "    data = f'{i}번째 데이터 입니다.\\n'\n",
    "    f.write(data)\n",
    "f.close()"
   ]
  },
  {
   "cell_type": "code",
   "execution_count": 107,
   "metadata": {
    "ExecuteTime": {
     "end_time": "2021-09-10T02:17:13.976102Z",
     "start_time": "2021-09-10T02:17:13.840108Z"
    }
   },
   "outputs": [
    {
     "name": "stdout",
     "output_type": "stream",
     "text": [
      "01_python_basic.ipynb            08_package_numpy.ipynb\r\n",
      "02_python_sequence.ipynb         09_package_pandas_finance.ipynb\r\n",
      "03_python_controlflow.ipynb      10_package_visualization.ipynb\r\n",
      "04_python_function_class.ipynb   SSAC_introduction_v0.3.pdf\r\n",
      "05_python_packages.ipynb         \u001b[1m\u001b[36m__pycache__\u001b[m\u001b[m/\r\n",
      "06_python_crawler.ipynb          cal.py\r\n",
      "07_python_selenium.ipynb\r\n"
     ]
    }
   ],
   "source": [
    "ls"
   ]
  },
  {
   "cell_type": "code",
   "execution_count": 108,
   "metadata": {
    "ExecuteTime": {
     "end_time": "2021-09-10T02:17:41.665064Z",
     "start_time": "2021-09-10T02:17:41.661377Z"
    }
   },
   "outputs": [],
   "source": [
    "# file_nm.txt 생성됨\n",
    "f = open('file_nm.txt', 'w')"
   ]
  },
  {
   "cell_type": "code",
   "execution_count": 114,
   "metadata": {
    "ExecuteTime": {
     "end_time": "2021-09-10T02:21:04.576626Z",
     "start_time": "2021-09-10T02:21:04.573769Z"
    }
   },
   "outputs": [],
   "source": [
    "# 생성되고 열려있는 file_nm에 작업을 해보자\n",
    "for i in range(10):\n",
    "    text = f'{i}번째 데이터다.\\n'  # \\t : 탭\n",
    "    f.write(text)"
   ]
  },
  {
   "cell_type": "code",
   "execution_count": 115,
   "metadata": {
    "ExecuteTime": {
     "end_time": "2021-09-10T02:21:32.796978Z",
     "start_time": "2021-09-10T02:21:32.793766Z"
    }
   },
   "outputs": [],
   "source": [
    "# file을 닫아줘야 저장이 된다.\n",
    "f.close()"
   ]
  },
  {
   "cell_type": "code",
   "execution_count": 118,
   "metadata": {
    "ExecuteTime": {
     "end_time": "2021-09-10T02:24:56.531610Z",
     "start_time": "2021-09-10T02:24:56.527177Z"
    }
   },
   "outputs": [
    {
     "data": {
      "text/plain": [
       "<_io.TextIOWrapper name='file_nm.txt' mode='r' encoding='UTF-8'>"
      ]
     },
     "execution_count": 118,
     "metadata": {},
     "output_type": "execute_result"
    }
   ],
   "source": [
    "f"
   ]
  },
  {
   "cell_type": "code",
   "execution_count": 145,
   "metadata": {
    "ExecuteTime": {
     "end_time": "2021-09-10T02:36:03.002360Z",
     "start_time": "2021-09-10T02:36:02.997481Z"
    }
   },
   "outputs": [
    {
     "data": {
      "text/plain": [
       "['0번째 데이터다.\\n',\n",
       " '1번째 데이터다.\\n',\n",
       " '2번째 데이터다.\\n',\n",
       " '3번째 데이터다.\\n',\n",
       " '4번째 데이터다.\\n',\n",
       " '5번째 데이터다.\\n',\n",
       " '6번째 데이터다.\\n',\n",
       " '7번째 데이터다.\\n',\n",
       " '8번째 데이터다.\\n',\n",
       " '9번째 데이터다.\\n']"
      ]
     },
     "execution_count": 145,
     "metadata": {},
     "output_type": "execute_result"
    }
   ],
   "source": [
    "# 생성, 내용입력, 저장한 파일 file_nm을 읽어와보자\n",
    "f = open('file_nm.txt', 'r')   # r을 쓰지 않고 w로 해버리면 기존 작성한 내용이 다 날아간다.(a로 업데이트)\n",
    "text_line = f.readlines()\n",
    "text_line"
   ]
  },
  {
   "cell_type": "code",
   "execution_count": 144,
   "metadata": {
    "ExecuteTime": {
     "end_time": "2021-09-10T02:35:53.293702Z",
     "start_time": "2021-09-10T02:35:53.288947Z"
    }
   },
   "outputs": [
    {
     "data": {
      "text/plain": [
       "['0번째 데이터다.\\n',\n",
       " '1번째 데이터다.\\n',\n",
       " '2번째 데이터다.\\n',\n",
       " '3번째 데이터다.\\n',\n",
       " '4번째 데이터다.\\n',\n",
       " '5번째 데이터다.\\n',\n",
       " '6번째 데이터다.\\n',\n",
       " '7번째 데이터다.\\n',\n",
       " '8번째 데이터다.\\n',\n",
       " '9번째 데이터다.\\n']"
      ]
     },
     "execution_count": 144,
     "metadata": {},
     "output_type": "execute_result"
    }
   ],
   "source": [
    "# line별로 가져오는 readline()\n",
    "# f.readlines 작업을 한번 수행하면 다시 쓸 수 없다.\n",
    "f = open('file_nm.txt', 'r')\n",
    "f.readlines()  # \\n도 같이 출력된다."
   ]
  },
  {
   "cell_type": "code",
   "execution_count": 134,
   "metadata": {
    "ExecuteTime": {
     "end_time": "2021-09-10T02:29:50.306186Z",
     "start_time": "2021-09-10T02:29:50.298967Z"
    }
   },
   "outputs": [
    {
     "data": {
      "text/plain": [
       "['0번째 데이터다',\n",
       " '1번째 데이터다',\n",
       " '2번째 데이터다',\n",
       " '3번째 데이터다',\n",
       " '4번째 데이터다',\n",
       " '5번째 데이터다',\n",
       " '6번째 데이터다',\n",
       " '7번째 데이터다',\n",
       " '8번째 데이터다',\n",
       " '9번째 데이터다']"
      ]
     },
     "execution_count": 134,
     "metadata": {},
     "output_type": "execute_result"
    }
   ],
   "source": [
    "f = open('file_nm.txt', 'r')\n",
    "txt_list = []\n",
    "for txt in f.readlines():\n",
    "    txt_list.append(txt[:-2])   \n",
    "    # txt_list.append(txt.replace('\\n',''))\n",
    "txt_list"
   ]
  },
  {
   "cell_type": "code",
   "execution_count": 135,
   "metadata": {
    "ExecuteTime": {
     "end_time": "2021-09-10T02:33:04.203562Z",
     "start_time": "2021-09-10T02:33:04.199631Z"
    }
   },
   "outputs": [],
   "source": [
    "# 항상 작업을 마치고나면, 닫아주기\n",
    "f.close()"
   ]
  },
  {
   "cell_type": "code",
   "execution_count": 146,
   "metadata": {
    "ExecuteTime": {
     "end_time": "2021-09-10T02:36:05.842913Z",
     "start_time": "2021-09-10T02:36:05.838654Z"
    }
   },
   "outputs": [
    {
     "data": {
      "text/plain": [
       "['0번째 데이터다.\\n',\n",
       " '1번째 데이터다.\\n',\n",
       " '2번째 데이터다.\\n',\n",
       " '3번째 데이터다.\\n',\n",
       " '4번째 데이터다.\\n',\n",
       " '5번째 데이터다.\\n',\n",
       " '6번째 데이터다.\\n',\n",
       " '7번째 데이터다.\\n',\n",
       " '8번째 데이터다.\\n',\n",
       " '9번째 데이터다.\\n']"
      ]
     },
     "execution_count": 146,
     "metadata": {},
     "output_type": "execute_result"
    }
   ],
   "source": [
    "# 읽어온 파일에 대한 정보를 변수에 저장해서, 파일 닫은 후에도 조회 가증\n",
    "text_line"
   ]
  },
  {
   "cell_type": "code",
   "execution_count": 160,
   "metadata": {
    "ExecuteTime": {
     "end_time": "2021-09-10T02:40:09.102849Z",
     "start_time": "2021-09-10T02:40:09.096877Z"
    }
   },
   "outputs": [
    {
     "data": {
      "text/plain": [
       "['0번째 데이터다',\n",
       " '1번째 데이터다',\n",
       " '2번째 데이터다',\n",
       " '3번째 데이터다',\n",
       " '4번째 데이터다',\n",
       " '5번째 데이터다',\n",
       " '6번째 데이터다',\n",
       " '7번째 데이터다',\n",
       " '8번째 데이터다',\n",
       " '9번째 데이터다']"
      ]
     },
     "execution_count": 160,
     "metadata": {},
     "output_type": "execute_result"
    }
   ],
   "source": [
    "txtxt = []\n",
    "for i in text_line:\n",
    "    txtxt.append(i[:-2])\n",
    "txtxt"
   ]
  }
 ],
 "metadata": {
  "kernelspec": {
   "display_name": "Python 3 (ipykernel)",
   "language": "python",
   "name": "python3"
  },
  "language_info": {
   "codemirror_mode": {
    "name": "ipython",
    "version": 3
   },
   "file_extension": ".py",
   "mimetype": "text/x-python",
   "name": "python",
   "nbconvert_exporter": "python",
   "pygments_lexer": "ipython3",
   "version": "3.9.6"
  },
  "toc": {
   "base_numbering": 1,
   "nav_menu": {},
   "number_sections": true,
   "sideBar": true,
   "skip_h1_title": true,
   "title_cell": "Table of Contents",
   "title_sidebar": "Contents",
   "toc_cell": false,
   "toc_position": {},
   "toc_section_display": true,
   "toc_window_display": false
  },
  "varInspector": {
   "cols": {
    "lenName": 16,
    "lenType": 16,
    "lenVar": 40
   },
   "kernels_config": {
    "python": {
     "delete_cmd_postfix": "",
     "delete_cmd_prefix": "del ",
     "library": "var_list.py",
     "varRefreshCmd": "print(var_dic_list())"
    },
    "r": {
     "delete_cmd_postfix": ") ",
     "delete_cmd_prefix": "rm(",
     "library": "var_list.r",
     "varRefreshCmd": "cat(var_dic_list()) "
    }
   },
   "types_to_exclude": [
    "module",
    "function",
    "builtin_function_or_method",
    "instance",
    "_Feature"
   ],
   "window_display": false
  }
 },
 "nbformat": 4,
 "nbformat_minor": 2
}
