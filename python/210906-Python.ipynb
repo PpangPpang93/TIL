{
 "cells": [
  {
   "cell_type": "markdown",
   "metadata": {},
   "source": [
    "# 주피터 노트북"
   ]
  },
  {
   "cell_type": "markdown",
   "metadata": {},
   "source": [
    "> - 데이터 분석가들이 가장 많이 사용하는 파이썬 편집 프로그램  \n",
    "> - 코드 작성부터 실행, 리포트 작성까지 활용가능  \n",
    "> - 기타 편집 프로그램으로 주피터 랩, 스파이더, 파이참, vscode등이 있음\n",
    "> - 최근에는 클라우드 환경이 인기 Google Colaboratory"
   ]
  },
  {
   "cell_type": "markdown",
   "metadata": {},
   "source": [
    "## 특징"
   ]
  },
  {
   "cell_type": "code",
   "execution_count": 3,
   "metadata": {
    "ExecuteTime": {
     "end_time": "2021-09-06T01:11:51.035366Z",
     "start_time": "2021-09-06T01:11:51.032466Z"
    }
   },
   "outputs": [],
   "source": [
    "# 셀 단위 실행\n",
    "# 결과값도 셀 단위 실행결과를 바로 확인 가능 (인터프리터 형태)\n",
    "# 고급 프로그래밍 언어 - 사람이 알기 쉬운 언어\n",
    "# 기존 언어는 컴퓨터가 알아듣기 쉬운 언어 (어셈블리 형태)\n",
    "# 위에서 아래로\n",
    "# esc 키로 셀을 제어하는 커맨드 모드와 셀 내부 편집을 위한 에디트 모드 변경"
   ]
  },
  {
   "cell_type": "markdown",
   "metadata": {},
   "source": [
    "## 커맨드 모드 명령어"
   ]
  },
  {
   "cell_type": "code",
   "execution_count": 4,
   "metadata": {
    "ExecuteTime": {
     "end_time": "2021-09-06T01:13:27.115250Z",
     "start_time": "2021-09-06T01:13:27.112800Z"
    }
   },
   "outputs": [],
   "source": [
    "# 커맨드 모드 주로 사용하는 기능\n",
    "# 선택 셀 위에 셀 생성 - a\n",
    "# 선택 셀 아래에 셀 생성 - b\n",
    "# 선택 셀 삭제 - dd\n",
    "# 선택 셀 복사 - c\n",
    "# 선택 셀 잘라내기 - x\n",
    "# 선택 셀 붙여넣기 - v\n",
    "# 선택 셀 병합 - shift + m\n",
    "# 에디트 편집 - y\n",
    "# 마크다운 편집 - m"
   ]
  },
  {
   "cell_type": "markdown",
   "metadata": {},
   "source": [
    "## 에디트 모드 명령어"
   ]
  },
  {
   "cell_type": "code",
   "execution_count": 23,
   "metadata": {
    "ExecuteTime": {
     "end_time": "2021-09-06T01:20:59.108866Z",
     "start_time": "2021-09-06T01:20:59.105354Z"
    }
   },
   "outputs": [],
   "source": [
    "# 에디트 모드 진입 - enter 혹은 마우스 클릭\n",
    "# 함수 설명 팝업 - 함수명 철자 맨 뒤에서 shift + tab\n",
    "# 함수 설명 - 함수명?\n",
    "# 함수 코드 보기 - 함수명??\n",
    "# 셀 실행 - shift + enter\n",
    "#       - ctl/command + enter\n",
    "# # 주석 : 다른코드와 구별하기 위해서, 코드의 설명, 코드의 실행과는 전혀 관계없음\n",
    "# ''' \n",
    "#   ''' : docstring 여러줄의 주석, 이렇게 쓰면 출력도 같이 나온다"
   ]
  },
  {
   "cell_type": "markdown",
   "metadata": {},
   "source": [
    "# 코딩, 프로그래밍"
   ]
  },
  {
   "cell_type": "markdown",
   "metadata": {},
   "source": [
    "> - **코드**란? -> 컴퓨터가 알아들을 수 있는 명령들의 집합  \n",
    "- **코딩**을 한다, 코드를 짠다 -> 곧 컴퓨터가 알아들을 수 있는 명령어를 작성하는 행위  \n",
    "- **프로그램**이란? ->컴퓨터에게 작업을 지시하는 코드의 집합  \n",
    "\n",
    "> **프로그램으로 만들 수 있는 작업은?**  "
   ]
  },
  {
   "cell_type": "markdown",
   "metadata": {},
   "source": [
    ">사용목적에 따라 다양한 언어를 사용함  \n",
    ">> - 웹페이지 - HTML, CSS, js  \n",
    "- 데이터관리 - SQL  \n",
    "- 안드로이드 - JAVA  "
   ]
  },
  {
   "cell_type": "markdown",
   "metadata": {
    "slideshow": {
     "slide_type": "-"
    }
   },
   "source": [
    ">python은 무엇을 위한 언어인가?  \n",
    ">> - 초기 python은 과학, 수학 연구용. 이후 web 페이지 제작으로 각광받음.  \n",
    "- 현재는 데이터분석 및 어플리케이션 제작으로도 사용  \n",
    "- 다양한 목적으로 사용가능함.  \n",
    "\n",
    "> - 고급 프로그래밍 언어 (실제 사람이 사용하는 언어와 비슷한 형태를 지님)\n",
    "- 영문법과 굉장히 비슷한 문법진행을 한다.\n",
    "- 배우기 쉽다."
   ]
  },
  {
   "cell_type": "markdown",
   "metadata": {},
   "source": [
    "# python 변수(variable)와 저장(define)"
   ]
  },
  {
   "cell_type": "markdown",
   "metadata": {},
   "source": [
    "컴퓨터에 데이터를 저장하기 위해서 우리는 변수를 사용합니다. 변수는 말 그대로 변할 수 있는 대상  \n",
    "저장한 데이터를 다시 사용하기 위해서도 변수를 사용  "
   ]
  },
  {
   "cell_type": "markdown",
   "metadata": {},
   "source": [
    "## 변수의 용도\n",
    "\n",
    "> - 저장  \n",
    "- 연산의 피 연산자  \n",
    "- 함수의 매개변수  "
   ]
  },
  {
   "cell_type": "code",
   "execution_count": 1,
   "metadata": {
    "ExecuteTime": {
     "end_time": "2021-09-06T01:52:03.287642Z",
     "start_time": "2021-09-06T01:52:03.284823Z"
    }
   },
   "outputs": [],
   "source": [
    "# 변수 선언하고 값 저장하기\n",
    "a = 1000\n",
    "b = 100"
   ]
  },
  {
   "cell_type": "code",
   "execution_count": 2,
   "metadata": {
    "ExecuteTime": {
     "end_time": "2021-09-06T01:52:04.016573Z",
     "start_time": "2021-09-06T01:52:04.006445Z"
    }
   },
   "outputs": [
    {
     "data": {
      "text/plain": [
       "(1000, 100)"
      ]
     },
     "execution_count": 2,
     "metadata": {},
     "output_type": "execute_result"
    }
   ],
   "source": [
    "a,b"
   ]
  },
  {
   "cell_type": "markdown",
   "metadata": {},
   "source": [
    "## 변수의 종류(dtype) : 변수에 저장할 수 있는 값의 데이터타입\n",
    "\n",
    "> - 정수 **`int`**  \n",
    "- 실수 **`float`**  \n",
    "- 문자열 **`str`**  \n",
    "- 불리언 **`bool`**\n",
    "- 객체 **`class`**, `model`"
   ]
  },
  {
   "cell_type": "code",
   "execution_count": 4,
   "metadata": {
    "ExecuteTime": {
     "end_time": "2021-09-06T04:06:34.238242Z",
     "start_time": "2021-09-06T04:06:34.235228Z"
    }
   },
   "outputs": [],
   "source": [
    "# name라는 이름을 가진 변수(저장공간)을 만들고 본인의 이름을 저장한다.\n",
    "name = 'ppangppang'\n",
    "# weight라는 이름을 가진 변수(저장공간)을 만들고 실수(소수점을 포함한)를 저장한다.\n",
    "weight = 88.8\n",
    "# height라는 이름을 가진 변수(저장공간)을 만들고 정수를 저장한다.\n",
    "height = 170\n",
    "# job라는 이름을 가진 변수(저장공간)을 만들고 문자를 저장한다\n",
    "job = 'non'"
   ]
  },
  {
   "cell_type": "code",
   "execution_count": 5,
   "metadata": {
    "ExecuteTime": {
     "end_time": "2021-09-06T01:52:09.172879Z",
     "start_time": "2021-09-06T01:52:09.168471Z"
    }
   },
   "outputs": [
    {
     "data": {
      "text/plain": [
       "('ppangppang', 88.8, 170, 'non')"
      ]
     },
     "execution_count": 5,
     "metadata": {},
     "output_type": "execute_result"
    }
   ],
   "source": [
    "# 변수의 호출, 사용\n",
    "name, weight, height, job"
   ]
  },
  {
   "cell_type": "markdown",
   "metadata": {},
   "source": [
    "### 조금 프로그램다운 코드를 작성해보고자 사용자 입력을 추가해보겠습니다.\n",
    "> **`input`** **`('입력받을 데이터의 설명 : ')`** 설명문구가 문자형식으로 들어가야합니다.  \n",
    "입력받은 결과를 변수에 함께 저장합니다.  \n",
    "입력받은 결과 또한 문자형식으로 저장됩니다.  \n",
    "숫자형태로 인식하기 위해서는 데이터 타입 변환이 필요합니다.  "
   ]
  },
  {
   "cell_type": "code",
   "execution_count": 2,
   "metadata": {
    "ExecuteTime": {
     "end_time": "2021-09-06T01:52:34.773915Z",
     "start_time": "2021-09-06T01:52:33.194220Z"
    }
   },
   "outputs": [
    {
     "name": "stdout",
     "output_type": "stream",
     "text": [
      "숫자를 입력하세요 : 1234\n"
     ]
    },
    {
     "data": {
      "text/plain": [
       "'1234'"
      ]
     },
     "execution_count": 2,
     "metadata": {},
     "output_type": "execute_result"
    }
   ],
   "source": [
    "# 사용자의 입력값을 변수에 저장\n",
    "input_val = input('숫자를 입력하세요 : ')\n",
    "input_val"
   ]
  },
  {
   "cell_type": "code",
   "execution_count": 4,
   "metadata": {
    "ExecuteTime": {
     "end_time": "2021-09-06T01:52:51.841953Z",
     "start_time": "2021-09-06T01:52:45.451320Z"
    }
   },
   "outputs": [
    {
     "name": "stdout",
     "output_type": "stream",
     "text": [
      "이름, 부서, 이메일을 입력하세요 : test1 test2 test3\n"
     ]
    },
    {
     "data": {
      "text/plain": [
       "('test1', 'test2', 'test3')"
      ]
     },
     "execution_count": 4,
     "metadata": {},
     "output_type": "execute_result"
    }
   ],
   "source": [
    "# 사용자로 부터 이름, 부서, 이메일을 입력받아 변수로 저장하는 코드를 작성해 보세요\n",
    "name2, part2,email2 = input(\"이름, 부서, 이메일을 입력하세요 : \").split(' ')\n",
    "name2, part2, email2"
   ]
  },
  {
   "cell_type": "markdown",
   "metadata": {},
   "source": [
    "## 변수(값)의 형변환(Type Casting)\n",
    "> **`int()`**, **`float()`**, **`str()`** 명령어를 사용  \n",
    ">>변환해야 할 데이터를 `명령어()` 소괄호 안에 넣어줌  \n",
    ">> ex) `int('5')`, `float('3.14')`, `str(10)`"
   ]
  },
  {
   "cell_type": "code",
   "execution_count": null,
   "metadata": {},
   "outputs": [],
   "source": [
    "# 정수 < 실수 < 문자열의 형변환은 자유롭다\n",
    "# 작은개념에서 큰개념으로 casting 되는건 실행이 된다\n",
    "str('100'), float('100'), int('100')\n",
    "# 역의 혁변환은 조건에 따라 가능하다"
   ]
  },
  {
   "cell_type": "markdown",
   "metadata": {},
   "source": [
    "입력값을 전달 받음과 동시에 데이터 형변환을 통해 우리가 사용하고자 하는 형태의 데이터타입으로 변환이 필요합니다."
   ]
  },
  {
   "cell_type": "code",
   "execution_count": 19,
   "metadata": {
    "ExecuteTime": {
     "end_time": "2021-09-06T02:09:40.519095Z",
     "start_time": "2021-09-06T02:09:38.671370Z"
    }
   },
   "outputs": [
    {
     "name": "stdout",
     "output_type": "stream",
     "text": [
      "숫자를 입력하세요 : 112.222\n"
     ]
    },
    {
     "data": {
      "text/plain": [
       "112.222"
      ]
     },
     "execution_count": 19,
     "metadata": {},
     "output_type": "execute_result"
    }
   ],
   "source": [
    "# 입력값을 받아 정수로 변환하는 코드\n",
    "# input_val = int(input('숫자를 입력하세요 : '))\n",
    "# input_val\n",
    "\n",
    "# 실수로 변환\n",
    "input_val = float(input('숫자를 입력하세요 : '))\n",
    "input_val\n",
    "\n",
    "# 문자열 -> 정수 및 실수 변환은 X\n",
    "# int(name)"
   ]
  },
  {
   "cell_type": "markdown",
   "metadata": {},
   "source": [
    "## 변수 이름짓기"
   ]
  },
  {
   "cell_type": "markdown",
   "metadata": {},
   "source": [
    "변수는 데이터를 식별 할 수 있는 단어가 좋음. 네이밍에 꽤 오랜시간을 소요함.\n",
    "\n",
    ">변수 사용 문법규칙\n",
    "- 대소문자 구분 A, a\n",
    "- 한글사용 가능 (추천하지 않음)\n",
    "- 띄어쓰기 금지\n",
    "- 특수문자 _만 가능\n",
    "- 숫자 가능, 숫자로 시작 X\n",
    "- 예약어 금지(문법용어나 특수한 단어를 변수명으로 사용금지)\n",
    "\n",
    ">관례적규칙\n",
    "- 동사, 명사 - 형용사금지\n",
    "- 표기법 (범위 - 한 파일 혹은 한 프로그램)  \n",
    ">> - 낙타 myNameIs - 함수 이름  \n",
    ">> - 파스칼 MyNameIs - 클래스 이름  \n",
    ">> - 스네이크 my_name_is - 변수명  \n",
    ">> - 헝가리안 strMynameIs  "
   ]
  },
  {
   "cell_type": "code",
   "execution_count": null,
   "metadata": {},
   "outputs": [],
   "source": [
    "# python 예약어\n",
    "# 예약어는 변수명 혹은 함수명으로 쓸 수 없습니다.\n",
    "# 기억할 필요는 없지만 눈으로만 확인 해 봅시다.\n",
    "# 주피터 노트북으로 코딩 시 초록색 반전이 일어남\n",
    "# 파이썬에서 특정 작동을 위해 미리 선점해둔 키워드\n",
    "\n",
    "int float str bool\n",
    "sum min max sorted\n",
    "list dict tuple set\n",
    "and exec not\n",
    "assert finally or\n",
    "break for pass\n",
    "class from print\n",
    "continue global raise\n",
    "def if return\n",
    "del import try\n",
    "elif in while\n",
    "else is with\n",
    "except lambda yield"
   ]
  },
  {
   "cell_type": "markdown",
   "metadata": {},
   "source": [
    "# 출력(print)\n",
    "> - **`print()`** 함수는 python의 기본 명령어로서 출력을 위한 명령어  \n",
    "- **`print`**(출력할 내용을 소괄호 안에 넣어서 실행시킴)\n",
    "- 소괄호 안에는 숫자, 따옴표로 감싼 문자, 변수 가능  \n",
    "- 따옴표는 `''`(작은따옴표), `\"\"`(큰 따옴표) 모두 가능 `' \" \" '`형태로  \n",
    "텍스트 안의 텍스트를 다른 따옴표로 감쌀 수 있음  "
   ]
  },
  {
   "cell_type": "code",
   "execution_count": 22,
   "metadata": {
    "ExecuteTime": {
     "end_time": "2021-09-06T02:21:14.077069Z",
     "start_time": "2021-09-06T02:21:14.073567Z"
    }
   },
   "outputs": [
    {
     "name": "stdout",
     "output_type": "stream",
     "text": [
      "ppangppang\n",
      "non\n"
     ]
    }
   ],
   "source": [
    "# 숫자 변수 출력 테스트 print() 명령어는 전달받은 변수를 출력합니다.\n",
    "print(name)\n",
    "print(job)"
   ]
  },
  {
   "cell_type": "code",
   "execution_count": 39,
   "metadata": {
    "ExecuteTime": {
     "end_time": "2021-09-06T02:25:11.211986Z",
     "start_time": "2021-09-06T02:25:11.206903Z"
    }
   },
   "outputs": [
    {
     "name": "stdout",
     "output_type": "stream",
     "text": [
      "ppangppang \n",
      " F \n",
      " non\n"
     ]
    },
    {
     "data": {
      "text/plain": [
       "'ppangppang'"
      ]
     },
     "execution_count": 39,
     "metadata": {},
     "output_type": "execute_result"
    }
   ],
   "source": [
    "# 문자 변수 출력 테스트\n",
    "print(name,'\\n','F','\\n',job)\n",
    "# print 명령어를 사용하지 않으면 데이터타입에 따라 값을 출력\n",
    "name"
   ]
  },
  {
   "cell_type": "markdown",
   "metadata": {},
   "source": [
    "변수형태로 저장되어 있는 값만 출력하지는 않습니다. 출력값을 `print()` 함수에 직접 전달도 가능합니다."
   ]
  },
  {
   "cell_type": "code",
   "execution_count": 33,
   "metadata": {
    "ExecuteTime": {
     "end_time": "2021-09-06T02:23:23.141805Z",
     "start_time": "2021-09-06T02:23:23.138452Z"
    }
   },
   "outputs": [
    {
     "name": "stdout",
     "output_type": "stream",
     "text": [
      "Hello world! \n",
      " ppangppang\n"
     ]
    }
   ],
   "source": [
    "# Hello world!\n",
    "print('Hello world!','\\n',name)"
   ]
  },
  {
   "cell_type": "markdown",
   "metadata": {},
   "source": [
    "### 출력 연습문제"
   ]
  },
  {
   "cell_type": "code",
   "execution_count": 45,
   "metadata": {
    "ExecuteTime": {
     "end_time": "2021-09-06T02:28:35.269320Z",
     "start_time": "2021-09-06T02:28:35.263478Z"
    }
   },
   "outputs": [
    {
     "name": "stdout",
     "output_type": "stream",
     "text": [
      "          영수증          \n",
      "------------------------\n",
      "아이스아메리카노     4,500원\n",
      "카페라떼           4,500원\n",
      "치즈케잌           6,000원\n",
      "-----------------------\n",
      "total           15,000원\n",
      "\n",
      "이용해 주셔서 감사합니다.\n",
      "------------------------\n"
     ]
    }
   ],
   "source": [
    "# print() 함수를 줄바꿈해서 사용하면 연속해서 값을 출력할 수 있습니다.\n",
    "# 이를 활용하여 아래 영수증을 출력해 봅시다.\n",
    "print('          영수증          ')\n",
    "print('------------------------')\n",
    "print('아이스아메리카노     4,500원')\n",
    "print('카페라떼           4,500원')\n",
    "print('치즈케잌           6,000원')\n",
    "print('-----------------------')\n",
    "print('total           15,000원')\n",
    "print('')\n",
    "print('이용해 주셔서 감사합니다.')\n",
    "print('------------------------')"
   ]
  },
  {
   "cell_type": "markdown",
   "metadata": {},
   "source": [
    "## 변수값을 포함한 문자열 출력의 여러가지 방법"
   ]
  },
  {
   "cell_type": "code",
   "execution_count": 45,
   "metadata": {
    "ExecuteTime": {
     "end_time": "2021-09-06T04:28:22.300612Z",
     "start_time": "2021-09-06T04:28:22.297436Z"
    }
   },
   "outputs": [
    {
     "name": "stdout",
     "output_type": "stream",
     "text": [
      "ppangppang의 키는 170cm이고 몸무게는 88.8kg입니다. 직업은 non입니다.\n"
     ]
    }
   ],
   "source": [
    "# 기존 방법\n",
    "# print명령어에 전달하는 문자열을 + 기호로 묶어 전달, 오직 문자열만 + 로 연결가능\n",
    "print(name + '의 키는 ' + str(height) + 'cm이고 몸무게는 ' + str(weight) + 'kg입니다. 직업은 ' + job + '입니다.')"
   ]
  },
  {
   "cell_type": "code",
   "execution_count": 46,
   "metadata": {
    "ExecuteTime": {
     "end_time": "2021-09-06T04:28:22.464599Z",
     "start_time": "2021-09-06T04:28:22.460980Z"
    }
   },
   "outputs": [
    {
     "name": "stdout",
     "output_type": "stream",
     "text": [
      "ppangppang의 키는 170cm이고 몸무게는 88.8kg입니다. 직업은 non입니다.\n"
     ]
    }
   ],
   "source": [
    "# format string\n",
    "# 문자열에 format을 지정하여 {}안에 들어갈 변수를 지정해주는 방법\n",
    "# 파이썬 3.6버전 이전 출력방식\n",
    "print('{}의 키는 {}cm이고 몸무게는 {}kg입니다. 직업은 {}입니다.'.format(name, str(height), str(weight), job))"
   ]
  },
  {
   "cell_type": "code",
   "execution_count": 47,
   "metadata": {
    "ExecuteTime": {
     "end_time": "2021-09-06T04:28:22.646782Z",
     "start_time": "2021-09-06T04:28:22.642040Z"
    }
   },
   "outputs": [
    {
     "name": "stdout",
     "output_type": "stream",
     "text": [
      "ppangppang의 키는 170cm이고 몸무게는 88.8kg입니다. 직업은 non입니다.\n"
     ]
    }
   ],
   "source": [
    "# New format string\n",
    "# 파이썬 3.6버전 이후 권장하는 출력방식\n",
    "# 기존 format string 보다 사람이 보기에 직관적이고 명확한 문자와 변수간 관계 확인이 가능하다.\n",
    "print(f'{name}의 키는 {height}cm이고 몸무게는 {weight}kg입니다. 직업은 {job}입니다.')"
   ]
  },
  {
   "cell_type": "markdown",
   "metadata": {},
   "source": [
    "# 연산"
   ]
  },
  {
   "cell_type": "markdown",
   "metadata": {},
   "source": [
    "## 사칙연산"
   ]
  },
  {
   "cell_type": "code",
   "execution_count": 50,
   "metadata": {
    "ExecuteTime": {
     "end_time": "2021-09-06T04:29:51.307813Z",
     "start_time": "2021-09-06T04:29:51.303092Z"
    }
   },
   "outputs": [
    {
     "data": {
      "text/plain": [
       "'\\n+  : 더하기 , -  : 빼기 , *  : 곱하기 , ** : 거듭제곱 ,\\n/  : 나누기 , // : 몫  , %  : 나머지\\n'"
      ]
     },
     "execution_count": 50,
     "metadata": {},
     "output_type": "execute_result"
    }
   ],
   "source": [
    "'''\n",
    "+  : 더하기 , -  : 빼기 , *  : 곱하기 , ** : 거듭제곱 ,\n",
    "/  : 나누기 , // : 몫  , %  : 나머지\n",
    "'''"
   ]
  },
  {
   "cell_type": "code",
   "execution_count": 52,
   "metadata": {
    "ExecuteTime": {
     "end_time": "2021-09-06T02:38:57.500111Z",
     "start_time": "2021-09-06T02:38:57.494031Z"
    }
   },
   "outputs": [
    {
     "data": {
      "text/plain": [
       "27"
      ]
     },
     "execution_count": 52,
     "metadata": {},
     "output_type": "execute_result"
    }
   ],
   "source": [
    "# 거듭제곱\n",
    "3 **3\n",
    "# 값의 사칙연산\n",
    "26 % 5\n",
    "# 변수의 사칙연산 또한 가능\n",
    "height - weight\n",
    "# 문자열의 덧셈연산\n",
    "name + job\n",
    "# 문자열의 곱연산\n",
    "name * 10"
   ]
  },
  {
   "cell_type": "code",
   "execution_count": 59,
   "metadata": {
    "ExecuteTime": {
     "end_time": "2021-09-06T02:46:40.163776Z",
     "start_time": "2021-09-06T02:46:34.766905Z"
    }
   },
   "outputs": [
    {
     "name": "stdout",
     "output_type": "stream",
     "text": [
      "시간을 입력하세요 : 2\n",
      "분을 입력하세요 : 34\n",
      "초를 입력하세요 : 11\n",
      "금일 자정부터 9251초가 지났습니다.\n"
     ]
    }
   ],
   "source": [
    "# 현재 시간, 분, 초를 사용자로 부터 입력받아 각각의 변수로 저장하고 \n",
    "# 연산을 통해 금일 자정부터 몇초가 지났는 지 출력해보세요.\n",
    "\n",
    "hour = int(input(\"시간을 입력하세요 : \"))\n",
    "min = int(input(\"분을 입력하세요 : \"))\n",
    "sec = int(input(\"초를 입력하세요 : \"))\n",
    "\n",
    "#print(f\"{hour}시 {min}분 {sec}초가 지났습니다\")\n",
    "\n",
    "total = hour*60*60 + min*60 + sec\n",
    "print(f\"금일 자정부터 {total}초가 지났습니다.\")\n"
   ]
  },
  {
   "cell_type": "markdown",
   "metadata": {},
   "source": [
    "## 조건연산\n",
    ">`and`, `&`  : 동시충족  \n",
    "`or`, `|` : 조건충족  \n",
    "`in` : 보유여부  \n",
    "`is` : 같음여부\n",
    "`not` : 다름여부  \n",
    "`==` : 같은값인지 확인  \n",
    "`!=`: 다른값인지 확인  \n",
    "`<`, `>`, `<=`, `>=` : 대소비교  \n",
    "\n",
    ">`bool` 타입으로 결과값을 내준다.  \n",
    "참인지 거짓인지 `True`, `False`로 구분가능한 데이터"
   ]
  },
  {
   "cell_type": "code",
   "execution_count": 2,
   "metadata": {
    "ExecuteTime": {
     "end_time": "2021-09-06T04:05:44.346501Z",
     "start_time": "2021-09-06T04:05:44.341449Z"
    }
   },
   "outputs": [
    {
     "data": {
      "text/plain": [
       "False"
      ]
     },
     "execution_count": 2,
     "metadata": {},
     "output_type": "execute_result"
    }
   ],
   "source": [
    "# 조건연산 테스트\n",
    "# 대소비교\n",
    "10 != 6\n",
    "10 > 5"
   ]
  },
  {
   "cell_type": "code",
   "execution_count": 5,
   "metadata": {
    "ExecuteTime": {
     "end_time": "2021-09-06T04:06:40.887429Z",
     "start_time": "2021-09-06T04:06:40.882926Z"
    }
   },
   "outputs": [
    {
     "data": {
      "text/plain": [
       "False"
      ]
     },
     "execution_count": 5,
     "metadata": {},
     "output_type": "execute_result"
    }
   ],
   "source": [
    "# 변수를 전달하여 연산도 가능하다\n",
    "# 대소비교\n",
    "weight > height\n",
    "# 문자열의 보유여부\n",
    "'p' in 'ppang'\n",
    "# 변수로도 가능\n",
    "'p' in name"
   ]
  },
  {
   "cell_type": "code",
   "execution_count": 11,
   "metadata": {
    "ExecuteTime": {
     "end_time": "2021-09-06T04:07:45.765614Z",
     "start_time": "2021-09-06T04:07:45.760875Z"
    }
   },
   "outputs": [
    {
     "data": {
      "text/plain": [
       "True"
      ]
     },
     "execution_count": 11,
     "metadata": {},
     "output_type": "execute_result"
    }
   ],
   "source": [
    "# 같음 다름 여부\n",
    "100 == 100\n",
    "# 같음 다름 여부\n",
    "'안녕' != '안녕'"
   ]
  },
  {
   "cell_type": "markdown",
   "metadata": {},
   "source": [
    "### 조건 곱, 조건 합"
   ]
  },
  {
   "cell_type": "code",
   "execution_count": 51,
   "metadata": {
    "ExecuteTime": {
     "end_time": "2021-09-06T04:30:36.323935Z",
     "start_time": "2021-09-06T04:30:36.319679Z"
    }
   },
   "outputs": [
    {
     "name": "stdout",
     "output_type": "stream",
     "text": [
      "False\n",
      "True\n",
      "True\n",
      "True\n",
      "False\n"
     ]
    }
   ],
   "source": [
    "# 파이썬이 bool 데이터를 인식하는 방법\n",
    "print(bool(0))   #false\n",
    "print(bool(1))   #true\n",
    "print(bool(223)) #true\n",
    "# 실제 파이썬이 True와 False를 판단하는 기준\n",
    "print(bool('문자열'))\n",
    "print(bool(''))"
   ]
  },
  {
   "cell_type": "code",
   "execution_count": 13,
   "metadata": {
    "ExecuteTime": {
     "end_time": "2021-04-10T10:57:23.618993Z",
     "start_time": "2021-04-10T10:57:23.616584Z"
    }
   },
   "outputs": [],
   "source": [
    "# 조건 곱연산, 합연산 테스트\n",
    "# 파이썬에서 True는 1, False는 0으로 인식, and는 곱연산, or는 합연산으로 생각하자"
   ]
  },
  {
   "cell_type": "code",
   "execution_count": 36,
   "metadata": {
    "ExecuteTime": {
     "end_time": "2021-09-06T04:15:28.190560Z",
     "start_time": "2021-09-06T04:15:28.184755Z"
    }
   },
   "outputs": [
    {
     "data": {
      "text/plain": [
       "False"
      ]
     },
     "execution_count": 36,
     "metadata": {},
     "output_type": "execute_result"
    }
   ],
   "source": [
    "True and False   # 1 X 0 = 0 => False\n",
    "False and False  # 0 X 0 = 0 => False\n",
    "True or True     # 1 + 1 = 2 => True\n",
    "True or False   # 1 + 0 = 1 => True\n",
    "\n",
    "#ex)\n",
    "(10 < 5) and (name in '안녕') or ('p' in name)   # 0 X 0 + 1 = True"
   ]
  }
 ],
 "metadata": {
  "kernelspec": {
   "display_name": "Python 3 (ipykernel)",
   "language": "python",
   "name": "python3"
  },
  "language_info": {
   "codemirror_mode": {
    "name": "ipython",
    "version": 3
   },
   "file_extension": ".py",
   "mimetype": "text/x-python",
   "name": "python",
   "nbconvert_exporter": "python",
   "pygments_lexer": "ipython3",
   "version": "3.9.6"
  },
  "toc": {
   "base_numbering": 1,
   "nav_menu": {},
   "number_sections": true,
   "sideBar": true,
   "skip_h1_title": false,
   "title_cell": "Table of Contents",
   "title_sidebar": "Contents",
   "toc_cell": false,
   "toc_position": {
    "height": "calc(100% - 180px)",
    "left": "10px",
    "top": "150px",
    "width": "293.59375px"
   },
   "toc_section_display": true,
   "toc_window_display": false
  },
  "varInspector": {
   "cols": {
    "lenName": 16,
    "lenType": 16,
    "lenVar": 40
   },
   "kernels_config": {
    "python": {
     "delete_cmd_postfix": "",
     "delete_cmd_prefix": "del ",
     "library": "var_list.py",
     "varRefreshCmd": "print(var_dic_list())"
    },
    "r": {
     "delete_cmd_postfix": ") ",
     "delete_cmd_prefix": "rm(",
     "library": "var_list.r",
     "varRefreshCmd": "cat(var_dic_list()) "
    }
   },
   "types_to_exclude": [
    "module",
    "function",
    "builtin_function_or_method",
    "instance",
    "_Feature"
   ],
   "window_display": false
  }
 },
 "nbformat": 4,
 "nbformat_minor": 2
}
