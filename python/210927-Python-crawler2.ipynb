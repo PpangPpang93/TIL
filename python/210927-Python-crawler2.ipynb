{
 "cells": [
  {
   "cell_type": "markdown",
   "metadata": {
    "id": "UsZSmAj47LXm",
    "slideshow": {
     "slide_type": "slide"
    }
   },
   "source": [
    "# **데이터 크롤링**"
   ]
  },
  {
   "cell_type": "markdown",
   "metadata": {
    "id": "qGMeSCoV7QTQ",
    "slideshow": {
     "slide_type": "slide"
    }
   },
   "source": [
    "## **크롤링이란?**\n",
    "> 크롤러(crawler)는 자동화된 방법으로 웹을 탐색하는 컴퓨터 프로그램  \n",
    "'웹 크롤링'(web crawling)??  \n",
    "'데이터 크롤링'(data crawling)!!  "
   ]
  },
  {
   "cell_type": "markdown",
   "metadata": {
    "id": "WboqZ6A47Yqe",
    "slideshow": {
     "slide_type": "slide"
    }
   },
   "source": [
    "우리는 매일 크롤러도 사용하고 있습니다."
   ]
  },
  {
   "cell_type": "markdown",
   "metadata": {
    "id": "5PfW0HG17td5",
    "slideshow": {
     "slide_type": "slide"
    }
   },
   "source": [
    "## **웹 크롤링**\n",
    "> 웹 서비스 내 정보를 수집하는 일\n",
    "\n",
    ">> 필요한 정보가 있다면?  \n",
    "API 확인 -> 없으면 직접 크롤링  \n",
    "    \n",
    "> 다만 서비스 제공자의 입장에서는??"
   ]
  },
  {
   "cell_type": "markdown",
   "metadata": {
    "id": "e0ITGMAN70Da",
    "slideshow": {
     "slide_type": "slide"
    }
   },
   "source": [
    "### 웹 서핑을 하는 의식의 흐름\n",
    "> - 브라우저 오픈  \n",
    "- 원하는 인터넷페이지 주소 입력  \n",
    "- 화면이 열리면 찾고자 하는 정보를 스크롤 하면서 찾기  \n",
    "- 문자, 그림, 동영상 조회  "
   ]
  },
  {
   "cell_type": "markdown",
   "metadata": {
    "id": "AWcggzcG728P",
    "slideshow": {
     "slide_type": "slide"
    }
   },
   "source": [
    "### 웹 크롤링 하는 의식의 흐름\n",
    "> - 정보를 가져오고자 하는 url 정의\n",
    "- url 정보로 requests로 정보 요청\n",
    "- text 정보를 html로 변환\n",
    "- html에서 우리가 필요한 정보만 선별"
   ]
  },
  {
   "cell_type": "markdown",
   "metadata": {
    "id": "XT464CpR75Uh",
    "slideshow": {
     "slide_type": "slide"
    }
   },
   "source": [
    "### 웹 크롤링을 위해 BeautifulSoup 사용\n",
    "> - requests는 요청을 받기는 하지만 text로만 받음  \n",
    "- API는 통신을 위해 정형화 된 데이터 형태의 text  \n",
    "- 우리가 원하는 데이터로 가공하기 위해 편의상 html로 변환  \n",
    "- text를 html로 변환하는 모듈이 beautifulSoup"
   ]
  },
  {
   "cell_type": "markdown",
   "metadata": {
    "id": "5j1oR5fO78FW",
    "slideshow": {
     "slide_type": "slide"
    }
   },
   "source": [
    "### 간단한 데이터 크롤링으로 기본 개념잡기"
   ]
  },
  {
   "cell_type": "code",
   "execution_count": 223,
   "metadata": {
    "ExecuteTime": {
     "end_time": "2021-09-27T02:29:50.686019Z",
     "start_time": "2021-09-27T02:29:50.009273Z"
    },
    "scrolled": false
   },
   "outputs": [],
   "source": [
    "# 필요패키지 import\n",
    "import numpy as np\n",
    "import pandas as pd\n",
    "import requests # 크롤링에 사용하는 패키지\n",
    "import matplotlib.pyplot as plt\n",
    "import seaborn as sns\n",
    "from bs4 import BeautifulSoup # html 변환에 사용함\n",
    "\n",
    "# url정의 # 문자열\n",
    "# url = 'http://naver.com'\n",
    "\n",
    "# requests로 url에 정보요청, 자주하면 막힐 수 있으니, 요청은 한번에 끝내자 (변수로 저장)\n",
    "# response = requests.get(url)\n",
    "\n",
    "# 정보를 html 변환 (보기 쉽게)\n",
    "# html = BeautifulSoup(response.text, 'html.parser')\n",
    "\n",
    "# html 내에서 우리가 보고 싶은 정보만 선별\n",
    "# html.select('img')"
   ]
  },
  {
   "cell_type": "code",
   "execution_count": 11,
   "metadata": {
    "ExecuteTime": {
     "end_time": "2021-09-17T02:08:39.288737Z",
     "start_time": "2021-09-17T02:08:39.253635Z"
    }
   },
   "outputs": [
    {
     "data": {
      "text/plain": [
       "[<img alt=\"\" height=\"49\" src=\"https://static-whale.pstatic.net/main/img_darkmode@2x.png\" style=\"padding-left: 48px\" width=\"303\"/>,\n",
       " <img alt=\"이데일리\" class=\"news_logo\" height=\"20\" src=\"https://s.pstatic.net/static/newsstand/2020/logo/light/0604/018.png\"/>,\n",
       " <img alt=\"조선비즈\" class=\"news_logo\" height=\"20\" src=\"https://s.pstatic.net/static/newsstand/2020/logo/light/0604/366.png\"/>,\n",
       " <img alt=\"마이데일리\" class=\"news_logo\" height=\"20\" src=\"https://s.pstatic.net/static/newsstand/2020/logo/light/0604/117.png\"/>,\n",
       " <img alt=\"한겨레\" class=\"news_logo\" height=\"20\" src=\"https://s.pstatic.net/static/newsstand/2020/logo/light/0604/028.png\"/>,\n",
       " <img alt=\"서울신문\" class=\"news_logo\" height=\"20\" src=\"https://s.pstatic.net/static/newsstand/2020/logo/light/0604/081.png\"/>,\n",
       " <img alt=\"YTN\" class=\"news_logo\" height=\"20\" src=\"https://s.pstatic.net/static/newsstand/2020/logo/light/0604/052.png\"/>,\n",
       " <img alt=\"스포츠동아\" class=\"news_logo\" height=\"20\" src=\"https://s.pstatic.net/static/newsstand/2020/logo/light/0604/314.png\"/>,\n",
       " <img alt=\"중앙데일리\" class=\"news_logo\" height=\"20\" src=\"https://s.pstatic.net/static/newsstand/2020/logo/light/0604/330.png\"/>,\n",
       " <img alt=\"블로터\" class=\"news_logo\" height=\"20\" src=\"https://s.pstatic.net/static/newsstand/2020/logo/light/0604/293.png\"/>,\n",
       " <img alt=\"시사인\" class=\"news_logo\" height=\"20\" src=\"https://s.pstatic.net/static/newsstand/2020/logo/light/0604/308.png\"/>,\n",
       " <img alt=\"파이낸셜뉴스\" class=\"news_logo\" height=\"20\" src=\"https://s.pstatic.net/static/newsstand/2020/logo/light/0604/014.png\"/>,\n",
       " <img alt=\"KBS\" class=\"news_logo\" height=\"20\" src=\"https://s.pstatic.net/static/newsstand/2020/logo/light/0604/056.png\"/>,\n",
       " <img alt=\"지지통신\" class=\"news_logo\" height=\"20\" src=\"https://s.pstatic.net/static/newsstand/2020/logo/light/0604/376.png\"/>,\n",
       " <img alt=\"데일리안\" class=\"news_logo\" height=\"20\" src=\"https://s.pstatic.net/static/newsstand/2020/logo/light/0604/368.png\"/>,\n",
       " <img alt=\"아시아경제\" class=\"news_logo\" height=\"20\" src=\"https://s.pstatic.net/static/newsstand/2020/logo/light/0604/277.png\"/>,\n",
       " <img alt=\"YTN사이언스\" class=\"news_logo\" height=\"20\" src=\"https://s.pstatic.net/static/newsstand/up/2020/0922/nsd152336602.png\"/>,\n",
       " <img alt=\"스포츠월드\" class=\"news_logo\" height=\"20\" src=\"https://s.pstatic.net/static/newsstand/2020/logo/light/0604/396.png\"/>,\n",
       " <img alt=\"위키리크스한국\" class=\"news_logo\" height=\"20\" src=\"https://s.pstatic.net/static/newsstand/2020/logo/light/0604/801.png\"/>,\n",
       " <img alt=\"주간조선\" class=\"news_logo\" height=\"20\" src=\"https://s.pstatic.net/static/newsstand/2020/logo/light/0604/990.png\"/>,\n",
       " <img alt=\"시사저널\" class=\"news_logo\" height=\"20\" src=\"https://s.pstatic.net/static/newsstand/2020/logo/light/0604/135.png\"/>,\n",
       " <img alt=\"EBS\" class=\"news_logo\" height=\"20\" src=\"https://s.pstatic.net/static/newsstand/up/2020/0803/nsd20247547.png\"/>,\n",
       " <img alt=\"씨네21\" class=\"news_logo\" height=\"20\" src=\"https://s.pstatic.net/static/newsstand/2020/logo/light/0604/140.png\"/>,\n",
       " <img alt=\"한국금융신문\" class=\"news_logo\" height=\"20\" src=\"https://s.pstatic.net/static/newsstand/2020/logo/light/0604/968.png\"/>,\n",
       " <img alt=\"스포츠Q\" class=\"news_logo\" height=\"20\" src=\"https://s.pstatic.net/static/newsstand/2020/logo/light/0604/802.png\"/>,\n",
       " <img alt=\"약이 되는 진통제 vs. 독이 되는 진통제\" data-src=\"https://s.pstatic.net/dthumb.phinf/?src=%22https%3A%2F%2Fs.pstatic.net%2Fstatic%2Fwww%2Fmobile%2Fedit%2F20210914_1095%2Fupload_1631610366629TJPHf.jpg%22&amp;type=nf340_228\" height=\"114\" src=\"https://s.pstatic.net/dthumb.phinf/?src=%22https%3A%2F%2Fs.pstatic.net%2Fstatic%2Fwww%2Fmobile%2Fedit%2F20210914_1095%2Fupload_1631610366629TJPHf.jpg%22&amp;type=nf340_228\" width=\"170\"/>,\n",
       " <img alt=\"30kg 감량한 'oo푸드' 식단\" data-src=\"https://s.pstatic.net/dthumb.phinf/?src=%22https%3A%2F%2Fs.pstatic.net%2Fstatic%2Fwww%2Fmobile%2Fedit%2F20210914_1095%2Fupload_1631610874168ShVjh.jpg%22&amp;type=nf340_228\" height=\"114\" src=\"https://s.pstatic.net/dthumb.phinf/?src=%22https%3A%2F%2Fs.pstatic.net%2Fstatic%2Fwww%2Fmobile%2Fedit%2F20210914_1095%2Fupload_1631610874168ShVjh.jpg%22&amp;type=nf340_228\" width=\"170\"/>,\n",
       " <img alt=\"팔 올릴 때 통증, 원인이 ‘회전근개파열’?\" data-src=\"https://s.pstatic.net/dthumb.phinf/?src=%22https%3A%2F%2Fs.pstatic.net%2Fstatic%2Fwww%2Fmobile%2Fedit%2F20210914_1095%2Fupload_1631610129221WRyJ1.jpg%22&amp;type=nf340_228\" height=\"114\" src=\"https://s.pstatic.net/dthumb.phinf/?src=%22https%3A%2F%2Fs.pstatic.net%2Fstatic%2Fwww%2Fmobile%2Fedit%2F20210914_1095%2Fupload_1631610129221WRyJ1.jpg%22&amp;type=nf340_228\" width=\"170\"/>,\n",
       " <img alt=\"젊은데 배가 이렇게 나왔어? '대사증후군'\" data-src=\"https://s.pstatic.net/dthumb.phinf/?src=%22https%3A%2F%2Fs.pstatic.net%2Fstatic%2Fwww%2Fmobile%2Fedit%2F20210914_1095%2Fupload_1631610672060iwOMS.jpg%22&amp;type=nf340_228\" height=\"114\" src=\"https://s.pstatic.net/dthumb.phinf/?src=%22https%3A%2F%2Fs.pstatic.net%2Fstatic%2Fwww%2Fmobile%2Fedit%2F20210914_1095%2Fupload_1631610672060iwOMS.jpg%22&amp;type=nf340_228\" width=\"170\"/>,\n",
       " <img alt=\"눈 질환에 노출될 위험이 큰 여성의 눈 건강\" data-src=\"https://s.pstatic.net/dthumb.phinf/?src=%22https%3A%2F%2Fs.pstatic.net%2Fstatic%2Fwww%2Fmobile%2Fedit%2F20210914_1095%2Fupload_163161009947130Nyv.jpg%22&amp;type=nf340_228\" height=\"114\" src=\"https://s.pstatic.net/dthumb.phinf/?src=%22https%3A%2F%2Fs.pstatic.net%2Fstatic%2Fwww%2Fmobile%2Fedit%2F20210914_1095%2Fupload_163161009947130Nyv.jpg%22&amp;type=nf340_228\" width=\"170\"/>,\n",
       " <img alt=\"영양제 제대로 보관하려면 2가지가 반드시 필요합니다. 영양제 산패방지 필수템은?\" data-src=\"https://s.pstatic.net/dthumb.phinf/?src=%22https%3A%2F%2Fs.pstatic.net%2Fstatic%2Fwww%2Fmobile%2Fedit%2F20210914_1095%2Fupload_1631612356695t2rgo.jpg%22&amp;type=nf464_260\" height=\"130\" src=\"https://s.pstatic.net/dthumb.phinf/?src=%22https%3A%2F%2Fs.pstatic.net%2Fstatic%2Fwww%2Fmobile%2Fedit%2F20210914_1095%2Fupload_1631612356695t2rgo.jpg%22&amp;type=nf464_260\" width=\"232\"/>,\n",
       " <img alt=\"2명 중 1명꼴로 헬리코박터균이?치료와 재발의 위험성은? 정태양 원장님, 조아라 아나운서\" data-src=\"https://s.pstatic.net/dthumb.phinf/?src=%22https%3A%2F%2Fs.pstatic.net%2Fstatic%2Fwww%2Fmobile%2Fedit%2F20210914_1095%2Fupload_1631612311763BGHAf.jpg%22&amp;type=nf464_260\" height=\"130\" src=\"https://s.pstatic.net/dthumb.phinf/?src=%22https%3A%2F%2Fs.pstatic.net%2Fstatic%2Fwww%2Fmobile%2Fedit%2F20210914_1095%2Fupload_1631612311763BGHAf.jpg%22&amp;type=nf464_260\" width=\"232\"/>,\n",
       " <img alt=\"1일 1운동 - 지못지\" data-src=\"https://s.pstatic.net/dthumb.phinf/?src=%22https%3A%2F%2Fs.pstatic.net%2Fstatic%2Fwww%2Fmobile%2Fedit%2F20210914_1095%2Fupload_1631615077307VGekh.jpg%22&amp;type=nf464_260\" height=\"130\" src=\"https://s.pstatic.net/dthumb.phinf/?src=%22https%3A%2F%2Fs.pstatic.net%2Fstatic%2Fwww%2Fmobile%2Fedit%2F20210914_1095%2Fupload_1631615077307VGekh.jpg%22&amp;type=nf464_260\" width=\"232\"/>,\n",
       " <img alt=\"호박보다 좋은 호박씨..왜?\" data-src=\"https://s.pstatic.net/dthumb.phinf/?src=%22https%3A%2F%2Fs.pstatic.net%2Fstatic%2Fwww%2Fmobile%2Fedit%2F20210914_1095%2Fupload_1631611007805QOUDC.jpg%22&amp;type=nf340_228\" height=\"114\" src=\"https://s.pstatic.net/dthumb.phinf/?src=%22https%3A%2F%2Fs.pstatic.net%2Fstatic%2Fwww%2Fmobile%2Fedit%2F20210914_1095%2Fupload_1631611007805QOUDC.jpg%22&amp;type=nf340_228\" width=\"170\"/>,\n",
       " <img alt=\"보름달처럼 둥근 배의 효능\" data-src=\"https://s.pstatic.net/dthumb.phinf/?src=%22https%3A%2F%2Fs.pstatic.net%2Fstatic%2Fwww%2Fmobile%2Fedit%2F20210914_1095%2Fupload_1631611023108M42zm.jpg%22&amp;type=nf340_228\" height=\"114\" src=\"https://s.pstatic.net/dthumb.phinf/?src=%22https%3A%2F%2Fs.pstatic.net%2Fstatic%2Fwww%2Fmobile%2Fedit%2F20210914_1095%2Fupload_1631611023108M42zm.jpg%22&amp;type=nf340_228\" width=\"170\"/>,\n",
       " <img alt=\"가을이면 괴로운 부비동염, 필수 예방법 5가지\" data-src=\"https://s.pstatic.net/dthumb.phinf/?src=%22https%3A%2F%2Fs.pstatic.net%2Fstatic%2Fwww%2Fmobile%2Fedit%2F20210915_1095%2Fupload_1631708518511i7yrD.jpg%22&amp;type=nf340_228\" height=\"114\" src=\"https://s.pstatic.net/dthumb.phinf/?src=%22https%3A%2F%2Fs.pstatic.net%2Fstatic%2Fwww%2Fmobile%2Fedit%2F20210915_1095%2Fupload_1631708518511i7yrD.jpg%22&amp;type=nf340_228\" width=\"170\"/>,\n",
       " <img alt=\"공황이 찾아왔을 때... 대처법과 치료방법\" data-src=\"https://s.pstatic.net/dthumb.phinf/?src=%22https%3A%2F%2Fs.pstatic.net%2Fstatic%2Fwww%2Fmobile%2Fedit%2F20210914_1095%2Fupload_1631611208920w08Pl.jpg%22&amp;type=nf340_228\" height=\"114\" src=\"https://s.pstatic.net/dthumb.phinf/?src=%22https%3A%2F%2Fs.pstatic.net%2Fstatic%2Fwww%2Fmobile%2Fedit%2F20210914_1095%2Fupload_1631611208920w08Pl.jpg%22&amp;type=nf340_228\" width=\"170\"/>,\n",
       " <img alt=\"코로나19, 아이들의 IQ가 나빠지고 있다\" data-src=\"https://s.pstatic.net/dthumb.phinf/?src=%22https%3A%2F%2Fs.pstatic.net%2Fstatic%2Fwww%2Fmobile%2Fedit%2F20210914_1095%2Fupload_1631611090118F0zud.jpg%22&amp;type=nf340_228\" height=\"114\" src=\"https://s.pstatic.net/dthumb.phinf/?src=%22https%3A%2F%2Fs.pstatic.net%2Fstatic%2Fwww%2Fmobile%2Fedit%2F20210914_1095%2Fupload_1631611090118F0zud.jpg%22&amp;type=nf340_228\" width=\"170\"/>,\n",
       " <img alt=\"쏘이면 사망에까지 이를 수 있는 벌!! 바로 지금이 벌의 활동이 가장 왕성한 시기입니다\" data-src=\"https://s.pstatic.net/dthumb.phinf/?src=%22https%3A%2F%2Fs.pstatic.net%2Fstatic%2Fwww%2Fmobile%2Fedit%2F20210914_1095%2Fupload_1631612463627zODKE.jpg%22&amp;type=nf464_260\" height=\"130\" src=\"https://s.pstatic.net/dthumb.phinf/?src=%22https%3A%2F%2Fs.pstatic.net%2Fstatic%2Fwww%2Fmobile%2Fedit%2F20210914_1095%2Fupload_1631612463627zODKE.jpg%22&amp;type=nf464_260\" width=\"232\"/>,\n",
       " <img alt=\"GMO란 무엇인가?\" data-src=\"https://s.pstatic.net/dthumb.phinf/?src=%22https%3A%2F%2Fs.pstatic.net%2Fstatic%2Fwww%2Fmobile%2Fedit%2F20210913_1095%2Fupload_1631526939831K1Q9O.jpg%22&amp;type=nf464_260\" height=\"130\" src=\"https://s.pstatic.net/dthumb.phinf/?src=%22https%3A%2F%2Fs.pstatic.net%2Fstatic%2Fwww%2Fmobile%2Fedit%2F20210913_1095%2Fupload_1631526939831K1Q9O.jpg%22&amp;type=nf464_260\" width=\"232\"/>,\n",
       " <img alt=\"극과 극을 달리는 위험한 조울증!\" data-src=\"https://s.pstatic.net/dthumb.phinf/?src=%22https%3A%2F%2Fs.pstatic.net%2Fstatic%2Fwww%2Fmobile%2Fedit%2F20210914_1095%2Fupload_1631612115622TKxkK.jpg%22&amp;type=nf464_260\" height=\"130\" src=\"https://s.pstatic.net/dthumb.phinf/?src=%22https%3A%2F%2Fs.pstatic.net%2Fstatic%2Fwww%2Fmobile%2Fedit%2F20210914_1095%2Fupload_1631612115622TKxkK.jpg%22&amp;type=nf464_260\" width=\"232\"/>,\n",
       " <img alt=\"시간 지나면 침윤성 암으로? '상피내암' 어떤 암일까?\" data-src=\"https://s.pstatic.net/dthumb.phinf/?src=%22https%3A%2F%2Fs.pstatic.net%2Fstatic%2Fwww%2Fmobile%2Fedit%2F20210908%2Fupload_1631097329447465PM.jpg%22&amp;type=nf340_228\" height=\"114\" width=\"170\"/>,\n",
       " <img alt=\"발목 염좌 방치, ‘발목터널증후군’ 단초 제공\" data-src=\"https://s.pstatic.net/dthumb.phinf/?src=%22https%3A%2F%2Fs.pstatic.net%2Fstatic%2Fwww%2Fmobile%2Fedit%2F20210914_1095%2Fupload_1631610018777Ml55K.jpg%22&amp;type=nf340_228\" height=\"114\" width=\"170\"/>,\n",
       " <img alt=\"우리가 알고 있던 맹장염, 사실 다른 부위다?\" data-src=\"https://s.pstatic.net/dthumb.phinf/?src=%22https%3A%2F%2Fs.pstatic.net%2Fstatic%2Fwww%2Fmobile%2Fedit%2F20210914_1095%2Fupload_1631610053372gmJNR.jpg%22&amp;type=nf340_228\" height=\"114\" width=\"170\"/>,\n",
       " <img alt=\"반복되는 어지럼증, 혹시 메니에르병?\" data-src=\"https://s.pstatic.net/dthumb.phinf/?src=%22https%3A%2F%2Fs.pstatic.net%2Fstatic%2Fwww%2Fmobile%2Fedit%2F20210914_1095%2Fupload_1631610066806lwJY5.jpg%22&amp;type=nf340_228\" height=\"114\" width=\"170\"/>,\n",
       " <img alt=\"담배 피워도 안 즐겁다? 금연 보조제 효과\" data-src=\"https://s.pstatic.net/dthumb.phinf/?src=%22https%3A%2F%2Fs.pstatic.net%2Fstatic%2Fwww%2Fmobile%2Fedit%2F20210914_1095%2Fupload_1631609763132AiB6G.jpg%22&amp;type=nf340_228\" height=\"114\" width=\"170\"/>,\n",
       " <img alt=\"지능이란 어떤 능력일까\" data-src=\"https://s.pstatic.net/dthumb.phinf/?src=%22https%3A%2F%2Fs.pstatic.net%2Fstatic%2Fwww%2Fmobile%2Fedit%2F20210913_1095%2Fupload_1631526565463bgqsM.jpg%22&amp;type=nf464_260\" height=\"130\" width=\"232\"/>,\n",
       " <img alt=\"1일 1운동 - 물김치TV (물김치티비)\" data-src=\"https://s.pstatic.net/dthumb.phinf/?src=%22https%3A%2F%2Fs.pstatic.net%2Fstatic%2Fwww%2Fmobile%2Fedit%2F20210830%2Fupload_1630335123168sEiqR.jpg%22&amp;type=nf464_260\" height=\"130\" width=\"232\"/>,\n",
       " <img alt=\"최고의 샤워 시간은 바로 '이 시간'?\" data-src=\"https://s.pstatic.net/dthumb.phinf/?src=%22https%3A%2F%2Fs.pstatic.net%2Fstatic%2Fwww%2Fmobile%2Fedit%2F20210830%2Fupload_16303186680437u0x8.jpg%22&amp;type=nf464_260\" height=\"130\" width=\"232\"/>,\n",
       " <img alt=\"침묵의 저승사자 고지혈증, 어떻게 예방하나\" data-src=\"https://s.pstatic.net/dthumb.phinf/?src=%22https%3A%2F%2Fs.pstatic.net%2Fstatic%2Fwww%2Fmobile%2Fedit%2F20210913_1095%2Fupload_16315396771482j69s.jpg%22&amp;type=nf340_228\" height=\"114\" width=\"170\"/>,\n",
       " <img alt=\"매일 먹는 ‘삶은 달걀’ 효능\" data-src=\"https://s.pstatic.net/dthumb.phinf/?src=%22https%3A%2F%2Fs.pstatic.net%2Fstatic%2Fwww%2Fmobile%2Fedit%2F20210913_1095%2Fupload_1631539928500TtrR5.jpg%22&amp;type=nf340_228\" height=\"114\" width=\"170\"/>,\n",
       " <img alt=\"생활습관 교정으로 건강  바꿀 수 있는 예시 5\" data-src=\"https://s.pstatic.net/dthumb.phinf/?src=%22https%3A%2F%2Fs.pstatic.net%2Fstatic%2Fwww%2Fmobile%2Fedit%2F20210913_1095%2Fupload_16315397696893aqUq.jpg%22&amp;type=nf340_228\" height=\"114\" width=\"170\"/>,\n",
       " <img alt=\"흔하게 발생하는 귀 질환, 중이염과 이명\" data-src=\"https://s.pstatic.net/dthumb.phinf/?src=%22https%3A%2F%2Fs.pstatic.net%2Fstatic%2Fwww%2Fmobile%2Fedit%2F20210913_1095%2Fupload_1631539703805pdEvS.jpg%22&amp;type=nf340_228\" height=\"114\" width=\"170\"/>,\n",
       " <img alt=\"아무 통증 없었는데.. 의외의 요로결석 증상\" data-src=\"https://s.pstatic.net/dthumb.phinf/?src=%22https%3A%2F%2Fs.pstatic.net%2Fstatic%2Fwww%2Fmobile%2Fedit%2F20210913_1095%2Fupload_1631539730328BKGW8.jpg%22&amp;type=nf340_228\" height=\"114\" width=\"170\"/>,\n",
       " <img alt=\"면역력 위해 ‘이것’ 드세요\" data-src=\"https://s.pstatic.net/dthumb.phinf/?src=%22https%3A%2F%2Fs.pstatic.net%2Fstatic%2Fwww%2Fmobile%2Fedit%2F20210913_1095%2Fupload_1631539984509pcX0N.jpg%22&amp;type=nf340_228\" height=\"114\" width=\"170\"/>,\n",
       " <img alt=\"옥수수 수염, 10가지 효과\" data-src=\"https://s.pstatic.net/dthumb.phinf/?src=%22https%3A%2F%2Fs.pstatic.net%2Fstatic%2Fwww%2Fmobile%2Fedit%2F20210913_1095%2Fupload_1631539968052KqgHM.jpg%22&amp;type=nf340_228\" height=\"114\" width=\"170\"/>,\n",
       " <img alt='\"운전 중 갑자기 찾아온 숨 막힘, 어쩌죠?\"' data-src=\"https://s.pstatic.net/dthumb.phinf/?src=%22https%3A%2F%2Fs.pstatic.net%2Fstatic%2Fwww%2Fmobile%2Fedit%2F20210913_1095%2Fupload_1631540145112nLluL.jpg%22&amp;type=nf340_228\" height=\"114\" width=\"170\"/>,\n",
       " <img alt=\"자주 깜빡하면 치매일까? 가장 대표적인 치매와 예방하는 방법\" data-src=\"https://s.pstatic.net/dthumb.phinf/?src=%22https%3A%2F%2Fs.pstatic.net%2Fstatic%2Fwww%2Fmobile%2Fedit%2F20210914_1095%2Fupload_1631617329742RoVIQ.jpg%22&amp;type=nf340_228\" height=\"114\" width=\"170\"/>,\n",
       " <img alt=\"비만, 심할수록 우울증위험도↑...치료 필요한 질환으로 인식해야\" data-src=\"https://s.pstatic.net/dthumb.phinf/?src=%22https%3A%2F%2Fs.pstatic.net%2Fstatic%2Fwww%2Fmobile%2Fedit%2F20210914_1095%2Fupload_1631617356902y6UUb.jpg%22&amp;type=nf340_228\" height=\"114\" width=\"170\"/>,\n",
       " <img alt=\"시간 관리가 어려운 그대에게\" data-src=\"https://s.pstatic.net/dthumb.phinf/?src=%22https%3A%2F%2Fs.pstatic.net%2Fstatic%2Fwww%2Fmobile%2Fedit%2F20210913_1095%2Fupload_16315401046449GDws.jpg%22&amp;type=nf340_228\" height=\"114\" width=\"170\"/>,\n",
       " <img alt=\"매일 책 읽고 ○○○ 섭취, 뇌졸중 예방된다\" data-src=\"https://s.pstatic.net/dthumb.phinf/?src=%22https%3A%2F%2Fs.pstatic.net%2Fstatic%2Fwww%2Fmobile%2Fedit%2F20210913_1095%2Fupload_1631539179559ZwH9x.jpg%22&amp;type=nf340_228\" height=\"114\" width=\"170\"/>,\n",
       " <img alt=\"상처에 바르는 연고 종류별 성분 비교\" data-src=\"https://s.pstatic.net/dthumb.phinf/?src=%22https%3A%2F%2Fs.pstatic.net%2Fstatic%2Fwww%2Fmobile%2Fedit%2F20210913_1095%2Fupload_16315392402444kbkk.jpg%22&amp;type=nf340_228\" height=\"114\" width=\"170\"/>,\n",
       " <img alt=\"노인 ‘전동 휠체어’ 이용 시 부상 &amp; 심각성\" data-src=\"https://s.pstatic.net/dthumb.phinf/?src=%22https%3A%2F%2Fs.pstatic.net%2Fstatic%2Fwww%2Fmobile%2Fedit%2F20210913_1095%2Fupload_1631538956424xV79g.jpg%22&amp;type=nf340_228\" height=\"114\" width=\"170\"/>,\n",
       " <img alt=\"‘과식’, 그만 멈추고 싶다면? 추천 방법 11\" data-src=\"https://s.pstatic.net/dthumb.phinf/?src=%22https%3A%2F%2Fs.pstatic.net%2Fstatic%2Fwww%2Fmobile%2Fedit%2F20210913_1095%2Fupload_1631524763579fODtM.jpg%22&amp;type=nf340_228\" height=\"114\" width=\"170\"/>,\n",
       " <img alt=\"마스크가 알려줬다! 입냄새 종류와 확인법\" data-src=\"https://s.pstatic.net/dthumb.phinf/?src=%22https%3A%2F%2Fs.pstatic.net%2Fstatic%2Fwww%2Fmobile%2Fedit%2F20210913_1095%2Fupload_1631524565298GWXEc.jpg%22&amp;type=nf340_228\" height=\"114\" width=\"170\"/>,\n",
       " <img alt=\"오후에 더 무릎 아프면 ○○○○○○ 의심하세요\" data-src=\"https://s.pstatic.net/dthumb.phinf/?src=%22https%3A%2F%2Fs.pstatic.net%2Fstatic%2Fwww%2Fmobile%2Fedit%2F20210913_1095%2Fupload_1631524724212VOUKm.jpg%22&amp;type=nf340_228\" height=\"114\" width=\"170\"/>,\n",
       " <img alt=\"물 많이 마시면 좋은 점 4가지\" data-src=\"https://s.pstatic.net/dthumb.phinf/?src=%22https%3A%2F%2Fs.pstatic.net%2Fstatic%2Fwww%2Fmobile%2Fedit%2F20210913_1095%2Fupload_1631525183421miIPq.jpg%22&amp;type=nf340_228\" height=\"114\" width=\"170\"/>,\n",
       " <img alt=\"가을철 발병률 높은 질환 3, 풀밭 주의하세요\" data-src=\"https://s.pstatic.net/dthumb.phinf/?src=%22https%3A%2F%2Fs.pstatic.net%2Fstatic%2Fwww%2Fmobile%2Fedit%2F20210913_1095%2Fupload_1631524633158LLXDz.jpg%22&amp;type=nf340_228\" height=\"114\" width=\"170\"/>,\n",
       " <img alt=\"뽀빠이도? 뼈에 좋은 식품 5\" data-src=\"https://s.pstatic.net/dthumb.phinf/?src=%22https%3A%2F%2Fs.pstatic.net%2Fstatic%2Fwww%2Fmobile%2Fedit%2F20210913_1095%2Fupload_1631525436047wNxN4.jpg%22&amp;type=nf340_228\" height=\"114\" width=\"170\"/>,\n",
       " <img alt=\"불면증 생기는 이유와 극복하는 방법은?\" data-src=\"https://s.pstatic.net/dthumb.phinf/?src=%22https%3A%2F%2Fs.pstatic.net%2Fstatic%2Fwww%2Fmobile%2Fedit%2F20210913_1095%2Fupload_1631525676659XYJtz.jpg%22&amp;type=nf340_228\" height=\"114\" width=\"170\"/>,\n",
       " <img alt=\"샐러드+오일 드레싱 효능\" data-src=\"https://s.pstatic.net/dthumb.phinf/?src=%22https%3A%2F%2Fs.pstatic.net%2Fstatic%2Fwww%2Fmobile%2Fedit%2F20210913_1095%2Fupload_1631525488869QceHJ.jpg%22&amp;type=nf340_228\" height=\"114\" width=\"170\"/>,\n",
       " <img alt=\"허리 아픈 사람, 자전거 탈 때 주의할 점\" data-src=\"https://s.pstatic.net/dthumb.phinf/?src=%22https%3A%2F%2Fs.pstatic.net%2Fstatic%2Fwww%2Fmobile%2Fedit%2F20210913_1095%2Fupload_1631525916719qxdTR.jpg%22&amp;type=nf340_228\" height=\"114\" width=\"170\"/>,\n",
       " <img alt=\"달걀도 위 아래가 있다\" data-src=\"https://s.pstatic.net/dthumb.phinf/?src=%22https%3A%2F%2Fs.pstatic.net%2Fstatic%2Fwww%2Fmobile%2Fedit%2F20210913_1095%2Fupload_16315259430954AhgC.jpg%22&amp;type=nf340_228\" height=\"114\" width=\"170\"/>,\n",
       " <img alt=\"협상 할 때, 작은 요구부터 vs. 큰 요구 부터\" data-src=\"https://s.pstatic.net/dthumb.phinf/?src=%22https%3A%2F%2Fs.pstatic.net%2Fstatic%2Fwww%2Fmobile%2Fedit%2F20210913_1095%2Fupload_1631525577578LAR6U.jpg%22&amp;type=nf340_228\" height=\"114\" width=\"170\"/>,\n",
       " <img alt=\"내가 지금 먹고 바르는 약, 언제까지 사용해도 되는 걸까?\" data-src=\"https://s.pstatic.net/dthumb.phinf/?src=%22https%3A%2F%2Fs.pstatic.net%2Fstatic%2Fwww%2Fmobile%2Fedit%2F20210913_1095%2Fupload_1631525964351ertxL.jpg%22&amp;type=nf340_228\" height=\"114\" width=\"170\"/>,\n",
       " <img alt=\"지친 눈, 건강하게 유지하는 법 5가지\" data-src=\"https://s.pstatic.net/dthumb.phinf/?src=%22https%3A%2F%2Fs.pstatic.net%2Fstatic%2Fwww%2Fmobile%2Fedit%2F20210913_1095%2Fupload_1631524380207ejut7.jpg%22&amp;type=nf340_228\" height=\"114\" width=\"170\"/>,\n",
       " <img alt=\"소변에 거품 많거나 혈뇨 나오면 꼭 확인을!\" data-src=\"https://s.pstatic.net/dthumb.phinf/?src=%22https%3A%2F%2Fs.pstatic.net%2Fstatic%2Fwww%2Fmobile%2Fedit%2F20210913_1095%2Fupload_1631524437875l2VoN.jpg%22&amp;type=nf340_228\" height=\"114\" width=\"170\"/>,\n",
       " <img alt=\"턱 밑·귀 앞 아프고 붓는다면 '이 질환' 의심!\" data-src=\"https://s.pstatic.net/dthumb.phinf/?src=%22https%3A%2F%2Fs.pstatic.net%2Fstatic%2Fwww%2Fmobile%2Fedit%2F20210913_1095%2Fupload_1631524309727IwSLX.jpg%22&amp;type=nf340_228\" height=\"114\" width=\"170\"/>,\n",
       " <img alt=\"난소에 물혹이? 난소낭종 원인과 증상\" data-src=\"https://s.pstatic.net/dthumb.phinf/?src=%22https%3A%2F%2Fs.pstatic.net%2Fstatic%2Fwww%2Fmobile%2Fedit%2F20210913_1095%2Fupload_16315243676329ov3B.jpg%22&amp;type=nf340_228\" height=\"114\" width=\"170\"/>,\n",
       " <img alt=\"치질이 아니라 대장암이라고요? 증상은?\" data-src=\"https://s.pstatic.net/dthumb.phinf/?src=%22https%3A%2F%2Fs.pstatic.net%2Fstatic%2Fwww%2Fmobile%2Fedit%2F20210912_1095%2Fupload_1631451788007QMTVH.jpg%22&amp;type=nf340_228\" height=\"114\" width=\"170\"/>,\n",
       " <img alt=\"다이어트에 성공 위한 ‘식사 줄이는 방법’\" data-src=\"https://s.pstatic.net/dthumb.phinf/?src=%22https%3A%2F%2Fs.pstatic.net%2Fstatic%2Fwww%2Fmobile%2Fedit%2F20210912_1095%2Fupload_16314518386442mCms.jpg%22&amp;type=nf340_228\" height=\"114\" width=\"170\"/>,\n",
       " <img alt=\"변비 완화에 최고 음식 22\" data-src=\"https://s.pstatic.net/dthumb.phinf/?src=%22https%3A%2F%2Fs.pstatic.net%2Fstatic%2Fwww%2Fmobile%2Fedit%2F20210912_1095%2Fupload_1631452643889DudbZ.jpg%22&amp;type=nf340_228\" height=\"114\" width=\"170\"/>,\n",
       " <img alt=\"중년 여성 괴롭히는 수부질환, 종류별 특징\" data-src=\"https://s.pstatic.net/dthumb.phinf/?src=%22https%3A%2F%2Fs.pstatic.net%2Fstatic%2Fwww%2Fmobile%2Fedit%2F20210912_1095%2Fupload_1631451690031KIVoM.jpg%22&amp;type=nf340_228\" height=\"114\" width=\"170\"/>,\n",
       " <img alt=\"관절염 악화에 ‘이 음료’ 주의!\" data-src=\"https://s.pstatic.net/dthumb.phinf/?src=%22https%3A%2F%2Fs.pstatic.net%2Fstatic%2Fwww%2Fmobile%2Fedit%2F20210912_1095%2Fupload_1631452598404jhMok.jpg%22&amp;type=nf340_228\" height=\"114\" width=\"170\"/>,\n",
       " <img alt=\"인생은 60부터, 노인 교정 이유와 방법\" data-src=\"https://s.pstatic.net/dthumb.phinf/?src=%22https%3A%2F%2Fs.pstatic.net%2Fstatic%2Fwww%2Fmobile%2Fedit%2F20210912_1095%2Fupload_16314515507553I7Xe.jpg%22&amp;type=nf340_228\" height=\"114\" width=\"170\"/>,\n",
       " <img alt=\"몸에 나는 여드름 방치 마세요! 전문의가 전한 몸여드름 치료법\" data-src=\"https://s.pstatic.net/dthumb.phinf/?src=%22https%3A%2F%2Fs.pstatic.net%2Fstatic%2Fwww%2Fmobile%2Fedit%2F20210912_1095%2Fupload_1631452846140dzWxM.jpg%22&amp;type=nf340_228\" height=\"114\" width=\"170\"/>,\n",
       " <img alt=\"갑자기 흐릿해지고, 잘 안보이는데...원인이 무엇일까요?\" data-src=\"https://s.pstatic.net/dthumb.phinf/?src=%22https%3A%2F%2Fs.pstatic.net%2Fstatic%2Fwww%2Fmobile%2Fedit%2F20210912_1095%2Fupload_1631452880669eG6jQ.jpg%22&amp;type=nf340_228\" height=\"114\" width=\"170\"/>,\n",
       " <img alt=\"면역력에 도움 주는 ‘루꼴라’\" data-src=\"https://s.pstatic.net/dthumb.phinf/?src=%22https%3A%2F%2Fs.pstatic.net%2Fstatic%2Fwww%2Fmobile%2Fedit%2F20210912_1095%2Fupload_1631452455331NY3fX.jpg%22&amp;type=nf340_228\" height=\"114\" width=\"170\"/>,\n",
       " <img alt=\"양방향 아닌 일방향 관계가 익숙하지 않나요\" data-src=\"https://s.pstatic.net/dthumb.phinf/?src=%22https%3A%2F%2Fs.pstatic.net%2Fstatic%2Fwww%2Fmobile%2Fedit%2F20210913_1095%2Fupload_1631492388645C8uc4.jpg%22&amp;type=nf340_228\" height=\"114\" width=\"170\"/>,\n",
       " <img alt=\"신진대사 높이고 만성염증 잡는 '물건강법'\" data-src=\"https://s.pstatic.net/dthumb.phinf/?src=%22https%3A%2F%2Fs.pstatic.net%2Fstatic%2Fwww%2Fmobile%2Fedit%2F20210912_1095%2Fupload_1631451885758Wt986.jpg%22&amp;type=nf340_228\" height=\"114\" width=\"170\"/>,\n",
       " <img alt=\"코로나 시대 사람들은 어떻게 지내고 있을까\" data-src=\"https://s.pstatic.net/dthumb.phinf/?src=%22https%3A%2F%2Fs.pstatic.net%2Fstatic%2Fwww%2Fmobile%2Fedit%2F20210913_1095%2Fupload_1631491726180NwDa9.jpg%22&amp;type=nf340_228\" height=\"114\" width=\"170\"/>,\n",
       " <img alt=\"이유 없이 답답한 가슴, 맥박부터 확인하세요\" data-src=\"https://s.pstatic.net/dthumb.phinf/?src=%22https%3A%2F%2Fs.pstatic.net%2Fstatic%2Fwww%2Fmobile%2Fedit%2F20210912_1095%2Fupload_1631451608212rV7iB.jpg%22&amp;type=nf340_228\" height=\"114\" width=\"170\"/>,\n",
       " <img alt=\"간에 고름이 차는 간농양이란? 원인과 증상\" data-src=\"https://s.pstatic.net/dthumb.phinf/?src=%22https%3A%2F%2Fs.pstatic.net%2Fstatic%2Fwww%2Fmobile%2Fedit%2F20210912_1095%2Fupload_1631451356595uUuQZ.jpg%22&amp;type=nf340_228\" height=\"114\" width=\"170\"/>,\n",
       " <img alt=\"해조류 많이 먹으면 걸린다?…갑상선 Q&amp;A\" data-src=\"https://s.pstatic.net/dthumb.phinf/?src=%22https%3A%2F%2Fs.pstatic.net%2Fstatic%2Fwww%2Fmobile%2Fedit%2F20210912_1095%2Fupload_1631451622510dmXqh.jpg%22&amp;type=nf340_228\" height=\"114\" width=\"170\"/>,\n",
       " <img alt=\"웨일\" height=\"48\" src=\"data:image/png;base64,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\" width=\"48\"/>,\n",
       " <img alt=\"꽃\" height=\"50\" src=\"data:image/png;base64,iVBORw0KGgoAAAANSUhEUgAAAF4AAABkCAMAAAA47XeXAAAAgVBMVEUAAADN5PdGm99Gm99Gm99Gm99Gm95Gm99Gm99Gm99Gm99Gm99Gm99Gm99Gm99Gm99Gm99Gm99Gm99Gm99Gm99Gm99Gm99Gmt9Gm99Gm99Gm99Gm95Gm99Gm99Gm95Gm99Hm99Gm99Gm9/////3+/5cp+LO5PfR5/fO5fdcp+P7/f/zv5GhAAAAInRSTlMA/v7vH9u5qJNgGwb6l8a9uqF9WFUyLxYMCtbVmLCwe4OCj8gzEgAAA0NJREFUaN7NmmFz4iAQhkkwMTHGWrWtWvWuq8mF+/8/8Ey2nb0OhSwQZnw+MHQ7pbjAy2s2gsuiLPJMLpcyy4tyISZltnmHbxw3MzEVr/MUNNL5q5iCt2ccXCN9fhPB7CQYkTsRRlWDlboSAexzGCHfC28OKxhldfDOzBMwePLNTw0sauHFFphshQcLCUwkaQRfXYBPSkrEUBdv3jezcXXhw1ciUhc+fCUidQlH7qzqEk5d2dQlnHxvU5dwVgdXdSGclaiGyamt6hLO1qIu4ZASzcFE092SBprk1jagulvXAAw/qb5N7m176xQYmOPoLymYaK/X65/PNhlagE6LGUhfRM8FjNzuf/73//bHmInzoJEpjMyeWpp9RzGz/PT6+QvMNO2Q+67PPeYZY5h7jDVg5OM+/BGikd13JfDAj/Ad1WLMyEyUwKPT00ypN1GKAljQJtFiFgqRe86eYhbWIvPPPR5d+9pKiIgUwKNJdHXBvW9jyRye1EWLWYfnJcd141Byspizz7gbUyWDuqiW0v15D9g3ZgF86JwyKUgUHJaATUmS5rsEdkkTZLjZS8Alw+skFr8Nl6H6uosShaKOp3Zo+/jgFTDe+wcSfv0yFGfQaLX7tDO0reXOPRuMCG4Q11Y3IiYblWgzS7R+h31qdRtlGB7zikeUckz+AB3a8FuMqD7Cd2nhUHLOEIkLubQIkEuLxIdwEwUy3HyXxsbgPMJcGuGox+TSIugxuTQ+KHIaAS5N92eIIuMT5tJoPfHy5q9yKoXLelLuKRri0mjMQdhwTPw6Sv8pzKXhFyhNilEwkSCXRrnAnaPnJdyl0UrqXircpeHVglnv+62K4NJo3lFcGmWd79KO7OQoXAE8XNO6tIQGxj7fpfHTwk8RubQLWEGvgTNGKzj01fixunCMCCYcvSSlaFwUyKVx86J3bczpUR3zimq1LqdosAUbJF54ar+uk5Gju436mPTk8ZAXFdO93HRYTesUVgf3B+y0XdxLfdVputmfKp/iBtNjyl3c0kzUwtJIWewIPvAL9LOyWLsV9WAps3VRzh6hJBm3oOqsRKfHLGYzS/GP+iLBuBKdqkd+iWPkFZTHf4Em4us/uhI5qss/6zK5u8+AXpwAAAAASUVORK5CYII=\" width=\"47\"/>]"
      ]
     },
     "execution_count": 11,
     "metadata": {},
     "output_type": "execute_result"
    }
   ],
   "source": [
    "# requests가 정상적으로 됐는지 확인 => Response [200] : 정상\n",
    "# response\n",
    "# response.text  # 정보는 가져왔지만, html형시이라 확인이 어렵다 -> beautifulsoup활용\n",
    "html # reponse.text 보다는 보기 편함\n",
    "html.select('img')   # html 내에서 우리가 보고 싶은 정보만 선별"
   ]
  },
  {
   "cell_type": "code",
   "execution_count": 21,
   "metadata": {
    "ExecuteTime": {
     "end_time": "2021-09-17T02:40:21.975874Z",
     "start_time": "2021-09-17T02:40:21.878919Z"
    }
   },
   "outputs": [
    {
     "data": {
      "text/plain": [
       "\n",
       "<!DOCTYPE html>\n",
       "\n",
       "<html class=\"os_unknown none unknown version_0\" lang=\"ko\">\n",
       "<head>\n",
       "<meta charset=\"utf-8\"/>\n",
       "<meta content=\"always\" name=\"referrer\">\n",
       "<meta content=\"Daum 뉴스\" property=\"og:author\"/>\n",
       "<meta content=\"다음뉴스\" property=\"og:site_name\"/>\n",
       "<meta content=\"홈\" property=\"og:title\"/>\n",
       "<meta content=\"https://t1.daumcdn.net/media/img-media/mobile/meta/news.png\" property=\"og:image\"/>\n",
       "<meta content=\"다음뉴스\" property=\"og:description\"/>\n",
       "<meta content=\"https://news.daum.net/\" property=\"og:url\"/>\n",
       "<link href=\"https://m2.daumcdn.net/img-media/2010ci/Daum_favicon.ico\" rel=\"shortcut icon\"/>\n",
       "<title>홈 | 다음뉴스</title>\n",
       "<meta content=\"IE=edge\" http-equiv=\"X-UA-Compatible\"/>\n",
       "<link href=\"//t1.daumcdn.net/media/kraken/news/758b62f/common.css.merged.css\" rel=\"stylesheet\" type=\"text/css\">\n",
       "<link href=\"//t1.daumcdn.net/media/kraken/news/758b62f/news.css.merged.css\" rel=\"stylesheet\" type=\"text/css\"/>\n",
       "<link href=\"//t1.daumcdn.net/media/kraken/news/758b62f/calendar.css.merged.css\" rel=\"stylesheet\" type=\"text/css\"/>\n",
       "<!--[if lte IE 8]>\n",
       "<script src=\"https://m2.daumcdn.net/svc/original/U0301/cssjs/JSON-js/fc535e9cc8/json2.min.js\"></script>\n",
       "<![endif]-->\n",
       "<!--[if lt IE 9]>\n",
       "<link rel=\"stylesheet\" type=\"text/css\" href=\"//t1.daumcdn.net/media/kraken/news/758b62f/ie8.css.merged.css\" />\n",
       "<![endif]-->\n",
       "<script src=\"//t1.daumcdn.net/media/kraken/news/758b62f/common.merged.js\"></script>\n",
       "<script src=\"https://t1.daumcdn.net/tiara/js/v1/tiara.min.js\" type=\"text/javascript\"></script>\n",
       "<script>\n",
       "  var ENV = {\n",
       "    Profile: {\n",
       "      isProduction: 'true' || false,\n",
       "      isSandbox: '' || false,\n",
       "      isCbt: '' || false,\n",
       "    }\n",
       "  }\n",
       "</script>\n",
       "<script src=\"//t1.daumcdn.net/media/kraken/news/758b62f/homeMain.merged.js\"></script>\n",
       "</link></meta></head>\n",
       "<body class=\"bg_news\">\n",
       "<div id=\"kakaoIndex\">\n",
       "<a href=\"#kakaoBody\">본문 바로가기</a>\n",
       "<a href=\"#kakaoGnb\">메뉴 바로가기</a>\n",
       "</div>\n",
       "<div class=\"news_type1\" id=\"kakaoWrap\">\n",
       "<div id=\"wrapMinidaum\"></div>\n",
       "<script type=\"text/javascript\">\n",
       "\tvar minidaum_options = {\n",
       "\t\tbgType\t\t\t\t: \"white\",\n",
       "\t\tenableLogoutRetun\t: true,\n",
       "\t\tdisableTracker\t\t: true, // false일 경우 사용, true일 경우 미사용\n",
       "\t\tenableShield\t\t: false\n",
       "\t};\n",
       "</script>\n",
       "<script src=\"https://go.daum.net/minidaum_pc.daum\"></script>\n",
       "<div id=\"kakaoHead\" role=\"banner\">\n",
       "<div class=\"head_media\">\n",
       "<h1>\n",
       "<a data-tiara-layer=\"GNB default service_news\" href=\"https://news.daum.net/\" id=\"kakaoServiceLogo\"><span class=\"ir_wa\">뉴스</span></a>\n",
       "</h1>\n",
       "<strong class=\"screen_out\">관련서비스</strong>\n",
       "<ul data-tiara-layer=\"GNB default\" id=\"kakaoRelServices\">\n",
       "<li><a class=\"link_services link_services1\" data-tiara-layer=\"service_enter\" href=\"https://entertain.daum.net\"><span class=\"ir_wa\">연예</span></a></li>\n",
       "<li><a class=\"link_services link_services2\" data-tiara-layer=\"service_sports\" href=\"https://sports.daum.net\"><span class=\"ir_wa\">스포츠</span></a></li>\n",
       "</ul>\n",
       "<h2 class=\"screen_out\">검색</h2>\n",
       "<div class=\"search_news\" id=\"search_news\">\n",
       "<form action=\"//search.daum.net/search\" id=\"kakaoSearch\" method=\"get\" name=\"kakaoSearch\">\n",
       "<fieldset class=\"fld_inside\">\n",
       "<legend class=\"screen_out\">검색어 입력폼</legend>\n",
       "<div class=\"box_searchbar\">\n",
       "<label class=\"lab_search\" for=\"qVal\">통합검색</label>\n",
       "<input name=\"DA\" type=\"hidden\" value=\"23A\"/>\n",
       "<input name=\"rtmaxcoll\" type=\"hidden\" value=\"NNS\"/>\n",
       "<input autocomplete=\"off\" class=\"tf_keyword\" id=\"qVal\" name=\"q\" spellcheck=\"false\" title=\"검색어 입력\" type=\"text\" value=\"\"/>\n",
       "<button class=\"btn_search\" id=\"kakaoBtnSearch\" type=\"submit\"><span class=\"ir_wa\">검색</span></button>\n",
       "</div>\n",
       "</fieldset>\n",
       "<div class=\"wrap_suggestBox\" id=\"wrap_suggestBox\">\n",
       "<div class=\"suggestBox box_sub\" id=\"suggestBox\">\n",
       "<div class=\"baseBox bg\" style=\"display: none\"></div>\n",
       "</div>\n",
       "</div>\n",
       "</form>\n",
       "</div>\n",
       "<script src=\"https://search1.daumcdn.net/search/suggest_pc/suggest-1.2.16.min.js\" type=\"text/javascript\"></script>\n",
       "<script src=\"//t1.daumcdn.net/media/kraken/news/758b62f/suggest.merged.js\"></script>\n",
       "</div>\n",
       "<div id=\"kakaoGnb\" role=\"navigation\">\n",
       "<div class=\"inner_gnb\">\n",
       "<h2 class=\"screen_out\">뉴스 메인메뉴</h2>\n",
       "<ul class=\"gnb_comm\" data-tiara-layer=\"GNB default\">\n",
       "<li class=\"on\"><a class=\"link_gnb link_gnb1\" data-tiara-layer=\"media_home\" href=\"/\"><span class=\"screen_out\">선택됨</span><span class=\"ir_wa\">홈</span><span class=\"bar_gnb\"><span class=\"inner_bar\"></span></span></a></li>\n",
       "<li> <a class=\"link_gnb link_gnb2\" data-tiara-layer=\"media_society\" href=\"/society\"><span class=\"ir_wa\">사회</span><span class=\"bar_gnb\"><span class=\"inner_bar\"></span></span></a></li>\n",
       "<li><a class=\"link_gnb link_gnb3\" data-tiara-layer=\"media_politics\" href=\"/politics\"><span class=\"ir_wa\">정치</span><span class=\"bar_gnb\"><span class=\"inner_bar\"></span></span></a></li>\n",
       "<li><a class=\"link_gnb link_gnb4\" data-tiara-layer=\"media_economic\" href=\"/economic\"><span class=\"ir_wa\">경제</span><span class=\"bar_gnb\"><span class=\"inner_bar\"></span></span></a></li>\n",
       "<li><a class=\"link_gnb link_gnb5\" data-tiara-layer=\"media_foreign\" href=\"/foreign\"><span class=\"ir_wa\">국제</span><span class=\"bar_gnb\"><span class=\"inner_bar\"></span></span></a></li>\n",
       "<li><a class=\"link_gnb link_gnb6\" data-tiara-layer=\"media_culture\" href=\"/culture\"><span class=\"ir_wa\">문화</span><span class=\"bar_gnb\"><span class=\"inner_bar\"></span></span></a></li>\n",
       "<li><a class=\"link_gnb link_gnb7\" data-tiara-layer=\"media_digital\" href=\"/digital\"><span class=\"ir_wa\">IT</span><span class=\"bar_gnb\"><span class=\"inner_bar\"></span></span></a></li>\n",
       "<li><a class=\"link_gnb link_gnb8\" data-tiara-layer=\"media_ranking\" href=\"/ranking/popular\"><span class=\"ir_wa\">랭킹</span><span class=\"bar_gnb\"><span class=\"inner_bar\"></span></span></a></li>\n",
       "<li><a class=\"link_gnb link_gnb9\" data-tiara-layer=\"media_series\" href=\"/series/\"><span class=\"ir_wa\">연재</span><span class=\"bar_gnb\"><span class=\"inner_bar\"></span></span></a></li>\n",
       "<li><a class=\"link_gnb link_gnb10\" data-tiara-layer=\"media_photo\" href=\"/photo\"><span class=\"ir_wa\">포토</span><span class=\"bar_gnb\"><span class=\"inner_bar\"></span></span></a></li>\n",
       "<li><a class=\"link_gnb link_gnb11\" data-tiara-layer=\"media_tv\" href=\"/tv/\"><span class=\"ir_wa\">TV</span><span class=\"bar_gnb\"><span class=\"inner_bar\"></span></span></a></li>\n",
       "</ul>\n",
       "<div class=\"gnb_etc\">\n",
       "<ul class=\"gnb_with\" data-tiara-layer=\"GNB default\">\n",
       "<li><a class=\"link_gnb link_gnb3\" data-tiara-layer=\"media_factcheck\" href=\"https://focus.daum.net/ch/news/factcheck\"><span class=\"ir_wa\">팩트체크</span><span class=\"bar_gnb\"><span class=\"inner_bar\"></span></span></a></li>\n",
       "</ul>\n",
       "<div class=\"gnb_weather\">\n",
       "<strong class=\"screen_out\">날씨 정보</strong>\n",
       "<ul class=\"list_weather\">\n",
       "<li>\n",
       "<a class=\"link_cont\" data-tiara-layer=\"GNB default widget_weather\" href=\"http://search.daum.net/search?w=tot&amp;DA=23W&amp;rtmaxcoll=Z8T&amp;q=서울특별시날씨\">\n",
       "<span class=\"ico_weather ico_weather4\">흐림</span>\n",
       "<span class=\"txt_weather\">\n",
       "\t\t\t\t\t\t\t\t\t\t\t서울\n",
       "\t\t\t\t\t\t\t\t\t\t\t<span class=\"num_heat\">23</span> ℃\n",
       "                                \t\t</span>\n",
       "</a>\n",
       "</li>\n",
       "<li>\n",
       "<a class=\"link_cont\" data-tiara-layer=\"GNB default widget_weather\" href=\"http://search.daum.net/search?w=tot&amp;DA=23W&amp;rtmaxcoll=Z8T&amp;q=수원시 권선구날씨\">\n",
       "<span class=\"ico_weather ico_weather4\">흐림</span>\n",
       "<span class=\"txt_weather\">\n",
       "\t\t\t\t\t\t\t\t\t\t\t수원\n",
       "\t\t\t\t\t\t\t\t\t\t\t<span class=\"num_heat\">23</span> ℃\n",
       "                                \t\t</span>\n",
       "</a>\n",
       "</li>\n",
       "<li>\n",
       "<a class=\"link_cont\" data-tiara-layer=\"GNB default widget_weather\" href=\"http://search.daum.net/search?w=tot&amp;DA=23W&amp;rtmaxcoll=Z8T&amp;q=인천광역시날씨\">\n",
       "<span class=\"ico_weather ico_weather4\">흐림</span>\n",
       "<span class=\"txt_weather\">\n",
       "\t\t\t\t\t\t\t\t\t\t\t인천\n",
       "\t\t\t\t\t\t\t\t\t\t\t<span class=\"num_heat\">24</span> ℃\n",
       "                                \t\t</span>\n",
       "</a>\n",
       "</li>\n",
       "<li>\n",
       "<a class=\"link_cont\" data-tiara-layer=\"GNB default widget_weather\" href=\"http://search.daum.net/search?w=tot&amp;DA=23W&amp;rtmaxcoll=Z8T&amp;q=대구광역시날씨\">\n",
       "<span class=\"ico_weather ico_weather9\">비</span>\n",
       "<span class=\"txt_weather\">\n",
       "\t\t\t\t\t\t\t\t\t\t\t대구\n",
       "\t\t\t\t\t\t\t\t\t\t\t<span class=\"num_heat\">20</span> ℃\n",
       "                                \t\t</span>\n",
       "</a>\n",
       "</li>\n",
       "<li>\n",
       "<a class=\"link_cont\" data-tiara-layer=\"GNB default widget_weather\" href=\"http://search.daum.net/search?w=tot&amp;DA=23W&amp;rtmaxcoll=Z8T&amp;q=대전광역시날씨\">\n",
       "<span class=\"ico_weather ico_weather4\">흐림</span>\n",
       "<span class=\"txt_weather\">\n",
       "\t\t\t\t\t\t\t\t\t\t\t대전\n",
       "\t\t\t\t\t\t\t\t\t\t\t<span class=\"num_heat\">21</span> ℃\n",
       "                                \t\t</span>\n",
       "</a>\n",
       "</li>\n",
       "<li>\n",
       "<a class=\"link_cont\" data-tiara-layer=\"GNB default widget_weather\" href=\"http://search.daum.net/search?w=tot&amp;DA=23W&amp;rtmaxcoll=Z8T&amp;q=광주광역시날씨\">\n",
       "<span class=\"ico_weather ico_weather4\">흐림</span>\n",
       "<span class=\"txt_weather\">\n",
       "\t\t\t\t\t\t\t\t\t\t\t광주\n",
       "\t\t\t\t\t\t\t\t\t\t\t<span class=\"num_heat\">24</span> ℃\n",
       "                                \t\t</span>\n",
       "</a>\n",
       "</li>\n",
       "<li>\n",
       "<a class=\"link_cont\" data-tiara-layer=\"GNB default widget_weather\" href=\"http://search.daum.net/search?w=tot&amp;DA=23W&amp;rtmaxcoll=Z8T&amp;q=부산광역시날씨\">\n",
       "<span class=\"ico_weather ico_weather9\">비</span>\n",
       "<span class=\"txt_weather\">\n",
       "\t\t\t\t\t\t\t\t\t\t\t부산\n",
       "\t\t\t\t\t\t\t\t\t\t\t<span class=\"num_heat\">20</span> ℃\n",
       "                                \t\t</span>\n",
       "</a>\n",
       "</li>\n",
       "<li>\n",
       "<a class=\"link_cont\" data-tiara-layer=\"GNB default widget_weather\" href=\"http://search.daum.net/search?w=tot&amp;DA=23W&amp;rtmaxcoll=Z8T&amp;q=울산광역시날씨\">\n",
       "<span class=\"ico_weather ico_weather9\">비</span>\n",
       "<span class=\"txt_weather\">\n",
       "\t\t\t\t\t\t\t\t\t\t\t울산\n",
       "\t\t\t\t\t\t\t\t\t\t\t<span class=\"num_heat\">20</span> ℃\n",
       "                                \t\t</span>\n",
       "</a>\n",
       "</li>\n",
       "<li>\n",
       "<a class=\"link_cont\" data-tiara-layer=\"GNB default widget_weather\" href=\"http://search.daum.net/search?w=tot&amp;DA=23W&amp;rtmaxcoll=Z8T&amp;q=울릉군날씨\">\n",
       "<span class=\"ico_weather ico_weather9\">비</span>\n",
       "<span class=\"txt_weather\">\n",
       "\t\t\t\t\t\t\t\t\t\t\t울릉/독도\n",
       "\t\t\t\t\t\t\t\t\t\t\t<span class=\"num_heat\">17</span> ℃\n",
       "                                \t\t</span>\n",
       "</a>\n",
       "</li>\n",
       "<li>\n",
       "<a class=\"link_cont\" data-tiara-layer=\"GNB default widget_weather\" href=\"http://search.daum.net/search?w=tot&amp;DA=23W&amp;rtmaxcoll=Z8T&amp;q=춘천시날씨\">\n",
       "<span class=\"ico_weather ico_weather4\">흐림</span>\n",
       "<span class=\"txt_weather\">\n",
       "\t\t\t\t\t\t\t\t\t\t\t춘천\n",
       "\t\t\t\t\t\t\t\t\t\t\t<span class=\"num_heat\">23</span> ℃\n",
       "                                \t\t</span>\n",
       "</a>\n",
       "</li>\n",
       "<li>\n",
       "<a class=\"link_cont\" data-tiara-layer=\"GNB default widget_weather\" href=\"http://search.daum.net/search?w=tot&amp;DA=23W&amp;rtmaxcoll=Z8T&amp;q=강릉시날씨\">\n",
       "<span class=\"ico_weather ico_weather9\">비</span>\n",
       "<span class=\"txt_weather\">\n",
       "\t\t\t\t\t\t\t\t\t\t\t강릉\n",
       "\t\t\t\t\t\t\t\t\t\t\t<span class=\"num_heat\">20</span> ℃\n",
       "                                \t\t</span>\n",
       "</a>\n",
       "</li>\n",
       "<li>\n",
       "<a class=\"link_cont\" data-tiara-layer=\"GNB default widget_weather\" href=\"http://search.daum.net/search?w=tot&amp;DA=23W&amp;rtmaxcoll=Z8T&amp;q=백령면날씨\">\n",
       "<span class=\"ico_weather ico_weather4\">흐림</span>\n",
       "<span class=\"txt_weather\">\n",
       "\t\t\t\t\t\t\t\t\t\t\t백령\n",
       "\t\t\t\t\t\t\t\t\t\t\t<span class=\"num_heat\">22</span> ℃\n",
       "                                \t\t</span>\n",
       "</a>\n",
       "</li>\n",
       "<li>\n",
       "<a class=\"link_cont\" data-tiara-layer=\"GNB default widget_weather\" href=\"http://search.daum.net/search?w=tot&amp;DA=23W&amp;rtmaxcoll=Z8T&amp;q=청주시 상당구날씨\">\n",
       "<span class=\"ico_weather ico_weather9\">비</span>\n",
       "<span class=\"txt_weather\">\n",
       "\t\t\t\t\t\t\t\t\t\t\t청주\n",
       "\t\t\t\t\t\t\t\t\t\t\t<span class=\"num_heat\">19</span> ℃\n",
       "                                \t\t</span>\n",
       "</a>\n",
       "</li>\n",
       "<li>\n",
       "<a class=\"link_cont\" data-tiara-layer=\"GNB default widget_weather\" href=\"http://search.daum.net/search?w=tot&amp;DA=23W&amp;rtmaxcoll=Z8T&amp;q=전주시 완산구날씨\">\n",
       "<span class=\"ico_weather ico_weather9\">비</span>\n",
       "<span class=\"txt_weather\">\n",
       "\t\t\t\t\t\t\t\t\t\t\t전주\n",
       "\t\t\t\t\t\t\t\t\t\t\t<span class=\"num_heat\">21</span> ℃\n",
       "                                \t\t</span>\n",
       "</a>\n",
       "</li>\n",
       "<li>\n",
       "<a class=\"link_cont\" data-tiara-layer=\"GNB default widget_weather\" href=\"http://search.daum.net/search?w=tot&amp;DA=23W&amp;rtmaxcoll=Z8T&amp;q=목포시날씨\">\n",
       "<span class=\"ico_weather ico_weather9\">비</span>\n",
       "<span class=\"txt_weather\">\n",
       "\t\t\t\t\t\t\t\t\t\t\t목포\n",
       "\t\t\t\t\t\t\t\t\t\t\t<span class=\"num_heat\">23</span> ℃\n",
       "                                \t\t</span>\n",
       "</a>\n",
       "</li>\n",
       "<li>\n",
       "<a class=\"link_cont\" data-tiara-layer=\"GNB default widget_weather\" href=\"http://search.daum.net/search?w=tot&amp;DA=23W&amp;rtmaxcoll=Z8T&amp;q=여수시날씨\">\n",
       "<span class=\"ico_weather ico_weather9\">비</span>\n",
       "<span class=\"txt_weather\">\n",
       "\t\t\t\t\t\t\t\t\t\t\t여수\n",
       "\t\t\t\t\t\t\t\t\t\t\t<span class=\"num_heat\">21</span> ℃\n",
       "                                \t\t</span>\n",
       "</a>\n",
       "</li>\n",
       "<li>\n",
       "<a class=\"link_cont\" data-tiara-layer=\"GNB default widget_weather\" href=\"http://search.daum.net/search?w=tot&amp;DA=23W&amp;rtmaxcoll=Z8T&amp;q=제주특별자치도날씨\">\n",
       "<span class=\"ico_weather ico_weather9\">비</span>\n",
       "<span class=\"txt_weather\">\n",
       "\t\t\t\t\t\t\t\t\t\t\t제주\n",
       "\t\t\t\t\t\t\t\t\t\t\t<span class=\"num_heat\">23</span> ℃\n",
       "                                \t\t</span>\n",
       "</a>\n",
       "</li>\n",
       "<li>\n",
       "<a class=\"link_cont\" data-tiara-layer=\"GNB default widget_weather\" href=\"http://search.daum.net/search?w=tot&amp;DA=23W&amp;rtmaxcoll=Z8T&amp;q=안동시날씨\">\n",
       "<span class=\"ico_weather ico_weather9\">비</span>\n",
       "<span class=\"txt_weather\">\n",
       "\t\t\t\t\t\t\t\t\t\t\t안동\n",
       "\t\t\t\t\t\t\t\t\t\t\t<span class=\"num_heat\">18</span> ℃\n",
       "                                \t\t</span>\n",
       "</a>\n",
       "</li>\n",
       "<li>\n",
       "<a class=\"link_cont\" data-tiara-layer=\"GNB default widget_weather\" href=\"http://search.daum.net/search?w=tot&amp;DA=23W&amp;rtmaxcoll=Z8T&amp;q=창원시 의창구날씨\">\n",
       "<span class=\"ico_weather ico_weather9\">비</span>\n",
       "<span class=\"txt_weather\">\n",
       "\t\t\t\t\t\t\t\t\t\t\t창원\n",
       "\t\t\t\t\t\t\t\t\t\t\t<span class=\"num_heat\">21</span> ℃\n",
       "                                \t\t</span>\n",
       "</a>\n",
       "</li>\n",
       "</ul>\n",
       "</div>\n",
       "</div>\n",
       "</div>\n",
       "</div>\n",
       "<script src=\"//t1.daumcdn.net/media/kraken/news/758b62f/gnb.merged.js\"></script>\n",
       "<style>\n",
       "\t\t.gnb_comm .link_gnb .bar_gnb .inner_bar {width:0;background-color:#1e88e5}\n",
       "\t\t.gnb_comm .on .link_gnb .bar_gnb .inner_bar {width:100%}\n",
       "\t</style>\n",
       "</div>\n",
       "<hr class=\"hide\"/>\n",
       "<div class=\"cont_home\" id=\"kakaoContent\" role=\"main\">\n",
       "<h2 class=\"screen_out\" id=\"kakaoBody\">홈</h2>\n",
       "<div id=\"cSub\">\n",
       "<div class=\"feature_home\">\n",
       "<ul class=\"list_issue\" data-tiara-layer=\"MCC\">\n",
       "<li data-tiara-layer=\"cluster1\">\n",
       "<div class=\"item_issue\">\n",
       "<a class=\"link_thumb\" data-tiara-custom=\"contentUniqueKey=hamny-20210917110001465\" data-tiara-id=\"20210917110001465\" data-tiara-layer=\"article_thumb\" data-tiara-ordnum=\"1\" data-tiara-type=\"harmony\" href=\"https://news.v.daum.net/v/20210917110001465\">\n",
       "<img alt=\"가덕도 신공항, 개발 착수..\" class=\"thumb_g\" src=\"https://img1.daumcdn.net/thumb/S254x156ht.u/?fname=https%3A%2F%2Ft1.daumcdn.net%2Fnews%2F202109%2F17%2Fmoneytoday%2F20210917110839156xxtp.jpg&amp;scode=media\" 고려\"=\"\" 속도=\"\" 제주2공항=\"\" 조절\"=\"\" 환경=\"\"/>\n",
       "</a>\n",
       "<div class=\"cont_thumb\">\n",
       "<strong class=\"tit_thumb\">\n",
       "<a class=\"link_txt\" data-tiara-custom=\"contentUniqueKey=hamny-20210917110001465\" data-tiara-id=\"20210917110001465\" data-tiara-layer=\"article_main\" data-tiara-ordnum=\"1\" data-tiara-type=\"harmony\" href=\"https://news.v.daum.net/v/20210917110001465\">가덕도 신공항, 개발 착수..\"환경 고려\" 제주2공항 속도 조절</a>\n",
       "</strong>\n",
       "<span class=\"info_thumb\">머니투데이</span>\n",
       "</div>\n",
       "</div>\n",
       "<div class=\"relate_thumb\"><!-- 연관기사가 있을경우 노출 -->\n",
       "<strong class=\"screen_out\">연관 기사</strong>\n",
       "<div class=\"thumb_relate\"><!-- 개발에서 link_txt 글자수로 말줄임처리 해주세요. cp까지 합쳐서 최대 2줄노출. 뒤에 cp는 노출되면서 제목부분만 말줄임 -->\n",
       "<a class=\"link_txt\" data-tiara-custom=\"contentUniqueKey=hamny-20210917102537079\" data-tiara-id=\"20210917102537079\" data-tiara-layer=\"article_sub\" data-tiara-ordnum=\"1\" data-tiara-type=\"harmony\" href=\"https://news.v.daum.net/v/20210917102537079\">6차 공항개발종합계획 확정..\"제주2공항은 환경영향 등 검토\"</a>\n",
       "<span class=\"info_news\">경향신문</span>\n",
       "</div>\n",
       "<div class=\"thumb_relate\"><!-- 개발에서 link_txt 글자수로 말줄임처리 해주세요. cp까지 합쳐서 최대 2줄노출. 뒤에 cp는 노출되면서 제목부분만 말줄임 -->\n",
       "<a class=\"link_txt\" data-tiara-custom=\"contentUniqueKey=hamny-20210917075946296\" data-tiara-id=\"20210917075946296\" data-tiara-layer=\"article_sub\" data-tiara-ordnum=\"2\" data-tiara-type=\"harmony\" href=\"https://news.v.daum.net/v/20210917075946296\">제주2공항 개발, 안전·환경 따져 재검토..가덕도 신공항은 개발 착수</a>\n",
       "<span class=\"info_news\">헤럴드경제</span>\n",
       "</div>\n",
       "</div>\n",
       "</li>\n",
       "<li data-tiara-layer=\"cluster2\">\n",
       "<div class=\"item_issue\">\n",
       "<a class=\"link_thumb\" data-tiara-custom=\"contentUniqueKey=hamny-20210917105949460\" data-tiara-id=\"20210917105949460\" data-tiara-layer=\"article_thumb\" data-tiara-ordnum=\"1\" data-tiara-type=\"harmony\" href=\"https://news.v.daum.net/v/20210917105949460\">\n",
       "<img alt=\"WSJ \" class=\"thumb_g\" src=\"https://img1.daumcdn.net/thumb/S254x156ht.u/?fname=https%3A%2F%2Ft1.daumcdn.net%2Fnews%2F202109%2F17%2Fjoongang%2F20210917105950606iayh.jpg&amp;scode=media\" 文,=\"\" 강화하는=\"\" 김정은=\"\" 뭘하든=\"\" 원조..왕조=\"\" 인도적=\"\" 일\"\"=\"\"/>\n",
       "</a>\n",
       "<div class=\"cont_thumb\">\n",
       "<strong class=\"tit_thumb\">\n",
       "<a class=\"link_txt\" data-tiara-custom=\"contentUniqueKey=hamny-20210917105949460\" data-tiara-id=\"20210917105949460\" data-tiara-layer=\"article_main\" data-tiara-ordnum=\"1\" data-tiara-type=\"harmony\" href=\"https://news.v.daum.net/v/20210917105949460\">WSJ \"文, 김정은 뭘하든 인도적 원조..왕조 강화하는 일\"</a>\n",
       "</strong>\n",
       "<span class=\"info_thumb\">중앙일보</span>\n",
       "</div>\n",
       "</div>\n",
       "<div class=\"relate_thumb\"><!-- 연관기사가 있을경우 노출 -->\n",
       "<strong class=\"screen_out\">연관 기사</strong>\n",
       "<div class=\"thumb_relate\"><!-- 개발에서 link_txt 글자수로 말줄임처리 해주세요. cp까지 합쳐서 최대 2줄노출. 뒤에 cp는 노출되면서 제목부분만 말줄임 -->\n",
       "<a class=\"link_txt\" data-tiara-custom=\"contentUniqueKey=hamny-20210917055739767\" data-tiara-id=\"20210917055739767\" data-tiara-layer=\"article_sub\" data-tiara-ordnum=\"1\" data-tiara-type=\"harmony\" href=\"https://news.v.daum.net/v/20210917055739767\">WSJ \"文대통령, 북한이 무슨 짓 하든 원조 추진.. 김씨 왕조만 배불려\"</a>\n",
       "<span class=\"info_news\">조선일보</span>\n",
       "</div>\n",
       "<div class=\"thumb_relate\"><!-- 개발에서 link_txt 글자수로 말줄임처리 해주세요. cp까지 합쳐서 최대 2줄노출. 뒤에 cp는 노출되면서 제목부분만 말줄임 -->\n",
       "<a class=\"link_txt\" data-tiara-custom=\"contentUniqueKey=hamny-20210917041832643\" data-tiara-id=\"20210917041832643\" data-tiara-layer=\"article_sub\" data-tiara-ordnum=\"2\" data-tiara-type=\"harmony\" href=\"https://news.v.daum.net/v/20210917041832643\">WSJ \"文대통령, 北이 무슨일 하든 상관없이 '인도적 원조' 추진\"</a>\n",
       "<span class=\"info_news\">뉴스1</span>\n",
       "</div>\n",
       "</div>\n",
       "</li>\n",
       "<li data-tiara-layer=\"cluster3\">\n",
       "<div class=\"item_issue\">\n",
       "<a class=\"link_thumb\" data-tiara-custom=\"contentUniqueKey=hamny-20210917105834435\" data-tiara-id=\"20210917105834435\" data-tiara-layer=\"article_thumb\" data-tiara-ordnum=\"1\" data-tiara-type=\"harmony\" href=\"https://news.v.daum.net/v/20210917105834435\">\n",
       "<img alt=\"野주자들, '조국수홍' 홍준표 맹비난..\" class=\"thumb_g\" src=\"https://img1.daumcdn.net/thumb/S254x156ht.u/?fname=https%3A%2F%2Ft1.daumcdn.net%2Fnews%2F202109%2F17%2Fnewsis%2F20210917105834519rvnk.jpg&amp;scode=media\" 부들부들\"\"=\"\" 심장=\"\"/>\n",
       "</a>\n",
       "<div class=\"cont_thumb\">\n",
       "<strong class=\"tit_thumb\">\n",
       "<a class=\"link_txt\" data-tiara-custom=\"contentUniqueKey=hamny-20210917105834435\" data-tiara-id=\"20210917105834435\" data-tiara-layer=\"article_main\" data-tiara-ordnum=\"1\" data-tiara-type=\"harmony\" href=\"https://news.v.daum.net/v/20210917105834435\">野주자들, '조국수홍' 홍준표 맹비난..\"심장 부들부들\"</a>\n",
       "</strong>\n",
       "<span class=\"info_thumb\">뉴시스</span>\n",
       "</div>\n",
       "</div>\n",
       "<div class=\"relate_thumb\"><!-- 연관기사가 있을경우 노출 -->\n",
       "<strong class=\"screen_out\">연관 기사</strong>\n",
       "<div class=\"thumb_relate\"><!-- 개발에서 link_txt 글자수로 말줄임처리 해주세요. cp까지 합쳐서 최대 2줄노출. 뒤에 cp는 노출되면서 제목부분만 말줄임 -->\n",
       "<a class=\"link_txt\" data-tiara-custom=\"contentUniqueKey=hamny-20210917102835157\" data-tiara-id=\"20210917102835157\" data-tiara-layer=\"article_sub\" data-tiara-ordnum=\"1\" data-tiara-type=\"harmony\" href=\"https://news.v.daum.net/v/20210917102835157\">유승민 \"조국수사가 과잉? 조국엔 관용 안 돼\"..홍준표 '직격'</a>\n",
       "<span class=\"info_news\">뉴스1</span>\n",
       "</div>\n",
       "<div class=\"thumb_relate\"><!-- 개발에서 link_txt 글자수로 말줄임처리 해주세요. cp까지 합쳐서 최대 2줄노출. 뒤에 cp는 노출되면서 제목부분만 말줄임 -->\n",
       "<a class=\"link_txt\" data-tiara-custom=\"contentUniqueKey=hamny-20210917095947943\" data-tiara-id=\"20210917095947943\" data-tiara-layer=\"article_sub\" data-tiara-ordnum=\"2\" data-tiara-type=\"harmony\" href=\"https://news.v.daum.net/v/20210917095947943\">홍준표 '조국 발언'으로 공격받자 \"난 대여 최고 전사였다\"</a>\n",
       "<span class=\"info_news\">국민일보</span>\n",
       "</div>\n",
       "</div>\n",
       "</li>\n",
       "<li data-tiara-layer=\"cluster4\">\n",
       "<div class=\"item_issue\">\n",
       "<a class=\"link_thumb\" data-tiara-custom=\"contentUniqueKey=hamny-20210917105612336\" data-tiara-id=\"20210917105612336\" data-tiara-layer=\"article_thumb\" data-tiara-ordnum=\"1\" data-tiara-type=\"harmony\" href=\"https://news.v.daum.net/v/20210917105612336\">\n",
       "<img alt=\"대법 \" class=\"thumb_g\" src=\"https://img1.daumcdn.net/thumb/S254x156ht.u/?fname=https%3A%2F%2Ft1.daumcdn.net%2Fnews%2F202109%2F17%2Fhani%2F20210917110614982xxmp.jpg&amp;scode=media\" 고성'=\"\" 무죄=\"\" 법정\"..'헌재서=\"\" 변호사=\"\" 심판정도=\"\" 파기\"=\"\" 헌재=\"\"/>\n",
       "</a>\n",
       "<div class=\"cont_thumb\">\n",
       "<strong class=\"tit_thumb\">\n",
       "<a class=\"link_txt\" data-tiara-custom=\"contentUniqueKey=hamny-20210917105612336\" data-tiara-id=\"20210917105612336\" data-tiara-layer=\"article_main\" data-tiara-ordnum=\"1\" data-tiara-type=\"harmony\" href=\"https://news.v.daum.net/v/20210917105612336\">대법 \"헌재 심판정도 법정\"..'헌재서 고성' 변호사 무죄 파기</a>\n",
       "</strong>\n",
       "<span class=\"info_thumb\">한겨레</span>\n",
       "</div>\n",
       "</div>\n",
       "<div class=\"relate_thumb\"><!-- 연관기사가 있을경우 노출 -->\n",
       "<strong class=\"screen_out\">연관 기사</strong>\n",
       "<div class=\"thumb_relate\"><!-- 개발에서 link_txt 글자수로 말줄임처리 해주세요. cp까지 합쳐서 최대 2줄노출. 뒤에 cp는 노출되면서 제목부분만 말줄임 -->\n",
       "<a class=\"link_txt\" data-tiara-custom=\"contentUniqueKey=hamny-20210917095111621\" data-tiara-id=\"20210917095111621\" data-tiara-layer=\"article_sub\" data-tiara-ordnum=\"1\" data-tiara-type=\"harmony\" href=\"https://news.v.daum.net/v/20210917095111621\">\"헌재 심판정도 법정\"  대법원, 권영국 변호사 무죄판결  '파기환송'</a>\n",
       "<span class=\"info_news\">조선일보</span>\n",
       "</div>\n",
       "<div class=\"thumb_relate\"><!-- 개발에서 link_txt 글자수로 말줄임처리 해주세요. cp까지 합쳐서 최대 2줄노출. 뒤에 cp는 노출되면서 제목부분만 말줄임 -->\n",
       "<a class=\"link_txt\" data-tiara-custom=\"contentUniqueKey=hamny-20210917094628431\" data-tiara-id=\"20210917094628431\" data-tiara-layer=\"article_sub\" data-tiara-ordnum=\"2\" data-tiara-type=\"harmony\" href=\"https://news.v.daum.net/v/20210917094628431\">대법, '통진당 해산 법정소동' 권영국 무죄에 \"헌재도 법원.. 재판 다시\"</a>\n",
       "<span class=\"info_news\">아시아경제</span>\n",
       "</div>\n",
       "</div>\n",
       "</li>\n",
       "</ul>\n",
       "</div>\n",
       "</div>\n",
       "<div id=\"cMain\">\n",
       "<div id=\"mArticle\">\n",
       "<div class=\"box_headline\" data-tiara-layer=\"MAIN_NEWS\">\n",
       "<h3 class=\"screen_out\">주요기사</h3>\n",
       "<ul class=\"list_headline\">\n",
       "<li class=\"item_main\">\n",
       "<a class=\"link_cont\" data-tiara-custom=\"contentUniqueKey=hamny-20210917105057115\" data-tiara-id=\"20210917105057115\" data-tiara-layer=\"photo\" data-tiara-ordnum=\"1\" data-tiara-type=\"harmony\" href=\"https://v.daum.net/v/20210917105057115\">\n",
       "<span class=\"wrap_thumb\">\n",
       "<img alt=\"금감원, 우리금융 DLF 징계 취소 판결에 불복 항소\" class=\"thumb_g\" src=\"https://img1.daumcdn.net/thumb/S189x104ht.u/?fname=https%3A%2F%2Ft1.daumcdn.net%2Fnews%2F202109%2F17%2FNEWS1%2F20210917105057425mqly.jpg&amp;scode=media\"/>\n",
       "</span>\n",
       "<strong class=\"tit_g\">금감원, 우리금융 DLF 징계 취소 판결에 불복 항소</strong>\n",
       "</a>\n",
       "</li>\n",
       "<li>\n",
       "<strong class=\"tit_g\">\n",
       "<a class=\"link_txt\" data-tiara-custom=\"contentUniqueKey=hamny-20210917104004686\" data-tiara-id=\"20210917104004686\" data-tiara-layer=\"article\" data-tiara-ordnum=\"4\" data-tiara-type=\"harmony\" href=\"https://v.daum.net/v/20210917104004686\">문대통령, 오경미 대법관 임명안 재가..17일부터 임기 시작</a>\n",
       "<span class=\"info_news\">뉴스1</span>\n",
       "</strong>\n",
       "</li> <li>\n",
       "<strong class=\"tit_g\">\n",
       "<a class=\"link_txt\" data-tiara-custom=\"contentUniqueKey=hamny-20210917100423222\" data-tiara-id=\"20210917100423222\" data-tiara-layer=\"article\" data-tiara-ordnum=\"5\" data-tiara-type=\"harmony\" href=\"https://v.daum.net/v/20210917100423222\">'오커스' 기습 발표에 뿔난 佛·EU..미·영, 달래기 나서</a>\n",
       "<span class=\"info_news\">뉴시스</span>\n",
       "</strong>\n",
       "</li> <li>\n",
       "<strong class=\"tit_g\">\n",
       "<a class=\"link_txt\" data-tiara-custom=\"contentUniqueKey=hamny-20210917094005146\" data-tiara-id=\"20210917094005146\" data-tiara-layer=\"article\" data-tiara-ordnum=\"6\" data-tiara-type=\"harmony\" href=\"https://v.daum.net/v/20210917094005146\">김 총리 \"명절 대이동으로 코로나 '비수도권 풍선효과' 우려\"</a>\n",
       "<span class=\"info_news\">아시아경제</span>\n",
       "</strong>\n",
       "</li> <li>\n",
       "<strong class=\"tit_g\">\n",
       "<a class=\"link_txt\" data-tiara-custom=\"contentUniqueKey=hamny-20210917105001085\" data-tiara-id=\"20210917105001085\" data-tiara-layer=\"article\" data-tiara-ordnum=\"7\" data-tiara-type=\"harmony\" href=\"https://v.daum.net/v/20210917105001085\">이낙연, 정세균 무효표에 \"당규 해석 부적절\"..선관위에 반기</a>\n",
       "<span class=\"info_news\">뉴스1</span>\n",
       "</strong>\n",
       "</li> </ul>\n",
       "<ul class=\"list_headline\">\n",
       "<li class=\"item_main\">\n",
       "<a class=\"link_cont\" data-tiara-custom=\"contentUniqueKey=hamny-20210917101617706\" data-tiara-id=\"20210917101617706\" data-tiara-layer=\"photo\" data-tiara-ordnum=\"2\" data-tiara-type=\"harmony\" href=\"https://v.daum.net/v/20210917101617706\">\n",
       "<span class=\"wrap_thumb\">\n",
       "<img alt=\"'취임 100일' 이준석 \" class=\"thumb_g\" src=\"https://img1.daumcdn.net/thumb/S189x104ht.u/?fname=https%3A%2F%2Ft1.daumcdn.net%2Fnews%2F202109%2F17%2Fmoneytoday%2F20210917102330149acsg.jpg&amp;scode=media\" 것\"\"=\"\" 불가역적=\"\" 선거=\"\" 승리할=\"\" 완성=\"\" 정치개혁=\"\"/>\n",
       "</span>\n",
       "<strong class=\"tit_g\">'취임 100일' 이준석 \"불가역적 정치개혁 완성 선거 승리할 것\"</strong>\n",
       "</a>\n",
       "</li>\n",
       "<li>\n",
       "<strong class=\"tit_g\">\n",
       "<a class=\"link_txt\" data-tiara-custom=\"contentUniqueKey=hamny-20210917104148751\" data-tiara-id=\"20210917104148751\" data-tiara-layer=\"article\" data-tiara-ordnum=\"8\" data-tiara-type=\"harmony\" href=\"https://v.daum.net/v/20210917104148751\">신규확진 2008명, 수도권 77.6%..\"추석 만남에 전파 위험\"</a>\n",
       "<span class=\"info_news\">뉴시스</span>\n",
       "</strong>\n",
       "</li> <li>\n",
       "<strong class=\"tit_g\">\n",
       "<a class=\"link_txt\" data-tiara-custom=\"contentUniqueKey=hamny-20210917075817284\" data-tiara-id=\"20210917075817284\" data-tiara-layer=\"article\" data-tiara-ordnum=\"9\" data-tiara-type=\"harmony\" href=\"https://v.daum.net/v/20210917075817284\">日 자민당 총재 선거 오늘 고시..'포스트 스가' 4파전</a>\n",
       "<span class=\"info_news\">아시아경제</span>\n",
       "</strong>\n",
       "</li> <li>\n",
       "<strong class=\"tit_g\">\n",
       "<a class=\"link_txt\" data-tiara-custom=\"contentUniqueKey=hamny-20210917085523528\" data-tiara-id=\"20210917085523528\" data-tiara-layer=\"article\" data-tiara-ordnum=\"10\" data-tiara-type=\"harmony\" href=\"https://v.daum.net/v/20210917085523528\">'고난의 행군' 총리였던 강성산, 사망 14년 만에 재평가</a>\n",
       "<span class=\"info_news\">뉴스1</span>\n",
       "</strong>\n",
       "</li> <li>\n",
       "<strong class=\"tit_g\">\n",
       "<a class=\"link_txt\" data-tiara-custom=\"contentUniqueKey=hamny-20210917103747590\" data-tiara-id=\"20210917103747590\" data-tiara-layer=\"article\" data-tiara-ordnum=\"11\" data-tiara-type=\"harmony\" href=\"https://v.daum.net/v/20210917103747590\">문 대통령 지지율 36%로 하락..30~50대 동반 하락</a>\n",
       "<span class=\"info_news\">뉴시스</span>\n",
       "</strong>\n",
       "</li> </ul>\n",
       "<ul class=\"list_headline\">\n",
       "<li class=\"item_main\">\n",
       "<a class=\"link_cont\" data-tiara-custom=\"contentUniqueKey=hamny-20210917084345232\" data-tiara-id=\"20210917084345232\" data-tiara-layer=\"photo\" data-tiara-ordnum=\"3\" data-tiara-type=\"harmony\" href=\"https://v.daum.net/v/20210917084345232\">\n",
       "<span class=\"wrap_thumb\">\n",
       "<img 1차접종=\"\" 70%=\"\" alt=\"김부겸 총리 \" class=\"thumb_g\" src=\"https://img1.daumcdn.net/thumb/S189x104ht.u/?fname=https%3A%2F%2Ft1.daumcdn.net%2Fnews%2F202109%2F17%2Fhankooki%2F20210917084349261gkqh.jpg&amp;scode=media\" 오늘=\"\" 완료\"\"=\"\" 전국민=\"\"/>\n",
       "</span>\n",
       "<strong class=\"tit_g\">김부겸 총리 \"오늘 전국민 70% 1차접종 완료\"</strong>\n",
       "</a>\n",
       "</li>\n",
       "<li>\n",
       "<strong class=\"tit_g\">\n",
       "<a class=\"link_txt\" data-tiara-custom=\"contentUniqueKey=hamny-20210917100845411\" data-tiara-id=\"20210917100845411\" data-tiara-layer=\"article\" data-tiara-ordnum=\"12\" data-tiara-type=\"harmony\" href=\"https://v.daum.net/v/20210917100845411\">이재명 \"화천대유 소유자? '1호사원' 곽상도 아들에게 물어보라\"</a>\n",
       "<span class=\"info_news\">헤럴드경제</span>\n",
       "</strong>\n",
       "</li> <li>\n",
       "<strong class=\"tit_g\">\n",
       "<a class=\"link_txt\" data-tiara-custom=\"contentUniqueKey=hamny-20210917100007976\" data-tiara-id=\"20210917100007976\" data-tiara-layer=\"article\" data-tiara-ordnum=\"13\" data-tiara-type=\"harmony\" href=\"https://v.daum.net/v/20210917100007976\">정부, 3개월째 \"내수 불확실성\" 진단..물가상승에 \"관리만전\"</a>\n",
       "<span class=\"info_news\">뉴스1</span>\n",
       "</strong>\n",
       "</li> <li>\n",
       "<strong class=\"tit_g\">\n",
       "<a class=\"link_txt\" data-tiara-custom=\"contentUniqueKey=hamny-20210917090205781\" data-tiara-id=\"20210917090205781\" data-tiara-layer=\"article\" data-tiara-ordnum=\"14\" data-tiara-type=\"harmony\" href=\"https://v.daum.net/v/20210917090205781\">대검 \"사주의혹 고발장, 유출 안했다\"..윤석열에 반박</a>\n",
       "<span class=\"info_news\">뉴시스</span>\n",
       "</strong>\n",
       "</li> <li>\n",
       "<strong class=\"tit_g\">\n",
       "<a class=\"link_txt\" data-tiara-custom=\"contentUniqueKey=hamny-20210917092717678\" data-tiara-id=\"20210917092717678\" data-tiara-layer=\"article\" data-tiara-ordnum=\"15\" data-tiara-type=\"harmony\" href=\"https://v.daum.net/v/20210917092717678\">북한, 자본주의 폐해 조목조목 짚어..\"정신도덕적으로 부패\"</a>\n",
       "<span class=\"info_news\">뉴스1</span>\n",
       "</strong>\n",
       "</li> </ul>\n",
       "</div>\n",
       "<div class=\"box_photo\" data-tiara-layer=\"PHOTO\">\n",
       "<h3 class=\"screen_out\">포토뉴스</h3>\n",
       "<div class=\"gallery_list gallery_list2\">\n",
       "<ul class=\"list_gallery\">\n",
       "<li data-tiara-layer=\"article\">\n",
       "<a class=\"link_cont\" data-tiara-custom=\"contentUniqueKey=hamny-20210917110300648\" data-tiara-id=\"20210917110300648\" data-tiara-ordnum=\"1\" data-tiara-type=\"harmony\" href=\"https://gallery.v.daum.net/p/viewer/1264329/kcDg5MUawE\">\n",
       "<span class=\"wrap_thumb\">\n",
       "<img alt=\"\" class=\"thumb_g\" height=\"142\" src=\"https://img1.daumcdn.net/thumb/S254x142ht.u/?fname=https%3A%2F%2Ft1.daumcdn.net%2Fnews%2F202109%2F17%2FNEWS1%2F20210917110301574fyat.jpg&amp;scode=media\" width=\"254\"/>\n",
       "</span>\n",
       "<strong class=\"tit_thumb\">'건강한 추석 명절 보내길'</strong>\n",
       "</a>\n",
       "<a class=\"btn_photoview\" data-tiara-custom=\"contentUniqueKey=hamny-20210917110300648\" data-tiara-id=\"20210917110300648\" data-tiara-ordnum=\"1\" data-tiara-type=\"harmony\" href=\"https://gallery.v.daum.net/p/viewer/1264329/kcDg5MUawE\">\n",
       "<span class=\"ico_news\">포토갤러리</span>\n",
       "</a>\n",
       "<span class=\"info_thumb\">\n",
       "<a class=\"link_txt\" data-tiara-custom=\"contentUniqueKey=gallery=1264329\" data-tiara-id=\"1264329\" data-tiara-ordnum=\"1\" data-tiara-type=\"gallery\" href=\"https://gallery.v.daum.net/p/viewer/1264329/\">민족대명절 설</a>\n",
       "</span>\n",
       "</li>\n",
       "<li data-tiara-layer=\"article\">\n",
       "<a class=\"link_cont\" data-tiara-custom=\"contentUniqueKey=hamny-20210917110627849\" data-tiara-id=\"20210917110627849\" data-tiara-ordnum=\"2\" data-tiara-type=\"harmony\" href=\"https://gallery.v.daum.net/p/viewer/285071/kv4qbrBkfz\">\n",
       "<span class=\"wrap_thumb\">\n",
       "<img alt=\"\" class=\"thumb_g\" height=\"142\" src=\"https://img1.daumcdn.net/thumb/S254x142ht.u/?fname=https%3A%2F%2Ft1.daumcdn.net%2Fnews%2F202109%2F17%2Fnewsis%2F20210917110627291msgy.jpg&amp;scode=media\" width=\"254\"/>\n",
       "</span>\n",
       "<strong class=\"tit_thumb\">베네수엘라 백신 접종 재개, 혼잡한 접종소</strong>\n",
       "</a>\n",
       "<a class=\"btn_photoview\" data-tiara-custom=\"contentUniqueKey=hamny-20210917110627849\" data-tiara-id=\"20210917110627849\" data-tiara-ordnum=\"2\" data-tiara-type=\"harmony\" href=\"https://gallery.v.daum.net/p/viewer/285071/kv4qbrBkfz\">\n",
       "<span class=\"ico_news\">포토갤러리</span>\n",
       "</a>\n",
       "<span class=\"info_thumb\">\n",
       "<a class=\"link_txt\" data-tiara-custom=\"contentUniqueKey=gallery=285071\" data-tiara-id=\"285071\" data-tiara-ordnum=\"2\" data-tiara-type=\"gallery\" href=\"https://gallery.v.daum.net/p/viewer/285071/\">베네수엘라는 지금</a>\n",
       "</span>\n",
       "</li>\n",
       "<li data-tiara-layer=\"article\">\n",
       "<a class=\"link_cont\" data-tiara-custom=\"contentUniqueKey=hamny-20210917110457774\" data-tiara-id=\"20210917110457774\" data-tiara-ordnum=\"3\" data-tiara-type=\"harmony\" href=\"https://gallery.v.daum.net/p/viewer/5014013/kI6cGQYUYf\">\n",
       "<span class=\"wrap_thumb\">\n",
       "<img alt=\"\" class=\"thumb_g\" height=\"142\" src=\"https://img1.daumcdn.net/thumb/S254x142ht.u/?fname=https%3A%2F%2Ft1.daumcdn.net%2Fnews%2F202109%2F17%2FNEWS1%2F20210917110459436fgix.jpg&amp;scode=media\" width=\"254\"/>\n",
       "</span>\n",
       "<strong class=\"tit_thumb\">부쩍 인파 줄어든 서울역 승강장</strong>\n",
       "</a>\n",
       "<a class=\"btn_photoview\" data-tiara-custom=\"contentUniqueKey=hamny-20210917110457774\" data-tiara-id=\"20210917110457774\" data-tiara-ordnum=\"3\" data-tiara-type=\"harmony\" href=\"https://gallery.v.daum.net/p/viewer/5014013/kI6cGQYUYf\">\n",
       "<span class=\"ico_news\">포토갤러리</span>\n",
       "</a>\n",
       "<span class=\"info_thumb\">\n",
       "<a class=\"link_txt\" data-tiara-custom=\"contentUniqueKey=gallery=5014013\" data-tiara-id=\"5014013\" data-tiara-ordnum=\"3\" data-tiara-type=\"gallery\" href=\"https://gallery.v.daum.net/p/viewer/5014013/\">'코로나19' 바이러스</a>\n",
       "</span>\n",
       "</li>\n",
       "<li data-tiara-layer=\"article\">\n",
       "<a class=\"link_cont\" data-tiara-custom=\"contentUniqueKey=hamny-20210917110454772\" data-tiara-id=\"20210917110454772\" data-tiara-ordnum=\"4\" data-tiara-type=\"harmony\" href=\"https://gallery.v.daum.net/p/viewer/5024184/kAiq1TAqdF\">\n",
       "<span class=\"wrap_thumb\">\n",
       "<img alt=\"\" class=\"thumb_g\" height=\"142\" src=\"https://img1.daumcdn.net/thumb/S254x142ht.u/?fname=https%3A%2F%2Ft1.daumcdn.net%2Fnews%2F202109%2F17%2FTHEFACT%2F20210917110455763thnw.jpg&amp;scode=media\" width=\"254\"/>\n",
       "</span>\n",
       "<strong class=\"tit_thumb\">'취임 100일' 이준석, 대선 승리에 '인천상륙작전' 필요 </strong>\n",
       "</a>\n",
       "<a class=\"btn_photoview\" data-tiara-custom=\"contentUniqueKey=hamny-20210917110454772\" data-tiara-id=\"20210917110454772\" data-tiara-ordnum=\"4\" data-tiara-type=\"harmony\" href=\"https://gallery.v.daum.net/p/viewer/5024184/kAiq1TAqdF\">\n",
       "<span class=\"ico_news\">포토갤러리</span>\n",
       "</a>\n",
       "<span class=\"info_thumb\">\n",
       "<a class=\"link_txt\" data-tiara-custom=\"contentUniqueKey=gallery=5024184\" data-tiara-id=\"5024184\" data-tiara-ordnum=\"4\" data-tiara-type=\"gallery\" href=\"https://gallery.v.daum.net/p/viewer/5024184/\">TF사진관</a>\n",
       "</span>\n",
       "</li>\n",
       "</ul>\n",
       "</div>\n",
       "</div>\n",
       "<hr class=\"divider_box\"/>\n",
       "<div class=\"box_peruse\">\n",
       "<div class=\"pop_news pop_cmt\" data-tiara-layer=\"DRI\">\n",
       "<h3 class=\"tit_news\">열독률 높은 뉴스</h3>\n",
       "<ol class=\"list_popcmt\">\n",
       "<li>\n",
       "<a class=\"link_txt\" data-tiara-custom=\"contentUniqueKey=hamny-20210917053601525\" data-tiara-id=\"20210917053601525\" data-tiara-layer=\"article\" data-tiara-ordnum=\"1\" data-tiara-type=\"harmony\" href=\"https://v.daum.net/v/20210917053601525\">\n",
       "<span class=\"num_news num1\">1 위</span>\n",
       "                        \"수소차 왜 사, 미쳤다\" 들었지만..넥쏘 '13만km' 달린 그가 꼽은 최장점은\n",
       "                    </a>\n",
       "<span class=\"info_news\">머니투데이</span>\n",
       "</li>\n",
       "<li>\n",
       "<a class=\"link_txt\" data-tiara-custom=\"contentUniqueKey=hamny-20210917052809438\" data-tiara-id=\"20210917052809438\" data-tiara-layer=\"article\" data-tiara-ordnum=\"2\" data-tiara-type=\"harmony\" href=\"https://v.daum.net/v/20210917052809438\">\n",
       "<span class=\"num_news num2\">2 위</span>\n",
       "                        [제보는Y] \"가슴 통증 호소에 해열제만\"..산후조리원 산모 숨져\n",
       "                    </a>\n",
       "<span class=\"info_news\">YTN</span>\n",
       "</li>\n",
       "<li>\n",
       "<a class=\"link_txt\" data-tiara-custom=\"contentUniqueKey=hamny-20210917000248938\" data-tiara-id=\"20210917000248938\" data-tiara-layer=\"article\" data-tiara-ordnum=\"3\" data-tiara-type=\"harmony\" href=\"https://v.daum.net/v/20210917000248938\">\n",
       "<span class=\"num_news num3\">3 위</span>\n",
       "                        15살에 IS가입,아이 셋 낳은 英 여성 \"멍청했던 내가 밉다\"\n",
       "                    </a>\n",
       "<span class=\"info_news\">국민일보</span>\n",
       "</li>\n",
       "<li>\n",
       "<a class=\"link_txt\" data-tiara-custom=\"contentUniqueKey=hamny-20210917051903323\" data-tiara-id=\"20210917051903323\" data-tiara-layer=\"article\" data-tiara-ordnum=\"4\" data-tiara-type=\"harmony\" href=\"https://v.daum.net/v/20210917051903323\">\n",
       "<span class=\"num_news num4\">4 위</span>\n",
       "                        靑에서 손준성 엄호?..'尹 유임 요청' 靑이 수용한 이유 알아보니\n",
       "                    </a>\n",
       "<span class=\"info_news\">뉴스1</span>\n",
       "</li>\n",
       "<li>\n",
       "<a class=\"link_txt\" data-tiara-custom=\"contentUniqueKey=hamny-20210917082635868\" data-tiara-id=\"20210917082635868\" data-tiara-layer=\"article\" data-tiara-ordnum=\"5\" data-tiara-type=\"harmony\" href=\"https://v.daum.net/v/20210917082635868\">\n",
       "<span class=\"num_news num5\">5 위</span>\n",
       "                        \"귀에서 삐 소리가\"..20대女 두명, 화이자 맞고 뇌출혈\n",
       "                    </a>\n",
       "<span class=\"info_news\">이데일리</span>\n",
       "</li>\n",
       "</ol>\n",
       "<a class=\"link_more\" data-tiara-layer=\"more\" href=\"/ranking/kkomkkom/\">전체보기</a>\n",
       "</div>\n",
       "</div>\n",
       "<div class=\"box_g box_popnews\">\n",
       "<div class=\"pop_news pop_cmt\" data-tiara-layer=\"BESTREPLY\">\n",
       "<h3 class=\"tit_news\">댓글 많은 뉴스</h3>\n",
       "<ol class=\"list_popcmt\">\n",
       "<li>\n",
       "<a class=\"link_txt\" data-tiara-custom=\"contentUniqueKey=hamny-20210917065701487\" data-tiara-id=\"20210917065701487\" data-tiara-layer=\"article\" data-tiara-ordnum=\"1\" data-tiara-type=\"harmony\" href=\"https://news.v.daum.net/v/20210917065701487\">\n",
       "<span class=\"num_news num1\">1 위</span>\n",
       "                        '접종률 70% 3년 걸린다'던 언론, 반성하고 있을까?\n",
       "                    </a>\n",
       "<span class=\"info_news\">오마이뉴스</span>\n",
       "</li>\n",
       "<li>\n",
       "<a class=\"link_txt\" data-tiara-custom=\"contentUniqueKey=hamny-20210916181847968\" data-tiara-id=\"20210916181847968\" data-tiara-layer=\"article\" data-tiara-ordnum=\"2\" data-tiara-type=\"harmony\" href=\"https://news.v.daum.net/v/20210916181847968\">\n",
       "<span class=\"num_news num2\">2 위</span>\n",
       "                        윤석열, \"조국만큼만 검증하라\"는 댓글에 \"몇 달 안했다\"\n",
       "                    </a>\n",
       "<span class=\"info_news\">이데일리</span>\n",
       "</li>\n",
       "<li>\n",
       "<a class=\"link_txt\" data-tiara-custom=\"contentUniqueKey=hamny-20210917071303745\" data-tiara-id=\"20210917071303745\" data-tiara-layer=\"article\" data-tiara-ordnum=\"3\" data-tiara-type=\"harmony\" href=\"https://news.v.daum.net/v/20210917071303745\">\n",
       "<span class=\"num_news num3\">3 위</span>\n",
       "                        \"조국수홍\" 뿔난 野지지자들..홍준표 \"尹, 조국 과잉수사\" 발언 비판\n",
       "                    </a>\n",
       "<span class=\"info_news\">쿠키뉴스</span>\n",
       "</li>\n",
       "<li>\n",
       "<a class=\"link_txt\" data-tiara-custom=\"contentUniqueKey=hamny-20210917043022708\" data-tiara-id=\"20210917043022708\" data-tiara-layer=\"article\" data-tiara-ordnum=\"4\" data-tiara-type=\"harmony\" href=\"https://news.v.daum.net/v/20210917043022708\">\n",
       "<span class=\"num_news num4\">4 위</span>\n",
       "                        갑자기 싸늘하게 돌변한 이웃..이슬람 혐오 시달리는 유학생들\n",
       "                    </a>\n",
       "<span class=\"info_news\">한국일보</span>\n",
       "</li>\n",
       "<li>\n",
       "<a class=\"link_txt\" data-tiara-custom=\"contentUniqueKey=hamny-20210916210706133\" data-tiara-id=\"20210916210706133\" data-tiara-layer=\"article\" data-tiara-ordnum=\"5\" data-tiara-type=\"harmony\" href=\"https://news.v.daum.net/v/20210916210706133\">\n",
       "<span class=\"num_news num5\">5 위</span>\n",
       "                        \"침대토론\" vs \"단점 안보여\"..베일 벗은 윤석열 토론실력 반응은\n",
       "                    </a>\n",
       "<span class=\"info_news\">머니투데이</span>\n",
       "</li>\n",
       "</ol>\n",
       "<a class=\"link_more\" data-tiara-layer=\"more\" href=\"/ranking/bestreply/\">전체보기</a>\n",
       "</div>\n",
       "<div class=\"pop_news pop_age\" data-tiara-layer=\"AGE\">\n",
       "<h3 class=\"tit_news\">연령별 인기뉴스</h3>\n",
       "<div class=\"agenews_list\" data-tiara-layer=\"popular_female\">\n",
       "<span class=\"txt_news ico_female\">여성 인기 뉴스 목록</span>\n",
       "<ul class=\"list_agenews list_female\">\n",
       "<li>\n",
       "<span class=\"txt_news ico_age20\">20대</span>\n",
       "<a class=\"link_txt\" data-tiara-custom=\"contentUniqueKey=hamny-20210916204413717\" data-tiara-id=\"20210916204413717\" data-tiara-layer=\"article\" data-tiara-ordnum=\"1\" data-tiara-type=\"harmony\" href=\"https://v.daum.net/v/20210916204413717\">\"전화 100통 돌려도 잔여백신 안 맞아\"..내일부터 2차 접종에 잔여백신 활용</a>\n",
       "</li>\n",
       "<li>\n",
       "<span class=\"txt_news ico_age30\">30대</span>\n",
       "<a class=\"link_txt\" data-tiara-custom=\"contentUniqueKey=hamny-20210917062002167\" data-tiara-id=\"20210917062002167\" data-tiara-layer=\"article\" data-tiara-ordnum=\"2\" data-tiara-type=\"harmony\" href=\"https://v.daum.net/v/20210917062002167\">[르포]\"무슬림만 주민이고 대구시민은 개XX인가\" 집집마다 걸린 모스크 반대 현수막</a>\n",
       "</li>\n",
       "<li>\n",
       "<span class=\"txt_news ico_age40\">40대</span>\n",
       "<a class=\"link_txt\" data-tiara-custom=\"contentUniqueKey=hamny-20210917052809438\" data-tiara-id=\"20210917052809438\" data-tiara-layer=\"article\" data-tiara-ordnum=\"3\" data-tiara-type=\"harmony\" href=\"https://v.daum.net/v/20210917052809438\">[제보는Y] \"가슴 통증 호소에 해열제만\"..산후조리원 산모 숨져</a>\n",
       "</li>\n",
       "<li>\n",
       "<span class=\"txt_news ico_age50\">50대</span>\n",
       "<a class=\"link_txt\" data-tiara-custom=\"contentUniqueKey=hamny-20210917060031864\" data-tiara-id=\"20210917060031864\" data-tiara-layer=\"article\" data-tiara-ordnum=\"4\" data-tiara-type=\"harmony\" href=\"https://v.daum.net/v/20210917060031864\">\"백신 맞았으니 올 추석엔 오거라\"..가겠다는 자녀는 24%</a>\n",
       "</li>\n",
       "</ul>\n",
       "</div>\n",
       "<div class=\"agenews_list\" data-tiara-layer=\"popular_male\">\n",
       "<span class=\"txt_news ico_male\">남성 인기 뉴스 목록</span>\n",
       "<ul class=\"list_agenews list_male\">\n",
       "<li>\n",
       "<a class=\"link_txt\" data-tiara-custom=\"contentUniqueKey=hamny-20210917044925833\" data-tiara-id=\"20210917044925833\" data-tiara-layer=\"article\" data-tiara-ordnum=\"1\" data-tiara-type=\"harmony\" href=\"https://v.daum.net/v/20210917044925833\">다리 11개로 섬과 섬 잇는 39km.. \"세계적 드라이브 코스로 뜰 것\"</a>\n",
       "</li>\n",
       "<li>\n",
       "<a class=\"link_txt\" data-tiara-custom=\"contentUniqueKey=hamny-20210917085213443\" data-tiara-id=\"20210917085213443\" data-tiara-layer=\"article\" data-tiara-ordnum=\"2\" data-tiara-type=\"harmony\" href=\"https://v.daum.net/v/20210917085213443\">\"캐스퍼, 저도 꼭 타겠습니다\" 이낙연, '양산 1호 캐스퍼' 시승 [TF사진관]</a>\n",
       "</li>\n",
       "<li>\n",
       "<a class=\"link_txt\" data-tiara-custom=\"contentUniqueKey=hamny-20210917065701488\" data-tiara-id=\"20210917065701488\" data-tiara-layer=\"article\" data-tiara-ordnum=\"3\" data-tiara-type=\"harmony\" href=\"https://v.daum.net/v/20210917065701488\">매물만 뜨면 '싹쓸이'..\"이게 무슨 일\" 집주인들도 놀랐다</a>\n",
       "</li>\n",
       "<li>\n",
       "<a class=\"link_txt\" data-tiara-custom=\"contentUniqueKey=hamny-20210917100845411\" data-tiara-id=\"20210917100845411\" data-tiara-layer=\"article\" data-tiara-ordnum=\"4\" data-tiara-type=\"harmony\" href=\"https://v.daum.net/v/20210917100845411\">이재명 \"화천대유 소유자? '1호사원' 곽상도 아들에게 물어보라\"</a>\n",
       "</li>\n",
       "</ul>\n",
       "</div>\n",
       "<a class=\"link_more\" data-tiara-layer=\"more\" href=\"/ranking/age/\">전체보기</a>\n",
       "</div>\n",
       "</div>\n",
       "</div>\n",
       "<div id=\"mAside\" role=\"complementary\">\n",
       "<div class=\"aside_g aside_ad\" style=\"height:250px\">\n",
       "<h3 class=\"screen_out\">광고</h3>\n",
       "<ins class=\"kakao_ad_area\" data-ad-frame-id=\"AMS_250exp\" data-ad-frame-name=\"AMS_250exp\" data-ad-height=\"250\" data-ad-param-channel=\"media\" data-ad-param-cp=\"pc_media_news\" data-ad-type=\"D\" data-ad-unit=\"05d22\" data-ad-width=\"250\" style=\"display:block\"></ins>\n",
       "</div>\n",
       "<div class=\"aside_g aside_today\" data-tiara-layer=\"RIGHT today\">\n",
       "<h3 class=\"tit_news\">TODAY</h3>\n",
       "<div class=\"cont_aside\">\n",
       "<ul class=\"list_economic\">\n",
       "<li class=\"item_down\">\n",
       "<strong class=\"tit_g\"><a class=\"link_txt\" href=\"http://search.daum.net/search?w=tot&amp;DA=23Q&amp;rtmaxcoll=HSU&amp;q=코스피\" target=\"_blank\">코스피</a></strong>\n",
       "<span class=\"num_index\"><a class=\"link_txt\" href=\"http://search.daum.net/search?w=tot&amp;DA=23Q&amp;rtmaxcoll=HSU&amp;q=코스피\" target=\"_blank\">3,128.77<span class=\"screen_out\">포인트</span></a></span>\n",
       "<span class=\"num_g num_status\">\n",
       "<a class=\"link_txt\" href=\"http://search.daum.net/search?w=tot&amp;DA=23Q&amp;rtmaxcoll=HSU&amp;q=코스피\" target=\"_blank\">\n",
       "<span class=\"ico_news2 ico_down\">\n",
       "                                1.32\n",
       "                        <span class=\"screen_out\">하락</span>\n",
       "</span>\n",
       "</a>\n",
       "</span>\n",
       "<span class=\"num_g num_percent\">\n",
       "<a class=\"link_txt\" href=\"http://search.daum.net/search?w=tot&amp;DA=23Q&amp;rtmaxcoll=HSU&amp;q=코스피\" target=\"_blank\">-0.04% <span class=\"screen_out\">하락</span></a>\n",
       "</span>\n",
       "</li>\n",
       "<li class=\"item_up\">\n",
       "<strong class=\"tit_g\"><a class=\"link_txt\" href=\"http://search.daum.net/search?w=tot&amp;DA=23Q&amp;rtmaxcoll=HSU&amp;q=코스닥\" target=\"_blank\">코스닥</a></strong>\n",
       "<span class=\"num_index\"><a class=\"link_txt\" href=\"http://search.daum.net/search?w=tot&amp;DA=23Q&amp;rtmaxcoll=HSU&amp;q=코스닥\" target=\"_blank\">1,040.07<span class=\"screen_out\">포인트</span></a></span>\n",
       "<span class=\"num_g num_status\">\n",
       "<a class=\"link_txt\" href=\"http://search.daum.net/search?w=tot&amp;DA=23Q&amp;rtmaxcoll=HSU&amp;q=코스닥\" target=\"_blank\">\n",
       "<span class=\"ico_news2 ico_up\">\n",
       "                                0.64\n",
       "                        <span class=\"screen_out\">상승</span>\n",
       "</span>\n",
       "</a>\n",
       "</span>\n",
       "<span class=\"num_g num_percent\">\n",
       "<a class=\"link_txt\" href=\"http://search.daum.net/search?w=tot&amp;DA=23Q&amp;rtmaxcoll=HSU&amp;q=코스닥\" target=\"_blank\">0.06% <span class=\"screen_out\">상승</span></a>\n",
       "</span>\n",
       "</li>\n",
       "<li class=\"item_down\">\n",
       "<strong class=\"tit_g\"><a class=\"link_txt\" href=\"http://search.daum.net/search?w=tot&amp;DA=23Q&amp;rtmaxcoll=HSU&amp;q=다우\" target=\"_blank\">다우</a></strong>\n",
       "<span class=\"num_index\"><a class=\"link_txt\" href=\"http://search.daum.net/search?w=tot&amp;DA=23Q&amp;rtmaxcoll=HSU&amp;q=다우\" target=\"_blank\">34,751.32<span class=\"screen_out\">포인트</span></a></span>\n",
       "<span class=\"num_g num_status\">\n",
       "<a class=\"link_txt\" href=\"http://search.daum.net/search?w=tot&amp;DA=23Q&amp;rtmaxcoll=HSU&amp;q=다우\" target=\"_blank\">\n",
       "<span class=\"ico_news2 ico_down\">\n",
       "                                63.07\n",
       "                        <span class=\"screen_out\">하락</span>\n",
       "</span>\n",
       "</a>\n",
       "</span>\n",
       "<span class=\"num_g num_percent\">\n",
       "<a class=\"link_txt\" href=\"http://search.daum.net/search?w=tot&amp;DA=23Q&amp;rtmaxcoll=HSU&amp;q=다우\" target=\"_blank\">-0.18% <span class=\"screen_out\">하락</span></a>\n",
       "</span>\n",
       "</li>\n",
       "</ul>\n",
       "<ul class=\"list_today\">\n",
       "<li><a class=\"link_today\" href=\"http://search.daum.net/search?w=tot&amp;DA=23Q&amp;rtmaxcoll=B3T&amp;q=tv+%ED%8E%B8%EC%84%B1%ED%91%9C\" target=\"_blank\"><span class=\"txt_news txt_tv\">TV 편성표</span></a></li>\n",
       "<li><a class=\"link_today\" href=\"https://sports.daum.net/video/\" target=\"_blank\"><span class=\"txt_news txt_cast\">영상센터</span></a></li>\n",
       "<li><a class=\"link_today\" href=\"http://search.daum.net/search?w=tot&amp;DA=23Q&amp;rtmaxcoll=UNS&amp;q=%EC%9A%B4%EC%84%B8\" target=\"_blank\"><span class=\"txt_news txt_fortune\">운세</span></a></li>\n",
       "</ul>\n",
       "</div>\n",
       "</div>\n",
       "<div class=\"aside_g aside_correction\" data-tiara-layer=\"RIGHT correct\">\n",
       "<h3 class=\"tit_news\">바로잡습니다</h3>\n",
       "<div class=\"cont_aside\">\n",
       "<ul class=\"list_txt\">\n",
       "<li>\n",
       "<em class=\"info_category\">조선일보</em><a class=\"link_txt\" href=\"https://news.v.daum.net/v/20210916043132072\">[바로잡습니다] 14일 자 일부 지역 51판 A12면 '군산·김제시, 새만금 동서도로 관할권 놓고 또 싸운다' 기사에서 외</a>\n",
       "</li>\n",
       "<li>\n",
       "<em class=\"info_category\">조선일보</em><a class=\"link_txt\" href=\"https://news.v.daum.net/v/20210910030448171\">[바로잡습니다] '탈레반이 美무기 100조원 획득' 본지 보도 사실과 달라</a>\n",
       "</li>\n",
       "<li>\n",
       "<em class=\"info_category\">조선일보</em><a class=\"link_txt\" href=\"https://news.v.daum.net/v/20210907034033542\">[바로잡습니다] 4일 자 A20면 '한줄읽기' 중 '그 노래는 왜 금지곡이 되었을까' 외</a>\n",
       "</li>\n",
       "<li>\n",
       "<em class=\"info_category\">조선일보</em><a class=\"link_txt\" href=\"https://news.v.daum.net/v/20210902040936479\">[바로잡습니다] 8월 28일자 A10면 '저녁은 2명이 윗동네서, 2차는 아랫동네서 8명, 코미디 같은 상황' 기사 중</a>\n",
       "</li>\n",
       "</ul>\n",
       "</div>\n",
       "<a class=\"link_more\" href=\"/info/correct\">더보기<span class=\"ico_news ico_arr\"></span></a>\n",
       "</div>\n",
       "<div class=\"aside_shopping\">\n",
       "<h3 class=\"screen_out\">광고</h3>\n",
       "<div class=\"cont_aside\">\n",
       "<div id=\"daum-sfocus-root\">\n",
       "<ins class=\"kakao_ad_area\" data-ad-frame-id=\"AMS_250exp\" data-ad-frame-name=\"AMS_250exp\" data-ad-height=\"250\" data-ad-param-channel=\"media\" data-ad-param-cp=\"pc_media_news\" data-ad-type=\"D\" data-ad-unit=\"DAN-WApyM79GH3N7yEg9\" data-ad-width=\"250\" style=\"display:block\"></ins>\n",
       "</div>\n",
       "</div>\n",
       "</div>\n",
       "</div>\n",
       "</div>\n",
       "</div>\n",
       "<hr class=\"hide\"/>\n",
       "<div class=\"footer_comm\" id=\"kakaoFoot\" role=\"contentinfo\">\n",
       "<div class=\"inner_foot #FOOTER\" data-tiara-layer=\"FOOTER\">\n",
       "<div class=\"direct_link #direct\" data-tiara-layer=\"direct\">\n",
       "<h2 class=\"tit_direct\">바로가기</h2>\n",
       "<div class=\"item_bundle\">\n",
       "<a class=\"link_txt #direct_newshome\" data-tiara-layer=\"direct_newshome\" href=\"/\">뉴스홈</a>\n",
       "<a class=\"link_txt #direct_society\" data-tiara-layer=\"direct_society\" href=\"/society\" style=\"display: none;\">사회</a>\n",
       "<a class=\"link_txt #direct_politics\" data-tiara-layer=\"direct_politics\" href=\"/politics\" style=\"display: none;\">정치</a>\n",
       "<a class=\"link_txt #direct_economic\" data-tiara-layer=\"direct_economic\" href=\"/economic\" style=\"display: none;\">경제</a>\n",
       "<a class=\"link_txt #direct_foreign\" data-tiara-layer=\"direct_foreign\" href=\"/foreign\" style=\"display: none;\">국제</a>\n",
       "<a class=\"link_txt #direct_culture\" data-tiara-layer=\"direct_culture\" href=\"/culture\" style=\"display: none;\">문화</a>\n",
       "<a class=\"link_txt #direct_digital\" data-tiara-layer=\"direct_digital\" href=\"/digital\" style=\"display: none;\">IT</a>\n",
       "<a class=\"link_txt #direct_photo\" data-tiara-layer=\"direct_photo\" href=\"/photo\" style=\"display: none;\">포토</a>\n",
       "<a class=\"link_txt #direct_tv\" data-tiara-layer=\"direct_tv\" href=\"/tv\" style=\"display: none;\">TV</a>\n",
       "</div>\n",
       "<div class=\"item_bundle\">\n",
       "<a class=\"link_txt #direct_media\" data-tiara-layer=\"direct_media\" href=\"/cp\">언론사별 뉴스</a>\n",
       "</div>\n",
       "<div class=\"item_bundle\">\n",
       "<a class=\"link_txt #direct_history\" data-tiara-layer=\"direct_history\" href=\"/newsbox\">배열이력</a>\n",
       "</div>\n",
       "<div class=\"item_bundle\">\n",
       "<a class=\"link_txt #direct_all\" data-tiara-layer=\"direct_all\" href=\"/breakingnews\">전체뉴스</a>\n",
       "<a class=\"link_txt #direct_rank\" data-tiara-layer=\"direct_rank\" href=\"/ranking/popular\" style=\"display: none;\">랭킹</a>\n",
       "<a class=\"link_txt #direct_series\" data-tiara-layer=\"direct_series\" href=\"/series\" style=\"display: none;\">연재</a>\n",
       "<a class=\"link_txt #direct_factcheck\" data-tiara-layer=\"direct_factcheck\" href=\"https://focus.daum.net/ch/news/factcheck\" style=\"display: none;\">팩트체크</a>\n",
       "</div>\n",
       "<button class=\"btn_fold\" style=\"outline: 0px;\" type=\"button\"><span class=\"ico_news\">바로가기 링크 더보기/접기</span></button>\n",
       "</div>\n",
       "<h2 class=\"screen_out\">서비스 이용정보</h2>\n",
       "<div class=\"footer_link\">\n",
       "<a class=\"link_info #info_daumnews\" data-tiara-layer=\"info_daumnews\" href=\"/info/intro\">다음뉴스 소개</a> <span class=\"txt_dot\"> ・ </span>\n",
       "<a class=\"link_info #notice\" data-tiara-layer=\"notice\" href=\"https://magazine.daum.net/daumnews_notice\">공지사항</a> <span class=\"txt_dot\"> ・ </span>\n",
       "<a class=\"link_info #bbsrule\" data-tiara-layer=\"bbsrule\" href=\"/info/bbsrule\">게시물 운영원칙</a> <span class=\"txt_dot\"> ・ </span>\n",
       "<a class=\"link_info #policy\" data-tiara-layer=\"policy\" href=\"http://policy.daum.net/info/info\">서비스 약관/정책</a> <span class=\"txt_dot\"> ・ </span>\n",
       "<a class=\"link_info #harmony\" data-tiara-layer=\"harmony\" href=\"https://with.kakao.com/media\">뉴스제휴</a> <span class=\"txt_dot\"> ・ </span>\n",
       "<a class=\"link_info #adinfo\" data-tiara-layer=\"adinfo\" href=\"https://business.kakao.com\">비즈니스</a> <span class=\"txt_dot\"> ・ </span>\n",
       "<a class=\"link_info #redbell\" data-tiara-layer=\"redbell\" href=\"https://cs.daum.net/redbell/top.html\">권리침해신고</a> <span class=\"txt_dot\"> ・ </span>\n",
       "<a class=\"link_info #consumer\" data-tiara-layer=\"consumer\" href=\"http://cs.daum.net/faq/63.html\">다음뉴스 고객센터</a>\n",
       "</div>\n",
       "<div class=\"footer_link\">\n",
       "<a class=\"link_info #newscenter\" data-tiara-layer=\"newscenter\" href=\"/info/newscenter24\">24시간 뉴스센터</a> <span class=\"txt_dot\"> ・ </span>\n",
       "<a class=\"link_info #edit\" data-tiara-layer=\"edit\" href=\"/info/edit\">서비스원칙</a> <span class=\"txt_dot\"> ・ </span>\n",
       "<a class=\"link_info #correct\" data-tiara-layer=\"correct\" href=\"/info/correct\">바로잡습니다</a> <span class=\"txt_dot\"> ・ </span>\n",
       "<span class=\"link_info\">기사배열책임자 : 김희정</span> <span class=\"txt_dot\"> ・ </span>\n",
       "<span class=\"link_info\">청소년보호책임자 : 정현주</span>\n",
       "</div>\n",
       "<div class=\"info_copyright\">\n",
       "<strong class=\"info_warn\">뉴스 기사에 대한 저작권 및 법적 책임은 자료제공사 또는 <br/>글쓴이에 있으며, Kakao의 입장과 다를 수 있습니다.</strong>\n",
       "<small class=\"txt_copyright\">Copyright © <strong class=\"txt_kakao\"><a class=\"link_kakao\" href=\"http://www.kakaocorp.com/\">Kakao Corp.</a></strong> All rights reserved.</small>\n",
       "</div>\n",
       "</div>\n",
       "</div>\n",
       "<script src=\"//t1.daumcdn.net/media/kraken/news/758b62f/footer.merged.js\"></script>\n",
       "<script async=\"\" src=\"//t1.daumcdn.net/kas/static/ba.min.js\" type=\"text/javascript\"></script>\n",
       "</div>\n",
       "</body>\n",
       "</html>"
      ]
     },
     "execution_count": 21,
     "metadata": {},
     "output_type": "execute_result"
    }
   ],
   "source": [
    "# 다음 뉴스 페이지 크롤링\n",
    "url2 = 'https://news.daum.net/'\n",
    "# response2 = requests.get(url2)\n",
    "html2 = BeautifulSoup(response2.text, 'html.parser')\n",
    "html2"
   ]
  },
  {
   "cell_type": "markdown",
   "metadata": {
    "id": "leESHsnF8kMy",
    "slideshow": {
     "slide_type": "slide"
    }
   },
   "source": [
    "### 실제 개발자가 작성한 코드로 확인된다\n",
    "> 정제되지 않은 데이터로 가독성이 좋지 않음  \n",
    "우리는 이 중에서 우리가 원하는 정보를 선별해서 가져오는 작업을 진행합니다.  \n",
    "그러기에 html의 기본 구성을 살펴보도록 하겠습니다.  "
   ]
  },
  {
   "cell_type": "markdown",
   "metadata": {
    "id": "ijN26CQi8oSa",
    "slideshow": {
     "slide_type": "slide"
    }
   },
   "source": [
    "#### 웹 페이지의 구성\n",
    "> **HTML(Hyper Text Markup Language)**  \n",
    "www 를 구성하는데 사용하는 국제표준 언어로서 컨텐츠와 레이아웃을 담고 있다\n",
    "\n",
    "> **<태그>** 내용 **</태그>**  \n",
    "<tag이름 class=\"class이름1 class이름2\" id=\"주민번호\" href=\"주소\"></tag이름>\n",
    "\n",
    "> 형태나 속성을 묘사하기 위한 구조적 언어 : HTML, CSS (계층이 있음)  \n",
    "웹의 작동 및 제어를 위한 프로그래밍 언어 :  Js"
   ]
  },
  {
   "cell_type": "markdown",
   "metadata": {
    "id": "7caqQS1q8xE9",
    "slideshow": {
     "slide_type": "slide"
    }
   },
   "source": [
    "#### 셀렉터\n",
    "> 용도 : html에서 내가 원하는 내용을 찾아내기 위해서  \n",
    "<span class=\"news\" id=\"1234\">비비고 왕교자</span>\n",
    "\n",
    ">> 단일 셀렉터  \n",
    "html.select('span')  \n",
    "tag : span  \n",
    "class(별명, 그룹명) : .news  \n",
    "\n",
    ">> 클래스 포함 셀렉터\n",
    "html.select('span.news')    # 위에 <span class=\"news\" id=\"1234\">비비고 왕교자</span> 사용\n",
    "\n",
    ">> id 포함 셀렉터 하나만 가져오고 싶을떄\n",
    "id(고유값) : #1234\n",
    "html.select('span#1234')"
   ]
  },
  {
   "cell_type": "markdown",
   "metadata": {
    "id": "U-JjMflT80sS",
    "slideshow": {
     "slide_type": "slide"
    }
   },
   "source": [
    "#### 복합 셀렉터\n",
    "    1. 조합 셀렉터\n",
    "    <span>1</span>\n",
    "    <span class=\"txt\">2</span>\n",
    "    <em class=\"txt\">3</em>\n",
    "    \n",
    "    태그 이름이 span이고 클래스 이름은 txt인 라인을 찾고 싶다. : span.txt \n",
    "    li 태그 중에서 id가 name 인 라인을 찾고\\ 싶다. : li#name\n",
    "\n",
    "    2. 경로 셀렉터\n",
    "    <ul>\n",
    "        <li><span>이걸 찾으려면?</span></li>\n",
    "    </ul>\n",
    "    <span>이건 아님</span>\n",
    "\n",
    "    ul 태그안 li 태그 안 span 라인을 찾는다\n",
    "    ul > li > span 혹은 ul li span"
   ]
  },
  {
   "cell_type": "code",
   "execution_count": 25,
   "metadata": {
    "ExecuteTime": {
     "end_time": "2021-09-17T02:42:39.242195Z",
     "start_time": "2021-09-17T02:42:39.208149Z"
    }
   },
   "outputs": [
    {
     "data": {
      "text/plain": [
       "'가덕도 신공항, 개발 착수..\"환경 고려\" 제주2공항 속도 조절'"
      ]
     },
     "execution_count": 25,
     "metadata": {},
     "output_type": "execute_result"
    }
   ],
   "source": [
    "# 크롬->보기->개발자도구 -> 왼쪽위 select 아이콘으로 원하는 창 클릭 -> html 클래스 확인\n",
    "html2.select('a.link_txt')  # a 안에 link_txt라는 class 정보를 다 가저옴 => 리스트 형식으로 들어가 있음\n",
    "html2.select('a.link_txt')[0]\n",
    "html2.select('a.link_txt')[0].text"
   ]
  },
  {
   "cell_type": "code",
   "execution_count": null,
   "metadata": {
    "ExecuteTime": {
     "end_time": "2021-09-17T04:23:30.630110Z",
     "start_time": "2021-09-17T04:23:30.587105Z"
    }
   },
   "outputs": [],
   "source": [
    "# 슬의생 드라마소개 크롤링\n",
    "# url5 = 'https://search.daum.net/search?w=tot&DA=UME&t__nil_searchbox=suggest&sug=&sugo=15&sq=tmfdm&o=2&q=%EC%8A%AC%EC%9D%98%EC%83%9D'\n",
    "# response5 = requests.get(url5)\n",
    "\n",
    "# html5 = BeautifulSoup(response5.text, 'html.parser')\n",
    "html5.select('dd.cont')[0].text\n",
    "    \n",
    "for con in html5.select('dd.cont'):\n",
    "    print(con.text)"
   ]
  },
  {
   "cell_type": "code",
   "execution_count": 119,
   "metadata": {
    "ExecuteTime": {
     "end_time": "2021-09-17T05:13:47.826189Z",
     "start_time": "2021-09-17T05:13:47.795728Z"
    }
   },
   "outputs": [
    {
     "name": "stdout",
     "output_type": "stream",
     "text": [
      " 문희경, '슬의생2'와 마지막 인사 \"내 아들 김대명 안녕\" [인스타] \n",
      " '슬의생2' 종영..정문성 \"도재학 아껴주셔서 감사\" \n",
      " [SC초점] 99즈 매력↑·반복구조..'슬의생2', '닫힌결말' 여정 종료 \n",
      " 퇴근시간 되자 귀가한 99즈, '슬의생' 시즌3 가능성 '반반'인 이유 \n"
     ]
    }
   ],
   "source": [
    "# url= 'https://search.daum.net/search?w=tot&DA=YZR&t__nil_searchbox=btn&sug=&sugo=&sq=&o=&q=%EC%8A%AC%EC%9D%98%EC%83%9D'\n",
    "# response = requests.get(url)\n",
    "# html = BeautifulSoup(response.text, 'html.parser')\n",
    "for fit in html.select('a.fn_tit_u')[1:]:\n",
    "    print(fit.text)"
   ]
  },
  {
   "cell_type": "code",
   "execution_count": 86,
   "metadata": {
    "ExecuteTime": {
     "end_time": "2021-09-17T04:34:22.853898Z",
     "start_time": "2021-09-17T04:34:22.850703Z"
    }
   },
   "outputs": [],
   "source": [
    "import time"
   ]
  },
  {
   "cell_type": "code",
   "execution_count": 89,
   "metadata": {
    "ExecuteTime": {
     "end_time": "2021-09-17T04:37:27.362657Z",
     "start_time": "2021-09-17T04:37:16.027788Z"
    }
   },
   "outputs": [
    {
     "name": "stdout",
     "output_type": "stream",
     "text": [
      "\n",
      "도깨비 크롤링 중입니다 \n",
      "\n",
      "불멸의 삶을 끝내기 위해 인간 신부가 필요한 도깨비, 그와 기묘한 동거를 시작한 기억상실증 저승사자. 그런 그들 앞에 '도깨비 신부'라 주장하는 '죽었어야 할 운명'의 소녀가 나타나며 벌어지는 신비로운 낭만 설화 \n",
      "\n",
      "호텔델루나 크롤링 중입니다 \n",
      "\n",
      "엘리트 호텔리어가 운명적인 사건으로 호텔 델루나의 지배인을 맡게 되면서 달처럼 고고하고 아름답지만 괴팍한 사장과 함께 델루나를 운영하며 생기는 특별한 이야기를 그린 드라마\n",
      "\n",
      "슬의생 크롤링 중입니다 \n",
      "\n",
      "누군가는 태어나고 누군가는 삶을 끝내는, 인생의 축소판이라 불리는 병원에서 평범한 듯 특별한 하루하루를 살아가는 사람들과 눈빛만 봐도 알 수 있는 20년지기 친구들의 케미스토리를 담은 드라마\n",
      "크롤링 종료\n"
     ]
    }
   ],
   "source": [
    "# url도 패턴을 찾으면 다양한 검색이 가능하다\n",
    "dr_nm = ['도깨비','호텔델루나','슬의생']\n",
    "\n",
    "# name = input(\"드라마 제목을 입력하세요 : \")\n",
    "for name in dr_nm:\n",
    "    # 순환은 빠름\n",
    "    print(f'\\n{name} 크롤링 중입니다 \\n')\n",
    "    url= f'https://search.daum.net/search?w=tot&DA=UME&t__nil_searchbox=suggest&sug=&sugo=15&sq=tmfdm&o=2&q={name}'\n",
    "    \n",
    "    # requests : 초당 40~50회 요청하게 됨 -> 기계가 요청하는것으로 판단해서 막힌다.\n",
    "    # 차단막는 코드\n",
    "    seed = np.random.randint(100) # seed 설정\n",
    "    np.random.seed(seed)    # 시드 생성\n",
    "    a = np.random.randint(5)  # 시드에서 난수 생성\n",
    "    time.sleep(a)     # 코드실행 지연시키는 코드\n",
    "    \n",
    "    response = requests.get(url)\n",
    "    \n",
    "    html = BeautifulSoup(response.text, 'html.parser')\n",
    "    print(html.select('dd.cont')[0].text)\n",
    "print('\\n크롤링 종료\\n')"
   ]
  },
  {
   "cell_type": "markdown",
   "metadata": {},
   "source": [
    "## 다음에서 로또번호 가져오기"
   ]
  },
  {
   "cell_type": "code",
   "execution_count": 34,
   "metadata": {
    "ExecuteTime": {
     "end_time": "2021-09-17T03:37:09.852595Z",
     "start_time": "2021-09-17T03:37:09.849809Z"
    }
   },
   "outputs": [],
   "source": [
    "# url 설정\n",
    "url4 = 'https://search.daum.net/search?w=tot&DA=YZR&t__nil_searchbox=btn&sug=&sugo=&sq=&o=&q=%EB%A1%9C%EB%98%90'"
   ]
  },
  {
   "cell_type": "code",
   "execution_count": 36,
   "metadata": {
    "ExecuteTime": {
     "end_time": "2021-09-17T03:37:17.556275Z",
     "start_time": "2021-09-17T03:37:17.551739Z"
    }
   },
   "outputs": [
    {
     "data": {
      "text/plain": [
       "<Response [200]>"
      ]
     },
     "execution_count": 36,
     "metadata": {},
     "output_type": "execute_result"
    }
   ],
   "source": [
    "# requests로 데이터 요청하기\n",
    "# response4 = requests.get(url4)"
   ]
  },
  {
   "cell_type": "code",
   "execution_count": 37,
   "metadata": {
    "ExecuteTime": {
     "end_time": "2021-09-17T03:37:22.151249Z",
     "start_time": "2021-09-17T03:37:21.904931Z"
    }
   },
   "outputs": [],
   "source": [
    "# html로 변환\n",
    "html4 = BeautifulSoup(response4.text, 'html.parser')"
   ]
  },
  {
   "cell_type": "code",
   "execution_count": 104,
   "metadata": {
    "ExecuteTime": {
     "end_time": "2021-09-17T04:58:43.599246Z",
     "start_time": "2021-09-17T04:58:43.560906Z"
    }
   },
   "outputs": [
    {
     "data": {
      "text/plain": [
       "' 3 13 16 23 24 35 보너스 14 '"
      ]
     },
     "execution_count": 104,
     "metadata": {},
     "output_type": "execute_result"
    }
   ],
   "source": [
    "# 데이터 선별\n",
    "html4.select('div.lottonum')[0].text"
   ]
  },
  {
   "cell_type": "markdown",
   "metadata": {},
   "source": [
    "## 다음에서 로또번호 가져와 볼께요 몽땅 다 가져옵니다"
   ]
  },
  {
   "cell_type": "code",
   "execution_count": 142,
   "metadata": {
    "ExecuteTime": {
     "end_time": "2021-09-17T06:03:17.334547Z",
     "start_time": "2021-09-17T06:02:50.530563Z"
    }
   },
   "outputs": [
    {
     "name": "stdout",
     "output_type": "stream",
     "text": [
      "1회차 크롤링 중입니다\n",
      "2회차 크롤링 중입니다\n",
      "3회차 크롤링 중입니다\n",
      "4회차 크롤링 중입니다\n",
      "5회차 크롤링 중입니다\n",
      "6회차 크롤링 중입니다\n",
      "7회차 크롤링 중입니다\n",
      "8회차 크롤링 중입니다\n",
      "9회차 크롤링 중입니다\n",
      "\n",
      "크롤링 종료\n"
     ]
    }
   ],
   "source": [
    "# 로또 좀 더 깔끔하게하려면 리스트에 넣어서 한번에 출력하는게 관리하기 좋아보인다\n",
    "\n",
    "trial = [i for i in range(1,10)]\n",
    "total_lotto=[]\n",
    "for trial_count in trial:\n",
    "    print(f'{trial_count}회차 크롤링 중입니다')\n",
    "    url=f'https://search.daum.net/search?w=tot&DA=LOT&rtmaxcoll=LOT&&q={trial_count}%ED%9A%8C%EC%B0%A8%20%EB%A1%9C%EB%98%90'\n",
    "\n",
    "    seed = np.random.randint(100) # seed 설정\n",
    "    np.random.seed(seed)    # 시드 생성\n",
    "    a = np.random.randint(5)  # 시드에서 난수 생성\n",
    "    time.sleep(a)     # 코드실행 지연시키는 코드\n",
    "    \n",
    "    response = requests.get(url)\n",
    "    \n",
    "    html = BeautifulSoup(response.text, 'html.parser')\n",
    "    total_lotto.append(html.select('div.lottonum')[0].text)\n",
    "print('\\n크롤링 종료')"
   ]
  },
  {
   "cell_type": "code",
   "execution_count": 2,
   "metadata": {
    "ExecuteTime": {
     "end_time": "2021-09-26T23:58:54.071164Z",
     "start_time": "2021-09-26T23:58:52.117471Z"
    }
   },
   "outputs": [],
   "source": [
    "import numpy as np\n",
    "import pandas as pd\n",
    "import seaborn as sns\n",
    "import matplotlib.pyplot as plt"
   ]
  },
  {
   "cell_type": "code",
   "execution_count": 197,
   "metadata": {
    "ExecuteTime": {
     "end_time": "2021-09-17T07:32:41.786849Z",
     "start_time": "2021-09-17T07:32:41.609737Z"
    }
   },
   "outputs": [
    {
     "name": "stderr",
     "output_type": "stream",
     "text": [
      "/Users/ppangppang/opt/anaconda3/envs/ppangppang/lib/python3.9/site-packages/seaborn/_decorators.py:36: FutureWarning: Pass the following variable as a keyword arg: x. From version 0.12, the only valid positional argument will be `data`, and passing other arguments without an explicit keyword will result in an error or misinterpretation.\n",
      "  warnings.warn(\n"
     ]
    },
    {
     "data": {
      "image/png": "[encoded data removed]",
      "text/plain": [
       "<Figure size 432x288 with 1 Axes>"
      ]
     },
     "metadata": {
      "needs_background": "light"
     },
     "output_type": "display_data"
    }
   ],
   "source": [
    "# 좀 다듬어보자\n",
    "\n",
    "total_lotto\n",
    "lotto_array = np.array(total_lotto)\n",
    "new=[]\n",
    "for i in lotto_array:\n",
    "    new.append(i.split(' '))\n",
    "new\n",
    "a=[]\n",
    "for i in new:\n",
    "    a.append(i[1:7])\n",
    "a=np.array(a)\n",
    "a.reshape(-1,)\n",
    "\n",
    "sns.countplot(a.reshape(-1,))\n",
    "plt.show()"
   ]
  },
  {
   "cell_type": "code",
   "execution_count": 121,
   "metadata": {
    "ExecuteTime": {
     "end_time": "2021-09-17T05:28:01.855744Z",
     "start_time": "2021-09-17T05:28:01.850920Z"
    }
   },
   "outputs": [
    {
     "data": {
      "text/plain": [
       "200"
      ]
     },
     "execution_count": 121,
     "metadata": {},
     "output_type": "execute_result"
    }
   ],
   "source": [
    "requests.codes.ok\n",
    "# 100 우리 이런정보 내주는거야\n",
    "# 200 성공\n",
    "# 300 우리 이 사이트 이리루 이사했어 일루가\n",
    "# 400 유저가 요청을 잘못한경우\n",
    "# 500 서버 문제"
   ]
  },
  {
   "cell_type": "code",
   "execution_count": null,
   "metadata": {},
   "outputs": [],
   "source": [
    "# 차단막는 코드\n",
    "seed = np.random.randint(100)\n",
    "np.random.seed(seed)\n",
    "a = np.random.randint(5)"
   ]
  },
  {
   "cell_type": "code",
   "execution_count": null,
   "metadata": {},
   "outputs": [],
   "source": [
    "<a href=\"https://cafe.naver.com/getampethskin/651937\" class=\"api_txt_lines total_tit _cross_trigger\" data-cr-gdid=\"90000004_01112BC60009F2A100000000\" target=\"_blank\" onclick=\"return goOtherCR(this, 'a=rvw*t.link&amp;r=1&amp;i=90000004_01112BC60009F2A100000000&amp;u='+urlencode(this.href))\"><mark>코로나</mark> 걸리는게 전 더 무서워요</a>"
   ]
  },
  {
   "cell_type": "markdown",
   "metadata": {
    "id": "L--NnRPK9LAN",
    "slideshow": {
     "slide_type": "slide"
    }
   },
   "source": [
    "## **네이버 키워드로 검색한 결과를 크롤링**"
   ]
  },
  {
   "cell_type": "code",
   "execution_count": 3,
   "metadata": {
    "ExecuteTime": {
     "end_time": "2021-09-27T00:01:20.554262Z",
     "start_time": "2021-09-27T00:01:17.202805Z"
    }
   },
   "outputs": [
    {
     "name": "stdout",
     "output_type": "stream",
     "text": [
      "키워드를 입력하세요 : 코로나\n",
      "접속성공\n",
      "\n",
      "학생이 코로나19에 감염됐다는 이유로 학교에 돈을 물어야 한다면, 과연 인권 침해일까? 국가인권위원회의 대답은 '그렇다'입니다. SBS 취재에 따르면, 국가인권위원회(인권위)는 서강대학교가 코로나19 확진된... https://news.sbs.co.kr/news/endPage.do?news_id=N1006475718&plink=ORI&cooper=NAVER\n",
      "자정까지 2600여명 예상 26일 0시부터 오후 9시까지 국내에서 2339명이 신종 코로나 바이러스 감염증(코로나19)에 신규 확진된 것으로 집계됐다. 평일에 하루 3000명대를 기록한 데 이어, 평일보다 검사건수가... https://biz.chosun.com/topics/topics_social/2021/09/26/4PNOV4YESJHDDF5S52TE42BUOU/?utm_source=naver&utm_medium=original&utm_campaign=biz\n",
      "김부겸 국무총리가 신종 코로나바이러스 감염증(코로나19) 백신 2차 접종 완료자를 대상으로 한 추가 접종, 이른바 ‘부스터샷’ 접종을 곧 시작한다고 26일 밝혔다. 김 총리는 정부서울청사에서 코로나19... https://hankookilbo.com/News/Read/A2021092615040005600?did=NA\n",
      "추석 연휴 여파로 코로나19 확산세가 꺽이지 않고 있다. 26일 방역당국과 각 지방자치단체에 따르면 이날 0시부터 오후 6시까지 전국에서 코로나19 확진 판정을 받은 신규 확진자는 1680명으로 집계됐다. 전날... https://www.khan.co.kr/national/national-general/article/202109261847001\n",
      "토착감기로 변한 코로나 상식. 알고갑시다! https://cafe.naver.com/perfectsv/541754\n",
      "코로나19 백신 화이자 최종 후기 1편 -부작용으로 입원 https://blog.naver.com/ch90486/222514913228\n",
      "나날이 오르는 확진자 속 코로나 치과치료받아도 괜찮을까요? https://blog.naver.com/dreamsjj/222473545353\n",
      "파킨슨병 환자와 코로나(COVID-19) 감염 후유증, motality https://blog.naver.com/xkjbaeakds/222513514304\n",
      "코로나 19 감염 후 뇌 인지 기능 저하 - IQ가 최대 7점 만큼 감소한다 https://blog.naver.com/jjy0501/222446133283\n",
      "코로나 백신 예방접종 [아스트라제네카, 화이자, 모더나, 얀센] 부작용, 위드 코로나 https://blog.naver.com/hackiss/222498283877\n",
      "코로나19 감염 사례 - 고등학생 딸이 먼저 걸렸더니... https://blog.naver.com/iiai/222516565776\n",
      "코로나 예방접종만큼 중요한 면역력 높이는 방법 https://blog.naver.com/cclkr/222442488319\n",
      "코로나 보너스.. https://cafe.naver.com/rksghwhantk/843870\n"
     ]
    }
   ],
   "source": [
    "search = input(\"키워드를 입력하세요 : \")\n",
    "# search='코로나'\n",
    "url=f'https://search.naver.com/search.naver?where=nexearch&sm=top_hty&fbm=1&ie=utf8&query={search}'\n",
    "\n",
    "response = requests.get(url)\n",
    "if(response.status_code == requests.codes.ok):\n",
    "    print('접속성공\\n')\n",
    "    html = BeautifulSoup(response.text, 'html.parser')\n",
    "\n",
    "else:\n",
    "    print('크롤링 실패')\n",
    "\n",
    "for name in html.select('a.api_txt_lines'):\n",
    "    print(name.text, name.attrs['href'])  # name.attrs['href']로 새로운 링크를 가져옴\n",
    "    \n",
    "    temp_url = name.attrs['href']    # 이런식으로 추가 작업이 가능함 (이후, requrest를 다시)"
   ]
  },
  {
   "cell_type": "markdown",
   "metadata": {
    "id": "P_ssRYoV88a7",
    "slideshow": {
     "slide_type": "slide"
    }
   },
   "source": [
    "    가져온 데이터에 접근을 하는 방식 자체는 판다스 색인처럼 결과값을 확인하며 진행하는 것이 가장 좋습니다."
   ]
  },
  {
   "cell_type": "markdown",
   "metadata": {},
   "source": [
    "## 복습"
   ]
  },
  {
   "cell_type": "code",
   "execution_count": null,
   "metadata": {},
   "outputs": [],
   "source": [
    "# url= f'https://search.daum.net/search?w=tot&DA=UME&t__nil_searchbox=suggest&sug=&sugo=15&sq=tmfdm&o=2&q={name}'\n",
    "# # requests : 초당 40~50회 요청하게 됨 -> 기계가 요청하는것으로 판단해서 막힌다.\n",
    "# # 차단막는 코드\n",
    "# seed = np.random.randint(100) # seed 설정\n",
    "# np.random.seed(seed)    # 시드 생성\n",
    "# a = np.random.randint(5)  # 시드에서 난수 생성\n",
    "# time.sleep(a)     # 코드실행 지연시키는 코드\n",
    "# response = requests.get(url)\n",
    "# html = BeautifulSoup(response.text, 'html.parser')\n",
    "# total_lotto.append(html.select('주소')[0].text)"
   ]
  },
  {
   "cell_type": "code",
   "execution_count": 116,
   "metadata": {
    "ExecuteTime": {
     "end_time": "2021-09-27T00:57:34.608836Z",
     "start_time": "2021-09-27T00:57:34.489006Z"
    }
   },
   "outputs": [
    {
     "name": "stdout",
     "output_type": "stream",
     "text": [
      "시가총액 :  7,407 억원\n",
      "외국인 소진률 :  5.64%\n",
      "per: 26.03, pbr: 2.80\n"
     ]
    }
   ],
   "source": [
    "# 관심 개별종목의 시가총액, 외국인 소진률, PER, PBR\n",
    "url = 'https://finance.naver.com/item/main.nhn?code=097520'\n",
    "\n",
    "# requests 요청\n",
    "# response = requests.get(url)\n",
    "\n",
    "# html 변환\n",
    "html = BeautifulSoup(response.text, 'html.parser')\n",
    "\n",
    "total_price=html.select('em#_market_sum')[0].text\n",
    "# foreigner=html.select('tr.strong')[1].text\n",
    "# foreigner = foreigner.split('\\n')[-2]\n",
    "foreigner=html.select('div.gray em')[2].text    # 이렇게 띄어쓰기로도 볼 수 있다\n",
    "per = html.select('em#_per')[0].text\n",
    "pbr = html.select('em#_pbr')[0].text\n",
    "\n",
    "print('시가총액 : ',total_price.strip(), '억원')\n",
    "print('외국인 소진률 : ',foreigner)\n",
    "print(f'per: {per}, pbr: {pbr}')"
   ]
  },
  {
   "cell_type": "code",
   "execution_count": 117,
   "metadata": {
    "ExecuteTime": {
     "end_time": "2021-09-27T00:59:29.852860Z",
     "start_time": "2021-09-27T00:59:26.975482Z"
    }
   },
   "outputs": [
    {
     "name": "stdout",
     "output_type": "stream",
     "text": [
      "크롤링 종료\n"
     ]
    }
   ],
   "source": [
    "# 관심 개별종목의 시가총액, 외국인 소진률, PER, PBR\n",
    "stock_list = ['005930', '002020', '323410']\n",
    "total_data=[]\n",
    "\n",
    "for code in stock_list:\n",
    "    time.sleep(np.random.randint(5))\n",
    "    url = f'https://finance.naver.com/item/main.nhn?code={code}'\n",
    "    \n",
    "    # requests 요청\n",
    "    response = requests.get(url)\n",
    "    \n",
    "    # html 변환\n",
    "    html = BeautifulSoup(response.text, 'html.parser')\n",
    "    stock_data=[]\n",
    "    stock_data.append(html.select('em#_market_sum')[0].text.strip().replace('\\n', '').replace('\\t', ''))\n",
    "    stock_data.append(html.select('div.gray em')[2].text)\n",
    "    stock_data.append(html.select('em#_per')[0].text)\n",
    "    stock_data.append(html.select('em#_pbr')[0].text)\n",
    "    total_data.append(stock_data)\n",
    "    \n",
    "print('크롤링 종료')"
   ]
  },
  {
   "cell_type": "code",
   "execution_count": 123,
   "metadata": {
    "ExecuteTime": {
     "end_time": "2021-09-27T01:13:11.483485Z",
     "start_time": "2021-09-27T01:13:11.467527Z"
    }
   },
   "outputs": [
    {
     "data": {
      "text/html": [
       "<div>\n",
       "<style scoped>\n",
       "    .dataframe tbody tr th:only-of-type {\n",
       "        vertical-align: middle;\n",
       "    }\n",
       "\n",
       "    .dataframe tbody tr th {\n",
       "        vertical-align: top;\n",
       "    }\n",
       "\n",
       "    .dataframe thead th {\n",
       "        text-align: right;\n",
       "    }\n",
       "</style>\n",
       "<table border=\"1\" class=\"dataframe\">\n",
       "  <thead>\n",
       "    <tr style=\"text-align: right;\">\n",
       "      <th></th>\n",
       "      <th>시가총액(억)</th>\n",
       "      <th>외국인소진률</th>\n",
       "      <th>PER</th>\n",
       "      <th>PBR</th>\n",
       "    </tr>\n",
       "  </thead>\n",
       "  <tbody>\n",
       "    <tr>\n",
       "      <th>삼성전자</th>\n",
       "      <td>462조6,581</td>\n",
       "      <td>51.98%</td>\n",
       "      <td>16.32</td>\n",
       "      <td>1.92</td>\n",
       "    </tr>\n",
       "    <tr>\n",
       "      <th>코오롱</th>\n",
       "      <td>5,152</td>\n",
       "      <td>11.36%</td>\n",
       "      <td>3.64</td>\n",
       "      <td>0.67</td>\n",
       "    </tr>\n",
       "    <tr>\n",
       "      <th>카카오뱅크</th>\n",
       "      <td>32조3,068</td>\n",
       "      <td>5.45%</td>\n",
       "      <td>220.06</td>\n",
       "      <td>9.58</td>\n",
       "    </tr>\n",
       "  </tbody>\n",
       "</table>\n",
       "</div>"
      ],
      "text/plain": [
       "         시가총액(억)  외국인소진률     PER   PBR\n",
       "삼성전자   462조6,581  51.98%   16.32  1.92\n",
       "코오롱        5,152  11.36%    3.64  0.67\n",
       "카카오뱅크   32조3,068   5.45%  220.06  9.58"
      ]
     },
     "execution_count": 123,
     "metadata": {},
     "output_type": "execute_result"
    }
   ],
   "source": [
    "df= pd.DataFrame(total_data, \n",
    "                 index=['삼성전자','코오롱','카카오뱅크'],\n",
    "                 columns=['시가총액(억)','외국인소진률','PER','PBR'])\n",
    "df"
   ]
  },
  {
   "cell_type": "markdown",
   "metadata": {
    "id": "XYhXePUPB7FF",
    "slideshow": {
     "slide_type": "slide"
    }
   },
   "source": [
    "## **동적페이지 크롤링**\n",
    "> 최근에는 Js로 변경이 되며 일반적인 크롤링이 되지 않는 경우가 많음  \n",
    "동적페이지와 숨겨진 url을 가져오는 방법을 알아봅니다\n",
    "\n",
    "> 페이지를 넘기면서 해야하는 크롤링\n",
    "개발자도구 -> Network탭 확인"
   ]
  },
  {
   "cell_type": "markdown",
   "metadata": {},
   "source": [
    "### 네이버 주식 시세 데이터 크롤링"
   ]
  },
  {
   "cell_type": "code",
   "execution_count": null,
   "metadata": {
    "ExecuteTime": {
     "end_time": "2021-09-27T01:26:27.040393Z",
     "start_time": "2021-09-27T01:26:26.980170Z"
    }
   },
   "outputs": [],
   "source": [
    "# 동적페이지의 숨은 URL\n",
    "# url = 'https://finance.naver.com/item/sise_day.naver?code=002020&page=1'\n",
    "# response = requests.get(url)\n",
    "# print(response)\n",
    "# response.text  # 방문주소가 잘못되었다고 출력된다"
   ]
  },
  {
   "cell_type": "markdown",
   "metadata": {},
   "source": [
    "- 동적크롤링을 위해서 'referer', 'user-agent'가 필요하다 => dict 형식으로 받아오기\n",
    "- 연결은 되지만, 정책상 필요한 정보를 입력하지 않으면, 외부접근을 막아버린다."
   ]
  },
  {
   "cell_type": "code",
   "execution_count": 133,
   "metadata": {
    "ExecuteTime": {
     "end_time": "2021-09-27T01:29:20.611030Z",
     "start_time": "2021-09-27T01:29:20.607365Z"
    }
   },
   "outputs": [],
   "source": [
    "url = 'https://finance.naver.com/item/sise_day.naver?code=002020&page=1'\n",
    "info = {\n",
    "        # 내가 어디서 접근하려는지 정보\n",
    "        'referer': 'https://finance.naver.com/item/sise_day.naver?code=002020&page=1',\n",
    "        # 내 인터넷 작업환경\n",
    "        'user-agent': 'Mozilla/5.0 (Macintosh; Intel Mac OS X 10_15_7) AppleWebKit/537.36 (KHTML, like Gecko) Chrome/94.0.4606.54 Safari/537.36'\n",
    "       }\n",
    "\n",
    "# requests\n",
    "response = requests.get(url, headers=info)\n",
    "\n",
    "# 데이터 가공\n",
    "html = BeautifulSoup(response.text,'html.parser')\n",
    "\n",
    "# 날짜 인덱스 살려서 활용\n",
    "index = [date.text for date in html.select('span.p10')]\n",
    "\n",
    "\n",
    "# 가격정보 추출\n",
    "price = np.array([date.text.replace('\\n','').replace('\\t','') for date in html.select('span.p11')]).reshape(-1,6)\n",
    "\n",
    "# columns 데이터 가져오기\n",
    "columns = [col_name.text for col_name in html.select('th')][1:]\n",
    "\n",
    "df = pd.DataFrame(price,\n",
    "                  index=index,\n",
    "                  columns=columns)\n",
    "df"
   ]
  },
  {
   "cell_type": "code",
   "execution_count": 196,
   "metadata": {
    "ExecuteTime": {
     "end_time": "2021-09-27T02:11:56.312476Z",
     "start_time": "2021-09-27T02:11:56.306823Z"
    }
   },
   "outputs": [],
   "source": [
    "# 콤마제거\n",
    "def remove_str(x):\n",
    "    return x.replace(',','')"
   ]
  },
  {
   "cell_type": "code",
   "execution_count": 197,
   "metadata": {
    "ExecuteTime": {
     "end_time": "2021-09-27T02:11:57.158063Z",
     "start_time": "2021-09-27T02:11:57.135646Z"
    },
    "scrolled": true
   },
   "outputs": [
    {
     "data": {
      "text/html": [
       "<div>\n",
       "<style scoped>\n",
       "    .dataframe tbody tr th:only-of-type {\n",
       "        vertical-align: middle;\n",
       "    }\n",
       "\n",
       "    .dataframe tbody tr th {\n",
       "        vertical-align: top;\n",
       "    }\n",
       "\n",
       "    .dataframe thead th {\n",
       "        text-align: right;\n",
       "    }\n",
       "</style>\n",
       "<table border=\"1\" class=\"dataframe\">\n",
       "  <thead>\n",
       "    <tr style=\"text-align: right;\">\n",
       "      <th></th>\n",
       "      <th>종가</th>\n",
       "      <th>전일비</th>\n",
       "      <th>시가</th>\n",
       "      <th>고가</th>\n",
       "      <th>저가</th>\n",
       "      <th>거래량</th>\n",
       "    </tr>\n",
       "  </thead>\n",
       "  <tbody>\n",
       "    <tr>\n",
       "      <th>2021.09.27</th>\n",
       "      <td>40850</td>\n",
       "      <td>550</td>\n",
       "      <td>40,250</td>\n",
       "      <td>41,450</td>\n",
       "      <td>40,100</td>\n",
       "      <td>67,093</td>\n",
       "    </tr>\n",
       "    <tr>\n",
       "      <th>2021.09.24</th>\n",
       "      <td>40300</td>\n",
       "      <td>1,650</td>\n",
       "      <td>42,500</td>\n",
       "      <td>42,750</td>\n",
       "      <td>40,100</td>\n",
       "      <td>316,511</td>\n",
       "    </tr>\n",
       "    <tr>\n",
       "      <th>2021.09.23</th>\n",
       "      <td>41950</td>\n",
       "      <td>2,050</td>\n",
       "      <td>42,700</td>\n",
       "      <td>43,800</td>\n",
       "      <td>41,700</td>\n",
       "      <td>335,625</td>\n",
       "    </tr>\n",
       "    <tr>\n",
       "      <th>2021.09.17</th>\n",
       "      <td>44000</td>\n",
       "      <td>1,150</td>\n",
       "      <td>42,500</td>\n",
       "      <td>46,350</td>\n",
       "      <td>41,650</td>\n",
       "      <td>1,094,420</td>\n",
       "    </tr>\n",
       "    <tr>\n",
       "      <th>2021.09.16</th>\n",
       "      <td>42850</td>\n",
       "      <td>3,000</td>\n",
       "      <td>40,200</td>\n",
       "      <td>42,850</td>\n",
       "      <td>39,400</td>\n",
       "      <td>514,556</td>\n",
       "    </tr>\n",
       "    <tr>\n",
       "      <th>2021.09.15</th>\n",
       "      <td>39850</td>\n",
       "      <td>1,450</td>\n",
       "      <td>41,250</td>\n",
       "      <td>42,550</td>\n",
       "      <td>39,350</td>\n",
       "      <td>491,878</td>\n",
       "    </tr>\n",
       "    <tr>\n",
       "      <th>2021.09.14</th>\n",
       "      <td>41300</td>\n",
       "      <td>200</td>\n",
       "      <td>41,100</td>\n",
       "      <td>42,250</td>\n",
       "      <td>40,200</td>\n",
       "      <td>546,760</td>\n",
       "    </tr>\n",
       "    <tr>\n",
       "      <th>2021.09.13</th>\n",
       "      <td>41500</td>\n",
       "      <td>3,750</td>\n",
       "      <td>44,850</td>\n",
       "      <td>45,800</td>\n",
       "      <td>41,200</td>\n",
       "      <td>1,164,685</td>\n",
       "    </tr>\n",
       "    <tr>\n",
       "      <th>2021.09.10</th>\n",
       "      <td>45250</td>\n",
       "      <td>9,350</td>\n",
       "      <td>36,050</td>\n",
       "      <td>46,650</td>\n",
       "      <td>36,050</td>\n",
       "      <td>3,800,508</td>\n",
       "    </tr>\n",
       "    <tr>\n",
       "      <th>2021.09.09</th>\n",
       "      <td>35900</td>\n",
       "      <td>1,700</td>\n",
       "      <td>34,700</td>\n",
       "      <td>36,600</td>\n",
       "      <td>34,550</td>\n",
       "      <td>511,021</td>\n",
       "    </tr>\n",
       "  </tbody>\n",
       "</table>\n",
       "</div>"
      ],
      "text/plain": [
       "               종가    전일비      시가      고가      저가        거래량\n",
       "2021.09.27  40850    550  40,250  41,450  40,100     67,093\n",
       "2021.09.24  40300  1,650  42,500  42,750  40,100    316,511\n",
       "2021.09.23  41950  2,050  42,700  43,800  41,700    335,625\n",
       "2021.09.17  44000  1,150  42,500  46,350  41,650  1,094,420\n",
       "2021.09.16  42850  3,000  40,200  42,850  39,400    514,556\n",
       "2021.09.15  39850  1,450  41,250  42,550  39,350    491,878\n",
       "2021.09.14  41300    200  41,100  42,250  40,200    546,760\n",
       "2021.09.13  41500  3,750  44,850  45,800  41,200  1,164,685\n",
       "2021.09.10  45250  9,350  36,050  46,650  36,050  3,800,508\n",
       "2021.09.09  35900  1,700  34,700  36,600  34,550    511,021"
      ]
     },
     "execution_count": 197,
     "metadata": {},
     "output_type": "execute_result"
    }
   ],
   "source": [
    "df['종가'] = df['종가'].apply(remove_str).astype(int)\n",
    "df"
   ]
  },
  {
   "cell_type": "code",
   "execution_count": 202,
   "metadata": {
    "ExecuteTime": {
     "end_time": "2021-09-27T02:13:12.581264Z",
     "start_time": "2021-09-27T02:13:12.479412Z"
    }
   },
   "outputs": [
    {
     "data": {
      "text/plain": [
       "<AxesSubplot:>"
      ]
     },
     "execution_count": 202,
     "metadata": {},
     "output_type": "execute_result"
    },
    {
     "data": {
      "image/png": "[encoded data removed]",
      "text/plain": [
       "<Figure size 432x288 with 1 Axes>"
      ]
     },
     "metadata": {
      "needs_background": "light"
     },
     "output_type": "display_data"
    }
   ],
   "source": [
    "df['종가'].sort_index().plot()"
   ]
  },
  {
   "cell_type": "markdown",
   "metadata": {},
   "source": [
    "### 20페이지 주가 정보 크롤링해서 종가 그래프 출력"
   ]
  },
  {
   "cell_type": "code",
   "execution_count": 216,
   "metadata": {
    "ExecuteTime": {
     "end_time": "2021-09-27T02:28:01.619337Z",
     "start_time": "2021-09-27T02:27:08.844680Z"
    }
   },
   "outputs": [],
   "source": [
    "total=pd.DataFrame()\n",
    "\n",
    "for num in range(1,21):\n",
    "    url = f'https://finance.naver.com/item/sise_day.naver?code=002020&page={num}'\n",
    "    info = {\n",
    "            # 내가 어디서 접근하려는지 정보\n",
    "            'referer': 'https://finance.naver.com/item/sise_day.naver?code=002020&page=1',\n",
    "            # 내 인터넷 작업환경\n",
    "            'user-agent': 'Mozilla/5.0 (Macintosh; Intel Mac OS X 10_15_7) AppleWebKit/537.36 (KHTML, like Gecko) Chrome/94.0.4606.54 Safari/537.36'\n",
    "           }\n",
    "\n",
    "    \n",
    "    seed = np.random.randint(100) # seed 설정\n",
    "    np.random.seed(seed)    # 시드 생성\n",
    "    a = np.random.randint(5)  # 시드에서 난수 생성\n",
    "    time.sleep(a)     # 코드실행 지연시키는 코드\n",
    "    \n",
    "    # requests\n",
    "    response = requests.get(url, headers=info)\n",
    "\n",
    "    # 데이터 가공\n",
    "    html = BeautifulSoup(response.text,'html.parser')\n",
    "\n",
    "    # 날짜 인덱스 살려서 활용\n",
    "    index = [date.text for date in html.select('span.p10')]\n",
    "\n",
    "    # 가격정보 추출\n",
    "    price = np.array([date.text.replace('\\n','').replace('\\t','') for date in html.select('span.p11')]).reshape(-1,6)\n",
    "\n",
    "    # columns 데이터 가져오기\n",
    "    columns = [col_name.text for col_name in html.select('th')][1:]\n",
    "    \n",
    "    df = pd.DataFrame(price,\n",
    "                  index=index,\n",
    "                  columns=columns)\n",
    "    temp = total\n",
    "    total = pd.concat([df,temp])"
   ]
  },
  {
   "cell_type": "code",
   "execution_count": 281,
   "metadata": {
    "ExecuteTime": {
     "end_time": "2021-09-27T03:38:24.211436Z",
     "start_time": "2021-09-27T03:38:24.188256Z"
    }
   },
   "outputs": [
    {
     "data": {
      "text/html": [
       "<div>\n",
       "<style scoped>\n",
       "    .dataframe tbody tr th:only-of-type {\n",
       "        vertical-align: middle;\n",
       "    }\n",
       "\n",
       "    .dataframe tbody tr th {\n",
       "        vertical-align: top;\n",
       "    }\n",
       "\n",
       "    .dataframe thead th {\n",
       "        text-align: right;\n",
       "    }\n",
       "</style>\n",
       "<table border=\"1\" class=\"dataframe\">\n",
       "  <thead>\n",
       "    <tr style=\"text-align: right;\">\n",
       "      <th></th>\n",
       "      <th>종가</th>\n",
       "      <th>전일비</th>\n",
       "      <th>시가</th>\n",
       "      <th>고가</th>\n",
       "      <th>저가</th>\n",
       "      <th>거래량</th>\n",
       "      <th>월</th>\n",
       "    </tr>\n",
       "  </thead>\n",
       "  <tbody>\n",
       "    <tr>\n",
       "      <th>2020.12.17</th>\n",
       "      <td>22300</td>\n",
       "      <td>100</td>\n",
       "      <td>22,250</td>\n",
       "      <td>22,350</td>\n",
       "      <td>22,000</td>\n",
       "      <td>48,761</td>\n",
       "      <td>2021년 12월</td>\n",
       "    </tr>\n",
       "    <tr>\n",
       "      <th>2020.12.16</th>\n",
       "      <td>22200</td>\n",
       "      <td>250</td>\n",
       "      <td>22,100</td>\n",
       "      <td>22,400</td>\n",
       "      <td>21,950</td>\n",
       "      <td>60,684</td>\n",
       "      <td>2021년 12월</td>\n",
       "    </tr>\n",
       "    <tr>\n",
       "      <th>2020.12.15</th>\n",
       "      <td>21950</td>\n",
       "      <td>0</td>\n",
       "      <td>22,200</td>\n",
       "      <td>22,200</td>\n",
       "      <td>21,750</td>\n",
       "      <td>48,023</td>\n",
       "      <td>2021년 12월</td>\n",
       "    </tr>\n",
       "    <tr>\n",
       "      <th>2020.12.14</th>\n",
       "      <td>21950</td>\n",
       "      <td>350</td>\n",
       "      <td>22,400</td>\n",
       "      <td>22,400</td>\n",
       "      <td>21,850</td>\n",
       "      <td>61,365</td>\n",
       "      <td>2021년 12월</td>\n",
       "    </tr>\n",
       "    <tr>\n",
       "      <th>2020.12.11</th>\n",
       "      <td>22300</td>\n",
       "      <td>500</td>\n",
       "      <td>21,950</td>\n",
       "      <td>22,500</td>\n",
       "      <td>21,650</td>\n",
       "      <td>100,025</td>\n",
       "      <td>2021년 12월</td>\n",
       "    </tr>\n",
       "    <tr>\n",
       "      <th>...</th>\n",
       "      <td>...</td>\n",
       "      <td>...</td>\n",
       "      <td>...</td>\n",
       "      <td>...</td>\n",
       "      <td>...</td>\n",
       "      <td>...</td>\n",
       "      <td>...</td>\n",
       "    </tr>\n",
       "    <tr>\n",
       "      <th>2021.09.15</th>\n",
       "      <td>39850</td>\n",
       "      <td>1,450</td>\n",
       "      <td>41,250</td>\n",
       "      <td>42,550</td>\n",
       "      <td>39,350</td>\n",
       "      <td>491,878</td>\n",
       "      <td>2021년 9월</td>\n",
       "    </tr>\n",
       "    <tr>\n",
       "      <th>2021.09.14</th>\n",
       "      <td>41300</td>\n",
       "      <td>200</td>\n",
       "      <td>41,100</td>\n",
       "      <td>42,250</td>\n",
       "      <td>40,200</td>\n",
       "      <td>546,760</td>\n",
       "      <td>2021년 9월</td>\n",
       "    </tr>\n",
       "    <tr>\n",
       "      <th>2021.09.13</th>\n",
       "      <td>41500</td>\n",
       "      <td>3,750</td>\n",
       "      <td>44,850</td>\n",
       "      <td>45,800</td>\n",
       "      <td>41,200</td>\n",
       "      <td>1,164,685</td>\n",
       "      <td>2021년 9월</td>\n",
       "    </tr>\n",
       "    <tr>\n",
       "      <th>2021.09.10</th>\n",
       "      <td>45250</td>\n",
       "      <td>9,350</td>\n",
       "      <td>36,050</td>\n",
       "      <td>46,650</td>\n",
       "      <td>36,050</td>\n",
       "      <td>3,800,508</td>\n",
       "      <td>2021년 9월</td>\n",
       "    </tr>\n",
       "    <tr>\n",
       "      <th>2021.09.09</th>\n",
       "      <td>35900</td>\n",
       "      <td>1,700</td>\n",
       "      <td>34,700</td>\n",
       "      <td>36,600</td>\n",
       "      <td>34,550</td>\n",
       "      <td>511,021</td>\n",
       "      <td>2021년 9월</td>\n",
       "    </tr>\n",
       "  </tbody>\n",
       "</table>\n",
       "<p>200 rows × 7 columns</p>\n",
       "</div>"
      ],
      "text/plain": [
       "               종가    전일비      시가      고가      저가        거래량          월\n",
       "2020.12.17  22300    100  22,250  22,350  22,000     48,761  2021년 12월\n",
       "2020.12.16  22200    250  22,100  22,400  21,950     60,684  2021년 12월\n",
       "2020.12.15  21950      0  22,200  22,200  21,750     48,023  2021년 12월\n",
       "2020.12.14  21950    350  22,400  22,400  21,850     61,365  2021년 12월\n",
       "2020.12.11  22300    500  21,950  22,500  21,650    100,025  2021년 12월\n",
       "...           ...    ...     ...     ...     ...        ...        ...\n",
       "2021.09.15  39850  1,450  41,250  42,550  39,350    491,878   2021년 9월\n",
       "2021.09.14  41300    200  41,100  42,250  40,200    546,760   2021년 9월\n",
       "2021.09.13  41500  3,750  44,850  45,800  41,200  1,164,685   2021년 9월\n",
       "2021.09.10  45250  9,350  36,050  46,650  36,050  3,800,508   2021년 9월\n",
       "2021.09.09  35900  1,700  34,700  36,600  34,550    511,021   2021년 9월\n",
       "\n",
       "[200 rows x 7 columns]"
      ]
     },
     "execution_count": 281,
     "metadata": {},
     "output_type": "execute_result"
    }
   ],
   "source": [
    "total"
   ]
  },
  {
   "cell_type": "code",
   "execution_count": null,
   "metadata": {
    "ExecuteTime": {
     "end_time": "2021-09-27T04:14:57.019319Z",
     "start_time": "2021-09-27T04:11:27.726830Z"
    }
   },
   "outputs": [],
   "source": [
    "### 여러 종목 순환 및 csv로 저장\n",
    "code=['041930','101060','187420','060590']\n",
    "\n",
    "for codes in code:\n",
    "    print(f'{codes}종목 크롤링중')\n",
    "    total=pd.DataFrame()\n",
    "    for num in range(1,21):\n",
    "        print(f'{num}페이지 크롤링중')\n",
    "        url = f'https://finance.naver.com/item/sise_day.naver?code={codes}&page={num}'\n",
    "        info = {\n",
    "                # 내가 어디서 접근하려는지 정보\n",
    "                'referer': 'https://finance.naver.com/item/sise_day.naver?code=002020&page=1',\n",
    "                # 내 인터넷 작업환경\n",
    "                'user-agent': 'Mozilla/5.0 (Macintosh; Intel Mac OS X 10_15_7) AppleWebKit/537.36 (KHTML, like Gecko) Chrome/94.0.4606.54 Safari/537.36'\n",
    "               }\n",
    "        seed = np.random.randint(100) # seed 설정\n",
    "        np.random.seed(seed)    # 시드 생성\n",
    "        a = np.random.randint(5)  # 시드에서 난수 생성\n",
    "        time.sleep(a)     # 코드실행 지연시키는 코드\n",
    "\n",
    "        # requests\n",
    "        response = requests.get(url, headers=info)\n",
    "\n",
    "        # 데이터 가공\n",
    "        html = BeautifulSoup(response.text,'html.parser')\n",
    "\n",
    "        # 날짜 인덱스 살려서 활용\n",
    "        index = [date.text for date in html.select('span.p10')]\n",
    "\n",
    "        # 가격정보 추출\n",
    "        price = np.array([date.text.replace('\\n','').replace('\\t','') for date in html.select('span.p11')]).reshape(-1,6)\n",
    "\n",
    "        # columns 데이터 가져오기\n",
    "        columns = [col_name.text for col_name in html.select('th')][1:]\n",
    "\n",
    "        df = pd.DataFrame(price,\n",
    "                      index=index,\n",
    "                      columns=columns)\n",
    "        temp = total\n",
    "        total = pd.concat([df,temp])\n",
    "    total.to_csv(f'/Users/ppangppang/Desktop/ssac/02.Python_/Python_Basic_Class/practice/{codes}_0927.csv')\n",
    "    print(f'{codes}종목 파일 생성 완료')\n",
    "print('크롤링 종료')"
   ]
  },
  {
   "cell_type": "code",
   "execution_count": 300,
   "metadata": {
    "ExecuteTime": {
     "end_time": "2021-09-27T04:04:22.482451Z",
     "start_time": "2021-09-27T04:04:22.469351Z"
    }
   },
   "outputs": [],
   "source": [
    "df = pd.read_csv('/Users/ppangppang/Desktop/ssac/02.Python_/Python_Basic_Class/practice/101060_0927.csv',index_col='Unnamed: 0')"
   ]
  },
  {
   "cell_type": "code",
   "execution_count": 309,
   "metadata": {
    "ExecuteTime": {
     "end_time": "2021-09-27T04:05:36.247613Z",
     "start_time": "2021-09-27T04:05:36.136460Z"
    }
   },
   "outputs": [
    {
     "data": {
      "text/plain": [
       "<AxesSubplot:>"
      ]
     },
     "execution_count": 309,
     "metadata": {},
     "output_type": "execute_result"
    },
    {
     "data": {
      "image/png": "[encoded data removed]",
      "text/plain": [
       "<Figure size 432x288 with 1 Axes>"
      ]
     },
     "metadata": {
      "needs_background": "light"
     },
     "output_type": "display_data"
    }
   ],
   "source": [
    "# df['종가'] = df['종가'].apply(remove_str).astype(int)\n",
    "df['종가'].sort_index().plot()"
   ]
  },
  {
   "cell_type": "markdown",
   "metadata": {
    "id": "GIvAIByBCAz1",
    "slideshow": {
     "slide_type": "slide"
    }
   },
   "source": [
    "### 네이버 데이터랩 인기검색어 크롤링"
   ]
  },
  {
   "cell_type": "markdown",
   "metadata": {},
   "source": [
    "- 숨은내용찾기"
   ]
  },
  {
   "cell_type": "code",
   "execution_count": 337,
   "metadata": {
    "ExecuteTime": {
     "end_time": "2021-09-27T04:30:13.263461Z",
     "start_time": "2021-09-27T04:30:13.182949Z"
    }
   },
   "outputs": [
    {
     "name": "stdout",
     "output_type": "stream",
     "text": [
      "나이키운동화\n",
      "크록스\n",
      "운동화\n",
      "모자\n",
      "뉴발란스327\n",
      "나이키데이브레이크\n",
      "핸드폰가방\n",
      "나이키에어포스\n",
      "카드지갑\n",
      "gwf-a1000\n"
     ]
    }
   ],
   "source": [
    "import json\n",
    "\n",
    "url='https://datalab.naver.com/shoppingInsight/getKeywordRank.naver?timeUnit=date&cid=50000001'\n",
    "# \n",
    "info={\n",
    "    'referer': 'https://datalab.naver.com/',\n",
    "    'user-agent': 'Mozilla/5.0 (Macintosh; Intel Mac OS X 10_15_7) AppleWebKit/537.36 (KHTML, like Gecko) Chrome/94.0.4606.54 Safari/537.36'\n",
    "}\n",
    "\n",
    "# url마다 요청하는 방식이 다름 get/post 등등\n",
    "response = requests.post(url, headers=info)\n",
    "\n",
    "data= json.loads(response.text)\n",
    "\n",
    "for item in data[0]['ranks']:\n",
    "    print(item['keyword'])"
   ]
  },
  {
   "cell_type": "code",
   "execution_count": 12,
   "metadata": {
    "ExecuteTime": {
     "end_time": "2021-06-06T06:35:26.793191Z",
     "start_time": "2021-06-06T06:35:26.665314Z"
    },
    "id": "uvafKGESAAEJ",
    "slideshow": {
     "slide_type": "subslide"
    }
   },
   "outputs": [
    {
     "data": {
      "text/plain": [
       "{'message': None,\n",
       " 'statusCode': 200,\n",
       " 'returnCode': 0,\n",
       " 'date': '2021/05/25',\n",
       " 'datetime': '2021.05.25.(화)',\n",
       " 'range': '',\n",
       " 'ranks': [{'rank': 1, 'keyword': '원피스', 'linkId': '원피스'},\n",
       "  {'rank': 2, 'keyword': '남자반팔티', 'linkId': '남자반팔티'},\n",
       "  {'rank': 3, 'keyword': '반바지', 'linkId': '반바지'},\n",
       "  {'rank': 4, 'keyword': '롱원피스', 'linkId': '롱원피스'},\n",
       "  {'rank': 5, 'keyword': '블라우스', 'linkId': '블라우스'},\n",
       "  {'rank': 6, 'keyword': '써스데이아일랜드원피스', 'linkId': '써스데이아일랜드원피스'},\n",
       "  {'rank': 7, 'keyword': '여성점프수트', 'linkId': '여성점프수트'},\n",
       "  {'rank': 8, 'keyword': '나이키바람막이', 'linkId': '나이키바람막이'},\n",
       "  {'rank': 9, 'keyword': '여성린넨자켓', 'linkId': '여성린넨자켓'},\n",
       "  {'rank': 10, 'keyword': '바람막이', 'linkId': '바람막이'}]}"
      ]
     },
     "execution_count": 12,
     "metadata": {},
     "output_type": "execute_result"
    }
   ],
   "source": []
  },
  {
   "cell_type": "markdown",
   "metadata": {
    "id": "N3NtfdJNMWM6",
    "slideshow": {
     "slide_type": "slide"
    }
   },
   "source": [
    "### 다음 주식 일자별 주가 데이터 크롤링"
   ]
  },
  {
   "cell_type": "code",
   "execution_count": null,
   "metadata": {
    "ExecuteTime": {
     "end_time": "2021-09-27T04:49:44.405792Z",
     "start_time": "2021-09-27T04:49:44.289361Z"
    }
   },
   "outputs": [],
   "source": [
    "info={\n",
    "    'referer': 'https://finance.daum.net/quotes/A005930',\n",
    "    'user-agent': 'Mozilla/5.0 (Macintosh; Intel Mac OS X 10_15_7) AppleWebKit/537.36 (KHTML, like Gecko) Chrome/94.0.4606.54 Safari/537.36'\n",
    "}\n",
    "\n",
    "url = 'https://finance.daum.net/api/quote/A002020/days?symbolCode=A002020&page=2&perPage=10&pagination=true'\n",
    "response = requests.get(url, headers=info)\n",
    "data = json.loads(response.text)\n",
    "df = pd.DataFrame(data['data'])\n",
    "df"
   ]
  },
  {
   "cell_type": "code",
   "execution_count": 368,
   "metadata": {
    "ExecuteTime": {
     "end_time": "2021-09-27T04:54:36.721492Z",
     "start_time": "2021-09-27T04:54:10.607711Z"
    }
   },
   "outputs": [
    {
     "data": {
      "text/html": [
       "<div>\n",
       "<style scoped>\n",
       "    .dataframe tbody tr th:only-of-type {\n",
       "        vertical-align: middle;\n",
       "    }\n",
       "\n",
       "    .dataframe tbody tr th {\n",
       "        vertical-align: top;\n",
       "    }\n",
       "\n",
       "    .dataframe thead th {\n",
       "        text-align: right;\n",
       "    }\n",
       "</style>\n",
       "<table border=\"1\" class=\"dataframe\">\n",
       "  <thead>\n",
       "    <tr style=\"text-align: right;\">\n",
       "      <th></th>\n",
       "      <th>symbolCode</th>\n",
       "      <th>date</th>\n",
       "      <th>tradePrice</th>\n",
       "      <th>tradeTime</th>\n",
       "      <th>change</th>\n",
       "      <th>changePrice</th>\n",
       "      <th>changeRate</th>\n",
       "      <th>prevClosingPrice</th>\n",
       "      <th>exchangeCountry</th>\n",
       "      <th>openingPrice</th>\n",
       "      <th>highPrice</th>\n",
       "      <th>lowPrice</th>\n",
       "      <th>accTradePrice</th>\n",
       "      <th>accTradeVolume</th>\n",
       "      <th>periodTradePrice</th>\n",
       "      <th>periodTradeVolume</th>\n",
       "      <th>listedSharesCount</th>\n",
       "    </tr>\n",
       "  </thead>\n",
       "  <tbody>\n",
       "    <tr>\n",
       "      <th>0</th>\n",
       "      <td>A005930</td>\n",
       "      <td>2021-05-17 15:30:14</td>\n",
       "      <td>79600.0</td>\n",
       "      <td>15:30:14</td>\n",
       "      <td>FALL</td>\n",
       "      <td>500.0</td>\n",
       "      <td>-0.006242</td>\n",
       "      <td>80100.0</td>\n",
       "      <td>KOREA</td>\n",
       "      <td>80800.0</td>\n",
       "      <td>80900.0</td>\n",
       "      <td>79200.0</td>\n",
       "      <td>1414228804206</td>\n",
       "      <td>17740855</td>\n",
       "      <td>1414228804206</td>\n",
       "      <td>17740855</td>\n",
       "      <td>None</td>\n",
       "    </tr>\n",
       "    <tr>\n",
       "      <th>1</th>\n",
       "      <td>A005930</td>\n",
       "      <td>2021-05-14 15:30:02</td>\n",
       "      <td>80100.0</td>\n",
       "      <td>15:30:02</td>\n",
       "      <td>RISE</td>\n",
       "      <td>1600.0</td>\n",
       "      <td>0.020382</td>\n",
       "      <td>78500.0</td>\n",
       "      <td>KOREA</td>\n",
       "      <td>79000.0</td>\n",
       "      <td>80300.0</td>\n",
       "      <td>78900.0</td>\n",
       "      <td>1313024424300</td>\n",
       "      <td>16450920</td>\n",
       "      <td>1313024424300</td>\n",
       "      <td>16450920</td>\n",
       "      <td>None</td>\n",
       "    </tr>\n",
       "    <tr>\n",
       "      <th>2</th>\n",
       "      <td>A005930</td>\n",
       "      <td>2021-05-13 15:30:09</td>\n",
       "      <td>78500.0</td>\n",
       "      <td>15:30:09</td>\n",
       "      <td>FALL</td>\n",
       "      <td>1500.0</td>\n",
       "      <td>-0.018750</td>\n",
       "      <td>80000.0</td>\n",
       "      <td>KOREA</td>\n",
       "      <td>78900.0</td>\n",
       "      <td>79600.0</td>\n",
       "      <td>78400.0</td>\n",
       "      <td>2482903301914</td>\n",
       "      <td>31490096</td>\n",
       "      <td>2482903301914</td>\n",
       "      <td>31490096</td>\n",
       "      <td>None</td>\n",
       "    </tr>\n",
       "    <tr>\n",
       "      <th>3</th>\n",
       "      <td>A005930</td>\n",
       "      <td>2021-05-12 15:30:24</td>\n",
       "      <td>80000.0</td>\n",
       "      <td>15:30:24</td>\n",
       "      <td>FALL</td>\n",
       "      <td>1200.0</td>\n",
       "      <td>-0.014778</td>\n",
       "      <td>81200.0</td>\n",
       "      <td>KOREA</td>\n",
       "      <td>80800.0</td>\n",
       "      <td>81200.0</td>\n",
       "      <td>79800.0</td>\n",
       "      <td>2876601949600</td>\n",
       "      <td>35812268</td>\n",
       "      <td>2876601949600</td>\n",
       "      <td>35812268</td>\n",
       "      <td>None</td>\n",
       "    </tr>\n",
       "    <tr>\n",
       "      <th>4</th>\n",
       "      <td>A005930</td>\n",
       "      <td>2021-05-11 15:30:29</td>\n",
       "      <td>81200.0</td>\n",
       "      <td>15:30:29</td>\n",
       "      <td>FALL</td>\n",
       "      <td>2000.0</td>\n",
       "      <td>-0.024038</td>\n",
       "      <td>83200.0</td>\n",
       "      <td>KOREA</td>\n",
       "      <td>82500.0</td>\n",
       "      <td>82600.0</td>\n",
       "      <td>81100.0</td>\n",
       "      <td>2365998053700</td>\n",
       "      <td>28996680</td>\n",
       "      <td>2365998053700</td>\n",
       "      <td>28996680</td>\n",
       "      <td>None</td>\n",
       "    </tr>\n",
       "    <tr>\n",
       "      <th>...</th>\n",
       "      <td>...</td>\n",
       "      <td>...</td>\n",
       "      <td>...</td>\n",
       "      <td>...</td>\n",
       "      <td>...</td>\n",
       "      <td>...</td>\n",
       "      <td>...</td>\n",
       "      <td>...</td>\n",
       "      <td>...</td>\n",
       "      <td>...</td>\n",
       "      <td>...</td>\n",
       "      <td>...</td>\n",
       "      <td>...</td>\n",
       "      <td>...</td>\n",
       "      <td>...</td>\n",
       "      <td>...</td>\n",
       "      <td>...</td>\n",
       "    </tr>\n",
       "    <tr>\n",
       "      <th>5</th>\n",
       "      <td>A005930</td>\n",
       "      <td>2021-09-15 15:30:17</td>\n",
       "      <td>77000.0</td>\n",
       "      <td>15:30:17</td>\n",
       "      <td>RISE</td>\n",
       "      <td>400.0</td>\n",
       "      <td>0.005222</td>\n",
       "      <td>76600.0</td>\n",
       "      <td>KOREA</td>\n",
       "      <td>77400.0</td>\n",
       "      <td>77400.0</td>\n",
       "      <td>76400.0</td>\n",
       "      <td>987846688544</td>\n",
       "      <td>12829128</td>\n",
       "      <td>987846688544</td>\n",
       "      <td>12829128</td>\n",
       "      <td>None</td>\n",
       "    </tr>\n",
       "    <tr>\n",
       "      <th>6</th>\n",
       "      <td>A005930</td>\n",
       "      <td>2021-09-14 15:30:16</td>\n",
       "      <td>76600.0</td>\n",
       "      <td>15:30:16</td>\n",
       "      <td>RISE</td>\n",
       "      <td>300.0</td>\n",
       "      <td>0.003932</td>\n",
       "      <td>76300.0</td>\n",
       "      <td>KOREA</td>\n",
       "      <td>77100.0</td>\n",
       "      <td>77700.0</td>\n",
       "      <td>76600.0</td>\n",
       "      <td>1404205788220</td>\n",
       "      <td>18167057</td>\n",
       "      <td>1404205788220</td>\n",
       "      <td>18167057</td>\n",
       "      <td>None</td>\n",
       "    </tr>\n",
       "    <tr>\n",
       "      <th>7</th>\n",
       "      <td>A005930</td>\n",
       "      <td>2021-09-13 15:30:12</td>\n",
       "      <td>76300.0</td>\n",
       "      <td>15:30:12</td>\n",
       "      <td>RISE</td>\n",
       "      <td>1000.0</td>\n",
       "      <td>0.013280</td>\n",
       "      <td>75300.0</td>\n",
       "      <td>KOREA</td>\n",
       "      <td>75200.0</td>\n",
       "      <td>76300.0</td>\n",
       "      <td>75100.0</td>\n",
       "      <td>865368373800</td>\n",
       "      <td>11397775</td>\n",
       "      <td>865368373800</td>\n",
       "      <td>11397775</td>\n",
       "      <td>None</td>\n",
       "    </tr>\n",
       "    <tr>\n",
       "      <th>8</th>\n",
       "      <td>A005930</td>\n",
       "      <td>2021-09-10 15:30:03</td>\n",
       "      <td>75300.0</td>\n",
       "      <td>15:30:03</td>\n",
       "      <td>EVEN</td>\n",
       "      <td>0.0</td>\n",
       "      <td>0.000000</td>\n",
       "      <td>75300.0</td>\n",
       "      <td>KOREA</td>\n",
       "      <td>75300.0</td>\n",
       "      <td>75600.0</td>\n",
       "      <td>74800.0</td>\n",
       "      <td>760038461600</td>\n",
       "      <td>10103212</td>\n",
       "      <td>760038461600</td>\n",
       "      <td>10103212</td>\n",
       "      <td>None</td>\n",
       "    </tr>\n",
       "    <tr>\n",
       "      <th>9</th>\n",
       "      <td>A005930</td>\n",
       "      <td>2021-09-09 15:30:18</td>\n",
       "      <td>75300.0</td>\n",
       "      <td>15:30:18</td>\n",
       "      <td>FALL</td>\n",
       "      <td>1000.0</td>\n",
       "      <td>-0.013106</td>\n",
       "      <td>76300.0</td>\n",
       "      <td>KOREA</td>\n",
       "      <td>76400.0</td>\n",
       "      <td>76600.0</td>\n",
       "      <td>75000.0</td>\n",
       "      <td>1329972274100</td>\n",
       "      <td>17600770</td>\n",
       "      <td>1329972274100</td>\n",
       "      <td>17600770</td>\n",
       "      <td>None</td>\n",
       "    </tr>\n",
       "  </tbody>\n",
       "</table>\n",
       "<p>100 rows × 17 columns</p>\n",
       "</div>"
      ],
      "text/plain": [
       "   symbolCode                 date  tradePrice tradeTime change  changePrice  \\\n",
       "0     A005930  2021-05-17 15:30:14     79600.0  15:30:14   FALL        500.0   \n",
       "1     A005930  2021-05-14 15:30:02     80100.0  15:30:02   RISE       1600.0   \n",
       "2     A005930  2021-05-13 15:30:09     78500.0  15:30:09   FALL       1500.0   \n",
       "3     A005930  2021-05-12 15:30:24     80000.0  15:30:24   FALL       1200.0   \n",
       "4     A005930  2021-05-11 15:30:29     81200.0  15:30:29   FALL       2000.0   \n",
       "..        ...                  ...         ...       ...    ...          ...   \n",
       "5     A005930  2021-09-15 15:30:17     77000.0  15:30:17   RISE        400.0   \n",
       "6     A005930  2021-09-14 15:30:16     76600.0  15:30:16   RISE        300.0   \n",
       "7     A005930  2021-09-13 15:30:12     76300.0  15:30:12   RISE       1000.0   \n",
       "8     A005930  2021-09-10 15:30:03     75300.0  15:30:03   EVEN          0.0   \n",
       "9     A005930  2021-09-09 15:30:18     75300.0  15:30:18   FALL       1000.0   \n",
       "\n",
       "    changeRate  prevClosingPrice exchangeCountry  openingPrice  highPrice  \\\n",
       "0    -0.006242           80100.0           KOREA       80800.0    80900.0   \n",
       "1     0.020382           78500.0           KOREA       79000.0    80300.0   \n",
       "2    -0.018750           80000.0           KOREA       78900.0    79600.0   \n",
       "3    -0.014778           81200.0           KOREA       80800.0    81200.0   \n",
       "4    -0.024038           83200.0           KOREA       82500.0    82600.0   \n",
       "..         ...               ...             ...           ...        ...   \n",
       "5     0.005222           76600.0           KOREA       77400.0    77400.0   \n",
       "6     0.003932           76300.0           KOREA       77100.0    77700.0   \n",
       "7     0.013280           75300.0           KOREA       75200.0    76300.0   \n",
       "8     0.000000           75300.0           KOREA       75300.0    75600.0   \n",
       "9    -0.013106           76300.0           KOREA       76400.0    76600.0   \n",
       "\n",
       "    lowPrice  accTradePrice  accTradeVolume  periodTradePrice  \\\n",
       "0    79200.0  1414228804206        17740855     1414228804206   \n",
       "1    78900.0  1313024424300        16450920     1313024424300   \n",
       "2    78400.0  2482903301914        31490096     2482903301914   \n",
       "3    79800.0  2876601949600        35812268     2876601949600   \n",
       "4    81100.0  2365998053700        28996680     2365998053700   \n",
       "..       ...            ...             ...               ...   \n",
       "5    76400.0   987846688544        12829128      987846688544   \n",
       "6    76600.0  1404205788220        18167057     1404205788220   \n",
       "7    75100.0   865368373800        11397775      865368373800   \n",
       "8    74800.0   760038461600        10103212      760038461600   \n",
       "9    75000.0  1329972274100        17600770     1329972274100   \n",
       "\n",
       "    periodTradeVolume listedSharesCount  \n",
       "0            17740855              None  \n",
       "1            16450920              None  \n",
       "2            31490096              None  \n",
       "3            35812268              None  \n",
       "4            28996680              None  \n",
       "..                ...               ...  \n",
       "5            12829128              None  \n",
       "6            18167057              None  \n",
       "7            11397775              None  \n",
       "8            10103212              None  \n",
       "9            17600770              None  \n",
       "\n",
       "[100 rows x 17 columns]"
      ]
     },
     "execution_count": 368,
     "metadata": {},
     "output_type": "execute_result"
    }
   ],
   "source": [
    "import json\n",
    "\n",
    "total = pd.DataFrame()\n",
    "for num in range(1,11):\n",
    "    url=f'https://finance.daum.net/api/quote/A005930/days?symbolCode=A005930&page={num}&perPage=10&pagination=true'\n",
    "\n",
    "    info={\n",
    "        'referer': 'https://finance.daum.net/quotes/A005930',\n",
    "        'user-agent': 'Mozilla/5.0 (Macintosh; Intel Mac OS X 10_15_7) AppleWebKit/537.36 (KHTML, like Gecko) Chrome/94.0.4606.54 Safari/537.36'\n",
    "    }\n",
    "\n",
    "    seed = np.random.randint(100)\n",
    "    np.random.seed(seed)    \n",
    "    a = np.random.randint(5)\n",
    "    time.sleep(a)  \n",
    "    \n",
    "    response = requests.get(url, headers=info)\n",
    "    data = json.loads(response.text)\n",
    "    \n",
    "    df=pd.DataFrame(data['data'])\n",
    "    temp = total\n",
    "    total=pd.concat([df,temp])\n",
    "total.reset_index()\n",
    "total"
   ]
  },
  {
   "cell_type": "markdown",
   "metadata": {},
   "source": [
    "### 네이버 주식 삼성전자 일자별 주가 데이터 크롤링 1페이지 부터 10페이지 까지"
   ]
  },
  {
   "cell_type": "code",
   "execution_count": 452,
   "metadata": {
    "ExecuteTime": {
     "end_time": "2021-09-27T06:07:08.552245Z",
     "start_time": "2021-09-27T06:06:42.446359Z"
    }
   },
   "outputs": [
    {
     "name": "stdout",
     "output_type": "stream",
     "text": [
      "1페이지 완료\n",
      "2페이지 완료\n",
      "3페이지 완료\n",
      "4페이지 완료\n",
      "5페이지 완료\n",
      "6페이지 완료\n",
      "7페이지 완료\n",
      "8페이지 완료\n",
      "9페이지 완료\n",
      "10페이지 완료\n"
     ]
    }
   ],
   "source": [
    "# url, 헤더정보 정의\n",
    "total_df=pd.DataFrame()\n",
    "for num in range(1,11):\n",
    "    url=f'https://finance.naver.com/item/sise_day.naver?code=005930&page={num}'\n",
    "    info = {\n",
    "            'referer': 'https://finance.naver.com/item/sise_day.naver?code=005930&page=2',\n",
    "            'user-agent': 'Mozilla/5.0 (Macintosh; Intel Mac OS X 10_15_7) AppleWebKit/537.36 (KHTML, like Gecko) Chrome/94.0.4606.54 Safari/537.36'    \n",
    "    }\n",
    "    seed = np.random.randint(100)\n",
    "    np.random.seed(seed)    \n",
    "    a = np.random.randint(5)\n",
    "    time.sleep(a)  \n",
    "    \n",
    "    response = requests.get(url, headers=info)\n",
    "    data = BeautifulSoup(response.text,'html.parser')\n",
    "\n",
    "    index = [date.text for date in data.select('span.p10')]\n",
    "    columns = [col_name.text for col_name in data.select('th')][1:]\n",
    "    price = np.array([num.text.replace('\\t','').replace('\\n','') for num in data.select('span.p11')]).reshape(-1,6)\n",
    "    \n",
    "    df= pd.DataFrame(price,index=index,columns=columns)\n",
    "    temp=df\n",
    "    total_df=pd.concat([total_df, temp])\n",
    "    print(f'{num}페이지 완료')"
   ]
  },
  {
   "cell_type": "code",
   "execution_count": 453,
   "metadata": {
    "ExecuteTime": {
     "end_time": "2021-09-27T06:12:02.391081Z",
     "start_time": "2021-09-27T06:12:02.365644Z"
    },
    "scrolled": true
   },
   "outputs": [
    {
     "data": {
      "text/html": [
       "<div>\n",
       "<style scoped>\n",
       "    .dataframe tbody tr th:only-of-type {\n",
       "        vertical-align: middle;\n",
       "    }\n",
       "\n",
       "    .dataframe tbody tr th {\n",
       "        vertical-align: top;\n",
       "    }\n",
       "\n",
       "    .dataframe thead th {\n",
       "        text-align: right;\n",
       "    }\n",
       "</style>\n",
       "<table border=\"1\" class=\"dataframe\">\n",
       "  <thead>\n",
       "    <tr style=\"text-align: right;\">\n",
       "      <th></th>\n",
       "      <th>종가</th>\n",
       "      <th>전일비</th>\n",
       "      <th>시가</th>\n",
       "      <th>고가</th>\n",
       "      <th>저가</th>\n",
       "      <th>거래량</th>\n",
       "    </tr>\n",
       "  </thead>\n",
       "  <tbody>\n",
       "    <tr>\n",
       "      <th>2021.09.27</th>\n",
       "      <td>77,500</td>\n",
       "      <td>200</td>\n",
       "      <td>77,300</td>\n",
       "      <td>77,700</td>\n",
       "      <td>77,000</td>\n",
       "      <td>9,445,485</td>\n",
       "    </tr>\n",
       "    <tr>\n",
       "      <th>2021.09.24</th>\n",
       "      <td>77,300</td>\n",
       "      <td>100</td>\n",
       "      <td>77,600</td>\n",
       "      <td>77,700</td>\n",
       "      <td>77,100</td>\n",
       "      <td>12,247,274</td>\n",
       "    </tr>\n",
       "    <tr>\n",
       "      <th>2021.09.23</th>\n",
       "      <td>77,400</td>\n",
       "      <td>200</td>\n",
       "      <td>77,500</td>\n",
       "      <td>77,600</td>\n",
       "      <td>76,800</td>\n",
       "      <td>17,055,590</td>\n",
       "    </tr>\n",
       "    <tr>\n",
       "      <th>2021.09.17</th>\n",
       "      <td>77,200</td>\n",
       "      <td>1,100</td>\n",
       "      <td>76,300</td>\n",
       "      <td>77,200</td>\n",
       "      <td>75,900</td>\n",
       "      <td>16,289,502</td>\n",
       "    </tr>\n",
       "    <tr>\n",
       "      <th>2021.09.16</th>\n",
       "      <td>76,100</td>\n",
       "      <td>900</td>\n",
       "      <td>77,300</td>\n",
       "      <td>77,400</td>\n",
       "      <td>76,100</td>\n",
       "      <td>13,067,622</td>\n",
       "    </tr>\n",
       "    <tr>\n",
       "      <th>...</th>\n",
       "      <td>...</td>\n",
       "      <td>...</td>\n",
       "      <td>...</td>\n",
       "      <td>...</td>\n",
       "      <td>...</td>\n",
       "      <td>...</td>\n",
       "    </tr>\n",
       "    <tr>\n",
       "      <th>2021.05.10</th>\n",
       "      <td>83,200</td>\n",
       "      <td>1,300</td>\n",
       "      <td>82,300</td>\n",
       "      <td>83,500</td>\n",
       "      <td>81,800</td>\n",
       "      <td>19,385,027</td>\n",
       "    </tr>\n",
       "    <tr>\n",
       "      <th>2021.05.07</th>\n",
       "      <td>81,900</td>\n",
       "      <td>400</td>\n",
       "      <td>81,800</td>\n",
       "      <td>82,100</td>\n",
       "      <td>81,500</td>\n",
       "      <td>14,154,882</td>\n",
       "    </tr>\n",
       "    <tr>\n",
       "      <th>2021.05.06</th>\n",
       "      <td>82,300</td>\n",
       "      <td>300</td>\n",
       "      <td>81,700</td>\n",
       "      <td>82,300</td>\n",
       "      <td>81,700</td>\n",
       "      <td>17,047,511</td>\n",
       "    </tr>\n",
       "    <tr>\n",
       "      <th>2021.05.04</th>\n",
       "      <td>82,600</td>\n",
       "      <td>900</td>\n",
       "      <td>81,900</td>\n",
       "      <td>82,600</td>\n",
       "      <td>81,800</td>\n",
       "      <td>12,532,550</td>\n",
       "    </tr>\n",
       "    <tr>\n",
       "      <th>2021.05.03</th>\n",
       "      <td>81,700</td>\n",
       "      <td>200</td>\n",
       "      <td>81,000</td>\n",
       "      <td>82,400</td>\n",
       "      <td>81,000</td>\n",
       "      <td>15,710,336</td>\n",
       "    </tr>\n",
       "  </tbody>\n",
       "</table>\n",
       "<p>100 rows × 6 columns</p>\n",
       "</div>"
      ],
      "text/plain": [
       "                종가    전일비      시가      고가      저가         거래량\n",
       "2021.09.27  77,500    200  77,300  77,700  77,000   9,445,485\n",
       "2021.09.24  77,300    100  77,600  77,700  77,100  12,247,274\n",
       "2021.09.23  77,400    200  77,500  77,600  76,800  17,055,590\n",
       "2021.09.17  77,200  1,100  76,300  77,200  75,900  16,289,502\n",
       "2021.09.16  76,100    900  77,300  77,400  76,100  13,067,622\n",
       "...            ...    ...     ...     ...     ...         ...\n",
       "2021.05.10  83,200  1,300  82,300  83,500  81,800  19,385,027\n",
       "2021.05.07  81,900    400  81,800  82,100  81,500  14,154,882\n",
       "2021.05.06  82,300    300  81,700  82,300  81,700  17,047,511\n",
       "2021.05.04  82,600    900  81,900  82,600  81,800  12,532,550\n",
       "2021.05.03  81,700    200  81,000  82,400  81,000  15,710,336\n",
       "\n",
       "[100 rows x 6 columns]"
      ]
     },
     "execution_count": 453,
     "metadata": {},
     "output_type": "execute_result"
    }
   ],
   "source": [
    "total_df"
   ]
  },
  {
   "cell_type": "code",
   "execution_count": null,
   "metadata": {},
   "outputs": [],
   "source": []
  },
  {
   "cell_type": "markdown",
   "metadata": {},
   "source": [
    "## Naver develpoers 작동\n",
    "- 파파코 번역 테스트\n",
    "- API 가이드에서 제일 위에 curl 부분을 url로\n",
    "- H부분을 동적크롤링의 헤더처럼\n",
    "- d부분 source에 원하는 정보 입력"
   ]
  },
  {
   "cell_type": "code",
   "execution_count": 473,
   "metadata": {
    "ExecuteTime": {
     "end_time": "2021-09-27T06:28:43.207024Z",
     "start_time": "2021-09-27T06:28:43.200365Z"
    }
   },
   "outputs": [],
   "source": [
    "def papago():\n",
    "    \n",
    "    x = str(input('번역이 필요한 한국어를 입력하세요 : '))\n",
    "    \n",
    "    # url 설정\n",
    "    url=\"https://openapi.naver.com/v1/papago/n2mt\"\n",
    "    # headers 설정\n",
    "    info= {\n",
    "\n",
    "            'Content-Type' : 'application/x-www-form-urlencoded; charset=UTF-8',\n",
    "            'X-Naver-Client-Id' : 'S93P52clUhFOJJYZYq41',\n",
    "            'X-Naver-Client-Secret' : 'gjKYhQ6UJL'\n",
    "          }\n",
    "\n",
    "    data = {\n",
    "            'source' : 'ko',\n",
    "            'target' : 'en',\n",
    "            'text' : x\n",
    "            }\n",
    "\n",
    "    response = requests.post(url, headers=info, data=data)\n",
    "    result = json.loads(response.text)\n",
    "    print(result['message']['result']['translatedText'])"
   ]
  },
  {
   "cell_type": "code",
   "execution_count": 475,
   "metadata": {
    "ExecuteTime": {
     "end_time": "2021-09-27T06:29:11.210927Z",
     "start_time": "2021-09-27T06:29:01.447068Z"
    }
   },
   "outputs": [
    {
     "name": "stdout",
     "output_type": "stream",
     "text": [
      "번역이 필요한 한국어를 입력하세요 : 강의시작하겠습니다. 카메라를 켜주시고 참석바랍니다.\n",
      "I will start the lecture. Please turn on the camera and attend.\n"
     ]
    }
   ],
   "source": [
    "papago()"
   ]
  },
  {
   "cell_type": "markdown",
   "metadata": {},
   "source": [
    "## 공공데이터"
   ]
  },
  {
   "cell_type": "code",
   "execution_count": 484,
   "metadata": {
    "ExecuteTime": {
     "end_time": "2021-09-27T06:39:23.605917Z",
     "start_time": "2021-09-27T06:39:23.416602Z"
    }
   },
   "outputs": [],
   "source": [
    "# 서울특별시 중구_스마트관광시스템DB\n",
    "url='http://smarttour.junggu.seoul.kr//junggu/openapi/culture.do'\n",
    "response=requests.get(url)\n",
    "\n",
    "# response.text # json 형태\n",
    "\n",
    "data = json.loads(response.text)"
   ]
  },
  {
   "cell_type": "code",
   "execution_count": 494,
   "metadata": {
    "ExecuteTime": {
     "end_time": "2021-09-27T06:42:11.109130Z",
     "start_time": "2021-09-27T06:42:11.104524Z"
    }
   },
   "outputs": [
    {
     "name": "stdout",
     "output_type": "stream",
     "text": [
      "서울특별시 중구 퇴계로36길 10(필동2가 80-2)\n",
      "서울특별시 중구 퇴계로34길 28(필동2가 84-1)\n",
      "서울특별시 중구 퇴계로34길 28(필동2가 84-1)\n",
      "서울특별시 중구 소월로 91(남대문로5가 471)\n",
      "서울특별시 중구 장충동2가 산14-21\n",
      "서울특별시 중구 남산공원길 125-72(예장동 산5-6)\n",
      "서울특별시 중구 예장동 8-1\n",
      "서울특별시 중구 예장동 8-1\n",
      "서울특별시 중구 필동로1길 30(장충동2가 192-5)\n",
      "서울특별시 중구 장충단로 72(장충동2가 201-6)\n",
      "서울특별시 중구 동호로 249(장충동2가 202)\n",
      "서울특별시 중구 장충단로 59(장충동2가 산14-67)\n",
      "서울특별시 중구 동호로30길 2(장충동2가 186-140)\n",
      "서울특별시 중구 동호로 257-10(장충동2가 197)\n",
      "서울특별시 중구 장충단로 176-8(장충동1가 62-59)\n"
     ]
    }
   ],
   "source": [
    "for i in range(15):\n",
    "     print(data['spot_Data'][i]['spot_Address'][1])\n"
   ]
  }
 ],
 "metadata": {
  "colab": {
   "authorship_tag": "ABX9TyMM9bcGMQdkO/nwIX0kAuhm",
   "collapsed_sections": [],
   "name": "08_crawler.ipynb",
   "provenance": []
  },
  "kernelspec": {
   "display_name": "Python 3",
   "language": "python",
   "name": "python3"
  },
  "language_info": {
   "codemirror_mode": {
    "name": "ipython",
    "version": 3
   },
   "file_extension": ".py",
   "mimetype": "text/x-python",
   "name": "python",
   "nbconvert_exporter": "python",
   "pygments_lexer": "ipython3",
   "version": "3.9.4"
  },
  "toc": {
   "base_numbering": 1,
   "nav_menu": {},
   "number_sections": true,
   "sideBar": true,
   "skip_h1_title": true,
   "title_cell": "Table of Contents",
   "title_sidebar": "Contents",
   "toc_cell": false,
   "toc_position": {},
   "toc_section_display": true,
   "toc_window_display": false
  },
  "varInspector": {
   "cols": {
    "lenName": 16,
    "lenType": 16,
    "lenVar": 40
   },
   "kernels_config": {
    "python": {
     "delete_cmd_postfix": "",
     "delete_cmd_prefix": "del ",
     "library": "var_list.py",
     "varRefreshCmd": "print(var_dic_list())"
    },
    "r": {
     "delete_cmd_postfix": ") ",
     "delete_cmd_prefix": "rm(",
     "library": "var_list.r",
     "varRefreshCmd": "cat(var_dic_list()) "
    }
   },
   "types_to_exclude": [
    "module",
    "function",
    "builtin_function_or_method",
    "instance",
    "_Feature"
   ],
   "window_display": false
  }
 },
 "nbformat": 4,
 "nbformat_minor": 1
}
