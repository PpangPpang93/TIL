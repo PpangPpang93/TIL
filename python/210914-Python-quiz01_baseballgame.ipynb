{
 "cells": [
  {
   "cell_type": "markdown",
   "metadata": {},
   "source": [
    "#### 1. 퍼즐 스트라이크\n",
    "- 0~9 까지의 숫자 세개를 랜덤으로 생성\n",
    "- 랜덤으로 생성된 숫자는 중복되면 안됨\n",
    "- 세개의 숫자를 입력받아 랜덤으로 생성된 세개의 숫자를 맞추는 게임\n",
    "- 세개의 숫자를 맞출때까지 계속 숫자를 입력받음\n",
    "- 세개의 숫자중에 자릿수와 숫자가 맞으면 strike\n",
    "- 세개의 숫자중에 숫자는 맞지만 자리수가 안 맞으면 ball\n",
    "- 아무것도 안 맞으면 out\n",
    "- 모두 맞추면 입력한 횟수를 출력하고 반복문 종료\n",
    "\n",
    "- 예시\n",
    "    - 랜덤한 숫자 : 6 2 8\n",
    "    - 입력 1 : 3 7 6\n",
    "        - 출력 : 0S 1B\n",
    "        - 설명 : 숫자 6이 있지만 자릿수가 틀림\n",
    "    - 입력 2 : 7 3 9\n",
    "        - 출력 : OUT\n",
    "        - 설명 : 입력한 모든 숫자가 없으므로 out\n",
    "    - 입력 3 : 6 8 2\n",
    "        - 출력 : 1S 2B \n",
    "        - 설명 : 숫자 6은 자릿수까지 맞으므로 1 strike\n",
    "        - 설명 : 숫자 8, 2는 자릿수가 틀리므로 2 ball\n",
    "    - 입력 4 : 6 2 8\n",
    "        - 출력 : 3S\n",
    "        - 설명 : 입력한 모든 숫자의 숫자와 자릿수가 맞으므로 3 strike"
   ]
  },
  {
   "cell_type": "markdown",
   "metadata": {},
   "source": [
    "<p style=\"text-align:center;\">랜덤한 숫자 : 6, 2, 8<p>\n",
    "\n",
    "|횟수|숫자1|숫자2|숫자3| 판정 |\n",
    "|----|-----|-----|-----|------|\n",
    "|  1 |  3  |  7  |  6  | 0S 1B| \n",
    "|  2 |  7  |  3  |  9  |  OUT | \n",
    "|  3 |  6  |  8  |  2  | 1S 2B| \n",
    "|  4 |  6  |  2  |  8  | 3S 0B| \n",
    "\n"
   ]
  },
  {
   "cell_type": "code",
   "execution_count": 1,
   "metadata": {
    "ExecuteTime": {
     "end_time": "2021-09-14T04:45:56.962390Z",
     "start_time": "2021-09-14T04:45:26.369017Z"
    }
   },
   "outputs": [
    {
     "name": "stdout",
     "output_type": "stream",
     "text": [
      "숫자 3개를 입력하세요(띄어쓰기로 구분) : 1 2 3\n",
      "OUT\n",
      "숫자 3개를 입력하세요(띄어쓰기로 구분) : 4 5 6\n",
      "0S 2B\n",
      "숫자 3개를 입력하세요(띄어쓰기로 구분) : 6 5 7\n",
      "1S 2B\n",
      "숫자 3개를 입력하세요(띄어쓰기로 구분) : 7 6 5\n",
      "1S 2B\n",
      "숫자 3개를 입력하세요(띄어쓰기로 구분) : 7 5 6\n",
      "0S 3B\n",
      "숫자 3개를 입력하세요(띄어쓰기로 구분) : 5 6 7\n",
      "3S 0B\n",
      "입력횟수 : 6\n",
      "정답 : [5, 6, 7]\n"
     ]
    }
   ],
   "source": [
    "import random\n",
    "\n",
    "# 입력받을 변수 설정 \n",
    "ran_num = []\n",
    "count = 0\n",
    "# num_input =[] 변수 파악을 위해 임시 설정\n",
    "\n",
    "# 랜덤한 숫자 리스트 생성\n",
    "for i in range(3):\n",
    "    ran_num.append(random.randint(0,9))\n",
    "ran_num = set(ran_num)\n",
    "\n",
    "## 랜덤하게 생성된 숫자 중복 제거\n",
    "while len(ran_num) < 3:\n",
    "    ran_num = list(ran_num)\n",
    "    ran_num.append(random.randint(0,9))\n",
    "ran_num = list(ran_num)\n",
    "\n",
    "# print(ran_num) # 랜덤으로 생성된 수 (정답)\n",
    "\n",
    "# 게임 시작\n",
    "while True:\n",
    "    \n",
    "    # 숫자 3개 입력\n",
    "    num_input = [int(x) for x in input(\"숫자 3개를 입력하세요(띄어쓰기로 구분) : \").split(\" \")]\n",
    "    count += 1 # 입력 횟수 증가\n",
    "    \n",
    "    # 입력한 숫자에 따른 S B카운트하기\n",
    "    strike = 0\n",
    "    ball = 0\n",
    "    for i in range(3):\n",
    "        if (ran_num[i] in num_input) and (ran_num[i] == num_input[i]) : \n",
    "            strike += 1\n",
    "        elif (ran_num[i] in num_input) and (ran_num[i] != num_input[i]) : \n",
    "            ball +=1\n",
    "            \n",
    "    # 한개도 맞는 숫자가 없는 경우 OUT 출력, 아닌경우 현재 진행상황 출력\n",
    "    if (ran_num[0] not in num_input) and (ran_num[1] not in num_input) and (ran_num[2] not in num_input):\n",
    "        print(\"OUT\")\n",
    "    else : \n",
    "        print(f\"{strike}S {ball}B\")\n",
    "\n",
    "    # 3S가 나오면 게임 종료\n",
    "    if strike == 3:\n",
    "        print(f\"입력횟수 : {count}\")\n",
    "        break;\n",
    "\n",
    "print(f\"정답 : {ran_num}\")"
   ]
  },
  {
   "cell_type": "code",
   "execution_count": null,
   "metadata": {},
   "outputs": [],
   "source": []
  }
 ],
 "metadata": {
  "kernelspec": {
   "display_name": "Python 3 (ipykernel)",
   "language": "python",
   "name": "python3"
  },
  "language_info": {
   "codemirror_mode": {
    "name": "ipython",
    "version": 3
   },
   "file_extension": ".py",
   "mimetype": "text/x-python",
   "name": "python",
   "nbconvert_exporter": "python",
   "pygments_lexer": "ipython3",
   "version": "3.9.6"
  },
  "toc": {
   "base_numbering": 1,
   "nav_menu": {},
   "number_sections": true,
   "sideBar": true,
   "skip_h1_title": false,
   "title_cell": "Table of Contents",
   "title_sidebar": "Contents",
   "toc_cell": false,
   "toc_position": {},
   "toc_section_display": true,
   "toc_window_display": false
  },
  "varInspector": {
   "cols": {
    "lenName": 16,
    "lenType": 16,
    "lenVar": 40
   },
   "kernels_config": {
    "python": {
     "delete_cmd_postfix": "",
     "delete_cmd_prefix": "del ",
     "library": "var_list.py",
     "varRefreshCmd": "print(var_dic_list())"
    },
    "r": {
     "delete_cmd_postfix": ") ",
     "delete_cmd_prefix": "rm(",
     "library": "var_list.r",
     "varRefreshCmd": "cat(var_dic_list()) "
    }
   },
   "types_to_exclude": [
    "module",
    "function",
    "builtin_function_or_method",
    "instance",
    "_Feature"
   ],
   "window_display": false
  }
 },
 "nbformat": 4,
 "nbformat_minor": 4
}
