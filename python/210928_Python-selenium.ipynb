{
 "cells": [
  {
   "cell_type": "markdown",
   "metadata": {
    "slideshow": {
     "slide_type": "slide"
    }
   },
   "source": [
    "# 데이터 크롤링"
   ]
  },
  {
   "cell_type": "markdown",
   "metadata": {
    "slideshow": {
     "slide_type": "slide"
    }
   },
   "source": [
    "## selenium(셀레니움)\n",
    "    \n",
    "> 웹 어플리케이션 테스트를 위한 프레임워크.  \n",
    "다양한 브라우저 작동을 지원하며 크롤링에도 활용가능.  \n",
    "정적, 동적페이지 크롤링으로도 접근이 불가능한 데이터에 접근할 때 유용하게 사용  \n",
    "현존하는 거의 모든 웹브라우저를 다양한 언어를 통해 제어 가능"
   ]
  },
  {
   "cell_type": "markdown",
   "metadata": {
    "slideshow": {
     "slide_type": "slide"
    }
   },
   "source": [
    "## selenium Setting\n",
    "\n",
    "> 사용해야 하는 브라우저의 웹드라이버 다운 필요  \n",
    "크롬 환경설정 -> 크롬 정보로 크롬 버전 확인 필요  \n",
    "    \n",
    ">> 크롬 드라이버 다운로드  \n",
    "https://chromedriver.chromium.org/downloads\n",
    "    \n",
    "셀레니움은 이 웹 드라이버 API를 제어하는 파이썬 패키지입니다."
   ]
  },
  {
   "cell_type": "code",
   "execution_count": 1,
   "metadata": {
    "ExecuteTime": {
     "end_time": "2021-09-28T00:23:25.801057Z",
     "start_time": "2021-09-28T00:23:23.369616Z"
    },
    "scrolled": true,
    "slideshow": {
     "slide_type": "slide"
    }
   },
   "outputs": [
    {
     "name": "stdout",
     "output_type": "stream",
     "text": [
      "Collecting selenium\n",
      "  Using cached selenium-3.141.0-py2.py3-none-any.whl (904 kB)\n",
      "Requirement already satisfied: urllib3 in /Users/ppangppang/opt/anaconda3/envs/ppangppang/lib/python3.9/site-packages (from selenium) (1.26.4)\n",
      "Installing collected packages: selenium\n",
      "Successfully installed selenium-3.141.0\n"
     ]
    }
   ],
   "source": [
    "# 셀레니움 설치\n",
    "# !pip install selenium"
   ]
  },
  {
   "cell_type": "code",
   "execution_count": 263,
   "metadata": {
    "ExecuteTime": {
     "end_time": "2021-09-28T04:10:06.304086Z",
     "start_time": "2021-09-28T04:10:05.444788Z"
    },
    "slideshow": {
     "slide_type": "fragment"
    }
   },
   "outputs": [],
   "source": [
    "# 셀레니움 import\n",
    "import pandas as pd\n",
    "import numpy as np\n",
    "import matplotlib.pyplot as plt\n",
    "import seaborn as sns\n",
    "import requests\n",
    "import json\n",
    "import time\n",
    "from pandas.io.json import json_normalize\n",
    "from bs4 import BeautifulSoup\n",
    "from selenium import webdriver\n",
    "from selenium.webdriver.common.keys import Keys\n",
    "import time"
   ]
  },
  {
   "cell_type": "markdown",
   "metadata": {
    "slideshow": {
     "slide_type": "slide"
    }
   },
   "source": [
    "## 간단한 브라우저 컨트롤로 기본 개념잡기\n",
    "강의자료에 포함 된 코드는 강의자료 작성 시 확인 된 내용으로 현재시점의 웹 소스코드 변경 시 작동하지 않을 수 있습니다."
   ]
  },
  {
   "cell_type": "code",
   "execution_count": 24,
   "metadata": {
    "ExecuteTime": {
     "end_time": "2021-09-28T01:08:17.651074Z",
     "start_time": "2021-09-28T01:08:14.960645Z"
    }
   },
   "outputs": [],
   "source": [
    "# 크롬창 열기\n",
    "driver = webdriver.Chrome('')"
   ]
  },
  {
   "cell_type": "code",
   "execution_count": 25,
   "metadata": {
    "ExecuteTime": {
     "end_time": "2021-09-28T01:08:26.441841Z",
     "start_time": "2021-09-28T01:08:24.474778Z"
    }
   },
   "outputs": [],
   "source": [
    "# 설정한 url로 데이터 get함수로 요청\n",
    "url = 'https://naver.com'\n",
    "\n",
    "# webdriver로 들어가기때문에 requests 말고 driver에 요청해야한다.\n",
    "driver.get(url)"
   ]
  },
  {
   "cell_type": "code",
   "execution_count": 19,
   "metadata": {
    "ExecuteTime": {
     "end_time": "2021-09-28T00:50:11.037796Z",
     "start_time": "2021-09-28T00:50:08.089340Z"
    }
   },
   "outputs": [
    {
     "name": "stdout",
     "output_type": "stream",
     "text": [
      "키워드를 입력하세요 : 오징어게임\n"
     ]
    }
   ],
   "source": [
    "# 키워드를 입력받아 검색창의 xpath에 send_keys 함수로 키워드 입력 \n",
    "# 크롤링할때는 직접적인 제어를 할 수 없었지만, 셀레니움은 Xpath로 직접 작동시킬 수 있다\n",
    "# 마우스 클릭 등 : find_element_by_xpath\n",
    "key_word = input('키워드를 입력하세요 : ') + '\\n' # 키워드 입력 후 엔터\n",
    "# 녹색창에 입력값 지우기 : clear\n",
    "driver.find_element_by_xpath('//*[@id=\"query\"]').clear\n",
    "# 녹색창에 입력값 넣기 : send_keys()로 키워드 전달\n",
    "driver.find_element_by_xpath('//*[@id=\"query\"]').send_keys(key_word)"
   ]
  },
  {
   "cell_type": "code",
   "execution_count": 22,
   "metadata": {
    "ExecuteTime": {
     "end_time": "2021-09-28T00:51:56.233765Z",
     "start_time": "2021-09-28T00:51:55.569821Z"
    }
   },
   "outputs": [],
   "source": [
    "# 검색결과의 news 탭 클릭\n",
    "driver.find_element_by_xpath('//*[@id=\"lnb\"]/div[1]/div/ul/li[7]/a').click()"
   ]
  },
  {
   "cell_type": "markdown",
   "metadata": {
    "ExecuteTime": {
     "end_time": "2021-09-28T01:07:46.362089Z",
     "start_time": "2021-09-28T01:07:46.356598Z"
    }
   },
   "source": [
    "## 네이버 로그인"
   ]
  },
  {
   "cell_type": "code",
   "execution_count": 26,
   "metadata": {
    "ExecuteTime": {
     "end_time": "2021-09-28T01:09:02.972535Z",
     "start_time": "2021-09-28T01:09:02.969795Z"
    }
   },
   "outputs": [],
   "source": [
    "# 카페 정보 등을 확인\n",
    "url = 'https://naver.com'\n",
    "driver.get(url)"
   ]
  },
  {
   "cell_type": "code",
   "execution_count": 32,
   "metadata": {
    "ExecuteTime": {
     "end_time": "2021-09-28T01:14:11.555019Z",
     "start_time": "2021-09-28T01:14:11.366278Z"
    }
   },
   "outputs": [],
   "source": [
    "user_id = ''\n",
    "pw = ''\n",
    "driver.find_element_by_xpath('//*[@id=\"id\"]').send_keys(user_id)\n",
    "driver.find_element_by_xpath('//*[@id=\"pw\"]').send_keys(pw) + '\\n'\n",
    "\n",
    "# driver.find_element_by_xpath('//*[@id=\"log.login\"]').click() # pw뒤에 바로 엔터를해도 된다"
   ]
  },
  {
   "cell_type": "markdown",
   "metadata": {},
   "source": [
    "## 인스타그램 크롤링"
   ]
  },
  {
   "cell_type": "code",
   "execution_count": 201,
   "metadata": {
    "ExecuteTime": {
     "end_time": "2021-09-28T03:42:57.570090Z",
     "start_time": "2021-09-28T03:42:53.993764Z"
    }
   },
   "outputs": [],
   "source": [
    "# 컨트롤 할 크롬 브라우저 생성\n",
    "driver = webdriver.Chrome('/Users/ppangppang/Desktop/ssac/02.Python_/Python_Basic_Class/chromedriver')"
   ]
  },
  {
   "cell_type": "code",
   "execution_count": 202,
   "metadata": {
    "ExecuteTime": {
     "end_time": "2021-09-28T03:43:10.237378Z",
     "start_time": "2021-09-28T03:43:06.427860Z"
    }
   },
   "outputs": [],
   "source": [
    "# url 페이지 이동\n",
    "url = 'https://www.instagram.com/'\n",
    "driver.get(url)"
   ]
  },
  {
   "cell_type": "code",
   "execution_count": 203,
   "metadata": {
    "ExecuteTime": {
     "end_time": "2021-09-28T03:43:23.704812Z",
     "start_time": "2021-09-28T03:43:13.138547Z"
    }
   },
   "outputs": [],
   "source": [
    "# 인스타로 로그인\n",
    "ins_id = ''\n",
    "ins_pw = ''\n",
    "# 입력\n",
    "driver.find_element_by_xpath('//*[@id=\"loginForm\"]/div/div[1]/div/label/input').send_keys(ins_id)\n",
    "driver.find_element_by_xpath('//*[@id=\"loginForm\"]/div/div[2]/div/label/input').send_keys(ins_pw)\n",
    "driver.find_element_by_xpath('//*[@id=\"loginForm\"]/div/div[3]').click()\n",
    "time.sleep(7)"
   ]
  },
  {
   "cell_type": "code",
   "execution_count": 204,
   "metadata": {
    "ExecuteTime": {
     "end_time": "2021-09-28T03:44:26.831366Z",
     "start_time": "2021-09-28T03:44:13.513997Z"
    }
   },
   "outputs": [],
   "source": [
    "driver.find_element_by_xpath('//*[@id=\"react-root\"]/section/main/div/div/div/div/button').click()\n",
    "time.sleep(5)"
   ]
  },
  {
   "cell_type": "code",
   "execution_count": null,
   "metadata": {
    "ExecuteTime": {
     "end_time": "2021-09-28T03:44:29.111362Z",
     "start_time": "2021-09-28T03:44:29.081900Z"
    },
    "scrolled": true
   },
   "outputs": [],
   "source": [
    "# 알림설정 팝업창 나중에 하기 클릭\n",
    "driver.find_element_by_xpath('/html/body/div[5]/div/div/div/div[3]/button[2]').click()\n",
    "time.sleep(5)"
   ]
  },
  {
   "cell_type": "code",
   "execution_count": null,
   "metadata": {
    "ExecuteTime": {
     "end_time": "2021-09-28T03:45:12.081925Z",
     "start_time": "2021-09-28T03:45:12.017451Z"
    }
   },
   "outputs": [],
   "source": [
    "# 검색 키워드로 크롤링을 하기 위해 검색어 입력\n",
    "driver.find_element_by_xpath('//*[@id=\"react-root\"]/section/nav/div[2]/div/div/div[2]/input').send_keys(\"해방촌\")\n",
    "time.sleep(5)"
   ]
  },
  {
   "cell_type": "code",
   "execution_count": 211,
   "metadata": {
    "ExecuteTime": {
     "end_time": "2021-09-28T03:45:56.298147Z",
     "start_time": "2021-09-28T03:45:50.058969Z"
    }
   },
   "outputs": [],
   "source": [
    "# 첫번째 항목 접근\n",
    "driver.find_element_by_xpath('//*[@id=\"f30e2beb36827c\"]/div/div').click()\n",
    "time.sleep(5)"
   ]
  },
  {
   "cell_type": "code",
   "execution_count": 212,
   "metadata": {
    "ExecuteTime": {
     "end_time": "2021-09-28T03:46:03.056006Z",
     "start_time": "2021-09-28T03:45:57.698897Z"
    }
   },
   "outputs": [],
   "source": [
    "# 첫번째 포스팅 클릭\n",
    "driver.find_element_by_xpath('//*[@id=\"react-root\"]/section/main/article/div[1]/div/div/div[1]/div[1]/a/div[1]/div[2]').click()\n",
    "time.sleep(5)"
   ]
  },
  {
   "cell_type": "code",
   "execution_count": 65,
   "metadata": {
    "ExecuteTime": {
     "end_time": "2021-09-28T02:13:18.422107Z",
     "start_time": "2021-09-28T02:13:18.228914Z"
    }
   },
   "outputs": [],
   "source": [
    "# 좋아요 누르기\n",
    "driver.find_element_by_xpath('/html/body/div[6]/div[2]/div/article/div/div[3]/div/div/section[1]/span[1]/button').click()"
   ]
  },
  {
   "cell_type": "code",
   "execution_count": 75,
   "metadata": {
    "ExecuteTime": {
     "end_time": "2021-09-28T02:17:49.476973Z",
     "start_time": "2021-09-28T02:17:49.243585Z"
    }
   },
   "outputs": [],
   "source": [
    "# 댓글 달기\n",
    "driver.find_element_by_xpath('/html/body/div[6]/div[2]/div/article/div/div[3]/div/div/section[1]/span[2]/button').click()\n",
    "driver.find_element_by_xpath('/html/body/div[6]/div[2]/div/article/div/div[3]/div/div/section[3]/div/form/textarea').send_keys('카페가 이쁘네요')\n",
    "# driver.find_element_by_xpath('/html/body/div[6]/div[2]/div/article/div/div[3]/div/div/section[3]/div/form/button[2]').click()"
   ]
  },
  {
   "cell_type": "code",
   "execution_count": 78,
   "metadata": {
    "ExecuteTime": {
     "end_time": "2021-09-28T02:26:42.988491Z",
     "start_time": "2021-09-28T02:26:42.961431Z"
    }
   },
   "outputs": [],
   "source": [
    "# 포스팅 image url 따오기\n",
    "# 기존의 html 셀렉터를 만들어서 전달, css_selector 사용\n",
    "# html.select('필요한 클래스 위치 등')\n",
    "# 여기서 가져오는건 driver 객체 형태로 받아온다\n",
    "image = driver.find_element_by_css_selector('img.FFVAD')"
   ]
  },
  {
   "cell_type": "code",
   "execution_count": 84,
   "metadata": {
    "ExecuteTime": {
     "end_time": "2021-09-28T02:38:49.577745Z",
     "start_time": "2021-09-28T02:38:49.572955Z"
    }
   },
   "outputs": [
    {
     "data": {
      "text/plain": [
       "<selenium.webdriver.remote.webelement.WebElement (session=\"ff8bdb14ddd819a49df2fc0114e9664b\", element=\"6e851ca2-53cd-4e39-8375-703337387f98\")>"
      ]
     },
     "execution_count": 84,
     "metadata": {},
     "output_type": "execute_result"
    }
   ],
   "source": [
    "image"
   ]
  },
  {
   "cell_type": "code",
   "execution_count": 82,
   "metadata": {
    "ExecuteTime": {
     "end_time": "2021-09-28T02:30:06.260454Z",
     "start_time": "2021-09-28T02:30:06.239470Z"
    }
   },
   "outputs": [
    {
     "data": {
      "text/plain": [
       "'https://scontent-ssn1-1.cdninstagram.com/v/t51.2885-15/e35/p1080x1080/242659454_996066784511424_8871239075730214181_n.jpg?_nc_ht=scontent-ssn1-1.cdninstagram.com&_nc_cat=100&_nc_ohc=rkjF2Gtfoz4AX_8ovRm&edm=AP_V10EBAAAA&ccb=7-4&oh=ef08ec10e412e3c241d62dd841ff8b0e&oe=6159E2AF&_nc_sid=4f375e'"
      ]
     },
     "execution_count": 82,
     "metadata": {},
     "output_type": "execute_result"
    }
   ],
   "source": [
    "image_url = image.get_attribute('src')\n",
    "# 크롤링할때 링크 가져온거랑 같은 느낌\n",
    "image_url"
   ]
  },
  {
   "cell_type": "code",
   "execution_count": 83,
   "metadata": {
    "ExecuteTime": {
     "end_time": "2021-09-28T02:32:58.668813Z",
     "start_time": "2021-09-28T02:32:58.569430Z"
    }
   },
   "outputs": [
    {
     "data": {
      "text/plain": [
       "('./data/test_image.jpg', <http.client.HTTPMessage at 0x7f8272ec8880>)"
      ]
     },
     "execution_count": 83,
     "metadata": {},
     "output_type": "execute_result"
    }
   ],
   "source": [
    "# 이미지 저장을 위한 패키지\n",
    "import urllib\n",
    "# 이미지 저장\n",
    "urllib.request.urlretrieve(image_url, './data/test_image.jpg')"
   ]
  },
  {
   "cell_type": "code",
   "execution_count": 304,
   "metadata": {
    "ExecuteTime": {
     "end_time": "2021-09-28T04:15:47.382053Z",
     "start_time": "2021-09-28T04:15:47.286332Z"
    }
   },
   "outputs": [],
   "source": [
    "html = BeautifulSoup(driver.page_source, 'html.parser')"
   ]
  },
  {
   "cell_type": "code",
   "execution_count": 305,
   "metadata": {
    "ExecuteTime": {
     "end_time": "2021-09-28T04:15:47.468218Z",
     "start_time": "2021-09-28T04:15:47.460339Z"
    },
    "scrolled": true
   },
   "outputs": [
    {
     "data": {
      "text/plain": [
       "['#에그앤플라워',\n",
       " '#해방촌',\n",
       " '#해방촌맛집',\n",
       " '#해방촌파스타',\n",
       " '#남산뷰',\n",
       " '#파스타맛집',\n",
       " '#생면파스타',\n",
       " '#테라스맛집',\n",
       " '#뷰맛집',\n",
       " '#이태원맛집',\n",
       " '#한남동맛집',\n",
       " '#녹사평맛집',\n",
       " '#용산맛집']"
      ]
     },
     "execution_count": 305,
     "metadata": {},
     "output_type": "execute_result"
    }
   ],
   "source": [
    "tag = [tag.text for tag in html.select('a.xil3i')]\n",
    "tag"
   ]
  },
  {
   "cell_type": "markdown",
   "metadata": {},
   "source": [
    "## 인스타 셀레니움 크롤링 코드 합치기"
   ]
  },
  {
   "cell_type": "code",
   "execution_count": null,
   "metadata": {},
   "outputs": [],
   "source": [
    "# 로그인\n",
    "# 키워드 검색\n",
    "# 해당 키워드로 검색한 포스팅의 작성일자, 좋아요 수, 태그\n",
    "#(option) 이미지 돌면서 이미지도 저장\n",
    "# 마지막 꺽쇠 에러 처리\n",
    "# 게시물 50개(데이터 프레임으로)"
   ]
  },
  {
   "cell_type": "code",
   "execution_count": 436,
   "metadata": {
    "ExecuteTime": {
     "end_time": "2021-09-28T06:23:36.536932Z",
     "start_time": "2021-09-28T06:22:09.510822Z"
    }
   },
   "outputs": [
    {
     "name": "stdout",
     "output_type": "stream",
     "text": [
      "검색할 게시물 수 입력 : 5\n"
     ]
    }
   ],
   "source": [
    "# 컨트롤 할 크롬 브라우저 생성\n",
    "driver = webdriver.Chrome('/Users/ppangppang/Desktop/ssac/02.Python_/Python_Basic_Class/chromedriver')\n",
    "\n",
    "# url 페이지 이동\n",
    "url = 'https://www.instagram.com/'\n",
    "driver.get(url)\n",
    "time.sleep(5)\n",
    "\n",
    "# 인스타로 로그인\n",
    "ins_id = ''\n",
    "ins_pw = ''\n",
    "\n",
    "driver.find_element_by_xpath('//*[@id=\"loginForm\"]/div/div[1]/div/label/input').send_keys(ins_id)\n",
    "driver.find_element_by_xpath('//*[@id=\"loginForm\"]/div/div[2]/div/label/input').send_keys(ins_pw)\n",
    "driver.find_element_by_xpath('//*[@id=\"loginForm\"]/div/div[3]').click()\n",
    "time.sleep(7)\n",
    "\n",
    "# 로그인 정보 저장여부\n",
    "driver.find_element_by_xpath('//*[@id=\"react-root\"]/section/main/div/div/div/div/button').click()\n",
    "time.sleep(5)\n",
    "\n",
    "# 알림설정 팝업창 나중에 하기 클릭\n",
    "try:\n",
    "    driver.find_element_by_xpath('/html/body/div[5]/div/div/div/div[3]/button[2]').click()\n",
    "    time.sleep(5)\n",
    "    driver.find_element_by_xpath('/html/body/div[5]/div/div/div/div[3]/button[2]').click()\n",
    "    time.sleep(5)\n",
    "    driver.find_element_by_xpath('/html/body/div[5]/div/div/div/div[3]/button[2]').click()\n",
    "    time.sleep(5)\n",
    "    driver.find_element_by_xpath('/html/body/div[5]/div/div/div/div[3]/button[2]').click()\n",
    "    time.sleep(5)\n",
    "    driver.find_element_by_xpath('/html/body/div[6]/div/div/div/div[3]/button[2]').click()\n",
    "    time.sleep(5)\n",
    "except: \n",
    "    try:\n",
    "        driver.find_element_by_xpath('/html/body/div[6]/div/div/div/div[3]/button[2]').click()\n",
    "        time.sleep(5)\n",
    "    except: pass\n",
    "    \n",
    "# 검색 키워드로 크롤링을 하기 위해 검색어 입력\n",
    "driver.find_element_by_xpath('//*[@id=\"react-root\"]/section/nav/div[2]/div/div/div[2]/input').send_keys(\"루프탑\")\n",
    "time.sleep(5)\n",
    "\n",
    "# 첫번째 검색어 클릭\n",
    "driver.find_element_by_xpath('//*[@id=\"react-root\"]/section/nav/div[2]/div/div/div[2]/div[3]/div/div[2]/div/div[1]/a/div').click()\n",
    "time.sleep(7)\n",
    "\n",
    "# 첫번째 포스팅 클릭\n",
    "# 얘도 몇가지 종류가 있는듯\n",
    "driver.find_element_by_xpath('//*[@id=\"react-root\"]/section/main/article/div[1]/div/div/div[1]/div[1]/a/div[1]/div[2]').click()\n",
    "time.sleep(5)\n",
    "\n",
    "# 변수 저장\n",
    "# 검색할 게시물 수 입력\n",
    "try:\n",
    "    num = int(input(\"검색할 게시물 수 입력 : \"))\n",
    "except:\n",
    "    print('오류 발생, 윗부분 주석처리하고 다시 실행하시오')\n",
    "# number = [i for i in range(1,num+1)]\n",
    "date = [i for i in range(1,num+1)]\n",
    "like = [i for i in range(1,num+1)]\n",
    "tag = [i for i in range(1,num+1)]\n",
    "\n",
    "for page in range(num):\n",
    "    if page ==0:\n",
    "        try: # 좋아요가 없거나 한개인 경우, 크롤링이 안된다.\n",
    "            html = BeautifulSoup(driver.page_source, 'html.parser')\n",
    "            date[page] = html.select('time._1o9PC.Nzb55')[0].text\n",
    "            like[page] = html.select('a.zV_Nj')[1].text\n",
    "            temp = [tag.text for tag in html.select('a.xil3i')]\n",
    "            tag[page] = temp\n",
    "        except: pass\n",
    "        \n",
    "        # 첫페이지에만 작동하는 클릭\n",
    "        driver.find_element_by_xpath('/html/body/div[6]/div[1]/div/div/a').click()\n",
    "        time.sleep(2)\n",
    "        \n",
    "    else:\n",
    "        try:\n",
    "            html = BeautifulSoup(driver.page_source, 'html.parser')\n",
    "            date[page] = html.select('time._1o9PC.Nzb55')[0].text\n",
    "            like[page] = html.select('a.zV_Nj')[1].text\n",
    "            temp = [tag.text for tag in html.select('a.xil3i')]\n",
    "            tag[page] = temp        \n",
    "        except: pass\n",
    "        # 두번째 페이지에서 작동\n",
    "        driver.find_element_by_xpath('/html/body/div[6]/div[1]/div/div/a[2]').click()\n",
    "        time.sleep(2)\n",
    "df = pd.DataFrame(list(zip(date,like,tag)), columns = ['date','like','tag'])"
   ]
  },
  {
   "cell_type": "code",
   "execution_count": 438,
   "metadata": {
    "ExecuteTime": {
     "end_time": "2021-09-28T06:23:43.283544Z",
     "start_time": "2021-09-28T06:23:43.265059Z"
    },
    "scrolled": true
   },
   "outputs": [
    {
     "data": {
      "text/html": [
       "<div>\n",
       "<style scoped>\n",
       "    .dataframe tbody tr th:only-of-type {\n",
       "        vertical-align: middle;\n",
       "    }\n",
       "\n",
       "    .dataframe tbody tr th {\n",
       "        vertical-align: top;\n",
       "    }\n",
       "\n",
       "    .dataframe thead th {\n",
       "        text-align: right;\n",
       "    }\n",
       "</style>\n",
       "<table border=\"1\" class=\"dataframe\">\n",
       "  <thead>\n",
       "    <tr style=\"text-align: right;\">\n",
       "      <th></th>\n",
       "      <th>num</th>\n",
       "      <th>date</th>\n",
       "      <th>like</th>\n",
       "      <th>tag</th>\n",
       "    </tr>\n",
       "  </thead>\n",
       "  <tbody>\n",
       "    <tr>\n",
       "      <th>0</th>\n",
       "      <td>1</td>\n",
       "      <td>7일 전</td>\n",
       "      <td>여러 명</td>\n",
       "      <td>[#메리가든, #강남, #신논현, #루프탑, #노을, #강남맛집, #신논현맛집, #...</td>\n",
       "    </tr>\n",
       "    <tr>\n",
       "      <th>1</th>\n",
       "      <td>2</td>\n",
       "      <td>9월 16일</td>\n",
       "      <td>여러 명</td>\n",
       "      <td>[#이태원, #루프탑, #커피앳더플레이스, #앤스커피클럽, #오리올케이크, #사유,...</td>\n",
       "    </tr>\n",
       "    <tr>\n",
       "      <th>2</th>\n",
       "      <td>3</td>\n",
       "      <td>9월 20일</td>\n",
       "      <td>여러 명</td>\n",
       "      <td>[#여의도, #여의도호텔, #페어몬트호텔, #마리포사, #m29, #나비, #루프탑...</td>\n",
       "    </tr>\n",
       "    <tr>\n",
       "      <th>3</th>\n",
       "      <td>4</td>\n",
       "      <td>9월 15일</td>\n",
       "      <td>여러 명</td>\n",
       "      <td>[]</td>\n",
       "    </tr>\n",
       "    <tr>\n",
       "      <th>4</th>\n",
       "      <td>5</td>\n",
       "      <td>9월 15일</td>\n",
       "      <td>여러 명</td>\n",
       "      <td>[#이런연예인또없습니다🙏🏻, #미담제조기, #안선영]</td>\n",
       "    </tr>\n",
       "  </tbody>\n",
       "</table>\n",
       "</div>"
      ],
      "text/plain": [
       "   num    date  like                                                tag\n",
       "0    1    7일 전  여러 명  [#메리가든, #강남, #신논현, #루프탑, #노을, #강남맛집, #신논현맛집, #...\n",
       "1    2  9월 16일  여러 명  [#이태원, #루프탑, #커피앳더플레이스, #앤스커피클럽, #오리올케이크, #사유,...\n",
       "2    3  9월 20일  여러 명  [#여의도, #여의도호텔, #페어몬트호텔, #마리포사, #m29, #나비, #루프탑...\n",
       "3    4  9월 15일  여러 명                                                 []\n",
       "4    5  9월 15일  여러 명                      [#이런연예인또없습니다🙏🏻, #미담제조기, #안선영]"
      ]
     },
     "execution_count": 438,
     "metadata": {},
     "output_type": "execute_result"
    }
   ],
   "source": [
    "df"
   ]
  }
 ],
 "metadata": {
  "kernelspec": {
   "display_name": "Python 3",
   "language": "python",
   "name": "python3"
  },
  "language_info": {
   "codemirror_mode": {
    "name": "ipython",
    "version": 3
   },
   "file_extension": ".py",
   "mimetype": "text/x-python",
   "name": "python",
   "nbconvert_exporter": "python",
   "pygments_lexer": "ipython3",
   "version": "3.9.4"
  },
  "toc": {
   "base_numbering": 1,
   "nav_menu": {},
   "number_sections": true,
   "sideBar": true,
   "skip_h1_title": true,
   "title_cell": "Table of Contents",
   "title_sidebar": "Contents",
   "toc_cell": false,
   "toc_position": {},
   "toc_section_display": true,
   "toc_window_display": false
  },
  "varInspector": {
   "cols": {
    "lenName": 16,
    "lenType": 16,
    "lenVar": 40
   },
   "kernels_config": {
    "python": {
     "delete_cmd_postfix": "",
     "delete_cmd_prefix": "del ",
     "library": "var_list.py",
     "varRefreshCmd": "print(var_dic_list())"
    },
    "r": {
     "delete_cmd_postfix": ") ",
     "delete_cmd_prefix": "rm(",
     "library": "var_list.r",
     "varRefreshCmd": "cat(var_dic_list()) "
    }
   },
   "types_to_exclude": [
    "module",
    "function",
    "builtin_function_or_method",
    "instance",
    "_Feature"
   ],
   "window_display": false
  }
 },
 "nbformat": 4,
 "nbformat_minor": 2
}
