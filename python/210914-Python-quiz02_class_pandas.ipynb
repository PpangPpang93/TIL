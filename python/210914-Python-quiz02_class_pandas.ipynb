{
 "cells": [
  {
   "cell_type": "markdown",
   "metadata": {
    "slideshow": {
     "slide_type": "skip"
    }
   },
   "source": [
    "#### Quiz 1\n",
    "- `input`을 이용하여 숫자를 입력받는 코드를 작성하시오.\n",
    "    - 문자가 입력되면 에러 메시지를 보내고 다시 숫자를 입력받도록 만들어 주세요.\n",
    "- while, try-except, input() 이용\n",
    "\n",
    "\n",
    "- 결과\n",
    "```\n",
    "insert number : python\n",
    "숫자를 입력해주세요.\n",
    "insert number : !!!\n",
    "숫자를 입력해주세요.\n",
    "insert number : 1234\n",
    "숫자가 입력되었습니다 :  1234\n",
    "```"
   ]
  },
  {
   "cell_type": "code",
   "execution_count": 15,
   "metadata": {
    "ExecuteTime": {
     "end_time": "2021-09-14T04:59:08.911581Z",
     "start_time": "2021-09-14T04:59:04.274852Z"
    }
   },
   "outputs": [
    {
     "name": "stdout",
     "output_type": "stream",
     "text": [
      "insert number : ㅇㄹㅇㄹ\n",
      "숫자를 입력해주세요.\n",
      "insert number : 22ㄹㄹ\n",
      "숫자를 입력해주세요.\n",
      "insert number : 2222\n",
      "숫자가 입력되었습니다 : 2222\n"
     ]
    }
   ],
   "source": [
    "while test==0:\n",
    "    try:\n",
    "        num=int(input(\"insert number : \"))\n",
    "    except ValueError:\n",
    "        print(\"숫자를 입력해주세요.\")\n",
    "        num=input(\"insert number : \")\n",
    "        \n",
    "    if type(num) == int:\n",
    "        print(f\"숫자가 입력되었습니다 : {num}\")\n",
    "        break;\n",
    "    else :\n",
    "        print(\"숫자를 입력해주세요.\")"
   ]
  },
  {
   "cell_type": "code",
   "execution_count": 1,
   "metadata": {
    "slideshow": {
     "slide_type": "skip"
    }
   },
   "outputs": [
    {
     "name": "stdout",
     "output_type": "stream",
     "text": [
      "insert number : python\n",
      "숫자를 입력해주세요.\n",
      "insert number : !!!\n",
      "숫자를 입력해주세요.\n",
      "insert number : 1234\n",
      "숫자가 입력되었습니다 : 1234\n"
     ]
    }
   ],
   "source": [
    "# TODO"
   ]
  },
  {
   "cell_type": "markdown",
   "metadata": {
    "slideshow": {
     "slide_type": "slide"
    }
   },
   "source": [
    "#### Quiz 2\n",
    "- 이자율을 입력 받을때 이자율이 3 ~ 10 사이로 입력되도록 Account 클래스를 작성해주세요.\n",
    "- 3% 미만의 이자율을 객체로 만들때 생성하면 \"이자율을 3% 이상으로 설정해주세요.\" 메시지와 함께 에러를 발생\n",
    "- 10% 초과의 이자율을 객체로 만들때 생성하면 \"이자율을 10% 이하로 설정해주세요.\" 메시지와 함께 에러를 발생\n",
    "- if, elif, raise, class, Exception, 비교연산자 사용\n",
    "\n",
    "\n",
    "- 결과\n",
    "\n",
    "```\n",
    "# 객체 생성 1\n",
    "account1 = Account(2)\n",
    "\n",
    "# 에러 발생 1\n",
    "LowInterest: 이자율을 1.03 이상으로 설정해주세요.\n",
    "\n",
    "# 객체 생성 2\n",
    "account2 = Account(13)\n",
    "\n",
    "# 에러 발생 2\n",
    "HighInterest: 이자율을 1.10 이하로 설정해주세요.\n",
    "\n",
    "# 객체 생성 3\n",
    "account1 = Account(7)\n",
    "account1.disp()\n",
    "\n",
    "# 결과 출력\n",
    "계좌에 설정된 이자율은 7.0% 입니다\n",
    "\n",
    "```"
   ]
  },
  {
   "cell_type": "code",
   "execution_count": 2,
   "metadata": {
    "slideshow": {
     "slide_type": "skip"
    }
   },
   "outputs": [],
   "source": [
    "# TODO"
   ]
  },
  {
   "cell_type": "code",
   "execution_count": 16,
   "metadata": {
    "ExecuteTime": {
     "end_time": "2021-09-14T05:12:11.985500Z",
     "start_time": "2021-09-14T05:12:11.980548Z"
    },
    "slideshow": {
     "slide_type": "skip"
    }
   },
   "outputs": [],
   "source": [
    "class Account:\n",
    "    def __init__(self,interest):\n",
    "        self.interest = interest        \n",
    "        if interest > 10:\n",
    "            print(\"HighInterest: 이자율을 10% 이하로 설정해주세요.\")\n",
    "        elif interest < 3:\n",
    "            print(\"HighInterest: 이자율을 3% 이상으로 설정해주세요.\")        \n",
    "        else:\n",
    "            return(f\"계좌에 설정된 이자율은 {interst}\")"
   ]
  },
  {
   "cell_type": "code",
   "execution_count": 17,
   "metadata": {
    "ExecuteTime": {
     "end_time": "2021-09-14T05:12:12.534594Z",
     "start_time": "2021-09-14T05:12:12.531679Z"
    },
    "slideshow": {
     "slide_type": "skip"
    }
   },
   "outputs": [
    {
     "name": "stdout",
     "output_type": "stream",
     "text": [
      "HighInterest: 이자율을 3% 이상으로 설정해주세요.\n"
     ]
    }
   ],
   "source": [
    "account1 = Account(2)"
   ]
  },
  {
   "cell_type": "code",
   "execution_count": 18,
   "metadata": {
    "ExecuteTime": {
     "end_time": "2021-09-14T05:12:13.089074Z",
     "start_time": "2021-09-14T05:12:13.086311Z"
    }
   },
   "outputs": [
    {
     "name": "stdout",
     "output_type": "stream",
     "text": [
      "HighInterest: 이자율을 10% 이하로 설정해주세요.\n"
     ]
    }
   ],
   "source": [
    "account1 = Account(11)"
   ]
  },
  {
   "cell_type": "code",
   "execution_count": 5,
   "metadata": {
    "slideshow": {
     "slide_type": "skip"
    }
   },
   "outputs": [
    {
     "name": "stdout",
     "output_type": "stream",
     "text": [
      "이자율을 10% 이하로 설정해주세요.\n"
     ]
    }
   ],
   "source": [
    "try:\n",
    "    account1 = Account(15)\n",
    "except Exception as e:\n",
    "    print(e)"
   ]
  },
  {
   "cell_type": "code",
   "execution_count": 6,
   "metadata": {
    "slideshow": {
     "slide_type": "skip"
    }
   },
   "outputs": [
    {
     "data": {
      "text/plain": [
       "'계좌에 설정된 이자율은 7.0% 입니다'"
      ]
     },
     "execution_count": 6,
     "metadata": {},
     "output_type": "execute_result"
    }
   ],
   "source": [
    "account1 = Account(7)\n",
    "account1.disp()"
   ]
  },
  {
   "cell_type": "markdown",
   "metadata": {
    "slideshow": {
     "slide_type": "slide"
    }
   },
   "source": [
    "#### Quiz 3\n",
    "- 아래와 같이 데이터 프레임을 만드세요.\n",
    "- Column\n",
    "    - line(공장라인) : line1, line2, line3 중 하나의 데이터를 랜덤하게 저장\n",
    "    - good(양품) : 100 ~ 200 중 랜덤한 정수\n",
    "    - bad(불량) : 0 ~ 100 중 랜덤한 정수\n",
    "    - date(날짜) : 1 ~ 5 중 랜던한 정수\n",
    "- Row 데이터 : 10개"
   ]
  },
  {
   "cell_type": "code",
   "execution_count": 24,
   "metadata": {
    "ExecuteTime": {
     "end_time": "2021-09-14T08:07:06.120950Z",
     "start_time": "2021-09-14T08:07:06.099458Z"
    }
   },
   "outputs": [
    {
     "data": {
      "text/html": [
       "<div>\n",
       "<style scoped>\n",
       "    .dataframe tbody tr th:only-of-type {\n",
       "        vertical-align: middle;\n",
       "    }\n",
       "\n",
       "    .dataframe tbody tr th {\n",
       "        vertical-align: top;\n",
       "    }\n",
       "\n",
       "    .dataframe thead th {\n",
       "        text-align: right;\n",
       "    }\n",
       "</style>\n",
       "<table border=\"1\" class=\"dataframe\">\n",
       "  <thead>\n",
       "    <tr style=\"text-align: right;\">\n",
       "      <th></th>\n",
       "      <th>line</th>\n",
       "      <th>good</th>\n",
       "      <th>bad</th>\n",
       "      <th>date</th>\n",
       "    </tr>\n",
       "  </thead>\n",
       "  <tbody>\n",
       "    <tr>\n",
       "      <th>0</th>\n",
       "      <td>line3</td>\n",
       "      <td>196</td>\n",
       "      <td>41</td>\n",
       "      <td>3</td>\n",
       "    </tr>\n",
       "    <tr>\n",
       "      <th>1</th>\n",
       "      <td>line1</td>\n",
       "      <td>119</td>\n",
       "      <td>20</td>\n",
       "      <td>1</td>\n",
       "    </tr>\n",
       "    <tr>\n",
       "      <th>2</th>\n",
       "      <td>line2</td>\n",
       "      <td>112</td>\n",
       "      <td>1</td>\n",
       "      <td>1</td>\n",
       "    </tr>\n",
       "    <tr>\n",
       "      <th>3</th>\n",
       "      <td>line1</td>\n",
       "      <td>136</td>\n",
       "      <td>29</td>\n",
       "      <td>5</td>\n",
       "    </tr>\n",
       "    <tr>\n",
       "      <th>4</th>\n",
       "      <td>line1</td>\n",
       "      <td>182</td>\n",
       "      <td>29</td>\n",
       "      <td>1</td>\n",
       "    </tr>\n",
       "    <tr>\n",
       "      <th>5</th>\n",
       "      <td>line2</td>\n",
       "      <td>172</td>\n",
       "      <td>31</td>\n",
       "      <td>3</td>\n",
       "    </tr>\n",
       "    <tr>\n",
       "      <th>6</th>\n",
       "      <td>line2</td>\n",
       "      <td>116</td>\n",
       "      <td>51</td>\n",
       "      <td>2</td>\n",
       "    </tr>\n",
       "    <tr>\n",
       "      <th>7</th>\n",
       "      <td>line3</td>\n",
       "      <td>162</td>\n",
       "      <td>25</td>\n",
       "      <td>4</td>\n",
       "    </tr>\n",
       "    <tr>\n",
       "      <th>8</th>\n",
       "      <td>line1</td>\n",
       "      <td>153</td>\n",
       "      <td>28</td>\n",
       "      <td>4</td>\n",
       "    </tr>\n",
       "    <tr>\n",
       "      <th>9</th>\n",
       "      <td>line2</td>\n",
       "      <td>122</td>\n",
       "      <td>91</td>\n",
       "      <td>5</td>\n",
       "    </tr>\n",
       "  </tbody>\n",
       "</table>\n",
       "</div>"
      ],
      "text/plain": [
       "    line  good  bad  date\n",
       "0  line3   196   41     3\n",
       "1  line1   119   20     1\n",
       "2  line2   112    1     1\n",
       "3  line1   136   29     5\n",
       "4  line1   182   29     1\n",
       "5  line2   172   31     3\n",
       "6  line2   116   51     2\n",
       "7  line3   162   25     4\n",
       "8  line1   153   28     4\n",
       "9  line2   122   91     5"
      ]
     },
     "execution_count": 24,
     "metadata": {},
     "output_type": "execute_result"
    }
   ],
   "source": [
    "import numpy as np\n",
    "import pandas as pd\n",
    "import random\n",
    "\n",
    "line,good,bad,date,index_list=[],[],[],[],[]\n",
    "\n",
    "for i in range(10):\n",
    "    line.append(f\"line{random.randint(1,3)}\")\n",
    "    good.append(random.randint(100,200))\n",
    "    bad.append(random.randint(0,100))\n",
    "    date.append(random.randint(1,5))\n",
    "    index_list.append(i) \n",
    "    \n",
    "line = np.array(line)\n",
    "good = np.array(good)\n",
    "bad = np.array(bad)\n",
    "date = np.array(date)\n",
    "index_list = np.array(index_list)\n",
    "\n",
    "\n",
    "factory = pd.DataFrame({'line':[i for i in line],\n",
    "                        'good':[i for i in good],\n",
    "                        'bad':[i for i in bad],\n",
    "                        'date':[i for i in date]\n",
    "                       },index=range(0,10))\n",
    "\n",
    "factory"
   ]
  },
  {
   "cell_type": "markdown",
   "metadata": {
    "slideshow": {
     "slide_type": "slide"
    }
   },
   "source": [
    "#### Quiz 4\n",
    "- 위의 데이터 프레임에서 전체 양품수, 전체 불량수, 불량률을 소수 둘째 자리까지 출력하세요."
   ]
  },
  {
   "cell_type": "code",
   "execution_count": 25,
   "metadata": {
    "ExecuteTime": {
     "end_time": "2021-09-14T08:07:06.448597Z",
     "start_time": "2021-09-14T08:07:06.443353Z"
    }
   },
   "outputs": [
    {
     "name": "stdout",
     "output_type": "stream",
     "text": [
      "전체 양품수 : 1470, 전체 불량수 : 346\n",
      "전체 불량률 : 4.25 %\n"
     ]
    }
   ],
   "source": [
    "total_items = factory[\"good\"].sum()\n",
    "bad_items = factory[\"bad\"].sum()\n",
    "bad_rate = round(total_items/bad_items,2)\n",
    "print(\"전체 양품수 : {}, 전체 불량수 : {}\".format(total_items, bad_items))\n",
    "print(\"전체 불량률 : {} %\".format(bad_rate))"
   ]
  },
  {
   "cell_type": "markdown",
   "metadata": {
    "slideshow": {
     "slide_type": "slide"
    }
   },
   "source": [
    "#### Quiz 5\n",
    "- 생산라인별 전체 good(양품), bad(불량) 수를 데이터 프레임으로 출력하세요.\n",
    "- groupby 사용"
   ]
  },
  {
   "cell_type": "code",
   "execution_count": 26,
   "metadata": {
    "ExecuteTime": {
     "end_time": "2021-09-14T08:07:06.804205Z",
     "start_time": "2021-09-14T08:07:06.789562Z"
    }
   },
   "outputs": [
    {
     "data": {
      "text/html": [
       "<div>\n",
       "<style scoped>\n",
       "    .dataframe tbody tr th:only-of-type {\n",
       "        vertical-align: middle;\n",
       "    }\n",
       "\n",
       "    .dataframe tbody tr th {\n",
       "        vertical-align: top;\n",
       "    }\n",
       "\n",
       "    .dataframe thead th {\n",
       "        text-align: right;\n",
       "    }\n",
       "</style>\n",
       "<table border=\"1\" class=\"dataframe\">\n",
       "  <thead>\n",
       "    <tr style=\"text-align: right;\">\n",
       "      <th></th>\n",
       "      <th>line</th>\n",
       "      <th>good</th>\n",
       "      <th>bad</th>\n",
       "    </tr>\n",
       "  </thead>\n",
       "  <tbody>\n",
       "    <tr>\n",
       "      <th>0</th>\n",
       "      <td>line1</td>\n",
       "      <td>590</td>\n",
       "      <td>106</td>\n",
       "    </tr>\n",
       "    <tr>\n",
       "      <th>1</th>\n",
       "      <td>line2</td>\n",
       "      <td>522</td>\n",
       "      <td>174</td>\n",
       "    </tr>\n",
       "    <tr>\n",
       "      <th>2</th>\n",
       "      <td>line3</td>\n",
       "      <td>358</td>\n",
       "      <td>66</td>\n",
       "    </tr>\n",
       "  </tbody>\n",
       "</table>\n",
       "</div>"
      ],
      "text/plain": [
       "    line  good  bad\n",
       "0  line1   590  106\n",
       "1  line2   522  174\n",
       "2  line3   358   66"
      ]
     },
     "execution_count": 26,
     "metadata": {},
     "output_type": "execute_result"
    }
   ],
   "source": [
    "df1=factory.groupby('line', as_index=False).sum()\n",
    "df1.loc[0:2, df1.columns[:3]]"
   ]
  },
  {
   "cell_type": "markdown",
   "metadata": {
    "slideshow": {
     "slide_type": "slide"
    }
   },
   "source": [
    "#### Quiz 6\n",
    "- 생산 라인별 불량률을 출력하세요."
   ]
  },
  {
   "cell_type": "code",
   "execution_count": 27,
   "metadata": {
    "ExecuteTime": {
     "end_time": "2021-09-14T08:07:07.154847Z",
     "start_time": "2021-09-14T08:07:07.138009Z"
    }
   },
   "outputs": [
    {
     "data": {
      "text/html": [
       "<div>\n",
       "<style scoped>\n",
       "    .dataframe tbody tr th:only-of-type {\n",
       "        vertical-align: middle;\n",
       "    }\n",
       "\n",
       "    .dataframe tbody tr th {\n",
       "        vertical-align: top;\n",
       "    }\n",
       "\n",
       "    .dataframe thead th {\n",
       "        text-align: right;\n",
       "    }\n",
       "</style>\n",
       "<table border=\"1\" class=\"dataframe\">\n",
       "  <thead>\n",
       "    <tr style=\"text-align: right;\">\n",
       "      <th></th>\n",
       "      <th>line</th>\n",
       "      <th>good</th>\n",
       "      <th>bad</th>\n",
       "      <th>date</th>\n",
       "      <th>bad_rate</th>\n",
       "    </tr>\n",
       "  </thead>\n",
       "  <tbody>\n",
       "    <tr>\n",
       "      <th>0</th>\n",
       "      <td>line1</td>\n",
       "      <td>590</td>\n",
       "      <td>106</td>\n",
       "      <td>11</td>\n",
       "      <td>17.97</td>\n",
       "    </tr>\n",
       "    <tr>\n",
       "      <th>1</th>\n",
       "      <td>line2</td>\n",
       "      <td>522</td>\n",
       "      <td>174</td>\n",
       "      <td>11</td>\n",
       "      <td>33.33</td>\n",
       "    </tr>\n",
       "    <tr>\n",
       "      <th>2</th>\n",
       "      <td>line3</td>\n",
       "      <td>358</td>\n",
       "      <td>66</td>\n",
       "      <td>7</td>\n",
       "      <td>18.44</td>\n",
       "    </tr>\n",
       "  </tbody>\n",
       "</table>\n",
       "</div>"
      ],
      "text/plain": [
       "    line  good  bad  date  bad_rate\n",
       "0  line1   590  106    11     17.97\n",
       "1  line2   522  174    11     33.33\n",
       "2  line3   358   66     7     18.44"
      ]
     },
     "execution_count": 27,
     "metadata": {},
     "output_type": "execute_result"
    }
   ],
   "source": [
    "df1=factory.groupby('line', as_index=False).sum()\n",
    "df1.insert(4,'bad_rate', round(df1['bad']/df1['good']*100,2))\n",
    "df1"
   ]
  },
  {
   "cell_type": "markdown",
   "metadata": {
    "slideshow": {
     "slide_type": "slide"
    }
   },
   "source": [
    "#### Quiz 7\n",
    "- 날짜별 전체 good(양품), bad(불량) 수를 데이터 프레임으로 출력하세요.\n",
    "- groupby 사용"
   ]
  },
  {
   "cell_type": "code",
   "execution_count": 28,
   "metadata": {
    "ExecuteTime": {
     "end_time": "2021-09-14T08:07:07.584542Z",
     "start_time": "2021-09-14T08:07:07.569630Z"
    }
   },
   "outputs": [
    {
     "data": {
      "text/html": [
       "<div>\n",
       "<style scoped>\n",
       "    .dataframe tbody tr th:only-of-type {\n",
       "        vertical-align: middle;\n",
       "    }\n",
       "\n",
       "    .dataframe tbody tr th {\n",
       "        vertical-align: top;\n",
       "    }\n",
       "\n",
       "    .dataframe thead th {\n",
       "        text-align: right;\n",
       "    }\n",
       "</style>\n",
       "<table border=\"1\" class=\"dataframe\">\n",
       "  <thead>\n",
       "    <tr style=\"text-align: right;\">\n",
       "      <th></th>\n",
       "      <th>date</th>\n",
       "      <th>good</th>\n",
       "      <th>bad</th>\n",
       "    </tr>\n",
       "  </thead>\n",
       "  <tbody>\n",
       "    <tr>\n",
       "      <th>0</th>\n",
       "      <td>1</td>\n",
       "      <td>413</td>\n",
       "      <td>50</td>\n",
       "    </tr>\n",
       "    <tr>\n",
       "      <th>1</th>\n",
       "      <td>2</td>\n",
       "      <td>116</td>\n",
       "      <td>51</td>\n",
       "    </tr>\n",
       "    <tr>\n",
       "      <th>2</th>\n",
       "      <td>3</td>\n",
       "      <td>368</td>\n",
       "      <td>72</td>\n",
       "    </tr>\n",
       "    <tr>\n",
       "      <th>3</th>\n",
       "      <td>4</td>\n",
       "      <td>315</td>\n",
       "      <td>53</td>\n",
       "    </tr>\n",
       "    <tr>\n",
       "      <th>4</th>\n",
       "      <td>5</td>\n",
       "      <td>258</td>\n",
       "      <td>120</td>\n",
       "    </tr>\n",
       "  </tbody>\n",
       "</table>\n",
       "</div>"
      ],
      "text/plain": [
       "   date  good  bad\n",
       "0     1   413   50\n",
       "1     2   116   51\n",
       "2     3   368   72\n",
       "3     4   315   53\n",
       "4     5   258  120"
      ]
     },
     "execution_count": 28,
     "metadata": {},
     "output_type": "execute_result"
    }
   ],
   "source": [
    "df2=factory.groupby('date', as_index=False).sum()\n",
    "df2"
   ]
  },
  {
   "cell_type": "markdown",
   "metadata": {
    "slideshow": {
     "slide_type": "slide"
    }
   },
   "source": [
    "#### Quiz 8\n",
    "- 날짜별 불량률을 출력하세요."
   ]
  },
  {
   "cell_type": "code",
   "execution_count": 29,
   "metadata": {
    "ExecuteTime": {
     "end_time": "2021-09-14T08:07:08.149672Z",
     "start_time": "2021-09-14T08:07:08.136467Z"
    }
   },
   "outputs": [
    {
     "data": {
      "text/html": [
       "<div>\n",
       "<style scoped>\n",
       "    .dataframe tbody tr th:only-of-type {\n",
       "        vertical-align: middle;\n",
       "    }\n",
       "\n",
       "    .dataframe tbody tr th {\n",
       "        vertical-align: top;\n",
       "    }\n",
       "\n",
       "    .dataframe thead th {\n",
       "        text-align: right;\n",
       "    }\n",
       "</style>\n",
       "<table border=\"1\" class=\"dataframe\">\n",
       "  <thead>\n",
       "    <tr style=\"text-align: right;\">\n",
       "      <th></th>\n",
       "      <th>date</th>\n",
       "      <th>good</th>\n",
       "      <th>bad</th>\n",
       "      <th>bad_rate</th>\n",
       "    </tr>\n",
       "  </thead>\n",
       "  <tbody>\n",
       "    <tr>\n",
       "      <th>0</th>\n",
       "      <td>1</td>\n",
       "      <td>413</td>\n",
       "      <td>50</td>\n",
       "      <td>12.11</td>\n",
       "    </tr>\n",
       "    <tr>\n",
       "      <th>1</th>\n",
       "      <td>2</td>\n",
       "      <td>116</td>\n",
       "      <td>51</td>\n",
       "      <td>43.97</td>\n",
       "    </tr>\n",
       "    <tr>\n",
       "      <th>2</th>\n",
       "      <td>3</td>\n",
       "      <td>368</td>\n",
       "      <td>72</td>\n",
       "      <td>19.57</td>\n",
       "    </tr>\n",
       "    <tr>\n",
       "      <th>3</th>\n",
       "      <td>4</td>\n",
       "      <td>315</td>\n",
       "      <td>53</td>\n",
       "      <td>16.83</td>\n",
       "    </tr>\n",
       "    <tr>\n",
       "      <th>4</th>\n",
       "      <td>5</td>\n",
       "      <td>258</td>\n",
       "      <td>120</td>\n",
       "      <td>46.51</td>\n",
       "    </tr>\n",
       "  </tbody>\n",
       "</table>\n",
       "</div>"
      ],
      "text/plain": [
       "   date  good  bad  bad_rate\n",
       "0     1   413   50     12.11\n",
       "1     2   116   51     43.97\n",
       "2     3   368   72     19.57\n",
       "3     4   315   53     16.83\n",
       "4     5   258  120     46.51"
      ]
     },
     "execution_count": 29,
     "metadata": {},
     "output_type": "execute_result"
    }
   ],
   "source": [
    "df2=factory.groupby('date', as_index=False).sum()\n",
    "df2.insert(3,'bad_rate', round(df2['bad']/df2['good']*100,2))\n",
    "df2"
   ]
  },
  {
   "cell_type": "markdown",
   "metadata": {
    "slideshow": {
     "slide_type": "slide"
    }
   },
   "source": [
    "#### Quiz 9\n",
    "- 아래의 데이터를 pivot_table을 이용하여 출력하세요.\n",
    "    - 라인별, 날짜별, 양품수\n",
    "    - 라인별, 날짜별, 불량수\n",
    "    - 라인별, 날짜별, 불량률\n",
    "- NaN 데이터는 0으로 변경하세요.\n",
    "- pivot_table, fillna 사용"
   ]
  },
  {
   "cell_type": "code",
   "execution_count": 30,
   "metadata": {
    "ExecuteTime": {
     "end_time": "2021-09-14T08:07:08.626209Z",
     "start_time": "2021-09-14T08:07:08.600967Z"
    }
   },
   "outputs": [
    {
     "data": {
      "text/html": [
       "<div>\n",
       "<style scoped>\n",
       "    .dataframe tbody tr th:only-of-type {\n",
       "        vertical-align: middle;\n",
       "    }\n",
       "\n",
       "    .dataframe tbody tr th {\n",
       "        vertical-align: top;\n",
       "    }\n",
       "\n",
       "    .dataframe thead th {\n",
       "        text-align: right;\n",
       "    }\n",
       "</style>\n",
       "<table border=\"1\" class=\"dataframe\">\n",
       "  <thead>\n",
       "    <tr style=\"text-align: right;\">\n",
       "      <th>date</th>\n",
       "      <th>1</th>\n",
       "      <th>2</th>\n",
       "      <th>3</th>\n",
       "      <th>4</th>\n",
       "      <th>5</th>\n",
       "    </tr>\n",
       "    <tr>\n",
       "      <th>line</th>\n",
       "      <th></th>\n",
       "      <th></th>\n",
       "      <th></th>\n",
       "      <th></th>\n",
       "      <th></th>\n",
       "    </tr>\n",
       "  </thead>\n",
       "  <tbody>\n",
       "    <tr>\n",
       "      <th>line1</th>\n",
       "      <td>301</td>\n",
       "      <td>0</td>\n",
       "      <td>0</td>\n",
       "      <td>153</td>\n",
       "      <td>136</td>\n",
       "    </tr>\n",
       "    <tr>\n",
       "      <th>line2</th>\n",
       "      <td>112</td>\n",
       "      <td>116</td>\n",
       "      <td>172</td>\n",
       "      <td>0</td>\n",
       "      <td>122</td>\n",
       "    </tr>\n",
       "    <tr>\n",
       "      <th>line3</th>\n",
       "      <td>0</td>\n",
       "      <td>0</td>\n",
       "      <td>196</td>\n",
       "      <td>162</td>\n",
       "      <td>0</td>\n",
       "    </tr>\n",
       "  </tbody>\n",
       "</table>\n",
       "</div>"
      ],
      "text/plain": [
       "date     1    2    3    4    5\n",
       "line                          \n",
       "line1  301    0    0  153  136\n",
       "line2  112  116  172    0  122\n",
       "line3    0    0  196  162    0"
      ]
     },
     "execution_count": 30,
     "metadata": {},
     "output_type": "execute_result"
    }
   ],
   "source": [
    "df3= pd.pivot_table(factory,\n",
    "               index= 'line',\n",
    "               columns= 'date',\n",
    "               values= 'good',\n",
    "               fill_value=0,\n",
    "               aggfunc= np.sum)\n",
    "df3"
   ]
  },
  {
   "cell_type": "code",
   "execution_count": 31,
   "metadata": {
    "ExecuteTime": {
     "end_time": "2021-09-14T08:07:08.878547Z",
     "start_time": "2021-09-14T08:07:08.855150Z"
    },
    "slideshow": {
     "slide_type": "slide"
    }
   },
   "outputs": [
    {
     "data": {
      "text/html": [
       "<div>\n",
       "<style scoped>\n",
       "    .dataframe tbody tr th:only-of-type {\n",
       "        vertical-align: middle;\n",
       "    }\n",
       "\n",
       "    .dataframe tbody tr th {\n",
       "        vertical-align: top;\n",
       "    }\n",
       "\n",
       "    .dataframe thead th {\n",
       "        text-align: right;\n",
       "    }\n",
       "</style>\n",
       "<table border=\"1\" class=\"dataframe\">\n",
       "  <thead>\n",
       "    <tr style=\"text-align: right;\">\n",
       "      <th>date</th>\n",
       "      <th>1</th>\n",
       "      <th>2</th>\n",
       "      <th>3</th>\n",
       "      <th>4</th>\n",
       "      <th>5</th>\n",
       "    </tr>\n",
       "    <tr>\n",
       "      <th>line</th>\n",
       "      <th></th>\n",
       "      <th></th>\n",
       "      <th></th>\n",
       "      <th></th>\n",
       "      <th></th>\n",
       "    </tr>\n",
       "  </thead>\n",
       "  <tbody>\n",
       "    <tr>\n",
       "      <th>line1</th>\n",
       "      <td>49</td>\n",
       "      <td>0</td>\n",
       "      <td>0</td>\n",
       "      <td>28</td>\n",
       "      <td>29</td>\n",
       "    </tr>\n",
       "    <tr>\n",
       "      <th>line2</th>\n",
       "      <td>1</td>\n",
       "      <td>51</td>\n",
       "      <td>31</td>\n",
       "      <td>0</td>\n",
       "      <td>91</td>\n",
       "    </tr>\n",
       "    <tr>\n",
       "      <th>line3</th>\n",
       "      <td>0</td>\n",
       "      <td>0</td>\n",
       "      <td>41</td>\n",
       "      <td>25</td>\n",
       "      <td>0</td>\n",
       "    </tr>\n",
       "  </tbody>\n",
       "</table>\n",
       "</div>"
      ],
      "text/plain": [
       "date    1   2   3   4   5\n",
       "line                     \n",
       "line1  49   0   0  28  29\n",
       "line2   1  51  31   0  91\n",
       "line3   0   0  41  25   0"
      ]
     },
     "execution_count": 31,
     "metadata": {},
     "output_type": "execute_result"
    }
   ],
   "source": [
    "df4= pd.pivot_table(factory,\n",
    "               index= 'line',\n",
    "               columns= 'date',\n",
    "               values= 'bad',\n",
    "               fill_value=0,\n",
    "               aggfunc= np.sum)\n",
    "df4"
   ]
  },
  {
   "cell_type": "code",
   "execution_count": 32,
   "metadata": {
    "ExecuteTime": {
     "end_time": "2021-09-14T08:07:09.235063Z",
     "start_time": "2021-09-14T08:07:09.216312Z"
    }
   },
   "outputs": [
    {
     "data": {
      "text/html": [
       "<div>\n",
       "<style scoped>\n",
       "    .dataframe tbody tr th:only-of-type {\n",
       "        vertical-align: middle;\n",
       "    }\n",
       "\n",
       "    .dataframe tbody tr th {\n",
       "        vertical-align: top;\n",
       "    }\n",
       "\n",
       "    .dataframe thead th {\n",
       "        text-align: right;\n",
       "    }\n",
       "</style>\n",
       "<table border=\"1\" class=\"dataframe\">\n",
       "  <thead>\n",
       "    <tr style=\"text-align: right;\">\n",
       "      <th>date</th>\n",
       "      <th>1</th>\n",
       "      <th>2</th>\n",
       "      <th>3</th>\n",
       "      <th>4</th>\n",
       "      <th>5</th>\n",
       "    </tr>\n",
       "    <tr>\n",
       "      <th>line</th>\n",
       "      <th></th>\n",
       "      <th></th>\n",
       "      <th></th>\n",
       "      <th></th>\n",
       "      <th></th>\n",
       "    </tr>\n",
       "  </thead>\n",
       "  <tbody>\n",
       "    <tr>\n",
       "      <th>line1</th>\n",
       "      <td>16.28</td>\n",
       "      <td>0.00</td>\n",
       "      <td>0.00</td>\n",
       "      <td>18.30</td>\n",
       "      <td>21.32</td>\n",
       "    </tr>\n",
       "    <tr>\n",
       "      <th>line2</th>\n",
       "      <td>0.89</td>\n",
       "      <td>43.97</td>\n",
       "      <td>18.02</td>\n",
       "      <td>0.00</td>\n",
       "      <td>74.59</td>\n",
       "    </tr>\n",
       "    <tr>\n",
       "      <th>line3</th>\n",
       "      <td>0.00</td>\n",
       "      <td>0.00</td>\n",
       "      <td>20.92</td>\n",
       "      <td>15.43</td>\n",
       "      <td>0.00</td>\n",
       "    </tr>\n",
       "  </tbody>\n",
       "</table>\n",
       "</div>"
      ],
      "text/plain": [
       "date       1      2      3      4      5\n",
       "line                                    \n",
       "line1  16.28   0.00   0.00  18.30  21.32\n",
       "line2   0.89  43.97  18.02   0.00  74.59\n",
       "line3   0.00   0.00  20.92  15.43   0.00"
      ]
     },
     "execution_count": 32,
     "metadata": {},
     "output_type": "execute_result"
    }
   ],
   "source": [
    "df5 = round(df4/df3*100,2)\n",
    "df5.fillna(0)"
   ]
  }
 ],
 "metadata": {
  "kernelspec": {
   "display_name": "Python 3 (ipykernel)",
   "language": "python",
   "name": "python3"
  },
  "language_info": {
   "codemirror_mode": {
    "name": "ipython",
    "version": 3
   },
   "file_extension": ".py",
   "mimetype": "text/x-python",
   "name": "python",
   "nbconvert_exporter": "python",
   "pygments_lexer": "ipython3",
   "version": "3.9.6"
  },
  "toc": {
   "base_numbering": 1,
   "nav_menu": {},
   "number_sections": true,
   "sideBar": true,
   "skip_h1_title": false,
   "title_cell": "Table of Contents",
   "title_sidebar": "Contents",
   "toc_cell": false,
   "toc_position": {},
   "toc_section_display": true,
   "toc_window_display": false
  },
  "varInspector": {
   "cols": {
    "lenName": 16,
    "lenType": 16,
    "lenVar": 40
   },
   "kernels_config": {
    "python": {
     "delete_cmd_postfix": "",
     "delete_cmd_prefix": "del ",
     "library": "var_list.py",
     "varRefreshCmd": "print(var_dic_list())"
    },
    "r": {
     "delete_cmd_postfix": ") ",
     "delete_cmd_prefix": "rm(",
     "library": "var_list.r",
     "varRefreshCmd": "cat(var_dic_list()) "
    }
   },
   "types_to_exclude": [
    "module",
    "function",
    "builtin_function_or_method",
    "instance",
    "_Feature"
   ],
   "window_display": false
  }
 },
 "nbformat": 4,
 "nbformat_minor": 4
}
