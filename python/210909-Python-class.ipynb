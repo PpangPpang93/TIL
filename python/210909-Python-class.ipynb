{
 "cells": [
  {
   "cell_type": "markdown",
   "metadata": {},
   "source": [
    "# 함수와 클래스"
   ]
  },
  {
   "cell_type": "markdown",
   "metadata": {},
   "source": [
    "## 함수\n",
    "> 수학적 정의의 **함수**란?  \n",
    "$y$ = $f(x)$\n",
    "\n",
    "> 프로그래밍에서의 함수란?  \n",
    "자주 사용해야 하는 코드를 **재사용하기 위한 코드의 묶음**\n",
    "\n",
    "> 데이터과학에서의 함수란?  \n",
    "입력값을 받아 사용자가 원하는 처리를 한 후 결과값을 되돌려 받는 코드의 묶음"
   ]
  },
  {
   "cell_type": "markdown",
   "metadata": {},
   "source": [
    "### 함수의 구조\n",
    ">**`def` `함수이름` `(파라메터 혹은 매개변수)` `:`** # 파라메터는 없어도 가능함. 함수 정의 후 `:`으로 마무리 한다.\n",
    ">>**`실행코드`**  \n",
    "**`실행코드`**  \n",
    "**`실행코드`**  \n",
    "**`return` `반환값`** # 함수에서 실행코드를 거친 결과 값 혹은 변수(반환값)을 리턴\n",
    "    \n",
    ">파라메터 혹은 매개변수 : 함수의 입력값, 혹은 함수의 작동에 영향을 줄 수 있는 값(변수)  \n",
    "파라메터는 없어도 되지만 세미콜론은 반드시 찍어준다."
   ]
  },
  {
   "cell_type": "markdown",
   "metadata": {},
   "source": [
    "### 기본적인 함수"
   ]
  },
  {
   "cell_type": "code",
   "execution_count": 27,
   "metadata": {
    "ExecuteTime": {
     "end_time": "2021-09-09T05:04:12.075810Z",
     "start_time": "2021-09-09T05:04:12.072249Z"
    }
   },
   "outputs": [],
   "source": [
    "# 함수 정의하기\n",
    "# 함수명 person을 정의한다(디파인한다)\n",
    "def person():\n",
    "    for i in range(3):\n",
    "        print(\"제 이름은 ppang입니다\")\n",
    "# 함수 호출 시 실행 될 구문"
   ]
  },
  {
   "cell_type": "markdown",
   "metadata": {},
   "source": [
    "### 함수의 호출(사용)"
   ]
  },
  {
   "cell_type": "code",
   "execution_count": 28,
   "metadata": {
    "ExecuteTime": {
     "end_time": "2021-09-09T05:04:12.406322Z",
     "start_time": "2021-09-09T05:04:12.403322Z"
    }
   },
   "outputs": [
    {
     "name": "stdout",
     "output_type": "stream",
     "text": [
      "제 이름은 ppang입니다\n",
      "제 이름은 ppang입니다\n",
      "제 이름은 ppang입니다\n"
     ]
    }
   ],
   "source": [
    "# 함수호출 테스트\n",
    "person()"
   ]
  },
  {
   "cell_type": "markdown",
   "metadata": {},
   "source": [
    "### 입력값(파라메터 혹은 매개변수)을 받는 함수"
   ]
  },
  {
   "cell_type": "code",
   "execution_count": 43,
   "metadata": {
    "ExecuteTime": {
     "end_time": "2021-09-09T05:12:47.923954Z",
     "start_time": "2021-09-09T05:12:47.920648Z"
    }
   },
   "outputs": [],
   "source": [
    "# 파라메터가 있는 함수 정의\n",
    "# 함수명 person_name을 정의하면서 동시에 파라메터인 name에 'Eddy'라는 문자열을 전달한다.\n",
    "def person_name(*name,age):\n",
    "    print(f\"제 이름은 {name}입니다, 나이는 {age}입니다\")\n",
    "# 함수 호출 시 실행 될 구문"
   ]
  },
  {
   "cell_type": "code",
   "execution_count": 44,
   "metadata": {
    "ExecuteTime": {
     "end_time": "2021-09-09T05:12:48.233297Z",
     "start_time": "2021-09-09T05:12:48.227582Z"
    }
   },
   "outputs": [
    {
     "name": "stdout",
     "output_type": "stream",
     "text": [
      "제 이름은 ('ss', 111)입니다, 나이는 222입니다\n"
     ]
    }
   ],
   "source": [
    "# 함수 호출\n",
    "# 만약 파라메터가 전달되지 않는다면?\n",
    "person_name('ss',111,age=222)"
   ]
  },
  {
   "cell_type": "markdown",
   "metadata": {},
   "source": [
    "### 함수 내 변수의 사용"
   ]
  },
  {
   "cell_type": "code",
   "execution_count": 46,
   "metadata": {
    "ExecuteTime": {
     "end_time": "2021-09-09T05:15:22.689391Z",
     "start_time": "2021-09-09T05:15:22.686486Z"
    }
   },
   "outputs": [],
   "source": [
    "name = 'ppang'"
   ]
  },
  {
   "cell_type": "code",
   "execution_count": 50,
   "metadata": {
    "ExecuteTime": {
     "end_time": "2021-09-09T05:17:23.032141Z",
     "start_time": "2021-09-09T05:17:23.021874Z"
    }
   },
   "outputs": [
    {
     "name": "stdout",
     "output_type": "stream",
     "text": [
      "제 이름은 ppang입니다, 나이는 333입니다\n"
     ]
    },
    {
     "ename": "NameError",
     "evalue": "name 'age' is not defined",
     "output_type": "error",
     "traceback": [
      "\u001b[0;31m---------------------------------------------------------------------------\u001b[0m",
      "\u001b[0;31mNameError\u001b[0m                                 Traceback (most recent call last)",
      "\u001b[0;32m/var/folders/c0/q_ltjrb55gzc5wvhsv7s_vsh0000gn/T/ipykernel_32954/1839315993.py\u001b[0m in \u001b[0;36m<module>\u001b[0;34m\u001b[0m\n\u001b[1;32m      6\u001b[0m \u001b[0mprint_name\u001b[0m\u001b[0;34m(\u001b[0m\u001b[0;34m)\u001b[0m\u001b[0;34m\u001b[0m\u001b[0;34m\u001b[0m\u001b[0m\n\u001b[1;32m      7\u001b[0m \u001b[0;31m# 함수실행 코드\u001b[0m\u001b[0;34m\u001b[0m\u001b[0;34m\u001b[0m\u001b[0;34m\u001b[0m\u001b[0m\n\u001b[0;32m----> 8\u001b[0;31m \u001b[0mprint\u001b[0m\u001b[0;34m(\u001b[0m\u001b[0mage\u001b[0m\u001b[0;34m)\u001b[0m \u001b[0;31m# 지역변수라 호출안됨\u001b[0m\u001b[0;34m\u001b[0m\u001b[0;34m\u001b[0m\u001b[0m\n\u001b[0m",
      "\u001b[0;31mNameError\u001b[0m: name 'age' is not defined"
     ]
    }
   ],
   "source": [
    "# 함수 밖 변수 전역변수, 글로벌변수라고 하며 어디든 사용가능\n",
    "def print_name():\n",
    "    age=333\n",
    "    print(f\"제 이름은 {name}입니다, 나이는 {age}입니다\")\n",
    "# 함수정의\n",
    "print_name()\n",
    "# 함수실행 코드\n",
    "print(age) # 지역변수라 호출안됨"
   ]
  },
  {
   "cell_type": "markdown",
   "metadata": {},
   "source": [
    "#### 함수 안에서 정의 된 변수??\n",
    ">함수 내부에서 정의 된 age 변수는 함수 내부에서만 정의되는 변수로서 함수 밖에서는 호출할 수 없다.  \n",
    "그렇기에 다른 함수에서 같은 이름의 변수를 사용해도 관계없음  \n",
    "함수 연산 결과로서 결과값을 빼기 위해서는 반드시 **`return`**구문으로 반환값을 사용해줘야 함  \n",
    "\n",
    "함수도 기본컴퓨터의 작동프로세스와 같이 입력, 처리, 출력의 처리를 하기위한 구조를 가짐"
   ]
  },
  {
   "cell_type": "code",
   "execution_count": null,
   "metadata": {
    "ExecuteTime": {
     "end_time": "2021-04-06T13:09:48.171098Z",
     "start_time": "2021-04-06T13:09:48.164219Z"
    }
   },
   "outputs": [],
   "source": [
    "# 호출하려던 age변수는 위의 person_age 함수 내부에서 정의 된 변수이다.\n",
    "# 함수 내부에서 정의 된 변수는 지역변수 혹은 로컬변수라고 합니다.\n",
    "# 함수 내부에서만 사용이 가능하고 사용후에는 메모리에서 삭제 됩니다.\n"
   ]
  },
  {
   "cell_type": "code",
   "execution_count": 70,
   "metadata": {
    "ExecuteTime": {
     "end_time": "2021-09-09T05:39:10.062869Z",
     "start_time": "2021-09-09T05:39:08.683975Z"
    }
   },
   "outputs": [
    {
     "name": "stdout",
     "output_type": "stream",
     "text": [
      "1\n",
      "2\n",
      "3\n",
      "4\n",
      "5\n"
     ]
    },
    {
     "data": {
      "text/plain": [
       "15"
      ]
     },
     "execution_count": 70,
     "metadata": {},
     "output_type": "execute_result"
    }
   ],
   "source": [
    "## 사용자로부터 입력받는 5개의 숫자를 리스트에 저장하고 입력이 완료되면 합을 출력하는 함수\n",
    "def test():\n",
    "    x =[]\n",
    "    for i in range(5):\n",
    "        n = int(input())\n",
    "        x.append(n)\n",
    "    return sum(x)\n",
    "\n",
    "test()        \n",
    "\n",
    "# def ttt():\n",
    "#     p =[]\n",
    "#     for i in range(3):\n",
    "#         inpu = int(input())\n",
    "#         p.append(inpu)\n",
    "#     print(sum(p))\n",
    "# ttt()"
   ]
  },
  {
   "cell_type": "code",
   "execution_count": 67,
   "metadata": {
    "ExecuteTime": {
     "end_time": "2021-09-09T05:33:54.727687Z",
     "start_time": "2021-09-09T05:33:53.203752Z"
    }
   },
   "outputs": [
    {
     "name": "stdout",
     "output_type": "stream",
     "text": [
      "1\n",
      "2\n",
      "3\n",
      "4\n"
     ]
    },
    {
     "data": {
      "text/plain": [
       "10"
      ]
     },
     "execution_count": 67,
     "metadata": {},
     "output_type": "execute_result"
    }
   ],
   "source": [
    "# 파라메타로 전달하는 숫자만큼 입력을 받고 입력받은 수를 리스트에 저장 후 합을 출력\n",
    "def test2(num):\n",
    "    x=[]\n",
    "    sum=0\n",
    "    for i in range(num):\n",
    "        n = int(input())\n",
    "        x.append(n)\n",
    "        sum += x[i]\n",
    "    return sum\n",
    "\n",
    "test2(4)"
   ]
  },
  {
   "cell_type": "markdown",
   "metadata": {},
   "source": [
    "### 반환을 사용하는 함수"
   ]
  },
  {
   "cell_type": "code",
   "execution_count": 73,
   "metadata": {
    "ExecuteTime": {
     "end_time": "2021-09-09T05:43:20.589224Z",
     "start_time": "2021-09-09T05:43:20.585376Z"
    }
   },
   "outputs": [],
   "source": [
    "# 함수 내부에서 정의 된 변수를 사용하기 위해서는 값을 반환(return) 시켜야 한다.\n",
    "# x와 y를 파라메터로 전달받는 cal_return 함수 정의\n",
    "# return값이 여러개일 수 있다\n",
    "def cal_return(x,y):\n",
    "    return x+y, x*y, x**2\n",
    "# x와 y의 합을 반환시킴"
   ]
  },
  {
   "cell_type": "code",
   "execution_count": 75,
   "metadata": {
    "ExecuteTime": {
     "end_time": "2021-09-09T05:45:00.574383Z",
     "start_time": "2021-09-09T05:45:00.568661Z"
    }
   },
   "outputs": [
    {
     "data": {
      "text/plain": [
       "2"
      ]
     },
     "execution_count": 75,
     "metadata": {},
     "output_type": "execute_result"
    }
   ],
   "source": [
    "# cal_return함수를 실행시켜 반환받는 값을 result 변수에 저장\n",
    "result1, result2, result3 = cal_return(1,2)\n",
    "result2"
   ]
  },
  {
   "cell_type": "markdown",
   "metadata": {},
   "source": [
    "### 조금은 쓸모있는 함수를 만들어보자"
   ]
  },
  {
   "cell_type": "code",
   "execution_count": 80,
   "metadata": {
    "ExecuteTime": {
     "end_time": "2021-09-09T05:47:31.957272Z",
     "start_time": "2021-09-09T05:47:31.952486Z"
    }
   },
   "outputs": [],
   "source": [
    "def input_data(x):\n",
    "    a = input(f'{x}을(를) 입력하세요. : ')\n",
    "    try:\n",
    "        a = int(a)\n",
    "    except:\n",
    "        pass\n",
    "    \n",
    "    return a"
   ]
  },
  {
   "cell_type": "code",
   "execution_count": 81,
   "metadata": {
    "ExecuteTime": {
     "end_time": "2021-09-09T05:47:35.249933Z",
     "start_time": "2021-09-09T05:47:32.184871Z"
    }
   },
   "outputs": [
    {
     "name": "stdout",
     "output_type": "stream",
     "text": [
      "이름을(를) 입력하세요. : test\n"
     ]
    },
    {
     "data": {
      "text/plain": [
       "'test'"
      ]
     },
     "execution_count": 81,
     "metadata": {},
     "output_type": "execute_result"
    }
   ],
   "source": [
    "name = input_data('이름')\n",
    "name"
   ]
  },
  {
   "cell_type": "code",
   "execution_count": null,
   "metadata": {
    "ExecuteTime": {
     "end_time": "2021-04-06T13:52:04.182104Z",
     "start_time": "2021-04-06T13:52:04.179797Z"
    }
   },
   "outputs": [],
   "source": [
    "# 기존에 정의 된 함수를 바탕으로 함수 안에서 함수 호출 연습\n",
    "# 위의 리스트 합 리턴 코드를 input_data() 함수를 사용하도록 변경\n"
   ]
  },
  {
   "cell_type": "markdown",
   "metadata": {},
   "source": [
    "### 지금까지 우리가 알게 모르게 사용해왔던 함수들\n",
    "`print()`  \n",
    "`int()`  \n",
    "`str()`  \n",
    "`float()`  \n",
    "`input()`  \n",
    "`list()`  \n",
    "`dict()`  \n",
    "`range()`  \n",
    "`append()`   등등등\n",
    "\n",
    "지금까지는 명령어라고 명칭했지만 앞으로는 함수라고 쓰겠습니다! 우리는 배운 사람들이니까요\n"
   ]
  },
  {
   "cell_type": "markdown",
   "metadata": {},
   "source": [
    "### 심플한 계산기를 만들어봅시다"
   ]
  },
  {
   "cell_type": "code",
   "execution_count": 82,
   "metadata": {
    "ExecuteTime": {
     "end_time": "2021-09-09T06:10:18.111968Z",
     "start_time": "2021-09-09T06:10:18.109121Z"
    }
   },
   "outputs": [],
   "source": [
    "# 덧셈\n",
    "def cal_sum(x, y):\n",
    "    z = x + y\n",
    "    return z"
   ]
  },
  {
   "cell_type": "code",
   "execution_count": 83,
   "metadata": {
    "ExecuteTime": {
     "end_time": "2021-09-09T06:10:18.252414Z",
     "start_time": "2021-09-09T06:10:18.249499Z"
    }
   },
   "outputs": [],
   "source": [
    "# 뺄셈\n",
    "def cal_sub(x, y):\n",
    "    z = x - y\n",
    "    return z"
   ]
  },
  {
   "cell_type": "code",
   "execution_count": 84,
   "metadata": {
    "ExecuteTime": {
     "end_time": "2021-09-09T06:10:18.413522Z",
     "start_time": "2021-09-09T06:10:18.410671Z"
    }
   },
   "outputs": [],
   "source": [
    "# 곱셈\n",
    "def cal_mul(x, y):\n",
    "    z = x * y\n",
    "    return z"
   ]
  },
  {
   "cell_type": "code",
   "execution_count": 89,
   "metadata": {
    "ExecuteTime": {
     "end_time": "2021-09-09T06:10:37.709531Z",
     "start_time": "2021-09-09T06:10:37.706476Z"
    }
   },
   "outputs": [],
   "source": [
    "# 나눗셈\n",
    "def cal_div(x, y):\n",
    "    z = x / y\n",
    "    return z"
   ]
  },
  {
   "cell_type": "code",
   "execution_count": 90,
   "metadata": {
    "ExecuteTime": {
     "end_time": "2021-09-09T06:10:37.907817Z",
     "start_time": "2021-09-09T06:10:37.903159Z"
    }
   },
   "outputs": [
    {
     "data": {
      "text/plain": [
       "0"
      ]
     },
     "execution_count": 90,
     "metadata": {},
     "output_type": "execute_result"
    }
   ],
   "source": [
    "# 덧셈 함수 호출\n",
    "cal_sum(1,2)"
   ]
  },
  {
   "cell_type": "code",
   "execution_count": null,
   "metadata": {},
   "outputs": [],
   "source": [
    "# 결과값을 바로 변수로 정의할 수 있음\n"
   ]
  },
  {
   "cell_type": "markdown",
   "metadata": {},
   "source": [
    "### python 예약어로 지정 된 함수를 쪼개봅시다\n",
    ">`sum()` 함수는 python 언어에 내장되어 있는 함수입니다.  \n",
    "파라메터로 iterable 변수 즉, 반복문으로 내부 인자의 루프를 돌 수 있는 변수를 받습니다.  \n",
    "그리고 그 인자의 합을 출력하는 함수입니다.  \n",
    "\n",
    "> `max()` 함수도 python 내장 함수로서 `sum()`과 같은 형식의 입력값을 받아 최대값을 반환하는 함수입니다.  \n",
    "함수를 쪼개봅시다  "
   ]
  },
  {
   "cell_type": "code",
   "execution_count": 91,
   "metadata": {
    "ExecuteTime": {
     "end_time": "2021-09-09T06:14:13.752914Z",
     "start_time": "2021-09-09T06:14:13.750028Z"
    }
   },
   "outputs": [],
   "source": [
    "test_list = [1, 2, 3, 4, 5]"
   ]
  },
  {
   "cell_type": "code",
   "execution_count": 92,
   "metadata": {
    "ExecuteTime": {
     "end_time": "2021-09-09T06:14:15.108406Z",
     "start_time": "2021-09-09T06:14:15.103060Z"
    }
   },
   "outputs": [
    {
     "data": {
      "text/plain": [
       "15"
      ]
     },
     "execution_count": 92,
     "metadata": {},
     "output_type": "execute_result"
    }
   ],
   "source": [
    "sum(test_list)"
   ]
  },
  {
   "cell_type": "code",
   "execution_count": 107,
   "metadata": {
    "ExecuteTime": {
     "end_time": "2021-09-09T06:28:05.020513Z",
     "start_time": "2021-09-09T06:28:05.012363Z"
    }
   },
   "outputs": [
    {
     "data": {
      "text/plain": [
       "6"
      ]
     },
     "execution_count": 107,
     "metadata": {},
     "output_type": "execute_result"
    }
   ],
   "source": [
    "# sum_sum을 함수 이름으로 갖는 python sum() 함수를 재현해보기\n",
    "# 단, sum() 쓰지않기, 전달받는 데이터가 list임을 가정하자\n",
    "def sum_sum(x):\n",
    "    total = 0\n",
    "    for item in x:\n",
    "        total += item\n",
    "    return total\n",
    "\n",
    "test=[1,2,3]\n",
    "sum_sum(test)\n",
    "\n"
   ]
  },
  {
   "cell_type": "code",
   "execution_count": null,
   "metadata": {
    "ExecuteTime": {
     "end_time": "2021-04-06T13:58:57.758860Z",
     "start_time": "2021-04-06T13:58:57.755667Z"
    }
   },
   "outputs": [],
   "source": [
    "sum_sum(test_list)"
   ]
  },
  {
   "cell_type": "code",
   "execution_count": null,
   "metadata": {
    "ExecuteTime": {
     "end_time": "2021-04-06T14:06:14.219534Z",
     "start_time": "2021-04-06T14:06:14.215707Z"
    }
   },
   "outputs": [],
   "source": [
    "max(test_list)"
   ]
  },
  {
   "cell_type": "code",
   "execution_count": 5,
   "metadata": {
    "ExecuteTime": {
     "end_time": "2021-09-09T06:37:05.998854Z",
     "start_time": "2021-09-09T06:37:05.986098Z"
    }
   },
   "outputs": [
    {
     "data": {
      "text/plain": [
       "7"
      ]
     },
     "execution_count": 5,
     "metadata": {},
     "output_type": "execute_result"
    }
   ],
   "source": [
    "# max_max를 함수 이름으로 갖는 python max() 함수를 재현해보기\n",
    "# def max_max(x):\n",
    "#     total = 0\n",
    "#     x.sort()\n",
    "#     return x[-1]\n",
    "\n",
    "def max_max(x):\n",
    "    max_val = -999999\n",
    "    for item in x:\n",
    "        if max_val < item:\n",
    "            max_val = item\n",
    "    return max_val\n",
    "\n",
    "test=[4,7,1,2,3]\n",
    "max_max(test)"
   ]
  },
  {
   "cell_type": "markdown",
   "metadata": {},
   "source": [
    "## 클래스\n",
    ">위에서 만든 계산기 함수를 살펴봅시다.  \n",
    "구조가 같은 함수가 여러개 반환값이 같은 연산만 다른 함수가 있다.  \n",
    "조금 간편하게 함수를 만들 수 없을까?  \n",
    "\n",
    ">**클래스**란?  \n",
    "같은 목적 혹은 대상을 위해 만들어진 **함수들의 묶음**"
   ]
  },
  {
   "cell_type": "markdown",
   "metadata": {},
   "source": [
    "### 클래스의 구조\n",
    "> **`class`** **`[클래스명]`** **`:`** # 클래스의 선언  \n",
    "  \n",
    ">> **`def`** **`__init__`** **`(self, [파라메터])`** **`:`**  \n",
    ">> 클래스를 만들면서 입력받는 파라메터를 클래스 내에서 사용가능 하도록 초기화  \n",
    ">>> **`self.[변수명]`** = **`[파라메터]`**  \n",
    ">>> 클래스를 만들면서 입력받는 파라메터를 클래스 내에서 사용가능 하도록 초기화  \n",
    ">>> `self.x` = `x`\n",
    "\n",
    ">>**`def`** **`[함수명]`** **`([self, 파라메터])`** **`:`**  \n",
    ">>>**`[실행코드]`**  \n",
    "\n",
    "> 클래스의 선언은 함수와 달리 소괄호없이 선언한다.  \n",
    "클래스명은 단어의 첫 알파벳을 대문자로 ex) MyClass, SumTotal  \n",
    "클래스 선언이후 처음 작성하는 **`__init__`** 함수는  \n",
    "클래스가 정의되면서 입력되는 파라메터를 저장하고 재사용하기 위한 초기화함수  \n",
    "클래스 내 함수의 파라메터앞에는 항상 **`self`**를 추가해주어야 하며,  \n",
    "**`__init__`** 함수에서 설정한 변수 사용시에도 **`self`** 를 추가해준다.  \n",
    "**`self.`** 변수는 클래스 내부에서 사용되며 클래스 내부에 있는 모든 함수에 사용이 가능하다.  "
   ]
  },
  {
   "cell_type": "markdown",
   "metadata": {},
   "source": [
    "### 계산기 클래스"
   ]
  },
  {
   "cell_type": "code",
   "execution_count": 7,
   "metadata": {
    "ExecuteTime": {
     "end_time": "2021-09-09T06:42:24.120540Z",
     "start_time": "2021-09-09T06:42:24.111840Z"
    }
   },
   "outputs": [],
   "source": [
    "# 클래스의 형태를 눈으로 익혀봅시다.\n",
    "class Calculator: # 클래스 선언\n",
    "    \n",
    "    def __init__(self, x, y): # 초기화함수\n",
    "        self.x = x # 클래스 내 변수 초기화\n",
    "        self.y = y\n",
    "        \n",
    "    def my_sum(self): # 함수 정의\n",
    "        z = self.x + self.y\n",
    "        return z\n",
    "\n",
    "    def my_minus(self):\n",
    "        z = self.x - self.y\n",
    "        return z\n",
    "\n",
    "    def my_multiply(self):\n",
    "        z = self.x * self.y\n",
    "        return z\n",
    "\n",
    "    def my_division(self):\n",
    "        z = self.x / self.y\n",
    "        return z"
   ]
  },
  {
   "cell_type": "code",
   "execution_count": 45,
   "metadata": {
    "ExecuteTime": {
     "end_time": "2021-09-09T07:03:31.056748Z",
     "start_time": "2021-09-09T07:03:31.053761Z"
    }
   },
   "outputs": [],
   "source": [
    "# 클래스의 호출\n",
    "a = Calculator(3,5)"
   ]
  },
  {
   "cell_type": "code",
   "execution_count": 46,
   "metadata": {
    "ExecuteTime": {
     "end_time": "2021-09-09T07:03:31.344522Z",
     "start_time": "2021-09-09T07:03:31.339888Z"
    }
   },
   "outputs": [
    {
     "data": {
      "text/plain": [
       "8"
      ]
     },
     "execution_count": 46,
     "metadata": {},
     "output_type": "execute_result"
    }
   ],
   "source": [
    "# 클래스 내 함수의 호출\n",
    "a.my_sum()"
   ]
  },
  {
   "cell_type": "markdown",
   "metadata": {},
   "source": [
    "### 그럼 클래스와 함수는 항상 만들어 써야할까?\n",
    "> - 절대 그렇지 않습니다. 오히려 이미 만들어져있는 함수를 가져다 쓰는것을 권장합니다.  \n",
    "- 프로그래밍 혹은 데이터분석에 필요한 수많은 함수들이 이미 만들어져 있습니다.  \n",
    "- 함수를 학습하는 이유는 이러한 함수들을 호출하여 쓸 수 있게 하기 위함입니다.  "
   ]
  },
  {
   "cell_type": "markdown",
   "metadata": {},
   "source": [
    "### 남이 만든 클래스와 함수를 가져와보자\n",
    "**`import`** `[패키지명]`  \n",
    "**`import`** `[패키지명]` **`as`** `[닉네임]`  \n",
    "**`from`** `[패키지명]` **`import`** `[함수명]`  "
   ]
  },
  {
   "cell_type": "code",
   "execution_count": null,
   "metadata": {
    "ExecuteTime": {
     "end_time": "2021-09-09T07:17:13.827727Z",
     "start_time": "2021-09-09T07:16:41.491653Z"
    }
   },
   "outputs": [],
   "source": [
    "!pip install pyttsx3\n",
    "#!를 붙이고 쓰면 jupyter notebook 밖에서 쓸 수 있음"
   ]
  },
  {
   "cell_type": "code",
   "execution_count": null,
   "metadata": {
    "ExecuteTime": {
     "end_time": "2021-09-09T07:17:58.147361Z",
     "start_time": "2021-09-09T07:17:49.252449Z"
    }
   },
   "outputs": [],
   "source": [
    "# 이런것도 할 수 있어요~\n",
    "# 텍스트를 음성으로 변환시켜주는 패키지(모듈) 입니다.\n",
    "# 사용하기 전 패키지를 다운받는 과정이 필요합니다.\n",
    "# pip install pyttsx3\n",
    "import pyttsx3\n",
    "engine = pyttsx3.init()\n",
    "engine.say(\"수강생여러분.\")\n",
    "engine.say(\"파이썬 공부하느라 고생하십니다.\")\n",
    "engine.say(\"파이썬으로 이런것도 가능해요\")\n",
    "engine.say(\"하지만 이해못해도 괜챦아요.\")\n",
    "engine.say(\"왜냐하면 우리는 가져다 쓸꺼니까요. 찡긋\")\n",
    "engine.runAndWait()"
   ]
  },
  {
   "cell_type": "code",
   "execution_count": null,
   "metadata": {
    "ExecuteTime": {
     "end_time": "2021-09-09T07:19:58.709264Z",
     "start_time": "2021-09-09T07:19:58.573607Z"
    }
   },
   "outputs": [],
   "source": []
  },
  {
   "cell_type": "code",
   "execution_count": null,
   "metadata": {},
   "outputs": [],
   "source": []
  },
  {
   "cell_type": "code",
   "execution_count": 52,
   "metadata": {
    "ExecuteTime": {
     "end_time": "2021-09-09T07:26:18.466559Z",
     "start_time": "2021-09-09T07:26:18.463604Z"
    }
   },
   "outputs": [],
   "source": [
    "# random 이라는 이름을 가진 모듈을 불러오기\n",
    "import random\n",
    "\n",
    "# numpy 패키지을 불러오고 np라는 닉네임으로 사용한다\n",
    "import numpy as np\n",
    "\n",
    "# pandas 패키지를 불러오고 pd라는 닉네임으로 사용한다\n",
    "import pandas as pd"
   ]
  },
  {
   "cell_type": "code",
   "execution_count": 53,
   "metadata": {
    "ExecuteTime": {
     "end_time": "2021-09-09T07:26:20.272990Z",
     "start_time": "2021-09-09T07:26:20.268134Z"
    }
   },
   "outputs": [],
   "source": [
    "# 방금 전 만든 계산기 함수 불러오기\n",
    "# 위에 계산기 함수를 파일로 저장해서 불러옴\n",
    "from cal import Calculator as cal"
   ]
  },
  {
   "cell_type": "code",
   "execution_count": 56,
   "metadata": {
    "ExecuteTime": {
     "end_time": "2021-09-09T07:27:26.545054Z",
     "start_time": "2021-09-09T07:27:26.540639Z"
    }
   },
   "outputs": [
    {
     "data": {
      "text/plain": [
       "5"
      ]
     },
     "execution_count": 56,
     "metadata": {},
     "output_type": "execute_result"
    }
   ],
   "source": [
    "b=cal(2,3)\n",
    "b.my_sum()"
   ]
  },
  {
   "cell_type": "markdown",
   "metadata": {},
   "source": [
    "### 클래스의 사용\n",
    "불러들인 클래스에는 함수들이 묶여 자리하고 있습니다. 클래스를 불러들여도 실제로 작업은 함수를 실행시켜서 작동하게 됩니다. 함수를 사용해 봅시다."
   ]
  },
  {
   "cell_type": "code",
   "execution_count": null,
   "metadata": {
    "ExecuteTime": {
     "end_time": "2021-08-04T09:12:29.363580Z",
     "start_time": "2021-08-04T09:12:29.361036Z"
    }
   },
   "outputs": [],
   "source": [
    "# mycal이름을 가진 변수에 불러들인 cal클래스를 선언한다\n",
    "# 다만 cal 클래스는 초기화 할 때 2개의 변수를 받아야 한다\n",
    "# 이름은 mycal 변수처럼 보이지만 Calculator 클래스이다.\n"
   ]
  },
  {
   "cell_type": "markdown",
   "metadata": {},
   "source": [
    "## 패키지(packages), 모듈(modules)"
   ]
  },
  {
   "cell_type": "markdown",
   "metadata": {},
   "source": [
    "### random 패키지를 사용해보자\n",
    ">**`random`** 은 파이썬 내장 패키지(모듈)입니다.  \n",
    "랜덤한 값을 생성하거나 뽑아오는데 사용합니다.\n",
    "\n",
    ">**`random`** 모듈 불러오기\n",
    "**`import`** **`random`**\n",
    "\n",
    ">`random` 모듈의 자주 사용하는 함수  \n",
    "`random` `.random()` : 0 ~ 1 사이의 실수를 하나 반환  \n",
    "`random` `.randint(a, b)` : a ~ b 사이의 정수를 하나 반환  \n",
    "`random` `.choice`(list 혹은 데이터집합) : list의 무작위 샘플하나를 반환  \n",
    "`random` `.sample`(list 혹은 데이터집합, N(샘플링 할 데이터의 갯수)) : list의 무작위 샘플  N개를 반환  \n",
    "`random` `.suffle`(list 혹은 데이터집합) : list 순서 섞기  "
   ]
  },
  {
   "cell_type": "code",
   "execution_count": 26,
   "metadata": {
    "ExecuteTime": {
     "end_time": "2021-09-09T06:51:23.825362Z",
     "start_time": "2021-09-09T06:51:23.822704Z"
    }
   },
   "outputs": [],
   "source": [
    "# random 모듈 불러오기\n",
    "import random"
   ]
  },
  {
   "cell_type": "code",
   "execution_count": 88,
   "metadata": {
    "ExecuteTime": {
     "end_time": "2021-09-09T07:32:33.377353Z",
     "start_time": "2021-09-09T07:32:33.372981Z"
    }
   },
   "outputs": [
    {
     "data": {
      "text/plain": [
       "0.5866192387944413"
      ]
     },
     "execution_count": 88,
     "metadata": {},
     "output_type": "execute_result"
    }
   ],
   "source": [
    "# 0 ~ 1 사이의 실수를 하나 반환\n",
    "random.random()"
   ]
  },
  {
   "cell_type": "code",
   "execution_count": 28,
   "metadata": {
    "ExecuteTime": {
     "end_time": "2021-09-09T06:51:24.654381Z",
     "start_time": "2021-09-09T06:51:24.647954Z"
    }
   },
   "outputs": [
    {
     "data": {
      "text/plain": [
       "10"
      ]
     },
     "execution_count": 28,
     "metadata": {},
     "output_type": "execute_result"
    }
   ],
   "source": [
    "# a ~ b 사이의 정수를 하나 반환\n",
    "random.randint(0, 10)"
   ]
  },
  {
   "cell_type": "code",
   "execution_count": 29,
   "metadata": {
    "ExecuteTime": {
     "end_time": "2021-09-09T06:51:24.876538Z",
     "start_time": "2021-09-09T06:51:24.873585Z"
    }
   },
   "outputs": [],
   "source": [
    "test_list = [13, 2, 3, 45, 6, 21, 39]"
   ]
  },
  {
   "cell_type": "code",
   "execution_count": 30,
   "metadata": {
    "ExecuteTime": {
     "end_time": "2021-09-09T06:51:25.756881Z",
     "start_time": "2021-09-09T06:51:25.751996Z"
    }
   },
   "outputs": [
    {
     "data": {
      "text/plain": [
       "6"
      ]
     },
     "execution_count": 30,
     "metadata": {},
     "output_type": "execute_result"
    }
   ],
   "source": [
    "# list의 무작위 샘플하나를 반환\n",
    "random.choice(test_list)"
   ]
  },
  {
   "cell_type": "code",
   "execution_count": 31,
   "metadata": {
    "ExecuteTime": {
     "end_time": "2021-09-09T06:51:28.306124Z",
     "start_time": "2021-09-09T06:51:28.301906Z"
    }
   },
   "outputs": [
    {
     "data": {
      "text/plain": [
       "[39, 3, 45]"
      ]
     },
     "execution_count": 31,
     "metadata": {},
     "output_type": "execute_result"
    }
   ],
   "source": [
    "# list의 무작위 샘플  N개를 반환\n",
    "random.sample(test_list, 3)"
   ]
  },
  {
   "cell_type": "code",
   "execution_count": 32,
   "metadata": {
    "ExecuteTime": {
     "end_time": "2021-09-09T06:51:30.114526Z",
     "start_time": "2021-09-09T06:51:30.110185Z"
    }
   },
   "outputs": [
    {
     "data": {
      "text/plain": [
       "[45, 21, 3, 6, 2, 13, 39]"
      ]
     },
     "execution_count": 32,
     "metadata": {},
     "output_type": "execute_result"
    }
   ],
   "source": [
    "# list 순서 섞기\n",
    "random.shuffle(test_list)\n",
    "test_list"
   ]
  },
  {
   "cell_type": "markdown",
   "metadata": {},
   "source": [
    "### 그래서 random 모듈로 뭘 할 수 있는데요?\n",
    "# 로또 번호 생성기를 만들어 볼껍니다!!"
   ]
  },
  {
   "cell_type": "code",
   "execution_count": 94,
   "metadata": {
    "ExecuteTime": {
     "end_time": "2021-09-09T07:36:20.253133Z",
     "start_time": "2021-09-09T07:36:20.244827Z"
    }
   },
   "outputs": [
    {
     "data": {
      "text/plain": [
       "[10, 18, 18, 37, 10, 25]"
      ]
     },
     "execution_count": 94,
     "metadata": {},
     "output_type": "execute_result"
    }
   ],
   "source": [
    "# 심플하게 6개 숫자를 만들어봅시다.\n",
    "number=[]\n",
    "for i in range(6):\n",
    "    number.append(random.randint(1,45))\n",
    "number"
   ]
  },
  {
   "cell_type": "code",
   "execution_count": 131,
   "metadata": {
    "ExecuteTime": {
     "end_time": "2021-09-09T07:43:57.426759Z",
     "start_time": "2021-09-09T07:43:57.420964Z"
    }
   },
   "outputs": [
    {
     "name": "stdout",
     "output_type": "stream",
     "text": [
      "{14, 15, 18, 21, 27, 30}\n"
     ]
    }
   ],
   "source": [
    "# 중복숫자 제거\n",
    "# 정답은 없습니다. 각자가 구현할 수 있는 방법을 강구해서 중복숫자를 제거하고 번호 6개를 생성해 봅시다.\n",
    "number=[]\n",
    "for i in range(6):\n",
    "    number.append(random.randint(1,45))\n",
    "\n",
    "number = set(number)\n",
    "while len(number) < 6:\n",
    "    number = list(number)\n",
    "    number.append(random.randint(1,45))\n",
    "    \n",
    "print(number)"
   ]
  },
  {
   "cell_type": "code",
   "execution_count": 134,
   "metadata": {
    "ExecuteTime": {
     "end_time": "2021-09-09T07:59:27.148349Z",
     "start_time": "2021-09-09T07:59:27.140717Z"
    }
   },
   "outputs": [
    {
     "data": {
      "text/plain": [
       "[(23, 42, 23, 8, 44, 32),\n",
       " (9, 41, 29, 1, 20, 19),\n",
       " (44, 10, 23, 11, 17, 38),\n",
       " (16, 29, 35, 36, 2, 12),\n",
       " (4, 3, 18, 3, 14, 27)]"
      ]
     },
     "execution_count": 134,
     "metadata": {},
     "output_type": "execute_result"
    }
   ],
   "source": [
    "# 누가 로또를 하나만 사나요? 최소 5000원짜리 한세트를 사지요\n",
    "# 5세트 만들어봅시다\n",
    "import random\n",
    "game = []\n",
    "for i in range(5):\n",
    "    number=[]\n",
    "    for i in range(6):\n",
    "        number.append(random.randint(1,45))\n",
    "\n",
    "    number = tuple(number)\n",
    "    while len(number) < 6:\n",
    "        number = list(number)\n",
    "        number.append(random.randint(1,45))\n",
    "    game.append(number)\n",
    "game"
   ]
  },
  {
   "cell_type": "code",
   "execution_count": null,
   "metadata": {},
   "outputs": [],
   "source": []
  },
  {
   "cell_type": "markdown",
   "metadata": {},
   "source": [
    "## 연습문제 스무고개 게임 업그레이드\n",
    "    컴퓨터와 스무고개 게임을 하는 프로그램을 만들어보겠습니다.\n",
    "    random 모듈로 컴퓨터가 1 ~ 100 중 숫자를 하나 선택하게 합니다.\n",
    "    게이머에게 입력받은 숫자를 판별하여 업, 다운, 정답을 출력하는 프로그램입니다.\n",
    "    게임 횟수는 10회이며, 10회 동안 정답을 못 맞출 경우 실패 문구를 출력하도록 프로그램을 짜 보겠습니다.\n",
    "    선택) 사용자에게 최소숫자, 최대숫자를 입력받아 random으로 생성"
   ]
  },
  {
   "cell_type": "code",
   "execution_count": 137,
   "metadata": {
    "ExecuteTime": {
     "end_time": "2021-09-09T08:07:21.894540Z",
     "start_time": "2021-09-09T08:06:37.504339Z"
    }
   },
   "outputs": [
    {
     "name": "stdout",
     "output_type": "stream",
     "text": [
      "숫자 입력(1~100) : 50\n",
      "Down\n",
      "숫자 입력(1~100) : 25\n",
      "Up\n",
      "숫자 입력(1~100) : 33\n",
      "Up\n",
      "숫자 입력(1~100) : 42\n",
      "Up\n",
      "숫자 입력(1~100) : 47\n",
      "Up\n",
      "숫자 입력(1~100) : 49\n",
      "Down\n",
      "숫자 입력(1~100) : 48\n",
      "Correct\n"
     ]
    }
   ],
   "source": [
    "# 연습문제 \n",
    "import random\n",
    "com = random.randrange(1,100)\n",
    "count = 0\n",
    "\n",
    "while True:\n",
    "    player = int(input(\"숫자 입력(1~100) : \"))\n",
    "    count += 1\n",
    "    \n",
    "    if count == 11:\n",
    "        print(\"Game over\")\n",
    "        print(f\"정답은 {com}입니다\")\n",
    "        break\n",
    "        \n",
    "    elif com > player:\n",
    "        print(\"Up\")\n",
    "        \n",
    "    elif com < player:\n",
    "        print(\"Down\")\n",
    "        \n",
    "    else:\n",
    "        print(\"Correct\")\n",
    "        break"
   ]
  },
  {
   "cell_type": "code",
   "execution_count": 140,
   "metadata": {
    "ExecuteTime": {
     "end_time": "2021-09-09T08:12:58.818202Z",
     "start_time": "2021-09-09T08:12:50.621322Z"
    }
   },
   "outputs": [
    {
     "name": "stdout",
     "output_type": "stream",
     "text": [
      "숫자 입력 : 13\n",
      "Up\n",
      "숫자 입력 : 22\n",
      "Down\n",
      "숫자 입력 : 17\n",
      "Down\n",
      "숫자 입력 : 15\n",
      "Up\n",
      "숫자 입력 : 16\n",
      "Correct\n"
     ]
    }
   ],
   "source": [
    "def step_game(x,y):\n",
    "    com = random.randint(x,y)\n",
    "    for i in range(10):\n",
    "        player = int(input(\"숫자 입력 : \"))\n",
    "        if i == 9:\n",
    "            print(\"Game over\")\n",
    "            print(f\"정답은 {com}입니다\")\n",
    "            break\n",
    "\n",
    "        elif com > player:\n",
    "            print(\"Up\")\n",
    "\n",
    "        elif com < player:\n",
    "            print(\"Down\")\n",
    "\n",
    "        else:\n",
    "            print(\"Correct\")\n",
    "            break\n",
    "step_game(1,30)"
   ]
  },
  {
   "cell_type": "code",
   "execution_count": 90,
   "metadata": {
    "ExecuteTime": {
     "end_time": "2021-09-09T07:34:00.337730Z",
     "start_time": "2021-09-09T07:34:00.333748Z"
    }
   },
   "outputs": [],
   "source": [
    "def print_total():\n",
    "    total = []\n",
    "    while True:\n",
    "        num = input('숫자를 입력하세요 멈추려면 q를 입력하세요: ')\n",
    "        if (not num) or (num == 'q'):\n",
    "            break\n",
    "        num = int(num)\n",
    "        total.append(num)\n",
    "    print(sum(total))"
   ]
  },
  {
   "cell_type": "code",
   "execution_count": null,
   "metadata": {},
   "outputs": [],
   "source": [
    "import random\n",
    "\n",
    "# 옵션\n",
    "# a = input('게임에 사용할 가장 작은 숫자를 입력하세요 :')\n",
    "# b = input('게임에 사용할 가장 작은 큰를 입력하세요 :')\n",
    "\n",
    "computer = random.randint(0, 100) # 옵션 0, 100 대신 a, b 사용\n",
    "count = 0\n",
    "for i in range(10):\n",
    "    gamer = input('숫자를 입력하세요 : ')\n",
    "    gamer = int(gamer)\n",
    "    if computer > gamer:\n",
    "        print('업')\n",
    "    elif computer < gamer:\n",
    "        print('다운')\n",
    "    elif computer == gamer:\n",
    "        print('정답입니다.')\n",
    "        break\n",
    "    if i == 9:\n",
    "        print('실패입니다.')\n",
    "    else:\n",
    "        pass"
   ]
  },
  {
   "cell_type": "code",
   "execution_count": null,
   "metadata": {},
   "outputs": [],
   "source": [
    "money = int(input(\"시작 금액 입력 : \"))    \n",
    "\n",
    "def print_welcome():\n",
    "    wel = '''\n",
    "    어서오세요 SSAC 뱅크입니다.\n",
    "    원하시는 메뉴를 입력해주세요.\n",
    "    1.입금\n",
    "    2.출금\n",
    "    3.잔액\n",
    "    4.종료\n",
    "\n",
    "    '''\n",
    "    print(wel)\n",
    "\n",
    "def money_in(bal):\n",
    "    m_in = int(input(\"입금하실 금액 입력하시오 : \"))\n",
    "    bal += m_in\n",
    "    global money\n",
    "    money = bal\n",
    "    print(f\"현재 잔액은 {money}원 입니다.\")\n",
    "     \n",
    "def money_wi(bal):\n",
    "    m_wi = int(input(\"출금하실 금액 입력하시오 : \"))\n",
    "    if bal > m_wi:\n",
    "        bal -= m_wi\n",
    "        global money\n",
    "        money = bal\n",
    "        print(f\"현재 잔액은 {money}원 입니다.\")\n",
    "\n",
    "    elif money < m_wi:\n",
    "        print(\"잔액이 부족합니다\")\n",
    "        print(f\"현재 잔액은 {money}원 입니다.\")\n",
    "\n",
    "def check_money(money):\n",
    "    print(f\"현재 잔액 : {money}\")\n",
    "\n",
    "\n",
    "print_welcome()\n",
    "while True: \n",
    "    try:\n",
    "        num = int(input(\"사용할 메뉴번호 입력하시오 : \"))\n",
    "    except ValueError:\n",
    "        num = int(input(\"잘 못 누르셨습니다. 숫자로 입력하셔야 합니다 : \"))\n",
    "    if num==1:\n",
    "        money_in(money)\n",
    "    elif num==2:\n",
    "        money_wi(money)\n",
    "    elif num==3:\n",
    "        check_money(money)\n",
    "    elif num==4:\n",
    "        print(\"종료\")\n",
    "        break"
   ]
  },
  {
   "cell_type": "code",
   "execution_count": null,
   "metadata": {},
   "outputs": [],
   "source": []
  },
  {
   "cell_type": "code",
   "execution_count": null,
   "metadata": {},
   "outputs": [],
   "source": []
  },
  {
   "cell_type": "code",
   "execution_count": null,
   "metadata": {},
   "outputs": [],
   "source": []
  },
  {
   "cell_type": "code",
   "execution_count": null,
   "metadata": {
    "ExecuteTime": {
     "end_time": "2021-09-09T08:18:13.688954Z",
     "start_time": "2021-09-09T08:18:02.633184Z"
    }
   },
   "outputs": [],
   "source": [
    "# 전사와 마법사 생성후 모의전투\n",
    "# 리뷰만\n",
    "\n",
    "import numpy as np\n",
    "import random\n",
    "import time\n",
    "\n",
    "class Caractor:\n",
    "\n",
    "    def __init__(self, job):\n",
    "        self.job = job\n",
    "        self.vital = 100\n",
    "        self.defence = 10\n",
    "        self.attack = 15\n",
    "        if self.job == '전사':\n",
    "            self.vital = self.vital + random.randint(5, 10)\n",
    "            self.defence = self.defence + random.randint(5, 10)\n",
    "        elif self.job == '마법사':\n",
    "            self.attack = self.attack + random.randint(7, 15)\n",
    "            self.defence = self.defence - random.randint(1, 5)\n",
    "            \n",
    "class battle:\n",
    "    \n",
    "    def __init__(self, p1, p2):\n",
    "        self.p1 = p1\n",
    "        self.p2 = p2\n",
    "    \n",
    "    def fight(self):\n",
    "\n",
    "        for i in range(30):\n",
    "            time.sleep(1)   # 2초마다 공격\n",
    "            print(str(i+1) + '텀 전투결과')\n",
    "            self.p1.vital = self.p1.vital - ((self.p2.attack + random.randint(-2, 2)) - self.p1.defence)\n",
    "            print(self.p1.job + '가 ' + self.p2.job + '의 ' + str(self.p2.attack + random.randint(-1, 1)) + ' 의 공격을 받아 체력이 ' + str(self.p1.vital) + '이 되었습니다.')\n",
    "            self.p2.vital = self.p2.vital - ((self.p1.attack + random.randint(-1, 1)) - self.p2.defence)\n",
    "            print(self.p2.job + '가 ' + self.p1.job + '의 ' + str(self.p1.attack + random.randint(-2, 2)) + ' 의 공격을 받아 체력이 ' + str(self.p2.vital) + '이 되었습니다.')\n",
    "            if self.p1.vital <= 0 or self.p2.vital <= 0:\n",
    "                print('전투종료')\n",
    "                break\n",
    "\n",
    "warrior = Caractor('전사')\n",
    "magician = Caractor('마법사')\n",
    "\n",
    "print(warrior.vital, warrior.defence, warrior.attack, magician.vital, magician.defence, magician.attack)\n",
    "\n",
    "battle1 = battle(warrior, magician)\n",
    "\n",
    "battle1.fight()"
   ]
  }
 ],
 "metadata": {
  "kernelspec": {
   "display_name": "Python 3 (ipykernel)",
   "language": "python",
   "name": "python3"
  },
  "language_info": {
   "codemirror_mode": {
    "name": "ipython",
    "version": 3
   },
   "file_extension": ".py",
   "mimetype": "text/x-python",
   "name": "python",
   "nbconvert_exporter": "python",
   "pygments_lexer": "ipython3",
   "version": "3.9.6"
  },
  "toc": {
   "base_numbering": 1,
   "nav_menu": {},
   "number_sections": true,
   "sideBar": true,
   "skip_h1_title": true,
   "title_cell": "Table of Contents",
   "title_sidebar": "Contents",
   "toc_cell": false,
   "toc_position": {
    "height": "calc(100% - 180px)",
    "left": "10px",
    "top": "150px",
    "width": "261.812px"
   },
   "toc_section_display": true,
   "toc_window_display": false
  },
  "varInspector": {
   "cols": {
    "lenName": 16,
    "lenType": 16,
    "lenVar": 40
   },
   "kernels_config": {
    "python": {
     "delete_cmd_postfix": "",
     "delete_cmd_prefix": "del ",
     "library": "var_list.py",
     "varRefreshCmd": "print(var_dic_list())"
    },
    "r": {
     "delete_cmd_postfix": ") ",
     "delete_cmd_prefix": "rm(",
     "library": "var_list.r",
     "varRefreshCmd": "cat(var_dic_list()) "
    }
   },
   "types_to_exclude": [
    "module",
    "function",
    "builtin_function_or_method",
    "instance",
    "_Feature"
   ],
   "window_display": false
  }
 },
 "nbformat": 4,
 "nbformat_minor": 2
}
