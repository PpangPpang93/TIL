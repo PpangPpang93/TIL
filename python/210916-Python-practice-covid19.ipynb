{
 "cells": [
  {
   "cell_type": "code",
   "execution_count": 48,
   "id": "18a2d37e",
   "metadata": {
    "ExecuteTime": {
     "end_time": "2021-09-16T07:40:35.089636Z",
     "start_time": "2021-09-16T07:40:35.084165Z"
    }
   },
   "outputs": [],
   "source": [
    "import numpy as np\n",
    "import pandas as pd\n",
    "import matplotlib.pyplot as plt\n",
    "import seaborn as sns\n"
   ]
  },
  {
   "cell_type": "code",
   "execution_count": 49,
   "id": "1ce7a7d9",
   "metadata": {
    "ExecuteTime": {
     "end_time": "2021-09-16T07:40:53.975424Z",
     "start_time": "2021-09-16T07:40:53.960976Z"
    }
   },
   "outputs": [
    {
     "name": "stdout",
     "output_type": "stream",
     "text": [
      "Hangul font is set!\n"
     ]
    }
   ],
   "source": [
    "import matplotlib.pyplot as plt\n",
    "import platform\n",
    "from matplotlib import font_manager, rc\n",
    "plt.rcParams['axes.unicode_minus'] = False\n",
    "\n",
    "if platform.system() == 'Darwin':\n",
    "    f_path = '/Library/Fonts/Arial Unicode.ttf'\n",
    "elif platform.system() == 'Windows':\n",
    "    f_path = 'c:/Windows/Fonts/malgun.ttf'\n",
    "font_name = font_manager.FontProperties(fname=f_path).get_name()\n",
    "rc('font', family=font_name)\n",
    "\n",
    "print('Hangul font is set!')"
   ]
  },
  {
   "cell_type": "code",
   "execution_count": 67,
   "id": "9ea5178e",
   "metadata": {
    "ExecuteTime": {
     "end_time": "2021-09-16T07:48:18.268283Z",
     "start_time": "2021-09-16T07:48:17.757213Z"
    }
   },
   "outputs": [],
   "source": [
    "df=pd.read_csv('서울시 코로나19 확진자 현황2.csv', engine='python')"
   ]
  },
  {
   "cell_type": "code",
   "execution_count": 68,
   "id": "4abee1ba",
   "metadata": {
    "ExecuteTime": {
     "end_time": "2021-09-16T07:48:24.025847Z",
     "start_time": "2021-09-16T07:48:23.973160Z"
    }
   },
   "outputs": [],
   "source": [
    "df = df[['연번','확진일','지역','여행력','접촉력','상태','노출여부']]\n",
    "df.fillna('N',inplace=True)"
   ]
  },
  {
   "cell_type": "code",
   "execution_count": 69,
   "id": "1db5526f",
   "metadata": {
    "ExecuteTime": {
     "end_time": "2021-09-16T07:48:29.162467Z",
     "start_time": "2021-09-16T07:48:29.130429Z"
    }
   },
   "outputs": [],
   "source": [
    "df1 = df.sort_values('연번')\n",
    "df1.index = range(len(df1))"
   ]
  },
  {
   "cell_type": "code",
   "execution_count": 62,
   "id": "4e05795f",
   "metadata": {
    "ExecuteTime": {
     "end_time": "2021-09-16T07:44:19.030388Z",
     "start_time": "2021-09-16T07:44:19.001175Z"
    }
   },
   "outputs": [],
   "source": [
    "df1 = df1[df1['지역'] != '중국']"
   ]
  },
  {
   "cell_type": "code",
   "execution_count": 63,
   "id": "38b91ece",
   "metadata": {
    "ExecuteTime": {
     "end_time": "2021-09-16T07:44:21.208738Z",
     "start_time": "2021-09-16T07:44:21.153277Z"
    }
   },
   "outputs": [
    {
     "data": {
      "text/plain": [
       "Index(['강남구', '강동구', '강북구', '강서구', '관악구', '광진구', '구로구', '금천구', '기타', '노원구',\n",
       "       '도봉구', '동대문구', '동작구', '마포구', '서대문구', '서초구', '성동구', '성북구', '송파구', '양천구',\n",
       "       '영등포구', '용산구', '은평구', '종로구', '중구', '중랑구', '타시도'],\n",
       "      dtype='object', name='지역')"
      ]
     },
     "execution_count": 63,
     "metadata": {},
     "output_type": "execute_result"
    }
   ],
   "source": [
    "df1.groupby('지역').count().index"
   ]
  },
  {
   "cell_type": "code",
   "execution_count": 66,
   "id": "2d957ed0",
   "metadata": {
    "ExecuteTime": {
     "end_time": "2021-09-16T07:45:05.116826Z",
     "start_time": "2021-09-16T07:45:04.891978Z"
    }
   },
   "outputs": [
    {
     "name": "stderr",
     "output_type": "stream",
     "text": [
      "/Users/ppangppang/opt/anaconda3/envs/ppangppang/lib/python3.9/site-packages/seaborn/_decorators.py:36: FutureWarning: Pass the following variables as keyword args: x, y. From version 0.12, the only valid positional argument will be `data`, and passing other arguments without an explicit keyword will result in an error or misinterpretation.\n",
      "  warnings.warn(\n"
     ]
    },
    {
     "data": {
      "image/png": "[encoded data removed]",
      "text/plain": [
       "<Figure size 576x576 with 1 Axes>"
      ]
     },
     "metadata": {
      "needs_background": "light"
     },
     "output_type": "display_data"
    }
   ],
   "source": [
    "plt.figure(figsize=(8,8))\n",
    "sns.barplot(df1.groupby('지역').count().index,df1.groupby('지역').count()['연번'])\n",
    "plt.xticks(rotation=90)\n",
    "plt.title('코로나 확진자 현황 2020.01 ~ 2021.09')\n",
    "plt.show() "
   ]
  },
  {
   "cell_type": "code",
   "execution_count": null,
   "id": "14b9f3b9",
   "metadata": {},
   "outputs": [],
   "source": []
  }
 ],
 "metadata": {
  "kernelspec": {
   "display_name": "Python 3",
   "language": "python",
   "name": "python3"
  },
  "language_info": {
   "codemirror_mode": {
    "name": "ipython",
    "version": 3
   },
   "file_extension": ".py",
   "mimetype": "text/x-python",
   "name": "python",
   "nbconvert_exporter": "python",
   "pygments_lexer": "ipython3",
   "version": "3.9.4"
  },
  "toc": {
   "base_numbering": 1,
   "nav_menu": {},
   "number_sections": true,
   "sideBar": true,
   "skip_h1_title": false,
   "title_cell": "Table of Contents",
   "title_sidebar": "Contents",
   "toc_cell": false,
   "toc_position": {},
   "toc_section_display": true,
   "toc_window_display": false
  },
  "varInspector": {
   "cols": {
    "lenName": 16,
    "lenType": 16,
    "lenVar": 40
   },
   "kernels_config": {
    "python": {
     "delete_cmd_postfix": "",
     "delete_cmd_prefix": "del ",
     "library": "var_list.py",
     "varRefreshCmd": "print(var_dic_list())"
    },
    "r": {
     "delete_cmd_postfix": ") ",
     "delete_cmd_prefix": "rm(",
     "library": "var_list.r",
     "varRefreshCmd": "cat(var_dic_list()) "
    }
   },
   "types_to_exclude": [
    "module",
    "function",
    "builtin_function_or_method",
    "instance",
    "_Feature"
   ],
   "window_display": false
  }
 },
 "nbformat": 4,
 "nbformat_minor": 5
}
