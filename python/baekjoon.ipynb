{
 "cells": [
  {
   "cell_type": "code",
   "execution_count": 1,
   "metadata": {},
   "outputs": [
    {
     "name": "stdout",
     "output_type": "stream",
     "text": [
      "60\n"
     ]
    }
   ],
   "source": [
    "first_num = input()\n",
    "count = 0\n",
    "\n",
    "while True:\n",
    "    first_info = first_num\n",
    "\n",
    "    if count == 0:\n",
    "        a = first_num\n",
    "    else:\n",
    "        a= next_num\n",
    "\n",
    "    if len(a) == 1:\n",
    "        a = '0'+str(a)\n",
    "        \n",
    "    front_num = int(a[0])\n",
    "    back_num = int(a[1])\n",
    "\n",
    "    temp_num = front_num + back_num\n",
    "    if len(str(temp_num)) == 1:\n",
    "        temp_str = '0'+str(temp_num)\n",
    "    else:\n",
    "        temp_str = str(temp_num)\n",
    "\n",
    "    next_num = str(back_num)+temp_str[1]\n",
    "    count += 1\n",
    "\n",
    "    if int(first_info)==int(next_num):\n",
    "        break\n",
    "print(count)"
   ]
  },
  {
   "cell_type": "code",
   "execution_count": 6,
   "metadata": {},
   "outputs": [
    {
     "name": "stdout",
     "output_type": "stream",
     "text": [
      "1 4\n"
     ]
    }
   ],
   "source": [
    "counts = int(input())\n",
    "num_list = list(map(int, input().split()))\n",
    "print(min(num_list), max(num_list))"
   ]
  },
  {
   "cell_type": "code",
   "execution_count": 8,
   "metadata": {},
   "outputs": [],
   "source": [
    "num1 = int(input())\n",
    "num2 = int(input())\n",
    "num3 = int(input())\n",
    "\n",
    "multi = num1*num2*num3\n",
    "\n",
    "num_list = [0,0,0,0,0,0,0,0,0,0]\n",
    "for i in str(multi):\n",
    "    for n in range(10):\n",
    "        if int(i) == n :\n",
    "            num_list[n] += 1\n",
    "\n",
    "for n in num_list:\n",
    "    print(n)"
   ]
  },
  {
   "cell_type": "code",
   "execution_count": 39,
   "metadata": {},
   "outputs": [
    {
     "name": "stdout",
     "output_type": "stream",
     "text": [
      "8\n"
     ]
    }
   ],
   "source": [
    "num_list = [int(input()) for i in range(10)]\n",
    "divide_list = [None for i in range(10)]\n",
    "cnt = []\n",
    "for i in range(10):\n",
    "    divide_list[i] = num_list[i]%42\n",
    "    if divide_list[i] not in cnt:\n",
    "        cnt.append(divide_list[i])\n",
    "print(len(cnt))"
   ]
  },
  {
   "cell_type": "code",
   "execution_count": 50,
   "metadata": {},
   "outputs": [
    {
     "name": "stdout",
     "output_type": "stream",
     "text": [
      "75.0\n"
     ]
    }
   ],
   "source": [
    "subject = int(input())\n",
    "num_list = list(map(int, input().split()))\n",
    "\n",
    "M = max(num_list)\n",
    "num_new =[]\n",
    "for i in num_list:\n",
    "    num_new.append(i/M*100)\n",
    "print(sum(num_new)/len(num_new))"
   ]
  },
  {
   "cell_type": "code",
   "execution_count": null,
   "metadata": {},
   "outputs": [],
   "source": []
  },
  {
   "cell_type": "code",
   "execution_count": 56,
   "metadata": {},
   "outputs": [
    {
     "data": {
      "text/plain": [
       "['1', '2', '3']"
      ]
     },
     "execution_count": 56,
     "metadata": {},
     "output_type": "execute_result"
    }
   ],
   "source": [
    "num = int(input())\n",
    "ans_list = [input() for i in range(num)]\n",
    "ans_list"
   ]
  },
  {
   "cell_type": "code",
   "execution_count": 57,
   "metadata": {},
   "outputs": [
    {
     "name": "stdout",
     "output_type": "stream",
     "text": [
      "10\n",
      "9\n",
      "7\n",
      "45\n",
      "30\n"
     ]
    }
   ],
   "source": [
    "num = int(input())\n",
    "ans_list = [input() for i in range(num)]\n",
    "\n",
    "for ans in ans_list:\n",
    "    score = 0\n",
    "    o_score = 0\n",
    "    for i in ans:\n",
    "        if i=='O':\n",
    "            o_score += 1\n",
    "            score += o_score\n",
    "\n",
    "        else:\n",
    "            o_score = 0\n",
    "    print(score)"
   ]
  },
  {
   "cell_type": "code",
   "execution_count": 107,
   "metadata": {},
   "outputs": [
    {
     "data": {
      "text/plain": [
       "119"
      ]
     },
     "execution_count": 107,
     "metadata": {},
     "output_type": "execute_result"
    }
   ],
   "source": [
    "num = int(input())\n",
    "target = 0\n",
    "\n",
    "if num <= 99:\n",
    "    target = num\n",
    "\n",
    "else:\n",
    "    \n",
    "    for i in range(100, num+1):\n",
    "        temp = str(i)\n",
    "        diff1 = int(temp[2]) - int(temp[1])\n",
    "        diff2 = int(temp[1]) - int(temp[0])\n",
    "\n",
    "        if diff1==diff2:\n",
    "            target += 1\n",
    "    target += 99\n",
    "\n",
    "print(target)"
   ]
  },
  {
   "cell_type": "code",
   "execution_count": null,
   "metadata": {},
   "outputs": [],
   "source": []
  },
  {
   "cell_type": "code",
   "execution_count": 122,
   "metadata": {},
   "outputs": [],
   "source": [
    "words = input()\n",
    "alphabet = ['a','b','c','d','e','f','g','h','i','j','k','l','m','n','o','p','q','r','s','t','u','v','w','x','y','z']\n",
    "location = [-1]*26\n",
    "\n",
    "for i in range(len(words)):\n",
    "    for alp in range(len(alphabet)):\n",
    "        if (words[i] == alphabet[alp]) & (location[alp]==-1):\n",
    "            location[alp] = i\n",
    "        else:\n",
    "            continue\n",
    "\n",
    "for i in location:\n",
    "    print(i,end=' ')"
   ]
  },
  {
   "cell_type": "code",
   "execution_count": 126,
   "metadata": {},
   "outputs": [
    {
     "name": "stdout",
     "output_type": "stream",
     "text": [
      "1 0 -1 -1 2 -1 -1 -1 -1 4 3 -1 -1 7 5 -1 -1 -1 -1 -1 -1 -1 -1 -1 -1 -1 "
     ]
    }
   ],
   "source": []
  },
  {
   "cell_type": "code",
   "execution_count": 146,
   "metadata": {},
   "outputs": [
    {
     "name": "stdout",
     "output_type": "stream",
     "text": [
      "AAABBBCCC\n",
      "/////HHHHHTTTTTPPPPP\n"
     ]
    }
   ],
   "source": [
    "case = int(input())\n",
    "\n",
    "for i in range(case):\n",
    "    temp = input()\n",
    "    temp = temp.split(' ')\n",
    "    string_list = temp[1]\n",
    "    for i in string_list:\n",
    "        print(i*int(temp[0]),end='')\n",
    "    print('')"
   ]
  },
  {
   "cell_type": "code",
   "execution_count": 213,
   "metadata": {},
   "outputs": [],
   "source": [
    "words = input()\n",
    "words_list =[]\n",
    "for i in words:\n",
    "    words_list.append(i.lower())\n",
    "\n",
    "words_list.sort()\n",
    "test = dict.fromkeys(words_list,0)\n",
    "for i in words_list:\n",
    "    test[i] += 1\n"
   ]
  },
  {
   "cell_type": "code",
   "execution_count": 215,
   "metadata": {},
   "outputs": [
    {
     "data": {
      "text/plain": [
       "'s'"
      ]
     },
     "execution_count": 215,
     "metadata": {},
     "output_type": "execute_result"
    }
   ],
   "source": [
    "max(test)"
   ]
  },
  {
   "cell_type": "code",
   "execution_count": 216,
   "metadata": {},
   "outputs": [
    {
     "data": {
      "text/plain": [
       "'/Users/ppangppang/Documents/dev/TIL'"
      ]
     },
     "execution_count": 216,
     "metadata": {},
     "output_type": "execute_result"
    }
   ],
   "source": [
    "pwd"
   ]
  },
  {
   "cell_type": "code",
   "execution_count": 217,
   "metadata": {},
   "outputs": [
    {
     "data": {
      "text/plain": [
       "['shape.json',\n",
       " 'iid_test.json',\n",
       " 'pose.json',\n",
       " 'weather.json',\n",
       " 'context.json',\n",
       " 'occlusion.json',\n",
       " 'texture.json']"
      ]
     },
     "execution_count": 217,
     "metadata": {},
     "output_type": "execute_result"
    }
   ],
   "source": [
    "import pandas as pd\n",
    "import os\n",
    "path = '/Users/ppangppang/Desktop/starting_ki/'\n",
    "files = os.listdir(path)\n",
    "files"
   ]
  },
  {
   "cell_type": "code",
   "execution_count": 223,
   "metadata": {},
   "outputs": [
    {
     "data": {
      "text/html": [
       "<div>\n",
       "<style scoped>\n",
       "    .dataframe tbody tr th:only-of-type {\n",
       "        vertical-align: middle;\n",
       "    }\n",
       "\n",
       "    .dataframe tbody tr th {\n",
       "        vertical-align: top;\n",
       "    }\n",
       "\n",
       "    .dataframe thead th {\n",
       "        text-align: right;\n",
       "    }\n",
       "</style>\n",
       "<table border=\"1\" class=\"dataframe\">\n",
       "  <thead>\n",
       "    <tr style=\"text-align: right;\">\n",
       "      <th></th>\n",
       "      <th>bbox</th>\n",
       "      <th>image_id</th>\n",
       "      <th>score</th>\n",
       "      <th>category_id</th>\n",
       "    </tr>\n",
       "  </thead>\n",
       "  <tbody>\n",
       "    <tr>\n",
       "      <th>0</th>\n",
       "      <td>[269, 27, 600, 386]</td>\n",
       "      <td>aeroplane_+_fog_OR_foggy_OR_smog_google_0008</td>\n",
       "      <td>1</td>\n",
       "      <td>2</td>\n",
       "    </tr>\n",
       "    <tr>\n",
       "      <th>1</th>\n",
       "      <td>[53, 152, 71, 117]</td>\n",
       "      <td>bicycle_+_fog_OR_foggy_OR_smog_google_0125</td>\n",
       "      <td>1</td>\n",
       "      <td>3</td>\n",
       "    </tr>\n",
       "    <tr>\n",
       "      <th>2</th>\n",
       "      <td>[126, 150, 83, 119]</td>\n",
       "      <td>bicycle_+_fog_OR_foggy_OR_smog_google_0125</td>\n",
       "      <td>1</td>\n",
       "      <td>3</td>\n",
       "    </tr>\n",
       "    <tr>\n",
       "      <th>3</th>\n",
       "      <td>[180, 137, 67, 128]</td>\n",
       "      <td>bicycle_+_fog_OR_foggy_OR_smog_google_0125</td>\n",
       "      <td>1</td>\n",
       "      <td>3</td>\n",
       "    </tr>\n",
       "    <tr>\n",
       "      <th>4</th>\n",
       "      <td>[865, 403, 163, 152]</td>\n",
       "      <td>boat_+_snow_OR_snowy_google_0060</td>\n",
       "      <td>1</td>\n",
       "      <td>4</td>\n",
       "    </tr>\n",
       "    <tr>\n",
       "      <th>...</th>\n",
       "      <td>...</td>\n",
       "      <td>...</td>\n",
       "      <td>...</td>\n",
       "      <td>...</td>\n",
       "    </tr>\n",
       "    <tr>\n",
       "      <th>1343</th>\n",
       "      <td>[41, 66, 1084, 255]</td>\n",
       "      <td>aeroplane_+_snow_OR_snowy_google_0101</td>\n",
       "      <td>1</td>\n",
       "      <td>2</td>\n",
       "    </tr>\n",
       "    <tr>\n",
       "      <th>1344</th>\n",
       "      <td>[163, 79, 271, 120]</td>\n",
       "      <td>aeroplane_+_fog_OR_foggy_OR_smog_google_0039</td>\n",
       "      <td>1</td>\n",
       "      <td>2</td>\n",
       "    </tr>\n",
       "    <tr>\n",
       "      <th>1345</th>\n",
       "      <td>[295, 206, 12, 19]</td>\n",
       "      <td>motorbike_in_foggy_day_google_0009</td>\n",
       "      <td>1</td>\n",
       "      <td>9</td>\n",
       "    </tr>\n",
       "    <tr>\n",
       "      <th>1346</th>\n",
       "      <td>[126, 170, 157, 152]</td>\n",
       "      <td>train_+_rain_OR_rainy_google_0159</td>\n",
       "      <td>1</td>\n",
       "      <td>1</td>\n",
       "    </tr>\n",
       "    <tr>\n",
       "      <th>1347</th>\n",
       "      <td>[189, 279, 299, 112]</td>\n",
       "      <td>aeroplane_+_fog_OR_foggy_OR_smog_google_0005</td>\n",
       "      <td>1</td>\n",
       "      <td>2</td>\n",
       "    </tr>\n",
       "  </tbody>\n",
       "</table>\n",
       "<p>1348 rows × 4 columns</p>\n",
       "</div>"
      ],
      "text/plain": [
       "                      bbox                                      image_id  \\\n",
       "0      [269, 27, 600, 386]  aeroplane_+_fog_OR_foggy_OR_smog_google_0008   \n",
       "1       [53, 152, 71, 117]    bicycle_+_fog_OR_foggy_OR_smog_google_0125   \n",
       "2      [126, 150, 83, 119]    bicycle_+_fog_OR_foggy_OR_smog_google_0125   \n",
       "3      [180, 137, 67, 128]    bicycle_+_fog_OR_foggy_OR_smog_google_0125   \n",
       "4     [865, 403, 163, 152]              boat_+_snow_OR_snowy_google_0060   \n",
       "...                    ...                                           ...   \n",
       "1343   [41, 66, 1084, 255]         aeroplane_+_snow_OR_snowy_google_0101   \n",
       "1344   [163, 79, 271, 120]  aeroplane_+_fog_OR_foggy_OR_smog_google_0039   \n",
       "1345    [295, 206, 12, 19]            motorbike_in_foggy_day_google_0009   \n",
       "1346  [126, 170, 157, 152]             train_+_rain_OR_rainy_google_0159   \n",
       "1347  [189, 279, 299, 112]  aeroplane_+_fog_OR_foggy_OR_smog_google_0005   \n",
       "\n",
       "      score  category_id  \n",
       "0         1            2  \n",
       "1         1            3  \n",
       "2         1            3  \n",
       "3         1            3  \n",
       "4         1            4  \n",
       "...     ...          ...  \n",
       "1343      1            2  \n",
       "1344      1            2  \n",
       "1345      1            9  \n",
       "1346      1            1  \n",
       "1347      1            2  \n",
       "\n",
       "[1348 rows x 4 columns]"
      ]
     },
     "execution_count": 223,
     "metadata": {},
     "output_type": "execute_result"
    }
   ],
   "source": [
    "pd.read_json(path+files[3])"
   ]
  },
  {
   "cell_type": "code",
   "execution_count": null,
   "metadata": {},
   "outputs": [],
   "source": []
  }
 ],
 "metadata": {
  "kernelspec": {
   "display_name": "Python 3.9.12 ('ppangppang')",
   "language": "python",
   "name": "python3"
  },
  "language_info": {
   "codemirror_mode": {
    "name": "ipython",
    "version": 3
   },
   "file_extension": ".py",
   "mimetype": "text/x-python",
   "name": "python",
   "nbconvert_exporter": "python",
   "pygments_lexer": "ipython3",
   "version": "3.9.12"
  },
  "orig_nbformat": 4,
  "vscode": {
   "interpreter": {
    "hash": "540344b0f56104dd127b2095bce08ee86d218da1ed9f9c0f54f4f6a1198c7eef"
   }
  }
 },
 "nbformat": 4,
 "nbformat_minor": 2
}
