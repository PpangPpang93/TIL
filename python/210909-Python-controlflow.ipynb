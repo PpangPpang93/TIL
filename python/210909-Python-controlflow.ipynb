{
 "cells": [
  {
   "cell_type": "markdown",
   "metadata": {},
   "source": [
    "# 흐름제어문(controlflow)\n",
    "> - 데이터 혹은 사용자가 설정한 조건에 따라 코드의 작동 및 프로그램이 제어 되도록 하는 구문  \n",
    ">> - 판별문, 조건문 또는 분기라고 부름 **`if`**, **`elif`**, **`else`**  \n",
    ">> - 반복문, 무한반복문 **`for`**, **`while`**\n",
    ">> - 예외처리 **`break`**, **`try`**, **`except`**, **`continue`**\n",
    "    \n",
    "# 흐름제어문의 구성\n",
    "> 흐름제어문을 구분하기 위해 indentation block(들여쓰기) 4칸, 혹은 tab을 사용한다.  \n",
    "타 언어의 **`{`** **`{`** **`}`** **`}`** 구분 대신 사용하기에 때문에 들여쓰기가 굉장히 중요하다\n",
    ">> - 순차 : 위에서부터 아래 방향으로 코드가 순서대로 실행된다.  \n",
    ">> - 분기 : 판별문  \n",
    ">> - 반복 : **`while`**, **`for`** 혹은 함수, 클래스  "
   ]
  },
  {
   "cell_type": "markdown",
   "metadata": {},
   "source": [
    "## if, elif, else\n",
    "> - 코드의 무조건 적인 실행이 아닌 사용자의 조건에 맞을 경우에만 코드가 실행되는 구조  \n",
    "- 같은 프로그램 내 다양한 경우의 수가 있을 경우 사용  \n",
    "- 코드의 흐름을 나누는 분기  "
   ]
  },
  {
   "cell_type": "markdown",
   "metadata": {},
   "source": [
    "### if 구문의 구조"
   ]
  },
  {
   "cell_type": "markdown",
   "metadata": {},
   "source": [
    "> **`if` `조건식` `:`** # 만약 ~ 라면 : if는 하나의 if문에서 딱 1번 나올 수 있다.  \n",
    ">>**`실행코드`**  # if 조건이 만족했을 경우 실행되는 코드\n",
    "\n",
    "> **`elif` `조건식` `:`** # 그게 아니라 ~ 라면 : 0 ~ 무제한 등장  \n",
    ">>**`실행코드`**  # elif 조건이 만족했을 경우 실행되는 코드\n",
    "\n",
    ">**`else` `:`** # 위의 조건이 전부 아니라면 : 0 ~ 1번 등장  \n",
    ">>**`실행코드`**  # 위의 모든 조건이 만족하지 않으면 실행되는 코드\n",
    "\n",
    "> 조건식 혹은 명제 - 참, 거짓을 판별할 수 있는 문장\n",
    "- 코드 실행의 결과가 `True`, `False`\n",
    "- `True`, `False`를 직접 사용가능하며 필요에 따라 조건연산을 사용한다.\n",
    ">> - a >= b\n",
    ">> - a <= b\n",
    ">> - a in b\n",
    ">> - a is b 등등"
   ]
  },
  {
   "cell_type": "markdown",
   "metadata": {},
   "source": [
    "### 간단한 if 구문"
   ]
  },
  {
   "cell_type": "code",
   "execution_count": 1,
   "metadata": {
    "ExecuteTime": {
     "end_time": "2021-09-06T07:37:29.876353Z",
     "start_time": "2021-09-06T07:37:29.872411Z"
    }
   },
   "outputs": [
    {
     "name": "stdout",
     "output_type": "stream",
     "text": [
      "else 실행\n"
     ]
    }
   ],
   "source": [
    "if False: \n",
    "    print('참1입니다')\n",
    "elif 0:\n",
    "    print('참2입니다')\n",
    "else:\n",
    "    print('else 실행')\n",
    "\n"
   ]
  },
  {
   "cell_type": "code",
   "execution_count": 2,
   "metadata": {
    "ExecuteTime": {
     "end_time": "2021-09-06T07:37:30.056621Z",
     "start_time": "2021-09-06T07:37:30.051275Z"
    }
   },
   "outputs": [
    {
     "name": "stdout",
     "output_type": "stream",
     "text": [
      "참2입니다\n"
     ]
    }
   ],
   "source": [
    "if 10>100: \n",
    "    print('참1입니다')\n",
    "elif (1 in [1,2,3,]) or (2 != 2):\n",
    "    print('참2입니다')\n",
    "else:\n",
    "    print('else 실행')\n",
    "# 4가 3보다 크다면(조건연산) 참이면\n",
    "\n",
    "# 해당 코드가 실행\n"
   ]
  },
  {
   "cell_type": "code",
   "execution_count": 3,
   "metadata": {
    "ExecuteTime": {
     "end_time": "2021-09-06T07:37:30.623549Z",
     "start_time": "2021-09-06T07:37:30.618711Z"
    }
   },
   "outputs": [],
   "source": [
    "# 변수와 elif 조건식을 사용\n"
   ]
  },
  {
   "cell_type": "markdown",
   "metadata": {},
   "source": [
    "### 제어문의 흐름을 파악해보기"
   ]
  },
  {
   "cell_type": "code",
   "execution_count": 4,
   "metadata": {
    "ExecuteTime": {
     "end_time": "2021-09-06T07:37:31.857468Z",
     "start_time": "2021-09-06T07:37:31.851403Z"
    }
   },
   "outputs": [
    {
     "name": "stdout",
     "output_type": "stream",
     "text": [
      "1\n",
      "2\n",
      "5\n",
      "6\n",
      "7\n",
      "9\n",
      "11\n",
      "12\n",
      "13\n"
     ]
    }
   ],
   "source": [
    "# 코드의 실행 결과는 무엇이 출력될까요? 125679111213 \n",
    "\n",
    "print(1) #1\n",
    "if True: #실행\n",
    "    print(2)  #2\n",
    "    if False: #실행 x\n",
    "        print(3)\n",
    "        print(4)\n",
    "    elif True: #실행\n",
    "        print(5) #3\n",
    "        if True: #실행\n",
    "            print(6) #4\n",
    "            print(7) #5\n",
    "            if False: #실행x\n",
    "                print(8)\n",
    "            elif True:#실행\n",
    "                print(9) #6\n",
    "    else: #실행x\n",
    "        print(10)\n",
    "    if True: #실행\n",
    "        print(11) #7\n",
    "    print(12) #8\n",
    "print(13) #9"
   ]
  },
  {
   "cell_type": "markdown",
   "metadata": {},
   "source": [
    "### 연습문제\n",
    "> 1. 간단한 스무고개 게임을 만들어봅시다.  \n",
    "컴퓨터와 플레이어를 변수로 만들고 두 값을 비교하여 업/다운/정답을 출력하는 프로그램을 만들어보겠습니다.\n",
    "\n",
    "> 2. 지난시간 우리는 변수와 데이터의 타입에 대해서 배웠습니다.  \n",
    "이번에는 방금 학습한 input함수를 사용하여 사용자로부터 키, 몸무게를 입력받아 변수에 저장하고  \n",
    "변수를 사용하여 bmi를 계산 후 아래 조건식에 따라 사용자의 체형을 출력해주는 프로그램을 작성해보겠습니다.  \n",
    ">>bmi = 체중(kg) / 키(m)^2  \n",
    "20 미만 - 저체중  \n",
    "20 ~ 24미만 - 표준체중  \n",
    "24 ~ 30미만 - 과체중  \n",
    "30 이상 - 비만  "
   ]
  },
  {
   "cell_type": "code",
   "execution_count": 5,
   "metadata": {
    "ExecuteTime": {
     "end_time": "2021-09-06T07:37:35.854389Z",
     "start_time": "2021-09-06T07:37:33.096422Z"
    }
   },
   "outputs": [
    {
     "name": "stdout",
     "output_type": "stream",
     "text": [
      "숫자 입력하세요(컴퓨터) : 3\n",
      "숫자를 입력하세요(본인) : 3\n",
      "Correct\n"
     ]
    }
   ],
   "source": [
    "# 연습문제1\n",
    "com = int(input(\"숫자 입력하세요(컴퓨터) : \"))\n",
    "me = int(input(\"숫자를 입력하세요(본인) : \"))\n",
    "while True :\n",
    "    if com > me:\n",
    "        print('down')\n",
    "        me = int(input(\"숫자를 입력하세요(본인) : \"))\n",
    "    elif com < me:\n",
    "        print('up')\n",
    "        me = int(input(\"숫자를 입력하세요(본인) : \"))\n",
    "    else:\n",
    "        print('Correct')\n",
    "        break;"
   ]
  },
  {
   "cell_type": "code",
   "execution_count": 29,
   "metadata": {
    "ExecuteTime": {
     "end_time": "2021-09-06T07:45:27.876075Z",
     "start_time": "2021-09-06T07:45:24.768923Z"
    }
   },
   "outputs": [
    {
     "name": "stdout",
     "output_type": "stream",
     "text": [
      "체중(kg), 키(m) 입력하시오 : 88 1.7\n",
      "입력하신 분의 bmi 지수는 30.45입니다\n",
      "비만\n"
     ]
    }
   ],
   "source": [
    "# 연습문제2\n",
    "weight, highth = map(float, input(\"체중(kg), 키(m) 입력하시오 : \").split())\n",
    "bmi = round(weight/(highth**2),2)\n",
    "print(f'입력하신 분의 bmi 지수는 {bmi}입니다')\n",
    "if bmi < 20:\n",
    "    print('저체중')\n",
    "elif 20 <= bmi <24:\n",
    "    print('표준체중')\n",
    "elif 24 <= bmi < 30:\n",
    "    print('과체중')\n",
    "else:\n",
    "    print('비만')"
   ]
  },
  {
   "cell_type": "markdown",
   "metadata": {},
   "source": [
    "## for, break\n",
    "> - 코드의 반복적인 실행을 위한 구문  \n",
    "- 반복실행해야 하는 범위가 있을 때 사용  \n",
    "- 보통은 데이터의 갯수 혹은 분석하고자 하는 데이터의 범위 내에서 반복작업을 할 때 사용  \n",
    "- **`if`** 문과 함께 주로 사용되는 제어구문  "
   ]
  },
  {
   "cell_type": "code",
   "execution_count": 7,
   "metadata": {
    "ExecuteTime": {
     "end_time": "2021-09-06T07:37:46.488885Z",
     "start_time": "2021-09-06T07:37:46.481208Z"
    }
   },
   "outputs": [
    {
     "name": "stdout",
     "output_type": "stream",
     "text": [
      "1\n",
      "2\n",
      "3\n",
      "4\n"
     ]
    }
   ],
   "source": [
    "# 단순반복 작업을 효율적으로... 4개는 손으로 해도 10개 100개는 어떻게?\n",
    "print(1)\n",
    "print(2)\n",
    "print(3)\n",
    "print(4)"
   ]
  },
  {
   "cell_type": "markdown",
   "metadata": {},
   "source": [
    "### for 문의 구조\n",
    ">**`for` `반복자` in `반복범위` `:`**  # 반복범위 안에서 반복자가 정의되며\n",
    ">>**`실행코드`** # 코드가 실행된다.\n",
    "    \n",
    "> - 반복자 : 구간(범위)를 순환하며 정의되는 변수  \n",
    "- 반복범위 : **`list`** 등 순서가 존재하는 자료구조  \n",
    "관례적으로 심플한 반복자는 **`_`**(반복자를 작업에 사용하지 않을경우) 혹은 영문자 **`i`**(iterator)를 사용한다.  \n",
    "혹은 **`range()`** 명령어로 혹은 반복작업 횟수로 설정 가능  \n",
    "    \n",
    ">**`range()`** 명령어  \n",
    "**`range(횟수)`** 횟수만큼의 범위 생성  \n",
    "**`range(x, y, z)`** x 부터 y-1 까지 z스텝 범위를 만들어주는 함수  "
   ]
  },
  {
   "cell_type": "code",
   "execution_count": 8,
   "metadata": {
    "ExecuteTime": {
     "end_time": "2021-09-06T07:37:50.083898Z",
     "start_time": "2021-09-06T07:37:50.080292Z"
    }
   },
   "outputs": [
    {
     "name": "stdout",
     "output_type": "stream",
     "text": [
      "0 1 2 3 4 "
     ]
    }
   ],
   "source": [
    "# 기본적인 for 구문 i(iterator 변수로서 사용 가능)\n",
    "\n",
    "    # 0 ~ 4까지 범위에서 i를 정의하며 반복한다.\n",
    "    # range() 명령어는 0부터 시작 5 전까지 구간을 생성\n",
    "    # 간단하게 5번 반복한다고 생각해도 무방합니다.\n",
    "for i in range(0,5):\n",
    "    print(i,end=' ')"
   ]
  },
  {
   "cell_type": "code",
   "execution_count": null,
   "metadata": {
    "ExecuteTime": {
     "end_time": "2021-04-05T07:25:03.564327Z",
     "start_time": "2021-04-05T07:25:03.558955Z"
    }
   },
   "outputs": [],
   "source": [
    "# 이터레이터 i를 조금 더 이해해보겠습니다.\n",
    "# 필요없을 것 같은 이 i라는 친구가 굉장히 유용합니다.\n",
    "\n",
    "# for 반복문을 수행하면서 i 값이 변화하고 반복문 내 변수로도 사용 가능합니다."
   ]
  },
  {
   "cell_type": "code",
   "execution_count": 10,
   "metadata": {
    "ExecuteTime": {
     "end_time": "2021-09-06T07:38:23.500766Z",
     "start_time": "2021-09-06T07:38:23.497551Z"
    }
   },
   "outputs": [
    {
     "name": "stdout",
     "output_type": "stream",
     "text": [
      "0 5 10 15 "
     ]
    }
   ],
   "source": [
    "# range 함수의 조건 추가\n",
    "# 0부터 19까지 5의 배수만을 출력\n",
    "for i in  range(0,19,5):   # for in range(20,0,-4)\n",
    "    print(i, end=' ')"
   ]
  },
  {
   "cell_type": "code",
   "execution_count": 56,
   "metadata": {
    "ExecuteTime": {
     "end_time": "2021-09-06T08:12:12.621857Z",
     "start_time": "2021-09-06T08:12:12.617090Z"
    }
   },
   "outputs": [
    {
     "name": "stdout",
     "output_type": "stream",
     "text": [
      "20 16 12 8 4 "
     ]
    }
   ],
   "source": [
    "for i in range(20,0,-4):\n",
    "    print(i, end=' ')"
   ]
  },
  {
   "cell_type": "markdown",
   "metadata": {},
   "source": [
    "### 연습문제"
   ]
  },
  {
   "cell_type": "code",
   "execution_count": 45,
   "metadata": {
    "ExecuteTime": {
     "end_time": "2021-09-09T00:25:48.727079Z",
     "start_time": "2021-09-09T00:25:48.722421Z"
    }
   },
   "outputs": [
    {
     "name": "stdout",
     "output_type": "stream",
     "text": [
      "----1단----\n",
      "1 X 1 = 1\n",
      "1 X 2 = 2\n",
      "1 X 3 = 3\n",
      "1 X 4 = 4\n",
      "1 X 5 = 5\n",
      "1 X 6 = 6\n",
      "1 X 7 = 7\n",
      "1 X 8 = 8\n",
      "1 X 9 = 9\n",
      "\n",
      "\n",
      "----2단----\n",
      "2 X 1 = 2\n",
      "2 X 2 = 4\n",
      "2 X 3 = 6\n",
      "2 X 4 = 8\n",
      "2 X 5 = 10\n",
      "2 X 6 = 12\n",
      "2 X 7 = 14\n",
      "2 X 8 = 16\n",
      "2 X 9 = 18\n",
      "\n",
      "\n"
     ]
    }
   ],
   "source": [
    "# for 문으로 range() 명령어만을 사용하여 구구단 구단을 출력해봅시다.\n",
    "for i in range(1,10):\n",
    "    print(f'----{i}단----')\n",
    "    for j in range(1,10):\n",
    "        print(f'{i} X {j} = {i*j}')\n",
    "    print('\\n')\n",
    "    if(i==2): break;"
   ]
  },
  {
   "cell_type": "markdown",
   "metadata": {},
   "source": [
    "### break 구문\n",
    "    반복 작업 중 작업을 종료해야 할 때 사용"
   ]
  },
  {
   "cell_type": "code",
   "execution_count": 62,
   "metadata": {
    "ExecuteTime": {
     "end_time": "2021-09-09T00:10:48.564517Z",
     "start_time": "2021-09-09T00:10:48.559587Z"
    }
   },
   "outputs": [
    {
     "name": "stdout",
     "output_type": "stream",
     "text": [
      "반복 0 반복 1 반복 2 반복 3 반복 4 반복 5 반복 6 "
     ]
    }
   ],
   "source": [
    "# 반복을 진행하다가 멈추고 싶다\n",
    "# 10번 반복\n",
    "\n",
    "# if문으로 조건식 생성\n",
    "# for i in range(100):\n",
    "#     if i == 3:\n",
    "#         break;\n",
    "#     else:\n",
    "#         print(i)\n",
    "    \n",
    "    \n",
    "for i in range(10):\n",
    "    print('반복', end=' ')\n",
    "    print(i,end=' ')\n",
    "    if i>5:\n",
    "        break;"
   ]
  },
  {
   "cell_type": "code",
   "execution_count": 2,
   "metadata": {
    "ExecuteTime": {
     "end_time": "2021-09-09T00:12:58.312465Z",
     "start_time": "2021-09-09T00:12:56.289246Z"
    }
   },
   "outputs": [
    {
     "name": "stdout",
     "output_type": "stream",
     "text": [
      "500500\n",
      "24\n",
      "1부터24까지 합은 300이 넘는다.\n"
     ]
    }
   ],
   "source": [
    "# 연습문제\n",
    "\n",
    "## 1~1000 까지 합을 구하여 출력\n",
    "sum_t = 0\n",
    "for i in range(1001):\n",
    "    sum_t += i\n",
    "print(sum_t)\n",
    "\n",
    "## 1부터 1씩 증가하는 수열에서 합이 300이상이 되는 시점의 정수\n",
    "sum_a=0\n",
    "while sum_a<300:\n",
    "    sum_a=0\n",
    "    n=int(input())\n",
    "    for i in range(1,n+1):\n",
    "        sum_a += i\n",
    "\n",
    "    if sum_a >= 300:\n",
    "        print(f\"1부터{n}까지 합은 300이 넘는다.\")\n",
    "    else:\n",
    "        print(f\"1부터{n}까지 합은 300이 되지 않는다. 다시 입력해라\")\n"
   ]
  },
  {
   "cell_type": "markdown",
   "metadata": {},
   "source": [
    "### 자료구조를 순환하는 for문의 활용(매우 중요)"
   ]
  },
  {
   "cell_type": "code",
   "execution_count": 12,
   "metadata": {
    "ExecuteTime": {
     "end_time": "2021-09-09T00:18:11.354147Z",
     "start_time": "2021-09-09T00:18:11.349529Z"
    }
   },
   "outputs": [
    {
     "name": "stdout",
     "output_type": "stream",
     "text": [
      "20 40 60 80 100 120 140 160 180 "
     ]
    }
   ],
   "source": [
    "test_list = [10,20,30,40,50,60,70,80,90]\n",
    "# test_list 내부를 순환하면서 i를 정의\n",
    "## 자료구조 내부를 순환 할 때는 반복자 변수명을 적어주는 편\n",
    "for item in test_list:\n",
    "    print(item*2,end=' ')"
   ]
  },
  {
   "cell_type": "code",
   "execution_count": 39,
   "metadata": {
    "ExecuteTime": {
     "end_time": "2021-09-09T00:22:48.771102Z",
     "start_time": "2021-09-09T00:22:48.756878Z"
    }
   },
   "outputs": [
    {
     "name": "stdout",
     "output_type": "stream",
     "text": [
      "0 서울\n",
      "1 용산구\n",
      "2 해방촌\n",
      "3 르카페\n",
      "4 재즈\n",
      "5 치즈\n",
      "6 요리\n"
     ]
    },
    {
     "data": {
      "text/plain": [
       "['서울', '용산구', '해방촌', '르카페', '시티팝', '치즈', '요리']"
      ]
     },
     "execution_count": 39,
     "metadata": {},
     "output_type": "execute_result"
    }
   ],
   "source": [
    "# 횟수뿐 아니라 구간이 정해져 있는 데이터를 순환하면서도 작업가능\n",
    "test_list = ['서울', '용산구', '해방촌', '르카페', '재즈', '치즈', '요리']\n",
    "# enumerate() 함수안의 자료구조의 인덱스와 함께 루프\n",
    "for index, item in enumerate(test_list):\n",
    "    print(index, item)\n",
    "    if index == 4:\n",
    "        test_list[index] = '시티팝'\n",
    "test_list"
   ]
  },
  {
   "cell_type": "code",
   "execution_count": 48,
   "metadata": {
    "ExecuteTime": {
     "end_time": "2021-09-09T00:28:44.833208Z",
     "start_time": "2021-09-09T00:28:44.826967Z"
    }
   },
   "outputs": [
    {
     "name": "stdout",
     "output_type": "stream",
     "text": [
      "이름 변치웅 0 22\n",
      "사는곳 서울 용산구 1 33\n",
      "사는동네 해방촌 2 44\n",
      "좋아하는 카페 르카페 3 55\n",
      "음악 재즈 4 66\n",
      "반려묘 치즈 5 77\n"
     ]
    }
   ],
   "source": [
    "# 횟수뿐 아니라 구간이 정해져 있는 데이터를 순환하면서도 작업가능\n",
    "test_list1 = ['이름', '사는곳', '사는동네', '좋아하는 카페', '음악', '반려묘', '취미']\n",
    "test_list2 = ['변치웅', '서울 용산구', '해방촌', '르카페', '재즈', '치즈', '요리']\n",
    "\n",
    "for item1,item2 in (zip(test_list1,test_list2)):   # zip함수 사용\n",
    "    print(item1, item2)\n",
    "\n",
    "test_list3 = [0,1,2,3,4,5,6]\n",
    "test_list4 = [22,33,44,55,66,77,88]\n",
    "\n",
    "for item1,item2,item3,item4 in (zip(test_list1,test_list2,test_list3,test_list4)):\n",
    "    print(item1, item2, item3, item4)\n",
    "    \n",
    "# 단, 자료의 개수가 맞아야 하고(개수가 맞지 않으면 덜 나옴, sql에서 innerjoin 같음), 순서가 있어야 한다."
   ]
  },
  {
   "cell_type": "code",
   "execution_count": null,
   "metadata": {},
   "outputs": [],
   "source": [
    "# 전체 폴더를 순환하면서 전체 파일에 접근(예시)\n",
    "# images\n",
    "# -- OK\n",
    "# -- NG\n",
    "# 파일명을 특정해서 작업을 편하게 할 수 있다.\n",
    "for files in images:\n",
    "    if files == 'OK':\n",
    "        new_file_path = file_path +'/OK'   # OK인 이미지파일에 /OK를 붙이고\n",
    "        os.chdir(new_file_path):\n",
    "        for files2 in os.listdir(): \n",
    "            open(files2)"
   ]
  },
  {
   "cell_type": "code",
   "execution_count": 54,
   "metadata": {
    "ExecuteTime": {
     "end_time": "2021-09-09T00:38:13.967664Z",
     "start_time": "2021-09-09T00:38:13.962284Z"
    }
   },
   "outputs": [
    {
     "name": "stdout",
     "output_type": "stream",
     "text": [
      "09_package_pandas_finance.ipynb\n",
      "02_python_sequence.ipynb\n",
      "05_python_packages.ipynb\n",
      "04_python_function_class.ipynb\n",
      "01_python_basic.ipynb\n",
      "03_python_controlflow.ipynb\n",
      "07_python_selenium.ipynb\n",
      "10_package_visualization.ipynb\n",
      "06_python_crawler.ipynb\n",
      "08_package_numpy.ipynb\n"
     ]
    }
   ],
   "source": [
    "# 폴더구조를 순환하는 for문의 활용\n",
    "import os   # 컴퓨터 기능을 잘 사용할 수 있게 해줌\n",
    "# os.listdir() # 현재 jupyter notebook이 사용하고 있는 커널(위치)의 파일명을 알려준다\n",
    "\n",
    "for file_nm in os.listdir():\n",
    "#     print(file_nm)\n",
    "    if file_nm[-5:] == 'ipynb':  # ipynb 파일을 찾아서 나열\n",
    "        print(file_nm)\n",
    "        # 이후, 작업을 할 수 있음"
   ]
  },
  {
   "cell_type": "code",
   "execution_count": 58,
   "metadata": {
    "ExecuteTime": {
     "end_time": "2021-09-09T00:41:47.579584Z",
     "start_time": "2021-09-09T00:41:47.574726Z"
    }
   },
   "outputs": [
    {
     "data": {
      "text/plain": [
       "[0, 1, 2, 3, 4, 5, 6, 7, 8, 9]"
      ]
     },
     "execution_count": 58,
     "metadata": {},
     "output_type": "execute_result"
    }
   ],
   "source": [
    "# 그렇다면 미리 정해진 숫자 혹은 데이터로만 사용이 가능할까?\n",
    "# 생성할 때도 용이함\n",
    "test_list=[]\n",
    "for i in range(10):\n",
    "    test_list.append(i)\n",
    "test_list"
   ]
  },
  {
   "cell_type": "markdown",
   "metadata": {},
   "source": [
    "### list comprehension 고오급 python 스킬\n",
    "> - controlflow를 활용하여 간단하게 리스트 생성 가능한 파이썬 구문  \n",
    "- 데이터의 특정 부분만을 따로 변수로 사용하고자 할 때 굉장히 많이 사용하는 파이썬 코딩스킬"
   ]
  },
  {
   "cell_type": "code",
   "execution_count": 61,
   "metadata": {
    "ExecuteTime": {
     "end_time": "2021-09-09T00:43:51.181748Z",
     "start_time": "2021-09-09T00:43:51.176501Z"
    }
   },
   "outputs": [
    {
     "data": {
      "text/plain": [
       "[0, 1, 2, 3, 4, 5, 6, 7, 8, 9]"
      ]
     },
     "execution_count": 61,
     "metadata": {},
     "output_type": "execute_result"
    }
   ],
   "source": [
    "# 심플한 리스트 컴프리헨션 구문\n",
    "test_list = [i for i in range(10)]\n",
    "test_list"
   ]
  },
  {
   "cell_type": "code",
   "execution_count": 63,
   "metadata": {
    "ExecuteTime": {
     "end_time": "2021-09-09T00:49:31.106780Z",
     "start_time": "2021-09-09T00:49:31.101466Z"
    }
   },
   "outputs": [
    {
     "data": {
      "text/plain": [
       "[1, 3, 5, 7, 9]"
      ]
     },
     "execution_count": 63,
     "metadata": {},
     "output_type": "execute_result"
    }
   ],
   "source": [
    "# if문이 추가된 리스트 컴프리헨션 구문\n",
    "test_list = [i for i in range(10) if i % 2 !=0]\n",
    "test_list"
   ]
  },
  {
   "cell_type": "code",
   "execution_count": 69,
   "metadata": {
    "ExecuteTime": {
     "end_time": "2021-09-09T01:05:22.450584Z",
     "start_time": "2021-09-09T01:05:22.445039Z"
    }
   },
   "outputs": [
    {
     "data": {
      "text/plain": [
       "[0, 100, 2, 300, 4, 500, 6, 700, 8, 900]"
      ]
     },
     "execution_count": 69,
     "metadata": {},
     "output_type": "execute_result"
    }
   ],
   "source": [
    "# if, else문이 추가된 리스트 컴프리헨션 구문(elif 불가) # 거의 쓸일 없음\n",
    "# else 추가가 되면 for문 앞에 if else 구문이 위치함\n",
    "test_list = [i if i % 2 == 0 else i * 100 for i in range(10)]\n",
    "test_list"
   ]
  },
  {
   "cell_type": "code",
   "execution_count": 77,
   "metadata": {
    "ExecuteTime": {
     "end_time": "2021-09-09T01:16:11.900277Z",
     "start_time": "2021-09-09T01:16:11.892953Z"
    }
   },
   "outputs": [
    {
     "data": {
      "text/plain": [
       "[0, 100, 2, 300, 4, 500, 6, 700, 8, 900]"
      ]
     },
     "execution_count": 77,
     "metadata": {},
     "output_type": "execute_result"
    }
   ],
   "source": [
    "# 위 코드를 풀어쓴다면?\n",
    "# 여러줄의 반복문과 조건문을 사용해야하지만 이를 한줄로 커버\n",
    "test_list=[]\n",
    "for i in range(10):\n",
    "    if i%2==0:\n",
    "        test_list.append(i)\n",
    "    else:\n",
    "        test_list.append(i*100)\n",
    "test_list"
   ]
  },
  {
   "cell_type": "markdown",
   "metadata": {},
   "source": [
    "## while\n",
    "> - 코드의 무한 반복적인 실행을 위한 반복문  \n",
    "- 조건식이 참일 경우 실행코드가 무한반복하여 실행 됨  \n",
    "- 보통은 프로그램을 실행 대기상태로 두거나 입력값을 받는 등의 용도로 사용.(데이터 분석 사용빈도 낮음)  "
   ]
  },
  {
   "cell_type": "markdown",
   "metadata": {},
   "source": [
    "### while문의 구조\n",
    ">**`while` `조건식` `:`** # 조건식이 참이라면\n",
    ">>**`실행코드`** # 코드가 무한반복 실행\n",
    "        \n",
    "> `while` 문의 조건식이 참일 경우 무조건 실행되게끔 짜여진 구조.  \n",
    "`while` 문을 사용 할 때에는 반복구문을 어떻게 종료 해야할지 설정해야 함."
   ]
  },
  {
   "cell_type": "code",
   "execution_count": null,
   "metadata": {
    "ExecuteTime": {
     "end_time": "2021-03-22T04:54:04.040031Z",
     "start_time": "2021-03-22T04:53:55.699326Z"
    },
    "scrolled": false
   },
   "outputs": [],
   "source": [
    "# 기본적인 while 구문\n",
    "# for문과는 달리 조건식을 while 구문 바로 뒤에 적어줌\n",
    "# while문의 무한루프를 컨트롤 하기위한 변수 설정하고 조건식을 추가하여 코드실행을 컨트롤\n",
    "\n",
    "# 반복을 진행하다가 멈추고 싶다\n",
    "    #a += 1\n",
    "    #if a > 50:\n",
    "    #    break"
   ]
  },
  {
   "cell_type": "code",
   "execution_count": null,
   "metadata": {
    "ExecuteTime": {
     "end_time": "2021-09-09T01:25:56.950187Z",
     "start_time": "2021-09-09T01:25:56.944822Z"
    },
    "scrolled": true
   },
   "outputs": [],
   "source": [
    "# 1~10까지 출력되도록\n",
    "# while문\n",
    "i=1\n",
    "while i<=10:\n",
    "    print(i)\n",
    "    i = i+1\n",
    "    \n",
    "a=0    \n",
    "while True:\n",
    "    a += 1\n",
    "    print(a)\n",
    "    if a==10:\n",
    "        break"
   ]
  },
  {
   "cell_type": "code",
   "execution_count": null,
   "metadata": {
    "ExecuteTime": {
     "end_time": "2021-09-09T01:25:53.023492Z",
     "start_time": "2021-09-09T01:25:53.018930Z"
    }
   },
   "outputs": [],
   "source": [
    "# 10~1까지 출력되도록\n",
    "# while문\n",
    "a=11    \n",
    "while True:\n",
    "    a -= 1\n",
    "    print(a)\n",
    "    if a==1:\n",
    "        break"
   ]
  },
  {
   "cell_type": "code",
   "execution_count": 86,
   "metadata": {
    "ExecuteTime": {
     "end_time": "2021-09-09T01:27:24.529074Z",
     "start_time": "2021-09-09T01:27:24.524357Z"
    }
   },
   "outputs": [
    {
     "data": {
      "text/plain": [
       "15"
      ]
     },
     "execution_count": 86,
     "metadata": {},
     "output_type": "execute_result"
    }
   ],
   "source": [
    "# 1~5까지의 합을 구해서 출력\n",
    "# while문\n",
    "a=1\n",
    "sum = 0\n",
    "while True:\n",
    "    sum += a\n",
    "    a = a+1\n",
    "    if a>5:\n",
    "        break\n",
    "sum"
   ]
  },
  {
   "cell_type": "code",
   "execution_count": 87,
   "metadata": {
    "ExecuteTime": {
     "end_time": "2021-09-09T01:27:39.930035Z",
     "start_time": "2021-09-09T01:27:39.924893Z"
    }
   },
   "outputs": [
    {
     "data": {
      "text/plain": [
       "5050"
      ]
     },
     "execution_count": 87,
     "metadata": {},
     "output_type": "execute_result"
    }
   ],
   "source": [
    "# 1~100까지의 합\n",
    "# while 문\n",
    "a=1\n",
    "sum = 0\n",
    "while True:\n",
    "    sum += a\n",
    "    a = a+1\n",
    "    if a>100:\n",
    "        break\n",
    "sum"
   ]
  },
  {
   "cell_type": "code",
   "execution_count": 89,
   "metadata": {
    "ExecuteTime": {
     "end_time": "2021-09-09T01:28:10.912969Z",
     "start_time": "2021-09-09T01:28:10.907711Z"
    }
   },
   "outputs": [
    {
     "data": {
      "text/plain": [
       "5050"
      ]
     },
     "execution_count": 89,
     "metadata": {},
     "output_type": "execute_result"
    }
   ],
   "source": [
    "# for문\n",
    "sum=0\n",
    "for i in range(1,101):\n",
    "    sum += i\n",
    "sum"
   ]
  },
  {
   "cell_type": "code",
   "execution_count": 108,
   "metadata": {
    "ExecuteTime": {
     "end_time": "2021-09-09T01:42:11.272146Z",
     "start_time": "2021-09-09T01:42:11.266796Z"
    }
   },
   "outputs": [
    {
     "data": {
      "text/plain": [
       "2500"
      ]
     },
     "execution_count": 108,
     "metadata": {},
     "output_type": "execute_result"
    }
   ],
   "source": [
    "# 1~100까지의 정수 중에서 홀수들의 합\n",
    "# while문\n",
    "sum_odd = 0\n",
    "num = 0\n",
    "while True:\n",
    "    num += 1\n",
    "    if num >= 100:\n",
    "        break\n",
    "    elif num%2 != 0:\n",
    "        sum_odd += num\n",
    "sum_odd"
   ]
  },
  {
   "cell_type": "code",
   "execution_count": 101,
   "metadata": {
    "ExecuteTime": {
     "end_time": "2021-09-09T01:35:53.703547Z",
     "start_time": "2021-09-09T01:35:53.697115Z"
    }
   },
   "outputs": [
    {
     "data": {
      "text/plain": [
       "2500"
      ]
     },
     "execution_count": 101,
     "metadata": {},
     "output_type": "execute_result"
    }
   ],
   "source": [
    "# for문\n",
    "sum_odd = 0\n",
    "for i in range(1,101):\n",
    "    if i%2 != 0:\n",
    "        sum_odd += i\n",
    "sum_odd"
   ]
  },
  {
   "cell_type": "code",
   "execution_count": 104,
   "metadata": {
    "ExecuteTime": {
     "end_time": "2021-09-09T01:36:31.419974Z",
     "start_time": "2021-09-09T01:36:31.414685Z"
    }
   },
   "outputs": [
    {
     "data": {
      "text/plain": [
       "2550"
      ]
     },
     "execution_count": 104,
     "metadata": {},
     "output_type": "execute_result"
    }
   ],
   "source": [
    "# 1~100까지의 정수 중에서 짝수들의 합\n",
    "# while문\n",
    "sum_even = 0\n",
    "num = 0\n",
    "while True:\n",
    "    num += 1\n",
    "    if num > 100:\n",
    "        break\n",
    "    elif num%2 == 0:\n",
    "        sum_even += num\n",
    "sum_even"
   ]
  },
  {
   "cell_type": "code",
   "execution_count": 107,
   "metadata": {
    "ExecuteTime": {
     "end_time": "2021-09-09T01:37:25.953734Z",
     "start_time": "2021-09-09T01:37:25.949295Z"
    }
   },
   "outputs": [
    {
     "data": {
      "text/plain": [
       "2550"
      ]
     },
     "execution_count": 107,
     "metadata": {},
     "output_type": "execute_result"
    }
   ],
   "source": [
    "# for문\n",
    "sum_even = 0\n",
    "for i in range(1,101):\n",
    "    if i%2 == 0:\n",
    "        sum_even += i\n",
    "sum_even"
   ]
  },
  {
   "cell_type": "markdown",
   "metadata": {},
   "source": [
    "### 연습문제\n",
    ">간단한 스무고개 게임 업그레이드 버전  \n",
    "컴퓨터가 저장 할 숫자를 사용자에게 입력받아 저장하고, 게이머에게 입력받은 숫자를 판별하여 업, 다운, 정답을 출력.   \n",
    "게임 횟수는 10회이며, 10회 동안 정답을 못 맞출 경우 실패 문구를 출력하도록 프로그램을 만들어 보겠습니다."
   ]
  },
  {
   "cell_type": "code",
   "execution_count": null,
   "metadata": {
    "ExecuteTime": {
     "end_time": "2021-09-09T01:45:30.091005Z",
     "start_time": "2021-09-09T01:45:17.072376Z"
    }
   },
   "outputs": [],
   "source": [
    "# 연습문제 \n",
    "import random\n",
    "com = random.randrange(1,100)\n",
    "count = 0\n",
    "\n",
    "while True:\n",
    "    player = int(input(\"숫자 입력(1~100) : \"))\n",
    "    count += 1\n",
    "    \n",
    "    if count == 10:\n",
    "        print(\"Game over\")\n",
    "        print(com)\n",
    "        break\n",
    "    elif com > player:\n",
    "        print(\"Up\")\n",
    "    elif com < player:\n",
    "        print(\"Down\")\n",
    "    else:\n",
    "        print(\"Correct\")\n",
    "        break"
   ]
  },
  {
   "cell_type": "markdown",
   "metadata": {},
   "source": [
    "### 연습문제\n",
    ">간단한 ATM기 시스템을 만들어보겠습니다.\n",
    "\n",
    ">>사용자로부터 메뉴를 입력받습니다.\n",
    "1. 입금\n",
    "2. 출금\n",
    "3. 잔액확인\n",
    "4. 종료\n",
    "\n",
    ">입력받은 메뉴에 따라 계좌잔액에 입금과 출금을 적용하고 잔액을 출력해봅시다.\n",
    "종료메뉴는 while 문을 빠져나오도록 프로그램을 종료시킵니다."
   ]
  },
  {
   "cell_type": "code",
   "execution_count": 190,
   "metadata": {
    "ExecuteTime": {
     "end_time": "2021-09-09T08:56:09.985464Z",
     "start_time": "2021-09-09T08:55:47.378585Z"
    }
   },
   "outputs": [
    {
     "name": "stdout",
     "output_type": "stream",
     "text": [
      "시작 금액 입력 : 1000\n",
      "\n",
      "\n",
      "어서오세요 SSAC 뱅크입니다.\n",
      "원하시는 메뉴를 입력해주세요.\n",
      "1.입금\n",
      "2.출금\n",
      "3.잔액\n",
      "4.거래내역확인\n",
      "5.종료\n",
      "\n",
      "\n",
      "사용할 메뉴번호 입력하시오 : 1\n",
      "입금하실 금액 입력하시오 : 10\n",
      "현재 잔액은 1010원 입니다.\n",
      "사용할 메뉴번호 입력하시오 : 2\n",
      "출금하실 금액 입력하시오 : 30\n",
      "현재 잔액은 980원 입니다.\n",
      "사용할 메뉴번호 입력하시오 : 3\n",
      "현재 잔액 : 980\n",
      "사용할 메뉴번호 입력하시오 : 1\n",
      "입금하실 금액 입력하시오 : 202020\n",
      "현재 잔액은 203000원 입니다.\n",
      "사용할 메뉴번호 입력하시오 : 2\n",
      "출금하실 금액 입력하시오 : 101010\n",
      "현재 잔액은 101990원 입니다.\n",
      "사용할 메뉴번호 입력하시오 : 3\n",
      "현재 잔액 : 101990\n",
      "사용할 메뉴번호 입력하시오 : 4\n",
      "ATM 사용이력 출력\n",
      "{'입금금액1': 10, '출금금액2': 30, '잔액확인3': '잔액확인', '입금금액4': 202020, '출금금액5': 101010, '잔액확인6': '잔액확인'}\n",
      "사용할 메뉴번호 입력하시오 : 5\n",
      "종료\n"
     ]
    }
   ],
   "source": [
    "# 연습문제 \n",
    "money = int(input(\"시작 금액 입력 : \"))\n",
    "history = dict()\n",
    "his_c = 1\n",
    "wel = '''\n",
    "\n",
    "어서오세요 SSAC 뱅크입니다.\n",
    "원하시는 메뉴를 입력해주세요.\n",
    "1.입금\n",
    "2.출금\n",
    "3.잔액\n",
    "4.거래내역확인\n",
    "5.종료\n",
    "\n",
    "'''\n",
    "print(wel)\n",
    "while True: \n",
    "    try:\n",
    "        num = int(input(\"사용할 메뉴번호 입력하시오 : \"))\n",
    "    except ValueError:\n",
    "        num = int(input(\"잘 못 누르셨습니다. 숫자로 입력하셔야 합니다 : \"))\n",
    "    \n",
    "    if num == 1:\n",
    "        m_in = int(input(\"입금하실 금액 입력하시오 : \"))\n",
    "        money += m_in\n",
    "        print(f\"현재 잔액은 {money}원 입니다.\")\n",
    "        history[f\"입금금액{his_c}\"] =m_in\n",
    "        his_c += 1\n",
    "\n",
    "    elif num == 2:\n",
    "        m_wi = int(input(\"출금하실 금액 입력하시오 : \"))\n",
    "        \n",
    "        if money > m_wi:\n",
    "            money -= m_wi\n",
    "            print(f\"현재 잔액은 {money}원 입니다.\")\n",
    "            history[f\"출금금액{his_c}\"] = m_wi\n",
    "            his_c += 1\n",
    "        \n",
    "        elif money < m_wi:\n",
    "            print(\"잔액이 부족합니다\")\n",
    "            print(f\"현재 잔액은 {money}원 입니다.\")\n",
    "            history[f\"출금시도금액{his_c}\"] = \"출금실패 : 잔액부족\"\n",
    "            his_c += 1\n",
    "            \n",
    "    elif num == 3:\n",
    "        print(f\"현재 잔액 : {money}\")\n",
    "        history[f\"잔액확인{his_c}\"] = \"잔액확인\"\n",
    "        his_c += 1\n",
    "\n",
    "    elif num == 4:\n",
    "        print(\"ATM 사용이력 출력\")\n",
    "        print(history)\n",
    "    \n",
    "    elif num == 5:\n",
    "        print(\"종료\")\n",
    "        break\n",
    "        \n",
    "    elif num > 5 and num < 1:\n",
    "        print(\"잘못 누르셨습니다. 번호를 다시 확인하시고 원하시는 메뉴를 눌러주세요\")\n",
    "#         history[f\"입력오류{his_c}\"] = \"입력오류\"\n",
    "#         his_c += 1"
   ]
  },
  {
   "cell_type": "markdown",
   "metadata": {},
   "source": [
    "## **try, except(오류처리 혹은 예외처리)**\n",
    ">**`try`**, **`except`** 구문은 오류 발생가능성이 있는 구문을 처리하거나  \n",
    "반드시 오류가 발생하는 구문을 감싸 정상적인 프로그램 흐름이 이어질 수 있도록 처리하는 예외처리 구문입니다.\n",
    "\n",
    ">**`try`** **`:`**  \n",
    ">> **[처리하고 싶은 코드]**\n",
    "\n",
    ">**`except`** **`[오류명]`** **`:`**  \n",
    ">> **[try로 처리하지 못한 작업을 처리하기 위한 코드]**"
   ]
  },
  {
   "cell_type": "code",
   "execution_count": null,
   "metadata": {
    "ExecuteTime": {
     "end_time": "2021-04-21T11:58:00.463575Z",
     "start_time": "2021-04-21T11:58:00.368854Z"
    }
   },
   "outputs": [],
   "source": [
    "# 정의되지 않은 변수 호출\n",
    "name_name"
   ]
  },
  {
   "cell_type": "code",
   "execution_count": null,
   "metadata": {
    "ExecuteTime": {
     "end_time": "2021-04-21T11:58:18.573958Z",
     "start_time": "2021-04-21T11:58:18.567171Z"
    }
   },
   "outputs": [],
   "source": [
    "# 연산이 불가능\n",
    "'hi' / 10"
   ]
  },
  {
   "cell_type": "code",
   "execution_count": 142,
   "metadata": {
    "ExecuteTime": {
     "end_time": "2021-09-09T02:44:25.264743Z",
     "start_time": "2021-09-09T02:44:25.256720Z"
    }
   },
   "outputs": [
    {
     "ename": "ZeroDivisionError",
     "evalue": "division by zero",
     "output_type": "error",
     "traceback": [
      "\u001b[0;31m---------------------------------------------------------------------------\u001b[0m",
      "\u001b[0;31mZeroDivisionError\u001b[0m                         Traceback (most recent call last)",
      "\u001b[0;32m/var/folders/c0/q_ltjrb55gzc5wvhsv7s_vsh0000gn/T/ipykernel_33012/2228021716.py\u001b[0m in \u001b[0;36m<module>\u001b[0;34m\u001b[0m\n\u001b[1;32m      1\u001b[0m \u001b[0;31m# 0으로 못나눔\u001b[0m\u001b[0;34m\u001b[0m\u001b[0;34m\u001b[0m\u001b[0;34m\u001b[0m\u001b[0m\n\u001b[0;32m----> 2\u001b[0;31m \u001b[0;36m0\u001b[0m \u001b[0;34m/\u001b[0m \u001b[0;36m0\u001b[0m\u001b[0;34m\u001b[0m\u001b[0;34m\u001b[0m\u001b[0m\n\u001b[0m",
      "\u001b[0;31mZeroDivisionError\u001b[0m: division by zero"
     ]
    }
   ],
   "source": [
    "# 0으로 못나눔\n",
    "0 / 0"
   ]
  },
  {
   "cell_type": "code",
   "execution_count": 141,
   "metadata": {
    "ExecuteTime": {
     "end_time": "2021-09-09T02:41:20.552108Z",
     "start_time": "2021-09-09T02:41:20.542127Z"
    }
   },
   "outputs": [
    {
     "ename": "IndexError",
     "evalue": "list index out of range",
     "output_type": "error",
     "traceback": [
      "\u001b[0;31m---------------------------------------------------------------------------\u001b[0m",
      "\u001b[0;31mIndexError\u001b[0m                                Traceback (most recent call last)",
      "\u001b[0;32m/var/folders/c0/q_ltjrb55gzc5wvhsv7s_vsh0000gn/T/ipykernel_33012/2740262462.py\u001b[0m in \u001b[0;36m<module>\u001b[0;34m\u001b[0m\n\u001b[1;32m      1\u001b[0m \u001b[0;31m# 인덱스 오류\u001b[0m\u001b[0;34m\u001b[0m\u001b[0;34m\u001b[0m\u001b[0;34m\u001b[0m\u001b[0m\n\u001b[1;32m      2\u001b[0m \u001b[0mtest_list\u001b[0m \u001b[0;34m=\u001b[0m \u001b[0;34m[\u001b[0m\u001b[0;36m1\u001b[0m\u001b[0;34m,\u001b[0m \u001b[0;36m2\u001b[0m\u001b[0;34m,\u001b[0m \u001b[0;36m3\u001b[0m\u001b[0;34m,\u001b[0m \u001b[0;36m4\u001b[0m\u001b[0;34m,\u001b[0m \u001b[0;36m5\u001b[0m\u001b[0;34m]\u001b[0m\u001b[0;34m\u001b[0m\u001b[0;34m\u001b[0m\u001b[0m\n\u001b[0;32m----> 3\u001b[0;31m \u001b[0mtest_list\u001b[0m\u001b[0;34m[\u001b[0m\u001b[0;36m5\u001b[0m\u001b[0;34m]\u001b[0m\u001b[0;34m\u001b[0m\u001b[0;34m\u001b[0m\u001b[0m\n\u001b[0m",
      "\u001b[0;31mIndexError\u001b[0m: list index out of range"
     ]
    }
   ],
   "source": [
    "# 인덱스 오류\n",
    "test_list = [1, 2, 3, 4, 5]\n",
    "test_list[5]"
   ]
  },
  {
   "cell_type": "code",
   "execution_count": null,
   "metadata": {
    "ExecuteTime": {
     "end_time": "2021-09-09T04:20:11.680009Z",
     "start_time": "2021-09-09T04:20:10.796309Z"
    }
   },
   "outputs": [],
   "source": [
    "## 여러가지 에러를 발생시키고 이를 예외로 처리하기\n",
    "\n",
    "num_list = []\n",
    "for i in range(2):\n",
    "    num = input('숫자를 입력하세요 : ') # 문자를 입력하여 에러발생\n",
    "\n",
    "    try:\n",
    "        num = int(num) # 값에러\n",
    "    except ValueError:\n",
    "        num = input('값을 잘못 입력하셨습니다. 숫자를 입력해주세요 : ')\n",
    "        num = int(num)\n",
    "\n",
    "    num_list.append(num)\n",
    "    \n",
    "    try:\n",
    "        a = num_list[5] # 인덱스에러발생\n",
    "    except IndexError:\n",
    "        print('인덱스를 벗어난 값이 있습니다. 리스트의 맨 마지막 값을 저장합니다.')\n",
    "        a = num_list[-1]\n",
    "    \n",
    "    try:\n",
    "        b = sum(a) # 타입에러\n",
    "    except TypeError:\n",
    "        pass\n"
   ]
  },
  {
   "cell_type": "code",
   "execution_count": 189,
   "metadata": {
    "ExecuteTime": {
     "end_time": "2021-09-09T04:29:51.245920Z",
     "start_time": "2021-09-09T04:29:51.239830Z"
    }
   },
   "outputs": [
    {
     "data": {
      "text/plain": [
       "52"
      ]
     },
     "execution_count": 189,
     "metadata": {},
     "output_type": "execute_result"
    }
   ],
   "source": [
    "# try/except 연습\n",
    "total = 0\n",
    "test_list = [1,2,3,4,5,6,7,'5',9,10]\n",
    "for item in test_list:\n",
    "    item * 2\n",
    "    try:\n",
    "        item = int(item)\n",
    "    except ValueError:\n",
    "        item = int(str(item))\n",
    "    total += item\n",
    "total"
   ]
  }
 ],
 "metadata": {
  "kernelspec": {
   "display_name": "Python 3 (ipykernel)",
   "language": "python",
   "name": "python3"
  },
  "language_info": {
   "codemirror_mode": {
    "name": "ipython",
    "version": 3
   },
   "file_extension": ".py",
   "mimetype": "text/x-python",
   "name": "python",
   "nbconvert_exporter": "python",
   "pygments_lexer": "ipython3",
   "version": "3.9.6"
  },
  "toc": {
   "base_numbering": 1,
   "nav_menu": {},
   "number_sections": true,
   "sideBar": true,
   "skip_h1_title": true,
   "title_cell": "Table of Contents",
   "title_sidebar": "Contents",
   "toc_cell": false,
   "toc_position": {},
   "toc_section_display": true,
   "toc_window_display": false
  },
  "varInspector": {
   "cols": {
    "lenName": 16,
    "lenType": 16,
    "lenVar": 40
   },
   "kernels_config": {
    "python": {
     "delete_cmd_postfix": "",
     "delete_cmd_prefix": "del ",
     "library": "var_list.py",
     "varRefreshCmd": "print(var_dic_list())"
    },
    "r": {
     "delete_cmd_postfix": ") ",
     "delete_cmd_prefix": "rm(",
     "library": "var_list.r",
     "varRefreshCmd": "cat(var_dic_list()) "
    }
   },
   "types_to_exclude": [
    "module",
    "function",
    "builtin_function_or_method",
    "instance",
    "_Feature"
   ],
   "window_display": false
  }
 },
 "nbformat": 4,
 "nbformat_minor": 2
}
