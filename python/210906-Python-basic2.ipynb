{
 "cells": [
  {
   "cell_type": "markdown",
   "metadata": {},
   "source": [
    "# 자료구조\n",
    "> - 데이터의 집합  \n",
    "- 데이터가 들어가 있는 바구니  \n",
    "- 변수에 저장할 수 있는 데이터의 집합  \n",
    ">> - **`list`**(리스트)  \n",
    ">> - **`tuple`**(튜플)  \n",
    ">> - **`dict`**(딕셔너리)  \n",
    ">> - **`set`**(셋)"
   ]
  },
  {
   "cell_type": "markdown",
   "metadata": {},
   "source": [
    "## 리스트(list)\n",
    "> - 파이썬에서 가장 흔히 사용하는 데이터의 자료구조  \n",
    "- 순서가 있다.  \n",
    "- **`[ ]`** 대괄호로 묶어 사용한다.  \n",
    "- 리스트 안에 들어가는 요소들은 ,(쉼표)로 구분한다."
   ]
  },
  {
   "cell_type": "markdown",
   "metadata": {},
   "source": [
    "### 리스트의 생성"
   ]
  },
  {
   "cell_type": "code",
   "execution_count": 5,
   "metadata": {
    "ExecuteTime": {
     "end_time": "2021-09-06T04:24:07.282638Z",
     "start_time": "2021-09-06T04:24:07.278424Z"
    }
   },
   "outputs": [
    {
     "name": "stdout",
     "output_type": "stream",
     "text": [
      "[]\n",
      "[]\n"
     ]
    }
   ],
   "source": [
    "# 빈 리스트 만들기\n",
    "# 용어 정리 : 변수에 데이터를 저장하는 작업을 저장, 할당, 디파인, 바인딩\n",
    "empty_list = list()\n",
    "# 대괄호 뿐 아니라 명령어로도 작동한다.\n",
    "empty_list2 = []\n",
    "print(empty_list)\n",
    "print(empty_list2)"
   ]
  },
  {
   "cell_type": "code",
   "execution_count": 74,
   "metadata": {
    "ExecuteTime": {
     "end_time": "2021-09-06T05:05:18.164135Z",
     "start_time": "2021-09-06T05:05:18.158838Z"
    }
   },
   "outputs": [
    {
     "data": {
      "text/plain": [
       "['coin', 'card', 'cash', 'id', 'licence']"
      ]
     },
     "execution_count": 74,
     "metadata": {},
     "output_type": "execute_result"
    }
   ],
   "source": [
    "# 값과 함께 리스트 만들기\n",
    "# wallet 이라는 변수에 'coin', 'card', 'cash', 'id', 'licence' 5개의 텍스트 데이터가 들어가 있는 리스트를 저장\n",
    "wallet = ['coin', 'card', 'cash', 'id', 'licence']\n",
    "wallet"
   ]
  },
  {
   "cell_type": "code",
   "execution_count": 89,
   "metadata": {
    "ExecuteTime": {
     "end_time": "2021-09-06T05:06:29.942799Z",
     "start_time": "2021-09-06T05:06:29.935715Z"
    }
   },
   "outputs": [
    {
     "data": {
      "text/plain": [
       "[1, 3.14, ['coin', 'card', 'cash', 'id', 'licence']]"
      ]
     },
     "execution_count": 89,
     "metadata": {},
     "output_type": "execute_result"
    }
   ],
   "source": [
    "# 리스트 in 리스트\n",
    "# 리스트 내부에는 정수, 실수, 문자열 뿐만 아니라 자료구조인 list와 앞으로 학습할 기타 자료구조도 포함시킬 수 있다.\n",
    "wallet2=[1,3.14,wallet]\n",
    "wallet2"
   ]
  },
  {
   "cell_type": "markdown",
   "metadata": {},
   "source": [
    "### 리스트 갯수세기"
   ]
  },
  {
   "cell_type": "code",
   "execution_count": 11,
   "metadata": {
    "ExecuteTime": {
     "end_time": "2021-09-06T04:27:40.321120Z",
     "start_time": "2021-09-06T04:27:40.316906Z"
    }
   },
   "outputs": [
    {
     "data": {
      "text/plain": [
       "5"
      ]
     },
     "execution_count": 11,
     "metadata": {},
     "output_type": "execute_result"
    }
   ],
   "source": [
    "# 리스트 전체 항목의 갯수를 보고싶다면\n",
    "# len() 명령어는 자료구조 내 원소의 갯수를 세는 명령어이다.\n",
    "# python 기본 명령어로 다양한 자료구조에도 사용이 가능하다.\n",
    "len(wallet)"
   ]
  },
  {
   "cell_type": "markdown",
   "metadata": {},
   "source": [
    "### 리스트의 인덱싱(indexing), 슬라이싱(slicing)\n",
    "> - 리스트의 특정 항목에 접근(색인)\n",
    "- 인덱싱은 하나의 값에 접근, 슬라이싱은 여러개의 값의 묶음에 접근  \n",
    "- 리스트의 순서를 인덱스라고 하며 **0**부터 시작"
   ]
  },
  {
   "cell_type": "code",
   "execution_count": 14,
   "metadata": {
    "ExecuteTime": {
     "end_time": "2021-09-06T04:31:54.379179Z",
     "start_time": "2021-09-06T04:31:54.374941Z"
    }
   },
   "outputs": [
    {
     "data": {
      "text/plain": [
       "'licence'"
      ]
     },
     "execution_count": 14,
     "metadata": {},
     "output_type": "execute_result"
    }
   ],
   "source": [
    "# 인덱싱\n",
    "# 파이썬의 인덱스는 0 부터 시작한다.\n",
    "# 리스트의 첫번째 항목 가져오기\n",
    "wallet[0]"
   ]
  },
  {
   "cell_type": "code",
   "execution_count": 18,
   "metadata": {
    "ExecuteTime": {
     "end_time": "2021-09-06T04:32:54.478320Z",
     "start_time": "2021-09-06T04:32:54.472878Z"
    }
   },
   "outputs": [
    {
     "data": {
      "text/plain": [
       "['coin', 'card', 'cash']"
      ]
     },
     "execution_count": 18,
     "metadata": {},
     "output_type": "execute_result"
    }
   ],
   "source": [
    "# 슬라이싱\n",
    "# [start index : end index+1 : steps]\n",
    "\n",
    "# 리스트의 첫번째 항목부터 3번째 항목까지 가져오기\n",
    "wallet[0:3]\n",
    "wallet[:3]\n",
    "wallet[-5:-2]\n",
    "\n",
    "# 리스트의 4번째 항목부터 마지막 항목까지 가져오기\n",
    "wallet[3:]\n",
    "wallet[-2:]\n",
    "# 리스트의 4번째 항목까지 가져오기\n",
    "wallet[:4]\n",
    "wallet[0:4]\n",
    "\n",
    "# 리스트의 맨 마지막 항목 가져오기\n",
    "# 인덱스로 음수를 전달하면 마지막 인덱스부터 역순으로 인덱싱을 한다.\n",
    "wallet[4]\n",
    "wallet[-1]\n",
    "\n",
    "# 리스트의 전체 항목 중 2의 배수 인덱스 항목가져오기\n",
    "test_list = [1,2,3,4,5,6,7,8,9,10]\n",
    "test_list[1::2]"
   ]
  },
  {
   "cell_type": "code",
   "execution_count": 50,
   "metadata": {
    "ExecuteTime": {
     "end_time": "2021-09-06T04:42:51.836628Z",
     "start_time": "2021-09-06T04:42:51.831989Z"
    }
   },
   "outputs": [
    {
     "data": {
      "text/plain": [
       "'cash'"
      ]
     },
     "execution_count": 50,
     "metadata": {},
     "output_type": "execute_result"
    }
   ],
   "source": [
    "# 위의 wallet2의 cash를 인덱싱 해보자\n",
    "wallet2\n",
    "wallet2[2][2]"
   ]
  },
  {
   "cell_type": "markdown",
   "metadata": {},
   "source": [
    "### 리스트 편집"
   ]
  },
  {
   "cell_type": "code",
   "execution_count": null,
   "metadata": {},
   "outputs": [],
   "source": [
    "# 리스트 내 특정항목 업데이트\n",
    "# 인덱스 혹은 슬라이싱으로 접근 한 데이터를 직접 변경하는 방법\n"
   ]
  },
  {
   "cell_type": "markdown",
   "metadata": {},
   "source": [
    "#### 내부명령어\n",
    "> 리스트는 자료구조를 갖고 있으면서 리스트 작업을 위해 필요한 내부명령어도 함께 제공한다.  \n",
    "이후 자세히 다루지만 지금은 사용하는 방법 정도만을 기억해두시면 됩니다  \n",
    "리스트이름 뒤 .(콤마)로 명령어에 접근이 가능합니다.  \n",
    "- **`list_name`**.**`func()`**"
   ]
  },
  {
   "cell_type": "code",
   "execution_count": 83,
   "metadata": {
    "ExecuteTime": {
     "end_time": "2021-09-06T05:06:19.744645Z",
     "start_time": "2021-09-06T05:06:19.741949Z"
    }
   },
   "outputs": [],
   "source": [
    "# 리스트에 항목추가\n",
    "# append() 명령어에 추가할 값을 전달하여 리스트에 추가합니다.\n",
    "wallet2.append(500)\n",
    "\n",
    "#extend\n",
    "# wallet2.extend(wallet)\n",
    "# wallet2"
   ]
  },
  {
   "cell_type": "code",
   "execution_count": 77,
   "metadata": {
    "ExecuteTime": {
     "end_time": "2021-09-06T05:05:34.217780Z",
     "start_time": "2021-09-06T05:05:34.215228Z"
    }
   },
   "outputs": [],
   "source": [
    "# 리스트에 특정 항목 삭제\n",
    "wallet2.remove(500)"
   ]
  },
  {
   "cell_type": "code",
   "execution_count": 91,
   "metadata": {
    "ExecuteTime": {
     "end_time": "2021-09-06T05:09:31.509642Z",
     "start_time": "2021-09-06T05:09:31.505337Z"
    }
   },
   "outputs": [
    {
     "data": {
      "text/plain": [
       "100"
      ]
     },
     "execution_count": 91,
     "metadata": {},
     "output_type": "execute_result"
    }
   ],
   "source": [
    "# 리스트의 맨 마지막 항목 꺼내오기 (값도 꺼내면서 리스트의 마지막 항목 삭제)\n",
    "wallet2.append(100)\n",
    "pop_val = wallet2.pop()\n",
    "wallet2\n",
    "pop_val\n",
    "# 위에서 빼낸 맨 마지막 항목을 변수로 저장하여 사용 가능합니다.\n",
    "# 경우에 따라서는 변수로 저장하지 않고 값을 제거 할 때도 유용하게 사용합니다."
   ]
  },
  {
   "cell_type": "code",
   "execution_count": 97,
   "metadata": {
    "ExecuteTime": {
     "end_time": "2021-09-06T05:10:39.397813Z",
     "start_time": "2021-09-06T05:10:39.392905Z"
    }
   },
   "outputs": [
    {
     "data": {
      "text/plain": [
       "[8, 7, 6, 4, 3, 2, 1]"
      ]
     },
     "execution_count": 97,
     "metadata": {},
     "output_type": "execute_result"
    }
   ],
   "source": [
    "# 테스트에 사용할 num_list 생성\n",
    "num_list = [3, 4, 6, 1, 2, 8, 7]\n",
    "\n",
    "# 리스트의 값 정렬 (숫자는 오름차순, 문자는 알파벳순, 한글은 가나다순)\n",
    "num_list.sort()\n",
    "# 역정렬도 가능\n",
    "num_list.sort(reverse=True)\n",
    "num_list"
   ]
  },
  {
   "cell_type": "code",
   "execution_count": 115,
   "metadata": {
    "ExecuteTime": {
     "end_time": "2021-09-06T05:15:09.131476Z",
     "start_time": "2021-09-06T05:15:09.126704Z"
    }
   },
   "outputs": [
    {
     "data": {
      "text/plain": [
       "[7, 8, 2, 1, 6, 4, 3]"
      ]
     },
     "execution_count": 115,
     "metadata": {},
     "output_type": "execute_result"
    }
   ],
   "source": [
    "# 리스트 순서 역순(단순 역순)\n",
    "num_list = [3, 4, 6, 1, 2, 8, 7]\n",
    "num_list.reverse()\n",
    "num_list"
   ]
  },
  {
   "cell_type": "code",
   "execution_count": 116,
   "metadata": {
    "ExecuteTime": {
     "end_time": "2021-09-06T05:15:11.132250Z",
     "start_time": "2021-09-06T05:15:11.125401Z"
    }
   },
   "outputs": [
    {
     "data": {
      "text/plain": [
       "[7, 8, 2, 1, 100, 4, 3]"
      ]
     },
     "execution_count": 116,
     "metadata": {},
     "output_type": "execute_result"
    }
   ],
   "source": [
    "num_list = [3, 4, 6, 1, 2, 8, 7]\n",
    "# 리스트 내 6의 인덱스 위치번호를 보여줌\n",
    "num_list.index(6)\n",
    "# 리스트에 6이라는 값이 들어있는 인덱스 번호를 넣어서 그 값을 찾고 100으로 변환\n",
    "num_list[num_list.index(6)] =100\n",
    "num_list"
   ]
  },
  {
   "cell_type": "code",
   "execution_count": 113,
   "metadata": {
    "ExecuteTime": {
     "end_time": "2021-09-06T05:14:15.605667Z",
     "start_time": "2021-09-06T05:14:15.600625Z"
    }
   },
   "outputs": [
    {
     "data": {
      "text/plain": [
       "[7, 8, 2, 1, 100, 4, 3]"
      ]
     },
     "execution_count": 113,
     "metadata": {},
     "output_type": "execute_result"
    }
   ],
   "source": [
    "num_list"
   ]
  },
  {
   "cell_type": "code",
   "execution_count": 117,
   "metadata": {
    "ExecuteTime": {
     "end_time": "2021-09-06T05:17:31.431108Z",
     "start_time": "2021-09-06T05:17:31.426957Z"
    }
   },
   "outputs": [
    {
     "data": {
      "text/plain": [
       "1"
      ]
     },
     "execution_count": 117,
     "metadata": {},
     "output_type": "execute_result"
    }
   ],
   "source": [
    "# 리스트 내 특정항목 갯수 세기\n",
    "# append로 coin 하나 추가한 값\n",
    "wallet.count('card')"
   ]
  },
  {
   "cell_type": "markdown",
   "metadata": {},
   "source": [
    "### 리스트 연산"
   ]
  },
  {
   "cell_type": "code",
   "execution_count": 130,
   "metadata": {
    "ExecuteTime": {
     "end_time": "2021-09-06T05:24:30.149223Z",
     "start_time": "2021-09-06T05:24:30.145560Z"
    }
   },
   "outputs": [],
   "source": [
    "# int형 데이터가 들어가 있는 num1, num2 리스트 생성\n",
    "num1 = [1, 2, 3, 4, 5]\n",
    "num2 = [4, 5, 6, 7, 8]"
   ]
  },
  {
   "cell_type": "code",
   "execution_count": 132,
   "metadata": {
    "ExecuteTime": {
     "end_time": "2021-09-06T05:24:44.909086Z",
     "start_time": "2021-09-06T05:24:44.904011Z"
    }
   },
   "outputs": [
    {
     "data": {
      "text/plain": [
       "5"
      ]
     },
     "execution_count": 132,
     "metadata": {},
     "output_type": "execute_result"
    }
   ],
   "source": [
    "# 리스트의 덧셈 연산\n",
    "num1+num2\n",
    "# 리스트 내부 항목 합, 최소값, 최대값\n",
    "sum(num2), min(num2), max(num2)\n",
    "# 이미 학습한 print, len 명령어와 같이 다른 자료구조에도 적용가능합니다.\n",
    "\n",
    "# 조건연산자 테스트\n",
    "1 not in num1\n",
    "\n",
    "# 리스트의 곱셈 연산\n",
    "num1[0]*num2[1]"
   ]
  },
  {
   "cell_type": "markdown",
   "metadata": {},
   "source": [
    "### 리스트 삭제"
   ]
  },
  {
   "cell_type": "code",
   "execution_count": 127,
   "metadata": {
    "ExecuteTime": {
     "end_time": "2021-09-06T05:23:50.999560Z",
     "start_time": "2021-09-06T05:23:50.996800Z"
    }
   },
   "outputs": [],
   "source": [
    "# 리스트 삭제 (변수 삭제, 값 삭제)\n",
    "# 생성한 리스트는 남아있지만 내부 항목을 모두 삭제합니다.\n",
    "wallet.clear()\n",
    "wallet\n",
    "\n",
    "# 메모리에서 완전히 삭제\n",
    "del wallet\n",
    "wallet"
   ]
  },
  {
   "cell_type": "markdown",
   "metadata": {},
   "source": [
    "## 딕셔너리(dict)\n",
    "> `key`와 `value`값을 쌍으로 저장가능 한 자료구조  \n",
    "- `key` : `value`  \n",
    "- **`{ }`** 중괄호로 묶어 사용한다.  \n",
    "- 딕셔너리 요소 구분은 리스트와 마찬가지로 쉼표  \n",
    "- indexing이 되지 않음"
   ]
  },
  {
   "cell_type": "markdown",
   "metadata": {},
   "source": [
    "### 딕셔너리 생성"
   ]
  },
  {
   "cell_type": "code",
   "execution_count": 133,
   "metadata": {
    "ExecuteTime": {
     "end_time": "2021-09-06T05:30:02.132300Z",
     "start_time": "2021-09-06T05:30:02.128927Z"
    }
   },
   "outputs": [],
   "source": [
    "# 빈 딕셔너리 생성\n",
    "test_dict = {}\n",
    "# 딕셔너리는 중괄호 사용\n",
    "test_dict = dict()"
   ]
  },
  {
   "cell_type": "code",
   "execution_count": 202,
   "metadata": {
    "ExecuteTime": {
     "end_time": "2021-09-06T05:50:03.556279Z",
     "start_time": "2021-09-06T05:50:03.552475Z"
    }
   },
   "outputs": [],
   "source": [
    "# 값을 추가하면서 딕셔너리 생성\n",
    "wallet = {\n",
    "    'card':'SK카드',   \n",
    "    'cash':3000,\n",
    "    'coin':{'500원': 2, '100원' : 3},  #딕셔너리 내 딕셔너리\n",
    "    'id':['주민등록증','여권'],   #딕셔너리 내 list\n",
    "    'licence':'운전면허증'\n",
    "}\n",
    "\n",
    "# 중괄호 내 key : value 값을 전달하고 각 항목의 구분은 쉼표\n",
    "# 리스트와 마찬가지로 딕셔너리 내부에 리스트등 타 자료구조 저장 가능"
   ]
  },
  {
   "cell_type": "code",
   "execution_count": 168,
   "metadata": {
    "ExecuteTime": {
     "end_time": "2021-09-06T05:39:28.710445Z",
     "start_time": "2021-09-06T05:39:28.705316Z"
    }
   },
   "outputs": [
    {
     "data": {
      "text/plain": [
       "{'card': 'SK카드',\n",
       " 'cash': 3000,\n",
       " 'coin': {'500원': 2, '100원': 3},\n",
       " 'id': ['주민등록증', '여권'],\n",
       " 'licence': '운전면허증'}"
      ]
     },
     "execution_count": 168,
     "metadata": {},
     "output_type": "execute_result"
    }
   ],
   "source": [
    "# 딕셔너리 호출\n",
    "wallet"
   ]
  },
  {
   "cell_type": "markdown",
   "metadata": {},
   "source": [
    "### 딕셔너리 갯수세기"
   ]
  },
  {
   "cell_type": "code",
   "execution_count": 169,
   "metadata": {
    "ExecuteTime": {
     "end_time": "2021-09-06T05:39:29.792201Z",
     "start_time": "2021-09-06T05:39:29.787733Z"
    },
    "scrolled": true
   },
   "outputs": [
    {
     "data": {
      "text/plain": [
       "5"
      ]
     },
     "execution_count": 169,
     "metadata": {},
     "output_type": "execute_result"
    }
   ],
   "source": [
    "len(wallet)"
   ]
  },
  {
   "cell_type": "markdown",
   "metadata": {},
   "source": [
    "### 딕셔너리 값에 접근하기"
   ]
  },
  {
   "cell_type": "code",
   "execution_count": 170,
   "metadata": {
    "ExecuteTime": {
     "end_time": "2021-09-06T05:39:31.857668Z",
     "start_time": "2021-09-06T05:39:31.852459Z"
    }
   },
   "outputs": [
    {
     "data": {
      "text/plain": [
       "'SK카드'"
      ]
     },
     "execution_count": 170,
     "metadata": {},
     "output_type": "execute_result"
    }
   ],
   "source": [
    "# key값으로 딕셔너리 값에 접근\n",
    "wallet['card']\n",
    "# 리스트에서 인덱스를 사용하였다면 딕셔너리는 key값을 전달하여 값에 접근합니다.\n",
    "# wallet 100원짜리 값에 접근\n",
    "wallet['coin']['100원']\n",
    "# '여권'\n",
    "wallet['id'][1]"
   ]
  },
  {
   "cell_type": "markdown",
   "metadata": {},
   "source": [
    "### 딕셔너리 편집"
   ]
  },
  {
   "cell_type": "code",
   "execution_count": 180,
   "metadata": {
    "ExecuteTime": {
     "end_time": "2021-09-06T05:44:02.748842Z",
     "start_time": "2021-09-06T05:44:02.743277Z"
    }
   },
   "outputs": [
    {
     "data": {
      "text/plain": [
       "{'card': 'SK카드',\n",
       " 'cash': 3000,\n",
       " 'coin': {'500원': 2, '100원': 3},\n",
       " 'id': ['주민등록증', '여권'],\n",
       " 'licence': '운전면허증',\n",
       " 'point card': '해피포인트',\n",
       " 100: 100}"
      ]
     },
     "execution_count": 180,
     "metadata": {},
     "output_type": "execute_result"
    }
   ],
   "source": [
    "# 딕셔너리에 point card key를 갖는 해피포인트 문자열을 값으로 저장\n",
    "wallet['point card'] = '해피포인트'\n",
    "wallet\n",
    "# key값이 숫자여도 관계없음(인덱싱이랑 헷갈릴 수 있음)\n",
    "# wallet[100] = 100\n",
    "# wallet"
   ]
  },
  {
   "cell_type": "code",
   "execution_count": 181,
   "metadata": {
    "ExecuteTime": {
     "end_time": "2021-09-06T05:44:06.902964Z",
     "start_time": "2021-09-06T05:44:06.894714Z"
    }
   },
   "outputs": [
    {
     "data": {
      "text/plain": [
       "{'card': 'SK카드',\n",
       " 'cash': 3000,\n",
       " 'coin': {'500원': 2, '100원': 3},\n",
       " 'id': ['주민등록증', '여권'],\n",
       " 'licence': '운전면허증',\n",
       " 'point card': 'CJ one',\n",
       " 100: 100}"
      ]
     },
     "execution_count": 181,
     "metadata": {},
     "output_type": "execute_result"
    }
   ],
   "source": [
    "# 딕셔너리 특정 항목 업데이트\n",
    "wallet.update({'point card': 'CJ one'})  # 위에처럼 새로 지정해주는게 더 편하긴 함\n",
    "wallet"
   ]
  },
  {
   "cell_type": "code",
   "execution_count": 182,
   "metadata": {
    "ExecuteTime": {
     "end_time": "2021-09-06T05:44:49.183746Z",
     "start_time": "2021-09-06T05:44:49.178515Z"
    }
   },
   "outputs": [
    {
     "data": {
      "text/plain": [
       "{'card': 'SK카드',\n",
       " 'cash': 3000,\n",
       " 'coin': {'500원': 2, '100원': 3},\n",
       " 'id': ['주민등록증', '여권'],\n",
       " 'licence': '운전면허증',\n",
       " 'point card': 'CJ one'}"
      ]
     },
     "execution_count": 182,
     "metadata": {},
     "output_type": "execute_result"
    }
   ],
   "source": [
    "# 딕셔너리 특정 value값 빼오기, value를 지정해줘야함\n",
    "# pop 명령어로 빼온 값, wallet에는 해당항목 사라져 있음\n",
    "wallet.pop(100)\n",
    "wallet"
   ]
  },
  {
   "cell_type": "code",
   "execution_count": 200,
   "metadata": {
    "ExecuteTime": {
     "end_time": "2021-09-06T05:49:15.076195Z",
     "start_time": "2021-09-06T05:49:15.070136Z"
    }
   },
   "outputs": [
    {
     "data": {
      "text/plain": [
       "{'card': 'SK카드',\n",
       " 'cash': 3000,\n",
       " 'coin': {'500원': 2, '100원': 3, '50원': 1},\n",
       " 'id': ['주민등록증', '여권'],\n",
       " 'licence': '운전면허증',\n",
       " 'point card': 'CJ one'}"
      ]
     },
     "execution_count": 200,
     "metadata": {},
     "output_type": "execute_result"
    }
   ],
   "source": [
    "# 딕셔너리 내부 속성 값에 접근해서 값 업데이트도 가능하다.\n",
    "# wallet의 coin key값을 갖는 값에 50원:1 값을 추가한다.\n",
    "wallet['coin']['50원'] = 1   # 또는 wallet['coin'].update({'50원': 1})\n",
    "wallet"
   ]
  },
  {
   "cell_type": "code",
   "execution_count": 211,
   "metadata": {
    "ExecuteTime": {
     "end_time": "2021-09-06T05:51:23.385262Z",
     "start_time": "2021-09-06T05:51:23.380300Z"
    }
   },
   "outputs": [
    {
     "data": {
      "text/plain": [
       "{'card': 'SK카드',\n",
       " 'cash': 3000,\n",
       " 'coin': {'500원': 2, '100원': 3},\n",
       " 'id': ['주민등록증', '여권', '운전면허증'],\n",
       " 'licence': '운전면허증'}"
      ]
     },
     "execution_count": 211,
     "metadata": {},
     "output_type": "execute_result"
    }
   ],
   "source": [
    "# wallet id key값에 '운전면허증' 추가\n",
    "wallet['id'].append('운전면허증')\n",
    "wallet"
   ]
  },
  {
   "cell_type": "markdown",
   "metadata": {},
   "source": [
    "### 딕셔너리 삭제"
   ]
  },
  {
   "cell_type": "code",
   "execution_count": 228,
   "metadata": {
    "ExecuteTime": {
     "end_time": "2021-09-06T06:04:05.364147Z",
     "start_time": "2021-09-06T06:04:05.359450Z"
    }
   },
   "outputs": [
    {
     "data": {
      "text/plain": [
       "{}"
      ]
     },
     "execution_count": 228,
     "metadata": {},
     "output_type": "execute_result"
    }
   ],
   "source": [
    "# 딕셔너리 항목 제거\n",
    "# 딕셔너리의 key값까지 전달하여 해당 key값과 값을 동시에 제거\n",
    "del wallet['id']"
   ]
  },
  {
   "cell_type": "code",
   "execution_count": null,
   "metadata": {
    "ExecuteTime": {
     "end_time": "2021-04-05T06:41:44.675662Z",
     "start_time": "2021-04-05T06:41:44.670983Z"
    }
   },
   "outputs": [],
   "source": [
    "# 딕셔너리 원소 전체 삭제\n",
    "wallet.clear()\n",
    "wallet"
   ]
  },
  {
   "cell_type": "code",
   "execution_count": 230,
   "metadata": {
    "ExecuteTime": {
     "end_time": "2021-09-06T06:04:49.050006Z",
     "start_time": "2021-09-06T06:04:49.043462Z"
    }
   },
   "outputs": [
    {
     "ename": "NameError",
     "evalue": "name 'wallet' is not defined",
     "output_type": "error",
     "traceback": [
      "\u001b[0;31m---------------------------------------------------------------------------\u001b[0m",
      "\u001b[0;31mNameError\u001b[0m                                 Traceback (most recent call last)",
      "\u001b[0;32m/var/folders/c0/q_ltjrb55gzc5wvhsv7s_vsh0000gn/T/ipykernel_22916/2920545664.py\u001b[0m in \u001b[0;36m<module>\u001b[0;34m\u001b[0m\n\u001b[1;32m      1\u001b[0m \u001b[0;31m# 딕셔너리 변수 완전 삭제\u001b[0m\u001b[0;34m\u001b[0m\u001b[0;34m\u001b[0m\u001b[0;34m\u001b[0m\u001b[0m\n\u001b[0;32m----> 2\u001b[0;31m \u001b[0;32mdel\u001b[0m \u001b[0mwallet\u001b[0m\u001b[0;34m\u001b[0m\u001b[0;34m\u001b[0m\u001b[0m\n\u001b[0m",
      "\u001b[0;31mNameError\u001b[0m: name 'wallet' is not defined"
     ]
    }
   ],
   "source": [
    "# 딕셔너리 변수 완전 삭제\n",
    "del wallet"
   ]
  },
  {
   "cell_type": "markdown",
   "metadata": {},
   "source": [
    "### 딕셔너리 추가 명령어"
   ]
  },
  {
   "cell_type": "code",
   "execution_count": 214,
   "metadata": {
    "ExecuteTime": {
     "end_time": "2021-09-06T06:01:30.623110Z",
     "start_time": "2021-09-06T06:01:30.617547Z"
    }
   },
   "outputs": [
    {
     "data": {
      "text/plain": [
       "dict_keys(['card', 'cash', 'coin', 'id', 'licence'])"
      ]
     },
     "execution_count": 214,
     "metadata": {},
     "output_type": "execute_result"
    }
   ],
   "source": [
    "# 딕셔너리 내 키 값을 확인\n",
    "wallet.keys()\n",
    "# 딕셔너리 내 값을 확인\n",
    "wallet.values()\n",
    "wallet['coin'].keys()\n",
    "# 딕셔너리의 key, value 쌍을 확인\n",
    "wallet.items()"
   ]
  },
  {
   "cell_type": "markdown",
   "metadata": {},
   "source": [
    "## 튜플(tuple)\n",
    "> - 데이터가 고정이 되어 변경이 불가능 한 데이터 집합  \n",
    "- 연산이나 입력값을 전달하는 자료구조로는 잘 사용하지 않고 결과값을 출력하는 경우 많이 사용한다.  \n",
    "- **`( )`** 소괄호로 묶어 사용한다.  \n",
    "- 구분은 , 콤마로 사용한다.  "
   ]
  },
  {
   "cell_type": "markdown",
   "metadata": {},
   "source": [
    "### 튜플 생성"
   ]
  },
  {
   "cell_type": "code",
   "execution_count": 244,
   "metadata": {
    "ExecuteTime": {
     "end_time": "2021-09-06T06:11:33.772675Z",
     "start_time": "2021-09-06T06:11:33.769564Z"
    }
   },
   "outputs": [],
   "source": [
    "test_tuple = () # 의미가 모호해서 잘 사용하지 않는다.\n",
    "test_tuple1 = tuple()\n",
    "test_tuple2 = (1, 2, 3, 4)\n",
    "test_tuple3 = 5, 6"
   ]
  },
  {
   "cell_type": "markdown",
   "metadata": {},
   "source": [
    "### 튜플 인덱싱"
   ]
  },
  {
   "cell_type": "code",
   "execution_count": 234,
   "metadata": {
    "ExecuteTime": {
     "end_time": "2021-09-06T06:08:48.124815Z",
     "start_time": "2021-09-06T06:08:48.120885Z"
    }
   },
   "outputs": [
    {
     "data": {
      "text/plain": [
       "2"
      ]
     },
     "execution_count": 234,
     "metadata": {},
     "output_type": "execute_result"
    }
   ],
   "source": [
    "# 튜플 인덱싱 테스트\n",
    "test_tuple3\n",
    "test_tuple2[1]"
   ]
  },
  {
   "cell_type": "markdown",
   "metadata": {},
   "source": [
    "### 튜플 편집\n",
    "한번 튜플에 들어간 값은 변경이 불가능하다. 다만 값 추가는 가능하다"
   ]
  },
  {
   "cell_type": "code",
   "execution_count": 237,
   "metadata": {
    "ExecuteTime": {
     "end_time": "2021-09-06T06:09:22.174719Z",
     "start_time": "2021-09-06T06:09:22.167928Z"
    }
   },
   "outputs": [
    {
     "ename": "TypeError",
     "evalue": "'tuple' object does not support item assignment",
     "output_type": "error",
     "traceback": [
      "\u001b[0;31m---------------------------------------------------------------------------\u001b[0m",
      "\u001b[0;31mTypeError\u001b[0m                                 Traceback (most recent call last)",
      "\u001b[0;32m/var/folders/c0/q_ltjrb55gzc5wvhsv7s_vsh0000gn/T/ipykernel_22916/2475504205.py\u001b[0m in \u001b[0;36m<module>\u001b[0;34m\u001b[0m\n\u001b[1;32m      1\u001b[0m \u001b[0;31m# 튜플 업데이트 테스트\u001b[0m\u001b[0;34m\u001b[0m\u001b[0;34m\u001b[0m\u001b[0;34m\u001b[0m\u001b[0m\n\u001b[0;32m----> 2\u001b[0;31m \u001b[0mtest_tuple2\u001b[0m\u001b[0;34m[\u001b[0m\u001b[0;36m1\u001b[0m\u001b[0;34m]\u001b[0m \u001b[0;34m=\u001b[0m \u001b[0;36m2\u001b[0m  \u001b[0;31m# 값이 변경되지 않음(튜플 특징)\u001b[0m\u001b[0;34m\u001b[0m\u001b[0;34m\u001b[0m\u001b[0m\n\u001b[0m",
      "\u001b[0;31mTypeError\u001b[0m: 'tuple' object does not support item assignment"
     ]
    }
   ],
   "source": [
    "# 튜플 업데이트 테스트\n",
    "test_tuple2[1] = 2  # 값이 변경되지 않음(튜플 특징)"
   ]
  },
  {
   "cell_type": "markdown",
   "metadata": {},
   "source": [
    "### 튜플 삭제\n",
    "튜플 전체삭제는 가능하지만 값 삭제는 불가능하다."
   ]
  },
  {
   "cell_type": "code",
   "execution_count": 243,
   "metadata": {
    "ExecuteTime": {
     "end_time": "2021-09-06T06:10:52.369768Z",
     "start_time": "2021-09-06T06:10:52.366796Z"
    }
   },
   "outputs": [],
   "source": [
    "# 튜플 삭제 테스트\n",
    "del test_tuple3"
   ]
  },
  {
   "cell_type": "markdown",
   "metadata": {},
   "source": [
    "### 언팩 (리스트, 문자열도 가능)"
   ]
  },
  {
   "cell_type": "code",
   "execution_count": 256,
   "metadata": {
    "ExecuteTime": {
     "end_time": "2021-09-06T06:12:11.096552Z",
     "start_time": "2021-09-06T06:12:11.090645Z"
    }
   },
   "outputs": [
    {
     "name": "stdout",
     "output_type": "stream",
     "text": [
      "1 2 3 4\n"
     ]
    }
   ],
   "source": [
    "# 값을 변경하지 못하기 때문에 값을 분리시킬 수 있음 \n",
    "a,b,c,d, = test_tuple2\n",
    "print(a,b,c,d)"
   ]
  },
  {
   "cell_type": "markdown",
   "metadata": {},
   "source": [
    "## 셋(set), 집합\n",
    "> - 중복된 값을 허용하지 않는 자료구조\n",
    "- 데이터셋의 고유값을 확인하는 용도로도 사용(중복제거)  \n",
    "- **`{ }`** 대괄호로 묶어 사용한다.\n",
    "- **집합 연산**을 지원한다."
   ]
  },
  {
   "cell_type": "markdown",
   "metadata": {},
   "source": [
    "### 셋 생성"
   ]
  },
  {
   "cell_type": "code",
   "execution_count": 258,
   "metadata": {
    "ExecuteTime": {
     "end_time": "2021-09-06T06:16:21.534049Z",
     "start_time": "2021-09-06T06:16:21.530575Z"
    }
   },
   "outputs": [],
   "source": [
    "# 셋 생성 테스트\n",
    "empty_set = {}\n",
    "empty_set = set()\n",
    "test_set1 = {1, 2, 3, 4}\n",
    "test_set2 = {3, 4, 5, 6}"
   ]
  },
  {
   "cell_type": "markdown",
   "metadata": {},
   "source": [
    "### 셋 편집"
   ]
  },
  {
   "cell_type": "code",
   "execution_count": 266,
   "metadata": {
    "ExecuteTime": {
     "end_time": "2021-09-06T06:18:39.696739Z",
     "start_time": "2021-09-06T06:18:39.690507Z"
    }
   },
   "outputs": [
    {
     "data": {
      "text/plain": [
       "{1, 2, 3, 4, 5, 6, 7}"
      ]
     },
     "execution_count": 266,
     "metadata": {},
     "output_type": "execute_result"
    }
   ],
   "source": [
    "# 셋에 값 하나 추가\n",
    "# 중복을 허용하지 않기 때문에 셋에 같은 값이 있을 경우 추가하지 않음\n",
    "test_set1.add(5)\n",
    "test_set1"
   ]
  },
  {
   "cell_type": "code",
   "execution_count": 272,
   "metadata": {
    "ExecuteTime": {
     "end_time": "2021-09-06T06:18:45.595101Z",
     "start_time": "2021-09-06T06:18:45.588977Z"
    }
   },
   "outputs": [
    {
     "data": {
      "text/plain": [
       "{1, 2, 3, 4, 5, 6, 7}"
      ]
     },
     "execution_count": 272,
     "metadata": {},
     "output_type": "execute_result"
    }
   ],
   "source": [
    "# 셋에 값 여러개 추가\n",
    "test_set1.update({5,6,7})\n",
    "test_set1"
   ]
  },
  {
   "cell_type": "code",
   "execution_count": 274,
   "metadata": {
    "ExecuteTime": {
     "end_time": "2021-09-06T06:18:58.405796Z",
     "start_time": "2021-09-06T06:18:58.400893Z"
    }
   },
   "outputs": [
    {
     "data": {
      "text/plain": [
       "{1, 2, 3, 4, 6, 7}"
      ]
     },
     "execution_count": 274,
     "metadata": {},
     "output_type": "execute_result"
    }
   ],
   "source": [
    "# 셋 값 하나삭제\n",
    "test_set1.discard(5)\n",
    "test_set1"
   ]
  },
  {
   "cell_type": "markdown",
   "metadata": {},
   "source": [
    "### 셋 집합 연산"
   ]
  },
  {
   "cell_type": "code",
   "execution_count": 281,
   "metadata": {
    "ExecuteTime": {
     "end_time": "2021-09-06T06:20:53.203033Z",
     "start_time": "2021-09-06T06:20:53.196673Z"
    }
   },
   "outputs": [
    {
     "data": {
      "text/plain": [
       "{1, 2, 7}"
      ]
     },
     "execution_count": 281,
     "metadata": {},
     "output_type": "execute_result"
    }
   ],
   "source": [
    "# 교집합\n",
    "# test_set1 and test_set2\n",
    "test_set1.intersection(test_set2)\n",
    "\n",
    "# 합집합\n",
    "# test_set1 or test_set2\n",
    "test_set1.union(test_set2)\n",
    "\n",
    "# 차집합a\n",
    "# test_set1 - test_set2\n",
    "test_set1.difference(test_set2)"
   ]
  },
  {
   "cell_type": "markdown",
   "metadata": {},
   "source": [
    "### 셋 삭제"
   ]
  },
  {
   "cell_type": "code",
   "execution_count": 282,
   "metadata": {
    "ExecuteTime": {
     "end_time": "2021-09-06T06:23:24.395281Z",
     "start_time": "2021-09-06T06:23:24.388273Z"
    }
   },
   "outputs": [
    {
     "ename": "NameError",
     "evalue": "name 'test_set1' is not defined",
     "output_type": "error",
     "traceback": [
      "\u001b[0;31m---------------------------------------------------------------------------\u001b[0m",
      "\u001b[0;31mNameError\u001b[0m                                 Traceback (most recent call last)",
      "\u001b[0;32m/var/folders/c0/q_ltjrb55gzc5wvhsv7s_vsh0000gn/T/ipykernel_22916/2002461254.py\u001b[0m in \u001b[0;36m<module>\u001b[0;34m\u001b[0m\n\u001b[1;32m      1\u001b[0m \u001b[0;31m# 셋 삭제 테스트\u001b[0m\u001b[0;34m\u001b[0m\u001b[0;34m\u001b[0m\u001b[0;34m\u001b[0m\u001b[0m\n\u001b[1;32m      2\u001b[0m \u001b[0;32mdel\u001b[0m \u001b[0mtest_set1\u001b[0m\u001b[0;34m\u001b[0m\u001b[0;34m\u001b[0m\u001b[0m\n\u001b[0;32m----> 3\u001b[0;31m \u001b[0mtest_set1\u001b[0m\u001b[0;34m\u001b[0m\u001b[0;34m\u001b[0m\u001b[0m\n\u001b[0m",
      "\u001b[0;31mNameError\u001b[0m: name 'test_set1' is not defined"
     ]
    }
   ],
   "source": [
    "# 셋 삭제 테스트\n",
    "del test_set1\n",
    "test_set1"
   ]
  }
 ],
 "metadata": {
  "kernelspec": {
   "display_name": "Python 3 (ipykernel)",
   "language": "python",
   "name": "python3"
  },
  "language_info": {
   "codemirror_mode": {
    "name": "ipython",
    "version": 3
   },
   "file_extension": ".py",
   "mimetype": "text/x-python",
   "name": "python",
   "nbconvert_exporter": "python",
   "pygments_lexer": "ipython3",
   "version": "3.9.6"
  },
  "toc": {
   "base_numbering": 1,
   "nav_menu": {},
   "number_sections": true,
   "sideBar": true,
   "skip_h1_title": true,
   "title_cell": "Table of Contents",
   "title_sidebar": "Contents",
   "toc_cell": false,
   "toc_position": {
    "height": "calc(100% - 180px)",
    "left": "10px",
    "top": "150px",
    "width": "261.818px"
   },
   "toc_section_display": true,
   "toc_window_display": false
  },
  "varInspector": {
   "cols": {
    "lenName": 16,
    "lenType": 16,
    "lenVar": 40
   },
   "kernels_config": {
    "python": {
     "delete_cmd_postfix": "",
     "delete_cmd_prefix": "del ",
     "library": "var_list.py",
     "varRefreshCmd": "print(var_dic_list())"
    },
    "r": {
     "delete_cmd_postfix": ") ",
     "delete_cmd_prefix": "rm(",
     "library": "var_list.r",
     "varRefreshCmd": "cat(var_dic_list()) "
    }
   },
   "types_to_exclude": [
    "module",
    "function",
    "builtin_function_or_method",
    "instance",
    "_Feature"
   ],
   "window_display": false
  }
 },
 "nbformat": 4,
 "nbformat_minor": 2
}
