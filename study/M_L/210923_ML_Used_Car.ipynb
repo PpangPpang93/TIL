{
 "cells": [
  {
   "cell_type": "markdown",
   "metadata": {
    "id": "NqqLNJZjfi8U"
   },
   "source": [
    "# 주제 : 자동으로 모은 데이터는 분석하기 어렵다면서? 자동으로 모은 중고 자동차 데이터를 분석해보자!\n",
    "----------\n",
    "\n",
    "## 실습 가이드\n",
    "    1. 데이터를 다운로드하여 Colab에 불러옵니다.\n",
    "    2. 필요한 라이브러리는 모두 코드로 작성되어 있습니다.\n",
    "    3. 코드는 위에서부터 아래로 순서대로 실행합니다.\n",
    "    \n",
    "    \n",
    "## 데이터 소개\n",
    "    - 이번 주제는 Used Cars Dataset을 사용합니다.\n",
    "    - 파일은 한 개이며, 각각의 컬럼은 아래와 같습니다.\n",
    "    \n",
    "    - vehicles.csv\n",
    "    id : 중고차 거래의 아이디\n",
    "    url : 중고차 거래 페이지\n",
    "    region : 해당 거래의 관리 지점\n",
    "    region_url : 거래 관리 지점의 홈페이지\n",
    "    price : 기입된 자동차의 거래가\n",
    "    year : 거래가 기입된 년도\n",
    "    manufacturer : 자동차를 생산한 회사\n",
    "    model : 자동차 모델명\n",
    "    condition : 자동차의 상태\n",
    "    cylinders : 자동차의 기통 수\n",
    "    fuel : 자동차의 연료 타입\n",
    "    odometer : 자동차의 운행 마일 수\n",
    "    title_status : 자동차의 타이틀 상태 (소유주 등록 상태)\n",
    "    transmission : 자동차의 트랜스미션 종류\n",
    "    vin : 자동차의 식별 번호 (vehicle identification number)\n",
    "    drive : 자동차의 구동 타입\n",
    "    size : 자동차 크기\n",
    "    type : 자동차의 일반 타입 (세단, ...)\n",
    "    paint_color : 자동차 색상\n",
    "    image_url : 자동차 이미지\n",
    "    description : 세부 설명\n",
    "    county : 실수로 생성된 미사용 컬럼\n",
    "    state : 거래가 업로드된 미 주\n",
    "    lat : 거래가 업로드된 곳의 위도\n",
    "    long : 거래가 업로드된 곳의 경도\n",
    "    \n",
    "    \n",
    "- 데이터 출처: https://www.kaggle.com/austinreese/craigslist-carstrucks-data\n",
    "\n",
    "## 최종 목표\n",
    "    - 스크래핑된 dirty 데이터 클리닝 방법 이해\n",
    "    - 다양한 종류의 데이터 정규화 방법 습득\n",
    "    - 데이터 시각화를 통한 인사이트 습득 방법의 이해\n",
    "    - Scikit-learn 기반의 모델 학습 방법 습득\n",
    "    - XGBoost, LightGBM 기반의 모델 학습 방법 습득\n",
    "    - 학습된 모델의 평가 방법 및 시각화 방법 습득\n",
    "\n",
    "- 출제자 : 신제용 강사\n",
    "---"
   ]
  },
  {
   "cell_type": "markdown",
   "metadata": {
    "id": "ODJVmYvIP3x-"
   },
   "source": [
    "## Step 0. 데이터 스크래핑이 대하여"
   ]
  },
  {
   "cell_type": "markdown",
   "metadata": {
    "id": "c0iKTnLNsraM"
   },
   "source": [
    "### 스크래핑을 이용한 자동 데이터 습득"
   ]
  },
  {
   "cell_type": "markdown",
   "metadata": {
    "id": "cxZwPnfms0-9"
   },
   "source": [
    "### 스크래핑된 데이터에서 아웃라이어의 특징\n"
   ]
  },
  {
   "cell_type": "markdown",
   "metadata": {
    "id": "IRssoNrgP7So"
   },
   "source": [
    "## Step 1. 데이터셋 준비하기"
   ]
  },
  {
   "cell_type": "code",
   "execution_count": 1,
   "metadata": {
    "executionInfo": {
     "elapsed": 959,
     "status": "ok",
     "timestamp": 1632364955925,
     "user": {
      "displayName": "팡팡",
      "photoUrl": "https://lh3.googleusercontent.com/a/default-user=s64",
      "userId": "08351897761321616592"
     },
     "user_tz": -540
    },
    "id": "g49RuFGrBvt7"
   },
   "outputs": [],
   "source": [
    "import pandas as pd\n",
    "import numpy as np\n",
    "import matplotlib.pyplot as plt\n",
    "import seaborn as sns"
   ]
  },
  {
   "cell_type": "markdown",
   "metadata": {
    "id": "paInbv8Ys-Qy"
   },
   "source": [
    "### 문제 1. Colab Notebook에 Kaggle API 세팅하기\n"
   ]
  },
  {
   "cell_type": "code",
   "execution_count": 2,
   "metadata": {
    "executionInfo": {
     "elapsed": 15,
     "status": "ok",
     "timestamp": 1632364955926,
     "user": {
      "displayName": "팡팡",
      "photoUrl": "https://lh3.googleusercontent.com/a/default-user=s64",
      "userId": "08351897761321616592"
     },
     "user_tz": -540
    },
    "id": "RRXGYV60B7FX"
   },
   "outputs": [],
   "source": [
    "import os"
   ]
  },
  {
   "cell_type": "code",
   "execution_count": 3,
   "metadata": {
    "executionInfo": {
     "elapsed": 13,
     "status": "ok",
     "timestamp": 1632364955927,
     "user": {
      "displayName": "팡팡",
      "photoUrl": "https://lh3.googleusercontent.com/a/default-user=s64",
      "userId": "08351897761321616592"
     },
     "user_tz": -540
    },
    "id": "mMKFOC0OBtHO"
   },
   "outputs": [],
   "source": [
    "# os.environ을 이용하여 Kaggle API Username, Key 세팅하기\n",
    "os.environ['KAGGLE_USERNAME'] = \\\n",
    "os.environ['KAGGLE_KEY'] = \"\\"
   ]
  },
  {
   "cell_type": "markdown",
   "metadata": {
    "id": "zvbeoB_WtBi-"
   },
   "source": [
    "### 문제 2. 데이터 다운로드 및 압축 해제하기\n"
   ]
  },
  {
   "cell_type": "code",
   "execution_count": 4,
   "metadata": {
    "colab": {
     "base_uri": "https://localhost:8080/"
    },
    "executionInfo": {
     "elapsed": 15634,
     "status": "ok",
     "timestamp": 1632364971549,
     "user": {
      "displayName": "팡팡",
      "photoUrl": "https://lh3.googleusercontent.com/a/default-user=s64",
      "userId": "08351897761321616592"
     },
     "user_tz": -540
    },
    "id": "JSblp2NsCGbh",
    "outputId": "0f1b6247-abba-4c21-8f70-83cd55824f33"
   },
   "outputs": [
    {
     "name": "stdout",
     "output_type": "stream",
     "text": [
      "rm: cannot remove '*.*': No such file or directory\n",
      "Downloading craigslist-carstrucks-data.zip to /content\n",
      " 99% 260M/262M [00:02<00:00, 101MB/s] \n",
      "100% 262M/262M [00:02<00:00, 112MB/s]\n",
      "Archive:  craigslist-carstrucks-data.zip\n",
      "  inflating: vehicles.csv            \n"
     ]
    }
   ],
   "source": [
    "# Linux 명령어로 Kaggle API를 이용하여 데이터셋 다운로드하기 (!kaggle ~)\n",
    "# Linux 명령어로 압축 해제하기\n",
    "!rm *.* # 다시 실행할때 문제없게\n",
    "!kaggle datasets download -d austinreese/craigslist-carstrucks-data\n",
    "!unzip '*.zip'"
   ]
  },
  {
   "cell_type": "markdown",
   "metadata": {
    "id": "aJ34SovLtFI8"
   },
   "source": [
    "### 문제 3. Pandas 라이브러리로 csv파일 읽어들이기\n"
   ]
  },
  {
   "cell_type": "code",
   "execution_count": 5,
   "metadata": {
    "executionInfo": {
     "elapsed": 17165,
     "status": "ok",
     "timestamp": 1632364988705,
     "user": {
      "displayName": "팡팡",
      "photoUrl": "https://lh3.googleusercontent.com/a/default-user=s64",
      "userId": "08351897761321616592"
     },
     "user_tz": -540
    },
    "id": "RnJv-4YwCMSx"
   },
   "outputs": [],
   "source": [
    "df = pd.read_csv('vehicles.csv')"
   ]
  },
  {
   "cell_type": "markdown",
   "metadata": {
    "id": "9L3BNVM7tHN5"
   },
   "source": [
    "## Step 2. EDA 및 데이터 기초 통계 분석\n"
   ]
  },
  {
   "cell_type": "markdown",
   "metadata": {
    "id": "HyFm33tNtVn7"
   },
   "source": [
    "### 문제 4. 불필요한 데이터 데이터프레임에서 제거하기\n"
   ]
  },
  {
   "cell_type": "code",
   "execution_count": 6,
   "metadata": {
    "colab": {
     "base_uri": "https://localhost:8080/",
     "height": 272
    },
    "executionInfo": {
     "elapsed": 526,
     "status": "ok",
     "timestamp": 1632364999168,
     "user": {
      "displayName": "팡팡",
      "photoUrl": "https://lh3.googleusercontent.com/a/default-user=s64",
      "userId": "08351897761321616592"
     },
     "user_tz": -540
    },
    "id": "Ch9YuhshRIKG",
    "outputId": "ee20b039-dce5-4f4c-f7e1-8911cc99c591"
   },
   "outputs": [
    {
     "data": {
      "text/html": [
       "<div>\n",
       "<style scoped>\n",
       "    .dataframe tbody tr th:only-of-type {\n",
       "        vertical-align: middle;\n",
       "    }\n",
       "\n",
       "    .dataframe tbody tr th {\n",
       "        vertical-align: top;\n",
       "    }\n",
       "\n",
       "    .dataframe thead th {\n",
       "        text-align: right;\n",
       "    }\n",
       "</style>\n",
       "<table border=\"1\" class=\"dataframe\">\n",
       "  <thead>\n",
       "    <tr style=\"text-align: right;\">\n",
       "      <th></th>\n",
       "      <th>id</th>\n",
       "      <th>url</th>\n",
       "      <th>region</th>\n",
       "      <th>region_url</th>\n",
       "      <th>price</th>\n",
       "      <th>year</th>\n",
       "      <th>manufacturer</th>\n",
       "      <th>model</th>\n",
       "      <th>condition</th>\n",
       "      <th>cylinders</th>\n",
       "      <th>fuel</th>\n",
       "      <th>odometer</th>\n",
       "      <th>title_status</th>\n",
       "      <th>transmission</th>\n",
       "      <th>VIN</th>\n",
       "      <th>drive</th>\n",
       "      <th>size</th>\n",
       "      <th>type</th>\n",
       "      <th>paint_color</th>\n",
       "      <th>image_url</th>\n",
       "      <th>description</th>\n",
       "      <th>county</th>\n",
       "      <th>state</th>\n",
       "      <th>lat</th>\n",
       "      <th>long</th>\n",
       "      <th>posting_date</th>\n",
       "    </tr>\n",
       "  </thead>\n",
       "  <tbody>\n",
       "    <tr>\n",
       "      <th>0</th>\n",
       "      <td>7222695916</td>\n",
       "      <td>https://prescott.craigslist.org/cto/d/prescott...</td>\n",
       "      <td>prescott</td>\n",
       "      <td>https://prescott.craigslist.org</td>\n",
       "      <td>6000</td>\n",
       "      <td>NaN</td>\n",
       "      <td>NaN</td>\n",
       "      <td>NaN</td>\n",
       "      <td>NaN</td>\n",
       "      <td>NaN</td>\n",
       "      <td>NaN</td>\n",
       "      <td>NaN</td>\n",
       "      <td>NaN</td>\n",
       "      <td>NaN</td>\n",
       "      <td>NaN</td>\n",
       "      <td>NaN</td>\n",
       "      <td>NaN</td>\n",
       "      <td>NaN</td>\n",
       "      <td>NaN</td>\n",
       "      <td>NaN</td>\n",
       "      <td>NaN</td>\n",
       "      <td>NaN</td>\n",
       "      <td>az</td>\n",
       "      <td>NaN</td>\n",
       "      <td>NaN</td>\n",
       "      <td>NaN</td>\n",
       "    </tr>\n",
       "    <tr>\n",
       "      <th>1</th>\n",
       "      <td>7218891961</td>\n",
       "      <td>https://fayar.craigslist.org/ctd/d/bentonville...</td>\n",
       "      <td>fayetteville</td>\n",
       "      <td>https://fayar.craigslist.org</td>\n",
       "      <td>11900</td>\n",
       "      <td>NaN</td>\n",
       "      <td>NaN</td>\n",
       "      <td>NaN</td>\n",
       "      <td>NaN</td>\n",
       "      <td>NaN</td>\n",
       "      <td>NaN</td>\n",
       "      <td>NaN</td>\n",
       "      <td>NaN</td>\n",
       "      <td>NaN</td>\n",
       "      <td>NaN</td>\n",
       "      <td>NaN</td>\n",
       "      <td>NaN</td>\n",
       "      <td>NaN</td>\n",
       "      <td>NaN</td>\n",
       "      <td>NaN</td>\n",
       "      <td>NaN</td>\n",
       "      <td>NaN</td>\n",
       "      <td>ar</td>\n",
       "      <td>NaN</td>\n",
       "      <td>NaN</td>\n",
       "      <td>NaN</td>\n",
       "    </tr>\n",
       "    <tr>\n",
       "      <th>2</th>\n",
       "      <td>7221797935</td>\n",
       "      <td>https://keys.craigslist.org/cto/d/summerland-k...</td>\n",
       "      <td>florida keys</td>\n",
       "      <td>https://keys.craigslist.org</td>\n",
       "      <td>21000</td>\n",
       "      <td>NaN</td>\n",
       "      <td>NaN</td>\n",
       "      <td>NaN</td>\n",
       "      <td>NaN</td>\n",
       "      <td>NaN</td>\n",
       "      <td>NaN</td>\n",
       "      <td>NaN</td>\n",
       "      <td>NaN</td>\n",
       "      <td>NaN</td>\n",
       "      <td>NaN</td>\n",
       "      <td>NaN</td>\n",
       "      <td>NaN</td>\n",
       "      <td>NaN</td>\n",
       "      <td>NaN</td>\n",
       "      <td>NaN</td>\n",
       "      <td>NaN</td>\n",
       "      <td>NaN</td>\n",
       "      <td>fl</td>\n",
       "      <td>NaN</td>\n",
       "      <td>NaN</td>\n",
       "      <td>NaN</td>\n",
       "    </tr>\n",
       "    <tr>\n",
       "      <th>3</th>\n",
       "      <td>7222270760</td>\n",
       "      <td>https://worcester.craigslist.org/cto/d/west-br...</td>\n",
       "      <td>worcester / central MA</td>\n",
       "      <td>https://worcester.craigslist.org</td>\n",
       "      <td>1500</td>\n",
       "      <td>NaN</td>\n",
       "      <td>NaN</td>\n",
       "      <td>NaN</td>\n",
       "      <td>NaN</td>\n",
       "      <td>NaN</td>\n",
       "      <td>NaN</td>\n",
       "      <td>NaN</td>\n",
       "      <td>NaN</td>\n",
       "      <td>NaN</td>\n",
       "      <td>NaN</td>\n",
       "      <td>NaN</td>\n",
       "      <td>NaN</td>\n",
       "      <td>NaN</td>\n",
       "      <td>NaN</td>\n",
       "      <td>NaN</td>\n",
       "      <td>NaN</td>\n",
       "      <td>NaN</td>\n",
       "      <td>ma</td>\n",
       "      <td>NaN</td>\n",
       "      <td>NaN</td>\n",
       "      <td>NaN</td>\n",
       "    </tr>\n",
       "    <tr>\n",
       "      <th>4</th>\n",
       "      <td>7210384030</td>\n",
       "      <td>https://greensboro.craigslist.org/cto/d/trinit...</td>\n",
       "      <td>greensboro</td>\n",
       "      <td>https://greensboro.craigslist.org</td>\n",
       "      <td>4900</td>\n",
       "      <td>NaN</td>\n",
       "      <td>NaN</td>\n",
       "      <td>NaN</td>\n",
       "      <td>NaN</td>\n",
       "      <td>NaN</td>\n",
       "      <td>NaN</td>\n",
       "      <td>NaN</td>\n",
       "      <td>NaN</td>\n",
       "      <td>NaN</td>\n",
       "      <td>NaN</td>\n",
       "      <td>NaN</td>\n",
       "      <td>NaN</td>\n",
       "      <td>NaN</td>\n",
       "      <td>NaN</td>\n",
       "      <td>NaN</td>\n",
       "      <td>NaN</td>\n",
       "      <td>NaN</td>\n",
       "      <td>nc</td>\n",
       "      <td>NaN</td>\n",
       "      <td>NaN</td>\n",
       "      <td>NaN</td>\n",
       "    </tr>\n",
       "  </tbody>\n",
       "</table>\n",
       "</div>"
      ],
      "text/plain": [
       "           id  ... posting_date\n",
       "0  7222695916  ...          NaN\n",
       "1  7218891961  ...          NaN\n",
       "2  7221797935  ...          NaN\n",
       "3  7222270760  ...          NaN\n",
       "4  7210384030  ...          NaN\n",
       "\n",
       "[5 rows x 26 columns]"
      ]
     },
     "execution_count": 6,
     "metadata": {},
     "output_type": "execute_result"
    }
   ],
   "source": [
    "df.head()"
   ]
  },
  {
   "cell_type": "code",
   "execution_count": 7,
   "metadata": {
    "colab": {
     "base_uri": "https://localhost:8080/"
    },
    "executionInfo": {
     "elapsed": 522,
     "status": "ok",
     "timestamp": 1632364999687,
     "user": {
      "displayName": "팡팡",
      "photoUrl": "https://lh3.googleusercontent.com/a/default-user=s64",
      "userId": "08351897761321616592"
     },
     "user_tz": -540
    },
    "id": "YcR9BX23DIFW",
    "outputId": "8905c2c1-fcde-47d1-a570-ce4fb5109e9e"
   },
   "outputs": [
    {
     "name": "stdout",
     "output_type": "stream",
     "text": [
      "<class 'pandas.core.frame.DataFrame'>\n",
      "RangeIndex: 426880 entries, 0 to 426879\n",
      "Data columns (total 26 columns):\n",
      " #   Column        Non-Null Count   Dtype  \n",
      "---  ------        --------------   -----  \n",
      " 0   id            426880 non-null  int64  \n",
      " 1   url           426880 non-null  object \n",
      " 2   region        426880 non-null  object \n",
      " 3   region_url    426880 non-null  object \n",
      " 4   price         426880 non-null  int64  \n",
      " 5   year          425675 non-null  float64\n",
      " 6   manufacturer  409234 non-null  object \n",
      " 7   model         421603 non-null  object \n",
      " 8   condition     252776 non-null  object \n",
      " 9   cylinders     249202 non-null  object \n",
      " 10  fuel          423867 non-null  object \n",
      " 11  odometer      422480 non-null  float64\n",
      " 12  title_status  418638 non-null  object \n",
      " 13  transmission  424324 non-null  object \n",
      " 14  VIN           265838 non-null  object \n",
      " 15  drive         296313 non-null  object \n",
      " 16  size          120519 non-null  object \n",
      " 17  type          334022 non-null  object \n",
      " 18  paint_color   296677 non-null  object \n",
      " 19  image_url     426812 non-null  object \n",
      " 20  description   426810 non-null  object \n",
      " 21  county        0 non-null       float64\n",
      " 22  state         426880 non-null  object \n",
      " 23  lat           420331 non-null  float64\n",
      " 24  long          420331 non-null  float64\n",
      " 25  posting_date  426812 non-null  object \n",
      "dtypes: float64(5), int64(2), object(19)\n",
      "memory usage: 84.7+ MB\n"
     ]
    }
   ],
   "source": [
    "# DataFrame에서 제공하는 메소드를 이용하여 각 데이터프레임의 구조 분석하기 (head(), info(), describe())\n",
    "# 데이터프레임에서 불필요한 컬럼 제거하기\n",
    "df.info()"
   ]
  },
  {
   "cell_type": "code",
   "execution_count": 8,
   "metadata": {
    "colab": {
     "base_uri": "https://localhost:8080/",
     "height": 294
    },
    "executionInfo": {
     "elapsed": 617,
     "status": "ok",
     "timestamp": 1632365000303,
     "user": {
      "displayName": "팡팡",
      "photoUrl": "https://lh3.googleusercontent.com/a/default-user=s64",
      "userId": "08351897761321616592"
     },
     "user_tz": -540
    },
    "id": "OYDCSroKWZE8",
    "outputId": "06badef3-034f-4bbf-cb5b-10e4675e93b5"
   },
   "outputs": [
    {
     "data": {
      "text/html": [
       "<div>\n",
       "<style scoped>\n",
       "    .dataframe tbody tr th:only-of-type {\n",
       "        vertical-align: middle;\n",
       "    }\n",
       "\n",
       "    .dataframe tbody tr th {\n",
       "        vertical-align: top;\n",
       "    }\n",
       "\n",
       "    .dataframe thead th {\n",
       "        text-align: right;\n",
       "    }\n",
       "</style>\n",
       "<table border=\"1\" class=\"dataframe\">\n",
       "  <thead>\n",
       "    <tr style=\"text-align: right;\">\n",
       "      <th></th>\n",
       "      <th>id</th>\n",
       "      <th>price</th>\n",
       "      <th>year</th>\n",
       "      <th>odometer</th>\n",
       "      <th>county</th>\n",
       "      <th>lat</th>\n",
       "      <th>long</th>\n",
       "    </tr>\n",
       "  </thead>\n",
       "  <tbody>\n",
       "    <tr>\n",
       "      <th>count</th>\n",
       "      <td>4.268800e+05</td>\n",
       "      <td>4.268800e+05</td>\n",
       "      <td>425675.000000</td>\n",
       "      <td>4.224800e+05</td>\n",
       "      <td>0.0</td>\n",
       "      <td>420331.000000</td>\n",
       "      <td>420331.000000</td>\n",
       "    </tr>\n",
       "    <tr>\n",
       "      <th>mean</th>\n",
       "      <td>7.311487e+09</td>\n",
       "      <td>7.519903e+04</td>\n",
       "      <td>2011.235191</td>\n",
       "      <td>9.804333e+04</td>\n",
       "      <td>NaN</td>\n",
       "      <td>38.493940</td>\n",
       "      <td>-94.748599</td>\n",
       "    </tr>\n",
       "    <tr>\n",
       "      <th>std</th>\n",
       "      <td>4.473170e+06</td>\n",
       "      <td>1.218228e+07</td>\n",
       "      <td>9.452120</td>\n",
       "      <td>2.138815e+05</td>\n",
       "      <td>NaN</td>\n",
       "      <td>5.841533</td>\n",
       "      <td>18.365462</td>\n",
       "    </tr>\n",
       "    <tr>\n",
       "      <th>min</th>\n",
       "      <td>7.207408e+09</td>\n",
       "      <td>0.000000e+00</td>\n",
       "      <td>1900.000000</td>\n",
       "      <td>0.000000e+00</td>\n",
       "      <td>NaN</td>\n",
       "      <td>-84.122245</td>\n",
       "      <td>-159.827728</td>\n",
       "    </tr>\n",
       "    <tr>\n",
       "      <th>25%</th>\n",
       "      <td>7.308143e+09</td>\n",
       "      <td>5.900000e+03</td>\n",
       "      <td>2008.000000</td>\n",
       "      <td>3.770400e+04</td>\n",
       "      <td>NaN</td>\n",
       "      <td>34.601900</td>\n",
       "      <td>-111.939847</td>\n",
       "    </tr>\n",
       "    <tr>\n",
       "      <th>50%</th>\n",
       "      <td>7.312621e+09</td>\n",
       "      <td>1.395000e+04</td>\n",
       "      <td>2013.000000</td>\n",
       "      <td>8.554800e+04</td>\n",
       "      <td>NaN</td>\n",
       "      <td>39.150100</td>\n",
       "      <td>-88.432600</td>\n",
       "    </tr>\n",
       "    <tr>\n",
       "      <th>75%</th>\n",
       "      <td>7.315254e+09</td>\n",
       "      <td>2.648575e+04</td>\n",
       "      <td>2017.000000</td>\n",
       "      <td>1.335425e+05</td>\n",
       "      <td>NaN</td>\n",
       "      <td>42.398900</td>\n",
       "      <td>-80.832039</td>\n",
       "    </tr>\n",
       "    <tr>\n",
       "      <th>max</th>\n",
       "      <td>7.317101e+09</td>\n",
       "      <td>3.736929e+09</td>\n",
       "      <td>2022.000000</td>\n",
       "      <td>1.000000e+07</td>\n",
       "      <td>NaN</td>\n",
       "      <td>82.390818</td>\n",
       "      <td>173.885502</td>\n",
       "    </tr>\n",
       "  </tbody>\n",
       "</table>\n",
       "</div>"
      ],
      "text/plain": [
       "                 id         price  ...            lat           long\n",
       "count  4.268800e+05  4.268800e+05  ...  420331.000000  420331.000000\n",
       "mean   7.311487e+09  7.519903e+04  ...      38.493940     -94.748599\n",
       "std    4.473170e+06  1.218228e+07  ...       5.841533      18.365462\n",
       "min    7.207408e+09  0.000000e+00  ...     -84.122245    -159.827728\n",
       "25%    7.308143e+09  5.900000e+03  ...      34.601900    -111.939847\n",
       "50%    7.312621e+09  1.395000e+04  ...      39.150100     -88.432600\n",
       "75%    7.315254e+09  2.648575e+04  ...      42.398900     -80.832039\n",
       "max    7.317101e+09  3.736929e+09  ...      82.390818     173.885502\n",
       "\n",
       "[8 rows x 7 columns]"
      ]
     },
     "execution_count": 8,
     "metadata": {},
     "output_type": "execute_result"
    }
   ],
   "source": [
    "df.describe()\n",
    "#크게 들어간 숫자, 가격이 0인 경우, 연식 등 값이 지나치게 크고 작은것 확인"
   ]
  },
  {
   "cell_type": "code",
   "execution_count": 9,
   "metadata": {
    "colab": {
     "base_uri": "https://localhost:8080/"
    },
    "executionInfo": {
     "elapsed": 5,
     "status": "ok",
     "timestamp": 1632365000304,
     "user": {
      "displayName": "팡팡",
      "photoUrl": "https://lh3.googleusercontent.com/a/default-user=s64",
      "userId": "08351897761321616592"
     },
     "user_tz": -540
    },
    "id": "s4tgzjPyXjHV",
    "outputId": "0545d3be-8a80-4da8-e205-ba3f87e92a40"
   },
   "outputs": [
    {
     "data": {
      "text/plain": [
       "id                   0\n",
       "url                  0\n",
       "region               0\n",
       "region_url           0\n",
       "price                0\n",
       "year              1205\n",
       "manufacturer     17646\n",
       "model             5277\n",
       "condition       174104\n",
       "cylinders       177678\n",
       "fuel              3013\n",
       "odometer          4400\n",
       "title_status      8242\n",
       "transmission      2556\n",
       "VIN             161042\n",
       "drive           130567\n",
       "size            306361\n",
       "type             92858\n",
       "paint_color     130203\n",
       "image_url           68\n",
       "description         70\n",
       "county          426880\n",
       "state                0\n",
       "lat               6549\n",
       "long              6549\n",
       "posting_date        68\n",
       "dtype: int64"
      ]
     },
     "execution_count": 9,
     "metadata": {},
     "output_type": "execute_result"
    }
   ],
   "source": [
    "df.isna().sum()"
   ]
  },
  {
   "cell_type": "code",
   "execution_count": 10,
   "metadata": {
    "colab": {
     "base_uri": "https://localhost:8080/"
    },
    "executionInfo": {
     "elapsed": 663,
     "status": "ok",
     "timestamp": 1632365000964,
     "user": {
      "displayName": "팡팡",
      "photoUrl": "https://lh3.googleusercontent.com/a/default-user=s64",
      "userId": "08351897761321616592"
     },
     "user_tz": -540
    },
    "id": "YzjEUcApXneS",
    "outputId": "18966af8-944e-44f7-b086-aa4d89cc244d"
   },
   "outputs": [
    {
     "data": {
      "text/plain": [
       "Index(['id', 'url', 'region', 'region_url', 'price', 'year', 'manufacturer',\n",
       "       'model', 'condition', 'cylinders', 'fuel', 'odometer', 'title_status',\n",
       "       'transmission', 'VIN', 'drive', 'size', 'type', 'paint_color',\n",
       "       'image_url', 'description', 'county', 'state', 'lat', 'long',\n",
       "       'posting_date'],\n",
       "      dtype='object')"
      ]
     },
     "execution_count": 10,
     "metadata": {},
     "output_type": "execute_result"
    }
   ],
   "source": [
    "df.columns"
   ]
  },
  {
   "cell_type": "code",
   "execution_count": 11,
   "metadata": {
    "executionInfo": {
     "elapsed": 4,
     "status": "ok",
     "timestamp": 1632365000964,
     "user": {
      "displayName": "팡팡",
      "photoUrl": "https://lh3.googleusercontent.com/a/default-user=s64",
      "userId": "08351897761321616592"
     },
     "user_tz": -540
    },
    "id": "7bSVWKtdXnYf"
   },
   "outputs": [],
   "source": [
    "df.drop(['id', 'url', 'region_url', 'VIN',\n",
    "         'image_url', 'description', 'state', 'lat', \n",
    "         'long', 'posting_date'], axis=1, inplace=True)"
   ]
  },
  {
   "cell_type": "code",
   "execution_count": 12,
   "metadata": {
    "colab": {
     "base_uri": "https://localhost:8080/",
     "height": 601
    },
    "executionInfo": {
     "elapsed": 5,
     "status": "ok",
     "timestamp": 1632365000965,
     "user": {
      "displayName": "팡팡",
      "photoUrl": "https://lh3.googleusercontent.com/a/default-user=s64",
      "userId": "08351897761321616592"
     },
     "user_tz": -540
    },
    "id": "Qg1zZKNYXnR1",
    "outputId": "875e9e4b-1215-4c65-edc8-41892095dfe6"
   },
   "outputs": [
    {
     "data": {
      "text/html": [
       "<div>\n",
       "<style scoped>\n",
       "    .dataframe tbody tr th:only-of-type {\n",
       "        vertical-align: middle;\n",
       "    }\n",
       "\n",
       "    .dataframe tbody tr th {\n",
       "        vertical-align: top;\n",
       "    }\n",
       "\n",
       "    .dataframe thead th {\n",
       "        text-align: right;\n",
       "    }\n",
       "</style>\n",
       "<table border=\"1\" class=\"dataframe\">\n",
       "  <thead>\n",
       "    <tr style=\"text-align: right;\">\n",
       "      <th></th>\n",
       "      <th>region</th>\n",
       "      <th>price</th>\n",
       "      <th>year</th>\n",
       "      <th>manufacturer</th>\n",
       "      <th>model</th>\n",
       "      <th>condition</th>\n",
       "      <th>cylinders</th>\n",
       "      <th>fuel</th>\n",
       "      <th>odometer</th>\n",
       "      <th>title_status</th>\n",
       "      <th>transmission</th>\n",
       "      <th>drive</th>\n",
       "      <th>size</th>\n",
       "      <th>type</th>\n",
       "      <th>paint_color</th>\n",
       "      <th>county</th>\n",
       "    </tr>\n",
       "  </thead>\n",
       "  <tbody>\n",
       "    <tr>\n",
       "      <th>0</th>\n",
       "      <td>prescott</td>\n",
       "      <td>6000</td>\n",
       "      <td>NaN</td>\n",
       "      <td>NaN</td>\n",
       "      <td>NaN</td>\n",
       "      <td>NaN</td>\n",
       "      <td>NaN</td>\n",
       "      <td>NaN</td>\n",
       "      <td>NaN</td>\n",
       "      <td>NaN</td>\n",
       "      <td>NaN</td>\n",
       "      <td>NaN</td>\n",
       "      <td>NaN</td>\n",
       "      <td>NaN</td>\n",
       "      <td>NaN</td>\n",
       "      <td>NaN</td>\n",
       "    </tr>\n",
       "    <tr>\n",
       "      <th>1</th>\n",
       "      <td>fayetteville</td>\n",
       "      <td>11900</td>\n",
       "      <td>NaN</td>\n",
       "      <td>NaN</td>\n",
       "      <td>NaN</td>\n",
       "      <td>NaN</td>\n",
       "      <td>NaN</td>\n",
       "      <td>NaN</td>\n",
       "      <td>NaN</td>\n",
       "      <td>NaN</td>\n",
       "      <td>NaN</td>\n",
       "      <td>NaN</td>\n",
       "      <td>NaN</td>\n",
       "      <td>NaN</td>\n",
       "      <td>NaN</td>\n",
       "      <td>NaN</td>\n",
       "    </tr>\n",
       "    <tr>\n",
       "      <th>2</th>\n",
       "      <td>florida keys</td>\n",
       "      <td>21000</td>\n",
       "      <td>NaN</td>\n",
       "      <td>NaN</td>\n",
       "      <td>NaN</td>\n",
       "      <td>NaN</td>\n",
       "      <td>NaN</td>\n",
       "      <td>NaN</td>\n",
       "      <td>NaN</td>\n",
       "      <td>NaN</td>\n",
       "      <td>NaN</td>\n",
       "      <td>NaN</td>\n",
       "      <td>NaN</td>\n",
       "      <td>NaN</td>\n",
       "      <td>NaN</td>\n",
       "      <td>NaN</td>\n",
       "    </tr>\n",
       "    <tr>\n",
       "      <th>3</th>\n",
       "      <td>worcester / central MA</td>\n",
       "      <td>1500</td>\n",
       "      <td>NaN</td>\n",
       "      <td>NaN</td>\n",
       "      <td>NaN</td>\n",
       "      <td>NaN</td>\n",
       "      <td>NaN</td>\n",
       "      <td>NaN</td>\n",
       "      <td>NaN</td>\n",
       "      <td>NaN</td>\n",
       "      <td>NaN</td>\n",
       "      <td>NaN</td>\n",
       "      <td>NaN</td>\n",
       "      <td>NaN</td>\n",
       "      <td>NaN</td>\n",
       "      <td>NaN</td>\n",
       "    </tr>\n",
       "    <tr>\n",
       "      <th>4</th>\n",
       "      <td>greensboro</td>\n",
       "      <td>4900</td>\n",
       "      <td>NaN</td>\n",
       "      <td>NaN</td>\n",
       "      <td>NaN</td>\n",
       "      <td>NaN</td>\n",
       "      <td>NaN</td>\n",
       "      <td>NaN</td>\n",
       "      <td>NaN</td>\n",
       "      <td>NaN</td>\n",
       "      <td>NaN</td>\n",
       "      <td>NaN</td>\n",
       "      <td>NaN</td>\n",
       "      <td>NaN</td>\n",
       "      <td>NaN</td>\n",
       "      <td>NaN</td>\n",
       "    </tr>\n",
       "    <tr>\n",
       "      <th>...</th>\n",
       "      <td>...</td>\n",
       "      <td>...</td>\n",
       "      <td>...</td>\n",
       "      <td>...</td>\n",
       "      <td>...</td>\n",
       "      <td>...</td>\n",
       "      <td>...</td>\n",
       "      <td>...</td>\n",
       "      <td>...</td>\n",
       "      <td>...</td>\n",
       "      <td>...</td>\n",
       "      <td>...</td>\n",
       "      <td>...</td>\n",
       "      <td>...</td>\n",
       "      <td>...</td>\n",
       "      <td>...</td>\n",
       "    </tr>\n",
       "    <tr>\n",
       "      <th>426875</th>\n",
       "      <td>wyoming</td>\n",
       "      <td>23590</td>\n",
       "      <td>2019.0</td>\n",
       "      <td>nissan</td>\n",
       "      <td>maxima s sedan 4d</td>\n",
       "      <td>good</td>\n",
       "      <td>6 cylinders</td>\n",
       "      <td>gas</td>\n",
       "      <td>32226.0</td>\n",
       "      <td>clean</td>\n",
       "      <td>other</td>\n",
       "      <td>fwd</td>\n",
       "      <td>NaN</td>\n",
       "      <td>sedan</td>\n",
       "      <td>NaN</td>\n",
       "      <td>NaN</td>\n",
       "    </tr>\n",
       "    <tr>\n",
       "      <th>426876</th>\n",
       "      <td>wyoming</td>\n",
       "      <td>30590</td>\n",
       "      <td>2020.0</td>\n",
       "      <td>volvo</td>\n",
       "      <td>s60 t5 momentum sedan 4d</td>\n",
       "      <td>good</td>\n",
       "      <td>NaN</td>\n",
       "      <td>gas</td>\n",
       "      <td>12029.0</td>\n",
       "      <td>clean</td>\n",
       "      <td>other</td>\n",
       "      <td>fwd</td>\n",
       "      <td>NaN</td>\n",
       "      <td>sedan</td>\n",
       "      <td>red</td>\n",
       "      <td>NaN</td>\n",
       "    </tr>\n",
       "    <tr>\n",
       "      <th>426877</th>\n",
       "      <td>wyoming</td>\n",
       "      <td>34990</td>\n",
       "      <td>2020.0</td>\n",
       "      <td>cadillac</td>\n",
       "      <td>xt4 sport suv 4d</td>\n",
       "      <td>good</td>\n",
       "      <td>NaN</td>\n",
       "      <td>diesel</td>\n",
       "      <td>4174.0</td>\n",
       "      <td>clean</td>\n",
       "      <td>other</td>\n",
       "      <td>NaN</td>\n",
       "      <td>NaN</td>\n",
       "      <td>hatchback</td>\n",
       "      <td>white</td>\n",
       "      <td>NaN</td>\n",
       "    </tr>\n",
       "    <tr>\n",
       "      <th>426878</th>\n",
       "      <td>wyoming</td>\n",
       "      <td>28990</td>\n",
       "      <td>2018.0</td>\n",
       "      <td>lexus</td>\n",
       "      <td>es 350 sedan 4d</td>\n",
       "      <td>good</td>\n",
       "      <td>6 cylinders</td>\n",
       "      <td>gas</td>\n",
       "      <td>30112.0</td>\n",
       "      <td>clean</td>\n",
       "      <td>other</td>\n",
       "      <td>fwd</td>\n",
       "      <td>NaN</td>\n",
       "      <td>sedan</td>\n",
       "      <td>silver</td>\n",
       "      <td>NaN</td>\n",
       "    </tr>\n",
       "    <tr>\n",
       "      <th>426879</th>\n",
       "      <td>wyoming</td>\n",
       "      <td>30590</td>\n",
       "      <td>2019.0</td>\n",
       "      <td>bmw</td>\n",
       "      <td>4 series 430i gran coupe</td>\n",
       "      <td>good</td>\n",
       "      <td>NaN</td>\n",
       "      <td>gas</td>\n",
       "      <td>22716.0</td>\n",
       "      <td>clean</td>\n",
       "      <td>other</td>\n",
       "      <td>rwd</td>\n",
       "      <td>NaN</td>\n",
       "      <td>coupe</td>\n",
       "      <td>NaN</td>\n",
       "      <td>NaN</td>\n",
       "    </tr>\n",
       "  </tbody>\n",
       "</table>\n",
       "<p>426880 rows × 16 columns</p>\n",
       "</div>"
      ],
      "text/plain": [
       "                        region  price    year  ...       type paint_color county\n",
       "0                     prescott   6000     NaN  ...        NaN         NaN    NaN\n",
       "1                 fayetteville  11900     NaN  ...        NaN         NaN    NaN\n",
       "2                 florida keys  21000     NaN  ...        NaN         NaN    NaN\n",
       "3       worcester / central MA   1500     NaN  ...        NaN         NaN    NaN\n",
       "4                   greensboro   4900     NaN  ...        NaN         NaN    NaN\n",
       "...                        ...    ...     ...  ...        ...         ...    ...\n",
       "426875                 wyoming  23590  2019.0  ...      sedan         NaN    NaN\n",
       "426876                 wyoming  30590  2020.0  ...      sedan         red    NaN\n",
       "426877                 wyoming  34990  2020.0  ...  hatchback       white    NaN\n",
       "426878                 wyoming  28990  2018.0  ...      sedan      silver    NaN\n",
       "426879                 wyoming  30590  2019.0  ...      coupe         NaN    NaN\n",
       "\n",
       "[426880 rows x 16 columns]"
      ]
     },
     "execution_count": 12,
     "metadata": {},
     "output_type": "execute_result"
    }
   ],
   "source": [
    "df"
   ]
  },
  {
   "cell_type": "code",
   "execution_count": 13,
   "metadata": {
    "executionInfo": {
     "elapsed": 4,
     "status": "ok",
     "timestamp": 1632365000965,
     "user": {
      "displayName": "팡팡",
      "photoUrl": "https://lh3.googleusercontent.com/a/default-user=s64",
      "userId": "08351897761321616592"
     },
     "user_tz": -540
    },
    "id": "m8FLhBS-X8o1"
   },
   "outputs": [],
   "source": [
    "df['age'] = 2021 - df['year']\n",
    "df.drop('year', axis=1, inplace=True)"
   ]
  },
  {
   "cell_type": "markdown",
   "metadata": {
    "id": "HGHvPwkNtXgj"
   },
   "source": [
    "### 문제 5. 범주형 데이터의 통계 분석하기\n"
   ]
  },
  {
   "cell_type": "code",
   "execution_count": 14,
   "metadata": {
    "executionInfo": {
     "elapsed": 4,
     "status": "ok",
     "timestamp": 1632365000965,
     "user": {
      "displayName": "팡팡",
      "photoUrl": "https://lh3.googleusercontent.com/a/default-user=s64",
      "userId": "08351897761321616592"
     },
     "user_tz": -540
    },
    "id": "KsxhJk_jYSkf"
   },
   "outputs": [],
   "source": [
    "df.drop(['county'],axis=1,inplace=True)"
   ]
  },
  {
   "cell_type": "code",
   "execution_count": 15,
   "metadata": {
    "colab": {
     "base_uri": "https://localhost:8080/"
    },
    "executionInfo": {
     "elapsed": 2,
     "status": "ok",
     "timestamp": 1632365001762,
     "user": {
      "displayName": "팡팡",
      "photoUrl": "https://lh3.googleusercontent.com/a/default-user=s64",
      "userId": "08351897761321616592"
     },
     "user_tz": -540
    },
    "id": "b_zcrUDF7khF",
    "outputId": "8432b6cb-f6dd-4f9e-a227-c31699cb0ed4"
   },
   "outputs": [
    {
     "data": {
      "text/plain": [
       "Index(['region', 'price', 'manufacturer', 'model', 'condition', 'cylinders',\n",
       "       'fuel', 'odometer', 'title_status', 'transmission', 'drive', 'size',\n",
       "       'type', 'paint_color', 'age'],\n",
       "      dtype='object')"
      ]
     },
     "execution_count": 15,
     "metadata": {},
     "output_type": "execute_result"
    }
   ],
   "source": [
    "# 범주형 데이터의 값의 범위, 기초 통계 분석하기\n",
    "df.columns"
   ]
  },
  {
   "cell_type": "code",
   "execution_count": 16,
   "metadata": {
    "colab": {
     "base_uri": "https://localhost:8080/"
    },
    "executionInfo": {
     "elapsed": 487,
     "status": "ok",
     "timestamp": 1632365004310,
     "user": {
      "displayName": "팡팡",
      "photoUrl": "https://lh3.googleusercontent.com/a/default-user=s64",
      "userId": "08351897761321616592"
     },
     "user_tz": -540
    },
    "id": "4SD2UdUDX4ED",
    "outputId": "dcafe64d-0bf9-40f9-d04c-6b27e124a147"
   },
   "outputs": [
    {
     "data": {
      "text/plain": [
       "42"
      ]
     },
     "execution_count": 16,
     "metadata": {},
     "output_type": "execute_result"
    }
   ],
   "source": [
    "len(df['manufacturer'].value_counts())"
   ]
  },
  {
   "cell_type": "code",
   "execution_count": 17,
   "metadata": {
    "colab": {
     "base_uri": "https://localhost:8080/"
    },
    "executionInfo": {
     "elapsed": 4,
     "status": "ok",
     "timestamp": 1632365004310,
     "user": {
      "displayName": "팡팡",
      "photoUrl": "https://lh3.googleusercontent.com/a/default-user=s64",
      "userId": "08351897761321616592"
     },
     "user_tz": -540
    },
    "id": "KQ_t8y10X4XU",
    "outputId": "368015ec-bed5-4cc2-bb15-a977a8b285b3"
   },
   "outputs": [
    {
     "data": {
      "text/plain": [
       "ford               70985\n",
       "chevrolet          55064\n",
       "toyota             34202\n",
       "honda              21269\n",
       "nissan             19067\n",
       "jeep               19014\n",
       "ram                18342\n",
       "gmc                16785\n",
       "bmw                14699\n",
       "dodge              13707\n",
       "mercedes-benz      11817\n",
       "hyundai            10338\n",
       "subaru              9495\n",
       "volkswagen          9345\n",
       "kia                 8457\n",
       "lexus               8200\n",
       "audi                7573\n",
       "cadillac            6953\n",
       "chrysler            6031\n",
       "acura               5978\n",
       "buick               5501\n",
       "mazda               5427\n",
       "infiniti            4802\n",
       "lincoln             4220\n",
       "volvo               3374\n",
       "mitsubishi          3292\n",
       "mini                2376\n",
       "pontiac             2288\n",
       "rover               2113\n",
       "jaguar              1946\n",
       "porsche             1384\n",
       "mercury             1184\n",
       "saturn              1090\n",
       "alfa-romeo           897\n",
       "tesla                868\n",
       "fiat                 792\n",
       "harley-davidson      153\n",
       "ferrari               95\n",
       "datsun                63\n",
       "aston-martin          24\n",
       "land rover            21\n",
       "morgan                 3\n",
       "Name: manufacturer, dtype: int64"
      ]
     },
     "execution_count": 17,
     "metadata": {},
     "output_type": "execute_result"
    }
   ],
   "source": [
    "df['manufacturer'].value_counts()"
   ]
  },
  {
   "cell_type": "code",
   "execution_count": 18,
   "metadata": {
    "colab": {
     "base_uri": "https://localhost:8080/",
     "height": 404
    },
    "executionInfo": {
     "elapsed": 1992,
     "status": "ok",
     "timestamp": 1632365006300,
     "user": {
      "displayName": "팡팡",
      "photoUrl": "https://lh3.googleusercontent.com/a/default-user=s64",
      "userId": "08351897761321616592"
     },
     "user_tz": -540
    },
    "id": "9aP5k-frZFdw",
    "outputId": "95af2844-e128-4672-e2ea-0ee68458dec2"
   },
   "outputs": [
    {
     "data": {
      "text/plain": [
       "<matplotlib.axes._subplots.AxesSubplot at 0x7f3264462bd0>"
      ]
     },
     "execution_count": 18,
     "metadata": {},
     "output_type": "execute_result"
    },
    {
     "data": {
      "image/png": "[encoded data removed]",
      "text/plain": [
       "<Figure size 432x432 with 1 Axes>"
      ]
     },
     "metadata": {
      "needs_background": "light"
     },
     "output_type": "display_data"
    }
   ],
   "source": [
    "fig = plt.figure(figsize=(6, 6))\n",
    "sns.countplot(y='manufacturer', data=df.fillna('n/a'), order=df.fillna('n/a')['manufacturer'].value_counts().index)\n",
    "# 적혀있지 않은 카테고리조 좀 있음. 소수 카테고리는 하나로 묶어보는 것도 좋아보임"
   ]
  },
  {
   "cell_type": "code",
   "execution_count": null,
   "metadata": {
    "id": "v0Xcy1SXZnEM"
   },
   "outputs": [],
   "source": [
    "# 모델 카테고리가 너무 많아서 묶어서 봐보자\n",
    "for model, num in zip(df['model'].value_counts().index, df['model'].value_counts()):\n",
    "  print(model, num)\n",
    "# 대소문자구분, 스페이스2개, 사람마다 모델 표현방식이 달라서 너무 다양함(스크래핑 데이터의 단점)"
   ]
  },
  {
   "cell_type": "code",
   "execution_count": null,
   "metadata": {
    "executionInfo": {
     "elapsed": 5,
     "status": "aborted",
     "timestamp": 1632365012511,
     "user": {
      "displayName": "팡팡",
      "photoUrl": "https://lh3.googleusercontent.com/a/default-user=s64",
      "userId": "08351897761321616592"
     },
     "user_tz": -540
    },
    "id": "Yj5gI7zYZGwk"
   },
   "outputs": [],
   "source": [
    "# 양이 너무 많음(메모리문제)\n",
    "# fig = plt.figure(figsize=(6, 6))\n",
    "# sns.countplot(y='model', data=df.fillna('n/a'), order=df.fillna('n/a')['model'].value_counts().index)"
   ]
  },
  {
   "cell_type": "code",
   "execution_count": 20,
   "metadata": {
    "colab": {
     "base_uri": "https://localhost:8080/",
     "height": 295
    },
    "executionInfo": {
     "elapsed": 1056,
     "status": "ok",
     "timestamp": 1632365028980,
     "user": {
      "displayName": "팡팡",
      "photoUrl": "https://lh3.googleusercontent.com/a/default-user=s64",
      "userId": "08351897761321616592"
     },
     "user_tz": -540
    },
    "id": "2Ce3FUgWZIHN",
    "outputId": "fd799ae1-c1f8-4fd4-fb6f-a604aea73735"
   },
   "outputs": [
    {
     "data": {
      "text/plain": [
       "<matplotlib.axes._subplots.AxesSubplot at 0x7f326fe17210>"
      ]
     },
     "execution_count": 20,
     "metadata": {},
     "output_type": "execute_result"
    },
    {
     "data": {
      "image/png": "[encoded data removed]",
      "text/plain": [
       "<Figure size 432x288 with 1 Axes>"
      ]
     },
     "metadata": {
      "needs_background": "light"
     },
     "output_type": "display_data"
    }
   ],
   "source": [
    "sns.countplot(y='condition', data=df.fillna('n/a'), order=df.fillna('n/a')['condition'].value_counts().index)"
   ]
  },
  {
   "cell_type": "code",
   "execution_count": 21,
   "metadata": {
    "colab": {
     "base_uri": "https://localhost:8080/",
     "height": 295
    },
    "executionInfo": {
     "elapsed": 899,
     "status": "ok",
     "timestamp": 1632365030377,
     "user": {
      "displayName": "팡팡",
      "photoUrl": "https://lh3.googleusercontent.com/a/default-user=s64",
      "userId": "08351897761321616592"
     },
     "user_tz": -540
    },
    "id": "j5o0mTNNZIDN",
    "outputId": "65876813-270a-4cde-efcc-a9f692060642"
   },
   "outputs": [
    {
     "data": {
      "text/plain": [
       "<matplotlib.axes._subplots.AxesSubplot at 0x7f32638a90d0>"
      ]
     },
     "execution_count": 21,
     "metadata": {},
     "output_type": "execute_result"
    },
    {
     "data": {
      "image/png": "[encoded data removed]",
      "text/plain": [
       "<Figure size 432x288 with 1 Axes>"
      ]
     },
     "metadata": {
      "needs_background": "light"
     },
     "output_type": "display_data"
    }
   ],
   "source": [
    "sns.countplot(y='cylinders', data=df.fillna('n/a'), order=df.fillna('n/a')['cylinders'].value_counts().index)"
   ]
  },
  {
   "cell_type": "code",
   "execution_count": 22,
   "metadata": {
    "colab": {
     "base_uri": "https://localhost:8080/",
     "height": 295
    },
    "executionInfo": {
     "elapsed": 1289,
     "status": "ok",
     "timestamp": 1632365031664,
     "user": {
      "displayName": "팡팡",
      "photoUrl": "https://lh3.googleusercontent.com/a/default-user=s64",
      "userId": "08351897761321616592"
     },
     "user_tz": -540
    },
    "id": "SUL0LGSTZH9O",
    "outputId": "230b9dd3-ff7b-43dc-8346-8d2fa949e868"
   },
   "outputs": [
    {
     "data": {
      "text/plain": [
       "<matplotlib.axes._subplots.AxesSubplot at 0x7f326332f790>"
      ]
     },
     "execution_count": 22,
     "metadata": {},
     "output_type": "execute_result"
    },
    {
     "data": {
      "image/png": "[encoded data removed]",
      "text/plain": [
       "<Figure size 432x288 with 1 Axes>"
      ]
     },
     "metadata": {
      "needs_background": "light"
     },
     "output_type": "display_data"
    }
   ],
   "source": [
    "sns.countplot(y='fuel', data=df.fillna('n/a'), order=df.fillna('n/a')['fuel'].value_counts().index)"
   ]
  },
  {
   "cell_type": "code",
   "execution_count": 23,
   "metadata": {
    "colab": {
     "base_uri": "https://localhost:8080/",
     "height": 295
    },
    "executionInfo": {
     "elapsed": 1099,
     "status": "ok",
     "timestamp": 1632365032761,
     "user": {
      "displayName": "팡팡",
      "photoUrl": "https://lh3.googleusercontent.com/a/default-user=s64",
      "userId": "08351897761321616592"
     },
     "user_tz": -540
    },
    "id": "H2zgvL9iaYsw",
    "outputId": "5f455a2e-6eb7-4a3c-ef7f-21f9fa873647"
   },
   "outputs": [
    {
     "data": {
      "text/plain": [
       "<matplotlib.axes._subplots.AxesSubplot at 0x7f32624dc350>"
      ]
     },
     "execution_count": 23,
     "metadata": {},
     "output_type": "execute_result"
    },
    {
     "data": {
      "image/png": "[encoded data removed]",
      "text/plain": [
       "<Figure size 432x288 with 1 Axes>"
      ]
     },
     "metadata": {
      "needs_background": "light"
     },
     "output_type": "display_data"
    }
   ],
   "source": [
    "sns.countplot(y='transmission', data=df.fillna('n/a'), order=df.fillna('n/a')['transmission'].value_counts().index)"
   ]
  },
  {
   "cell_type": "code",
   "execution_count": 24,
   "metadata": {
    "colab": {
     "base_uri": "https://localhost:8080/",
     "height": 295
    },
    "executionInfo": {
     "elapsed": 1107,
     "status": "ok",
     "timestamp": 1632365033866,
     "user": {
      "displayName": "팡팡",
      "photoUrl": "https://lh3.googleusercontent.com/a/default-user=s64",
      "userId": "08351897761321616592"
     },
     "user_tz": -540
    },
    "id": "CqyJeY28aY_p",
    "outputId": "0c3bc5b6-763e-42a9-cd73-862b2efe87b7"
   },
   "outputs": [
    {
     "data": {
      "text/plain": [
       "<matplotlib.axes._subplots.AxesSubplot at 0x7f32613fa190>"
      ]
     },
     "execution_count": 24,
     "metadata": {},
     "output_type": "execute_result"
    },
    {
     "data": {
      "image/png": "[encoded data removed]",
      "text/plain": [
       "<Figure size 432x288 with 1 Axes>"
      ]
     },
     "metadata": {
      "needs_background": "light"
     },
     "output_type": "display_data"
    }
   ],
   "source": [
    "sns.countplot(y='drive', data=df.fillna('n/a'), order=df.fillna('n/a')['drive'].value_counts().index)"
   ]
  },
  {
   "cell_type": "code",
   "execution_count": 25,
   "metadata": {
    "colab": {
     "base_uri": "https://localhost:8080/",
     "height": 295
    },
    "executionInfo": {
     "elapsed": 1466,
     "status": "ok",
     "timestamp": 1632365035331,
     "user": {
      "displayName": "팡팡",
      "photoUrl": "https://lh3.googleusercontent.com/a/default-user=s64",
      "userId": "08351897761321616592"
     },
     "user_tz": -540
    },
    "id": "dO9CIx3ca7Z1",
    "outputId": "fcbe461a-9727-4e92-da88-cd607f53267b"
   },
   "outputs": [
    {
     "data": {
      "text/plain": [
       "<matplotlib.axes._subplots.AxesSubplot at 0x7f326137cb10>"
      ]
     },
     "execution_count": 25,
     "metadata": {},
     "output_type": "execute_result"
    },
    {
     "data": {
      "image/png": "[encoded data removed]",
      "text/plain": [
       "<Figure size 432x288 with 1 Axes>"
      ]
     },
     "metadata": {
      "needs_background": "light"
     },
     "output_type": "display_data"
    }
   ],
   "source": [
    "sns.countplot(y='size', data=df.fillna('n/a'), order=df.fillna('n/a')['size'].value_counts().index)"
   ]
  },
  {
   "cell_type": "code",
   "execution_count": 26,
   "metadata": {
    "colab": {
     "base_uri": "https://localhost:8080/",
     "height": 295
    },
    "executionInfo": {
     "elapsed": 1085,
     "status": "ok",
     "timestamp": 1632365036415,
     "user": {
      "displayName": "팡팡",
      "photoUrl": "https://lh3.googleusercontent.com/a/default-user=s64",
      "userId": "08351897761321616592"
     },
     "user_tz": -540
    },
    "id": "vWT97BI-a7Xd",
    "outputId": "344bec11-4f10-45c9-e217-eb68792a6be1"
   },
   "outputs": [
    {
     "data": {
      "text/plain": [
       "<matplotlib.axes._subplots.AxesSubplot at 0x7f32626d2450>"
      ]
     },
     "execution_count": 26,
     "metadata": {},
     "output_type": "execute_result"
    },
    {
     "data": {
      "image/png": "[encoded data removed]",
      "text/plain": [
       "<Figure size 432x288 with 1 Axes>"
      ]
     },
     "metadata": {
      "needs_background": "light"
     },
     "output_type": "display_data"
    }
   ],
   "source": [
    "sns.countplot(y='type', data=df.fillna('n/a'), order=df.fillna('n/a')['type'].value_counts().index)"
   ]
  },
  {
   "cell_type": "code",
   "execution_count": 27,
   "metadata": {
    "colab": {
     "base_uri": "https://localhost:8080/",
     "height": 295
    },
    "executionInfo": {
     "elapsed": 1294,
     "status": "ok",
     "timestamp": 1632365037706,
     "user": {
      "displayName": "팡팡",
      "photoUrl": "https://lh3.googleusercontent.com/a/default-user=s64",
      "userId": "08351897761321616592"
     },
     "user_tz": -540
    },
    "id": "uehWWBBHa7U7",
    "outputId": "43f9ad09-6d7e-41e8-9bda-6ed6a5ebbfd1"
   },
   "outputs": [
    {
     "data": {
      "text/plain": [
       "<matplotlib.axes._subplots.AxesSubplot at 0x7f3262b60290>"
      ]
     },
     "execution_count": 27,
     "metadata": {},
     "output_type": "execute_result"
    },
    {
     "data": {
      "image/png": "[encoded data removed]",
      "text/plain": [
       "<Figure size 432x288 with 1 Axes>"
      ]
     },
     "metadata": {
      "needs_background": "light"
     },
     "output_type": "display_data"
    }
   ],
   "source": [
    "sns.countplot(y='paint_color', data=df.fillna('n/a'), order=df.fillna('n/a')['paint_color'].value_counts().index)"
   ]
  },
  {
   "cell_type": "code",
   "execution_count": 28,
   "metadata": {
    "executionInfo": {
     "elapsed": 2,
     "status": "ok",
     "timestamp": 1632365037706,
     "user": {
      "displayName": "팡팡",
      "photoUrl": "https://lh3.googleusercontent.com/a/default-user=s64",
      "userId": "08351897761321616592"
     },
     "user_tz": -540
    },
    "id": "_mYJ5Y77a7Su"
   },
   "outputs": [],
   "source": [
    "# 스크래핑데이터는 이렇게 하나씩 다 뜯어봐야 한다. 데이터를 좀 꼼꼼히 봐야함\n",
    "# n/a가 많으면 drop으로 작업을 좀 편하게하자"
   ]
  },
  {
   "cell_type": "markdown",
   "metadata": {
    "id": "amkU5Y6g7Dp4"
   },
   "source": [
    "### 문제 6. 수치형 데이터의 통계 분석하기"
   ]
  },
  {
   "cell_type": "code",
   "execution_count": 29,
   "metadata": {
    "colab": {
     "base_uri": "https://localhost:8080/",
     "height": 187
    },
    "executionInfo": {
     "elapsed": 10173,
     "status": "ok",
     "timestamp": 1632365047877,
     "user": {
      "displayName": "팡팡",
      "photoUrl": "https://lh3.googleusercontent.com/a/default-user=s64",
      "userId": "08351897761321616592"
     },
     "user_tz": -540
    },
    "id": "GZXSBFPyDh6R",
    "outputId": "eecf9b79-b8ac-41b6-8096-9fdbcd3f2cc0"
   },
   "outputs": [
    {
     "data": {
      "text/plain": [
       "<matplotlib.axes._subplots.AxesSubplot at 0x7f3262d94290>"
      ]
     },
     "execution_count": 29,
     "metadata": {},
     "output_type": "execute_result"
    },
    {
     "data": {
      "image/png": "[encoded data removed]",
      "text/plain": [
       "<Figure size 432x144 with 1 Axes>"
      ]
     },
     "metadata": {
      "needs_background": "light"
     },
     "output_type": "display_data"
    }
   ],
   "source": [
    "# 수치형 데이터의 값의 범위, 기초 통계 분석하기\n",
    "fig = plt.figure(figsize=(6, 2))\n",
    "sns.rugplot(x='price', data=df, height=1)"
   ]
  },
  {
   "cell_type": "code",
   "execution_count": 30,
   "metadata": {
    "colab": {
     "base_uri": "https://localhost:8080/",
     "height": 187
    },
    "executionInfo": {
     "elapsed": 9916,
     "status": "ok",
     "timestamp": 1632365057791,
     "user": {
      "displayName": "팡팡",
      "photoUrl": "https://lh3.googleusercontent.com/a/default-user=s64",
      "userId": "08351897761321616592"
     },
     "user_tz": -540
    },
    "id": "NkQRvEBobgZo",
    "outputId": "b962795e-8f26-4844-98db-67613c8486db"
   },
   "outputs": [
    {
     "data": {
      "text/plain": [
       "<matplotlib.axes._subplots.AxesSubplot at 0x7f32559bb350>"
      ]
     },
     "execution_count": 30,
     "metadata": {},
     "output_type": "execute_result"
    },
    {
     "data": {
      "image/png": "[encoded data removed]",
      "text/plain": [
       "<Figure size 432x144 with 1 Axes>"
      ]
     },
     "metadata": {
      "needs_background": "light"
     },
     "output_type": "display_data"
    }
   ],
   "source": [
    "fig = plt.figure(figsize=(6, 2))\n",
    "sns.rugplot(x='odometer', data=df, height=1)\n",
    "## 현재 데이터를 파악하기 어려움"
   ]
  },
  {
   "cell_type": "code",
   "execution_count": 31,
   "metadata": {
    "colab": {
     "base_uri": "https://localhost:8080/",
     "height": 300
    },
    "executionInfo": {
     "elapsed": 3029,
     "status": "ok",
     "timestamp": 1632365060818,
     "user": {
      "displayName": "팡팡",
      "photoUrl": "https://lh3.googleusercontent.com/a/default-user=s64",
      "userId": "08351897761321616592"
     },
     "user_tz": -540
    },
    "id": "8lpHWPCNbgW1",
    "outputId": "bf5be91a-f370-4578-a5bd-a2f8cb06668a"
   },
   "outputs": [
    {
     "data": {
      "text/plain": [
       "<matplotlib.axes._subplots.AxesSubplot at 0x7f323fba7890>"
      ]
     },
     "execution_count": 31,
     "metadata": {},
     "output_type": "execute_result"
    },
    {
     "data": {
      "image/png": "[encoded data removed]",
      "text/plain": [
       "<Figure size 432x288 with 1 Axes>"
      ]
     },
     "metadata": {
      "needs_background": "light"
     },
     "output_type": "display_data"
    }
   ],
   "source": [
    "sns.histplot(x='age', data=df, bins=18, kde=True)\n",
    "# 10년정도 된 차가 많음"
   ]
  },
  {
   "cell_type": "markdown",
   "metadata": {
    "id": "izztXKpllMss"
   },
   "source": [
    "## Step 3. 데이터 클리닝 수행하기"
   ]
  },
  {
   "cell_type": "markdown",
   "metadata": {
    "id": "KywGh9sjtYl9"
   },
   "source": [
    "### 문제 7. 범주형 데이터 시각화하여 분석하기"
   ]
  },
  {
   "cell_type": "code",
   "execution_count": 32,
   "metadata": {
    "colab": {
     "base_uri": "https://localhost:8080/"
    },
    "executionInfo": {
     "elapsed": 11,
     "status": "ok",
     "timestamp": 1632365060819,
     "user": {
      "displayName": "팡팡",
      "photoUrl": "https://lh3.googleusercontent.com/a/default-user=s64",
      "userId": "08351897761321616592"
     },
     "user_tz": -540
    },
    "id": "jGPR0INVcQ-r",
    "outputId": "8e862057-7ca2-4e13-9bf5-858dfa817e5c"
   },
   "outputs": [
    {
     "data": {
      "text/plain": [
       "Index(['region', 'price', 'manufacturer', 'model', 'condition', 'cylinders',\n",
       "       'fuel', 'odometer', 'title_status', 'transmission', 'drive', 'size',\n",
       "       'type', 'paint_color', 'age'],\n",
       "      dtype='object')"
      ]
     },
     "execution_count": 32,
     "metadata": {},
     "output_type": "execute_result"
    }
   ],
   "source": [
    "df.columns"
   ]
  },
  {
   "cell_type": "code",
   "execution_count": 33,
   "metadata": {
    "colab": {
     "base_uri": "https://localhost:8080/",
     "height": 306
    },
    "executionInfo": {
     "elapsed": 1705,
     "status": "ok",
     "timestamp": 1632365062515,
     "user": {
      "displayName": "팡팡",
      "photoUrl": "https://lh3.googleusercontent.com/a/default-user=s64",
      "userId": "08351897761321616592"
     },
     "user_tz": -540
    },
    "id": "TqXkwW8JDxhH",
    "outputId": "deb98239-41ec-4a84-f957-6c55b09024ee"
   },
   "outputs": [
    {
     "data": {
      "text/plain": [
       "<matplotlib.axes._subplots.AxesSubplot at 0x7f323fb5bf10>"
      ]
     },
     "execution_count": 33,
     "metadata": {},
     "output_type": "execute_result"
    },
    {
     "data": {
      "image/png": "[encoded data removed]",
      "text/plain": [
       "<Figure size 432x288 with 1 Axes>"
      ]
     },
     "metadata": {
      "needs_background": "light"
     },
     "output_type": "display_data"
    }
   ],
   "source": [
    "# Boxplot 계열로 범주형 데이터를 시각화하여 분석하기\n",
    "sns.boxplot(x='manufacturer', y='price', data=df.fillna('n/a'))"
   ]
  },
  {
   "cell_type": "code",
   "execution_count": 34,
   "metadata": {
    "colab": {
     "base_uri": "https://localhost:8080/",
     "height": 306
    },
    "executionInfo": {
     "elapsed": 1021,
     "status": "ok",
     "timestamp": 1632365063534,
     "user": {
      "displayName": "팡팡",
      "photoUrl": "https://lh3.googleusercontent.com/a/default-user=s64",
      "userId": "08351897761321616592"
     },
     "user_tz": -540
    },
    "id": "j0aluNdWcaxg",
    "outputId": "9eb07703-96f7-4d87-e453-c3517f91549a"
   },
   "outputs": [
    {
     "data": {
      "text/plain": [
       "<matplotlib.axes._subplots.AxesSubplot at 0x7f323f221750>"
      ]
     },
     "execution_count": 34,
     "metadata": {},
     "output_type": "execute_result"
    },
    {
     "data": {
      "image/png": "[encoded data removed]",
      "text/plain": [
       "<Figure size 432x288 with 1 Axes>"
      ]
     },
     "metadata": {
      "needs_background": "light"
     },
     "output_type": "display_data"
    }
   ],
   "source": [
    "sns.boxplot(x='fuel', y='price', data=df.fillna('n/a'))"
   ]
  },
  {
   "cell_type": "code",
   "execution_count": 35,
   "metadata": {
    "executionInfo": {
     "elapsed": 8,
     "status": "ok",
     "timestamp": 1632365063534,
     "user": {
      "displayName": "팡팡",
      "photoUrl": "https://lh3.googleusercontent.com/a/default-user=s64",
      "userId": "08351897761321616592"
     },
     "user_tz": -540
    },
    "id": "7ksqoFrLcmsp"
   },
   "outputs": [],
   "source": [
    "# 일단 데이터를 정리해야 뭔가를 할 수 있을것 같다"
   ]
  },
  {
   "cell_type": "markdown",
   "metadata": {
    "id": "CXLd43EZ9EgS"
   },
   "source": [
    "### 문제 8. 범주형 데이터 클리닝하기"
   ]
  },
  {
   "cell_type": "code",
   "execution_count": 36,
   "metadata": {
    "colab": {
     "base_uri": "https://localhost:8080/"
    },
    "executionInfo": {
     "elapsed": 8,
     "status": "ok",
     "timestamp": 1632365063535,
     "user": {
      "displayName": "팡팡",
      "photoUrl": "https://lh3.googleusercontent.com/a/default-user=s64",
      "userId": "08351897761321616592"
     },
     "user_tz": -540
    },
    "id": "56fiSYJPcvBl",
    "outputId": "d1b2aa49-f89d-45b2-f6af-25bfb493a3cb"
   },
   "outputs": [
    {
     "data": {
      "text/plain": [
       "Index(['region', 'price', 'manufacturer', 'model', 'condition', 'cylinders',\n",
       "       'fuel', 'odometer', 'title_status', 'transmission', 'drive', 'size',\n",
       "       'type', 'paint_color', 'age'],\n",
       "      dtype='object')"
      ]
     },
     "execution_count": 36,
     "metadata": {},
     "output_type": "execute_result"
    }
   ],
   "source": [
    "df.columns"
   ]
  },
  {
   "cell_type": "code",
   "execution_count": 72,
   "metadata": {
    "executionInfo": {
     "elapsed": 413,
     "status": "ok",
     "timestamp": 1632365525459,
     "user": {
      "displayName": "팡팡",
      "photoUrl": "https://lh3.googleusercontent.com/a/default-user=s64",
      "userId": "08351897761321616592"
     },
     "user_tz": -540
    },
    "id": "hdgULUAKkPwb"
   },
   "outputs": [],
   "source": [
    "df.drop('title_status', axis=1, inplace=True)"
   ]
  },
  {
   "cell_type": "code",
   "execution_count": 37,
   "metadata": {
    "colab": {
     "base_uri": "https://localhost:8080/"
    },
    "executionInfo": {
     "elapsed": 6,
     "status": "ok",
     "timestamp": 1632365063535,
     "user": {
      "displayName": "팡팡",
      "photoUrl": "https://lh3.googleusercontent.com/a/default-user=s64",
      "userId": "08351897761321616592"
     },
     "user_tz": -540
    },
    "id": "8HbUtvqs9C-C",
    "outputId": "eb238c57-cfd0-498e-9605-93e1e92e8928"
   },
   "outputs": [
    {
     "data": {
      "text/plain": [
       "ford               70985\n",
       "chevrolet          55064\n",
       "toyota             34202\n",
       "honda              21269\n",
       "nissan             19067\n",
       "jeep               19014\n",
       "ram                18342\n",
       "others             17646\n",
       "gmc                16785\n",
       "bmw                14699\n",
       "dodge              13707\n",
       "mercedes-benz      11817\n",
       "hyundai            10338\n",
       "subaru              9495\n",
       "volkswagen          9345\n",
       "kia                 8457\n",
       "lexus               8200\n",
       "audi                7573\n",
       "cadillac            6953\n",
       "chrysler            6031\n",
       "acura               5978\n",
       "buick               5501\n",
       "mazda               5427\n",
       "infiniti            4802\n",
       "lincoln             4220\n",
       "volvo               3374\n",
       "mitsubishi          3292\n",
       "mini                2376\n",
       "pontiac             2288\n",
       "rover               2113\n",
       "jaguar              1946\n",
       "porsche             1384\n",
       "mercury             1184\n",
       "saturn              1090\n",
       "alfa-romeo           897\n",
       "tesla                868\n",
       "fiat                 792\n",
       "harley-davidson      153\n",
       "ferrari               95\n",
       "datsun                63\n",
       "aston-martin          24\n",
       "land rover            21\n",
       "morgan                 3\n",
       "Name: manufacturer, dtype: int64"
      ]
     },
     "execution_count": 37,
     "metadata": {},
     "output_type": "execute_result"
    }
   ],
   "source": [
    "# 범주형 데이터를 아래 방법 중 적절히 판단하여 처리하기\n",
    "# 1. 결손 데이터가 포함된 Row를 제거\n",
    "# 2. 결손 데이터를 others 범주로 변경하기\n",
    "# 3. 지나치게 소수로 이루어진 범주를 others 범주로 변경하기\n",
    "# 4. Classifier를 학습, 결손 데이터를 추정하여 채워넣기\n",
    "df['manufacturer'].fillna('others').value_counts()"
   ]
  },
  {
   "cell_type": "code",
   "execution_count": 38,
   "metadata": {
    "colab": {
     "base_uri": "https://localhost:8080/",
     "height": 281
    },
    "executionInfo": {
     "elapsed": 660,
     "status": "ok",
     "timestamp": 1632365064192,
     "user": {
      "displayName": "팡팡",
      "photoUrl": "https://lh3.googleusercontent.com/a/default-user=s64",
      "userId": "08351897761321616592"
     },
     "user_tz": -540
    },
    "id": "dgs_6_jxde_N",
    "outputId": "8f86807d-6e7f-4d08-c1ac-8cf2267b8690"
   },
   "outputs": [
    {
     "data": {
      "text/plain": [
       "[<matplotlib.lines.Line2D at 0x7f323e11c210>]"
      ]
     },
     "execution_count": 38,
     "metadata": {},
     "output_type": "execute_result"
    },
    {
     "data": {
      "image/png": "[encoded data removed]",
      "text/plain": [
       "<Figure size 432x288 with 1 Axes>"
      ]
     },
     "metadata": {
      "needs_background": "light"
     },
     "output_type": "display_data"
    }
   ],
   "source": [
    "# 적은수의 인덱스들을 other로 바꿔야해서 좀 편하게 작동시켜보자\n",
    "col = 'manufacturer'\n",
    "counts = df[col].fillna('others').value_counts()\n",
    "plt.plot(range(len(counts)), counts)\n",
    "# 10번째 이후의 데이터들이 좀 데이터가 적어보임"
   ]
  },
  {
   "cell_type": "code",
   "execution_count": 39,
   "metadata": {
    "executionInfo": {
     "elapsed": 3420,
     "status": "ok",
     "timestamp": 1632365067610,
     "user": {
      "displayName": "팡팡",
      "photoUrl": "https://lh3.googleusercontent.com/a/default-user=s64",
      "userId": "08351897761321616592"
     },
     "user_tz": -540
    },
    "id": "oSIb_CA0d9VC"
   },
   "outputs": [],
   "source": [
    "# manufacturer 10개까지만 남겨보자\n",
    "n_categorical = 10\n",
    "counts.index[n_categorical:]\n",
    "df[col] = df[col].apply(lambda s: s if str(s) not in counts.index[n_categorical:] else 'others')"
   ]
  },
  {
   "cell_type": "code",
   "execution_count": 40,
   "metadata": {
    "colab": {
     "base_uri": "https://localhost:8080/"
    },
    "executionInfo": {
     "elapsed": 7,
     "status": "ok",
     "timestamp": 1632365067612,
     "user": {
      "displayName": "팡팡",
      "photoUrl": "https://lh3.googleusercontent.com/a/default-user=s64",
      "userId": "08351897761321616592"
     },
     "user_tz": -540
    },
    "id": "WRjww6WKd3U9",
    "outputId": "48bfabdc-58fd-4c73-86bb-afcf25fc8fc5"
   },
   "outputs": [
    {
     "data": {
      "text/plain": [
       "others       139807\n",
       "ford          70985\n",
       "chevrolet     55064\n",
       "toyota        34202\n",
       "honda         21269\n",
       "nissan        19067\n",
       "jeep          19014\n",
       "ram           18342\n",
       "gmc           16785\n",
       "bmw           14699\n",
       "Name: manufacturer, dtype: int64"
      ]
     },
     "execution_count": 40,
     "metadata": {},
     "output_type": "execute_result"
    }
   ],
   "source": [
    "df[col].value_counts()"
   ]
  },
  {
   "cell_type": "code",
   "execution_count": 41,
   "metadata": {
    "colab": {
     "base_uri": "https://localhost:8080/",
     "height": 281
    },
    "executionInfo": {
     "elapsed": 6,
     "status": "ok",
     "timestamp": 1632365067613,
     "user": {
      "displayName": "팡팡",
      "photoUrl": "https://lh3.googleusercontent.com/a/default-user=s64",
      "userId": "08351897761321616592"
     },
     "user_tz": -540
    },
    "id": "vod6soMpd3Sa",
    "outputId": "2d0280bd-6a50-4dd7-f59f-01435a406b5f"
   },
   "outputs": [
    {
     "data": {
      "text/plain": [
       "[<matplotlib.lines.Line2D at 0x7f323fa2fe90>]"
      ]
     },
     "execution_count": 41,
     "metadata": {},
     "output_type": "execute_result"
    },
    {
     "data": {
      "image/png": "[encoded data removed]",
      "text/plain": [
       "<Figure size 432x288 with 1 Axes>"
      ]
     },
     "metadata": {
      "needs_background": "light"
     },
     "output_type": "display_data"
    }
   ],
   "source": [
    "# 다른 컬럼들도 동일하게 작업해주자\n",
    "col = 'region'\n",
    "counts = df[col].fillna('others').value_counts()\n",
    "plt.grid()\n",
    "plt.plot(range(len(counts)), counts)"
   ]
  },
  {
   "cell_type": "code",
   "execution_count": 42,
   "metadata": {
    "executionInfo": {
     "elapsed": 12211,
     "status": "ok",
     "timestamp": 1632365079821,
     "user": {
      "displayName": "팡팡",
      "photoUrl": "https://lh3.googleusercontent.com/a/default-user=s64",
      "userId": "08351897761321616592"
     },
     "user_tz": -540
    },
    "id": "Wc4Vxq73d3Py"
   },
   "outputs": [],
   "source": [
    "# region 5개까지만 \n",
    "n_categorical = 5\n",
    "df[col] = df[col].apply(lambda s: s if str(s) not in counts.index[n_categorical:] else 'others')"
   ]
  },
  {
   "cell_type": "code",
   "execution_count": 43,
   "metadata": {
    "colab": {
     "base_uri": "https://localhost:8080/"
    },
    "executionInfo": {
     "elapsed": 10,
     "status": "ok",
     "timestamp": 1632365079821,
     "user": {
      "displayName": "팡팡",
      "photoUrl": "https://lh3.googleusercontent.com/a/default-user=s64",
      "userId": "08351897761321616592"
     },
     "user_tz": -540
    },
    "id": "F1H-pH4ad3NZ",
    "outputId": "1c6cecbc-368d-4461-9e28-0af3b9def48d"
   },
   "outputs": [
    {
     "data": {
      "text/plain": [
       "others                     410754\n",
       "columbus                     3608\n",
       "jacksonville                 3562\n",
       "spokane / coeur d'alene      2988\n",
       "eugene                       2985\n",
       "fresno / madera              2983\n",
       "Name: region, dtype: int64"
      ]
     },
     "execution_count": 43,
     "metadata": {},
     "output_type": "execute_result"
    }
   ],
   "source": [
    "df[col].value_counts()"
   ]
  },
  {
   "cell_type": "code",
   "execution_count": 44,
   "metadata": {
    "colab": {
     "base_uri": "https://localhost:8080/",
     "height": 281
    },
    "executionInfo": {
     "elapsed": 703,
     "status": "ok",
     "timestamp": 1632365080515,
     "user": {
      "displayName": "팡팡",
      "photoUrl": "https://lh3.googleusercontent.com/a/default-user=s64",
      "userId": "08351897761321616592"
     },
     "user_tz": -540
    },
    "id": "do_0_Ffxd3LT",
    "outputId": "0409391e-00fd-4926-e3b8-55385de14987"
   },
   "outputs": [
    {
     "data": {
      "text/plain": [
       "[<matplotlib.lines.Line2D at 0x7f323e039d50>]"
      ]
     },
     "execution_count": 44,
     "metadata": {},
     "output_type": "execute_result"
    },
    {
     "data": {
      "image/png": "[encoded data removed]",
      "text/plain": [
       "<Figure size 432x288 with 1 Axes>"
      ]
     },
     "metadata": {
      "needs_background": "light"
     },
     "output_type": "display_data"
    }
   ],
   "source": [
    "# 다른 컬럼들도 동일하게 작업해주자2\n",
    "col = 'model'\n",
    "counts = df[col].fillna('others').value_counts()\n",
    "plt.grid()\n",
    "plt.plot(range(len(counts)), counts)"
   ]
  },
  {
   "cell_type": "code",
   "execution_count": 45,
   "metadata": {
    "colab": {
     "base_uri": "https://localhost:8080/",
     "height": 281
    },
    "executionInfo": {
     "elapsed": 5,
     "status": "ok",
     "timestamp": 1632365080515,
     "user": {
      "displayName": "팡팡",
      "photoUrl": "https://lh3.googleusercontent.com/a/default-user=s64",
      "userId": "08351897761321616592"
     },
     "user_tz": -540
    },
    "id": "y-kaoE6kd3I9",
    "outputId": "857e4982-0b89-4c3f-d141-52e5239dbb31"
   },
   "outputs": [
    {
     "data": {
      "text/plain": [
       "[<matplotlib.lines.Line2D at 0x7f323f8b6ed0>]"
      ]
     },
     "execution_count": 45,
     "metadata": {},
     "output_type": "execute_result"
    },
    {
     "data": {
      "image/png": "[encoded data removed]",
      "text/plain": [
       "<Figure size 432x288 with 1 Axes>"
      ]
     },
     "metadata": {
      "needs_background": "light"
     },
     "output_type": "display_data"
    }
   ],
   "source": [
    "# model은 좀 더 자세히 봐보자(상위 20개만)_카테고리가 3만개가 있음\n",
    "plt.grid()\n",
    "plt.plot(range(len(counts[:20])), counts[:20])"
   ]
  },
  {
   "cell_type": "code",
   "execution_count": 46,
   "metadata": {
    "executionInfo": {
     "elapsed": 436,
     "status": "ok",
     "timestamp": 1632365080948,
     "user": {
      "displayName": "팡팡",
      "photoUrl": "https://lh3.googleusercontent.com/a/default-user=s64",
      "userId": "08351897761321616592"
     },
     "user_tz": -540
    },
    "id": "_xoekVYmfzYG"
   },
   "outputs": [],
   "source": [
    "# model 10개까지만 \n",
    "n_categorical = 10\n",
    "others = counts.index[n_categorical:]\n",
    "df[col] = df[col].apply(lambda s: s if str(s) not in others else 'others') # 10개 외에 나머지 카테고리가 3만개가 있어서 너무 느림 -> others 변수 미리만들어서 작업"
   ]
  },
  {
   "cell_type": "code",
   "execution_count": 47,
   "metadata": {
    "colab": {
     "base_uri": "https://localhost:8080/"
    },
    "executionInfo": {
     "elapsed": 5,
     "status": "ok",
     "timestamp": 1632365080948,
     "user": {
      "displayName": "팡팡",
      "photoUrl": "https://lh3.googleusercontent.com/a/default-user=s64",
      "userId": "08351897761321616592"
     },
     "user_tz": -540
    },
    "id": "Rp2hMP3FfzVy",
    "outputId": "80d27af0-7e10-4c70-b77d-9b1c5dc9e422"
   },
   "outputs": [
    {
     "data": {
      "text/plain": [
       "others            386690\n",
       "f-150               8009\n",
       "silverado 1500      5140\n",
       "1500                4211\n",
       "camry               3135\n",
       "silverado           3023\n",
       "accord              2969\n",
       "wrangler            2848\n",
       "civic               2799\n",
       "altima              2779\n",
       "Name: model, dtype: int64"
      ]
     },
     "execution_count": 47,
     "metadata": {},
     "output_type": "execute_result"
    }
   ],
   "source": [
    "df[col].value_counts()"
   ]
  },
  {
   "cell_type": "code",
   "execution_count": 48,
   "metadata": {
    "colab": {
     "base_uri": "https://localhost:8080/",
     "height": 281
    },
    "executionInfo": {
     "elapsed": 5,
     "status": "ok",
     "timestamp": 1632365080948,
     "user": {
      "displayName": "팡팡",
      "photoUrl": "https://lh3.googleusercontent.com/a/default-user=s64",
      "userId": "08351897761321616592"
     },
     "user_tz": -540
    },
    "id": "59OGd-wmfzTL",
    "outputId": "fe9a4f48-a873-4775-fc2a-c9469258b4dd"
   },
   "outputs": [
    {
     "data": {
      "text/plain": [
       "[<matplotlib.lines.Line2D at 0x7f323d4a55d0>]"
      ]
     },
     "execution_count": 48,
     "metadata": {},
     "output_type": "execute_result"
    },
    {
     "data": {
      "image/png": "[encoded data removed]",
      "text/plain": [
       "<Figure size 432x288 with 1 Axes>"
      ]
     },
     "metadata": {
      "needs_background": "light"
     },
     "output_type": "display_data"
    }
   ],
   "source": [
    "# 다른 컬럼들도 동일하게 작업해주자3\n",
    "col = 'condition'\n",
    "counts = df[col].fillna('others').value_counts()\n",
    "plt.grid()\n",
    "plt.plot(range(len(counts)), counts)"
   ]
  },
  {
   "cell_type": "code",
   "execution_count": 49,
   "metadata": {
    "executionInfo": {
     "elapsed": 306,
     "status": "ok",
     "timestamp": 1632365081252,
     "user": {
      "displayName": "팡팡",
      "photoUrl": "https://lh3.googleusercontent.com/a/default-user=s64",
      "userId": "08351897761321616592"
     },
     "user_tz": -540
    },
    "id": "E3YCUNT5fzQw"
   },
   "outputs": [],
   "source": [
    "# condition 3개까지만 \n",
    "n_categorical = 3\n",
    "others = counts.index[n_categorical:]\n",
    "df[col] = df[col].apply(lambda s: s if str(s) not in others else 'others')"
   ]
  },
  {
   "cell_type": "code",
   "execution_count": 50,
   "metadata": {
    "colab": {
     "base_uri": "https://localhost:8080/"
    },
    "executionInfo": {
     "elapsed": 3,
     "status": "ok",
     "timestamp": 1632365081252,
     "user": {
      "displayName": "팡팡",
      "photoUrl": "https://lh3.googleusercontent.com/a/default-user=s64",
      "userId": "08351897761321616592"
     },
     "user_tz": -540
    },
    "id": "euyWwkpQfzOb",
    "outputId": "f38dd3c2-93a0-4f51-8e0e-793e97a1eb5b"
   },
   "outputs": [
    {
     "data": {
      "text/plain": [
       "good         121456\n",
       "excellent    101467\n",
       "others        29853\n",
       "Name: condition, dtype: int64"
      ]
     },
     "execution_count": 50,
     "metadata": {},
     "output_type": "execute_result"
    }
   ],
   "source": [
    "df[col].value_counts()"
   ]
  },
  {
   "cell_type": "code",
   "execution_count": 51,
   "metadata": {
    "colab": {
     "base_uri": "https://localhost:8080/",
     "height": 281
    },
    "executionInfo": {
     "elapsed": 514,
     "status": "ok",
     "timestamp": 1632365081764,
     "user": {
      "displayName": "팡팡",
      "photoUrl": "https://lh3.googleusercontent.com/a/default-user=s64",
      "userId": "08351897761321616592"
     },
     "user_tz": -540
    },
    "id": "H5xBE9uUfzMV",
    "outputId": "abb82fda-e20a-4b20-dbc1-07c3f8cbba56"
   },
   "outputs": [
    {
     "data": {
      "text/plain": [
       "[<matplotlib.lines.Line2D at 0x7f323d226890>]"
      ]
     },
     "execution_count": 51,
     "metadata": {},
     "output_type": "execute_result"
    },
    {
     "data": {
      "image/png": "[encoded data removed]",
      "text/plain": [
       "<Figure size 432x288 with 1 Axes>"
      ]
     },
     "metadata": {
      "needs_background": "light"
     },
     "output_type": "display_data"
    }
   ],
   "source": [
    "# 다른 컬럼들도 동일하게 작업해주자3\n",
    "col = 'cylinders'\n",
    "counts = df[col].fillna('others').value_counts()\n",
    "plt.grid()\n",
    "plt.plot(range(len(counts)), counts)"
   ]
  },
  {
   "cell_type": "code",
   "execution_count": 52,
   "metadata": {
    "executionInfo": {
     "elapsed": 650,
     "status": "ok",
     "timestamp": 1632365082413,
     "user": {
      "displayName": "팡팡",
      "photoUrl": "https://lh3.googleusercontent.com/a/default-user=s64",
      "userId": "08351897761321616592"
     },
     "user_tz": -540
    },
    "id": "ggUP3ddrgUqj"
   },
   "outputs": [],
   "source": [
    "# cylinders 4개까지만 \n",
    "n_categorical = 4\n",
    "others = counts.index[n_categorical:]\n",
    "df[col] = df[col].apply(lambda s: s if str(s) not in others else 'others')"
   ]
  },
  {
   "cell_type": "code",
   "execution_count": 53,
   "metadata": {
    "colab": {
     "base_uri": "https://localhost:8080/"
    },
    "executionInfo": {
     "elapsed": 4,
     "status": "ok",
     "timestamp": 1632365082414,
     "user": {
      "displayName": "팡팡",
      "photoUrl": "https://lh3.googleusercontent.com/a/default-user=s64",
      "userId": "08351897761321616592"
     },
     "user_tz": -540
    },
    "id": "SxFeA1fKgUoc",
    "outputId": "7c3614bc-4705-49b7-9094-8bea8f5145fd"
   },
   "outputs": [
    {
     "data": {
      "text/plain": [
       "6 cylinders    94169\n",
       "4 cylinders    77642\n",
       "8 cylinders    72062\n",
       "others          5329\n",
       "Name: cylinders, dtype: int64"
      ]
     },
     "execution_count": 53,
     "metadata": {},
     "output_type": "execute_result"
    }
   ],
   "source": [
    "df[col].value_counts()"
   ]
  },
  {
   "cell_type": "code",
   "execution_count": 99,
   "metadata": {
    "colab": {
     "base_uri": "https://localhost:8080/",
     "height": 281
    },
    "executionInfo": {
     "elapsed": 455,
     "status": "ok",
     "timestamp": 1632366043631,
     "user": {
      "displayName": "팡팡",
      "photoUrl": "https://lh3.googleusercontent.com/a/default-user=s64",
      "userId": "08351897761321616592"
     },
     "user_tz": -540
    },
    "id": "AJ4L2b0QgUlV",
    "outputId": "9b06c0ad-4910-487b-b5a6-bc1ec6f7032d"
   },
   "outputs": [
    {
     "data": {
      "text/plain": [
       "[<matplotlib.lines.Line2D at 0x7f323d323d90>]"
      ]
     },
     "execution_count": 99,
     "metadata": {},
     "output_type": "execute_result"
    },
    {
     "data": {
      "image/png": "[encoded data removed]",
      "text/plain": [
       "<Figure size 432x288 with 1 Axes>"
      ]
     },
     "metadata": {
      "needs_background": "light"
     },
     "output_type": "display_data"
    }
   ],
   "source": [
    "# 다른 컬럼들도 동일하게 작업해주자3\n",
    "col = 'fuel'\n",
    "counts = df[col].fillna('others').value_counts()\n",
    "plt.grid()\n",
    "plt.plot(range(len(counts)), counts)"
   ]
  },
  {
   "cell_type": "code",
   "execution_count": 100,
   "metadata": {
    "colab": {
     "base_uri": "https://localhost:8080/"
    },
    "executionInfo": {
     "elapsed": 323,
     "status": "ok",
     "timestamp": 1632366048102,
     "user": {
      "displayName": "팡팡",
      "photoUrl": "https://lh3.googleusercontent.com/a/default-user=s64",
      "userId": "08351897761321616592"
     },
     "user_tz": -540
    },
    "id": "_K9wQlkKiv7j",
    "outputId": "5f609794-28bc-4c44-f38a-20f2eedcd7c8"
   },
   "outputs": [
    {
     "data": {
      "text/plain": [
       "gas       356209\n",
       "other      37596\n",
       "diesel     30062\n",
       "others      3013\n",
       "Name: fuel, dtype: int64"
      ]
     },
     "execution_count": 100,
     "metadata": {},
     "output_type": "execute_result"
    }
   ],
   "source": [
    "df[col].fillna('others').value_counts()"
   ]
  },
  {
   "cell_type": "code",
   "execution_count": 101,
   "metadata": {
    "colab": {
     "base_uri": "https://localhost:8080/"
    },
    "executionInfo": {
     "elapsed": 486,
     "status": "ok",
     "timestamp": 1632366051097,
     "user": {
      "displayName": "팡팡",
      "photoUrl": "https://lh3.googleusercontent.com/a/default-user=s64",
      "userId": "08351897761321616592"
     },
     "user_tz": -540
    },
    "id": "zmNpXbYRhMBO",
    "outputId": "733e976d-2caa-403c-e229-025a2b3f50d6"
   },
   "outputs": [
    {
     "data": {
      "text/plain": [
       "Index(['gas', 'other', 'diesel', 'others'], dtype='object')"
      ]
     },
     "execution_count": 101,
     "metadata": {},
     "output_type": "execute_result"
    }
   ],
   "source": [
    "counts.fillna('others').index"
   ]
  },
  {
   "cell_type": "code",
   "execution_count": 102,
   "metadata": {
    "executionInfo": {
     "elapsed": 817,
     "status": "ok",
     "timestamp": 1632366055974,
     "user": {
      "displayName": "팡팡",
      "photoUrl": "https://lh3.googleusercontent.com/a/default-user=s64",
      "userId": "08351897761321616592"
     },
     "user_tz": -540
    },
    "id": "QDH-x1dCgUi2"
   },
   "outputs": [],
   "source": [
    "# fuel 4개까지만 \n",
    "n_categorical = 3\n",
    "other = counts.index[n_categorical:]\n",
    "df[col] = df[col].apply(lambda s: s if str(s) not in other else 'other')"
   ]
  },
  {
   "cell_type": "code",
   "execution_count": 103,
   "metadata": {
    "colab": {
     "base_uri": "https://localhost:8080/"
    },
    "executionInfo": {
     "elapsed": 323,
     "status": "ok",
     "timestamp": 1632366056812,
     "user": {
      "displayName": "팡팡",
      "photoUrl": "https://lh3.googleusercontent.com/a/default-user=s64",
      "userId": "08351897761321616592"
     },
     "user_tz": -540
    },
    "id": "NWZutFsogUYA",
    "outputId": "b58c823a-ae97-4de8-a03b-3bd60a42f1a9"
   },
   "outputs": [
    {
     "data": {
      "text/plain": [
       "gas       356209\n",
       "others     37596\n",
       "diesel     30062\n",
       "Name: fuel, dtype: int64"
      ]
     },
     "execution_count": 103,
     "metadata": {},
     "output_type": "execute_result"
    }
   ],
   "source": [
    "df.loc[df[col] == 'other', col] = 'others'\n",
    "df[col].value_counts()"
   ]
  },
  {
   "cell_type": "code",
   "execution_count": 73,
   "metadata": {
    "colab": {
     "base_uri": "https://localhost:8080/",
     "height": 283
    },
    "executionInfo": {
     "elapsed": 692,
     "status": "ok",
     "timestamp": 1632365574167,
     "user": {
      "displayName": "팡팡",
      "photoUrl": "https://lh3.googleusercontent.com/a/default-user=s64",
      "userId": "08351897761321616592"
     },
     "user_tz": -540
    },
    "id": "hFPNe3jIgetl",
    "outputId": "f40cbe65-c724-4562-e879-b8e7752d5cf3"
   },
   "outputs": [
    {
     "data": {
      "text/plain": [
       "[<matplotlib.lines.Line2D at 0x7f323d4840d0>]"
      ]
     },
     "execution_count": 73,
     "metadata": {},
     "output_type": "execute_result"
    },
    {
     "data": {
      "image/png": "[encoded data removed]",
      "text/plain": [
       "<Figure size 432x288 with 1 Axes>"
      ]
     },
     "metadata": {
      "needs_background": "light"
     },
     "output_type": "display_data"
    }
   ],
   "source": [
    "# 다른 컬럼들도 동일하게 작업해주자4\n",
    "col = 'transmission'\n",
    "counts = df[col].fillna('others').value_counts()\n",
    "plt.grid()\n",
    "plt.plot(range(len(counts)), counts)"
   ]
  },
  {
   "cell_type": "code",
   "execution_count": 74,
   "metadata": {
    "executionInfo": {
     "elapsed": 468,
     "status": "ok",
     "timestamp": 1632365574632,
     "user": {
      "displayName": "팡팡",
      "photoUrl": "https://lh3.googleusercontent.com/a/default-user=s64",
      "userId": "08351897761321616592"
     },
     "user_tz": -540
    },
    "id": "gVdOMg2_gerP"
   },
   "outputs": [],
   "source": [
    "n_categorical = 3\n",
    "others = counts.index[n_categorical:]\n",
    "df[col] = df[col].apply(lambda s: s if str(s) not in others else 'others')"
   ]
  },
  {
   "cell_type": "code",
   "execution_count": 75,
   "metadata": {
    "colab": {
     "base_uri": "https://localhost:8080/"
    },
    "executionInfo": {
     "elapsed": 284,
     "status": "ok",
     "timestamp": 1632365583143,
     "user": {
      "displayName": "팡팡",
      "photoUrl": "https://lh3.googleusercontent.com/a/default-user=s64",
      "userId": "08351897761321616592"
     },
     "user_tz": -540
    },
    "id": "PNyr1wXOgeox",
    "outputId": "fd7dc6a2-a815-4118-b76d-a413a25ea533"
   },
   "outputs": [
    {
     "data": {
      "text/plain": [
       "automatic    336524\n",
       "other         62682\n",
       "manual        25118\n",
       "Name: transmission, dtype: int64"
      ]
     },
     "execution_count": 75,
     "metadata": {},
     "output_type": "execute_result"
    }
   ],
   "source": [
    "df[col].value_counts()"
   ]
  },
  {
   "cell_type": "code",
   "execution_count": 79,
   "metadata": {
    "colab": {
     "base_uri": "https://localhost:8080/",
     "height": 281
    },
    "executionInfo": {
     "elapsed": 519,
     "status": "ok",
     "timestamp": 1632365713239,
     "user": {
      "displayName": "팡팡",
      "photoUrl": "https://lh3.googleusercontent.com/a/default-user=s64",
      "userId": "08351897761321616592"
     },
     "user_tz": -540
    },
    "id": "CTnMaaC3gemg",
    "outputId": "a9c58dbb-1b59-49fb-ecb6-902357ecd457"
   },
   "outputs": [
    {
     "data": {
      "text/plain": [
       "[<matplotlib.lines.Line2D at 0x7f323f6d0490>]"
      ]
     },
     "execution_count": 79,
     "metadata": {},
     "output_type": "execute_result"
    },
    {
     "data": {
      "image/png": "[encoded data removed]",
      "text/plain": [
       "<Figure size 432x288 with 1 Axes>"
      ]
     },
     "metadata": {
      "needs_background": "light"
     },
     "output_type": "display_data"
    }
   ],
   "source": [
    "# 다른 컬럼들도 동일하게 작업해주자5\n",
    "col = 'drive'\n",
    "counts = df[col].fillna('others').value_counts()\n",
    "plt.grid()\n",
    "plt.plot(range(len(counts)), counts)"
   ]
  },
  {
   "cell_type": "code",
   "execution_count": 80,
   "metadata": {
    "executionInfo": {
     "elapsed": 805,
     "status": "ok",
     "timestamp": 1632365715976,
     "user": {
      "displayName": "팡팡",
      "photoUrl": "https://lh3.googleusercontent.com/a/default-user=s64",
      "userId": "08351897761321616592"
     },
     "user_tz": -540
    },
    "id": "I1CwsosckkNE"
   },
   "outputs": [],
   "source": [
    "n_categorical = 3\n",
    "others = counts.index[n_categorical:]\n",
    "df[col] = df[col].apply(lambda s: s if str(s) not in others else 'others')"
   ]
  },
  {
   "cell_type": "code",
   "execution_count": 81,
   "metadata": {
    "colab": {
     "base_uri": "https://localhost:8080/"
    },
    "executionInfo": {
     "elapsed": 504,
     "status": "ok",
     "timestamp": 1632365717876,
     "user": {
      "displayName": "팡팡",
      "photoUrl": "https://lh3.googleusercontent.com/a/default-user=s64",
      "userId": "08351897761321616592"
     },
     "user_tz": -540
    },
    "id": "o2hxeEHtkkJu",
    "outputId": "756b19ba-8ace-4a80-8cc2-02745bdfc916"
   },
   "outputs": [
    {
     "data": {
      "text/plain": [
       "others    189459\n",
       "4wd       131904\n",
       "fwd       105517\n",
       "Name: drive, dtype: int64"
      ]
     },
     "execution_count": 81,
     "metadata": {},
     "output_type": "execute_result"
    }
   ],
   "source": [
    "df[col].value_counts()"
   ]
  },
  {
   "cell_type": "code",
   "execution_count": 89,
   "metadata": {
    "colab": {
     "base_uri": "https://localhost:8080/",
     "height": 281
    },
    "executionInfo": {
     "elapsed": 333,
     "status": "ok",
     "timestamp": 1632365908250,
     "user": {
      "displayName": "팡팡",
      "photoUrl": "https://lh3.googleusercontent.com/a/default-user=s64",
      "userId": "08351897761321616592"
     },
     "user_tz": -540
    },
    "id": "OWnR9QoJkkD9",
    "outputId": "374cb7f9-886e-4420-d89a-f919f8a30dbf"
   },
   "outputs": [
    {
     "data": {
      "text/plain": [
       "[<matplotlib.lines.Line2D at 0x7f323daa44d0>]"
      ]
     },
     "execution_count": 89,
     "metadata": {},
     "output_type": "execute_result"
    },
    {
     "data": {
      "image/png": "[encoded data removed]",
      "text/plain": [
       "<Figure size 432x288 with 1 Axes>"
      ]
     },
     "metadata": {
      "needs_background": "light"
     },
     "output_type": "display_data"
    }
   ],
   "source": [
    "# 다른 컬럼들도 동일하게 작업해주자5\n",
    "col = 'size'\n",
    "counts = df[col].fillna('others').value_counts()\n",
    "plt.grid()\n",
    "plt.plot(range(len(counts)), counts)"
   ]
  },
  {
   "cell_type": "code",
   "execution_count": 90,
   "metadata": {
    "executionInfo": {
     "elapsed": 477,
     "status": "ok",
     "timestamp": 1632365917624,
     "user": {
      "displayName": "팡팡",
      "photoUrl": "https://lh3.googleusercontent.com/a/default-user=s64",
      "userId": "08351897761321616592"
     },
     "user_tz": -540
    },
    "id": "vv5WPZwJltKR"
   },
   "outputs": [],
   "source": [
    "n_categorical = 2\n",
    "others = counts.index[n_categorical:]\n",
    "df[col] = df[col].apply(lambda s: s if str(s) not in others else 'others')"
   ]
  },
  {
   "cell_type": "code",
   "execution_count": 91,
   "metadata": {
    "colab": {
     "base_uri": "https://localhost:8080/"
    },
    "executionInfo": {
     "elapsed": 1,
     "status": "ok",
     "timestamp": 1632365917624,
     "user": {
      "displayName": "팡팡",
      "photoUrl": "https://lh3.googleusercontent.com/a/default-user=s64",
      "userId": "08351897761321616592"
     },
     "user_tz": -540
    },
    "id": "mCU-5YZNltGy",
    "outputId": "3d2f878b-30b3-49c8-91e4-27d468cbac96"
   },
   "outputs": [
    {
     "data": {
      "text/plain": [
       "full-size    63465\n",
       "others       57054\n",
       "Name: size, dtype: int64"
      ]
     },
     "execution_count": 91,
     "metadata": {},
     "output_type": "execute_result"
    }
   ],
   "source": [
    "df[col].value_counts()"
   ]
  },
  {
   "cell_type": "code",
   "execution_count": 92,
   "metadata": {
    "colab": {
     "base_uri": "https://localhost:8080/",
     "height": 281
    },
    "executionInfo": {
     "elapsed": 335,
     "status": "ok",
     "timestamp": 1632365939654,
     "user": {
      "displayName": "팡팡",
      "photoUrl": "https://lh3.googleusercontent.com/a/default-user=s64",
      "userId": "08351897761321616592"
     },
     "user_tz": -540
    },
    "id": "nSW6DiDKltEg",
    "outputId": "91eb42bc-6d3b-4209-e8d8-f1b62a169bd9"
   },
   "outputs": [
    {
     "data": {
      "text/plain": [
       "[<matplotlib.lines.Line2D at 0x7f323dbe90d0>]"
      ]
     },
     "execution_count": 92,
     "metadata": {},
     "output_type": "execute_result"
    },
    {
     "data": {
      "image/png": "[encoded data removed]",
      "text/plain": [
       "<Figure size 432x288 with 1 Axes>"
      ]
     },
     "metadata": {
      "needs_background": "light"
     },
     "output_type": "display_data"
    }
   ],
   "source": [
    "# 다른 컬럼들도 동일하게 작업해주자6\n",
    "col = 'type'\n",
    "counts = df[col].fillna('others').value_counts()\n",
    "plt.grid()\n",
    "plt.plot(range(len(counts)), counts)"
   ]
  },
  {
   "cell_type": "code",
   "execution_count": 93,
   "metadata": {
    "executionInfo": {
     "elapsed": 472,
     "status": "ok",
     "timestamp": 1632365943406,
     "user": {
      "displayName": "팡팡",
      "photoUrl": "https://lh3.googleusercontent.com/a/default-user=s64",
      "userId": "08351897761321616592"
     },
     "user_tz": -540
    },
    "id": "43XeMqxegekH"
   },
   "outputs": [],
   "source": [
    "n_categorical = 8\n",
    "others = counts.index[n_categorical:]\n",
    "df[col] = df[col].apply(lambda s: s if str(s) not in others else 'others')"
   ]
  },
  {
   "cell_type": "code",
   "execution_count": 97,
   "metadata": {
    "colab": {
     "base_uri": "https://localhost:8080/"
    },
    "executionInfo": {
     "elapsed": 344,
     "status": "ok",
     "timestamp": 1632366000080,
     "user": {
      "displayName": "팡팡",
      "photoUrl": "https://lh3.googleusercontent.com/a/default-user=s64",
      "userId": "08351897761321616592"
     },
     "user_tz": -540
    },
    "id": "cZ7nVDl1l2qw",
    "outputId": "af06fd13-cbf5-4ec2-dcdd-aa999c5da447"
   },
   "outputs": [
    {
     "data": {
      "text/plain": [
       "sedan        87056\n",
       "SUV          77284\n",
       "others       55091\n",
       "pickup       43510\n",
       "truck        35279\n",
       "coupe        19204\n",
       "hatchback    16598\n",
       "Name: type, dtype: int64"
      ]
     },
     "execution_count": 97,
     "metadata": {},
     "output_type": "execute_result"
    }
   ],
   "source": [
    "df[col].value_counts()"
   ]
  },
  {
   "cell_type": "code",
   "execution_count": 96,
   "metadata": {
    "executionInfo": {
     "elapsed": 308,
     "status": "ok",
     "timestamp": 1632365996187,
     "user": {
      "displayName": "팡팡",
      "photoUrl": "https://lh3.googleusercontent.com/a/default-user=s64",
      "userId": "08351897761321616592"
     },
     "user_tz": -540
    },
    "id": "MEhvEe8Ul8yb"
   },
   "outputs": [],
   "source": [
    "df.loc[df[col] == 'other', col] = 'others'"
   ]
  },
  {
   "cell_type": "code",
   "execution_count": 106,
   "metadata": {
    "colab": {
     "base_uri": "https://localhost:8080/",
     "height": 281
    },
    "executionInfo": {
     "elapsed": 367,
     "status": "ok",
     "timestamp": 1632366103539,
     "user": {
      "displayName": "팡팡",
      "photoUrl": "https://lh3.googleusercontent.com/a/default-user=s64",
      "userId": "08351897761321616592"
     },
     "user_tz": -540
    },
    "id": "nLZDXTkBmbBa",
    "outputId": "01b722b3-c690-4eca-f72a-43738b012f37"
   },
   "outputs": [
    {
     "data": {
      "text/plain": [
       "[<matplotlib.lines.Line2D at 0x7f323dc52450>]"
      ]
     },
     "execution_count": 106,
     "metadata": {},
     "output_type": "execute_result"
    },
    {
     "data": {
      "image/png": "[encoded data removed]",
      "text/plain": [
       "<Figure size 432x288 with 1 Axes>"
      ]
     },
     "metadata": {
      "needs_background": "light"
     },
     "output_type": "display_data"
    }
   ],
   "source": [
    "# 다른 컬럼들도 동일하게 작업해주자6\n",
    "col = 'paint_color'\n",
    "counts = df[col].fillna('others').value_counts()\n",
    "plt.grid()\n",
    "plt.plot(range(len(counts)), counts)"
   ]
  },
  {
   "cell_type": "code",
   "execution_count": 107,
   "metadata": {
    "executionInfo": {
     "elapsed": 766,
     "status": "ok",
     "timestamp": 1632366122407,
     "user": {
      "displayName": "팡팡",
      "photoUrl": "https://lh3.googleusercontent.com/a/default-user=s64",
      "userId": "08351897761321616592"
     },
     "user_tz": -540
    },
    "id": "FJrgeuVwma69"
   },
   "outputs": [],
   "source": [
    "n_categorical = 7\n",
    "others = counts.index[n_categorical:]\n",
    "df[col] = df[col].apply(lambda s: s if str(s) not in others else 'others')"
   ]
  },
  {
   "cell_type": "code",
   "execution_count": 108,
   "metadata": {
    "colab": {
     "base_uri": "https://localhost:8080/"
    },
    "executionInfo": {
     "elapsed": 284,
     "status": "ok",
     "timestamp": 1632366125524,
     "user": {
      "displayName": "팡팡",
      "photoUrl": "https://lh3.googleusercontent.com/a/default-user=s64",
      "userId": "08351897761321616592"
     },
     "user_tz": -540
    },
    "id": "MOpUiDc9maxT",
    "outputId": "ab1f003e-60b9-4d98-e212-fffdef6dd55c"
   },
   "outputs": [
    {
     "data": {
      "text/plain": [
       "white     79285\n",
       "black     62861\n",
       "silver    42970\n",
       "blue      31223\n",
       "red       30473\n",
       "others    25449\n",
       "grey      24416\n",
       "Name: paint_color, dtype: int64"
      ]
     },
     "execution_count": 108,
     "metadata": {},
     "output_type": "execute_result"
    }
   ],
   "source": [
    "df[col].value_counts()"
   ]
  },
  {
   "cell_type": "markdown",
   "metadata": {
    "id": "2Z62otW9lgtX"
   },
   "source": [
    "### 문제 9. 수치형 데이터 시각화하여 분석하기"
   ]
  },
  {
   "cell_type": "code",
   "execution_count": 109,
   "metadata": {
    "colab": {
     "base_uri": "https://localhost:8080/",
     "height": 187
    },
    "executionInfo": {
     "elapsed": 10880,
     "status": "ok",
     "timestamp": 1632366169151,
     "user": {
      "displayName": "팡팡",
      "photoUrl": "https://lh3.googleusercontent.com/a/default-user=s64",
      "userId": "08351897761321616592"
     },
     "user_tz": -540
    },
    "id": "NW-QEym6lgtX",
    "outputId": "cff3f20a-2c28-48a2-8dc4-c83545a91b1c"
   },
   "outputs": [
    {
     "data": {
      "text/plain": [
       "<matplotlib.axes._subplots.AxesSubplot at 0x7f323dc2ea90>"
      ]
     },
     "execution_count": 109,
     "metadata": {},
     "output_type": "execute_result"
    },
    {
     "data": {
      "image/png": "[encoded data removed]",
      "text/plain": [
       "<Figure size 432x144 with 1 Axes>"
      ]
     },
     "metadata": {
      "needs_background": "light"
     },
     "output_type": "display_data"
    }
   ],
   "source": [
    "# Seaborn을 이용하여 범주형 데이터를 시각화하여 분석하기\n",
    "# Hint) 값의 범위가 너무 넓을 경우 histplot() 등이 잘 동작하지 않으므로, rugplot을 활용\n",
    "fig = plt.figure(figsize=(6, 2))\n",
    "sns.rugplot(x='price', data=df, height=1)"
   ]
  },
  {
   "cell_type": "code",
   "execution_count": 110,
   "metadata": {
    "colab": {
     "base_uri": "https://localhost:8080/",
     "height": 187
    },
    "executionInfo": {
     "elapsed": 10307,
     "status": "ok",
     "timestamp": 1632366203537,
     "user": {
      "displayName": "팡팡",
      "photoUrl": "https://lh3.googleusercontent.com/a/default-user=s64",
      "userId": "08351897761321616592"
     },
     "user_tz": -540
    },
    "id": "5DnQn4Pqmz-H",
    "outputId": "0fc01d5e-7ec9-496a-c4ab-31ed45e5d653"
   },
   "outputs": [
    {
     "data": {
      "text/plain": [
       "<matplotlib.axes._subplots.AxesSubplot at 0x7f322c040950>"
      ]
     },
     "execution_count": 110,
     "metadata": {},
     "output_type": "execute_result"
    },
    {
     "data": {
      "image/png": "[encoded data removed]",
      "text/plain": [
       "<Figure size 576x144 with 1 Axes>"
      ]
     },
     "metadata": {
      "needs_background": "light"
     },
     "output_type": "display_data"
    }
   ],
   "source": [
    "fig = plt.figure(figsize=(6, 2))\n",
    "sns.rugplot(x='odometer', data=df, height=1)"
   ]
  },
  {
   "cell_type": "code",
   "execution_count": 111,
   "metadata": {
    "colab": {
     "base_uri": "https://localhost:8080/",
     "height": 300
    },
    "executionInfo": {
     "elapsed": 3205,
     "status": "ok",
     "timestamp": 1632366206739,
     "user": {
      "displayName": "팡팡",
      "photoUrl": "https://lh3.googleusercontent.com/a/default-user=s64",
      "userId": "08351897761321616592"
     },
     "user_tz": -540
    },
    "id": "NUTamLsZm0OS",
    "outputId": "848e0081-3a7a-47e6-d8f5-21d5cf574a18"
   },
   "outputs": [
    {
     "data": {
      "text/plain": [
       "<matplotlib.axes._subplots.AxesSubplot at 0x7f321e27a950>"
      ]
     },
     "execution_count": 111,
     "metadata": {},
     "output_type": "execute_result"
    },
    {
     "data": {
      "image/png": "[encoded data removed]",
      "text/plain": [
       "<Figure size 432x288 with 1 Axes>"
      ]
     },
     "metadata": {
      "needs_background": "light"
     },
     "output_type": "display_data"
    }
   ],
   "source": [
    "sns.histplot(x='age', data=df, bins=18, kde=True)"
   ]
  },
  {
   "cell_type": "markdown",
   "metadata": {
    "id": "xsd_T_h_lgtY"
   },
   "source": [
    "### 문제 10. 수치형 데이터 클리닝하기"
   ]
  },
  {
   "cell_type": "code",
   "execution_count": 114,
   "metadata": {
    "colab": {
     "base_uri": "https://localhost:8080/"
    },
    "executionInfo": {
     "elapsed": 297,
     "status": "ok",
     "timestamp": 1632366272675,
     "user": {
      "displayName": "팡팡",
      "photoUrl": "https://lh3.googleusercontent.com/a/default-user=s64",
      "userId": "08351897761321616592"
     },
     "user_tz": -540
    },
    "id": "PRYiAxnKlgtY",
    "outputId": "6c32a088-3fcb-42ec-9c30-455ec7f9c591"
   },
   "outputs": [
    {
     "name": "stdout",
     "output_type": "stream",
     "text": [
      "66995.0 500.0\n"
     ]
    }
   ],
   "source": [
    "# quantile() 메소드를 이용하여 outlier 제거하고 시각화하여 확인하기\n",
    "p1 = df['price'].quantile(0.99)\n",
    "p2 = df['price'].quantile(0.1)\n",
    "print(p1,p2)"
   ]
  },
  {
   "cell_type": "code",
   "execution_count": 116,
   "metadata": {
    "executionInfo": {
     "elapsed": 299,
     "status": "ok",
     "timestamp": 1632366386533,
     "user": {
      "displayName": "팡팡",
      "photoUrl": "https://lh3.googleusercontent.com/a/default-user=s64",
      "userId": "08351897761321616592"
     },
     "user_tz": -540
    },
    "id": "eMzfVu6AnM_a"
   },
   "outputs": [],
   "source": [
    "df = df[(p1 > df['price']) & (df['price'] > p2)]"
   ]
  },
  {
   "cell_type": "code",
   "execution_count": 117,
   "metadata": {
    "colab": {
     "base_uri": "https://localhost:8080/"
    },
    "executionInfo": {
     "elapsed": 291,
     "status": "ok",
     "timestamp": 1632366388489,
     "user": {
      "displayName": "팡팡",
      "photoUrl": "https://lh3.googleusercontent.com/a/default-user=s64",
      "userId": "08351897761321616592"
     },
     "user_tz": -540
    },
    "id": "eyOAC2K7nM9k",
    "outputId": "de56cff3-8cdb-4a99-db24-3f48add019a3"
   },
   "outputs": [
    {
     "name": "stdout",
     "output_type": "stream",
     "text": [
      "280000.0 15812.0\n"
     ]
    }
   ],
   "source": [
    "o1 = df['odometer'].quantile(0.99)\n",
    "o2 = df['odometer'].quantile(0.1)\n",
    "print(o1, o2)"
   ]
  },
  {
   "cell_type": "code",
   "execution_count": 118,
   "metadata": {
    "executionInfo": {
     "elapsed": 1,
     "status": "ok",
     "timestamp": 1632366389268,
     "user": {
      "displayName": "팡팡",
      "photoUrl": "https://lh3.googleusercontent.com/a/default-user=s64",
      "userId": "08351897761321616592"
     },
     "user_tz": -540
    },
    "id": "kXyWK7oCnM6a"
   },
   "outputs": [],
   "source": [
    "df = df[(o1 > df['odometer']) & (df['odometer'] > o2)]"
   ]
  },
  {
   "cell_type": "code",
   "execution_count": 119,
   "metadata": {
    "colab": {
     "base_uri": "https://localhost:8080/",
     "height": 294
    },
    "executionInfo": {
     "elapsed": 440,
     "status": "ok",
     "timestamp": 1632366390110,
     "user": {
      "displayName": "팡팡",
      "photoUrl": "https://lh3.googleusercontent.com/a/default-user=s64",
      "userId": "08351897761321616592"
     },
     "user_tz": -540
    },
    "id": "HmsZ1r1onM3y",
    "outputId": "2e577ea1-d55d-492a-ee98-f93eda4aa5d4"
   },
   "outputs": [
    {
     "data": {
      "text/html": [
       "<div>\n",
       "<style scoped>\n",
       "    .dataframe tbody tr th:only-of-type {\n",
       "        vertical-align: middle;\n",
       "    }\n",
       "\n",
       "    .dataframe tbody tr th {\n",
       "        vertical-align: top;\n",
       "    }\n",
       "\n",
       "    .dataframe thead th {\n",
       "        text-align: right;\n",
       "    }\n",
       "</style>\n",
       "<table border=\"1\" class=\"dataframe\">\n",
       "  <thead>\n",
       "    <tr style=\"text-align: right;\">\n",
       "      <th></th>\n",
       "      <th>price</th>\n",
       "      <th>odometer</th>\n",
       "      <th>age</th>\n",
       "    </tr>\n",
       "  </thead>\n",
       "  <tbody>\n",
       "    <tr>\n",
       "      <th>count</th>\n",
       "      <td>335851.000000</td>\n",
       "      <td>335851.000000</td>\n",
       "      <td>335248.000000</td>\n",
       "    </tr>\n",
       "    <tr>\n",
       "      <th>mean</th>\n",
       "      <td>17534.838914</td>\n",
       "      <td>101335.798690</td>\n",
       "      <td>10.239056</td>\n",
       "    </tr>\n",
       "    <tr>\n",
       "      <th>std</th>\n",
       "      <td>12645.528274</td>\n",
       "      <td>56884.388094</td>\n",
       "      <td>8.469817</td>\n",
       "    </tr>\n",
       "    <tr>\n",
       "      <th>min</th>\n",
       "      <td>501.000000</td>\n",
       "      <td>15813.000000</td>\n",
       "      <td>-1.000000</td>\n",
       "    </tr>\n",
       "    <tr>\n",
       "      <th>25%</th>\n",
       "      <td>7425.500000</td>\n",
       "      <td>53000.000000</td>\n",
       "      <td>5.000000</td>\n",
       "    </tr>\n",
       "    <tr>\n",
       "      <th>50%</th>\n",
       "      <td>14500.000000</td>\n",
       "      <td>96936.000000</td>\n",
       "      <td>8.000000</td>\n",
       "    </tr>\n",
       "    <tr>\n",
       "      <th>75%</th>\n",
       "      <td>25226.500000</td>\n",
       "      <td>140337.000000</td>\n",
       "      <td>13.000000</td>\n",
       "    </tr>\n",
       "    <tr>\n",
       "      <th>max</th>\n",
       "      <td>66992.000000</td>\n",
       "      <td>279974.000000</td>\n",
       "      <td>121.000000</td>\n",
       "    </tr>\n",
       "  </tbody>\n",
       "</table>\n",
       "</div>"
      ],
      "text/plain": [
       "               price       odometer            age\n",
       "count  335851.000000  335851.000000  335248.000000\n",
       "mean    17534.838914  101335.798690      10.239056\n",
       "std     12645.528274   56884.388094       8.469817\n",
       "min       501.000000   15813.000000      -1.000000\n",
       "25%      7425.500000   53000.000000       5.000000\n",
       "50%     14500.000000   96936.000000       8.000000\n",
       "75%     25226.500000  140337.000000      13.000000\n",
       "max     66992.000000  279974.000000     121.000000"
      ]
     },
     "execution_count": 119,
     "metadata": {},
     "output_type": "execute_result"
    }
   ],
   "source": [
    "df.describe()"
   ]
  },
  {
   "cell_type": "code",
   "execution_count": 120,
   "metadata": {
    "colab": {
     "base_uri": "https://localhost:8080/"
    },
    "executionInfo": {
     "elapsed": 5,
     "status": "ok",
     "timestamp": 1632366390110,
     "user": {
      "displayName": "팡팡",
      "photoUrl": "https://lh3.googleusercontent.com/a/default-user=s64",
      "userId": "08351897761321616592"
     },
     "user_tz": -540
    },
    "id": "lZDZkPXUnMww",
    "outputId": "3201c610-aa56-4415-9e3b-6668ae33878f"
   },
   "outputs": [
    {
     "data": {
      "text/plain": [
       "Index(['region', 'price', 'manufacturer', 'model', 'condition', 'cylinders',\n",
       "       'fuel', 'odometer', 'transmission', 'drive', 'size', 'type',\n",
       "       'paint_color', 'age'],\n",
       "      dtype='object')"
      ]
     },
     "execution_count": 120,
     "metadata": {},
     "output_type": "execute_result"
    }
   ],
   "source": [
    "df.columns"
   ]
  },
  {
   "cell_type": "code",
   "execution_count": 121,
   "metadata": {
    "colab": {
     "base_uri": "https://localhost:8080/",
     "height": 353
    },
    "executionInfo": {
     "elapsed": 696,
     "status": "ok",
     "timestamp": 1632366473180,
     "user": {
      "displayName": "팡팡",
      "photoUrl": "https://lh3.googleusercontent.com/a/default-user=s64",
      "userId": "08351897761321616592"
     },
     "user_tz": -540
    },
    "id": "UpB9AUYynZna",
    "outputId": "cb353ebe-609b-4b69-94fa-10b632969a56"
   },
   "outputs": [
    {
     "data": {
      "text/plain": [
       "<matplotlib.axes._subplots.AxesSubplot at 0x7f321e1b89d0>"
      ]
     },
     "execution_count": 121,
     "metadata": {},
     "output_type": "execute_result"
    },
    {
     "data": {
      "image/png": "[encoded data removed]",
      "text/plain": [
       "<Figure size 720x360 with 1 Axes>"
      ]
     },
     "metadata": {
      "needs_background": "light"
     },
     "output_type": "display_data"
    }
   ],
   "source": [
    "# Boxplot 계열로 범주형 데이터를 시각화하여 분석하기\n",
    "fig = plt.figure(figsize=(10, 5))\n",
    "sns.boxplot(x='manufacturer', y='price', data=df)"
   ]
  },
  {
   "cell_type": "code",
   "execution_count": 122,
   "metadata": {
    "colab": {
     "base_uri": "https://localhost:8080/",
     "height": 353
    },
    "executionInfo": {
     "elapsed": 540,
     "status": "ok",
     "timestamp": 1632366473717,
     "user": {
      "displayName": "팡팡",
      "photoUrl": "https://lh3.googleusercontent.com/a/default-user=s64",
      "userId": "08351897761321616592"
     },
     "user_tz": -540
    },
    "id": "c9SzD5b4nZlS",
    "outputId": "3757f193-7f80-41c0-fbf5-76d9b530f9ad"
   },
   "outputs": [
    {
     "data": {
      "text/plain": [
       "<matplotlib.axes._subplots.AxesSubplot at 0x7f321e07c910>"
      ]
     },
     "execution_count": 122,
     "metadata": {},
     "output_type": "execute_result"
    },
    {
     "data": {
      "image/png": "[encoded data removed]",
      "text/plain": [
       "<Figure size 1008x360 with 1 Axes>"
      ]
     },
     "metadata": {
      "needs_background": "light"
     },
     "output_type": "display_data"
    }
   ],
   "source": [
    "fig = plt.figure(figsize=(14, 5))\n",
    "sns.boxplot(x='model', y='price', data=df)"
   ]
  },
  {
   "cell_type": "markdown",
   "metadata": {
    "id": "sWIF67-8lr4C"
   },
   "source": [
    "### 문제 11. 컬럼간의 Correlation Heatmap으로 시각화하기"
   ]
  },
  {
   "cell_type": "code",
   "execution_count": 123,
   "metadata": {
    "colab": {
     "base_uri": "https://localhost:8080/",
     "height": 285
    },
    "executionInfo": {
     "elapsed": 963,
     "status": "ok",
     "timestamp": 1632366552888,
     "user": {
      "displayName": "팡팡",
      "photoUrl": "https://lh3.googleusercontent.com/a/default-user=s64",
      "userId": "08351897761321616592"
     },
     "user_tz": -540
    },
    "id": "wVmEa1ChlrTc",
    "outputId": "dc1ad437-002c-4db0-a4dd-d304d2518fae"
   },
   "outputs": [
    {
     "data": {
      "text/plain": [
       "<matplotlib.axes._subplots.AxesSubplot at 0x7f321df40990>"
      ]
     },
     "execution_count": 123,
     "metadata": {},
     "output_type": "execute_result"
    },
    {
     "data": {
      "image/png": "[encoded data removed]",
      "text/plain": [
       "<Figure size 432x288 with 2 Axes>"
      ]
     },
     "metadata": {
      "needs_background": "light"
     },
     "output_type": "display_data"
    }
   ],
   "source": [
    "sns.heatmap(df.corr(), annot=True, cmap='YlOrRd')"
   ]
  },
  {
   "cell_type": "markdown",
   "metadata": {
    "id": "FRfd7ABjepBS"
   },
   "source": [
    "## Step 4. 모델 학습을 위한 데이터 전처리 "
   ]
  },
  {
   "cell_type": "markdown",
   "metadata": {
    "id": "Dev2yLeMta85"
   },
   "source": [
    "### 문제 12. StandardScaler를 이용해 수치형 데이터 표준화하기\n"
   ]
  },
  {
   "cell_type": "code",
   "execution_count": 124,
   "metadata": {
    "executionInfo": {
     "elapsed": 301,
     "status": "ok",
     "timestamp": 1632366645945,
     "user": {
      "displayName": "팡팡",
      "photoUrl": "https://lh3.googleusercontent.com/a/default-user=s64",
      "userId": "08351897761321616592"
     },
     "user_tz": -540
    },
    "id": "_k_SDCh5xMgD"
   },
   "outputs": [],
   "source": [
    "from sklearn.preprocessing import StandardScaler"
   ]
  },
  {
   "cell_type": "code",
   "execution_count": 125,
   "metadata": {
    "executionInfo": {
     "elapsed": 795,
     "status": "ok",
     "timestamp": 1632366770820,
     "user": {
      "displayName": "팡팡",
      "photoUrl": "https://lh3.googleusercontent.com/a/default-user=s64",
      "userId": "08351897761321616592"
     },
     "user_tz": -540
    },
    "id": "W3EO22NCE3wG"
   },
   "outputs": [],
   "source": [
    "# StandardScaler를 이용해 수치형 데이터를 표준화하기\n",
    "X_num = df[['odometer', 'age']]\n",
    "scaler = StandardScaler()\n",
    "scaler.fit(X_num)\n",
    "X_scaled = scaler.transform(X_num)\n",
    "X_scaled = pd.DataFrame(X_scaled, index=X_num.index, columns=X_num.columns)\n",
    "\n",
    "# get_dummies를 이용해 범주형 데이터를 one-hot 벡터로 변경하기\n",
    "X_cat = df.drop(['price', 'odometer', 'age'], axis=1)\n",
    "X_cat = pd.get_dummies(X_cat)\n",
    "\n",
    "# 입출력 데이터 통합하기\n",
    "X = pd.concat([X_scaled, X_cat], axis=1)\n",
    "y = df['price']"
   ]
  },
  {
   "cell_type": "code",
   "execution_count": 126,
   "metadata": {
    "colab": {
     "base_uri": "https://localhost:8080/"
    },
    "executionInfo": {
     "elapsed": 350,
     "status": "ok",
     "timestamp": 1632366857014,
     "user": {
      "displayName": "팡팡",
      "photoUrl": "https://lh3.googleusercontent.com/a/default-user=s64",
      "userId": "08351897761321616592"
     },
     "user_tz": -540
    },
    "id": "70OiHOcYpWdq",
    "outputId": "e2d91033-babe-459e-c359-6f26d4eddd58"
   },
   "outputs": [
    {
     "data": {
      "text/plain": [
       "(335851, 60)"
      ]
     },
     "execution_count": 126,
     "metadata": {},
     "output_type": "execute_result"
    }
   ],
   "source": [
    "X.shape"
   ]
  },
  {
   "cell_type": "code",
   "execution_count": null,
   "metadata": {
    "id": "52uNm0vapWbU"
   },
   "outputs": [],
   "source": [
    "X.isna().sum()\n",
    "# age 빈 값이 많다 => 평균으로 넣어두자"
   ]
  },
  {
   "cell_type": "code",
   "execution_count": 128,
   "metadata": {
    "colab": {
     "base_uri": "https://localhost:8080/"
    },
    "executionInfo": {
     "elapsed": 301,
     "status": "ok",
     "timestamp": 1632366943390,
     "user": {
      "displayName": "팡팡",
      "photoUrl": "https://lh3.googleusercontent.com/a/default-user=s64",
      "userId": "08351897761321616592"
     },
     "user_tz": -540
    },
    "id": "3NdCFt3dpWZK",
    "outputId": "4dd76c7e-6a46-4c25-9e6f-7e99dd3bd5e8"
   },
   "outputs": [
    {
     "data": {
      "text/plain": [
       "-7.938026406142212e-15"
      ]
     },
     "execution_count": 128,
     "metadata": {},
     "output_type": "execute_result"
    }
   ],
   "source": [
    "X['age'].mean() # 표준화로인해 0에 가깝다 -> 0으로 채우자"
   ]
  },
  {
   "cell_type": "code",
   "execution_count": 129,
   "metadata": {
    "executionInfo": {
     "elapsed": 296,
     "status": "ok",
     "timestamp": 1632366988136,
     "user": {
      "displayName": "팡팡",
      "photoUrl": "https://lh3.googleusercontent.com/a/default-user=s64",
      "userId": "08351897761321616592"
     },
     "user_tz": -540
    },
    "id": "7UuV8d59pnFI"
   },
   "outputs": [],
   "source": [
    "X.fillna(0.0, inplace=True)"
   ]
  },
  {
   "cell_type": "markdown",
   "metadata": {
    "id": "x93Tb6lptcA2"
   },
   "source": [
    "### 문제 13. 학습데이터와 테스트데이터 분리하기\n"
   ]
  },
  {
   "cell_type": "code",
   "execution_count": 130,
   "metadata": {
    "executionInfo": {
     "elapsed": 317,
     "status": "ok",
     "timestamp": 1632366998018,
     "user": {
      "displayName": "팡팡",
      "photoUrl": "https://lh3.googleusercontent.com/a/default-user=s64",
      "userId": "08351897761321616592"
     },
     "user_tz": -540
    },
    "id": "C9kMQI8SEche"
   },
   "outputs": [],
   "source": [
    "from sklearn.model_selection import train_test_split"
   ]
  },
  {
   "cell_type": "code",
   "execution_count": 131,
   "metadata": {
    "executionInfo": {
     "elapsed": 291,
     "status": "ok",
     "timestamp": 1632367006951,
     "user": {
      "displayName": "팡팡",
      "photoUrl": "https://lh3.googleusercontent.com/a/default-user=s64",
      "userId": "08351897761321616592"
     },
     "user_tz": -540
    },
    "id": "F07QjOFwFNEw"
   },
   "outputs": [],
   "source": [
    "# train_test_split() 함수로 학습 데이터와 테스트 데이터 분리하기\n",
    "X_train, X_test, y_train, y_test = train_test_split(X, y, test_size=0.3, random_state=1)"
   ]
  },
  {
   "cell_type": "markdown",
   "metadata": {
    "id": "RrWrE8Z4exup"
   },
   "source": [
    "## Step 5. Regression 모델 학습하기"
   ]
  },
  {
   "cell_type": "markdown",
   "metadata": {
    "id": "NypEtNhdfCow"
   },
   "source": [
    "### 문제 14. XGBoost Regression 모델 학습하기"
   ]
  },
  {
   "cell_type": "code",
   "execution_count": 132,
   "metadata": {
    "executionInfo": {
     "elapsed": 297,
     "status": "ok",
     "timestamp": 1632367016166,
     "user": {
      "displayName": "팡팡",
      "photoUrl": "https://lh3.googleusercontent.com/a/default-user=s64",
      "userId": "08351897761321616592"
     },
     "user_tz": -540
    },
    "id": "ow28ZRL4F7D5"
   },
   "outputs": [],
   "source": [
    "from xgboost import XGBRegressor"
   ]
  },
  {
   "cell_type": "code",
   "execution_count": 133,
   "metadata": {
    "colab": {
     "base_uri": "https://localhost:8080/"
    },
    "executionInfo": {
     "elapsed": 37133,
     "status": "ok",
     "timestamp": 1632367053615,
     "user": {
      "displayName": "팡팡",
      "photoUrl": "https://lh3.googleusercontent.com/a/default-user=s64",
      "userId": "08351897761321616592"
     },
     "user_tz": -540
    },
    "id": "LSSNqFUrGM6R",
    "outputId": "acb079e0-b424-4e38-e80d-1fa51d4835dc"
   },
   "outputs": [
    {
     "name": "stdout",
     "output_type": "stream",
     "text": [
      "[03:16:56] WARNING: /workspace/src/objective/regression_obj.cu:152: reg:linear is now deprecated in favor of reg:squarederror.\n"
     ]
    },
    {
     "data": {
      "text/plain": [
       "XGBRegressor(base_score=0.5, booster='gbtree', colsample_bylevel=1,\n",
       "             colsample_bynode=1, colsample_bytree=1, gamma=0,\n",
       "             importance_type='gain', learning_rate=0.1, max_delta_step=0,\n",
       "             max_depth=3, min_child_weight=1, missing=None, n_estimators=100,\n",
       "             n_jobs=1, nthread=None, objective='reg:linear', random_state=0,\n",
       "             reg_alpha=0, reg_lambda=1, scale_pos_weight=1, seed=None,\n",
       "             silent=None, subsample=1, verbosity=1)"
      ]
     },
     "execution_count": 133,
     "metadata": {},
     "output_type": "execute_result"
    }
   ],
   "source": [
    "# XGBRegressor 모델 생성/학습\n",
    "model_reg = XGBRegressor()\n",
    "model_reg.fit(X_train, y_train)"
   ]
  },
  {
   "cell_type": "markdown",
   "metadata": {
    "id": "gUo8NmHkfIpf"
   },
   "source": [
    "### 문제 15. 모델 학습 결과 평가하기"
   ]
  },
  {
   "cell_type": "code",
   "execution_count": 134,
   "metadata": {
    "executionInfo": {
     "elapsed": 2,
     "status": "ok",
     "timestamp": 1632367053615,
     "user": {
      "displayName": "팡팡",
      "photoUrl": "https://lh3.googleusercontent.com/a/default-user=s64",
      "userId": "08351897761321616592"
     },
     "user_tz": -540
    },
    "id": "rxvf1vgmfLs-"
   },
   "outputs": [],
   "source": [
    "from sklearn.metrics import mean_absolute_error, mean_squared_error\n",
    "from math import sqrt"
   ]
  },
  {
   "cell_type": "code",
   "execution_count": 135,
   "metadata": {
    "colab": {
     "base_uri": "https://localhost:8080/"
    },
    "executionInfo": {
     "elapsed": 501,
     "status": "ok",
     "timestamp": 1632367054114,
     "user": {
      "displayName": "팡팡",
      "photoUrl": "https://lh3.googleusercontent.com/a/default-user=s64",
      "userId": "08351897761321616592"
     },
     "user_tz": -540
    },
    "id": "KDVy7fFGfUP1",
    "outputId": "0a72c827-9d84-40b1-a7ae-7694435dbfcb"
   },
   "outputs": [
    {
     "name": "stdout",
     "output_type": "stream",
     "text": [
      "4459.597895957964\n",
      "6621.79855754232\n"
     ]
    }
   ],
   "source": [
    "# Predict를 수행하고 mean_absolute_error, rmse 결과 출력하기\n",
    "pred = model_reg.predict(X_test)\n",
    "print(mean_absolute_error(y_test, pred))\n",
    "print(sqrt(mean_squared_error(y_test, pred)))"
   ]
  },
  {
   "cell_type": "markdown",
   "metadata": {
    "id": "DTqb-HqPtc4I"
   },
   "source": [
    "## Step 6. 모델 학습 결과 심화 분석하기\n"
   ]
  },
  {
   "cell_type": "markdown",
   "metadata": {
    "id": "xTRTOLTNto3h"
   },
   "source": [
    "### 문제 16. 실제 값과 추측 값의 Scatter plot 시각화하기\n"
   ]
  },
  {
   "cell_type": "code",
   "execution_count": 136,
   "metadata": {
    "colab": {
     "base_uri": "https://localhost:8080/",
     "height": 281
    },
    "executionInfo": {
     "elapsed": 1474,
     "status": "ok",
     "timestamp": 1632367140848,
     "user": {
      "displayName": "팡팡",
      "photoUrl": "https://lh3.googleusercontent.com/a/default-user=s64",
      "userId": "08351897761321616592"
     },
     "user_tz": -540
    },
    "id": "kKEP06-OmrBs",
    "outputId": "501bc7bf-a059-4757-bec3-4177ffcb601f"
   },
   "outputs": [
    {
     "data": {
      "text/plain": [
       "[<matplotlib.lines.Line2D at 0x7f321cb73a90>]"
      ]
     },
     "execution_count": 136,
     "metadata": {},
     "output_type": "execute_result"
    },
    {
     "data": {
      "image/png": "[encoded data removed]",
      "text/plain": [
       "<Figure size 432x288 with 1 Axes>"
      ]
     },
     "metadata": {
      "needs_background": "light"
     },
     "output_type": "display_data"
    }
   ],
   "source": [
    "# y_test vs. pred Scatter 플랏으로 시각적으로 분석하기\n",
    "# Hint) Scatter로 시각적 확인이 어려울 경우, histplot 등 활용\n",
    "plt.scatter(x=y_test, y=pred, alpha=0.005)\n",
    "plt.plot([0,60000], [0,60000], 'r-')\n",
    "# 값이 적어도 비싸다고 판단하는 경우도 있어보인다"
   ]
  },
  {
   "cell_type": "code",
   "execution_count": 137,
   "metadata": {
    "colab": {
     "base_uri": "https://localhost:8080/",
     "height": 295
    },
    "executionInfo": {
     "elapsed": 6,
     "status": "ok",
     "timestamp": 1632367140848,
     "user": {
      "displayName": "팡팡",
      "photoUrl": "https://lh3.googleusercontent.com/a/default-user=s64",
      "userId": "08351897761321616592"
     },
     "user_tz": -540
    },
    "id": "Jc9dTa5TqaXL",
    "outputId": "a514d502-8fcb-4f93-cfe7-d05145380620"
   },
   "outputs": [
    {
     "data": {
      "text/plain": [
       "[<matplotlib.lines.Line2D at 0x7f3211dc59d0>]"
      ]
     },
     "execution_count": 137,
     "metadata": {},
     "output_type": "execute_result"
    },
    {
     "data": {
      "image/png": "[encoded data removed]",
      "text/plain": [
       "<Figure size 432x288 with 1 Axes>"
      ]
     },
     "metadata": {
      "needs_background": "light"
     },
     "output_type": "display_data"
    }
   ],
   "source": [
    "sns.histplot(x=y_test, y=pred)\n",
    "plt.plot([0, 60000], [0, 60000], 'r-')"
   ]
  },
  {
   "cell_type": "markdown",
   "metadata": {
    "id": "kAisZoSEtp35"
   },
   "source": [
    "### 문제 17. 에러 값의 히스토그램 확인하기\n"
   ]
  },
  {
   "cell_type": "code",
   "execution_count": 138,
   "metadata": {
    "colab": {
     "base_uri": "https://localhost:8080/",
     "height": 278
    },
    "executionInfo": {
     "elapsed": 11117,
     "status": "ok",
     "timestamp": 1632367239299,
     "user": {
      "displayName": "팡팡",
      "photoUrl": "https://lh3.googleusercontent.com/a/default-user=s64",
      "userId": "08351897761321616592"
     },
     "user_tz": -540
    },
    "id": "WLnyYNJwGRgd",
    "outputId": "e0d08d69-4e81-401b-f976-74e08d7b9d08"
   },
   "outputs": [
    {
     "data": {
      "image/png": "[encoded data removed]",
      "text/plain": [
       "<Figure size 432x288 with 1 Axes>"
      ]
     },
     "metadata": {
      "needs_background": "light"
     },
     "output_type": "display_data"
    }
   ],
   "source": [
    "# err의 히스토그램으로 에러율 히스토그램 확인하기\n",
    "err = (pred - y_test) / y_test * 100\n",
    "sns.histplot(err)\n",
    "plt.xlabel('error (%)')\n",
    "plt.xlim(-100, 100)\n",
    "plt.grid()\n",
    "# 모델이 약간 적은 값으로 추측하고 있음"
   ]
  },
  {
   "cell_type": "code",
   "execution_count": 139,
   "metadata": {
    "colab": {
     "base_uri": "https://localhost:8080/",
     "height": 278
    },
    "executionInfo": {
     "elapsed": 1407,
     "status": "ok",
     "timestamp": 1632367386677,
     "user": {
      "displayName": "팡팡",
      "photoUrl": "https://lh3.googleusercontent.com/a/default-user=s64",
      "userId": "08351897761321616592"
     },
     "user_tz": -540
    },
    "id": "a04UvM2DmyB-",
    "outputId": "f96e5607-0fa1-42ea-f44d-edd5b3e336f2"
   },
   "outputs": [
    {
     "data": {
      "image/png": "[encoded data removed]",
      "text/plain": [
       "<Figure size 432x288 with 1 Axes>"
      ]
     },
     "metadata": {
      "needs_background": "light"
     },
     "output_type": "display_data"
    }
   ],
   "source": [
    "err = (pred - y_test)\n",
    "sns.histplot(err)\n",
    "plt.xlabel('error ($)')\n",
    "plt.grid()"
   ]
  },
  {
   "cell_type": "code",
   "execution_count": null,
   "metadata": {
    "id": "wvLSe0ajrZji"
   },
   "outputs": [],
   "source": []
  }
 ],
 "metadata": {
  "colab": {
   "collapsed_sections": [],
   "name": "Chapter 1 - 자동으로 모은 데이터는 분석하기 어렵다면서? 자동으로 모은 중고 자동차 데이터를 분석해보자!(문제).ipynb",
   "provenance": []
  },
  "kernelspec": {
   "display_name": "Python 3",
   "language": "python",
   "name": "python3"
  },
  "language_info": {
   "codemirror_mode": {
    "name": "ipython",
    "version": 3
   },
   "file_extension": ".py",
   "mimetype": "text/x-python",
   "name": "python",
   "nbconvert_exporter": "python",
   "pygments_lexer": "ipython3",
   "version": "3.9.4"
  },
  "toc": {
   "base_numbering": 1,
   "nav_menu": {},
   "number_sections": true,
   "sideBar": true,
   "skip_h1_title": false,
   "title_cell": "Table of Contents",
   "title_sidebar": "Contents",
   "toc_cell": false,
   "toc_position": {},
   "toc_section_display": true,
   "toc_window_display": false
  },
  "varInspector": {
   "cols": {
    "lenName": 16,
    "lenType": 16,
    "lenVar": 40
   },
   "kernels_config": {
    "python": {
     "delete_cmd_postfix": "",
     "delete_cmd_prefix": "del ",
     "library": "var_list.py",
     "varRefreshCmd": "print(var_dic_list())"
    },
    "r": {
     "delete_cmd_postfix": ") ",
     "delete_cmd_prefix": "rm(",
     "library": "var_list.r",
     "varRefreshCmd": "cat(var_dic_list()) "
    }
   },
   "types_to_exclude": [
    "module",
    "function",
    "builtin_function_or_method",
    "instance",
    "_Feature"
   ],
   "window_display": false
  }
 },
 "nbformat": 4,
 "nbformat_minor": 1
}
