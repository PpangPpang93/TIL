{
 "cells": [
  {
   "cell_type": "markdown",
   "metadata": {
    "id": "B9Zrj8DMusOn"
   },
   "source": [
    "## 1) Library & Data Import"
   ]
  },
  {
   "cell_type": "code",
   "execution_count": 1,
   "metadata": {
    "executionInfo": {
     "elapsed": 941,
     "status": "ok",
     "timestamp": 1632444254640,
     "user": {
      "displayName": "팡팡",
      "photoUrl": "https://lh3.googleusercontent.com/a/default-user=s64",
      "userId": "08351897761321616592"
     },
     "user_tz": -540
    },
    "id": "yzvddH4TuuwD"
   },
   "outputs": [],
   "source": [
    "%matplotlib inline\n",
    "\n",
    "import pandas as pd\n",
    "import numpy as np\n",
    "import matplotlib.pyplot as plt\n",
    "import seaborn as sns\n",
    "\n",
    "import warnings\n",
    "warnings.filterwarnings(\"ignore\")"
   ]
  },
  {
   "cell_type": "code",
   "execution_count": 2,
   "metadata": {
    "executionInfo": {
     "elapsed": 9,
     "status": "ok",
     "timestamp": 1632444254641,
     "user": {
      "displayName": "팡팡",
      "photoUrl": "https://lh3.googleusercontent.com/a/default-user=s64",
      "userId": "08351897761321616592"
     },
     "user_tz": -540
    },
    "id": "Q_0x25QSuxrp"
   },
   "outputs": [],
   "source": [
    "df = pd.read_csv(\"https://raw.githubusercontent.com/yoonkt200/FastCampusDataset/master/bourne_scenario.csv\")"
   ]
  },
  {
   "cell_type": "code",
   "execution_count": 3,
   "metadata": {
    "colab": {
     "base_uri": "https://localhost:8080/",
     "height": 202
    },
    "executionInfo": {
     "elapsed": 9,
     "status": "ok",
     "timestamp": 1632444254641,
     "user": {
      "displayName": "팡팡",
      "photoUrl": "https://lh3.googleusercontent.com/a/default-user=s64",
      "userId": "08351897761321616592"
     },
     "user_tz": -540
    },
    "id": "90IQykX7vZ3t",
    "outputId": "90949266-6a2c-4fcb-c32a-14f8e053e7cd"
   },
   "outputs": [
    {
     "data": {
      "text/html": [
       "<div>\n",
       "<style scoped>\n",
       "    .dataframe tbody tr th:only-of-type {\n",
       "        vertical-align: middle;\n",
       "    }\n",
       "\n",
       "    .dataframe tbody tr th {\n",
       "        vertical-align: top;\n",
       "    }\n",
       "\n",
       "    .dataframe thead th {\n",
       "        text-align: right;\n",
       "    }\n",
       "</style>\n",
       "<table border=\"1\" class=\"dataframe\">\n",
       "  <thead>\n",
       "    <tr style=\"text-align: right;\">\n",
       "      <th></th>\n",
       "      <th>page_no</th>\n",
       "      <th>scene_title</th>\n",
       "      <th>text</th>\n",
       "    </tr>\n",
       "  </thead>\n",
       "  <tbody>\n",
       "    <tr>\n",
       "      <th>0</th>\n",
       "      <td>1</td>\n",
       "      <td>1         EXT. MERCEDES WINDSHIELD -- DUSK</td>\n",
       "      <td>1                It's raining...             ...</td>\n",
       "    </tr>\n",
       "    <tr>\n",
       "      <th>1</th>\n",
       "      <td>1</td>\n",
       "      <td>A1        INT. MERCEDES -- NIGHT</td>\n",
       "      <td>A1                On his knee -- a syringe an...</td>\n",
       "    </tr>\n",
       "    <tr>\n",
       "      <th>2</th>\n",
       "      <td>1</td>\n",
       "      <td>2         INT. COTTAGE BEDROOM -- NIGHT</td>\n",
       "      <td>2                BOURNE'S EYES OPEN! -- panic...</td>\n",
       "    </tr>\n",
       "    <tr>\n",
       "      <th>3</th>\n",
       "      <td>1</td>\n",
       "      <td>A2        INT. COTTAGE LIVING AREA/BATHROOM ...</td>\n",
       "      <td>A2                BOURNE moving for the medic...</td>\n",
       "    </tr>\n",
       "    <tr>\n",
       "      <th>4</th>\n",
       "      <td>2</td>\n",
       "      <td>3         INT./EXT. COTTAGE LIVING ROOM/VERA...</td>\n",
       "      <td>3                One minute later.  BOURNE mo...</td>\n",
       "    </tr>\n",
       "  </tbody>\n",
       "</table>\n",
       "</div>"
      ],
      "text/plain": [
       "   page_no  ...                                               text\n",
       "0        1  ...   1                It's raining...             ...\n",
       "1        1  ...   A1                On his knee -- a syringe an...\n",
       "2        1  ...   2                BOURNE'S EYES OPEN! -- panic...\n",
       "3        1  ...   A2                BOURNE moving for the medic...\n",
       "4        2  ...   3                One minute later.  BOURNE mo...\n",
       "\n",
       "[5 rows x 3 columns]"
      ]
     },
     "execution_count": 3,
     "metadata": {},
     "output_type": "execute_result"
    }
   ],
   "source": [
    "df.head()"
   ]
  },
  {
   "cell_type": "markdown",
   "metadata": {
    "id": "F8mjnHsgvioB"
   },
   "source": [
    "#### Feature Description\n",
    "- page_no : 데이터가 위치한 pdf 페이지 정보\n",
    "- scene_title : 씬 제목\n",
    "- text : 씬에 해당하는 지문/대본 텍스트 정보"
   ]
  },
  {
   "cell_type": "markdown",
   "metadata": {
    "id": "i3P4CXUNvqtO"
   },
   "source": [
    "-----"
   ]
  },
  {
   "cell_type": "markdown",
   "metadata": {
    "id": "EmWaX52Rvuol"
   },
   "source": [
    "## 2) 데이터셋 살펴보기"
   ]
  },
  {
   "cell_type": "markdown",
   "metadata": {
    "id": "Fjj86LoLv3Wl"
   },
   "source": [
    "### 2-1) 기본 정보 탐색"
   ]
  },
  {
   "cell_type": "markdown",
   "metadata": {
    "id": "BZdMSr7Hyv3C"
   },
   "source": [
    "##### 데이터셋 기본 정보 탐색"
   ]
  },
  {
   "cell_type": "code",
   "execution_count": 4,
   "metadata": {
    "colab": {
     "base_uri": "https://localhost:8080/"
    },
    "executionInfo": {
     "elapsed": 286,
     "status": "ok",
     "timestamp": 1632444916399,
     "user": {
      "displayName": "팡팡",
      "photoUrl": "https://lh3.googleusercontent.com/a/default-user=s64",
      "userId": "08351897761321616592"
     },
     "user_tz": -540
    },
    "id": "yTRz57Qpvgl4",
    "outputId": "63061583-09ea-41ed-bf83-4275dcff8ed1"
   },
   "outputs": [
    {
     "data": {
      "text/plain": [
       "(320, 3)"
      ]
     },
     "execution_count": 4,
     "metadata": {},
     "output_type": "execute_result"
    }
   ],
   "source": [
    "df.shape"
   ]
  },
  {
   "cell_type": "code",
   "execution_count": 5,
   "metadata": {
    "colab": {
     "base_uri": "https://localhost:8080/"
    },
    "executionInfo": {
     "elapsed": 305,
     "status": "ok",
     "timestamp": 1632444920530,
     "user": {
      "displayName": "팡팡",
      "photoUrl": "https://lh3.googleusercontent.com/a/default-user=s64",
      "userId": "08351897761321616592"
     },
     "user_tz": -540
    },
    "id": "lJq9dP3qvlMg",
    "outputId": "c0fa336c-f3d5-48d3-a19f-e04e035901b7"
   },
   "outputs": [
    {
     "name": "stdout",
     "output_type": "stream",
     "text": [
      "<class 'pandas.core.frame.DataFrame'>\n",
      "RangeIndex: 320 entries, 0 to 319\n",
      "Data columns (total 3 columns):\n",
      " #   Column       Non-Null Count  Dtype \n",
      "---  ------       --------------  ----- \n",
      " 0   page_no      320 non-null    int64 \n",
      " 1   scene_title  320 non-null    object\n",
      " 2   text         320 non-null    object\n",
      "dtypes: int64(1), object(2)\n",
      "memory usage: 7.6+ KB\n"
     ]
    }
   ],
   "source": [
    "df.info()"
   ]
  },
  {
   "cell_type": "code",
   "execution_count": 8,
   "metadata": {
    "colab": {
     "base_uri": "https://localhost:8080/"
    },
    "executionInfo": {
     "elapsed": 435,
     "status": "ok",
     "timestamp": 1632444941574,
     "user": {
      "displayName": "팡팡",
      "photoUrl": "https://lh3.googleusercontent.com/a/default-user=s64",
      "userId": "08351897761321616592"
     },
     "user_tz": -540
    },
    "id": "K7SiIjlDwFGG",
    "outputId": "d8d7eeca-e266-4a01-955f-8d8b0749bc2c"
   },
   "outputs": [
    {
     "data": {
      "text/plain": [
       "page_no        0\n",
       "scene_title    0\n",
       "text           0\n",
       "dtype: int64"
      ]
     },
     "execution_count": 8,
     "metadata": {},
     "output_type": "execute_result"
    }
   ],
   "source": [
    "df.isnull().sum()"
   ]
  },
  {
   "cell_type": "code",
   "execution_count": 7,
   "metadata": {
    "colab": {
     "base_uri": "https://localhost:8080/",
     "height": 52
    },
    "executionInfo": {
     "elapsed": 454,
     "status": "ok",
     "timestamp": 1632444931129,
     "user": {
      "displayName": "팡팡",
      "photoUrl": "https://lh3.googleusercontent.com/a/default-user=s64",
      "userId": "08351897761321616592"
     },
     "user_tz": -540
    },
    "id": "c51l1Bld6c15",
    "outputId": "5383991c-1378-4f28-9398-2230f45c0082"
   },
   "outputs": [
    {
     "data": {
      "application/vnd.google.colaboratory.intrinsic+json": {
       "type": "string"
      },
      "text/plain": [
       "\" 1                It's raining...                Light strobes across the wet glass at a rhythmic pace...                 Suddenly -- through the window a face -- JASON BOURNE --               riding in the backseat -- his gaze fixed.      \""
      ]
     },
     "execution_count": 7,
     "metadata": {},
     "output_type": "execute_result"
    }
   ],
   "source": [
    "df['text'][0]"
   ]
  },
  {
   "cell_type": "markdown",
   "metadata": {
    "id": "7Ob0pe0oxI6Y"
   },
   "source": [
    "-----"
   ]
  },
  {
   "cell_type": "markdown",
   "metadata": {
    "id": "vtLhtuYwxI86"
   },
   "source": [
    "## 3) 텍스트 데이터 전처리"
   ]
  },
  {
   "cell_type": "markdown",
   "metadata": {
    "id": "ZAFsj3ppxI_J"
   },
   "source": [
    "### 3-1) 정규 표현식 적용"
   ]
  },
  {
   "cell_type": "code",
   "execution_count": 9,
   "metadata": {
    "executionInfo": {
     "elapsed": 317,
     "status": "ok",
     "timestamp": 1632445318715,
     "user": {
      "displayName": "팡팡",
      "photoUrl": "https://lh3.googleusercontent.com/a/default-user=s64",
      "userId": "08351897761321616592"
     },
     "user_tz": -540
    },
    "id": "__acxhPiw8X2"
   },
   "outputs": [],
   "source": [
    "# 공백, 특수문자 거르고 대소문자를 소문자로 통일\n",
    "import re\n",
    "\n",
    "def apply_regular_expression(text):\n",
    "  text = text.lower()\n",
    "  english = re.compile('[^ a-z]')   # 띄어쓰기를 포함한 알파벳 영어 추출\n",
    "  result = english.sub('',text)     # 정규표현식을 text에 적용\n",
    "  result = re.sub(' +',' ',result)  # 띄어쓰기 2개 이상인것 하나로 만들기\n",
    "  return result"
   ]
  },
  {
   "cell_type": "code",
   "execution_count": 10,
   "metadata": {
    "colab": {
     "base_uri": "https://localhost:8080/",
     "height": 52
    },
    "executionInfo": {
     "elapsed": 289,
     "status": "ok",
     "timestamp": 1632445336712,
     "user": {
      "displayName": "팡팡",
      "photoUrl": "https://lh3.googleusercontent.com/a/default-user=s64",
      "userId": "08351897761321616592"
     },
     "user_tz": -540
    },
    "id": "hE60OR0mxP0S",
    "outputId": "bab321a8-174e-4394-c15e-03a14f5ab813"
   },
   "outputs": [
    {
     "data": {
      "application/vnd.google.colaboratory.intrinsic+json": {
       "type": "string"
      },
      "text/plain": [
       "' its raining light strobes across the wet glass at a rhythmic pace suddenly through the window a face jason bourne riding in the backseat his gaze fixed '"
      ]
     },
     "execution_count": 10,
     "metadata": {},
     "output_type": "execute_result"
    }
   ],
   "source": [
    "# 함수 테스트\n",
    "apply_regular_expression(df['text'][0])"
   ]
  },
  {
   "cell_type": "code",
   "execution_count": 11,
   "metadata": {
    "colab": {
     "base_uri": "https://localhost:8080/",
     "height": 202
    },
    "executionInfo": {
     "elapsed": 313,
     "status": "ok",
     "timestamp": 1632445380486,
     "user": {
      "displayName": "팡팡",
      "photoUrl": "https://lh3.googleusercontent.com/a/default-user=s64",
      "userId": "08351897761321616592"
     },
     "user_tz": -540
    },
    "id": "zBgiHxOW3KhY",
    "outputId": "a669a636-35db-455b-e0a4-2b8855743bd1"
   },
   "outputs": [
    {
     "data": {
      "text/html": [
       "<div>\n",
       "<style scoped>\n",
       "    .dataframe tbody tr th:only-of-type {\n",
       "        vertical-align: middle;\n",
       "    }\n",
       "\n",
       "    .dataframe tbody tr th {\n",
       "        vertical-align: top;\n",
       "    }\n",
       "\n",
       "    .dataframe thead th {\n",
       "        text-align: right;\n",
       "    }\n",
       "</style>\n",
       "<table border=\"1\" class=\"dataframe\">\n",
       "  <thead>\n",
       "    <tr style=\"text-align: right;\">\n",
       "      <th></th>\n",
       "      <th>page_no</th>\n",
       "      <th>scene_title</th>\n",
       "      <th>text</th>\n",
       "      <th>processed_text</th>\n",
       "    </tr>\n",
       "  </thead>\n",
       "  <tbody>\n",
       "    <tr>\n",
       "      <th>0</th>\n",
       "      <td>1</td>\n",
       "      <td>1         EXT. MERCEDES WINDSHIELD -- DUSK</td>\n",
       "      <td>1                It's raining...             ...</td>\n",
       "      <td>its raining light strobes across the wet glas...</td>\n",
       "    </tr>\n",
       "    <tr>\n",
       "      <th>1</th>\n",
       "      <td>1</td>\n",
       "      <td>A1        INT. MERCEDES -- NIGHT</td>\n",
       "      <td>A1                On his knee -- a syringe an...</td>\n",
       "      <td>a on his knee a syringe and a gun the eyes of...</td>\n",
       "    </tr>\n",
       "    <tr>\n",
       "      <th>2</th>\n",
       "      <td>1</td>\n",
       "      <td>2         INT. COTTAGE BEDROOM -- NIGHT</td>\n",
       "      <td>2                BOURNE'S EYES OPEN! -- panic...</td>\n",
       "      <td>bournes eyes open panicked gasping trying to ...</td>\n",
       "    </tr>\n",
       "    <tr>\n",
       "      <th>3</th>\n",
       "      <td>1</td>\n",
       "      <td>A2        INT. COTTAGE LIVING AREA/BATHROOM ...</td>\n",
       "      <td>A2                BOURNE moving for the medic...</td>\n",
       "      <td>a bourne moving for the medicine cabinet digs...</td>\n",
       "    </tr>\n",
       "    <tr>\n",
       "      <th>4</th>\n",
       "      <td>2</td>\n",
       "      <td>3         INT./EXT. COTTAGE LIVING ROOM/VERA...</td>\n",
       "      <td>3                One minute later.  BOURNE mo...</td>\n",
       "      <td>one minute later bourne moves out onto the ve...</td>\n",
       "    </tr>\n",
       "  </tbody>\n",
       "</table>\n",
       "</div>"
      ],
      "text/plain": [
       "   page_no  ...                                     processed_text\n",
       "0        1  ...   its raining light strobes across the wet glas...\n",
       "1        1  ...   a on his knee a syringe and a gun the eyes of...\n",
       "2        1  ...   bournes eyes open panicked gasping trying to ...\n",
       "3        1  ...   a bourne moving for the medicine cabinet digs...\n",
       "4        2  ...   one minute later bourne moves out onto the ve...\n",
       "\n",
       "[5 rows x 4 columns]"
      ]
     },
     "execution_count": 11,
     "metadata": {},
     "output_type": "execute_result"
    }
   ],
   "source": [
    "df['processed_text'] = df['text'].apply(lambda x: apply_regular_expression(x))\n",
    "df.head()"
   ]
  },
  {
   "cell_type": "markdown",
   "metadata": {
    "id": "4eAD9Zhs3ZjB"
   },
   "source": [
    "### 3-2) Word Count"
   ]
  },
  {
   "cell_type": "markdown",
   "metadata": {
    "id": "IvmzcY4k7BBQ"
   },
   "source": [
    "##### 말뭉치(코퍼스) 생성"
   ]
  },
  {
   "cell_type": "code",
   "execution_count": null,
   "metadata": {
    "id": "WCtEGvDa3KkA"
   },
   "outputs": [],
   "source": [
    "# 말뭉치 생성\n",
    "corpus = df['processed_text'].tolist()\n",
    "corpus"
   ]
  },
  {
   "cell_type": "markdown",
   "metadata": {
    "id": "tsN3ydKi3cNB"
   },
   "source": [
    "##### BoW 벡터 생성"
   ]
  },
  {
   "cell_type": "code",
   "execution_count": 14,
   "metadata": {
    "executionInfo": {
     "elapsed": 376,
     "status": "ok",
     "timestamp": 1632445589484,
     "user": {
      "displayName": "팡팡",
      "photoUrl": "https://lh3.googleusercontent.com/a/default-user=s64",
      "userId": "08351897761321616592"
     },
     "user_tz": -540
    },
    "id": "oMEmCNjQ3CE6"
   },
   "outputs": [],
   "source": [
    "from sklearn.feature_extraction.text import CountVectorizer\n",
    "\n",
    "# filter stop words\n",
    "vect = CountVectorizer(tokenizer=None, stop_words=\"english\", analyzer='word').fit(corpus) # tokenizer : 문장단위를 어떻게 나눌건지, stop_words : 불용어 설정(실질적인 의미가 없는것 걸러줌), analyzer : 단어단위로\n",
    "bow_vect = vect.fit_transform(corpus)\n",
    "word_list = vect.get_feature_names()\n",
    "count_list = bow_vect.toarray().sum(axis=0)"
   ]
  },
  {
   "cell_type": "code",
   "execution_count": 17,
   "metadata": {
    "colab": {
     "base_uri": "https://localhost:8080/"
    },
    "executionInfo": {
     "elapsed": 350,
     "status": "ok",
     "timestamp": 1632445618057,
     "user": {
      "displayName": "팡팡",
      "photoUrl": "https://lh3.googleusercontent.com/a/default-user=s64",
      "userId": "08351897761321616592"
     },
     "user_tz": -540
    },
    "id": "YOR-TYff3jzw",
    "outputId": "910c95ce-293c-4ba6-9db4-e4efe74f53f0"
   },
   "outputs": [
    {
     "data": {
      "text/plain": [
       "['aa', 'ab', 'abandoned', 'abandons', 'abbott']"
      ]
     },
     "execution_count": 17,
     "metadata": {},
     "output_type": "execute_result"
    }
   ],
   "source": [
    "word_list[:5]"
   ]
  },
  {
   "cell_type": "code",
   "execution_count": 16,
   "metadata": {
    "colab": {
     "base_uri": "https://localhost:8080/"
    },
    "executionInfo": {
     "elapsed": 287,
     "status": "ok",
     "timestamp": 1632445613029,
     "user": {
      "displayName": "팡팡",
      "photoUrl": "https://lh3.googleusercontent.com/a/default-user=s64",
      "userId": "08351897761321616592"
     },
     "user_tz": -540
    },
    "id": "_PqufkPv7R6D",
    "outputId": "93452e4d-9b2f-41ae-d0f8-1ca21c543ecc"
   },
   "outputs": [
    {
     "data": {
      "text/plain": [
       "array([  3,   3,   2,   1, 128])"
      ]
     },
     "execution_count": 16,
     "metadata": {},
     "output_type": "execute_result"
    }
   ],
   "source": [
    "count_list[:5] # word_list에 나온 저 단어들이 얼마나 나왔는지 볼 수 있다"
   ]
  },
  {
   "cell_type": "code",
   "execution_count": 18,
   "metadata": {
    "colab": {
     "base_uri": "https://localhost:8080/"
    },
    "executionInfo": {
     "elapsed": 340,
     "status": "ok",
     "timestamp": 1632445643451,
     "user": {
      "displayName": "팡팡",
      "photoUrl": "https://lh3.googleusercontent.com/a/default-user=s64",
      "userId": "08351897761321616592"
     },
     "user_tz": -540
    },
    "id": "nlY88bL27R9b",
    "outputId": "d58fd805-bbad-4960-aa9e-bb7e6980d6da"
   },
   "outputs": [
    {
     "data": {
      "text/plain": [
       "(320, 2850)"
      ]
     },
     "execution_count": 18,
     "metadata": {},
     "output_type": "execute_result"
    }
   ],
   "source": [
    "bow_vect.shape"
   ]
  },
  {
   "cell_type": "code",
   "execution_count": 19,
   "metadata": {
    "colab": {
     "base_uri": "https://localhost:8080/"
    },
    "executionInfo": {
     "elapsed": 288,
     "status": "ok",
     "timestamp": 1632445657324,
     "user": {
      "displayName": "팡팡",
      "photoUrl": "https://lh3.googleusercontent.com/a/default-user=s64",
      "userId": "08351897761321616592"
     },
     "user_tz": -540
    },
    "id": "f-rSHKzD7R_w",
    "outputId": "4b20a23a-232b-4f9f-cde9-a641d9990a43"
   },
   "outputs": [
    {
     "data": {
      "text/plain": [
       "array([[0, 0, 0, ..., 0, 0, 0],\n",
       "       [0, 0, 0, ..., 0, 0, 0],\n",
       "       [0, 0, 0, ..., 0, 0, 0],\n",
       "       ...,\n",
       "       [0, 0, 0, ..., 0, 0, 0],\n",
       "       [0, 0, 0, ..., 0, 0, 0],\n",
       "       [0, 0, 0, ..., 0, 0, 0]])"
      ]
     },
     "execution_count": 19,
     "metadata": {},
     "output_type": "execute_result"
    }
   ],
   "source": [
    "bow_vect.toarray()"
   ]
  },
  {
   "cell_type": "code",
   "execution_count": 20,
   "metadata": {
    "colab": {
     "base_uri": "https://localhost:8080/"
    },
    "executionInfo": {
     "elapsed": 291,
     "status": "ok",
     "timestamp": 1632445671388,
     "user": {
      "displayName": "팡팡",
      "photoUrl": "https://lh3.googleusercontent.com/a/default-user=s64",
      "userId": "08351897761321616592"
     },
     "user_tz": -540
    },
    "id": "eqOGgz4B7SCd",
    "outputId": "a789be93-fcf7-4009-e9d6-4599675a7b19"
   },
   "outputs": [
    {
     "data": {
      "text/plain": [
       "array([ 3,  3,  2, ...,  1, 42,  3])"
      ]
     },
     "execution_count": 20,
     "metadata": {},
     "output_type": "execute_result"
    }
   ],
   "source": [
    "bow_vect.toarray().sum(axis=0)"
   ]
  },
  {
   "cell_type": "code",
   "execution_count": 22,
   "metadata": {
    "colab": {
     "base_uri": "https://localhost:8080/"
    },
    "executionInfo": {
     "elapsed": 313,
     "status": "ok",
     "timestamp": 1632445730189,
     "user": {
      "displayName": "팡팡",
      "photoUrl": "https://lh3.googleusercontent.com/a/default-user=s64",
      "userId": "08351897761321616592"
     },
     "user_tz": -540
    },
    "id": "xn3aU4l97V8K",
    "outputId": "ab323b1b-81b8-492c-98d1-8061262c5a75"
   },
   "outputs": [
    {
     "name": "stdout",
     "output_type": "stream",
     "text": [
      "{'aa': 3, 'ab': 3, 'abandoned': 2, 'abandons': 1, 'abbott': 128, 'abbottnow': 1, 'abbottphone': 4, '\n"
     ]
    }
   ],
   "source": [
    "# 단어별 타입된 횟수 딕셔너리로\n",
    "word_count_dict = dict(zip(word_list, count_list))\n",
    "print(str(word_count_dict)[:100])"
   ]
  },
  {
   "cell_type": "code",
   "execution_count": 23,
   "metadata": {
    "colab": {
     "base_uri": "https://localhost:8080/"
    },
    "executionInfo": {
     "elapsed": 2,
     "status": "ok",
     "timestamp": 1632445804987,
     "user": {
      "displayName": "팡팡",
      "photoUrl": "https://lh3.googleusercontent.com/a/default-user=s64",
      "userId": "08351897761321616592"
     },
     "user_tz": -540
    },
    "id": "Lvqij9kP7Xgv",
    "outputId": "1a27fd02-bd31-4acd-8685-0990eb901dd6"
   },
   "outputs": [
    {
     "data": {
      "text/plain": [
       "[('bourne', 455),\n",
       " ('pamela', 199),\n",
       " ('abbott', 128),\n",
       " ('hes', 100),\n",
       " ('kirill', 93)]"
      ]
     },
     "execution_count": 23,
     "metadata": {},
     "output_type": "execute_result"
    }
   ],
   "source": [
    "# 빈도수 순 정렬\n",
    "import operator\n",
    "sorted(word_count_dict.items(), key=operator.itemgetter(1), reverse=True)[:5]"
   ]
  },
  {
   "cell_type": "code",
   "execution_count": null,
   "metadata": {
    "id": "Zu2v6oUn7aUx"
   },
   "outputs": [],
   "source": []
  },
  {
   "cell_type": "markdown",
   "metadata": {
    "id": "huXcIK1D7eGI"
   },
   "source": [
    "##### 단어 분포 탐색"
   ]
  },
  {
   "cell_type": "code",
   "execution_count": 27,
   "metadata": {
    "colab": {
     "base_uri": "https://localhost:8080/",
     "height": 265
    },
    "executionInfo": {
     "elapsed": 928,
     "status": "ok",
     "timestamp": 1632445874103,
     "user": {
      "displayName": "팡팡",
      "photoUrl": "https://lh3.googleusercontent.com/a/default-user=s64",
      "userId": "08351897761321616592"
     },
     "user_tz": -540
    },
    "id": "ePWpmhzL7f0A",
    "outputId": "5643bbcc-6d93-44ad-ba5d-28270ce5696e"
   },
   "outputs": [
    {
     "data": {
      "image/png": "[encoded data removed]",
      "text/plain": [
       "<Figure size 432x288 with 1 Axes>"
      ]
     },
     "metadata": {
      "needs_background": "light"
     },
     "output_type": "display_data"
    }
   ],
   "source": [
    "plt.hist(list(word_count_dict.values()), bins=150)\n",
    "plt.show()"
   ]
  },
  {
   "cell_type": "markdown",
   "metadata": {
    "id": "QI0yqJ7PxS1q"
   },
   "source": [
    "-----"
   ]
  },
  {
   "cell_type": "markdown",
   "metadata": {
    "id": "3Nb-h1fM7nLc"
   },
   "source": [
    "## 4) 텍스트 마이닝"
   ]
  },
  {
   "cell_type": "markdown",
   "metadata": {
    "id": "87E9Sz5g4YFE"
   },
   "source": [
    "### 4-1) 단어별 빈도 분석"
   ]
  },
  {
   "cell_type": "markdown",
   "metadata": {
    "id": "MPC-EOxb4YIm"
   },
   "source": [
    "##### 워드 클라우드 시각화"
   ]
  },
  {
   "cell_type": "code",
   "execution_count": null,
   "metadata": {
    "id": "WXgfHMLP7004"
   },
   "outputs": [],
   "source": [
    "# !pip install pytagcloud pygame simplejson"
   ]
  },
  {
   "cell_type": "code",
   "execution_count": 31,
   "metadata": {
    "colab": {
     "base_uri": "https://localhost:8080/",
     "height": 297
    },
    "executionInfo": {
     "elapsed": 693,
     "status": "ok",
     "timestamp": 1632446054145,
     "user": {
      "displayName": "팡팡",
      "photoUrl": "https://lh3.googleusercontent.com/a/default-user=s64",
      "userId": "08351897761321616592"
     },
     "user_tz": -540
    },
    "id": "PS27E0CT4h-7",
    "outputId": "a01c62a8-f507-4921-9d07-c84dea8fb594"
   },
   "outputs": [
    {
     "data": {
      "image/jpeg": "[encoded data removed]",
      "text/plain": [
       "<IPython.core.display.Image object>"
      ]
     },
     "execution_count": 31,
     "metadata": {},
     "output_type": "execute_result"
    }
   ],
   "source": [
    "from collections import Counter\n",
    "\n",
    "import random\n",
    "import pytagcloud\n",
    "import webbrowser\n",
    "\n",
    "ranked_tags = Counter(word_count_dict).most_common(25) # 가장많이 나온 단어 상위 25개를 불러옴\n",
    "taglist = pytagcloud.make_tags(sorted(word_count_dict.items(), key=operator.itemgetter(1), reverse=True)[:40], maxsize=60)\n",
    "pytagcloud.create_tag_image(taglist, 'wordcloud_example.jpg', rectangular=False)  # taglist : 이미지 생성, 뒤에 이름, 직사각형여부\n",
    "\n",
    "from IPython.display import Image\n",
    "Image(filename='wordcloud_example.jpg')  # 이미지 출력"
   ]
  },
  {
   "cell_type": "markdown",
   "metadata": {
    "id": "_L_bAJUD-BYm"
   },
   "source": [
    "##### 상위 빈도수 단어 출력"
   ]
  },
  {
   "cell_type": "code",
   "execution_count": 32,
   "metadata": {
    "colab": {
     "base_uri": "https://localhost:8080/"
    },
    "executionInfo": {
     "elapsed": 285,
     "status": "ok",
     "timestamp": 1632446088583,
     "user": {
      "displayName": "팡팡",
      "photoUrl": "https://lh3.googleusercontent.com/a/default-user=s64",
      "userId": "08351897761321616592"
     },
     "user_tz": -540
    },
    "id": "lXvHnoTY96zZ",
    "outputId": "c78e3f82-b050-46c0-cb08-797b25dba5c6"
   },
   "outputs": [
    {
     "data": {
      "text/plain": [
       "[('bourne', 455),\n",
       " ('pamela', 199),\n",
       " ('abbott', 128),\n",
       " ('hes', 100),\n",
       " ('kirill', 93),\n",
       " ('nicky', 90),\n",
       " ('cronin', 81),\n",
       " ('just', 80),\n",
       " ('marie', 67),\n",
       " ('contd', 63),\n",
       " ('know', 61),\n",
       " ('car', 51),\n",
       " ('away', 48),\n",
       " ('room', 44),\n",
       " ('jarda', 43),\n",
       " ('looks', 43),\n",
       " ('dont', 42),\n",
       " ('zorn', 42),\n",
       " ('phone', 40),\n",
       " ('right', 39),\n",
       " ('theres', 39),\n",
       " ('police', 38),\n",
       " ('want', 38),\n",
       " ('berlin', 37),\n",
       " ('teddy', 35)]"
      ]
     },
     "execution_count": 32,
     "metadata": {},
     "output_type": "execute_result"
    }
   ],
   "source": [
    "ranked_tags"
   ]
  },
  {
   "cell_type": "markdown",
   "metadata": {
    "id": "ocEMVqzM-MdE"
   },
   "source": [
    "-----"
   ]
  },
  {
   "cell_type": "markdown",
   "metadata": {
    "id": "dK64F8GZ-N8s"
   },
   "source": []
  },
  {
   "cell_type": "markdown",
   "metadata": {
    "id": "Pe7BOBrW-OAw"
   },
   "source": [
    "### 4-2) 장면별 중요 단어 시각화"
   ]
  },
  {
   "cell_type": "markdown",
   "metadata": {
    "id": "EaalHFft-Sra"
   },
   "source": [
    "##### TF-IDF 변환"
   ]
  },
  {
   "cell_type": "code",
   "execution_count": 33,
   "metadata": {
    "executionInfo": {
     "elapsed": 280,
     "status": "ok",
     "timestamp": 1632446161930,
     "user": {
      "displayName": "팡팡",
      "photoUrl": "https://lh3.googleusercontent.com/a/default-user=s64",
      "userId": "08351897761321616592"
     },
     "user_tz": -540
    },
    "id": "-Wxv-F3P-NEU"
   },
   "outputs": [],
   "source": [
    "# text의 의미 점수부여\n",
    "from sklearn.feature_extraction.text import TfidfTransformer\n",
    "\n",
    "tfidf_vectorizer = TfidfTransformer()\n",
    "tf_idf_vect = tfidf_vectorizer.fit_transform(bow_vect)"
   ]
  },
  {
   "cell_type": "code",
   "execution_count": 34,
   "metadata": {
    "colab": {
     "base_uri": "https://localhost:8080/"
    },
    "executionInfo": {
     "elapsed": 377,
     "status": "ok",
     "timestamp": 1632446169072,
     "user": {
      "displayName": "팡팡",
      "photoUrl": "https://lh3.googleusercontent.com/a/default-user=s64",
      "userId": "08351897761321616592"
     },
     "user_tz": -540
    },
    "id": "rsDAFsCY-Unv",
    "outputId": "49a161f6-ce15-4d98-eb81-2509be7580cb"
   },
   "outputs": [
    {
     "name": "stdout",
     "output_type": "stream",
     "text": [
      "(320, 2850)\n",
      "  (0, 2788)\t0.19578974958217082\n",
      "  (0, 2763)\t0.27550455848587985\n",
      "  (0, 2412)\t0.1838379942679887\n",
      "  (0, 2387)\t0.3109660261831164\n",
      "  (0, 1984)\t0.2902223973596984\n",
      "  (0, 1978)\t0.3109660261831164\n",
      "  (0, 1898)\t0.27550455848587985\n",
      "  (0, 1673)\t0.2902223973596984\n",
      "  (0, 1366)\t0.21520447034992146\n",
      "  (0, 1251)\t0.19855583314180728\n",
      "  (0, 1001)\t0.2340173008390438\n",
      "  (0, 974)\t0.2902223973596984\n",
      "  (0, 874)\t0.27550455848587985\n",
      "  (0, 798)\t0.1906694714764746\n",
      "  (0, 237)\t0.08646242181596513\n",
      "  (0, 125)\t0.26408851574819875\n"
     ]
    }
   ],
   "source": [
    "print(tf_idf_vect.shape)\n",
    "print(tf_idf_vect[0])"
   ]
  },
  {
   "cell_type": "code",
   "execution_count": 36,
   "metadata": {
    "colab": {
     "base_uri": "https://localhost:8080/"
    },
    "executionInfo": {
     "elapsed": 284,
     "status": "ok",
     "timestamp": 1632446269030,
     "user": {
      "displayName": "팡팡",
      "photoUrl": "https://lh3.googleusercontent.com/a/default-user=s64",
      "userId": "08351897761321616592"
     },
     "user_tz": -540
    },
    "id": "dWt8pyEQ-YeT",
    "outputId": "528996a1-638c-46ca-a675-a85620e2b18a"
   },
   "outputs": [
    {
     "name": "stdout",
     "output_type": "stream",
     "text": [
      "(1, 2850)\n",
      "[[0. 0. 0. ... 0. 0. 0.]]\n"
     ]
    }
   ],
   "source": [
    "print(tf_idf_vect[0].toarray().shape)\n",
    "print(tf_idf_vect[0].toarray())"
   ]
  },
  {
   "cell_type": "markdown",
   "metadata": {
    "id": "LFT1BfiJ-Y8-"
   },
   "source": [
    "##### 벡터 : 단어 맵핑"
   ]
  },
  {
   "cell_type": "code",
   "execution_count": 39,
   "metadata": {
    "colab": {
     "base_uri": "https://localhost:8080/"
    },
    "executionInfo": {
     "elapsed": 295,
     "status": "ok",
     "timestamp": 1632446332729,
     "user": {
      "displayName": "팡팡",
      "photoUrl": "https://lh3.googleusercontent.com/a/default-user=s64",
      "userId": "08351897761321616592"
     },
     "user_tz": -540
    },
    "id": "rzbmSQ8h-XGF",
    "outputId": "5cf40f95-108f-45ea-abf7-e8e080df4c1f"
   },
   "outputs": [
    {
     "name": "stdout",
     "output_type": "stream",
     "text": [
      "{1898: 'raining', 1366: 'light', 2387: 'strobes', 2763: 'wet', 1001: 'glass', 1978: 'rhythmic', 1673..\n"
     ]
    }
   ],
   "source": [
    "invert_index_vectorizer = {v: k for k, v in vect.vocabulary_.items()}\n",
    "print(str(invert_index_vectorizer)[:100]+'..')"
   ]
  },
  {
   "cell_type": "code",
   "execution_count": null,
   "metadata": {
    "id": "ttxpR5npYeD0"
   },
   "outputs": [],
   "source": [
    "vect.vocabulary_"
   ]
  },
  {
   "cell_type": "markdown",
   "metadata": {
    "id": "XSmFxYD6-tec"
   },
   "source": [
    "##### 중요 단어 추출 - Top 3 TF-IDF"
   ]
  },
  {
   "cell_type": "code",
   "execution_count": 40,
   "metadata": {
    "colab": {
     "base_uri": "https://localhost:8080/"
    },
    "executionInfo": {
     "elapsed": 288,
     "status": "ok",
     "timestamp": 1632446350818,
     "user": {
      "displayName": "팡팡",
      "photoUrl": "https://lh3.googleusercontent.com/a/default-user=s64",
      "userId": "08351897761321616592"
     },
     "user_tz": -540
    },
    "id": "RPmzms_d-dzM",
    "outputId": "7a84444b-816a-45b2-d6b7-312e2458a888"
   },
   "outputs": [
    {
     "data": {
      "text/plain": [
       "array([1984, 2387, 1978])"
      ]
     },
     "execution_count": 40,
     "metadata": {},
     "output_type": "execute_result"
    }
   ],
   "source": [
    "# 첫번째 문장의 tf_idf 값이 높은 순으로 정렬(3개)\n",
    "np.argsort(tf_idf_vect[0].toarray())[0][-3:]"
   ]
  },
  {
   "cell_type": "code",
   "execution_count": null,
   "metadata": {
    "id": "JBnbCA0d-ztq"
   },
   "outputs": [],
   "source": [
    "np.argsort(tf_idf_vect.toarray())[:, -3:]"
   ]
  },
  {
   "cell_type": "code",
   "execution_count": 42,
   "metadata": {
    "colab": {
     "base_uri": "https://localhost:8080/",
     "height": 202
    },
    "executionInfo": {
     "elapsed": 432,
     "status": "ok",
     "timestamp": 1632446466627,
     "user": {
      "displayName": "팡팡",
      "photoUrl": "https://lh3.googleusercontent.com/a/default-user=s64",
      "userId": "08351897761321616592"
     },
     "user_tz": -540
    },
    "id": "sKpKmuM7-0ul",
    "outputId": "23797821-73c8-49ae-8d45-c690ee9e2418"
   },
   "outputs": [
    {
     "data": {
      "text/html": [
       "<div>\n",
       "<style scoped>\n",
       "    .dataframe tbody tr th:only-of-type {\n",
       "        vertical-align: middle;\n",
       "    }\n",
       "\n",
       "    .dataframe tbody tr th {\n",
       "        vertical-align: top;\n",
       "    }\n",
       "\n",
       "    .dataframe thead th {\n",
       "        text-align: right;\n",
       "    }\n",
       "</style>\n",
       "<table border=\"1\" class=\"dataframe\">\n",
       "  <thead>\n",
       "    <tr style=\"text-align: right;\">\n",
       "      <th></th>\n",
       "      <th>page_no</th>\n",
       "      <th>scene_title</th>\n",
       "      <th>text</th>\n",
       "      <th>processed_text</th>\n",
       "      <th>important_word_indexes</th>\n",
       "    </tr>\n",
       "  </thead>\n",
       "  <tbody>\n",
       "    <tr>\n",
       "      <th>0</th>\n",
       "      <td>1</td>\n",
       "      <td>1         EXT. MERCEDES WINDSHIELD -- DUSK</td>\n",
       "      <td>1                It's raining...             ...</td>\n",
       "      <td>its raining light strobes across the wet glas...</td>\n",
       "      <td>[1984, 2387, 1978]</td>\n",
       "    </tr>\n",
       "    <tr>\n",
       "      <th>1</th>\n",
       "      <td>1</td>\n",
       "      <td>A1        INT. MERCEDES -- NIGHT</td>\n",
       "      <td>A1                On his knee -- a syringe an...</td>\n",
       "      <td>a on his knee a syringe and a gun the eyes of...</td>\n",
       "      <td>[1297, 1971, 1097]</td>\n",
       "    </tr>\n",
       "    <tr>\n",
       "      <th>2</th>\n",
       "      <td>1</td>\n",
       "      <td>2         INT. COTTAGE BEDROOM -- NIGHT</td>\n",
       "      <td>2                BOURNE'S EYES OPEN! -- panic...</td>\n",
       "      <td>bournes eyes open panicked gasping trying to ...</td>\n",
       "      <td>[1693, 2221, 968]</td>\n",
       "    </tr>\n",
       "    <tr>\n",
       "      <th>3</th>\n",
       "      <td>1</td>\n",
       "      <td>A2        INT. COTTAGE LIVING AREA/BATHROOM ...</td>\n",
       "      <td>A2                BOURNE moving for the medic...</td>\n",
       "      <td>a bourne moving for the medicine cabinet digs...</td>\n",
       "      <td>[690, 299, 1482]</td>\n",
       "    </tr>\n",
       "    <tr>\n",
       "      <th>4</th>\n",
       "      <td>2</td>\n",
       "      <td>3         INT./EXT. COTTAGE LIVING ROOM/VERA...</td>\n",
       "      <td>3                One minute later.  BOURNE mo...</td>\n",
       "      <td>one minute later bourne moves out onto the ve...</td>\n",
       "      <td>[2823, 1951, 1454]</td>\n",
       "    </tr>\n",
       "  </tbody>\n",
       "</table>\n",
       "</div>"
      ],
      "text/plain": [
       "   page_no  ... important_word_indexes\n",
       "0        1  ...     [1984, 2387, 1978]\n",
       "1        1  ...     [1297, 1971, 1097]\n",
       "2        1  ...      [1693, 2221, 968]\n",
       "3        1  ...       [690, 299, 1482]\n",
       "4        2  ...     [2823, 1951, 1454]\n",
       "\n",
       "[5 rows x 5 columns]"
      ]
     },
     "execution_count": 42,
     "metadata": {},
     "output_type": "execute_result"
    }
   ],
   "source": [
    "top_3_word = np.argsort(tf_idf_vect.toarray())[:, -3:]\n",
    "df['important_word_indexes'] = pd.Series(top_3_word.tolist())\n",
    "df.head()"
   ]
  },
  {
   "cell_type": "code",
   "execution_count": 43,
   "metadata": {
    "executionInfo": {
     "elapsed": 285,
     "status": "ok",
     "timestamp": 1632446522225,
     "user": {
      "displayName": "팡팡",
      "photoUrl": "https://lh3.googleusercontent.com/a/default-user=s64",
      "userId": "08351897761321616592"
     },
     "user_tz": -540
    },
    "id": "v4C0B2xO-191"
   },
   "outputs": [],
   "source": [
    "def convert_to_word(x):\n",
    "    word_list = []\n",
    "    for word in x:\n",
    "        word_list.append(invert_index_vectorizer[word])\n",
    "    return word_list"
   ]
  },
  {
   "cell_type": "code",
   "execution_count": 44,
   "metadata": {
    "colab": {
     "base_uri": "https://localhost:8080/",
     "height": 202
    },
    "executionInfo": {
     "elapsed": 309,
     "status": "ok",
     "timestamp": 1632446529465,
     "user": {
      "displayName": "팡팡",
      "photoUrl": "https://lh3.googleusercontent.com/a/default-user=s64",
      "userId": "08351897761321616592"
     },
     "user_tz": -540
    },
    "id": "WWCeMCOM-5KF",
    "outputId": "b3e7c2fa-9e15-4cd9-954c-92de66904131"
   },
   "outputs": [
    {
     "data": {
      "text/html": [
       "<div>\n",
       "<style scoped>\n",
       "    .dataframe tbody tr th:only-of-type {\n",
       "        vertical-align: middle;\n",
       "    }\n",
       "\n",
       "    .dataframe tbody tr th {\n",
       "        vertical-align: top;\n",
       "    }\n",
       "\n",
       "    .dataframe thead th {\n",
       "        text-align: right;\n",
       "    }\n",
       "</style>\n",
       "<table border=\"1\" class=\"dataframe\">\n",
       "  <thead>\n",
       "    <tr style=\"text-align: right;\">\n",
       "      <th></th>\n",
       "      <th>page_no</th>\n",
       "      <th>scene_title</th>\n",
       "      <th>text</th>\n",
       "      <th>processed_text</th>\n",
       "      <th>important_word_indexes</th>\n",
       "      <th>important_words</th>\n",
       "    </tr>\n",
       "  </thead>\n",
       "  <tbody>\n",
       "    <tr>\n",
       "      <th>0</th>\n",
       "      <td>1</td>\n",
       "      <td>1         EXT. MERCEDES WINDSHIELD -- DUSK</td>\n",
       "      <td>1                It's raining...             ...</td>\n",
       "      <td>its raining light strobes across the wet glas...</td>\n",
       "      <td>[1984, 2387, 1978]</td>\n",
       "      <td>[riding, strobes, rhythmic]</td>\n",
       "    </tr>\n",
       "    <tr>\n",
       "      <th>1</th>\n",
       "      <td>1</td>\n",
       "      <td>A1        INT. MERCEDES -- NIGHT</td>\n",
       "      <td>A1                On his knee -- a syringe an...</td>\n",
       "      <td>a on his knee a syringe and a gun the eyes of...</td>\n",
       "      <td>[1297, 1971, 1097]</td>\n",
       "      <td>[knee, returns, head]</td>\n",
       "    </tr>\n",
       "    <tr>\n",
       "      <th>2</th>\n",
       "      <td>1</td>\n",
       "      <td>2         INT. COTTAGE BEDROOM -- NIGHT</td>\n",
       "      <td>2                BOURNE'S EYES OPEN! -- panic...</td>\n",
       "      <td>bournes eyes open panicked gasping trying to ...</td>\n",
       "      <td>[1693, 2221, 968]</td>\n",
       "      <td>[panicked, sleeps, gasping]</td>\n",
       "    </tr>\n",
       "    <tr>\n",
       "      <th>3</th>\n",
       "      <td>1</td>\n",
       "      <td>A2        INT. COTTAGE LIVING AREA/BATHROOM ...</td>\n",
       "      <td>A2                BOURNE moving for the medic...</td>\n",
       "      <td>a bourne moving for the medicine cabinet digs...</td>\n",
       "      <td>[690, 299, 1482]</td>\n",
       "      <td>[downs, cabinet, medicine]</td>\n",
       "    </tr>\n",
       "    <tr>\n",
       "      <th>4</th>\n",
       "      <td>2</td>\n",
       "      <td>3         INT./EXT. COTTAGE LIVING ROOM/VERA...</td>\n",
       "      <td>3                One minute later.  BOURNE mo...</td>\n",
       "      <td>one minute later bourne moves out onto the ve...</td>\n",
       "      <td>[2823, 1951, 1454]</td>\n",
       "      <td>[write, remember, marie]</td>\n",
       "    </tr>\n",
       "  </tbody>\n",
       "</table>\n",
       "</div>"
      ],
      "text/plain": [
       "   page_no  ...              important_words\n",
       "0        1  ...  [riding, strobes, rhythmic]\n",
       "1        1  ...        [knee, returns, head]\n",
       "2        1  ...  [panicked, sleeps, gasping]\n",
       "3        1  ...   [downs, cabinet, medicine]\n",
       "4        2  ...     [write, remember, marie]\n",
       "\n",
       "[5 rows x 6 columns]"
      ]
     },
     "execution_count": 44,
     "metadata": {},
     "output_type": "execute_result"
    }
   ],
   "source": [
    "df['important_words'] = df['important_word_indexes'].apply(lambda x: convert_to_word(x))\n",
    "df.head()"
   ]
  },
  {
   "cell_type": "markdown",
   "metadata": {},
   "source": []
  },
  {
   "cell_type": "markdown",
   "metadata": {},
   "source": []
  },
  {
   "cell_type": "markdown",
   "metadata": {},
   "source": []
  },
  {
   "cell_type": "markdown",
   "metadata": {},
   "source": []
  },
  {
   "cell_type": "markdown",
   "metadata": {},
   "source": []
  },
  {
   "cell_type": "markdown",
   "metadata": {},
   "source": []
  },
  {
   "cell_type": "markdown",
   "metadata": {
    "id": "B9Zrj8DMusOn"
   },
   "source": [
    "## 1) Library & Data Import"
   ]
  },
  {
   "cell_type": "code",
   "execution_count": 1,
   "metadata": {
    "executionInfo": {
     "elapsed": 873,
     "status": "ok",
     "timestamp": 1632447782112,
     "user": {
      "displayName": "팡팡",
      "photoUrl": "https://lh3.googleusercontent.com/a/default-user=s64",
      "userId": "08351897761321616592"
     },
     "user_tz": -540
    },
    "id": "yzvddH4TuuwD"
   },
   "outputs": [],
   "source": [
    "%matplotlib inline\n",
    "\n",
    "import pandas as pd\n",
    "import numpy as np\n",
    "import matplotlib.pyplot as plt\n",
    "import seaborn as sns\n",
    "\n",
    "import warnings\n",
    "warnings.filterwarnings(\"ignore\")"
   ]
  },
  {
   "cell_type": "code",
   "execution_count": 2,
   "metadata": {
    "executionInfo": {
     "elapsed": 315,
     "status": "ok",
     "timestamp": 1632447782426,
     "user": {
      "displayName": "팡팡",
      "photoUrl": "https://lh3.googleusercontent.com/a/default-user=s64",
      "userId": "08351897761321616592"
     },
     "user_tz": -540
    },
    "id": "Q_0x25QSuxrp"
   },
   "outputs": [],
   "source": [
    "df = pd.read_csv(\"https://raw.githubusercontent.com/yoonkt200/FastCampusDataset/master/tripadviser_review.csv\")"
   ]
  },
  {
   "cell_type": "code",
   "execution_count": 3,
   "metadata": {
    "colab": {
     "base_uri": "https://localhost:8080/",
     "height": 202
    },
    "executionInfo": {
     "elapsed": 273,
     "status": "ok",
     "timestamp": 1632447782695,
     "user": {
      "displayName": "팡팡",
      "photoUrl": "https://lh3.googleusercontent.com/a/default-user=s64",
      "userId": "08351897761321616592"
     },
     "user_tz": -540
    },
    "id": "90IQykX7vZ3t",
    "outputId": "5973e55a-fb49-4f4e-cf4e-9db5ba1c39bd"
   },
   "outputs": [
    {
     "data": {
      "text/html": [
       "<div>\n",
       "<style scoped>\n",
       "    .dataframe tbody tr th:only-of-type {\n",
       "        vertical-align: middle;\n",
       "    }\n",
       "\n",
       "    .dataframe tbody tr th {\n",
       "        vertical-align: top;\n",
       "    }\n",
       "\n",
       "    .dataframe thead th {\n",
       "        text-align: right;\n",
       "    }\n",
       "</style>\n",
       "<table border=\"1\" class=\"dataframe\">\n",
       "  <thead>\n",
       "    <tr style=\"text-align: right;\">\n",
       "      <th></th>\n",
       "      <th>rating</th>\n",
       "      <th>text</th>\n",
       "    </tr>\n",
       "  </thead>\n",
       "  <tbody>\n",
       "    <tr>\n",
       "      <th>0</th>\n",
       "      <td>4</td>\n",
       "      <td>여행에 집중할수 있게 편안한 휴식을 제공하는 호텔이었습니다. 위치선정 또한 적당한 ...</td>\n",
       "    </tr>\n",
       "    <tr>\n",
       "      <th>1</th>\n",
       "      <td>4</td>\n",
       "      <td>2일 이상 연박시 침대, 이불, 베게등 침구류 교체 및 어메니티 보강이 필요해 보입...</td>\n",
       "    </tr>\n",
       "    <tr>\n",
       "      <th>2</th>\n",
       "      <td>4</td>\n",
       "      <td>지인에소개로온 호텔  깨끗하고 좋은거같아요 처음에는 없는게 많아 많이  당황했는데 ...</td>\n",
       "    </tr>\n",
       "    <tr>\n",
       "      <th>3</th>\n",
       "      <td>5</td>\n",
       "      <td>방에 딱 들어서자마자 눈이 휘둥그레질정도로 이렇게 넓은 호텔 처음 와본 것 같아요!...</td>\n",
       "    </tr>\n",
       "    <tr>\n",
       "      <th>4</th>\n",
       "      <td>5</td>\n",
       "      <td>저녁에 맥주한잔 하는게 좋아서 렌트 안하고 뚜벅이 하기로 했는데 호텔 바로 앞에 버...</td>\n",
       "    </tr>\n",
       "  </tbody>\n",
       "</table>\n",
       "</div>"
      ],
      "text/plain": [
       "   rating                                               text\n",
       "0       4  여행에 집중할수 있게 편안한 휴식을 제공하는 호텔이었습니다. 위치선정 또한 적당한 ...\n",
       "1       4  2일 이상 연박시 침대, 이불, 베게등 침구류 교체 및 어메니티 보강이 필요해 보입...\n",
       "2       4  지인에소개로온 호텔  깨끗하고 좋은거같아요 처음에는 없는게 많아 많이  당황했는데 ...\n",
       "3       5  방에 딱 들어서자마자 눈이 휘둥그레질정도로 이렇게 넓은 호텔 처음 와본 것 같아요!...\n",
       "4       5  저녁에 맥주한잔 하는게 좋아서 렌트 안하고 뚜벅이 하기로 했는데 호텔 바로 앞에 버..."
      ]
     },
     "execution_count": 3,
     "metadata": {},
     "output_type": "execute_result"
    }
   ],
   "source": [
    "df.head()"
   ]
  },
  {
   "cell_type": "markdown",
   "metadata": {
    "id": "F8mjnHsgvioB"
   },
   "source": [
    "#### Feature Description\n",
    "- rating : 이용자 리뷰의 평가 점수\n",
    "- text : 이용자 리뷰 평가 내용"
   ]
  },
  {
   "cell_type": "markdown",
   "metadata": {
    "id": "i3P4CXUNvqtO"
   },
   "source": [
    "-----"
   ]
  },
  {
   "cell_type": "markdown",
   "metadata": {
    "id": "EmWaX52Rvuol"
   },
   "source": [
    "## 2) 데이터셋 살펴보기"
   ]
  },
  {
   "cell_type": "markdown",
   "metadata": {
    "id": "Fjj86LoLv3Wl"
   },
   "source": [
    "### 2-1) 기본 정보 탐색"
   ]
  },
  {
   "cell_type": "markdown",
   "metadata": {
    "id": "BZdMSr7Hyv3C"
   },
   "source": [
    "##### 데이터셋 기본 정보 탐색"
   ]
  },
  {
   "cell_type": "code",
   "execution_count": 4,
   "metadata": {
    "colab": {
     "base_uri": "https://localhost:8080/"
    },
    "executionInfo": {
     "elapsed": 282,
     "status": "ok",
     "timestamp": 1632447997300,
     "user": {
      "displayName": "팡팡",
      "photoUrl": "https://lh3.googleusercontent.com/a/default-user=s64",
      "userId": "08351897761321616592"
     },
     "user_tz": -540
    },
    "id": "yTRz57Qpvgl4",
    "outputId": "a95de910-6498-4cc9-9a65-9217881e335c"
   },
   "outputs": [
    {
     "data": {
      "text/plain": [
       "(1001, 2)"
      ]
     },
     "execution_count": 4,
     "metadata": {},
     "output_type": "execute_result"
    }
   ],
   "source": [
    "df.shape"
   ]
  },
  {
   "cell_type": "code",
   "execution_count": 5,
   "metadata": {
    "colab": {
     "base_uri": "https://localhost:8080/"
    },
    "executionInfo": {
     "elapsed": 2,
     "status": "ok",
     "timestamp": 1632447998515,
     "user": {
      "displayName": "팡팡",
      "photoUrl": "https://lh3.googleusercontent.com/a/default-user=s64",
      "userId": "08351897761321616592"
     },
     "user_tz": -540
    },
    "id": "lJq9dP3qvlMg",
    "outputId": "736f11d4-92e0-4afa-f18b-8cf40c8f5e1e"
   },
   "outputs": [
    {
     "data": {
      "text/plain": [
       "rating    0\n",
       "text      0\n",
       "dtype: int64"
      ]
     },
     "execution_count": 5,
     "metadata": {},
     "output_type": "execute_result"
    }
   ],
   "source": [
    "df.isnull().sum()"
   ]
  },
  {
   "cell_type": "code",
   "execution_count": 6,
   "metadata": {
    "colab": {
     "base_uri": "https://localhost:8080/"
    },
    "executionInfo": {
     "elapsed": 444,
     "status": "ok",
     "timestamp": 1632448000623,
     "user": {
      "displayName": "팡팡",
      "photoUrl": "https://lh3.googleusercontent.com/a/default-user=s64",
      "userId": "08351897761321616592"
     },
     "user_tz": -540
    },
    "id": "K7SiIjlDwFGG",
    "outputId": "30eaec34-ab18-4206-e7b1-e6efb87a0c42"
   },
   "outputs": [
    {
     "name": "stdout",
     "output_type": "stream",
     "text": [
      "<class 'pandas.core.frame.DataFrame'>\n",
      "RangeIndex: 1001 entries, 0 to 1000\n",
      "Data columns (total 2 columns):\n",
      " #   Column  Non-Null Count  Dtype \n",
      "---  ------  --------------  ----- \n",
      " 0   rating  1001 non-null   int64 \n",
      " 1   text    1001 non-null   object\n",
      "dtypes: int64(1), object(1)\n",
      "memory usage: 15.8+ KB\n"
     ]
    }
   ],
   "source": [
    "df.info()"
   ]
  },
  {
   "cell_type": "code",
   "execution_count": 7,
   "metadata": {
    "colab": {
     "base_uri": "https://localhost:8080/",
     "height": 35
    },
    "executionInfo": {
     "elapsed": 271,
     "status": "ok",
     "timestamp": 1632448003134,
     "user": {
      "displayName": "팡팡",
      "photoUrl": "https://lh3.googleusercontent.com/a/default-user=s64",
      "userId": "08351897761321616592"
     },
     "user_tz": -540
    },
    "id": "c51l1Bld6c15",
    "outputId": "2f347a68-056f-4793-88e7-da1602ce966d"
   },
   "outputs": [
    {
     "data": {
      "application/vnd.google.colaboratory.intrinsic+json": {
       "type": "string"
      },
      "text/plain": [
       "'여행에 집중할수 있게 편안한 휴식을 제공하는 호텔이었습니다. 위치선정 또한 적당한 편이었고 청소나 청결상태도 좋았습니다.'"
      ]
     },
     "execution_count": 7,
     "metadata": {},
     "output_type": "execute_result"
    }
   ],
   "source": [
    "df['text'][0]"
   ]
  },
  {
   "cell_type": "code",
   "execution_count": 10,
   "metadata": {
    "colab": {
     "base_uri": "https://localhost:8080/",
     "height": 52
    },
    "executionInfo": {
     "elapsed": 268,
     "status": "ok",
     "timestamp": 1632448027695,
     "user": {
      "displayName": "팡팡",
      "photoUrl": "https://lh3.googleusercontent.com/a/default-user=s64",
      "userId": "08351897761321616592"
     },
     "user_tz": -540
    },
    "id": "u9MFm3kOfAJ_",
    "outputId": "79ab452b-fd91-4d98-b77a-87b0203a6065"
   },
   "outputs": [
    {
     "data": {
      "application/vnd.google.colaboratory.intrinsic+json": {
       "type": "string"
      },
      "text/plain": [
       "'올 봄에 벚꽃기간에 방문, 협재를 바라보는 바다뷰가 좋고 대로변이라 렌트해서 가기도 좋음. 조식은 이용안했는데 근처 옹포밥집까지 아침 산책겸 걸어가서 하고옴. 루프탑 수영장과 바가 있었는데 내가 갔을때는 밤에 비바람이 너무 불어서 이용못하고옴 ㅠㅠ  단점으로는 모 유명 여행블로거 리뷰처럼 화장실 물떄가... 그거빼곤 다 만족'"
      ]
     },
     "execution_count": 10,
     "metadata": {},
     "output_type": "execute_result"
    }
   ],
   "source": [
    "df['text'][100]"
   ]
  },
  {
   "cell_type": "code",
   "execution_count": 8,
   "metadata": {
    "colab": {
     "base_uri": "https://localhost:8080/"
    },
    "executionInfo": {
     "elapsed": 1,
     "status": "ok",
     "timestamp": 1632448005883,
     "user": {
      "displayName": "팡팡",
      "photoUrl": "https://lh3.googleusercontent.com/a/default-user=s64",
      "userId": "08351897761321616592"
     },
     "user_tz": -540
    },
    "id": "JjX8EUde6f-g",
    "outputId": "7e1e9f63-4996-4bdf-c6b1-7d92d80cec08"
   },
   "outputs": [
    {
     "data": {
      "text/plain": [
       "223576"
      ]
     },
     "execution_count": 8,
     "metadata": {},
     "output_type": "execute_result"
    }
   ],
   "source": [
    "len(df['text'].values.sum())"
   ]
  },
  {
   "cell_type": "markdown",
   "metadata": {
    "id": "7Ob0pe0oxI6Y"
   },
   "source": [
    "-----"
   ]
  },
  {
   "cell_type": "markdown",
   "metadata": {
    "id": "vtLhtuYwxI86"
   },
   "source": [
    "## 3) 한국어 텍스트 데이터 전처리"
   ]
  },
  {
   "cell_type": "markdown",
   "metadata": {
    "id": "ZAFsj3ppxI_J"
   },
   "source": [
    "### 3-0) konlpy 설치"
   ]
  },
  {
   "cell_type": "code",
   "execution_count": null,
   "metadata": {
    "id": "__acxhPiw8X2"
   },
   "outputs": [],
   "source": [
    "# konlpy 0.5.2의 JVM 버그로 인해, 0.5.1 버전으로 install\n",
    "!pip install konlpy==0.5.1 jpype1 Jpype1-py3"
   ]
  },
  {
   "cell_type": "markdown",
   "metadata": {
    "id": "yzf3UKBOAgQn"
   },
   "source": [
    "### 3-1) 정규표현식 적용"
   ]
  },
  {
   "cell_type": "code",
   "execution_count": 12,
   "metadata": {
    "executionInfo": {
     "elapsed": 3,
     "status": "ok",
     "timestamp": 1632448084827,
     "user": {
      "displayName": "팡팡",
      "photoUrl": "https://lh3.googleusercontent.com/a/default-user=s64",
      "userId": "08351897761321616592"
     },
     "user_tz": -540
    },
    "id": "hE60OR0mxP0S"
   },
   "outputs": [],
   "source": [
    "import re\n",
    "\n",
    "# 띄어쓰기 포함한 한글 받아서 넣기 / 띄어쓰기를 두번이상 하는 경우가 거의 없다고 판단\n",
    "def apply_regular_expression(text):\n",
    "    hangul = re.compile('[^ ㄱ-ㅣ가-힣]') # 한글의 정규표현식\n",
    "    result = hangul.sub('', text)\n",
    "    return result"
   ]
  },
  {
   "cell_type": "code",
   "execution_count": 13,
   "metadata": {
    "colab": {
     "base_uri": "https://localhost:8080/",
     "height": 35
    },
    "executionInfo": {
     "elapsed": 331,
     "status": "ok",
     "timestamp": 1632448112378,
     "user": {
      "displayName": "팡팡",
      "photoUrl": "https://lh3.googleusercontent.com/a/default-user=s64",
      "userId": "08351897761321616592"
     },
     "user_tz": -540
    },
    "id": "zBgiHxOW3KhY",
    "outputId": "73508b5c-bc8e-4ffc-b086-df9552441da1"
   },
   "outputs": [
    {
     "data": {
      "application/vnd.google.colaboratory.intrinsic+json": {
       "type": "string"
      },
      "text/plain": [
       "'여행에 집중할수 있게 편안한 휴식을 제공하는 호텔이었습니다 위치선정 또한 적당한 편이었고 청소나 청결상태도 좋았습니다'"
      ]
     },
     "execution_count": 13,
     "metadata": {},
     "output_type": "execute_result"
    }
   ],
   "source": [
    "apply_regular_expression(df['text'][0])"
   ]
  },
  {
   "cell_type": "code",
   "execution_count": 14,
   "metadata": {
    "colab": {
     "base_uri": "https://localhost:8080/",
     "height": 52
    },
    "executionInfo": {
     "elapsed": 438,
     "status": "ok",
     "timestamp": 1632448179796,
     "user": {
      "displayName": "팡팡",
      "photoUrl": "https://lh3.googleusercontent.com/a/default-user=s64",
      "userId": "08351897761321616592"
     },
     "user_tz": -540
    },
    "id": "ySDH-32mfl5v",
    "outputId": "4a4acb45-becb-4767-bf0b-d3eae66af93d"
   },
   "outputs": [
    {
     "data": {
      "application/vnd.google.colaboratory.intrinsic+json": {
       "type": "string"
      },
      "text/plain": [
       "'올 봄에 벚꽃기간에 방문 협재를 바라보는 바다뷰가 좋고 대로변이라 렌트해서 가기도 좋음 조식은 이용안했는데 근처 옹포밥집까지 아침 산책겸 걸어가서 하고옴 루프탑 수영장과 바가 있었는데 내가 갔을때는 밤에 비바람이 너무 불어서 이용못하고옴 ㅠㅠ  단점으로는 모 유명 여행블로거 리뷰처럼 화장실 물떄가 그거빼곤 다 만족'"
      ]
     },
     "execution_count": 14,
     "metadata": {},
     "output_type": "execute_result"
    }
   ],
   "source": [
    "apply_regular_expression(df['text'][100])"
   ]
  },
  {
   "cell_type": "markdown",
   "metadata": {
    "id": "pghj3X8ZBaD5"
   },
   "source": [
    "-----"
   ]
  },
  {
   "cell_type": "markdown",
   "metadata": {
    "id": "4eAD9Zhs3ZjB"
   },
   "source": [
    "### 3-2) 한국어 형태소분석 - 명사 단위"
   ]
  },
  {
   "cell_type": "markdown",
   "metadata": {
    "id": "huXcIK1D7eGI"
   },
   "source": [
    "##### 명사 형태소 추출"
   ]
  },
  {
   "cell_type": "code",
   "execution_count": 15,
   "metadata": {
    "executionInfo": {
     "elapsed": 7853,
     "status": "ok",
     "timestamp": 1632448202074,
     "user": {
      "displayName": "팡팡",
      "photoUrl": "https://lh3.googleusercontent.com/a/default-user=s64",
      "userId": "08351897761321616592"
     },
     "user_tz": -540
    },
    "id": "ePWpmhzL7f0A"
   },
   "outputs": [],
   "source": [
    "from konlpy.tag import Okt\n",
    "from collections import Counter\n",
    "\n",
    "nouns_tagger = Okt()\n",
    "nouns = nouns_tagger.nouns(apply_regular_expression(df['text'][0]))"
   ]
  },
  {
   "cell_type": "code",
   "execution_count": 16,
   "metadata": {
    "colab": {
     "base_uri": "https://localhost:8080/"
    },
    "executionInfo": {
     "elapsed": 271,
     "status": "ok",
     "timestamp": 1632448248305,
     "user": {
      "displayName": "팡팡",
      "photoUrl": "https://lh3.googleusercontent.com/a/default-user=s64",
      "userId": "08351897761321616592"
     },
     "user_tz": -540
    },
    "id": "XMdNZNRZAvmh",
    "outputId": "ba789f9a-c371-4050-8949-8d26e71cadd6"
   },
   "outputs": [
    {
     "data": {
      "text/plain": [
       "['여행', '집중', '휴식', '제공', '호텔', '위치', '선정', '또한', '청소', '청결', '상태']"
      ]
     },
     "execution_count": 16,
     "metadata": {},
     "output_type": "execute_result"
    }
   ],
   "source": [
    "nouns"
   ]
  },
  {
   "cell_type": "code",
   "execution_count": 17,
   "metadata": {
    "executionInfo": {
     "elapsed": 11349,
     "status": "ok",
     "timestamp": 1632448288719,
     "user": {
      "displayName": "팡팡",
      "photoUrl": "https://lh3.googleusercontent.com/a/default-user=s64",
      "userId": "08351897761321616592"
     },
     "user_tz": -540
    },
    "id": "w4KTE9U5AvrJ"
   },
   "outputs": [],
   "source": [
    "# 전체 말뭉치(corpus)에서 명사 형태소 추출\n",
    "nouns = nouns_tagger.nouns(apply_regular_expression(\"\".join(df['text'].tolist())))"
   ]
  },
  {
   "cell_type": "code",
   "execution_count": 18,
   "metadata": {
    "colab": {
     "base_uri": "https://localhost:8080/"
    },
    "executionInfo": {
     "elapsed": 19,
     "status": "ok",
     "timestamp": 1632448288720,
     "user": {
      "displayName": "팡팡",
      "photoUrl": "https://lh3.googleusercontent.com/a/default-user=s64",
      "userId": "08351897761321616592"
     },
     "user_tz": -540
    },
    "id": "Y5yywiItAvuK",
    "outputId": "33c2e2d5-a1b5-4218-a6b2-012d3f5161cb"
   },
   "outputs": [
    {
     "data": {
      "text/plain": [
       "[('호텔', 803),\n",
       " ('수', 498),\n",
       " ('것', 436),\n",
       " ('방', 330),\n",
       " ('위치', 328),\n",
       " ('우리', 327),\n",
       " ('곳', 320),\n",
       " ('공항', 307),\n",
       " ('직원', 267),\n",
       " ('매우', 264)]"
      ]
     },
     "execution_count": 18,
     "metadata": {},
     "output_type": "execute_result"
    }
   ],
   "source": [
    "# 빈도 탐색\n",
    "counter = Counter(nouns)\n",
    "counter.most_common(10)"
   ]
  },
  {
   "cell_type": "markdown",
   "metadata": {
    "id": "wpr7mEG5A2At"
   },
   "source": [
    "##### 한글자 명사 제거"
   ]
  },
  {
   "cell_type": "code",
   "execution_count": 19,
   "metadata": {
    "colab": {
     "base_uri": "https://localhost:8080/"
    },
    "executionInfo": {
     "elapsed": 266,
     "status": "ok",
     "timestamp": 1632448334335,
     "user": {
      "displayName": "팡팡",
      "photoUrl": "https://lh3.googleusercontent.com/a/default-user=s64",
      "userId": "08351897761321616592"
     },
     "user_tz": -540
    },
    "id": "fDZfri14Avw1",
    "outputId": "a135defb-541e-40c5-df06-3adca6c54202"
   },
   "outputs": [
    {
     "data": {
      "text/plain": [
       "[('호텔', 803),\n",
       " ('위치', 328),\n",
       " ('우리', 327),\n",
       " ('공항', 307),\n",
       " ('직원', 267),\n",
       " ('매우', 264),\n",
       " ('가격', 245),\n",
       " ('객실', 244),\n",
       " ('시설', 215),\n",
       " ('제주', 192)]"
      ]
     },
     "execution_count": 19,
     "metadata": {},
     "output_type": "execute_result"
    }
   ],
   "source": [
    "available_counter = Counter({x : counter[x] for x in counter if len(x) > 1})  # 한글자 이상의 단어만 출력\n",
    "available_counter.most_common(10)"
   ]
  },
  {
   "cell_type": "markdown",
   "metadata": {
    "id": "QI0yqJ7PxS1q"
   },
   "source": [
    "-----"
   ]
  },
  {
   "cell_type": "markdown",
   "metadata": {
    "id": "Jbr6rURvBPJ6"
   },
   "source": [
    "### 3-3) 불용어 사전"
   ]
  },
  {
   "cell_type": "code",
   "execution_count": 20,
   "metadata": {
    "colab": {
     "base_uri": "https://localhost:8080/"
    },
    "executionInfo": {
     "elapsed": 391,
     "status": "ok",
     "timestamp": 1632448376893,
     "user": {
      "displayName": "팡팡",
      "photoUrl": "https://lh3.googleusercontent.com/a/default-user=s64",
      "userId": "08351897761321616592"
     },
     "user_tz": -540
    },
    "id": "7ZCmuyS8BUU9",
    "outputId": "620b8f2c-3782-450c-975c-ca80241aee41"
   },
   "outputs": [
    {
     "name": "stdout",
     "output_type": "stream",
     "text": [
      "[['휴'], ['아이구'], ['아이쿠'], ['아이고'], ['어'], ['나'], ['우리'], ['저희'], ['따라'], ['의해']]\n"
     ]
    }
   ],
   "source": [
    "# source - https://www.ranks.nl/stopwords/korean\n",
    "stopwords = pd.read_csv(\"https://raw.githubusercontent.com/yoonkt200/FastCampusDataset/master/korean_stopwords.txt\").values.tolist()\n",
    "print(stopwords[:10])"
   ]
  },
  {
   "cell_type": "code",
   "execution_count": 21,
   "metadata": {
    "executionInfo": {
     "elapsed": 283,
     "status": "ok",
     "timestamp": 1632448390366,
     "user": {
      "displayName": "팡팡",
      "photoUrl": "https://lh3.googleusercontent.com/a/default-user=s64",
      "userId": "08351897761321616592"
     },
     "user_tz": -540
    },
    "id": "IJTLaAlwBUYE"
   },
   "outputs": [],
   "source": [
    "# 데이터 특징을 반영한 불용어 추가\n",
    "jeju_hotel_stopwords = ['제주', '제주도', '호텔', '리뷰', '숙소', '여행', '트립']\n",
    "for word in jeju_hotel_stopwords:\n",
    "    stopwords.append(word)"
   ]
  },
  {
   "cell_type": "markdown",
   "metadata": {
    "id": "qb9hCD7GBWOJ"
   },
   "source": [
    "-----"
   ]
  },
  {
   "cell_type": "markdown",
   "metadata": {
    "id": "6-XoxM4KBWRB"
   },
   "source": [
    "### 3-4) Word Count"
   ]
  },
  {
   "cell_type": "markdown",
   "metadata": {
    "id": "0hNlz_-kCq3v"
   },
   "source": [
    "##### BoW 벡터 생성"
   ]
  },
  {
   "cell_type": "code",
   "execution_count": 22,
   "metadata": {
    "executionInfo": {
     "elapsed": 9033,
     "status": "ok",
     "timestamp": 1632448534781,
     "user": {
      "displayName": "팡팡",
      "photoUrl": "https://lh3.googleusercontent.com/a/default-user=s64",
      "userId": "08351897761321616592"
     },
     "user_tz": -540
    },
    "id": "ae-mZ9HOCcX1"
   },
   "outputs": [],
   "source": [
    "from sklearn.feature_extraction.text import CountVectorizer\n",
    "\n",
    "def text_cleaning(text):\n",
    "    hangul = re.compile('[^ ㄱ-ㅣ가-힣]')\n",
    "    result = hangul.sub('', text)\n",
    "    tagger = Okt()\n",
    "    nouns = nouns_tagger.nouns(result)\n",
    "    nouns = [x for x in nouns if len(x) > 1]\n",
    "    nouns = [x for x in nouns if x not in stopwords]\n",
    "    return nouns\n",
    "\n",
    "vect = CountVectorizer(tokenizer = lambda x: text_cleaning(x))\n",
    "bow_vect = vect.fit_transform(df['text'].tolist())\n",
    "word_list = vect.get_feature_names()\n",
    "count_list = bow_vect.toarray().sum(axis=0)"
   ]
  },
  {
   "cell_type": "code",
   "execution_count": 55,
   "metadata": {
    "colab": {
     "base_uri": "https://localhost:8080/"
    },
    "executionInfo": {
     "elapsed": 365,
     "status": "ok",
     "timestamp": 1632449173631,
     "user": {
      "displayName": "팡팡",
      "photoUrl": "https://lh3.googleusercontent.com/a/default-user=s64",
      "userId": "08351897761321616592"
     },
     "user_tz": -540
    },
    "id": "I7WlEPkKCca9",
    "outputId": "406cf8a1-e307-4a34-975a-ab9da20f653d"
   },
   "outputs": [
    {
     "data": {
      "text/plain": [
       "['가가',\n",
       " '가게',\n",
       " '가격',\n",
       " '가격표',\n",
       " '가구',\n",
       " '가급',\n",
       " '가기',\n",
       " '가까이',\n",
       " '가끔',\n",
       " '가능',\n",
       " '가도',\n",
       " '가동',\n",
       " '가두',\n",
       " '가득',\n",
       " '가든',\n",
       " '가라',\n",
       " '가량',\n",
       " '가려움',\n",
       " '가로',\n",
       " '가면',\n",
       " '가몬',\n",
       " '가무',\n",
       " '가물',\n",
       " '가미',\n",
       " '가방',\n",
       " '가버',\n",
       " '가성',\n",
       " '가세',\n",
       " '가스레인지',\n",
       " '가스렌지',\n",
       " '가슴',\n",
       " '가시',\n",
       " '가신',\n",
       " '가야',\n",
       " '가옥',\n",
       " '가요',\n",
       " '가용',\n",
       " '가운데',\n",
       " '가을',\n",
       " '가인',\n",
       " '가장',\n",
       " '가정',\n",
       " '가정식',\n",
       " '가족',\n",
       " '가지',\n",
       " '가짓수',\n",
       " '가차',\n",
       " '가치',\n",
       " '가품',\n",
       " '각각',\n",
       " '각오',\n",
       " '각자',\n",
       " '각종',\n",
       " '각층',\n",
       " '간격',\n",
       " '간곳',\n",
       " '간다',\n",
       " '간단',\n",
       " '간만',\n",
       " '간식',\n",
       " '간이',\n",
       " '간주',\n",
       " '간직',\n",
       " '간판',\n",
       " '간혹',\n",
       " '갈껄',\n",
       " '갈비',\n",
       " '갈비탕',\n",
       " '갈수',\n",
       " '갈수록',\n",
       " '감각',\n",
       " '감동',\n",
       " '감명',\n",
       " '감사',\n",
       " '감상',\n",
       " '감소',\n",
       " '감안',\n",
       " '감자',\n",
       " '감히',\n",
       " '갑인',\n",
       " '갑자기',\n",
       " '갑작스레',\n",
       " '강남',\n",
       " '강력',\n",
       " '강아지',\n",
       " '강압',\n",
       " '강제',\n",
       " '강조',\n",
       " '강추',\n",
       " '개념',\n",
       " '개략',\n",
       " '개미',\n",
       " '개발',\n",
       " '개방',\n",
       " '개별',\n",
       " '개보',\n",
       " '개뿔',\n",
       " '개선',\n",
       " '개수대',\n",
       " '개월',\n",
       " '개인',\n",
       " '개인실',\n",
       " '개인정보',\n",
       " '개조',\n",
       " '개층',\n",
       " '객수',\n",
       " '객실',\n",
       " '갤러리',\n",
       " '갱스터',\n",
       " '거기',\n",
       " '거나',\n",
       " '거두',\n",
       " '거론',\n",
       " '거르세',\n",
       " '거름',\n",
       " '거리',\n",
       " '거린데',\n",
       " '거림',\n",
       " '거문도',\n",
       " '거미',\n",
       " '거부',\n",
       " '거실',\n",
       " '거여',\n",
       " '거울',\n",
       " '거위',\n",
       " '거의',\n",
       " '거절',\n",
       " '거주',\n",
       " '거지',\n",
       " '거참',\n",
       " '거품',\n",
       " '걱정',\n",
       " '건가',\n",
       " '건강',\n",
       " '건너',\n",
       " '건너편',\n",
       " '건물',\n",
       " '건의',\n",
       " '건조',\n",
       " '건조기',\n",
       " '건조대',\n",
       " '건축',\n",
       " '걷기',\n",
       " '걸음',\n",
       " '걸이',\n",
       " '걸즈',\n",
       " '검사',\n",
       " '검색',\n",
       " '검정색',\n",
       " '검토',\n",
       " '것임',\n",
       " '겉보기',\n",
       " '게다가',\n",
       " '게스트',\n",
       " '게스트하우스',\n",
       " '게임',\n",
       " '게재',\n",
       " '겐찮은듯',\n",
       " '겔상',\n",
       " '겨우',\n",
       " '겨울',\n",
       " '겨울철',\n",
       " '격인',\n",
       " '격하',\n",
       " '결과',\n",
       " '결론',\n",
       " '결석',\n",
       " '결재',\n",
       " '결정',\n",
       " '결제',\n",
       " '결코',\n",
       " '결함',\n",
       " '결항',\n",
       " '결혼',\n",
       " '결혼식',\n",
       " '겸비',\n",
       " '겸용',\n",
       " '겹겹',\n",
       " '경고',\n",
       " '경관',\n",
       " '경내',\n",
       " '경로',\n",
       " '경매',\n",
       " '경영',\n",
       " '경영학',\n",
       " '경우',\n",
       " '경쟁',\n",
       " '경쟁력',\n",
       " '경찰',\n",
       " '경치',\n",
       " '경험',\n",
       " '계단',\n",
       " '계란',\n",
       " '계란후라이',\n",
       " '계산',\n",
       " '계속',\n",
       " '계정',\n",
       " '계획',\n",
       " '고가',\n",
       " '고간',\n",
       " '고객',\n",
       " '고급',\n",
       " '고기',\n",
       " '고기국수',\n",
       " '고깃배',\n",
       " '고내포구',\n",
       " '고려',\n",
       " '고루',\n",
       " '고무줄',\n",
       " '고문',\n",
       " '고민',\n",
       " '고봉',\n",
       " '고분',\n",
       " '고생',\n",
       " '고속',\n",
       " '고속도로',\n",
       " '고아',\n",
       " '고양이',\n",
       " '고여',\n",
       " '고오',\n",
       " '고요',\n",
       " '고유',\n",
       " '고작',\n",
       " '고장',\n",
       " '고정',\n",
       " '고층',\n",
       " '고통',\n",
       " '고트',\n",
       " '고함',\n",
       " '고해',\n",
       " '곡부',\n",
       " '곧바로',\n",
       " '곧장',\n",
       " '골드스타',\n",
       " '골목',\n",
       " '골목길',\n",
       " '골퍼',\n",
       " '골프',\n",
       " '골프장',\n",
       " '골프텔',\n",
       " '곰팡이',\n",
       " '곱슬',\n",
       " '곳곳',\n",
       " '곳곳이',\n",
       " '곳도',\n",
       " '곳임',\n",
       " '공간',\n",
       " '공감',\n",
       " '공개',\n",
       " '공공',\n",
       " '공공장소',\n",
       " '공급',\n",
       " '공기',\n",
       " '공덕',\n",
       " '공률',\n",
       " '공물',\n",
       " '공사',\n",
       " '공시',\n",
       " '공실이',\n",
       " '공연',\n",
       " '공연장',\n",
       " '공영',\n",
       " '공용',\n",
       " '공원',\n",
       " '공유',\n",
       " '공짜',\n",
       " '공차',\n",
       " '공터',\n",
       " '공포',\n",
       " '공항',\n",
       " '과거',\n",
       " '과물',\n",
       " '과언',\n",
       " '과일',\n",
       " '과장',\n",
       " '관경',\n",
       " '관계',\n",
       " '관계자',\n",
       " '관광',\n",
       " '관광객',\n",
       " '관광명소',\n",
       " '관광지',\n",
       " '관덕정',\n",
       " '관련',\n",
       " '관리',\n",
       " '관리인',\n",
       " '관리자',\n",
       " '관리직',\n",
       " '관음사',\n",
       " '관해',\n",
       " '광경',\n",
       " '광고',\n",
       " '광천수',\n",
       " '괴체',\n",
       " '교대',\n",
       " '교수',\n",
       " '교외',\n",
       " '교욱받',\n",
       " '교육',\n",
       " '교체',\n",
       " '교통',\n",
       " '교환',\n",
       " '교회',\n",
       " '구가',\n",
       " '구경',\n",
       " '구경만',\n",
       " '구관',\n",
       " '구글',\n",
       " '구나',\n",
       " '구내',\n",
       " '구덩이',\n",
       " '구도',\n",
       " '구두',\n",
       " '구둣주걱',\n",
       " '구들장',\n",
       " '구류',\n",
       " '구만',\n",
       " '구매',\n",
       " '구멍',\n",
       " '구별',\n",
       " '구분',\n",
       " '구비',\n",
       " '구사',\n",
       " '구색',\n",
       " '구석',\n",
       " '구석구석',\n",
       " '구성',\n",
       " '구식',\n",
       " '구암',\n",
       " '구역',\n",
       " '구역질',\n",
       " '구이',\n",
       " '구입',\n",
       " '구조',\n",
       " '구축',\n",
       " '국가',\n",
       " '국내',\n",
       " '국도',\n",
       " '국립',\n",
       " '국수',\n",
       " '국적',\n",
       " '국제',\n",
       " '국제공항',\n",
       " '군더더기',\n",
       " '군데',\n",
       " '군데군데',\n",
       " '굳럭',\n",
       " '굳이',\n",
       " '굿굿',\n",
       " '굿굿굿',\n",
       " '굿앤굿',\n",
       " '굿임',\n",
       " '권내',\n",
       " '권장',\n",
       " '권한',\n",
       " '귀중',\n",
       " '규모',\n",
       " '규율',\n",
       " '규칙',\n",
       " '균형',\n",
       " '그거',\n",
       " '그것',\n",
       " '그게',\n",
       " '그냥',\n",
       " '그네',\n",
       " '그녀',\n",
       " '그다음',\n",
       " '그다지',\n",
       " '그닥',\n",
       " '그대로',\n",
       " '그동안',\n",
       " '그때',\n",
       " '그랜드',\n",
       " '그레이스',\n",
       " '그로',\n",
       " '그룹',\n",
       " '그릇',\n",
       " '그린',\n",
       " '그림',\n",
       " '극복',\n",
       " '극악',\n",
       " '근래',\n",
       " '근무',\n",
       " '근본',\n",
       " '근육통',\n",
       " '근처',\n",
       " '근해',\n",
       " '글래드',\n",
       " '글쎄',\n",
       " '금고',\n",
       " '금늘',\n",
       " '금능',\n",
       " '금릉',\n",
       " '금방',\n",
       " '금속',\n",
       " '금액',\n",
       " '금연',\n",
       " '금요일',\n",
       " '금은',\n",
       " '금지',\n",
       " '금토일',\n",
       " '급상승',\n",
       " '급속',\n",
       " '기간',\n",
       " '기계',\n",
       " '기구',\n",
       " '기기',\n",
       " '기념일',\n",
       " '기능',\n",
       " '기대',\n",
       " '기도',\n",
       " '기류',\n",
       " '기리',\n",
       " '기반',\n",
       " '기본',\n",
       " '기부',\n",
       " '기분',\n",
       " '기사',\n",
       " '기상',\n",
       " '기소',\n",
       " '기숙사',\n",
       " '기술',\n",
       " '기술자',\n",
       " '기억',\n",
       " '기업',\n",
       " '기여',\n",
       " '기용',\n",
       " '기우',\n",
       " '기입',\n",
       " '기적',\n",
       " '기전',\n",
       " '기점',\n",
       " '기존',\n",
       " '기준',\n",
       " '기지',\n",
       " '기타',\n",
       " '기프트샵',\n",
       " '기호',\n",
       " '기회',\n",
       " '기후',\n",
       " '긴장',\n",
       " '길가',\n",
       " '길림',\n",
       " '길목',\n",
       " '길이',\n",
       " '김녕',\n",
       " '김녕해변',\n",
       " '김밥',\n",
       " '김씨',\n",
       " '김치',\n",
       " '김포공항',\n",
       " '까페',\n",
       " '깜빡',\n",
       " '깜짝',\n",
       " '깨끗',\n",
       " '깨끗깔끔',\n",
       " '께빵',\n",
       " '꼭대기',\n",
       " '꽃꺽으러',\n",
       " '꽃사슴',\n",
       " '꾸러미',\n",
       " '꾸밈',\n",
       " '꿀잠',\n",
       " '끝내기',\n",
       " '끼리',\n",
       " '나기',\n",
       " '나누기',\n",
       " '나니',\n",
       " '나라',\n",
       " '나름',\n",
       " '나머지',\n",
       " '나머진',\n",
       " '나무',\n",
       " '나물',\n",
       " '나보',\n",
       " '나오니',\n",
       " '나우',\n",
       " '나은',\n",
       " '나이',\n",
       " '나이트',\n",
       " '나이프',\n",
       " '나중',\n",
       " '나탈리',\n",
       " '낙후',\n",
       " '낚시',\n",
       " '난로',\n",
       " '난리',\n",
       " '난방',\n",
       " '난입',\n",
       " '난타',\n",
       " '날수',\n",
       " '날씨',\n",
       " '날짜',\n",
       " '남녀',\n",
       " '남성',\n",
       " '남아',\n",
       " '남자',\n",
       " '남자친구',\n",
       " '남짓',\n",
       " '남쪽',\n",
       " '남편',\n",
       " '낭만',\n",
       " '내겐',\n",
       " '내내',\n",
       " '내년',\n",
       " '내부',\n",
       " '내부시',\n",
       " '내시',\n",
       " '내야',\n",
       " '내외',\n",
       " '내용',\n",
       " '내의',\n",
       " '내인',\n",
       " '내일',\n",
       " '냄비',\n",
       " '냄새',\n",
       " '냉동',\n",
       " '냉장고',\n",
       " '너븐팡',\n",
       " '넓이',\n",
       " '네스프레소',\n",
       " '네이버',\n",
       " '년대',\n",
       " '년전',\n",
       " '녔던',\n",
       " '노곤',\n",
       " '노래',\n",
       " '노래방',\n",
       " '노력',\n",
       " '노리',\n",
       " '노블레스',\n",
       " '노선',\n",
       " '노을',\n",
       " '노크',\n",
       " '노트북',\n",
       " '노화',\n",
       " '노후',\n",
       " '녹물',\n",
       " '녹음',\n",
       " '녹지',\n",
       " '논평',\n",
       " '놀러와',\n",
       " '놀수',\n",
       " '놀이',\n",
       " '놀이기구',\n",
       " '놀이터',\n",
       " '농부가',\n",
       " '농장',\n",
       " '높이',\n",
       " '놨더군',\n",
       " '누가',\n",
       " '누구',\n",
       " '누군가',\n",
       " '누락',\n",
       " '누리',\n",
       " '누울',\n",
       " '눈앞',\n",
       " '뉴타운',\n",
       " '느낌',\n",
       " '는걸',\n",
       " '늘송',\n",
       " '능리',\n",
       " '다가',\n",
       " '다그',\n",
       " '다다미',\n",
       " '다라',\n",
       " '다락방',\n",
       " '다른',\n",
       " '다른사람',\n",
       " '다리미',\n",
       " '다만',\n",
       " '다미',\n",
       " '다발',\n",
       " '다섯',\n",
       " '다소',\n",
       " '다수',\n",
       " '다시',\n",
       " '다운',\n",
       " '다음',\n",
       " '다이지',\n",
       " '다인',\n",
       " '다정',\n",
       " '다행',\n",
       " '단계',\n",
       " '단기',\n",
       " '단면',\n",
       " '단어',\n",
       " '단위',\n",
       " '단점',\n",
       " '단정',\n",
       " '단지',\n",
       " '단체',\n",
       " '달걀',\n",
       " '달걀프라이',\n",
       " '달라',\n",
       " '달러',\n",
       " '달리',\n",
       " '달성',\n",
       " '닭머르',\n",
       " '담당',\n",
       " '담배',\n",
       " '담소',\n",
       " '담요',\n",
       " '답변',\n",
       " '당구',\n",
       " '당근',\n",
       " '당나귀',\n",
       " '당분간',\n",
       " '당시',\n",
       " '당신',\n",
       " '당일',\n",
       " '당황',\n",
       " '대가',\n",
       " '대가족',\n",
       " '대고',\n",
       " '대관령',\n",
       " '대답',\n",
       " '대당',\n",
       " '대도',\n",
       " '대도시',\n",
       " '대뜸',\n",
       " '대략',\n",
       " '대로',\n",
       " '대리',\n",
       " '대명',\n",
       " '대박',\n",
       " '대부분',\n",
       " '대비',\n",
       " '대상',\n",
       " '대신',\n",
       " '대안',\n",
       " '대여',\n",
       " '대요',\n",
       " '대욕',\n",
       " '대응',\n",
       " '대의',\n",
       " '대입',\n",
       " '대적',\n",
       " '대접',\n",
       " '대정',\n",
       " '대중',\n",
       " '대중교통',\n",
       " '대처',\n",
       " '대체',\n",
       " '대충',\n",
       " '대포',\n",
       " '대표',\n",
       " '대하',\n",
       " '대한',\n",
       " '대한민국',\n",
       " '대한항공',\n",
       " '대해',\n",
       " '대행',\n",
       " '대형',\n",
       " '대화',\n",
       " '대환영',\n",
       " '댐핑할',\n",
       " '더군다나',\n",
       " '더더',\n",
       " '더러',\n",
       " '더블',\n",
       " '더블베드',\n",
       " '더욱',\n",
       " '더원',\n",
       " '덕림사',\n",
       " '덕분',\n",
       " '덕택',\n",
       " '던데',\n",
       " '덮어놓고',\n",
       " '데리',\n",
       " '데스크',\n",
       " '데스크톱',\n",
       " '데이',\n",
       " '데이즈',\n",
       " '델문',\n",
       " '도구',\n",
       " '도달',\n",
       " '도대체',\n",
       " '도도',\n",
       " '도둑',\n",
       " '도로',\n",
       " '도록',\n",
       " '도리어',\n",
       " '도미',\n",
       " '도보',\n",
       " '도서관',\n",
       " '도시',\n",
       " '도시락',\n",
       " '도심',\n",
       " '도심지',\n",
       " '도어',\n",
       " '도어락',\n",
       " '도움',\n",
       " '도움말',\n",
       " '도일',\n",
       " '도정',\n",
       " '도중',\n",
       " '도착',\n",
       " '도처',\n",
       " '도청',\n",
       " '도쿄',\n",
       " '도크',\n",
       " '독립',\n",
       " '독서',\n",
       " '독점',\n",
       " '독채',\n",
       " '돈까스',\n",
       " '돌담',\n",
       " '돌잔치',\n",
       " '동계',\n",
       " '동광양',\n",
       " '동굴',\n",
       " '동남',\n",
       " '동남아',\n",
       " '동네',\n",
       " '동도',\n",
       " '동료',\n",
       " '동문',\n",
       " '동물',\n",
       " '동물원',\n",
       " '동반',\n",
       " '동부',\n",
       " '동북',\n",
       " '동생',\n",
       " '동선',\n",
       " '동시',\n",
       " '동안',\n",
       " '동영상',\n",
       " '동의',\n",
       " '동이',\n",
       " '동인',\n",
       " '동작',\n",
       " '동전',\n",
       " '동정',\n",
       " '동쪽',\n",
       " '돼지',\n",
       " '돼지고기',\n",
       " '됏다',\n",
       " '될껀',\n",
       " '될껄',\n",
       " '두루',\n",
       " '두번째',\n",
       " '두봉',\n",
       " '두부',\n",
       " '두엄',\n",
       " '두운',\n",
       " '두툼',\n",
       " '둘러보기',\n",
       " '둘이서',\n",
       " '둘째',\n",
       " '둥근지붕',\n",
       " '뒤쪽',\n",
       " '뒤척',\n",
       " '뒷골목',\n",
       " '뒷마당',\n",
       " '뒷문',\n",
       " '뒷쪽',\n",
       " '드네',\n",
       " '드라이기',\n",
       " '드라이버',\n",
       " '드라이브',\n",
       " '드라이어',\n",
       " '드롭',\n",
       " '드릴',\n",
       " '드타',\n",
       " '드하',\n",
       " '득시',\n",
       " '듭니',\n",
       " '듯이',\n",
       " '듯해',\n",
       " '등급',\n",
       " '등대',\n",
       " '등등',\n",
       " '등반',\n",
       " '등산',\n",
       " '등정후',\n",
       " '디귿',\n",
       " '디너',\n",
       " '디럭스',\n",
       " '디봇',\n",
       " '디셈버',\n",
       " '디자이너',\n",
       " '디자인',\n",
       " '디저트',\n",
       " '디제이',\n",
       " '따라서',\n",
       " '때로는',\n",
       " '때문',\n",
       " '떡국',\n",
       " '또오',\n",
       " '또한',\n",
       " '뚜벅',\n",
       " '뜨근뜨근',\n",
       " '뜨내기',\n",
       " '라그',\n",
       " '라마',\n",
       " '라며',\n",
       " '라면',\n",
       " '라서',\n",
       " '라스베가스',\n",
       " '라우터',\n",
       " '라운지',\n",
       " '라이센스',\n",
       " '라커룸',\n",
       " '락스',\n",
       " '락심이',\n",
       " '락커',\n",
       " '락타',\n",
       " '란딩',\n",
       " '랍니',\n",
       " '랜드',\n",
       " '랜트',\n",
       " '랜트카',\n",
       " '랜트하',\n",
       " '램프',\n",
       " '러닝',\n",
       " '러브',\n",
       " '럭셔리',\n",
       " '런가',\n",
       " '렀는데',\n",
       " '렀습니',\n",
       " '렀으',\n",
       " '레노',\n",
       " '레드',\n",
       " '레벨',\n",
       " '레비',\n",
       " '레스토랑',\n",
       " '레시',\n",
       " '레오',\n",
       " '레이',\n",
       " '레이크',\n",
       " '레인지',\n",
       " '레저',\n",
       " '레프트',\n",
       " '렌즈',\n",
       " '렌탈업체',\n",
       " '렌터',\n",
       " '렌터카',\n",
       " '렌트',\n",
       " '렌트카',\n",
       " '려고',\n",
       " '려운',\n",
       " '로고',\n",
       " '로그',\n",
       " '로만',\n",
       " '로맨틱',\n",
       " '로부터',\n",
       " '로비',\n",
       " '로서',\n",
       " '로션',\n",
       " '로얄',\n",
       " '로움',\n",
       " '로컬',\n",
       " '로터리',\n",
       " '로프트',\n",
       " '롯데',\n",
       " '롯데리아',\n",
       " '롱보드',\n",
       " '루온토',\n",
       " '루트',\n",
       " '루프',\n",
       " '룸메이트',\n",
       " '룸바닥',\n",
       " '룸상태',\n",
       " '룸서비스',\n",
       " '룸안',\n",
       " '룸키',\n",
       " '룸타입',\n",
       " '를위',\n",
       " '리가',\n",
       " '리기',\n",
       " '리넨',\n",
       " '리뉴',\n",
       " '리뉴얼',\n",
       " '리더',\n",
       " '리도',\n",
       " '리모콘',\n",
       " '리베라',\n",
       " '리베로',\n",
       " '리빙룸',\n",
       " '리셉션',\n",
       " '리움',\n",
       " '리젠시',\n",
       " '리조트',\n",
       " '리지',\n",
       " '리치',\n",
       " '리트',\n",
       " '리플렛',\n",
       " '린스',\n",
       " '링잉',\n",
       " '마누카꿀',\n",
       " '마늘',\n",
       " '마다',\n",
       " '마담',\n",
       " '마당',\n",
       " '마레',\n",
       " '마련',\n",
       " '마루',\n",
       " '마리',\n",
       " '마모',\n",
       " '마무리',\n",
       " '마사지',\n",
       " '마술',\n",
       " '마스코트',\n",
       " '마스크',\n",
       " '마스터',\n",
       " '마시기',\n",
       " '마안',\n",
       " '마운트',\n",
       " '마을',\n",
       " '마음',\n",
       " '마이너스',\n",
       " '마인드',\n",
       " '마일리지',\n",
       " '마자',\n",
       " '마저',\n",
       " '마주',\n",
       " '마지막',\n",
       " '마지막여행',\n",
       " '마차',\n",
       " '마찬가지',\n",
       " '마치',\n",
       " '마침내',\n",
       " '마켓',\n",
       " '마트',\n",
       " '마틸다',\n",
       " '막걸리',\n",
       " '만끽',\n",
       " '만난',\n",
       " '만날',\n",
       " '만남',\n",
       " '만다린',\n",
       " '만두',\n",
       " '만들기',\n",
       " '만료',\n",
       " '만약',\n",
       " '만요',\n",
       " '만원',\n",
       " '만점',\n",
       " '만족',\n",
       " '만족도',\n",
       " '만천원',\n",
       " '만큼',\n",
       " '만하',\n",
       " '만해',\n",
       " '만화책',\n",
       " '말레이시아',\n",
       " '말레이시아인',\n",
       " '말로',\n",
       " '말리',\n",
       " '말씀',\n",
       " '말투',\n",
       " '말함',\n",
       " '맘스',\n",
       " '맛사지',\n",
       " '맛잇엇어',\n",
       " '맛집',\n",
       " '망각',\n",
       " '망신',\n",
       " '망치',\n",
       " '맞은편',\n",
       " '맞이',\n",
       " '매년',\n",
       " '매니',\n",
       " '매니저',\n",
       " '매달',\n",
       " '매듭',\n",
       " '매력',\n",
       " '매번',\n",
       " '매우',\n",
       " '매운탕',\n",
       " '매일',\n",
       " '매장',\n",
       " '매점',\n",
       " '매칭',\n",
       " '매트',\n",
       " '매트리스',\n",
       " '매트릭스',\n",
       " '매하',\n",
       " '맥도날드',\n",
       " '맥도널드',\n",
       " '맥주',\n",
       " '맥주잔',\n",
       " '맨발',\n",
       " '머리',\n",
       " '머리카락',\n",
       " '머신',\n",
       " '머싱',\n",
       " '먹거리',\n",
       " '먹기',\n",
       " '먹방',\n",
       " '먹이',\n",
       " '먼저',\n",
       " '먼지',\n",
       " '멀리',\n",
       " '메가박스',\n",
       " '메뉴',\n",
       " '메리',\n",
       " '메리어트',\n",
       " '메시지',\n",
       " ...]"
      ]
     },
     "execution_count": 55,
     "metadata": {},
     "output_type": "execute_result"
    }
   ],
   "source": [
    "word_list"
   ]
  },
  {
   "cell_type": "code",
   "execution_count": 24,
   "metadata": {
    "colab": {
     "base_uri": "https://localhost:8080/"
    },
    "executionInfo": {
     "elapsed": 259,
     "status": "ok",
     "timestamp": 1632448541882,
     "user": {
      "displayName": "팡팡",
      "photoUrl": "https://lh3.googleusercontent.com/a/default-user=s64",
      "userId": "08351897761321616592"
     },
     "user_tz": -540
    },
    "id": "6-FIjghaCcdb",
    "outputId": "d42b3916-16d7-44a8-fd30-c9cea5fd6915"
   },
   "outputs": [
    {
     "data": {
      "text/plain": [
       "array([  4,   8, 245, ...,   1,   7,  14])"
      ]
     },
     "execution_count": 24,
     "metadata": {},
     "output_type": "execute_result"
    }
   ],
   "source": [
    "count_list"
   ]
  },
  {
   "cell_type": "code",
   "execution_count": 25,
   "metadata": {
    "colab": {
     "base_uri": "https://localhost:8080/"
    },
    "executionInfo": {
     "elapsed": 364,
     "status": "ok",
     "timestamp": 1632448545516,
     "user": {
      "displayName": "팡팡",
      "photoUrl": "https://lh3.googleusercontent.com/a/default-user=s64",
      "userId": "08351897761321616592"
     },
     "user_tz": -540
    },
    "id": "3od1nB2ECcf_",
    "outputId": "696a9fa9-3d6d-4133-a8f8-089566e28a0c"
   },
   "outputs": [
    {
     "data": {
      "text/plain": [
       "(1001, 3599)"
      ]
     },
     "execution_count": 25,
     "metadata": {},
     "output_type": "execute_result"
    }
   ],
   "source": [
    "bow_vect.shape"
   ]
  },
  {
   "cell_type": "code",
   "execution_count": 26,
   "metadata": {
    "colab": {
     "base_uri": "https://localhost:8080/"
    },
    "executionInfo": {
     "elapsed": 2,
     "status": "ok",
     "timestamp": 1632448547995,
     "user": {
      "displayName": "팡팡",
      "photoUrl": "https://lh3.googleusercontent.com/a/default-user=s64",
      "userId": "08351897761321616592"
     },
     "user_tz": -540
    },
    "id": "H-jKjWBVCyAZ",
    "outputId": "36ccb75c-fa86-4724-83e3-350b5d277c7d"
   },
   "outputs": [
    {
     "data": {
      "text/plain": [
       "array([[0, 0, 0, ..., 0, 0, 0],\n",
       "       [0, 0, 0, ..., 0, 0, 0],\n",
       "       [0, 0, 0, ..., 0, 0, 0],\n",
       "       ...,\n",
       "       [0, 0, 0, ..., 0, 0, 0],\n",
       "       [0, 0, 2, ..., 0, 0, 0],\n",
       "       [0, 0, 0, ..., 0, 0, 0]])"
      ]
     },
     "execution_count": 26,
     "metadata": {},
     "output_type": "execute_result"
    }
   ],
   "source": [
    "bow_vect.toarray()"
   ]
  },
  {
   "cell_type": "code",
   "execution_count": 27,
   "metadata": {
    "colab": {
     "base_uri": "https://localhost:8080/"
    },
    "executionInfo": {
     "elapsed": 258,
     "status": "ok",
     "timestamp": 1632448550027,
     "user": {
      "displayName": "팡팡",
      "photoUrl": "https://lh3.googleusercontent.com/a/default-user=s64",
      "userId": "08351897761321616592"
     },
     "user_tz": -540
    },
    "id": "YHf8jMXgCyDN",
    "outputId": "8d4d22fd-eaed-4378-b565-0a3aab433c5d"
   },
   "outputs": [
    {
     "data": {
      "text/plain": [
       "array([  4,   8, 245, ...,   1,   7,  14])"
      ]
     },
     "execution_count": 27,
     "metadata": {},
     "output_type": "execute_result"
    }
   ],
   "source": [
    "bow_vect.toarray().sum(axis=0)"
   ]
  },
  {
   "cell_type": "code",
   "execution_count": 28,
   "metadata": {
    "colab": {
     "base_uri": "https://localhost:8080/"
    },
    "executionInfo": {
     "elapsed": 255,
     "status": "ok",
     "timestamp": 1632448557211,
     "user": {
      "displayName": "팡팡",
      "photoUrl": "https://lh3.googleusercontent.com/a/default-user=s64",
      "userId": "08351897761321616592"
     },
     "user_tz": -540
    },
    "id": "7Oeolrt9CyFZ",
    "outputId": "c35c8494-c456-4efa-e656-64527bafb9da"
   },
   "outputs": [
    {
     "data": {
      "text/plain": [
       "(3599,)"
      ]
     },
     "execution_count": 28,
     "metadata": {},
     "output_type": "execute_result"
    }
   ],
   "source": [
    "bow_vect.toarray().sum(axis=0).shape"
   ]
  },
  {
   "cell_type": "code",
   "execution_count": 56,
   "metadata": {
    "colab": {
     "base_uri": "https://localhost:8080/"
    },
    "executionInfo": {
     "elapsed": 290,
     "status": "ok",
     "timestamp": 1632449180552,
     "user": {
      "displayName": "팡팡",
      "photoUrl": "https://lh3.googleusercontent.com/a/default-user=s64",
      "userId": "08351897761321616592"
     },
     "user_tz": -540
    },
    "id": "M5oVFqzSCyIK",
    "outputId": "7f034551-fa03-49ed-e309-54177935f866"
   },
   "outputs": [
    {
     "data": {
      "text/plain": [
       "{'가가': 4,\n",
       " '가게': 8,\n",
       " '가격': 245,\n",
       " '가격표': 1,\n",
       " '가구': 8,\n",
       " '가급': 1,\n",
       " '가기': 20,\n",
       " '가까이': 20,\n",
       " '가끔': 5,\n",
       " '가능': 10,\n",
       " '가도': 7,\n",
       " '가동': 2,\n",
       " '가두': 1,\n",
       " '가득': 2,\n",
       " '가든': 1,\n",
       " '가라': 3,\n",
       " '가량': 1,\n",
       " '가려움': 1,\n",
       " '가로': 2,\n",
       " '가면': 14,\n",
       " '가몬': 1,\n",
       " '가무': 1,\n",
       " '가물': 1,\n",
       " '가미': 1,\n",
       " '가방': 4,\n",
       " '가버': 1,\n",
       " '가성': 49,\n",
       " '가세': 3,\n",
       " '가스레인지': 1,\n",
       " '가스렌지': 1,\n",
       " '가슴': 1,\n",
       " '가시': 4,\n",
       " '가신': 3,\n",
       " '가야': 10,\n",
       " '가옥': 1,\n",
       " '가요': 5,\n",
       " '가용': 1,\n",
       " '가운데': 3,\n",
       " '가을': 4,\n",
       " '가인': 1,\n",
       " '가장': 42,\n",
       " '가정': 4,\n",
       " '가정식': 2,\n",
       " '가족': 94,\n",
       " '가지': 55,\n",
       " '가짓수': 3,\n",
       " '가차': 1,\n",
       " '가치': 15,\n",
       " '가품': 1,\n",
       " '각각': 7,\n",
       " '각오': 1,\n",
       " '각자': 2,\n",
       " '각종': 3,\n",
       " '각층': 1,\n",
       " '간격': 2,\n",
       " '간곳': 1,\n",
       " '간다': 4,\n",
       " '간단': 1,\n",
       " '간만': 1,\n",
       " '간식': 5,\n",
       " '간이': 3,\n",
       " '간주': 1,\n",
       " '간직': 1,\n",
       " '간판': 2,\n",
       " '간혹': 1,\n",
       " '갈껄': 1,\n",
       " '갈비': 1,\n",
       " '갈비탕': 1,\n",
       " '갈수': 7,\n",
       " '갈수록': 1,\n",
       " '감각': 1,\n",
       " '감동': 12,\n",
       " '감명': 1,\n",
       " '감사': 6,\n",
       " '감상': 3,\n",
       " '감소': 1,\n",
       " '감안': 5,\n",
       " '감자': 1,\n",
       " '감히': 1,\n",
       " '갑인': 1,\n",
       " '갑자기': 4,\n",
       " '갑작스레': 1,\n",
       " '강남': 1,\n",
       " '강력': 9,\n",
       " '강아지': 7,\n",
       " '강압': 2,\n",
       " '강제': 1,\n",
       " '강조': 1,\n",
       " '강추': 8,\n",
       " '개념': 1,\n",
       " '개략': 1,\n",
       " '개미': 1,\n",
       " '개발': 3,\n",
       " '개방': 2,\n",
       " '개별': 3,\n",
       " '개보': 1,\n",
       " '개뿔': 1,\n",
       " '개선': 4,\n",
       " '개수대': 1,\n",
       " '개월': 1,\n",
       " '개인': 23,\n",
       " '개인실': 1,\n",
       " '개인정보': 2,\n",
       " '개조': 5,\n",
       " '개층': 1,\n",
       " '객수': 1,\n",
       " '객실': 244,\n",
       " '갤러리': 2,\n",
       " '갱스터': 1,\n",
       " '거기': 24,\n",
       " '거나': 6,\n",
       " '거두': 1,\n",
       " '거론': 1,\n",
       " '거르세': 1,\n",
       " '거름': 2,\n",
       " '거리': 156,\n",
       " '거린데': 1,\n",
       " '거림': 1,\n",
       " '거문도': 1,\n",
       " '거미': 1,\n",
       " '거부': 4,\n",
       " '거실': 29,\n",
       " '거여': 1,\n",
       " '거울': 5,\n",
       " '거위': 1,\n",
       " '거의': 27,\n",
       " '거절': 3,\n",
       " '거주': 1,\n",
       " '거지': 1,\n",
       " '거참': 1,\n",
       " '거품': 2,\n",
       " '걱정': 27,\n",
       " '건가': 1,\n",
       " '건강': 2,\n",
       " '건너': 8,\n",
       " '건너편': 11,\n",
       " '건물': 55,\n",
       " '건의': 1,\n",
       " '건조': 2,\n",
       " '건조기': 3,\n",
       " '건조대': 2,\n",
       " '건축': 2,\n",
       " '걷기': 2,\n",
       " '걸음': 3,\n",
       " '걸이': 2,\n",
       " '걸즈': 1,\n",
       " '검사': 1,\n",
       " '검색': 13,\n",
       " '검정색': 1,\n",
       " '검토': 3,\n",
       " '것임': 3,\n",
       " '겉보기': 2,\n",
       " '게다가': 5,\n",
       " '게스트': 25,\n",
       " '게스트하우스': 30,\n",
       " '게임': 2,\n",
       " '게재': 1,\n",
       " '겐찮은듯': 1,\n",
       " '겔상': 1,\n",
       " '겨우': 3,\n",
       " '겨울': 15,\n",
       " '겨울철': 2,\n",
       " '격인': 1,\n",
       " '격하': 1,\n",
       " '결과': 2,\n",
       " '결론': 3,\n",
       " '결석': 1,\n",
       " '결재': 2,\n",
       " '결정': 12,\n",
       " '결제': 1,\n",
       " '결코': 2,\n",
       " '결함': 1,\n",
       " '결항': 2,\n",
       " '결혼': 1,\n",
       " '결혼식': 2,\n",
       " '겸비': 1,\n",
       " '겸용': 1,\n",
       " '겹겹': 2,\n",
       " '경고': 1,\n",
       " '경관': 3,\n",
       " '경내': 1,\n",
       " '경로': 1,\n",
       " '경매': 1,\n",
       " '경영': 2,\n",
       " '경영학': 1,\n",
       " '경우': 41,\n",
       " '경쟁': 1,\n",
       " '경쟁력': 2,\n",
       " '경찰': 2,\n",
       " '경치': 17,\n",
       " '경험': 26,\n",
       " '계단': 4,\n",
       " '계란': 11,\n",
       " '계란후라이': 1,\n",
       " '계산': 2,\n",
       " '계속': 23,\n",
       " '계정': 1,\n",
       " '계획': 13,\n",
       " '고가': 1,\n",
       " '고간': 1,\n",
       " '고객': 14,\n",
       " '고급': 8,\n",
       " '고기': 8,\n",
       " '고기국수': 1,\n",
       " '고깃배': 1,\n",
       " '고내포구': 1,\n",
       " '고려': 9,\n",
       " '고루': 1,\n",
       " '고무줄': 1,\n",
       " '고문': 2,\n",
       " '고민': 9,\n",
       " '고봉': 1,\n",
       " '고분': 2,\n",
       " '고생': 1,\n",
       " '고속': 2,\n",
       " '고속도로': 2,\n",
       " '고아': 1,\n",
       " '고양이': 3,\n",
       " '고여': 1,\n",
       " '고오': 1,\n",
       " '고요': 3,\n",
       " '고유': 2,\n",
       " '고작': 1,\n",
       " '고장': 3,\n",
       " '고정': 3,\n",
       " '고층': 2,\n",
       " '고통': 1,\n",
       " '고트': 1,\n",
       " '고함': 2,\n",
       " '고해': 1,\n",
       " '곡부': 1,\n",
       " '곧바로': 2,\n",
       " '곧장': 2,\n",
       " '골드스타': 1,\n",
       " '골목': 6,\n",
       " '골목길': 2,\n",
       " '골퍼': 2,\n",
       " '골프': 9,\n",
       " '골프장': 5,\n",
       " '골프텔': 2,\n",
       " '곰팡이': 14,\n",
       " '곱슬': 1,\n",
       " '곳곳': 4,\n",
       " '곳곳이': 1,\n",
       " '곳도': 8,\n",
       " '곳임': 2,\n",
       " '공간': 73,\n",
       " '공감': 1,\n",
       " '공개': 1,\n",
       " '공공': 2,\n",
       " '공공장소': 1,\n",
       " '공급': 2,\n",
       " '공기': 8,\n",
       " '공덕': 1,\n",
       " '공률': 1,\n",
       " '공물': 1,\n",
       " '공사': 12,\n",
       " '공시': 1,\n",
       " '공실이': 1,\n",
       " '공연': 8,\n",
       " '공연장': 2,\n",
       " '공영': 1,\n",
       " '공용': 8,\n",
       " '공원': 17,\n",
       " '공유': 5,\n",
       " '공짜': 1,\n",
       " '공차': 1,\n",
       " '공터': 1,\n",
       " '공포': 1,\n",
       " '공항': 307,\n",
       " '과거': 1,\n",
       " '과물': 2,\n",
       " '과언': 1,\n",
       " '과일': 9,\n",
       " '과장': 2,\n",
       " '관경': 1,\n",
       " '관계': 3,\n",
       " '관계자': 2,\n",
       " '관광': 38,\n",
       " '관광객': 15,\n",
       " '관광명소': 4,\n",
       " '관광지': 12,\n",
       " '관덕정': 4,\n",
       " '관련': 6,\n",
       " '관리': 39,\n",
       " '관리인': 1,\n",
       " '관리자': 3,\n",
       " '관리직': 2,\n",
       " '관음사': 1,\n",
       " '관해': 5,\n",
       " '광경': 2,\n",
       " '광고': 4,\n",
       " '광천수': 1,\n",
       " '괴체': 1,\n",
       " '교대': 1,\n",
       " '교수': 1,\n",
       " '교외': 1,\n",
       " '교욱받': 1,\n",
       " '교육': 5,\n",
       " '교체': 7,\n",
       " '교통': 30,\n",
       " '교환': 2,\n",
       " '교회': 2,\n",
       " '구가': 3,\n",
       " '구경': 7,\n",
       " '구경만': 1,\n",
       " '구관': 4,\n",
       " '구글': 2,\n",
       " '구나': 2,\n",
       " '구내': 1,\n",
       " '구덩이': 1,\n",
       " '구도': 1,\n",
       " '구두': 2,\n",
       " '구둣주걱': 1,\n",
       " '구들장': 1,\n",
       " '구류': 1,\n",
       " '구만': 2,\n",
       " '구매': 14,\n",
       " '구멍': 7,\n",
       " '구별': 1,\n",
       " '구분': 3,\n",
       " '구비': 11,\n",
       " '구사': 6,\n",
       " '구색': 2,\n",
       " '구석': 2,\n",
       " '구석구석': 5,\n",
       " '구성': 7,\n",
       " '구식': 1,\n",
       " '구암': 1,\n",
       " '구역': 3,\n",
       " '구역질': 2,\n",
       " '구이': 1,\n",
       " '구입': 5,\n",
       " '구조': 12,\n",
       " '구축': 1,\n",
       " '국가': 3,\n",
       " '국내': 1,\n",
       " '국도': 1,\n",
       " '국립': 1,\n",
       " '국수': 3,\n",
       " '국적': 3,\n",
       " '국제': 11,\n",
       " '국제공항': 1,\n",
       " '군더더기': 1,\n",
       " '군데': 8,\n",
       " '군데군데': 2,\n",
       " '굳럭': 1,\n",
       " '굳이': 7,\n",
       " '굿굿': 1,\n",
       " '굿굿굿': 1,\n",
       " '굿앤굿': 1,\n",
       " '굿임': 1,\n",
       " '권내': 1,\n",
       " '권장': 5,\n",
       " '권한': 2,\n",
       " '귀중': 1,\n",
       " '규모': 12,\n",
       " '규율': 2,\n",
       " '규칙': 1,\n",
       " '균형': 1,\n",
       " '그거': 3,\n",
       " '그것': 70,\n",
       " '그게': 1,\n",
       " '그냥': 42,\n",
       " '그네': 1,\n",
       " '그녀': 20,\n",
       " '그다음': 1,\n",
       " '그다지': 4,\n",
       " '그닥': 4,\n",
       " '그대로': 11,\n",
       " '그동안': 4,\n",
       " '그때': 3,\n",
       " '그랜드': 6,\n",
       " '그레이스': 3,\n",
       " '그로': 3,\n",
       " '그룹': 9,\n",
       " '그릇': 3,\n",
       " '그린': 1,\n",
       " '그림': 4,\n",
       " '극복': 1,\n",
       " '극악': 1,\n",
       " '근래': 1,\n",
       " '근무': 4,\n",
       " '근본': 1,\n",
       " '근육통': 1,\n",
       " '근처': 164,\n",
       " '근해': 1,\n",
       " '글래드': 3,\n",
       " '글쎄': 2,\n",
       " '금고': 2,\n",
       " '금늘': 1,\n",
       " '금능': 2,\n",
       " '금릉': 1,\n",
       " '금방': 3,\n",
       " '금속': 1,\n",
       " '금액': 8,\n",
       " '금연': 6,\n",
       " '금요일': 1,\n",
       " '금은': 1,\n",
       " '금지': 1,\n",
       " '금토일': 1,\n",
       " '급상승': 1,\n",
       " '급속': 1,\n",
       " '기간': 3,\n",
       " '기계': 4,\n",
       " '기구': 2,\n",
       " '기기': 4,\n",
       " '기념일': 1,\n",
       " '기능': 4,\n",
       " '기대': 15,\n",
       " '기도': 7,\n",
       " '기류': 3,\n",
       " '기리': 1,\n",
       " '기반': 4,\n",
       " '기본': 45,\n",
       " '기부': 1,\n",
       " '기분': 29,\n",
       " '기사': 8,\n",
       " '기상': 1,\n",
       " '기소': 1,\n",
       " '기숙사': 7,\n",
       " '기술': 3,\n",
       " '기술자': 1,\n",
       " '기억': 11,\n",
       " '기업': 2,\n",
       " '기여': 1,\n",
       " '기용': 1,\n",
       " '기우': 1,\n",
       " '기입': 1,\n",
       " '기적': 1,\n",
       " '기전': 1,\n",
       " '기점': 1,\n",
       " '기존': 1,\n",
       " '기준': 4,\n",
       " '기지': 1,\n",
       " '기타': 5,\n",
       " '기프트샵': 2,\n",
       " '기호': 1,\n",
       " '기회': 11,\n",
       " '기후': 1,\n",
       " '긴장': 1,\n",
       " '길가': 4,\n",
       " '길림': 1,\n",
       " '길목': 2,\n",
       " '길이': 2,\n",
       " '김녕': 1,\n",
       " '김녕해변': 1,\n",
       " '김밥': 1,\n",
       " '김씨': 1,\n",
       " '김치': 4,\n",
       " '김포공항': 1,\n",
       " '까페': 5,\n",
       " '깜빡': 1,\n",
       " '깜짝': 3,\n",
       " '깨끗': 5,\n",
       " '깨끗깔끔': 1,\n",
       " '께빵': 1,\n",
       " '꼭대기': 2,\n",
       " '꽃꺽으러': 1,\n",
       " '꽃사슴': 1,\n",
       " '꾸러미': 1,\n",
       " '꾸밈': 1,\n",
       " '꿀잠': 2,\n",
       " '끝내기': 1,\n",
       " '끼리': 18,\n",
       " '나기': 2,\n",
       " '나누기': 6,\n",
       " '나니': 1,\n",
       " '나라': 2,\n",
       " '나름': 13,\n",
       " '나머지': 6,\n",
       " '나머진': 1,\n",
       " '나무': 13,\n",
       " '나물': 1,\n",
       " '나보': 1,\n",
       " '나오니': 2,\n",
       " '나우': 1,\n",
       " '나은': 5,\n",
       " '나이': 3,\n",
       " '나이트': 2,\n",
       " '나이프': 2,\n",
       " '나중': 8,\n",
       " '나탈리': 2,\n",
       " '낙후': 3,\n",
       " '낚시': 3,\n",
       " '난로': 3,\n",
       " '난리': 3,\n",
       " '난방': 30,\n",
       " '난입': 2,\n",
       " '난타': 9,\n",
       " '날수': 1,\n",
       " '날씨': 12,\n",
       " '날짜': 1,\n",
       " '남녀': 1,\n",
       " '남성': 2,\n",
       " '남아': 5,\n",
       " '남자': 6,\n",
       " '남자친구': 2,\n",
       " '남짓': 1,\n",
       " '남쪽': 1,\n",
       " '남편': 10,\n",
       " '낭만': 2,\n",
       " '내겐': 1,\n",
       " '내내': 8,\n",
       " '내년': 1,\n",
       " '내부': 40,\n",
       " '내부시': 1,\n",
       " '내시': 1,\n",
       " '내야': 1,\n",
       " '내외': 2,\n",
       " '내용': 2,\n",
       " '내의': 2,\n",
       " '내인': 1,\n",
       " '내일': 2,\n",
       " '냄비': 1,\n",
       " '냄새': 58,\n",
       " '냉동': 1,\n",
       " '냉장고': 35,\n",
       " '너븐팡': 2,\n",
       " '넓이': 1,\n",
       " '네스프레소': 1,\n",
       " '네이버': 3,\n",
       " '년대': 2,\n",
       " '년전': 1,\n",
       " '녔던': 1,\n",
       " '노곤': 2,\n",
       " '노래': 1,\n",
       " '노래방': 3,\n",
       " '노력': 8,\n",
       " '노리': 1,\n",
       " '노블레스': 1,\n",
       " '노선': 2,\n",
       " '노을': 1,\n",
       " '노크': 1,\n",
       " '노트북': 2,\n",
       " '노화': 1,\n",
       " '노후': 6,\n",
       " '녹물': 1,\n",
       " '녹음': 4,\n",
       " '녹지': 1,\n",
       " '논평': 1,\n",
       " '놀러와': 2,\n",
       " '놀수': 1,\n",
       " '놀이': 3,\n",
       " '놀이기구': 2,\n",
       " '놀이터': 2,\n",
       " '농부가': 1,\n",
       " '농장': 3,\n",
       " '높이': 2,\n",
       " '놨더군': 1,\n",
       " '누가': 5,\n",
       " '누구': 5,\n",
       " '누군가': 4,\n",
       " '누락': 1,\n",
       " '누리': 1,\n",
       " '누울': 2,\n",
       " '눈앞': 3,\n",
       " '뉴타운': 1,\n",
       " '느낌': 49,\n",
       " '는걸': 2,\n",
       " '늘송': 3,\n",
       " '능리': 1,\n",
       " '다가': 1,\n",
       " '다그': 1,\n",
       " '다다미': 1,\n",
       " '다라': 1,\n",
       " '다락방': 1,\n",
       " '다른': 88,\n",
       " '다른사람': 1,\n",
       " '다리미': 2,\n",
       " '다만': 54,\n",
       " '다미': 1,\n",
       " '다발': 1,\n",
       " '다섯': 1,\n",
       " '다소': 21,\n",
       " '다수': 2,\n",
       " '다시': 93,\n",
       " '다운': 4,\n",
       " '다음': 102,\n",
       " '다이지': 1,\n",
       " '다인': 1,\n",
       " '다정': 2,\n",
       " '다행': 3,\n",
       " '단계': 4,\n",
       " '단기': 1,\n",
       " '단면': 1,\n",
       " '단어': 2,\n",
       " '단위': 2,\n",
       " '단점': 40,\n",
       " '단정': 1,\n",
       " '단지': 16,\n",
       " '단체': 19,\n",
       " '달걀': 3,\n",
       " '달걀프라이': 1,\n",
       " '달라': 13,\n",
       " '달러': 7,\n",
       " '달리': 6,\n",
       " '달성': 1,\n",
       " '닭머르': 1,\n",
       " '담당': 2,\n",
       " '담배': 19,\n",
       " '담소': 2,\n",
       " '담요': 1,\n",
       " '답변': 3,\n",
       " '당구': 2,\n",
       " '당근': 2,\n",
       " '당나귀': 2,\n",
       " '당분간': 1,\n",
       " '당시': 1,\n",
       " '당신': 21,\n",
       " '당일': 3,\n",
       " '당황': 7,\n",
       " '대가': 3,\n",
       " '대가족': 2,\n",
       " '대고': 1,\n",
       " '대관령': 1,\n",
       " '대답': 3,\n",
       " '대당': 1,\n",
       " '대도': 3,\n",
       " '대도시': 2,\n",
       " '대뜸': 1,\n",
       " '대략': 6,\n",
       " '대로': 8,\n",
       " '대리': 3,\n",
       " '대명': 1,\n",
       " '대박': 3,\n",
       " '대부분': 23,\n",
       " '대비': 64,\n",
       " '대상': 1,\n",
       " '대신': 8,\n",
       " '대안': 2,\n",
       " '대여': 3,\n",
       " '대요': 2,\n",
       " '대욕': 1,\n",
       " '대응': 2,\n",
       " '대의': 4,\n",
       " '대입': 1,\n",
       " '대적': 1,\n",
       " '대접': 1,\n",
       " '대정': 1,\n",
       " '대중': 9,\n",
       " '대중교통': 6,\n",
       " '대처': 2,\n",
       " '대체': 2,\n",
       " '대충': 3,\n",
       " '대포': 1,\n",
       " '대표': 4,\n",
       " '대하': 1,\n",
       " '대한': 19,\n",
       " '대한민국': 2,\n",
       " '대한항공': 1,\n",
       " '대해': 21,\n",
       " '대행': 1,\n",
       " '대형': 10,\n",
       " '대화': 11,\n",
       " '대환영': 1,\n",
       " '댐핑할': 1,\n",
       " '더군다나': 1,\n",
       " '더더': 2,\n",
       " '더러': 1,\n",
       " '더블': 29,\n",
       " '더블베드': 4,\n",
       " '더욱': 5,\n",
       " '더원': 1,\n",
       " '덕림사': 1,\n",
       " '덕분': 6,\n",
       " '덕택': 3,\n",
       " '던데': 1,\n",
       " '덮어놓고': 1,\n",
       " '데리': 5,\n",
       " '데스크': 30,\n",
       " '데스크톱': 1,\n",
       " '데이': 1,\n",
       " '데이즈': 1,\n",
       " '델문': 2,\n",
       " '도구': 18,\n",
       " '도달': 3,\n",
       " '도대체': 1,\n",
       " '도도': 1,\n",
       " '도둑': 1,\n",
       " '도로': 41,\n",
       " '도록': 1,\n",
       " '도리어': 1,\n",
       " '도미': 9,\n",
       " '도보': 35,\n",
       " '도서관': 1,\n",
       " '도시': 18,\n",
       " '도시락': 4,\n",
       " '도심': 14,\n",
       " '도심지': 1,\n",
       " '도어': 3,\n",
       " '도어락': 1,\n",
       " '도움': 51,\n",
       " '도움말': 1,\n",
       " '도일': 1,\n",
       " '도정': 1,\n",
       " '도중': 2,\n",
       " '도착': 69,\n",
       " '도처': 1,\n",
       " '도청': 2,\n",
       " '도쿄': 1,\n",
       " '도크': 1,\n",
       " '독립': 6,\n",
       " '독서': 1,\n",
       " '독점': 1,\n",
       " '독채': 5,\n",
       " '돈까스': 1,\n",
       " '돌담': 1,\n",
       " '돌잔치': 1,\n",
       " '동계': 1,\n",
       " '동광양': 1,\n",
       " '동굴': 1,\n",
       " '동남': 1,\n",
       " '동남아': 2,\n",
       " '동네': 7,\n",
       " '동도': 1,\n",
       " '동료': 2,\n",
       " '동문': 14,\n",
       " '동물': 9,\n",
       " '동물원': 2,\n",
       " '동반': 3,\n",
       " '동부': 2,\n",
       " '동북': 1,\n",
       " '동생': 3,\n",
       " '동선': 3,\n",
       " '동시': 7,\n",
       " '동안': 48,\n",
       " '동영상': 1,\n",
       " '동의': 3,\n",
       " '동이': 1,\n",
       " '동인': 2,\n",
       " '동작': 1,\n",
       " '동전': 1,\n",
       " '동정': 1,\n",
       " '동쪽': 5,\n",
       " '돼지': 16,\n",
       " '돼지고기': 4,\n",
       " '됏다': 1,\n",
       " '될껀': 1,\n",
       " '될껄': 1,\n",
       " '두루': 2,\n",
       " '두번째': 2,\n",
       " '두봉': 2,\n",
       " '두부': 1,\n",
       " '두엄': 1,\n",
       " '두운': 2,\n",
       " '두툼': 1,\n",
       " '둘러보기': 1,\n",
       " '둘이서': 3,\n",
       " '둘째': 5,\n",
       " '둥근지붕': 1,\n",
       " '뒤쪽': 4,\n",
       " '뒤척': 1,\n",
       " '뒷골목': 1,\n",
       " '뒷마당': 1,\n",
       " '뒷문': 1,\n",
       " '뒷쪽': 2,\n",
       " '드네': 1,\n",
       " '드라이기': 7,\n",
       " '드라이버': 1,\n",
       " '드라이브': 11,\n",
       " '드라이어': 11,\n",
       " '드롭': 1,\n",
       " '드릴': 1,\n",
       " '드타': 1,\n",
       " '드하': 2,\n",
       " '득시': 1,\n",
       " '듭니': 5,\n",
       " '듯이': 1,\n",
       " '듯해': 1,\n",
       " '등급': 3,\n",
       " '등대': 3,\n",
       " '등등': 8,\n",
       " '등반': 3,\n",
       " '등산': 6,\n",
       " '등정후': 1,\n",
       " '디귿': 1,\n",
       " '디너': 4,\n",
       " '디럭스': 6,\n",
       " '디봇': 1,\n",
       " '디셈버': 2,\n",
       " '디자이너': 1,\n",
       " '디자인': 11,\n",
       " '디저트': 1,\n",
       " '디제이': 2,\n",
       " '따라서': 4,\n",
       " '때로는': 1,\n",
       " '때문': 112,\n",
       " '떡국': 2,\n",
       " '또오': 1,\n",
       " '또한': 76,\n",
       " '뚜벅': 3,\n",
       " '뜨근뜨근': 1,\n",
       " '뜨내기': 1,\n",
       " '라그': 1,\n",
       " '라마': 4,\n",
       " '라며': 3,\n",
       " '라면': 15,\n",
       " '라서': 1,\n",
       " '라스베가스': 1,\n",
       " '라우터': 1,\n",
       " '라운지': 9,\n",
       " '라이센스': 1,\n",
       " '라커룸': 1,\n",
       " '락스': 2,\n",
       " '락심이': 1,\n",
       " '락커': 2,\n",
       " '락타': 1,\n",
       " '란딩': 1,\n",
       " '랍니': 1,\n",
       " '랜드': 1,\n",
       " '랜트': 1,\n",
       " '랜트카': 1,\n",
       " '랜트하': 1,\n",
       " '램프': 2,\n",
       " '러닝': 1,\n",
       " '러브': 3,\n",
       " '럭셔리': 5,\n",
       " '런가': 2,\n",
       " '렀는데': 1,\n",
       " '렀습니': 2,\n",
       " '렀으': 1,\n",
       " '레노': 1,\n",
       " '레드': 1,\n",
       " '레벨': 1,\n",
       " '레비': 1,\n",
       " '레스토랑': 64,\n",
       " '레시': 1,\n",
       " '레오': 2,\n",
       " '레이': 1,\n",
       " '레이크': 1,\n",
       " '레인지': 3,\n",
       " '레저': 1,\n",
       " '레프트': 1,\n",
       " '렌즈': 1,\n",
       " '렌탈업체': 1,\n",
       " '렌터': 1,\n",
       " '렌터카': 4,\n",
       " '렌트': 17,\n",
       " '렌트카': 8,\n",
       " '려고': 4,\n",
       " '려운': 1,\n",
       " '로고': 1,\n",
       " '로그': 3,\n",
       " '로만': 1,\n",
       " '로맨틱': 2,\n",
       " '로부터': 2,\n",
       " '로비': 49,\n",
       " '로서': 2,\n",
       " '로션': 1,\n",
       " '로얄': 1,\n",
       " '로움': 1,\n",
       " '로컬': 3,\n",
       " '로터리': 1,\n",
       " '로프트': 1,\n",
       " '롯데': 6,\n",
       " '롯데리아': 2,\n",
       " '롱보드': 1,\n",
       " '루온토': 1,\n",
       " '루트': 1,\n",
       " '루프': 17,\n",
       " '룸메이트': 1,\n",
       " '룸바닥': 1,\n",
       " '룸상태': 2,\n",
       " '룸서비스': 9,\n",
       " '룸안': 1,\n",
       " '룸키': 2,\n",
       " '룸타입': 1,\n",
       " '를위': 1,\n",
       " '리가': 2,\n",
       " '리기': 1,\n",
       " '리넨': 1,\n",
       " '리뉴': 1,\n",
       " '리뉴얼': 1,\n",
       " '리더': 1,\n",
       " '리도': 1,\n",
       " '리모콘': 3,\n",
       " '리베라': 2,\n",
       " '리베로': 1,\n",
       " '리빙룸': 2,\n",
       " '리셉션': 29,\n",
       " '리움': 2,\n",
       " '리젠시': 1,\n",
       " '리조트': 53,\n",
       " '리지': 1,\n",
       " '리치': 1,\n",
       " '리트': 1,\n",
       " '리플렛': 1,\n",
       " '린스': 2,\n",
       " '링잉': 1,\n",
       " '마누카꿀': 1,\n",
       " '마늘': 1,\n",
       " '마다': 1,\n",
       " '마담': 2,\n",
       " '마당': 2,\n",
       " '마레': 2,\n",
       " '마련': 7,\n",
       " '마루': 5,\n",
       " '마리': 11,\n",
       " '마모': 1,\n",
       " '마무리': 3,\n",
       " '마사지': 4,\n",
       " '마술': 1,\n",
       " '마스코트': 2,\n",
       " '마스크': 1,\n",
       " '마스터': 2,\n",
       " '마시기': 2,\n",
       " '마안': 1,\n",
       " '마운트': 1,\n",
       " '마을': 9,\n",
       " '마음': 31,\n",
       " '마이너스': 1,\n",
       " '마인드': 4,\n",
       " '마일리지': 2,\n",
       " '마자': 2,\n",
       " '마저': 1,\n",
       " '마주': 4,\n",
       " '마지막': 21,\n",
       " '마지막여행': 1,\n",
       " '마차': 1,\n",
       " '마찬가지': 4,\n",
       " '마치': 12,\n",
       " '마침내': 3,\n",
       " '마켓': 9,\n",
       " '마트': 14,\n",
       " '마틸다': 2,\n",
       " '막걸리': 1,\n",
       " '만끽': 1,\n",
       " '만난': 1,\n",
       " '만날': 1,\n",
       " '만남': 1,\n",
       " '만다린': 2,\n",
       " '만두': 1,\n",
       " '만들기': 1,\n",
       " '만료': 1,\n",
       " '만약': 6,\n",
       " '만요': 1,\n",
       " '만원': 20,\n",
       " '만점': 1,\n",
       " '만족': 12,\n",
       " '만족도': 1,\n",
       " '만천원': 1,\n",
       " '만큼': 2,\n",
       " '만하': 2,\n",
       " '만해': 2,\n",
       " '만화책': 1,\n",
       " '말레이시아': 1,\n",
       " '말레이시아인': 1,\n",
       " '말로': 2,\n",
       " '말리': 1,\n",
       " '말씀': 7,\n",
       " '말투': 3,\n",
       " '말함': 2,\n",
       " '맘스': 1,\n",
       " '맛사지': 1,\n",
       " '맛잇엇어': 1,\n",
       " '맛집': 25,\n",
       " '망각': 1,\n",
       " '망신': 2,\n",
       " '망치': 2,\n",
       " '맞은편': 7,\n",
       " '맞이': 5,\n",
       " '매년': 2,\n",
       " '매니': 1,\n",
       " '매니저': 3,\n",
       " '매달': 1,\n",
       " '매듭': 1,\n",
       " '매력': 5,\n",
       " '매번': 1,\n",
       " '매우': 265,\n",
       " '매운탕': 1,\n",
       " '매일': 36,\n",
       " '매장': 3,\n",
       " '매점': 3,\n",
       " '매칭': 1,\n",
       " '매트': 5,\n",
       " '매트리스': 13,\n",
       " '매트릭스': 1,\n",
       " '매하': 1,\n",
       " '맥도날드': 5,\n",
       " '맥도널드': 1,\n",
       " '맥주': 22,\n",
       " '맥주잔': 1,\n",
       " '맨발': 3,\n",
       " '머리': 7,\n",
       " '머리카락': 4,\n",
       " '머신': 3,\n",
       " '머싱': 1,\n",
       " '먹거리': 7,\n",
       " '먹기': 2,\n",
       " '먹방': 1,\n",
       " '먹이': 3,\n",
       " '먼저': 3,\n",
       " '먼지': 3,\n",
       " '멀리': 14,\n",
       " '메가박스': 1,\n",
       " '메뉴': 15,\n",
       " '메리': 1,\n",
       " '메리어트': 1,\n",
       " '메시지': 1,\n",
       " ...}"
      ]
     },
     "execution_count": 56,
     "metadata": {},
     "output_type": "execute_result"
    }
   ],
   "source": [
    "word_count_dict = dict(zip(word_list, count_list))\n",
    "word_count_dict"
   ]
  },
  {
   "cell_type": "markdown",
   "metadata": {
    "id": "tv8-qE6MC79d"
   },
   "source": [
    "-----"
   ]
  },
  {
   "cell_type": "markdown",
   "metadata": {
    "id": "WMwtBHzKC85L"
   },
   "source": [
    "### 3-5) TF-IDF 적용"
   ]
  },
  {
   "cell_type": "markdown",
   "metadata": {
    "id": "d6kLDjZYDHs7"
   },
   "source": [
    "##### TF-IDF 변환"
   ]
  },
  {
   "cell_type": "code",
   "execution_count": 30,
   "metadata": {
    "executionInfo": {
     "elapsed": 260,
     "status": "ok",
     "timestamp": 1632448586481,
     "user": {
      "displayName": "팡팡",
      "photoUrl": "https://lh3.googleusercontent.com/a/default-user=s64",
      "userId": "08351897761321616592"
     },
     "user_tz": -540
    },
    "id": "eE5AR1IzDCAD"
   },
   "outputs": [],
   "source": [
    "from sklearn.feature_extraction.text import TfidfTransformer\n",
    "\n",
    "tfidf_vectorizer = TfidfTransformer()\n",
    "tf_idf_vect = tfidf_vectorizer.fit_transform(bow_vect)"
   ]
  },
  {
   "cell_type": "code",
   "execution_count": 31,
   "metadata": {
    "colab": {
     "base_uri": "https://localhost:8080/"
    },
    "executionInfo": {
     "elapsed": 261,
     "status": "ok",
     "timestamp": 1632448588372,
     "user": {
      "displayName": "팡팡",
      "photoUrl": "https://lh3.googleusercontent.com/a/default-user=s64",
      "userId": "08351897761321616592"
     },
     "user_tz": -540
    },
    "id": "bCq6b-3TDCC-",
    "outputId": "71ea89f1-f16c-432d-bfe1-4e80f36e53f0"
   },
   "outputs": [
    {
     "name": "stdout",
     "output_type": "stream",
     "text": [
      "(1001, 3599)\n",
      "  (0, 3588)\t0.35673213299026796\n",
      "  (0, 2927)\t0.2582351368959594\n",
      "  (0, 2925)\t0.320251680858207\n",
      "  (0, 2866)\t0.48843555212083145\n",
      "  (0, 2696)\t0.23004450213863206\n",
      "  (0, 2311)\t0.15421663035331626\n",
      "  (0, 1584)\t0.48843555212083145\n",
      "  (0, 1527)\t0.2928089229786031\n",
      "  (0, 790)\t0.2528176728459411\n"
     ]
    }
   ],
   "source": [
    "print(tf_idf_vect.shape)\n",
    "print(tf_idf_vect[0])"
   ]
  },
  {
   "cell_type": "markdown",
   "metadata": {
    "id": "LAXZrfU8DRPx"
   },
   "source": [
    "##### 벡터 : 단어 맵핑"
   ]
  },
  {
   "cell_type": "code",
   "execution_count": 32,
   "metadata": {
    "colab": {
     "base_uri": "https://localhost:8080/"
    },
    "executionInfo": {
     "elapsed": 262,
     "status": "ok",
     "timestamp": 1632448590959,
     "user": {
      "displayName": "팡팡",
      "photoUrl": "https://lh3.googleusercontent.com/a/default-user=s64",
      "userId": "08351897761321616592"
     },
     "user_tz": -540
    },
    "id": "jpOhHaKqDCFm",
    "outputId": "6358cb09-5034-4834-981c-bfe82301be5f"
   },
   "outputs": [
    {
     "name": "stdout",
     "output_type": "stream",
     "text": [
      "{2866: '집중', 3588: '휴식', 2696: '제공', 2311: '위치', 1584: '선정', 790: '또한', 2927: '청소', 2925: '청결', 1527..\n"
     ]
    }
   ],
   "source": [
    "invert_index_vectorizer = {v: k for k, v in vect.vocabulary_.items()}\n",
    "print(str(invert_index_vectorizer)[:100]+'..')"
   ]
  },
  {
   "cell_type": "markdown",
   "metadata": {
    "id": "nvwPAdU2DA_v"
   },
   "source": [
    "-----"
   ]
  },
  {
   "cell_type": "markdown",
   "metadata": {
    "id": "3Nb-h1fM7nLc"
   },
   "source": [
    "## 4) Logistic Regression 분류"
   ]
  },
  {
   "cell_type": "markdown",
   "metadata": {
    "id": "87E9Sz5g4YFE"
   },
   "source": [
    "### 4-1) 데이터셋 생성"
   ]
  },
  {
   "cell_type": "markdown",
   "metadata": {
    "id": "dcVGBXHVDeIu"
   },
   "source": [
    "##### Rating 데이터 이진으로 변환"
   ]
  },
  {
   "cell_type": "code",
   "execution_count": 33,
   "metadata": {
    "colab": {
     "base_uri": "https://localhost:8080/",
     "height": 202
    },
    "executionInfo": {
     "elapsed": 262,
     "status": "ok",
     "timestamp": 1632448647379,
     "user": {
      "displayName": "팡팡",
      "photoUrl": "https://lh3.googleusercontent.com/a/default-user=s64",
      "userId": "08351897761321616592"
     },
     "user_tz": -540
    },
    "id": "PS27E0CT4h-7",
    "outputId": "9f6440d7-632b-470a-ace4-4f96b0f83562"
   },
   "outputs": [
    {
     "data": {
      "text/html": [
       "<div>\n",
       "<style scoped>\n",
       "    .dataframe tbody tr th:only-of-type {\n",
       "        vertical-align: middle;\n",
       "    }\n",
       "\n",
       "    .dataframe tbody tr th {\n",
       "        vertical-align: top;\n",
       "    }\n",
       "\n",
       "    .dataframe thead th {\n",
       "        text-align: right;\n",
       "    }\n",
       "</style>\n",
       "<table border=\"1\" class=\"dataframe\">\n",
       "  <thead>\n",
       "    <tr style=\"text-align: right;\">\n",
       "      <th></th>\n",
       "      <th>rating</th>\n",
       "      <th>text</th>\n",
       "    </tr>\n",
       "  </thead>\n",
       "  <tbody>\n",
       "    <tr>\n",
       "      <th>0</th>\n",
       "      <td>4</td>\n",
       "      <td>여행에 집중할수 있게 편안한 휴식을 제공하는 호텔이었습니다. 위치선정 또한 적당한 ...</td>\n",
       "    </tr>\n",
       "    <tr>\n",
       "      <th>1</th>\n",
       "      <td>4</td>\n",
       "      <td>2일 이상 연박시 침대, 이불, 베게등 침구류 교체 및 어메니티 보강이 필요해 보입...</td>\n",
       "    </tr>\n",
       "    <tr>\n",
       "      <th>2</th>\n",
       "      <td>4</td>\n",
       "      <td>지인에소개로온 호텔  깨끗하고 좋은거같아요 처음에는 없는게 많아 많이  당황했는데 ...</td>\n",
       "    </tr>\n",
       "    <tr>\n",
       "      <th>3</th>\n",
       "      <td>5</td>\n",
       "      <td>방에 딱 들어서자마자 눈이 휘둥그레질정도로 이렇게 넓은 호텔 처음 와본 것 같아요!...</td>\n",
       "    </tr>\n",
       "    <tr>\n",
       "      <th>4</th>\n",
       "      <td>5</td>\n",
       "      <td>저녁에 맥주한잔 하는게 좋아서 렌트 안하고 뚜벅이 하기로 했는데 호텔 바로 앞에 버...</td>\n",
       "    </tr>\n",
       "  </tbody>\n",
       "</table>\n",
       "</div>"
      ],
      "text/plain": [
       "   rating                                               text\n",
       "0       4  여행에 집중할수 있게 편안한 휴식을 제공하는 호텔이었습니다. 위치선정 또한 적당한 ...\n",
       "1       4  2일 이상 연박시 침대, 이불, 베게등 침구류 교체 및 어메니티 보강이 필요해 보입...\n",
       "2       4  지인에소개로온 호텔  깨끗하고 좋은거같아요 처음에는 없는게 많아 많이  당황했는데 ...\n",
       "3       5  방에 딱 들어서자마자 눈이 휘둥그레질정도로 이렇게 넓은 호텔 처음 와본 것 같아요!...\n",
       "4       5  저녁에 맥주한잔 하는게 좋아서 렌트 안하고 뚜벅이 하기로 했는데 호텔 바로 앞에 버..."
      ]
     },
     "execution_count": 33,
     "metadata": {},
     "output_type": "execute_result"
    }
   ],
   "source": [
    "df.head()"
   ]
  },
  {
   "cell_type": "code",
   "execution_count": 34,
   "metadata": {
    "colab": {
     "base_uri": "https://localhost:8080/",
     "height": 282
    },
    "executionInfo": {
     "elapsed": 758,
     "status": "ok",
     "timestamp": 1632448650075,
     "user": {
      "displayName": "팡팡",
      "photoUrl": "https://lh3.googleusercontent.com/a/default-user=s64",
      "userId": "08351897761321616592"
     },
     "user_tz": -540
    },
    "id": "lXvHnoTY96zZ",
    "outputId": "8dd49e86-fe19-4d50-806e-aac3b7c87286"
   },
   "outputs": [
    {
     "data": {
      "text/plain": [
       "<matplotlib.axes._subplots.AxesSubplot at 0x7f57c0049e50>"
      ]
     },
     "execution_count": 34,
     "metadata": {},
     "output_type": "execute_result"
    },
    {
     "data": {
      "image/png": "[encoded data removed]",
      "text/plain": [
       "<Figure size 432x288 with 1 Axes>"
      ]
     },
     "metadata": {
      "needs_background": "light"
     },
     "output_type": "display_data"
    }
   ],
   "source": [
    "df.rating.hist()"
   ]
  },
  {
   "cell_type": "code",
   "execution_count": 35,
   "metadata": {
    "executionInfo": {
     "elapsed": 260,
     "status": "ok",
     "timestamp": 1632448667143,
     "user": {
      "displayName": "팡팡",
      "photoUrl": "https://lh3.googleusercontent.com/a/default-user=s64",
      "userId": "08351897761321616592"
     },
     "user_tz": -540
    },
    "id": "lhjSTR4HDlXS"
   },
   "outputs": [],
   "source": [
    "def rating_to_label(rating):\n",
    "    if rating > 3:\n",
    "        return 1\n",
    "    else:\n",
    "        return 0\n",
    "\n",
    "df['y'] = df['rating'].apply(lambda x: rating_to_label(x))"
   ]
  },
  {
   "cell_type": "code",
   "execution_count": 36,
   "metadata": {
    "colab": {
     "base_uri": "https://localhost:8080/",
     "height": 202
    },
    "executionInfo": {
     "elapsed": 294,
     "status": "ok",
     "timestamp": 1632448669220,
     "user": {
      "displayName": "팡팡",
      "photoUrl": "https://lh3.googleusercontent.com/a/default-user=s64",
      "userId": "08351897761321616592"
     },
     "user_tz": -540
    },
    "id": "fADwGYKLDlaU",
    "outputId": "6091e997-154c-46bf-89b3-dddf90800907"
   },
   "outputs": [
    {
     "data": {
      "text/html": [
       "<div>\n",
       "<style scoped>\n",
       "    .dataframe tbody tr th:only-of-type {\n",
       "        vertical-align: middle;\n",
       "    }\n",
       "\n",
       "    .dataframe tbody tr th {\n",
       "        vertical-align: top;\n",
       "    }\n",
       "\n",
       "    .dataframe thead th {\n",
       "        text-align: right;\n",
       "    }\n",
       "</style>\n",
       "<table border=\"1\" class=\"dataframe\">\n",
       "  <thead>\n",
       "    <tr style=\"text-align: right;\">\n",
       "      <th></th>\n",
       "      <th>rating</th>\n",
       "      <th>text</th>\n",
       "      <th>y</th>\n",
       "    </tr>\n",
       "  </thead>\n",
       "  <tbody>\n",
       "    <tr>\n",
       "      <th>0</th>\n",
       "      <td>4</td>\n",
       "      <td>여행에 집중할수 있게 편안한 휴식을 제공하는 호텔이었습니다. 위치선정 또한 적당한 ...</td>\n",
       "      <td>1</td>\n",
       "    </tr>\n",
       "    <tr>\n",
       "      <th>1</th>\n",
       "      <td>4</td>\n",
       "      <td>2일 이상 연박시 침대, 이불, 베게등 침구류 교체 및 어메니티 보강이 필요해 보입...</td>\n",
       "      <td>1</td>\n",
       "    </tr>\n",
       "    <tr>\n",
       "      <th>2</th>\n",
       "      <td>4</td>\n",
       "      <td>지인에소개로온 호텔  깨끗하고 좋은거같아요 처음에는 없는게 많아 많이  당황했는데 ...</td>\n",
       "      <td>1</td>\n",
       "    </tr>\n",
       "    <tr>\n",
       "      <th>3</th>\n",
       "      <td>5</td>\n",
       "      <td>방에 딱 들어서자마자 눈이 휘둥그레질정도로 이렇게 넓은 호텔 처음 와본 것 같아요!...</td>\n",
       "      <td>1</td>\n",
       "    </tr>\n",
       "    <tr>\n",
       "      <th>4</th>\n",
       "      <td>5</td>\n",
       "      <td>저녁에 맥주한잔 하는게 좋아서 렌트 안하고 뚜벅이 하기로 했는데 호텔 바로 앞에 버...</td>\n",
       "      <td>1</td>\n",
       "    </tr>\n",
       "  </tbody>\n",
       "</table>\n",
       "</div>"
      ],
      "text/plain": [
       "   rating                                               text  y\n",
       "0       4  여행에 집중할수 있게 편안한 휴식을 제공하는 호텔이었습니다. 위치선정 또한 적당한 ...  1\n",
       "1       4  2일 이상 연박시 침대, 이불, 베게등 침구류 교체 및 어메니티 보강이 필요해 보입...  1\n",
       "2       4  지인에소개로온 호텔  깨끗하고 좋은거같아요 처음에는 없는게 많아 많이  당황했는데 ...  1\n",
       "3       5  방에 딱 들어서자마자 눈이 휘둥그레질정도로 이렇게 넓은 호텔 처음 와본 것 같아요!...  1\n",
       "4       5  저녁에 맥주한잔 하는게 좋아서 렌트 안하고 뚜벅이 하기로 했는데 호텔 바로 앞에 버...  1"
      ]
     },
     "execution_count": 36,
     "metadata": {},
     "output_type": "execute_result"
    }
   ],
   "source": [
    "df.head()"
   ]
  },
  {
   "cell_type": "code",
   "execution_count": 37,
   "metadata": {
    "colab": {
     "base_uri": "https://localhost:8080/"
    },
    "executionInfo": {
     "elapsed": 3,
     "status": "ok",
     "timestamp": 1632448672286,
     "user": {
      "displayName": "팡팡",
      "photoUrl": "https://lh3.googleusercontent.com/a/default-user=s64",
      "userId": "08351897761321616592"
     },
     "user_tz": -540
    },
    "id": "FZi8MUaxDp2U",
    "outputId": "7490033a-e20e-4773-a8e7-2212495e6108"
   },
   "outputs": [
    {
     "data": {
      "text/plain": [
       "1    726\n",
       "0    275\n",
       "Name: y, dtype: int64"
      ]
     },
     "execution_count": 37,
     "metadata": {},
     "output_type": "execute_result"
    }
   ],
   "source": [
    "df.y.value_counts()"
   ]
  },
  {
   "cell_type": "markdown",
   "metadata": {
    "id": "ocEMVqzM-MdE"
   },
   "source": [
    "-----"
   ]
  },
  {
   "cell_type": "markdown",
   "metadata": {
    "id": "dK64F8GZ-N8s"
   },
   "source": []
  },
  {
   "cell_type": "markdown",
   "metadata": {
    "id": "Pe7BOBrW-OAw"
   },
   "source": [
    "### 4-2) 데이터셋 분리"
   ]
  },
  {
   "cell_type": "code",
   "execution_count": 38,
   "metadata": {
    "executionInfo": {
     "elapsed": 419,
     "status": "ok",
     "timestamp": 1632448716799,
     "user": {
      "displayName": "팡팡",
      "photoUrl": "https://lh3.googleusercontent.com/a/default-user=s64",
      "userId": "08351897761321616592"
     },
     "user_tz": -540
    },
    "id": "-Wxv-F3P-NEU"
   },
   "outputs": [],
   "source": [
    "from sklearn.model_selection import train_test_split\n",
    "\n",
    "y = df['y']\n",
    "x_train, x_test, y_train, y_test = train_test_split(tf_idf_vect, y, test_size=0.30)"
   ]
  },
  {
   "cell_type": "code",
   "execution_count": 39,
   "metadata": {
    "colab": {
     "base_uri": "https://localhost:8080/"
    },
    "executionInfo": {
     "elapsed": 3,
     "status": "ok",
     "timestamp": 1632448717221,
     "user": {
      "displayName": "팡팡",
      "photoUrl": "https://lh3.googleusercontent.com/a/default-user=s64",
      "userId": "08351897761321616592"
     },
     "user_tz": -540
    },
    "id": "rsDAFsCY-Unv",
    "outputId": "667c5278-39f9-4ed6-e768-aa0c2d06cce4"
   },
   "outputs": [
    {
     "name": "stdout",
     "output_type": "stream",
     "text": [
      "(700, 3599)\n",
      "(301, 3599)\n"
     ]
    }
   ],
   "source": [
    "print(x_train.shape)\n",
    "print(x_test.shape)"
   ]
  },
  {
   "cell_type": "markdown",
   "metadata": {
    "id": "pMkSIg7JD7rj"
   },
   "source": [
    "-----"
   ]
  },
  {
   "cell_type": "markdown",
   "metadata": {
    "id": "lHGviAneD7vN"
   },
   "source": [
    "### 4-3) 모델 학습"
   ]
  },
  {
   "cell_type": "markdown",
   "metadata": {
    "id": "kbez8JYXD7x-"
   },
   "source": [
    "##### Logistic Regression 학습"
   ]
  },
  {
   "cell_type": "code",
   "execution_count": 40,
   "metadata": {
    "executionInfo": {
     "elapsed": 285,
     "status": "ok",
     "timestamp": 1632448732818,
     "user": {
      "displayName": "팡팡",
      "photoUrl": "https://lh3.googleusercontent.com/a/default-user=s64",
      "userId": "08351897761321616592"
     },
     "user_tz": -540
    },
    "id": "rx7Ojv4TEBq3"
   },
   "outputs": [],
   "source": [
    "from sklearn.linear_model import LogisticRegression\n",
    "from sklearn.metrics import accuracy_score, precision_score, recall_score, f1_score\n",
    "\n",
    "# Train LR model\n",
    "lr = LogisticRegression(random_state=0)\n",
    "lr.fit(x_train, y_train)\n",
    "\n",
    "# classifiacation predict\n",
    "y_pred = lr.predict(x_test)"
   ]
  },
  {
   "cell_type": "markdown",
   "metadata": {
    "id": "eYOegz_7EKg8"
   },
   "source": [
    "##### 분류 결과 평가"
   ]
  },
  {
   "cell_type": "code",
   "execution_count": 41,
   "metadata": {
    "colab": {
     "base_uri": "https://localhost:8080/"
    },
    "executionInfo": {
     "elapsed": 1,
     "status": "ok",
     "timestamp": 1632448733188,
     "user": {
      "displayName": "팡팡",
      "photoUrl": "https://lh3.googleusercontent.com/a/default-user=s64",
      "userId": "08351897761321616592"
     },
     "user_tz": -540
    },
    "id": "lyLhjDwFEB8h",
    "outputId": "dff84761-753a-4243-cec6-4131a8ea1af7"
   },
   "outputs": [
    {
     "name": "stdout",
     "output_type": "stream",
     "text": [
      "accuracy: 0.74\n",
      "Precision : 0.732\n",
      "Recall : 1.000\n",
      "F1 : 0.845\n"
     ]
    }
   ],
   "source": [
    "# classification result for test dataset\n",
    "print(\"accuracy: %.2f\" % accuracy_score(y_test, y_pred))\n",
    "print(\"Precision : %.3f\" % precision_score(y_test, y_pred))\n",
    "print(\"Recall : %.3f\" % recall_score(y_test, y_pred))\n",
    "print(\"F1 : %.3f\" % f1_score(y_test, y_pred))"
   ]
  },
  {
   "cell_type": "code",
   "execution_count": 42,
   "metadata": {
    "colab": {
     "base_uri": "https://localhost:8080/"
    },
    "executionInfo": {
     "elapsed": 1,
     "status": "ok",
     "timestamp": 1632448733486,
     "user": {
      "displayName": "팡팡",
      "photoUrl": "https://lh3.googleusercontent.com/a/default-user=s64",
      "userId": "08351897761321616592"
     },
     "user_tz": -540
    },
    "id": "6gd3tmYXEJ32",
    "outputId": "77190ddc-a200-4d56-c5c2-4eab6e66f9a4"
   },
   "outputs": [
    {
     "name": "stdout",
     "output_type": "stream",
     "text": [
      "[[  6  79]\n",
      " [  0 216]]\n"
     ]
    }
   ],
   "source": [
    "from sklearn.metrics import confusion_matrix\n",
    "\n",
    "# print confusion matrix\n",
    "confmat = confusion_matrix(y_true=y_test, y_pred=y_pred)\n",
    "print(confmat)"
   ]
  },
  {
   "cell_type": "markdown",
   "metadata": {
    "id": "UHt-LenyEOnp"
   },
   "source": [
    "-----"
   ]
  },
  {
   "cell_type": "markdown",
   "metadata": {
    "id": "N70AyTZDEOuz"
   },
   "source": [
    "### 4-4) 샘플링 재조정"
   ]
  },
  {
   "cell_type": "markdown",
   "metadata": {
    "id": "3u1UonfVEWnR"
   },
   "source": [
    "##### 1:1 Sampling"
   ]
  },
  {
   "cell_type": "code",
   "execution_count": 43,
   "metadata": {
    "executionInfo": {
     "elapsed": 268,
     "status": "ok",
     "timestamp": 1632448822545,
     "user": {
      "displayName": "팡팡",
      "photoUrl": "https://lh3.googleusercontent.com/a/default-user=s64",
      "userId": "08351897761321616592"
     },
     "user_tz": -540
    },
    "id": "3BYUcp08ER7-"
   },
   "outputs": [],
   "source": [
    "positive_random_idx = df[df['y']==1].sample(275, random_state=33).index.tolist()\n",
    "negative_random_idx = df[df['y']==0].sample(275, random_state=33).index.tolist()"
   ]
  },
  {
   "cell_type": "code",
   "execution_count": 44,
   "metadata": {
    "executionInfo": {
     "elapsed": 1,
     "status": "ok",
     "timestamp": 1632448823611,
     "user": {
      "displayName": "팡팡",
      "photoUrl": "https://lh3.googleusercontent.com/a/default-user=s64",
      "userId": "08351897761321616592"
     },
     "user_tz": -540
    },
    "id": "HUTZegD7EVkc"
   },
   "outputs": [],
   "source": [
    "# dataset split to train/test\n",
    "random_idx = positive_random_idx + negative_random_idx\n",
    "X = tf_idf_vect[random_idx]\n",
    "y = df['y'][random_idx]\n",
    "x_train, x_test, y_train, y_test = train_test_split(X, y, test_size=0.25, random_state=33)"
   ]
  },
  {
   "cell_type": "code",
   "execution_count": 45,
   "metadata": {
    "colab": {
     "base_uri": "https://localhost:8080/"
    },
    "executionInfo": {
     "elapsed": 3,
     "status": "ok",
     "timestamp": 1632448823987,
     "user": {
      "displayName": "팡팡",
      "photoUrl": "https://lh3.googleusercontent.com/a/default-user=s64",
      "userId": "08351897761321616592"
     },
     "user_tz": -540
    },
    "id": "YHvy8WzGEaBy",
    "outputId": "f9472d9a-27e9-446e-a960-597e3005229b"
   },
   "outputs": [
    {
     "name": "stdout",
     "output_type": "stream",
     "text": [
      "(412, 3599)\n",
      "(138, 3599)\n"
     ]
    }
   ],
   "source": [
    "print(x_train.shape)\n",
    "print(x_test.shape)"
   ]
  },
  {
   "cell_type": "markdown",
   "metadata": {
    "id": "TDPgGZJeEfSd"
   },
   "source": [
    "##### 모델 재학습"
   ]
  },
  {
   "cell_type": "code",
   "execution_count": 46,
   "metadata": {
    "executionInfo": {
     "elapsed": 384,
     "status": "ok",
     "timestamp": 1632448840094,
     "user": {
      "displayName": "팡팡",
      "photoUrl": "https://lh3.googleusercontent.com/a/default-user=s64",
      "userId": "08351897761321616592"
     },
     "user_tz": -540
    },
    "id": "uFO_UsnCEbGB"
   },
   "outputs": [],
   "source": [
    "lr = LogisticRegression(random_state=0)\n",
    "lr.fit(x_train, y_train)\n",
    "y_pred = lr.predict(x_test)"
   ]
  },
  {
   "cell_type": "markdown",
   "metadata": {
    "id": "y3PqFXYAEjzQ"
   },
   "source": [
    "##### 분류 결과 평가"
   ]
  },
  {
   "cell_type": "code",
   "execution_count": 47,
   "metadata": {
    "colab": {
     "base_uri": "https://localhost:8080/"
    },
    "executionInfo": {
     "elapsed": 3,
     "status": "ok",
     "timestamp": 1632448840394,
     "user": {
      "displayName": "팡팡",
      "photoUrl": "https://lh3.googleusercontent.com/a/default-user=s64",
      "userId": "08351897761321616592"
     },
     "user_tz": -540
    },
    "id": "QKiAhKirEeOQ",
    "outputId": "3caf1d57-0953-45aa-a01b-2d39c7e3b008"
   },
   "outputs": [
    {
     "name": "stdout",
     "output_type": "stream",
     "text": [
      "accuracy: 0.72\n",
      "Precision : 0.644\n",
      "Recall : 0.797\n",
      "F1 : 0.712\n"
     ]
    }
   ],
   "source": [
    "print(\"accuracy: %.2f\" % accuracy_score(y_test, y_pred))\n",
    "print(\"Precision : %.3f\" % precision_score(y_test, y_pred))\n",
    "print(\"Recall : %.3f\" % recall_score(y_test, y_pred))\n",
    "print(\"F1 : %.3f\" % f1_score(y_test, y_pred))"
   ]
  },
  {
   "cell_type": "code",
   "execution_count": 48,
   "metadata": {
    "colab": {
     "base_uri": "https://localhost:8080/"
    },
    "executionInfo": {
     "elapsed": 2,
     "status": "ok",
     "timestamp": 1632448841232,
     "user": {
      "displayName": "팡팡",
      "photoUrl": "https://lh3.googleusercontent.com/a/default-user=s64",
      "userId": "08351897761321616592"
     },
     "user_tz": -540
    },
    "id": "uMRrUbU0Ei-B",
    "outputId": "94f53c35-3ba6-45d9-a8d5-aad9a64e0672"
   },
   "outputs": [
    {
     "name": "stdout",
     "output_type": "stream",
     "text": [
      "[[53 26]\n",
      " [12 47]]\n"
     ]
    }
   ],
   "source": [
    "confmat = confusion_matrix(y_true=y_test, y_pred=y_pred)\n",
    "print(confmat)"
   ]
  },
  {
   "cell_type": "markdown",
   "metadata": {
    "id": "GeQGRMLaFFLk"
   },
   "source": [
    "-----"
   ]
  },
  {
   "cell_type": "markdown",
   "metadata": {
    "id": "3Ob_KEwxFGvr"
   },
   "source": [
    "## 5) 긍정/부정 키워드 분석"
   ]
  },
  {
   "cell_type": "markdown",
   "metadata": {
    "id": "HVYQEDe0FNG0"
   },
   "source": [
    "##### Logistic Regression 모델의 coef 분석"
   ]
  },
  {
   "cell_type": "code",
   "execution_count": 49,
   "metadata": {
    "colab": {
     "base_uri": "https://localhost:8080/",
     "height": 500
    },
    "executionInfo": {
     "elapsed": 9256,
     "status": "ok",
     "timestamp": 1632448918462,
     "user": {
      "displayName": "팡팡",
      "photoUrl": "https://lh3.googleusercontent.com/a/default-user=s64",
      "userId": "08351897761321616592"
     },
     "user_tz": -540
    },
    "id": "D5rVvWCQElIa",
    "outputId": "e2f3159b-751e-4421-cda3-7d58d6b437a2"
   },
   "outputs": [
    {
     "data": {
      "text/plain": [
       "<BarContainer object of 3599 artists>"
      ]
     },
     "execution_count": 49,
     "metadata": {},
     "output_type": "execute_result"
    },
    {
     "data": {
      "image/png": "[encoded data removed]",
      "text/plain": [
       "<Figure size 720x576 with 1 Axes>"
      ]
     },
     "metadata": {
      "needs_background": "light"
     },
     "output_type": "display_data"
    }
   ],
   "source": [
    "# print logistic regression's coef\n",
    "# 단어의 분포 확인\n",
    "plt.rcParams['figure.figsize'] = [10, 8]\n",
    "plt.bar(range(len(lr.coef_[0])), lr.coef_[0])"
   ]
  },
  {
   "cell_type": "markdown",
   "metadata": {
    "id": "MvLq3hSpFUO7"
   },
   "source": [
    "##### 긍정/부정 키워드 출력"
   ]
  },
  {
   "cell_type": "code",
   "execution_count": 50,
   "metadata": {
    "colab": {
     "base_uri": "https://localhost:8080/"
    },
    "executionInfo": {
     "elapsed": 286,
     "status": "ok",
     "timestamp": 1632448934580,
     "user": {
      "displayName": "팡팡",
      "photoUrl": "https://lh3.googleusercontent.com/a/default-user=s64",
      "userId": "08351897761321616592"
     },
     "user_tz": -540
    },
    "id": "me2xwEybFTnD",
    "outputId": "0684233f-1067-42fd-ec18-e2a38c4eedbf"
   },
   "outputs": [
    {
     "name": "stdout",
     "output_type": "stream",
     "text": [
      "[(1.3321308087111168, 2400), (1.1098677278465363, 2977), (1.029120247844704, 1247), (0.9474432432978868, 2957), (0.9049132254229898, 26)]\n",
      "[(-0.6491883332225628, 363), (-0.6683241824194205, 3538), (-0.6811855513119685, 1909), (-0.9632209931825515, 1293), (-1.124500886987929, 515)]\n"
     ]
    }
   ],
   "source": [
    "# 긍정/부정키워드 5개씩\n",
    "print(sorted(((value, index) for index, value in enumerate(lr.coef_[0])), reverse=True)[:5])\n",
    "print(sorted(((value, index) for index, value in enumerate(lr.coef_[0])), reverse=True)[-5:])"
   ]
  },
  {
   "cell_type": "code",
   "execution_count": null,
   "metadata": {
    "id": "yGxlW37CFbd7"
   },
   "outputs": [],
   "source": [
    "# 상위 5개 인덱스\n",
    "coef_pos_index = sorted(((value, index) for index, value in enumerate(lr.coef_[0])), reverse=True)\n",
    "coef_neg_index = sorted(((value, index) for index, value in enumerate(lr.coef_[0])), reverse=False)\n",
    "coef_pos_index"
   ]
  },
  {
   "cell_type": "code",
   "execution_count": 52,
   "metadata": {
    "executionInfo": {
     "elapsed": 277,
     "status": "ok",
     "timestamp": 1632448982821,
     "user": {
      "displayName": "팡팡",
      "photoUrl": "https://lh3.googleusercontent.com/a/default-user=s64",
      "userId": "08351897761321616592"
     },
     "user_tz": -540
    },
    "id": "bQuDlc-GFbwJ"
   },
   "outputs": [],
   "source": [
    "invert_index_vectorizer = {v: k for k, v in vect.vocabulary_.items()}"
   ]
  },
  {
   "cell_type": "code",
   "execution_count": 53,
   "metadata": {
    "colab": {
     "base_uri": "https://localhost:8080/"
    },
    "executionInfo": {
     "elapsed": 285,
     "status": "ok",
     "timestamp": 1632449014941,
     "user": {
      "displayName": "팡팡",
      "photoUrl": "https://lh3.googleusercontent.com/a/default-user=s64",
      "userId": "08351897761321616592"
     },
     "user_tz": -540
    },
    "id": "eHkWYQM0FdNU",
    "outputId": "ad7fbc2b-8830-471f-cf82-81edec3ab9d3"
   },
   "outputs": [
    {
     "name": "stdout",
     "output_type": "stream",
     "text": [
      "이용 1.3321308087111168\n",
      "추천 1.1098677278465363\n",
      "버스 1.029120247844704\n",
      "최고 0.9474432432978868\n",
      "가성 0.9049132254229898\n",
      "근처 0.8631251640260484\n",
      "조식 0.8624237330200107\n",
      "다음 0.7848182816732695\n",
      "위치 0.732990219026413\n",
      "공간 0.716865493140725\n",
      "시설 0.7161355390234533\n",
      "맛집 0.7134163462461057\n",
      "거리 0.7044600617626677\n",
      "분위기 0.6869152801231841\n",
      "바다 0.6556108465327279\n"
     ]
    }
   ],
   "source": [
    "for coef in coef_pos_index[:15]:\n",
    "    print(invert_index_vectorizer[coef[1]], coef[0])"
   ]
  },
  {
   "cell_type": "code",
   "execution_count": 54,
   "metadata": {
    "colab": {
     "base_uri": "https://localhost:8080/"
    },
    "executionInfo": {
     "elapsed": 1,
     "status": "ok",
     "timestamp": 1632449015829,
     "user": {
      "displayName": "팡팡",
      "photoUrl": "https://lh3.googleusercontent.com/a/default-user=s64",
      "userId": "08351897761321616592"
     },
     "user_tz": -540
    },
    "id": "O0gRzUtXFeLX",
    "outputId": "3718ebf5-5b31-4775-a68f-16b00077e5c2"
   },
   "outputs": [
    {
     "name": "stdout",
     "output_type": "stream",
     "text": [
      "냄새 -1.124500886987929\n",
      "별로 -0.9632209931825515\n",
      "아무 -0.6811855513119685\n",
      "화장실 -0.6683241824194205\n",
      "그냥 -0.6491883332225628\n",
      "모기 -0.6302873381425533\n",
      "수건 -0.6243491941007028\n",
      "느낌 -0.5975494080979522\n",
      "모텔 -0.5971174361320487\n",
      "다른 -0.5966138818945081\n",
      "최악 -0.593317479621261\n",
      "음식 -0.5443424935120069\n",
      "주위 -0.5321043465183405\n",
      "진짜 -0.5254380815734122\n",
      "목욕 -0.5087212885846032\n"
     ]
    }
   ],
   "source": [
    "for coef in coef_neg_index[:15]:\n",
    "    print(invert_index_vectorizer[coef[1]], coef[0])"
   ]
  },
  {
   "cell_type": "code",
   "execution_count": null,
   "metadata": {
    "id": "fF8BtpB_FfkB"
   },
   "outputs": [],
   "source": []
  },
  {
   "cell_type": "code",
   "execution_count": null,
   "metadata": {
    "id": "TDYsTQ6HZTyw"
   },
   "outputs": [],
   "source": []
  }
 ],
 "metadata": {
  "colab": {
   "collapsed_sections": [],
   "name": "03_movie_textmining_(for_student).ipynb",
   "provenance": []
  },
  "kernelspec": {
   "display_name": "Python 3",
   "language": "python",
   "name": "python3"
  },
  "language_info": {
   "codemirror_mode": {
    "name": "ipython",
    "version": 3
   },
   "file_extension": ".py",
   "mimetype": "text/x-python",
   "name": "python",
   "nbconvert_exporter": "python",
   "pygments_lexer": "ipython3",
   "version": "3.9.4"
  },
  "toc": {
   "base_numbering": 1,
   "nav_menu": {},
   "number_sections": true,
   "sideBar": true,
   "skip_h1_title": false,
   "title_cell": "Table of Contents",
   "title_sidebar": "Contents",
   "toc_cell": false,
   "toc_position": {},
   "toc_section_display": true,
   "toc_window_display": false
  },
  "varInspector": {
   "cols": {
    "lenName": 16,
    "lenType": 16,
    "lenVar": 40
   },
   "kernels_config": {
    "python": {
     "delete_cmd_postfix": "",
     "delete_cmd_prefix": "del ",
     "library": "var_list.py",
     "varRefreshCmd": "print(var_dic_list())"
    },
    "r": {
     "delete_cmd_postfix": ") ",
     "delete_cmd_prefix": "rm(",
     "library": "var_list.r",
     "varRefreshCmd": "cat(var_dic_list()) "
    }
   },
   "types_to_exclude": [
    "module",
    "function",
    "builtin_function_or_method",
    "instance",
    "_Feature"
   ],
   "window_display": false
  }
 },
 "nbformat": 4,
 "nbformat_minor": 1
}
