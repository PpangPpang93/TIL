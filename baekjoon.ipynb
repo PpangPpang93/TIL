{
 "cells": [
  {
   "cell_type": "code",
   "execution_count": 1,
   "metadata": {},
   "outputs": [
    {
     "name": "stdout",
     "output_type": "stream",
     "text": [
      "60\n"
     ]
    }
   ],
   "source": [
    "first_num = input()\n",
    "count = 0\n",
    "\n",
    "while True:\n",
    "    first_info = first_num\n",
    "\n",
    "    if count == 0:\n",
    "        a = first_num\n",
    "    else:\n",
    "        a= next_num\n",
    "\n",
    "    if len(a) == 1:\n",
    "        a = '0'+str(a)\n",
    "        \n",
    "    front_num = int(a[0])\n",
    "    back_num = int(a[1])\n",
    "\n",
    "    temp_num = front_num + back_num\n",
    "    if len(str(temp_num)) == 1:\n",
    "        temp_str = '0'+str(temp_num)\n",
    "    else:\n",
    "        temp_str = str(temp_num)\n",
    "\n",
    "    next_num = str(back_num)+temp_str[1]\n",
    "    count += 1\n",
    "\n",
    "    if int(first_info)==int(next_num):\n",
    "        break\n",
    "print(count)"
   ]
  },
  {
   "cell_type": "code",
   "execution_count": 6,
   "metadata": {},
   "outputs": [
    {
     "name": "stdout",
     "output_type": "stream",
     "text": [
      "1 4\n"
     ]
    }
   ],
   "source": [
    "counts = int(input())\n",
    "num_list = list(map(int, input().split()))\n",
    "print(min(num_list), max(num_list))"
   ]
  },
  {
   "cell_type": "code",
   "execution_count": 8,
   "metadata": {},
   "outputs": [],
   "source": [
    "num1 = int(input())\n",
    "num2 = int(input())\n",
    "num3 = int(input())\n",
    "\n",
    "multi = num1*num2*num3\n",
    "\n",
    "num_list = [0,0,0,0,0,0,0,0,0,0]\n",
    "for i in str(multi):\n",
    "    for n in range(10):\n",
    "        if int(i) == n :\n",
    "            num_list[n] += 1\n",
    "\n",
    "for n in num_list:\n",
    "    print(n)"
   ]
  },
  {
   "cell_type": "code",
   "execution_count": 39,
   "metadata": {},
   "outputs": [
    {
     "name": "stdout",
     "output_type": "stream",
     "text": [
      "8\n"
     ]
    }
   ],
   "source": [
    "num_list = [int(input()) for i in range(10)]\n",
    "divide_list = [None for i in range(10)]\n",
    "cnt = []\n",
    "for i in range(10):\n",
    "    divide_list[i] = num_list[i]%42\n",
    "    if divide_list[i] not in cnt:\n",
    "        cnt.append(divide_list[i])\n",
    "print(len(cnt))"
   ]
  },
  {
   "cell_type": "code",
   "execution_count": 50,
   "metadata": {},
   "outputs": [
    {
     "name": "stdout",
     "output_type": "stream",
     "text": [
      "75.0\n"
     ]
    }
   ],
   "source": [
    "subject = int(input())\n",
    "num_list = list(map(int, input().split()))\n",
    "\n",
    "M = max(num_list)\n",
    "num_new =[]\n",
    "for i in num_list:\n",
    "    num_new.append(i/M*100)\n",
    "print(sum(num_new)/len(num_new))"
   ]
  },
  {
   "cell_type": "code",
   "execution_count": 53,
   "metadata": {},
   "outputs": [
    {
     "data": {
      "text/plain": [
       "6"
      ]
     },
     "execution_count": 53,
     "metadata": {},
     "output_type": "execute_result"
    }
   ],
   "source": [
    "ans = 'OOXXOXXOOO'\n",
    "score = 0\n",
    "o_score = 0\n",
    "for i in range(len(ans)):\n",
    "    if ans[i]=='O':\n",
    "        o_score += 1\n",
    "        score += o_score\n",
    "    else:\n",
    "        o_score = 1\n",
    "score"
   ]
  },
  {
   "cell_type": "code",
   "execution_count": null,
   "metadata": {},
   "outputs": [],
   "source": []
  },
  {
   "cell_type": "code",
   "execution_count": null,
   "metadata": {},
   "outputs": [],
   "source": []
  }
 ],
 "metadata": {
  "kernelspec": {
   "display_name": "Python 3.9.12 ('ppangppang')",
   "language": "python",
   "name": "python3"
  },
  "language_info": {
   "codemirror_mode": {
    "name": "ipython",
    "version": 3
   },
   "file_extension": ".py",
   "mimetype": "text/x-python",
   "name": "python",
   "nbconvert_exporter": "python",
   "pygments_lexer": "ipython3",
   "version": "3.9.12"
  },
  "orig_nbformat": 4,
  "vscode": {
   "interpreter": {
    "hash": "540344b0f56104dd127b2095bce08ee86d218da1ed9f9c0f54f4f6a1198c7eef"
   }
  }
 },
 "nbformat": 4,
 "nbformat_minor": 2
}
