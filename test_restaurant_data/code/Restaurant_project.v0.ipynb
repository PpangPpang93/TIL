{
 "cells": [
  {
   "cell_type": "markdown",
   "id": "0f309069",
   "metadata": {},
   "source": [
    "# 개요\n",
    "## 주제 : 전국 지역별 맛집 정보 수집\n",
    "- 전국 구별 맛집 정보 리스트화 및 도식화\n",
    "- 단, 서울,인천,경기,부산 등 인구밀도가 높은 지역은 동별까지 확인할 계획(1차: 구단위 파악 / 2차: 동단위 파악)\n",
    "\n",
    "## 작업내용\n",
    "- 일전에 작업한 내용을 토대로, 음식에 대한 모든 카테고리 수집\n",
    "- 코드별로 구분된 읍면동 데이터에서 '구 + 음식명' 컬럼 생성(중복의 경우, 시도명칭 포함예정)\n",
    "- 각 지역구별 모든 카테고리에 해당하는 맛집 리스트 수집\n",
    "\n",
    "## 작업방식 : 동적크롤링 활용\n",
    "- [확인필] 구글맵\n",
    "- [확인필] 카카오맵\n",
    "- [확인필] 네이버맵\n",
    "- [가능] 다이닝코드 : 크롤링이 비교적 쉽게 가능한 편이지만, 맛집 점수에 대한 신뢰도가 많이 낮은편이다\n",
    "- [불가능] 망코플레이트 : 동적크롤링 페이지 넘김 불가능. 첫번째 페이지 대한 정보만으로 괜찮다면 활용이 가능은 하다\n",
    "\n",
    "## 참고사항\n",
    "- 시도/시군구/읍면동 코드 csv file / geopandas용 polygon shp파일\n",
    "  - 현재 도식화를 하는 방법을 어떻게 활용할지 구성적으로도, 기술적으로도 미흡한 상태로 자료와 방법만 일단 확인해두자\n",
    "- 네이버/다음 블로그 글 크롤링도 방법일것 같으나, 데이터 정리가 쉽지 않을 것 같음\n"
   ]
  },
  {
   "cell_type": "markdown",
   "id": "a5843766",
   "metadata": {},
   "source": [
    "# 필요패키지 호출 및 세팅"
   ]
  },
  {
   "cell_type": "code",
   "execution_count": 1,
   "id": "f2f322e2",
   "metadata": {
    "ExecuteTime": {
     "end_time": "2021-10-28T00:53:54.174431Z",
     "start_time": "2021-10-28T00:53:53.102395Z"
    }
   },
   "outputs": [],
   "source": [
    "# 기본세팅\n",
    "import pandas as pd\n",
    "import numpy as np\n",
    "import matplotlib.pyplot as plt\n",
    "import seaborn as sns\n",
    "import time\n",
    "import datetime\n",
    "import random\n",
    "import glob\n",
    "import os\n",
    "import geopandas as gpd\n",
    "\n",
    "# 크롤링용\n",
    "from pandas.io.json import json_normalize\n",
    "from bs4 import BeautifulSoup\n",
    "import json\n",
    "import requests\n",
    "from selenium import webdriver\n",
    "from selenium.webdriver.common.keys import Keys\n",
    "\n",
    "# 컬럼, 로우 조회 최대수 지정 \n",
    "pd.options.display.max_info_columns =200\n",
    "pd.options.display.max_columns = 200\n",
    "pd.options.display.max_info_rows =100\n",
    "pd.options.display.max_rows = 100\n",
    "\n",
    "# 시각화할때 warning 무시\n",
    "import warnings\n",
    "warnings.filterwarnings(action='ignore')\n",
    "\n",
    "# 시각화시, 한글 깨짐 방지 폰트\n",
    "import matplotlib.font_manager as fm\n",
    "from matplotlib import rc\n",
    "rc('font', family='AppleGothic')\n",
    "plt.rcParams['axes.unicode_minus'] = False"
   ]
  },
  {
   "cell_type": "markdown",
   "id": "74b64f4d",
   "metadata": {
    "ExecuteTime": {
     "end_time": "2021-10-24T03:11:17.368265Z",
     "start_time": "2021-10-24T03:11:17.365664Z"
    }
   },
   "source": [
    "# 사전작업\n",
    "1. 지역정보 호출\n",
    "2. 시군구별 정리(중복 확인해서 중복있을시, 시도명칭 같이 표기) -> 새로운 컬럼생성\n",
    "3. 음식리스트 확보 => 카테고리 3600개로 시간이 걸리더라도 처리가 필요(이후 작업을 위해)\n",
    "4. 시군구 컬럼 + 음식리스트 호출을 편하게 할 수 있도록 정리"
   ]
  },
  {
   "cell_type": "code",
   "execution_count": 2,
   "id": "3fa14f45",
   "metadata": {
    "ExecuteTime": {
     "end_time": "2021-10-28T00:54:09.657131Z",
     "start_time": "2021-10-28T00:54:09.595258Z"
    }
   },
   "outputs": [
    {
     "data": {
      "text/html": [
       "<div>\n",
       "<style scoped>\n",
       "    .dataframe tbody tr th:only-of-type {\n",
       "        vertical-align: middle;\n",
       "    }\n",
       "\n",
       "    .dataframe tbody tr th {\n",
       "        vertical-align: top;\n",
       "    }\n",
       "\n",
       "    .dataframe thead th {\n",
       "        text-align: right;\n",
       "    }\n",
       "</style>\n",
       "<table border=\"1\" class=\"dataframe\">\n",
       "  <thead>\n",
       "    <tr style=\"text-align: right;\">\n",
       "      <th></th>\n",
       "      <th>시도코드</th>\n",
       "      <th>시도명칭</th>\n",
       "      <th>시도약어</th>\n",
       "      <th>시군구코드</th>\n",
       "      <th>시군구명칭</th>\n",
       "      <th>읍면동코드</th>\n",
       "      <th>읍면동명칭</th>\n",
       "      <th>전체코드</th>\n",
       "    </tr>\n",
       "  </thead>\n",
       "  <tbody>\n",
       "    <tr>\n",
       "      <th>0</th>\n",
       "      <td>11</td>\n",
       "      <td>서울특별시</td>\n",
       "      <td>서울</td>\n",
       "      <td>11010</td>\n",
       "      <td>종로구</td>\n",
       "      <td>1101053</td>\n",
       "      <td>사직동</td>\n",
       "      <td>11110101101053</td>\n",
       "    </tr>\n",
       "    <tr>\n",
       "      <th>1</th>\n",
       "      <td>11</td>\n",
       "      <td>서울특별시</td>\n",
       "      <td>서울</td>\n",
       "      <td>11010</td>\n",
       "      <td>종로구</td>\n",
       "      <td>1101054</td>\n",
       "      <td>삼청동</td>\n",
       "      <td>11110101101054</td>\n",
       "    </tr>\n",
       "    <tr>\n",
       "      <th>2</th>\n",
       "      <td>11</td>\n",
       "      <td>서울특별시</td>\n",
       "      <td>서울</td>\n",
       "      <td>11010</td>\n",
       "      <td>종로구</td>\n",
       "      <td>1101055</td>\n",
       "      <td>부암동</td>\n",
       "      <td>11110101101055</td>\n",
       "    </tr>\n",
       "    <tr>\n",
       "      <th>3</th>\n",
       "      <td>11</td>\n",
       "      <td>서울특별시</td>\n",
       "      <td>서울</td>\n",
       "      <td>11010</td>\n",
       "      <td>종로구</td>\n",
       "      <td>1101056</td>\n",
       "      <td>평창동</td>\n",
       "      <td>11110101101056</td>\n",
       "    </tr>\n",
       "    <tr>\n",
       "      <th>4</th>\n",
       "      <td>11</td>\n",
       "      <td>서울특별시</td>\n",
       "      <td>서울</td>\n",
       "      <td>11010</td>\n",
       "      <td>종로구</td>\n",
       "      <td>1101057</td>\n",
       "      <td>무악동</td>\n",
       "      <td>11110101101057</td>\n",
       "    </tr>\n",
       "    <tr>\n",
       "      <th>...</th>\n",
       "      <td>...</td>\n",
       "      <td>...</td>\n",
       "      <td>...</td>\n",
       "      <td>...</td>\n",
       "      <td>...</td>\n",
       "      <td>...</td>\n",
       "      <td>...</td>\n",
       "      <td>...</td>\n",
       "    </tr>\n",
       "    <tr>\n",
       "      <th>3488</th>\n",
       "      <td>39</td>\n",
       "      <td>제주특별자치도</td>\n",
       "      <td>제주</td>\n",
       "      <td>39020</td>\n",
       "      <td>서귀포시</td>\n",
       "      <td>3902058</td>\n",
       "      <td>서홍동</td>\n",
       "      <td>39390203902058</td>\n",
       "    </tr>\n",
       "    <tr>\n",
       "      <th>3489</th>\n",
       "      <td>39</td>\n",
       "      <td>제주특별자치도</td>\n",
       "      <td>제주</td>\n",
       "      <td>39020</td>\n",
       "      <td>서귀포시</td>\n",
       "      <td>3902059</td>\n",
       "      <td>대륜동</td>\n",
       "      <td>39390203902059</td>\n",
       "    </tr>\n",
       "    <tr>\n",
       "      <th>3490</th>\n",
       "      <td>39</td>\n",
       "      <td>제주특별자치도</td>\n",
       "      <td>제주</td>\n",
       "      <td>39020</td>\n",
       "      <td>서귀포시</td>\n",
       "      <td>3902060</td>\n",
       "      <td>대천동</td>\n",
       "      <td>39390203902060</td>\n",
       "    </tr>\n",
       "    <tr>\n",
       "      <th>3491</th>\n",
       "      <td>39</td>\n",
       "      <td>제주특별자치도</td>\n",
       "      <td>제주</td>\n",
       "      <td>39020</td>\n",
       "      <td>서귀포시</td>\n",
       "      <td>3902061</td>\n",
       "      <td>중문동</td>\n",
       "      <td>39390203902061</td>\n",
       "    </tr>\n",
       "    <tr>\n",
       "      <th>3492</th>\n",
       "      <td>39</td>\n",
       "      <td>제주특별자치도</td>\n",
       "      <td>제주</td>\n",
       "      <td>39020</td>\n",
       "      <td>서귀포시</td>\n",
       "      <td>3902062</td>\n",
       "      <td>예래동</td>\n",
       "      <td>39390203902062</td>\n",
       "    </tr>\n",
       "  </tbody>\n",
       "</table>\n",
       "<p>3493 rows × 8 columns</p>\n",
       "</div>"
      ],
      "text/plain": [
       "      시도코드     시도명칭 시도약어  시군구코드 시군구명칭    읍면동코드 읍면동명칭            전체코드\n",
       "0       11    서울특별시   서울  11010   종로구  1101053   사직동  11110101101053\n",
       "1       11    서울특별시   서울  11010   종로구  1101054   삼청동  11110101101054\n",
       "2       11    서울특별시   서울  11010   종로구  1101055   부암동  11110101101055\n",
       "3       11    서울특별시   서울  11010   종로구  1101056   평창동  11110101101056\n",
       "4       11    서울특별시   서울  11010   종로구  1101057   무악동  11110101101057\n",
       "...    ...      ...  ...    ...   ...      ...   ...             ...\n",
       "3488    39  제주특별자치도   제주  39020  서귀포시  3902058   서홍동  39390203902058\n",
       "3489    39  제주특별자치도   제주  39020  서귀포시  3902059   대륜동  39390203902059\n",
       "3490    39  제주특별자치도   제주  39020  서귀포시  3902060   대천동  39390203902060\n",
       "3491    39  제주특별자치도   제주  39020  서귀포시  3902061   중문동  39390203902061\n",
       "3492    39  제주특별자치도   제주  39020  서귀포시  3902062   예래동  39390203902062\n",
       "\n",
       "[3493 rows x 8 columns]"
      ]
     },
     "execution_count": 2,
     "metadata": {},
     "output_type": "execute_result"
    }
   ],
   "source": [
    "location_df = pd.read_csv('/Users/ppangppang/Desktop/ssac/data_crwaling/restaurant_test/adm_code.csv',engine = 'python')\n",
    "location_df"
   ]
  },
  {
   "cell_type": "code",
   "execution_count": 3,
   "id": "291a0eb6",
   "metadata": {
    "ExecuteTime": {
     "end_time": "2021-10-28T00:54:10.819585Z",
     "start_time": "2021-10-28T00:54:10.792712Z"
    }
   },
   "outputs": [],
   "source": [
    "# 시군구 리스트 생성\n",
    "location_df2 = location_df.copy()\n",
    "location_df2['시군구'] = location_df2['시도약어'] + location_df2['시군구명칭']\n",
    "location_df2 = location_df2['시군구']\n",
    "location_df2.drop_duplicates(inplace=True)\n",
    "location_df2.index = range(len(location_df2))\n",
    "location_df2.loc[74] = '세종시'"
   ]
  },
  {
   "cell_type": "code",
   "execution_count": 4,
   "id": "1c03a5fd",
   "metadata": {
    "ExecuteTime": {
     "end_time": "2021-10-28T00:54:12.329426Z",
     "start_time": "2021-10-28T00:54:12.326369Z"
    }
   },
   "outputs": [],
   "source": [
    "# # 음식 food_cat 원본\n",
    "# df=pd.read_csv('/Users/ppangppang/Desktop/ssac/data_crwaling/restaurant_test/databackup/211010_restaurant_list.csv')\n",
    "\n",
    "# f_list = (list(df['summary']))\n",
    "# f_name=[]\n",
    "# for name in f_list:\n",
    "#     try:\n",
    "#         f_name += name.split(', ')\n",
    "#     except:\n",
    "#         f_name += str(name)\n",
    "\n",
    "# # 음식이름 중복 1차 거르기\n",
    "# food=[]\n",
    "# for ss in f_name:\n",
    "#     if ss not in food:\n",
    "#         food.append(ss)\n",
    "# food.sort()\n",
    "# food = pd.DataFrame(food,columns=['list'])\n",
    "# # food.to_excel('/Users/ppangppang/Desktop/test.xlsx')\n",
    "# # 엑셀에서 중복내용 정리"
   ]
  },
  {
   "cell_type": "code",
   "execution_count": 5,
   "id": "f641abde",
   "metadata": {
    "ExecuteTime": {
     "end_time": "2021-10-28T00:54:12.692721Z",
     "start_time": "2021-10-28T00:54:12.687465Z"
    }
   },
   "outputs": [],
   "source": [
    "# food_cat 정제한거"
   ]
  },
  {
   "cell_type": "code",
   "execution_count": 6,
   "id": "cbf699e4",
   "metadata": {
    "ExecuteTime": {
     "end_time": "2021-10-28T00:54:14.697405Z",
     "start_time": "2021-10-28T00:54:14.471941Z"
    }
   },
   "outputs": [],
   "source": [
    "food_cat = pd.read_excel('/Users/ppangppang/Desktop/food_cat.xlsx')\n",
    "food_cat.drop(columns='Unnamed: 0',axis=1, inplace=True)"
   ]
  },
  {
   "cell_type": "code",
   "execution_count": 7,
   "id": "3389b489",
   "metadata": {
    "ExecuteTime": {
     "end_time": "2021-10-28T00:54:16.110767Z",
     "start_time": "2021-10-28T00:54:16.099824Z"
    }
   },
   "outputs": [
    {
     "data": {
      "text/html": [
       "<div>\n",
       "<style scoped>\n",
       "    .dataframe tbody tr th:only-of-type {\n",
       "        vertical-align: middle;\n",
       "    }\n",
       "\n",
       "    .dataframe tbody tr th {\n",
       "        vertical-align: top;\n",
       "    }\n",
       "\n",
       "    .dataframe thead th {\n",
       "        text-align: right;\n",
       "    }\n",
       "</style>\n",
       "<table border=\"1\" class=\"dataframe\">\n",
       "  <thead>\n",
       "    <tr style=\"text-align: right;\">\n",
       "      <th></th>\n",
       "      <th>list</th>\n",
       "    </tr>\n",
       "  </thead>\n",
       "  <tbody>\n",
       "    <tr>\n",
       "      <th>0</th>\n",
       "      <td>가라아게</td>\n",
       "    </tr>\n",
       "    <tr>\n",
       "      <th>1</th>\n",
       "      <td>가래떡</td>\n",
       "    </tr>\n",
       "    <tr>\n",
       "      <th>2</th>\n",
       "      <td>가리국밥</td>\n",
       "    </tr>\n",
       "  </tbody>\n",
       "</table>\n",
       "</div>"
      ],
      "text/plain": [
       "   list\n",
       "0  가라아게\n",
       "1   가래떡\n",
       "2  가리국밥"
      ]
     },
     "execution_count": 7,
     "metadata": {},
     "output_type": "execute_result"
    }
   ],
   "source": [
    "food_cat.head(3)"
   ]
  },
  {
   "cell_type": "code",
   "execution_count": null,
   "id": "b227af82",
   "metadata": {},
   "outputs": [],
   "source": []
  },
  {
   "cell_type": "code",
   "execution_count": null,
   "id": "f0d02271",
   "metadata": {},
   "outputs": [],
   "source": []
  },
  {
   "cell_type": "code",
   "execution_count": null,
   "id": "2c634189",
   "metadata": {},
   "outputs": [],
   "source": []
  },
  {
   "cell_type": "code",
   "execution_count": null,
   "id": "74674600",
   "metadata": {},
   "outputs": [],
   "source": []
  },
  {
   "cell_type": "code",
   "execution_count": null,
   "id": "8863ab3e",
   "metadata": {},
   "outputs": [],
   "source": []
  },
  {
   "cell_type": "code",
   "execution_count": null,
   "id": "19d2edc2",
   "metadata": {},
   "outputs": [],
   "source": []
  },
  {
   "cell_type": "code",
   "execution_count": null,
   "id": "0aa77640",
   "metadata": {},
   "outputs": [],
   "source": []
  },
  {
   "cell_type": "code",
   "execution_count": null,
   "id": "0287d727",
   "metadata": {},
   "outputs": [],
   "source": []
  },
  {
   "cell_type": "code",
   "execution_count": null,
   "id": "f02676bf",
   "metadata": {},
   "outputs": [],
   "source": []
  },
  {
   "cell_type": "code",
   "execution_count": null,
   "id": "743d1604",
   "metadata": {},
   "outputs": [],
   "source": []
  },
  {
   "cell_type": "code",
   "execution_count": null,
   "id": "151005ed",
   "metadata": {},
   "outputs": [],
   "source": []
  },
  {
   "cell_type": "code",
   "execution_count": null,
   "id": "63797afb",
   "metadata": {},
   "outputs": [],
   "source": []
  },
  {
   "cell_type": "code",
   "execution_count": null,
   "id": "c9705caf",
   "metadata": {},
   "outputs": [],
   "source": []
  },
  {
   "cell_type": "code",
   "execution_count": null,
   "id": "30c76a1d",
   "metadata": {},
   "outputs": [],
   "source": []
  },
  {
   "cell_type": "code",
   "execution_count": null,
   "id": "ff670c90",
   "metadata": {},
   "outputs": [],
   "source": []
  },
  {
   "cell_type": "markdown",
   "id": "76b9dffc",
   "metadata": {
    "ExecuteTime": {
     "end_time": "2021-10-24T03:15:42.792544Z",
     "start_time": "2021-10-24T03:15:42.789728Z"
    }
   },
   "source": [
    "# 크롤링코드\n",
    "- 다이닝코드, 구글맵, 카카오맵, 네이버맵"
   ]
  },
  {
   "cell_type": "markdown",
   "id": "a0ef3b27",
   "metadata": {},
   "source": [
    "## 다이닝코드"
   ]
  },
  {
   "cell_type": "code",
   "execution_count": null,
   "id": "39fb719c",
   "metadata": {},
   "outputs": [],
   "source": [
    "# target을 먼저 만들고 실행\n",
    "\n",
    "search_list = target\n",
    "\n",
    "dining_restaurant_df = pd.DataFrame()\n",
    "date=str(datetime.date.today()).replace('-','')[2:]\n",
    "\n",
    "for f_name in search_list:\n",
    "    url = f'https://www.diningcode.com/list.php?query={f_name}'\n",
    "    \n",
    "    seed = np.random.randint(100)\n",
    "    np.random.seed(seed)    \n",
    "    a = np.random.randint(5)\n",
    "    time.sleep(a)\n",
    "    try:\n",
    "        response = requests.get(url) \n",
    "    except:\n",
    "        print('page error')\n",
    "        break\n",
    "        \n",
    "    data = BeautifulSoup(response.text, 'html.parser')\n",
    "\n",
    "    # 순위제거(상황봐서 순위 넣으려면 반복문만 주석처리)\n",
    "    store = [name.text for name in data.select('span.btxt')]\n",
    "    for i in range(len(store)):\n",
    "        store[i] = store[i][3:]\n",
    "\n",
    "    # 주소정보\n",
    "    summary = [s_mary.text for s_mary in data.select('span.stxt')]\n",
    "    sub_loca = [sub.text for sub in data.select('i.loca')]\n",
    "    full_loca = [full_l.text for full_l in data.select('span.ctxt')][1::2]\n",
    "\n",
    "    # full_loca 중복처리\n",
    "    try:\n",
    "        for i in range(len(full_loca)):\n",
    "            if full_loca[i][0:len(sub_loca[i])] == sub_loca[i]:\n",
    "                full_loca[i] = full_loca[i][len(sub_loca[i]):]\n",
    "            else:\n",
    "                pass\n",
    "    except: pass\n",
    "    \n",
    "    # 카테고리 지정\n",
    "    category = [f_name] * len(full_loca)\n",
    "    food_cat = [f_name[3:]] * len(full_loca)\n",
    "    \n",
    "    # 점수\n",
    "    score = [point.text for point in data.select('span.point')]\n",
    "\n",
    "    cat_df = pd.DataFrame(columns=['category','food_cat','store','score','summary','sub_loca','full_loca'], data=list(zip(category,food_cat,store,score,summary,sub_loca,full_loca)))\n",
    "    temp = cat_df\n",
    "    dining_restaurant_df = pd.concat([dining_restaurant_df,temp])\n",
    "    dining_restaurant_df.index=range(1,len(dining_restaurant_df)+1)\n",
    "    print(f'{f_name} 크롤링 완료')\n",
    "\n",
    "print('\\n *****크롤링완료*****')\n",
    "\n",
    "# 데이터저장\n",
    "# dining_restaurant_df.to_csv(f'/Users/ppangppang/Documents/dev/TIL/test_restaurant_data/{date}_dining_restaurant_list.csv',index=False)\n",
    "# 백업\n",
    "# dining_restaurant_df.to_csv(f'/Users/ppangppang/Desktop/ssac/data_crwaling/restaurant_test/databackup/{date}_restaurant_dining_list.csv',index=False)"
   ]
  },
  {
   "cell_type": "code",
   "execution_count": null,
   "id": "c4f168f3",
   "metadata": {
    "ExecuteTime": {
     "end_time": "2021-10-22T04:49:33.401303Z",
     "start_time": "2021-10-22T04:49:33.367280Z"
    },
    "scrolled": true
   },
   "outputs": [],
   "source": [
    "# 작업파일 중복 가게 제거\n",
    "df = pd.read_csv(f'/Users/ppangppang/Desktop/ssac/data_crwaling/restaurant_test/databackup/{date}_restaurant_dining_list.csv'')\n",
    "df.drop_duplicates(['store'],inplace=True)\n",
    "df.index = range(len(df))\n",
    "df"
   ]
  },
  {
   "cell_type": "code",
   "execution_count": 181,
   "id": "b5f70dca",
   "metadata": {
    "ExecuteTime": {
     "end_time": "2021-10-22T04:49:34.243509Z",
     "start_time": "2021-10-22T04:49:33.989466Z"
    },
    "scrolled": true
   },
   "outputs": [],
   "source": [
    "df.to_excel('/Users/ppangppang/Desktop/맛집리스트확인/select/test.xlsx',index=False)"
   ]
  },
  {
   "cell_type": "code",
   "execution_count": 174,
   "id": "6be7c00c",
   "metadata": {
    "ExecuteTime": {
     "end_time": "2021-10-22T01:44:14.871014Z",
     "start_time": "2021-10-22T01:44:14.869610Z"
    },
    "scrolled": true
   },
   "outputs": [],
   "source": [
    "# 상위점수 구분(30점 이상만)\n",
    "# a = list(df['score'])\n",
    "# for i in range(len(a)):\n",
    "#     a[i] = int(a[i][:-1])\n",
    "# df['re_score'] = a\n",
    "# df = df[df['re_score']>=30]\n",
    "# df.index=range(len(df))\n",
    "# df.drop(['re_score'],axis=1,inplace=True)\n",
    "# df=df.sort_values('score',ascending=False)"
   ]
  },
  {
   "cell_type": "code",
   "execution_count": null,
   "id": "c540a8b9",
   "metadata": {},
   "outputs": [],
   "source": []
  },
  {
   "cell_type": "markdown",
   "id": "9a89d060",
   "metadata": {
    "ExecuteTime": {
     "end_time": "2021-10-24T03:29:05.617176Z",
     "start_time": "2021-10-24T03:29:05.614160Z"
    }
   },
   "source": [
    "## 구글맵"
   ]
  },
  {
   "cell_type": "markdown",
   "id": "6298b192",
   "metadata": {},
   "source": [
    "- class가 안먹음"
   ]
  },
  {
   "cell_type": "code",
   "execution_count": null,
   "id": "8162141a",
   "metadata": {},
   "outputs": [],
   "source": []
  },
  {
   "cell_type": "code",
   "execution_count": null,
   "id": "63267692",
   "metadata": {},
   "outputs": [],
   "source": []
  },
  {
   "cell_type": "code",
   "execution_count": null,
   "id": "a95c6613",
   "metadata": {
    "ExecuteTime": {
     "end_time": "2021-10-28T02:16:41.024836Z",
     "start_time": "2021-10-28T02:16:38.391118Z"
    },
    "scrolled": false
   },
   "outputs": [],
   "source": [
    "url = 'https://www.google.com/maps/search/강동구+돈까스/@37.5164649,127.0947049,12z/data=!3m1!4b1?hl=ko'\n",
    "    \n",
    "# seed = np.random.randint(100)\n",
    "# np.random.seed(seed)    \n",
    "# a = np.random.randint(5)\n",
    "# time.sleep(a)\n",
    "\n",
    "response = requests.get(url) \n",
    "response\n",
    "\n",
    "# data = BeautifulSoup(response.text, 'html.parser')\n",
    "\n",
    "test = data.select('div')\n",
    "test\n",
    "\n",
    "# # 순위제거(상황봐서 순위 넣으려면 반복문만 주석처리)\n",
    "# store = [name.text for name in data.select('span.btxt')]\n",
    "# for i in range(len(store)):\n",
    "#     store[i] = store[i][3:]\n",
    "\n",
    "# # 주소정보\n",
    "# summary = [s_mary.text for s_mary in data.select('span.stxt')]\n",
    "# sub_loca = [sub.text for sub in data.select('i.loca')]\n",
    "# full_loca = [full_l.text for full_l in data.select('span.ctxt')][1::2]"
   ]
  },
  {
   "cell_type": "code",
   "execution_count": null,
   "id": "03d62703",
   "metadata": {},
   "outputs": [],
   "source": []
  },
  {
   "cell_type": "markdown",
   "id": "eaa81120",
   "metadata": {},
   "source": [
    "## 카카오맵"
   ]
  },
  {
   "cell_type": "markdown",
   "id": "8ab1ba49",
   "metadata": {},
   "source": [
    "- 셀레니움해야할듯"
   ]
  },
  {
   "cell_type": "code",
   "execution_count": 24,
   "id": "cb4e1b06",
   "metadata": {
    "ExecuteTime": {
     "end_time": "2021-10-28T01:54:15.970727Z",
     "start_time": "2021-10-28T01:54:15.862514Z"
    }
   },
   "outputs": [
    {
     "data": {
      "text/plain": [
       "<Response [200]>"
      ]
     },
     "execution_count": 24,
     "metadata": {},
     "output_type": "execute_result"
    }
   ],
   "source": [
    "url = 'https://map.kakao.com/'\n",
    "    \n",
    "# seed = np.random.randint(100)\n",
    "# np.random.seed(seed)    \n",
    "# a = np.random.randint(5)\n",
    "# time.sleep(a)\n",
    "\n",
    "# response = requests.get(url) \n",
    "# response\n",
    "\n",
    "# data = BeautifulSoup(response.text, 'html.parser')\n",
    "\n",
    "# test = data.select('div').text\n",
    "# test\n",
    "\n",
    "# # 순위제거(상황봐서 순위 넣으려면 반복문만 주석처리)\n",
    "# store = [name.text for name in data.select('span.btxt')]\n",
    "# for i in range(len(store)):\n",
    "#     store[i] = store[i][3:]\n",
    "\n",
    "# # 주소정보\n",
    "# summary = [s_mary.text for s_mary in data.select('span.stxt')]\n",
    "# sub_loca = [sub.text for sub in data.select('i.loca')]\n",
    "# full_loca = [full_l.text for full_l in data.select('span.ctxt')][1::2]"
   ]
  },
  {
   "cell_type": "code",
   "execution_count": null,
   "id": "bf529281",
   "metadata": {},
   "outputs": [],
   "source": []
  },
  {
   "cell_type": "code",
   "execution_count": null,
   "id": "9948cfb6",
   "metadata": {},
   "outputs": [],
   "source": []
  },
  {
   "cell_type": "code",
   "execution_count": null,
   "id": "5bc8c672",
   "metadata": {},
   "outputs": [],
   "source": []
  },
  {
   "cell_type": "code",
   "execution_count": null,
   "id": "1f233693",
   "metadata": {},
   "outputs": [],
   "source": []
  },
  {
   "cell_type": "code",
   "execution_count": null,
   "id": "c3940857",
   "metadata": {},
   "outputs": [],
   "source": []
  },
  {
   "cell_type": "markdown",
   "id": "03e99e9c",
   "metadata": {},
   "source": [
    "## 네이버맵"
   ]
  },
  {
   "cell_type": "code",
   "execution_count": 58,
   "id": "2865bf6b",
   "metadata": {
    "ExecuteTime": {
     "end_time": "2021-10-28T02:34:45.626665Z",
     "start_time": "2021-10-28T02:34:45.492939Z"
    },
    "scrolled": true
   },
   "outputs": [
    {
     "data": {
      "text/plain": [
       "[<div id=\"preview_area\">\n",
       " <div class=\"navbar_box\">\n",
       " <h1 class=\"logo_box\">\n",
       " <span class=\"link_logo\">\n",
       " <span class=\"blind\">NAVER</span>\n",
       " </span>\n",
       " </h1>\n",
       " <div class=\"scroll_area\">\n",
       " <div class=\"scroll_box\">\n",
       " <ul class=\"list_navbar\">\n",
       " <li class=\"item_navbar\">\n",
       " <span class=\"link_navbar home\">\n",
       " <span class=\"navbar_text\">ì§ë í</span>\n",
       " </span>\n",
       " </li>\n",
       " <li class=\"item_navbar\">\n",
       " <span class=\"link_navbar directions\">\n",
       " <span class=\"navbar_text\">ê¸¸ì°¾ê¸°</span>\n",
       " </span>\n",
       " </li>\n",
       " <li class=\"item_navbar\">\n",
       " <span class=\"link_navbar bus\">\n",
       " <span class=\"navbar_text\">ë²ì¤</span>\n",
       " </span>\n",
       " </li>\n",
       " <li class=\"item_navbar\">\n",
       " <span class=\"link_navbar subway\">\n",
       " <span class=\"navbar_text\">ì§íì² </span>\n",
       " </span>\n",
       " </li>\n",
       " <li class=\"item_navbar\">\n",
       " <span class=\"link_navbar train\">\n",
       " <span class=\"navbar_text\">ê¸°ì°¨</span>\n",
       " </span>\n",
       " </li>\n",
       " <li class=\"item_navbar\">\n",
       " <span class=\"link_navbar favorite\">\n",
       " <span class=\"navbar_text\">ì¦ê²¨ì°¾ê¸°</span>\n",
       " </span>\n",
       " </li>\n",
       " <li class=\"item_navbar\">\n",
       " <span class=\"link_navbar settings\">\n",
       " <span class=\"navbar_text\">ëë³´ê¸°</span>\n",
       " </span>\n",
       " </li>\n",
       " </ul>\n",
       " </div>\n",
       " </div>\n",
       " </div>\n",
       " <div class=\"loading_box\"></div>\n",
       " </div>,\n",
       " <div class=\"navbar_box\">\n",
       " <h1 class=\"logo_box\">\n",
       " <span class=\"link_logo\">\n",
       " <span class=\"blind\">NAVER</span>\n",
       " </span>\n",
       " </h1>\n",
       " <div class=\"scroll_area\">\n",
       " <div class=\"scroll_box\">\n",
       " <ul class=\"list_navbar\">\n",
       " <li class=\"item_navbar\">\n",
       " <span class=\"link_navbar home\">\n",
       " <span class=\"navbar_text\">ì§ë í</span>\n",
       " </span>\n",
       " </li>\n",
       " <li class=\"item_navbar\">\n",
       " <span class=\"link_navbar directions\">\n",
       " <span class=\"navbar_text\">ê¸¸ì°¾ê¸°</span>\n",
       " </span>\n",
       " </li>\n",
       " <li class=\"item_navbar\">\n",
       " <span class=\"link_navbar bus\">\n",
       " <span class=\"navbar_text\">ë²ì¤</span>\n",
       " </span>\n",
       " </li>\n",
       " <li class=\"item_navbar\">\n",
       " <span class=\"link_navbar subway\">\n",
       " <span class=\"navbar_text\">ì§íì² </span>\n",
       " </span>\n",
       " </li>\n",
       " <li class=\"item_navbar\">\n",
       " <span class=\"link_navbar train\">\n",
       " <span class=\"navbar_text\">ê¸°ì°¨</span>\n",
       " </span>\n",
       " </li>\n",
       " <li class=\"item_navbar\">\n",
       " <span class=\"link_navbar favorite\">\n",
       " <span class=\"navbar_text\">ì¦ê²¨ì°¾ê¸°</span>\n",
       " </span>\n",
       " </li>\n",
       " <li class=\"item_navbar\">\n",
       " <span class=\"link_navbar settings\">\n",
       " <span class=\"navbar_text\">ëë³´ê¸°</span>\n",
       " </span>\n",
       " </li>\n",
       " </ul>\n",
       " </div>\n",
       " </div>\n",
       " </div>,\n",
       " <div class=\"scroll_area\">\n",
       " <div class=\"scroll_box\">\n",
       " <ul class=\"list_navbar\">\n",
       " <li class=\"item_navbar\">\n",
       " <span class=\"link_navbar home\">\n",
       " <span class=\"navbar_text\">ì§ë í</span>\n",
       " </span>\n",
       " </li>\n",
       " <li class=\"item_navbar\">\n",
       " <span class=\"link_navbar directions\">\n",
       " <span class=\"navbar_text\">ê¸¸ì°¾ê¸°</span>\n",
       " </span>\n",
       " </li>\n",
       " <li class=\"item_navbar\">\n",
       " <span class=\"link_navbar bus\">\n",
       " <span class=\"navbar_text\">ë²ì¤</span>\n",
       " </span>\n",
       " </li>\n",
       " <li class=\"item_navbar\">\n",
       " <span class=\"link_navbar subway\">\n",
       " <span class=\"navbar_text\">ì§íì² </span>\n",
       " </span>\n",
       " </li>\n",
       " <li class=\"item_navbar\">\n",
       " <span class=\"link_navbar train\">\n",
       " <span class=\"navbar_text\">ê¸°ì°¨</span>\n",
       " </span>\n",
       " </li>\n",
       " <li class=\"item_navbar\">\n",
       " <span class=\"link_navbar favorite\">\n",
       " <span class=\"navbar_text\">ì¦ê²¨ì°¾ê¸°</span>\n",
       " </span>\n",
       " </li>\n",
       " <li class=\"item_navbar\">\n",
       " <span class=\"link_navbar settings\">\n",
       " <span class=\"navbar_text\">ëë³´ê¸°</span>\n",
       " </span>\n",
       " </li>\n",
       " </ul>\n",
       " </div>\n",
       " </div>,\n",
       " <div class=\"scroll_box\">\n",
       " <ul class=\"list_navbar\">\n",
       " <li class=\"item_navbar\">\n",
       " <span class=\"link_navbar home\">\n",
       " <span class=\"navbar_text\">ì§ë í</span>\n",
       " </span>\n",
       " </li>\n",
       " <li class=\"item_navbar\">\n",
       " <span class=\"link_navbar directions\">\n",
       " <span class=\"navbar_text\">ê¸¸ì°¾ê¸°</span>\n",
       " </span>\n",
       " </li>\n",
       " <li class=\"item_navbar\">\n",
       " <span class=\"link_navbar bus\">\n",
       " <span class=\"navbar_text\">ë²ì¤</span>\n",
       " </span>\n",
       " </li>\n",
       " <li class=\"item_navbar\">\n",
       " <span class=\"link_navbar subway\">\n",
       " <span class=\"navbar_text\">ì§íì² </span>\n",
       " </span>\n",
       " </li>\n",
       " <li class=\"item_navbar\">\n",
       " <span class=\"link_navbar train\">\n",
       " <span class=\"navbar_text\">ê¸°ì°¨</span>\n",
       " </span>\n",
       " </li>\n",
       " <li class=\"item_navbar\">\n",
       " <span class=\"link_navbar favorite\">\n",
       " <span class=\"navbar_text\">ì¦ê²¨ì°¾ê¸°</span>\n",
       " </span>\n",
       " </li>\n",
       " <li class=\"item_navbar\">\n",
       " <span class=\"link_navbar settings\">\n",
       " <span class=\"navbar_text\">ëë³´ê¸°</span>\n",
       " </span>\n",
       " </li>\n",
       " </ul>\n",
       " </div>,\n",
       " <div class=\"loading_box\"></div>,\n",
       " <div class=\"base_map\" id=\"baseMap\"></div>,\n",
       " <div id=\"subwayMap\"></div>,\n",
       " <div id=\"_unsupported_browser\"></div>,\n",
       " <div id=\"no-script\">\n",
       " <div class=\"no-script-message\">\n",
       " <div class=\"title\">ë¤ì´ë² ì§ëë¥¼ ì¬ì©íë ¤ë©´ ìë°ì¤í¬ë¦½í¸ ì¤ì ì´ íìí©ëë¤.</div>\n",
       " <div class=\"desc\">\n",
       "             Chrome, Firefox ì ê°ì ë¸ë¼ì°ì ìì ìë°ì¤í¬ë¦½í¸ ê¸°ë¥ì ì¬ì© ì¤ì íì§ ìì¼ë©´ ë¤ì´ë² ì§ëë¥¼ ë³¼ ì ììµëë¤.\n",
       "           </div>\n",
       " <div class=\"explain\">[ìì : Chrome ë¸ë¼ì°ì  ì¤ì  ë°©ë²]</div>\n",
       " <ol class=\"items\">\n",
       " <li>Chrome ë¸ë¼ì°ì  ì°½ì ì´ê³ , íê²½ì¤ì ì í´ë¦­</li>\n",
       " <li>íë¨ìì ê³ ê¸ ì í</li>\n",
       " <li>âê°ì¸ì ë³´ ë° ë³´ìâ ìì ì½í\n",
       " ì¸  ì¤ì ì í´ë¦­</li>\n",
       " <li>ìë°ì¤í¬ë¦½í¸ í´ë¦­ í, íì©ì¼ë¡ ì¤ì </li>\n",
       " </ol>\n",
       " </div>\n",
       " </div>,\n",
       " <div class=\"no-script-message\">\n",
       " <div class=\"title\">ë¤ì´ë² ì§ëë¥¼ ì¬ì©íë ¤ë©´ ìë°ì¤í¬ë¦½í¸ ì¤ì ì´ íìí©ëë¤.</div>\n",
       " <div class=\"desc\">\n",
       "             Chrome, Firefox ì ê°ì ë¸ë¼ì°ì ìì ìë°ì¤í¬ë¦½í¸ ê¸°ë¥ì ì¬ì© ì¤ì íì§ ìì¼ë©´ ë¤ì´ë² ì§ëë¥¼ ë³¼ ì ììµëë¤.\n",
       "           </div>\n",
       " <div class=\"explain\">[ìì : Chrome ë¸ë¼ì°ì  ì¤ì  ë°©ë²]</div>\n",
       " <ol class=\"items\">\n",
       " <li>Chrome ë¸ë¼ì°ì  ì°½ì ì´ê³ , íê²½ì¤ì ì í´ë¦­</li>\n",
       " <li>íë¨ìì ê³ ê¸ ì í</li>\n",
       " <li>âê°ì¸ì ë³´ ë° ë³´ìâ ìì ì½í\n",
       " ì¸  ì¤ì ì í´ë¦­</li>\n",
       " <li>ìë°ì¤í¬ë¦½í¸ í´ë¦­ í, íì©ì¼ë¡ ì¤ì </li>\n",
       " </ol>\n",
       " </div>,\n",
       " <div class=\"title\">ë¤ì´ë² ì§ëë¥¼ ì¬ì©íë ¤ë©´ ìë°ì¤í¬ë¦½í¸ ì¤ì ì´ íìí©ëë¤.</div>,\n",
       " <div class=\"desc\">\n",
       "             Chrome, Firefox ì ê°ì ë¸ë¼ì°ì ìì ìë°ì¤í¬ë¦½í¸ ê¸°ë¥ì ì¬ì© ì¤ì íì§ ìì¼ë©´ ë¤ì´ë² ì§ëë¥¼ ë³¼ ì ììµëë¤.\n",
       "           </div>,\n",
       " <div class=\"explain\">[ìì : Chrome ë¸ë¼ì°ì  ì¤ì  ë°©ë²]</div>]"
      ]
     },
     "execution_count": 58,
     "metadata": {},
     "output_type": "execute_result"
    }
   ],
   "source": [
    "url = 'https://map.naver.com/v5/search/강동구%20돈까스?c=14147627.1245420,4513259.3803656,12,0,0,0,dh'\n",
    "\n",
    "response = requests.get(url) \n",
    "# response\n",
    "\n",
    "data = BeautifulSoup(response.text, 'html.parser')\n",
    "\n",
    "test = data.select('div')#[0].text\n",
    "test\n",
    "\n",
    "# # 순위제거(상황봐서 순위 넣으려면 반복문만 주석처리)\n",
    "# store = [name.text for name in data.select('span.btxt')]\n",
    "# for i in range(len(store)):\n",
    "#     store[i] = store[i][3:]\n",
    "\n",
    "# # 주소정보\n",
    "# summary = [s_mary.text for s_mary in data.select('span.stxt')]\n",
    "# sub_loca = [sub.text for sub in data.select('i.loca')]\n",
    "# full_loca = [full_l.text for full_l in data.select('span.ctxt')][1::2]"
   ]
  },
  {
   "cell_type": "code",
   "execution_count": 64,
   "id": "e031151a",
   "metadata": {
    "ExecuteTime": {
     "end_time": "2021-10-28T02:38:42.140061Z",
     "start_time": "2021-10-28T02:38:42.120976Z"
    }
   },
   "outputs": [
    {
     "ename": "AttributeError",
     "evalue": "'str' object has no attribute 'decode'",
     "output_type": "error",
     "traceback": [
      "\u001b[0;31m-------------------------------------------------------------------\u001b[0m",
      "\u001b[0;31mAttributeError\u001b[0m                    Traceback (most recent call last)",
      "\u001b[0;32m<ipython-input-64-f524ca1e8a49>\u001b[0m in \u001b[0;36m<module>\u001b[0;34m\u001b[0m\n\u001b[0;32m----> 1\u001b[0;31m \u001b[0mdata\u001b[0m \u001b[0;34m=\u001b[0m \u001b[0mBeautifulSoup\u001b[0m\u001b[0;34m(\u001b[0m\u001b[0mresponse\u001b[0m\u001b[0;34m.\u001b[0m\u001b[0mtext\u001b[0m\u001b[0;34m.\u001b[0m\u001b[0mdecode\u001b[0m\u001b[0;34m(\u001b[0m\u001b[0;34m'euc-kr'\u001b[0m\u001b[0;34m)\u001b[0m\u001b[0;34m,\u001b[0m \u001b[0;34m'html.parser'\u001b[0m\u001b[0;34m)\u001b[0m\u001b[0;34m\u001b[0m\u001b[0;34m\u001b[0m\u001b[0m\n\u001b[0m",
      "\u001b[0;31mAttributeError\u001b[0m: 'str' object has no attribute 'decode'"
     ]
    }
   ],
   "source": [
    "data = BeautifulSoup(response.text.decode('euc-kr'), 'html.parser')"
   ]
  },
  {
   "cell_type": "code",
   "execution_count": null,
   "id": "70eb2cb3",
   "metadata": {},
   "outputs": [],
   "source": []
  },
  {
   "cell_type": "code",
   "execution_count": 53,
   "id": "9eb03625",
   "metadata": {
    "ExecuteTime": {
     "end_time": "2021-10-28T02:33:43.967054Z",
     "start_time": "2021-10-28T02:33:43.957940Z"
    },
    "scrolled": false
   },
   "outputs": [],
   "source": [
    "data2=data.decode('cp949')"
   ]
  },
  {
   "cell_type": "code",
   "execution_count": 57,
   "id": "f4d02e62",
   "metadata": {
    "ExecuteTime": {
     "end_time": "2021-10-28T02:34:25.902256Z",
     "start_time": "2021-10-28T02:34:25.885114Z"
    }
   },
   "outputs": [
    {
     "ename": "AttributeError",
     "evalue": "'str' object has no attribute 'select'",
     "output_type": "error",
     "traceback": [
      "\u001b[0;31m-------------------------------------------------------------------\u001b[0m",
      "\u001b[0;31mAttributeError\u001b[0m                    Traceback (most recent call last)",
      "\u001b[0;32m<ipython-input-57-f1734e4ef296>\u001b[0m in \u001b[0;36m<module>\u001b[0;34m\u001b[0m\n\u001b[0;32m----> 1\u001b[0;31m \u001b[0mtes\u001b[0m \u001b[0;34m=\u001b[0m \u001b[0mdata2\u001b[0m\u001b[0;34m.\u001b[0m\u001b[0mselect\u001b[0m\u001b[0;34m(\u001b[0m\u001b[0;34m'div'\u001b[0m\u001b[0;34m)\u001b[0m\u001b[0;34m[\u001b[0m\u001b[0;36m0\u001b[0m\u001b[0;34m]\u001b[0m\u001b[0;34m\u001b[0m\u001b[0;34m\u001b[0m\u001b[0m\n\u001b[0m\u001b[1;32m      2\u001b[0m \u001b[0mtes\u001b[0m\u001b[0;34m\u001b[0m\u001b[0;34m\u001b[0m\u001b[0m\n",
      "\u001b[0;31mAttributeError\u001b[0m: 'str' object has no attribute 'select'"
     ]
    }
   ],
   "source": [
    "tes = data2.select('div')[0]\n",
    "tes"
   ]
  },
  {
   "cell_type": "code",
   "execution_count": null,
   "id": "e1d76734",
   "metadata": {},
   "outputs": [],
   "source": []
  },
  {
   "cell_type": "code",
   "execution_count": null,
   "id": "37a43419",
   "metadata": {},
   "outputs": [],
   "source": []
  },
  {
   "cell_type": "code",
   "execution_count": null,
   "id": "4a0de1d9",
   "metadata": {},
   "outputs": [],
   "source": []
  },
  {
   "cell_type": "code",
   "execution_count": null,
   "id": "3fb4871b",
   "metadata": {},
   "outputs": [],
   "source": []
  },
  {
   "cell_type": "code",
   "execution_count": null,
   "id": "58480867",
   "metadata": {},
   "outputs": [],
   "source": []
  },
  {
   "cell_type": "markdown",
   "id": "843c8bb8",
   "metadata": {},
   "source": [
    "# 지도 테스트(shp)"
   ]
  },
  {
   "cell_type": "code",
   "execution_count": 28,
   "id": "02975c73",
   "metadata": {
    "ExecuteTime": {
     "end_time": "2021-10-24T02:40:02.211684Z",
     "start_time": "2021-10-24T02:40:00.636877Z"
    },
    "scrolled": false
   },
   "outputs": [],
   "source": [
    "# shp 파일 불러오기\n",
    "# 시도\n",
    "sd_file = '/Users/ppangppang/Desktop/ssac/data_crwaling/restaurant_test/map/SD/TL_SCCO_CTPRVN.shp'\n",
    "sd = gpd.read_file(sd_file, encoding='euc-kr')\n",
    "\n",
    "# 시군구\n",
    "sgg_file = '/Users/ppangppang/Desktop/ssac/data_crwaling/restaurant_test/map/SGG/TL_SCCO_SIG.shp'\n",
    "sgg = gpd.read_file(sgg_file, encoding='euc-kr')\n",
    "\n",
    "# 읍면동\n",
    "emd_file = '/Users/ppangppang/Desktop/ssac/data_crwaling/restaurant_test/map/EMD/TL_SCCO_EMD.shp'\n",
    "emd = gpd.read_file(emd_file, encoding='euc-kr')"
   ]
  },
  {
   "cell_type": "code",
   "execution_count": 30,
   "id": "93eba4a9",
   "metadata": {
    "ExecuteTime": {
     "end_time": "2021-10-24T02:40:25.668610Z",
     "start_time": "2021-10-24T02:40:25.157053Z"
    }
   },
   "outputs": [
    {
     "data": {
      "image/png": "[encoded data removed]",
      "text/plain": [
       "<Figure size 576x576 with 1 Axes>"
      ]
     },
     "metadata": {
      "needs_background": "light"
     },
     "output_type": "display_data"
    }
   ],
   "source": [
    "# 지도 테스트(읍면동\n",
    "ax = emd.convex_hull.plot(color='blue', edgecolor=\"w\")\n",
    "ax.set_axis_off()\n",
    "ax.set_title('test')\n",
    "plt.rcParams['figure.figsize']=(8,8)\n",
    "plt.show()\n",
    "# 시군구 이름 겹치는건..."
   ]
  },
  {
   "cell_type": "code",
   "execution_count": null,
   "id": "6a4f31cf",
   "metadata": {},
   "outputs": [],
   "source": []
  },
  {
   "cell_type": "code",
   "execution_count": null,
   "id": "51d0ff51",
   "metadata": {},
   "outputs": [],
   "source": []
  },
  {
   "cell_type": "code",
   "execution_count": null,
   "id": "cdb360bc",
   "metadata": {},
   "outputs": [],
   "source": []
  },
  {
   "cell_type": "code",
   "execution_count": null,
   "id": "fd4a115e",
   "metadata": {},
   "outputs": [],
   "source": []
  },
  {
   "cell_type": "code",
   "execution_count": null,
   "id": "0010e29d",
   "metadata": {},
   "outputs": [],
   "source": []
  },
  {
   "cell_type": "code",
   "execution_count": null,
   "id": "1d9d2e9e",
   "metadata": {},
   "outputs": [],
   "source": []
  },
  {
   "cell_type": "code",
   "execution_count": null,
   "id": "088886d9",
   "metadata": {},
   "outputs": [],
   "source": []
  },
  {
   "cell_type": "code",
   "execution_count": null,
   "id": "d99f2fce",
   "metadata": {},
   "outputs": [],
   "source": []
  },
  {
   "cell_type": "code",
   "execution_count": null,
   "id": "f0536f67",
   "metadata": {},
   "outputs": [],
   "source": []
  },
  {
   "cell_type": "code",
   "execution_count": null,
   "id": "69a69921",
   "metadata": {},
   "outputs": [],
   "source": []
  },
  {
   "cell_type": "code",
   "execution_count": null,
   "id": "50e0ff8d",
   "metadata": {},
   "outputs": [],
   "source": []
  },
  {
   "cell_type": "code",
   "execution_count": null,
   "id": "905a4a4f",
   "metadata": {},
   "outputs": [],
   "source": []
  }
 ],
 "metadata": {
  "kernelspec": {
   "display_name": "Python 3",
   "language": "python",
   "name": "python3"
  },
  "language_info": {
   "codemirror_mode": {
    "name": "ipython",
    "version": 3
   },
   "file_extension": ".py",
   "mimetype": "text/x-python",
   "name": "python",
   "nbconvert_exporter": "python",
   "pygments_lexer": "ipython3",
   "version": "3.9.4"
  },
  "toc": {
   "base_numbering": 1,
   "nav_menu": {},
   "number_sections": true,
   "sideBar": true,
   "skip_h1_title": false,
   "title_cell": "Table of Contents",
   "title_sidebar": "Contents",
   "toc_cell": false,
   "toc_position": {},
   "toc_section_display": true,
   "toc_window_display": false
  },
  "varInspector": {
   "cols": {
    "lenName": 16,
    "lenType": 16,
    "lenVar": 40
   },
   "kernels_config": {
    "python": {
     "delete_cmd_postfix": "",
     "delete_cmd_prefix": "del ",
     "library": "var_list.py",
     "varRefreshCmd": "print(var_dic_list())"
    },
    "r": {
     "delete_cmd_postfix": ") ",
     "delete_cmd_prefix": "rm(",
     "library": "var_list.r",
     "varRefreshCmd": "cat(var_dic_list()) "
    }
   },
   "types_to_exclude": [
    "module",
    "function",
    "builtin_function_or_method",
    "instance",
    "_Feature"
   ],
   "window_display": false
  }
 },
 "nbformat": 4,
 "nbformat_minor": 5
}
