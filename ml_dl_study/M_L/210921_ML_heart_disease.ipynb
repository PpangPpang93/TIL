{
 "cells": [
  {
   "cell_type": "markdown",
   "metadata": {
    "id": "NqqLNJZjfi8U"
   },
   "source": [
    "# 주제 : 데이터 분석으로 심부전증을 예방할 수 있을까?\n",
    "----------\n",
    "\n",
    "## 실습 가이드\n",
    "    1. 데이터를 다운로드하여 Colab에 불러옵니다.\n",
    "    2. 필요한 라이브러리는 모두 코드로 작성되어 있습니다.\n",
    "    3. 코드는 위에서부터 아래로 순서대로 실행합니다.\n",
    "    \n",
    "    \n",
    "## 데이터 소개\n",
    "    - 이번 주제는 Heart Failure Prediction 데이터셋을 사용합니다.\n",
    "    \n",
    "    - 다음 1개의 csv 파일을 사용합니다.\n",
    "    heart_failure_clinical_records_dataset.csv\n",
    "    \n",
    "    - 각 파일의 컬럼은 아래와 같습니다.\n",
    "    age: 환자의 나이\n",
    "    anaemia: 환자의 빈혈증 여부 (0: 정상, 1: 빈혈)\n",
    "    creatinine_phosphokinase: 크레아틴키나제 검사 결과\n",
    "    diabetes: 당뇨병 여부 (0: 정상, 1: 당뇨)\n",
    "    ejection_fraction: 박출계수 (%)\n",
    "    high_blood_pressure: 고혈압 여부 (0: 정상, 1: 고혈압)\n",
    "    platelets: 혈소판 수 (kiloplatelets/mL)\n",
    "    serum_creatinine: 혈중 크레아틴 레벨 (mg/dL)\n",
    "    serum_sodium: 혈중 나트륨 레벨 (mEq/L)\n",
    "    sex: 성별 (0: 여성, 1: 남성)\n",
    "    smoking: 흡연 여부 (0: 비흡연, 1: 흡연)\n",
    "    time: 관찰 기간 (일)\n",
    "    DEATH_EVENT: 사망 여부 (0: 생존, 1: 사망)\n",
    "    \n",
    "    \n",
    "    \n",
    "- 데이터 출처: https://www.kaggle.com/andrewmvd/heart-failure-clinical-data\n",
    "\n",
    "\n",
    "## 최종 목표\n",
    "    - 의료 데이터와 그 분석에 대한 이해\n",
    "    - Colab 및 Pandas 라이브러리 사용법 이해\n",
    "    - 데이터 시각화를 통한 인사이트 습득 방법의 이해\n",
    "    - Scikit-learn 기반의 모델 학습 방법 습득\n",
    "    - Classification 모델의 학습과 평가 방법 이해\n",
    "\n",
    "- 출제자 : 신제용 강사\n",
    "---"
   ]
  },
  {
   "cell_type": "markdown",
   "metadata": {
    "id": "ODJVmYvIP3x-"
   },
   "source": [
    "## Step 0. 의료 데이터셋에 대하여"
   ]
  },
  {
   "cell_type": "markdown",
   "metadata": {
    "id": "c0iKTnLNsraM"
   },
   "source": [
    "### 의료 데이터의 수집\n"
   ]
  },
  {
   "cell_type": "markdown",
   "metadata": {
    "id": "cxZwPnfms0-9"
   },
   "source": [
    "### 의료 데이터 분석의 현재\n"
   ]
  },
  {
   "cell_type": "markdown",
   "metadata": {
    "id": "XEcB6i1os0y_"
   },
   "source": [
    "### Accuracy, Precision, 그리고 Recall"
   ]
  },
  {
   "cell_type": "markdown",
   "metadata": {
    "id": "IRssoNrgP7So"
   },
   "source": [
    "## Step 1. 데이터셋 준비하기"
   ]
  },
  {
   "cell_type": "code",
   "execution_count": 1,
   "metadata": {
    "ExecuteTime": {
     "end_time": "2021-09-21T03:13:55.598171Z",
     "start_time": "2021-09-21T03:13:55.593385Z"
    },
    "executionInfo": {
     "elapsed": 803,
     "status": "ok",
     "timestamp": 1632194363155,
     "user": {
      "displayName": "팡팡",
      "photoUrl": "https://lh3.googleusercontent.com/a/default-user=s64",
      "userId": "08351897761321616592"
     },
     "user_tz": -540
    },
    "id": "g49RuFGrBvt7"
   },
   "outputs": [],
   "source": [
    "import pandas as pd\n",
    "import numpy as np\n",
    "import matplotlib.pyplot as plt\n",
    "import seaborn as sns"
   ]
  },
  {
   "cell_type": "markdown",
   "metadata": {
    "id": "paInbv8Ys-Qy"
   },
   "source": [
    "### 문제 1. Colab Notebook에 Kaggle API 세팅하기\n"
   ]
  },
  {
   "cell_type": "code",
   "execution_count": 2,
   "metadata": {
    "ExecuteTime": {
     "end_time": "2021-09-21T03:13:56.116642Z",
     "start_time": "2021-09-21T03:13:56.113738Z"
    },
    "executionInfo": {
     "elapsed": 5,
     "status": "ok",
     "timestamp": 1632194363156,
     "user": {
      "displayName": "팡팡",
      "photoUrl": "https://lh3.googleusercontent.com/a/default-user=s64",
      "userId": "08351897761321616592"
     },
     "user_tz": -540
    },
    "id": "RRXGYV60B7FX"
   },
   "outputs": [],
   "source": [
    "import os"
   ]
  },
  {
   "cell_type": "code",
   "execution_count": 3,
   "metadata": {
    "ExecuteTime": {
     "end_time": "2021-09-21T03:13:56.781047Z",
     "start_time": "2021-09-21T03:13:56.777150Z"
    },
    "executionInfo": {
     "elapsed": 4,
     "status": "ok",
     "timestamp": 1632194363156,
     "user": {
      "displayName": "팡팡",
      "photoUrl": "https://lh3.googleusercontent.com/a/default-user=s64",
      "userId": "08351897761321616592"
     },
     "user_tz": -540
    },
    "id": "mMKFOC0OBtHO"
   },
   "outputs": [],
   "source": [
    "# os.environ을 이용하여 Kaggle API Username, Key 세팅하기\n",
    "os.environ['KAGGLE_USERNAME'] = ''\n",
    "os.environ['KAGGLE_KEY'] = ''"
   ]
  },
  {
   "cell_type": "markdown",
   "metadata": {
    "id": "zvbeoB_WtBi-"
   },
   "source": [
    "### 문제 2. 데이터 다운로드 및 압축 해제하기\n"
   ]
  },
  {
   "cell_type": "code",
   "execution_count": 5,
   "metadata": {
    "ExecuteTime": {
     "end_time": "2021-09-21T03:17:17.304518Z",
     "start_time": "2021-09-21T03:17:16.197432Z"
    },
    "colab": {
     "base_uri": "https://localhost:8080/"
    },
    "executionInfo": {
     "elapsed": 1171,
     "status": "ok",
     "timestamp": 1632194371728,
     "user": {
      "displayName": "팡팡",
      "photoUrl": "https://lh3.googleusercontent.com/a/default-user=s64",
      "userId": "08351897761321616592"
     },
     "user_tz": -540
    },
    "id": "JSblp2NsCGbh",
    "outputId": "f6191231-3419-4a5f-c5c3-3fb8b4de3eaa"
   },
   "outputs": [
    {
     "name": "stdout",
     "output_type": "stream",
     "text": [
      "heart-failure-clinical-data.zip: Skipping, found more recently modified local copy (use --force to force download)\n",
      "Archive:  heart-failure-clinical-data.zip\n",
      "  inflating: heart_failure_clinical_records_dataset.csv  \n"
     ]
    }
   ],
   "source": [
    "# Linux 명령어로 Kaggle API를 이용하여 데이터셋 다운로드하기 (!kaggle ~)\n",
    "# Linux 명령어로 압축 해제하기\n",
    "!kaggle datasets download -d andrewmvd/heart-failure-clinical-data\n",
    "!unzip '*.zip'"
   ]
  },
  {
   "cell_type": "markdown",
   "metadata": {
    "id": "aJ34SovLtFI8"
   },
   "source": [
    "### 문제 3. Pandas 라이브러리로 csv파일 읽어들이기\n"
   ]
  },
  {
   "cell_type": "code",
   "execution_count": 10,
   "metadata": {
    "executionInfo": {
     "elapsed": 301,
     "status": "ok",
     "timestamp": 1632194437949,
     "user": {
      "displayName": "팡팡",
      "photoUrl": "https://lh3.googleusercontent.com/a/default-user=s64",
      "userId": "08351897761321616592"
     },
     "user_tz": -540
    },
    "id": "RnJv-4YwCMSx"
   },
   "outputs": [],
   "source": [
    "# pd.read_csv()로 csv파일 읽어들이기\n",
    "df = pd.read_csv('/content/heart_failure_clinical_records_dataset.csv')"
   ]
  },
  {
   "cell_type": "markdown",
   "metadata": {
    "id": "9L3BNVM7tHN5"
   },
   "source": [
    "## Step 2. EDA 및 데이터 기초 통계 분석\n"
   ]
  },
  {
   "cell_type": "markdown",
   "metadata": {
    "id": "HyFm33tNtVn7"
   },
   "source": [
    "### 문제 4. 데이터프레임의 각 컬럼 분석하기\n"
   ]
  },
  {
   "cell_type": "code",
   "execution_count": 14,
   "metadata": {
    "colab": {
     "base_uri": "https://localhost:8080/",
     "height": 657
    },
    "executionInfo": {
     "elapsed": 303,
     "status": "ok",
     "timestamp": 1632194497883,
     "user": {
      "displayName": "팡팡",
      "photoUrl": "https://lh3.googleusercontent.com/a/default-user=s64",
      "userId": "08351897761321616592"
     },
     "user_tz": -540
    },
    "id": "YcR9BX23DIFW",
    "outputId": "69771d22-c2cb-4b7c-8217-2b9745927d2b"
   },
   "outputs": [
    {
     "name": "stdout",
     "output_type": "stream",
     "text": [
      "<class 'pandas.core.frame.DataFrame'>\n",
      "RangeIndex: 299 entries, 0 to 298\n",
      "Data columns (total 13 columns):\n",
      " #   Column                    Non-Null Count  Dtype  \n",
      "---  ------                    --------------  -----  \n",
      " 0   age                       299 non-null    float64\n",
      " 1   anaemia                   299 non-null    int64  \n",
      " 2   creatinine_phosphokinase  299 non-null    int64  \n",
      " 3   diabetes                  299 non-null    int64  \n",
      " 4   ejection_fraction         299 non-null    int64  \n",
      " 5   high_blood_pressure       299 non-null    int64  \n",
      " 6   platelets                 299 non-null    float64\n",
      " 7   serum_creatinine          299 non-null    float64\n",
      " 8   serum_sodium              299 non-null    int64  \n",
      " 9   sex                       299 non-null    int64  \n",
      " 10  smoking                   299 non-null    int64  \n",
      " 11  time                      299 non-null    int64  \n",
      " 12  DEATH_EVENT               299 non-null    int64  \n",
      "dtypes: float64(3), int64(10)\n",
      "memory usage: 30.5 KB\n"
     ]
    },
    {
     "data": {
      "text/html": [
       "<div>\n",
       "<style scoped>\n",
       "    .dataframe tbody tr th:only-of-type {\n",
       "        vertical-align: middle;\n",
       "    }\n",
       "\n",
       "    .dataframe tbody tr th {\n",
       "        vertical-align: top;\n",
       "    }\n",
       "\n",
       "    .dataframe thead th {\n",
       "        text-align: right;\n",
       "    }\n",
       "</style>\n",
       "<table border=\"1\" class=\"dataframe\">\n",
       "  <thead>\n",
       "    <tr style=\"text-align: right;\">\n",
       "      <th></th>\n",
       "      <th>age</th>\n",
       "      <th>anaemia</th>\n",
       "      <th>creatinine_phosphokinase</th>\n",
       "      <th>diabetes</th>\n",
       "      <th>ejection_fraction</th>\n",
       "      <th>high_blood_pressure</th>\n",
       "      <th>platelets</th>\n",
       "      <th>serum_creatinine</th>\n",
       "      <th>serum_sodium</th>\n",
       "      <th>sex</th>\n",
       "      <th>smoking</th>\n",
       "      <th>time</th>\n",
       "      <th>DEATH_EVENT</th>\n",
       "    </tr>\n",
       "  </thead>\n",
       "  <tbody>\n",
       "    <tr>\n",
       "      <th>count</th>\n",
       "      <td>299.000000</td>\n",
       "      <td>299.000000</td>\n",
       "      <td>299.000000</td>\n",
       "      <td>299.000000</td>\n",
       "      <td>299.000000</td>\n",
       "      <td>299.000000</td>\n",
       "      <td>299.000000</td>\n",
       "      <td>299.00000</td>\n",
       "      <td>299.000000</td>\n",
       "      <td>299.000000</td>\n",
       "      <td>299.00000</td>\n",
       "      <td>299.000000</td>\n",
       "      <td>299.00000</td>\n",
       "    </tr>\n",
       "    <tr>\n",
       "      <th>mean</th>\n",
       "      <td>60.833893</td>\n",
       "      <td>0.431438</td>\n",
       "      <td>581.839465</td>\n",
       "      <td>0.418060</td>\n",
       "      <td>38.083612</td>\n",
       "      <td>0.351171</td>\n",
       "      <td>263358.029264</td>\n",
       "      <td>1.39388</td>\n",
       "      <td>136.625418</td>\n",
       "      <td>0.648829</td>\n",
       "      <td>0.32107</td>\n",
       "      <td>130.260870</td>\n",
       "      <td>0.32107</td>\n",
       "    </tr>\n",
       "    <tr>\n",
       "      <th>std</th>\n",
       "      <td>11.894809</td>\n",
       "      <td>0.496107</td>\n",
       "      <td>970.287881</td>\n",
       "      <td>0.494067</td>\n",
       "      <td>11.834841</td>\n",
       "      <td>0.478136</td>\n",
       "      <td>97804.236869</td>\n",
       "      <td>1.03451</td>\n",
       "      <td>4.412477</td>\n",
       "      <td>0.478136</td>\n",
       "      <td>0.46767</td>\n",
       "      <td>77.614208</td>\n",
       "      <td>0.46767</td>\n",
       "    </tr>\n",
       "    <tr>\n",
       "      <th>min</th>\n",
       "      <td>40.000000</td>\n",
       "      <td>0.000000</td>\n",
       "      <td>23.000000</td>\n",
       "      <td>0.000000</td>\n",
       "      <td>14.000000</td>\n",
       "      <td>0.000000</td>\n",
       "      <td>25100.000000</td>\n",
       "      <td>0.50000</td>\n",
       "      <td>113.000000</td>\n",
       "      <td>0.000000</td>\n",
       "      <td>0.00000</td>\n",
       "      <td>4.000000</td>\n",
       "      <td>0.00000</td>\n",
       "    </tr>\n",
       "    <tr>\n",
       "      <th>25%</th>\n",
       "      <td>51.000000</td>\n",
       "      <td>0.000000</td>\n",
       "      <td>116.500000</td>\n",
       "      <td>0.000000</td>\n",
       "      <td>30.000000</td>\n",
       "      <td>0.000000</td>\n",
       "      <td>212500.000000</td>\n",
       "      <td>0.90000</td>\n",
       "      <td>134.000000</td>\n",
       "      <td>0.000000</td>\n",
       "      <td>0.00000</td>\n",
       "      <td>73.000000</td>\n",
       "      <td>0.00000</td>\n",
       "    </tr>\n",
       "    <tr>\n",
       "      <th>50%</th>\n",
       "      <td>60.000000</td>\n",
       "      <td>0.000000</td>\n",
       "      <td>250.000000</td>\n",
       "      <td>0.000000</td>\n",
       "      <td>38.000000</td>\n",
       "      <td>0.000000</td>\n",
       "      <td>262000.000000</td>\n",
       "      <td>1.10000</td>\n",
       "      <td>137.000000</td>\n",
       "      <td>1.000000</td>\n",
       "      <td>0.00000</td>\n",
       "      <td>115.000000</td>\n",
       "      <td>0.00000</td>\n",
       "    </tr>\n",
       "    <tr>\n",
       "      <th>75%</th>\n",
       "      <td>70.000000</td>\n",
       "      <td>1.000000</td>\n",
       "      <td>582.000000</td>\n",
       "      <td>1.000000</td>\n",
       "      <td>45.000000</td>\n",
       "      <td>1.000000</td>\n",
       "      <td>303500.000000</td>\n",
       "      <td>1.40000</td>\n",
       "      <td>140.000000</td>\n",
       "      <td>1.000000</td>\n",
       "      <td>1.00000</td>\n",
       "      <td>203.000000</td>\n",
       "      <td>1.00000</td>\n",
       "    </tr>\n",
       "    <tr>\n",
       "      <th>max</th>\n",
       "      <td>95.000000</td>\n",
       "      <td>1.000000</td>\n",
       "      <td>7861.000000</td>\n",
       "      <td>1.000000</td>\n",
       "      <td>80.000000</td>\n",
       "      <td>1.000000</td>\n",
       "      <td>850000.000000</td>\n",
       "      <td>9.40000</td>\n",
       "      <td>148.000000</td>\n",
       "      <td>1.000000</td>\n",
       "      <td>1.00000</td>\n",
       "      <td>285.000000</td>\n",
       "      <td>1.00000</td>\n",
       "    </tr>\n",
       "  </tbody>\n",
       "</table>\n",
       "</div>"
      ],
      "text/plain": [
       "              age     anaemia  ...        time  DEATH_EVENT\n",
       "count  299.000000  299.000000  ...  299.000000    299.00000\n",
       "mean    60.833893    0.431438  ...  130.260870      0.32107\n",
       "std     11.894809    0.496107  ...   77.614208      0.46767\n",
       "min     40.000000    0.000000  ...    4.000000      0.00000\n",
       "25%     51.000000    0.000000  ...   73.000000      0.00000\n",
       "50%     60.000000    0.000000  ...  115.000000      0.00000\n",
       "75%     70.000000    1.000000  ...  203.000000      1.00000\n",
       "max     95.000000    1.000000  ...  285.000000      1.00000\n",
       "\n",
       "[8 rows x 13 columns]"
      ]
     },
     "execution_count": 14,
     "metadata": {},
     "output_type": "execute_result"
    }
   ],
   "source": [
    "# DataFrame에서 제공하는 메소드를 이용하여 컬럼 분석하기 (head(), info(), describe())\n",
    "df.head()\n",
    "df.info()\n",
    "df.describe()"
   ]
  },
  {
   "cell_type": "markdown",
   "metadata": {
    "id": "HGHvPwkNtXgj"
   },
   "source": [
    "### 문제 5. 수치형 데이터의 히스토그램 그리기\n"
   ]
  },
  {
   "cell_type": "code",
   "execution_count": 19,
   "metadata": {
    "colab": {
     "base_uri": "https://localhost:8080/"
    },
    "executionInfo": {
     "elapsed": 393,
     "status": "ok",
     "timestamp": 1632194669110,
     "user": {
      "displayName": "팡팡",
      "photoUrl": "https://lh3.googleusercontent.com/a/default-user=s64",
      "userId": "08351897761321616592"
     },
     "user_tz": -540
    },
    "id": "Rw11IGhGYfpq",
    "outputId": "dd99ffdf-19cf-4d62-b95e-84009cf3567a"
   },
   "outputs": [
    {
     "data": {
      "text/plain": [
       "Index(['age', 'anaemia', 'creatinine_phosphokinase', 'diabetes',\n",
       "       'ejection_fraction', 'high_blood_pressure', 'platelets',\n",
       "       'serum_creatinine', 'serum_sodium', 'sex', 'smoking', 'time',\n",
       "       'DEATH_EVENT'],\n",
       "      dtype='object')"
      ]
     },
     "execution_count": 19,
     "metadata": {},
     "output_type": "execute_result"
    }
   ],
   "source": [
    "df.columns"
   ]
  },
  {
   "cell_type": "code",
   "execution_count": 17,
   "metadata": {
    "colab": {
     "base_uri": "https://localhost:8080/",
     "height": 296
    },
    "executionInfo": {
     "elapsed": 1052,
     "status": "ok",
     "timestamp": 1632194602748,
     "user": {
      "displayName": "팡팡",
      "photoUrl": "https://lh3.googleusercontent.com/a/default-user=s64",
      "userId": "08351897761321616592"
     },
     "user_tz": -540
    },
    "id": "GZXSBFPyDh6R",
    "outputId": "6a99f6de-2079-498c-b224-585246d3e47d"
   },
   "outputs": [
    {
     "data": {
      "text/plain": [
       "<matplotlib.axes._subplots.AxesSubplot at 0x7f8d7b77fe90>"
      ]
     },
     "execution_count": 17,
     "metadata": {},
     "output_type": "execute_result"
    },
    {
     "data": {
      "image/png": "[encoded data removed]",
      "text/plain": [
       "<Figure size 432x288 with 1 Axes>"
      ]
     },
     "metadata": {
      "needs_background": "light"
     },
     "output_type": "display_data"
    }
   ],
   "source": [
    "# seaborn의 histplot, jointplot, pairplot을 이용해 히스토그램 그리기\n",
    "sns.histplot(x='age', data=df, hue='DEATH_EVENT', kde=True)"
   ]
  },
  {
   "cell_type": "code",
   "execution_count": 21,
   "metadata": {
    "colab": {
     "base_uri": "https://localhost:8080/",
     "height": 297
    },
    "executionInfo": {
     "elapsed": 300,
     "status": "ok",
     "timestamp": 1632194758452,
     "user": {
      "displayName": "팡팡",
      "photoUrl": "https://lh3.googleusercontent.com/a/default-user=s64",
      "userId": "08351897761321616592"
     },
     "user_tz": -540
    },
    "id": "GUIxtoryYfMR",
    "outputId": "8026ee22-f7fe-4087-fdf7-9476b77b6a2b"
   },
   "outputs": [
    {
     "data": {
      "text/plain": [
       "<matplotlib.axes._subplots.AxesSubplot at 0x7f8d77252110>"
      ]
     },
     "execution_count": 21,
     "metadata": {},
     "output_type": "execute_result"
    },
    {
     "data": {
      "image/png": "[encoded data removed]",
      "text/plain": [
       "<Figure size 432x288 with 1 Axes>"
      ]
     },
     "metadata": {
      "needs_background": "light"
     },
     "output_type": "display_data"
    }
   ],
   "source": [
    "#sns.histplot(x='creatinine_phosphokinase', data=df)\n",
    "sns.histplot(data=df.loc[df['creatinine_phosphokinase'] <3000, 'creatinine_phosphokinase']) # 데이터가 영양가없음"
   ]
  },
  {
   "cell_type": "code",
   "execution_count": 24,
   "metadata": {
    "colab": {
     "base_uri": "https://localhost:8080/",
     "height": 300
    },
    "executionInfo": {
     "elapsed": 800,
     "status": "ok",
     "timestamp": 1632194833492,
     "user": {
      "displayName": "팡팡",
      "photoUrl": "https://lh3.googleusercontent.com/a/default-user=s64",
      "userId": "08351897761321616592"
     },
     "user_tz": -540
    },
    "id": "fBGisHI6Y-Xj",
    "outputId": "bc7193be-1579-4d03-af4a-ae9a64eadc7a"
   },
   "outputs": [
    {
     "data": {
      "text/plain": [
       "<matplotlib.axes._subplots.AxesSubplot at 0x7f8d76b27950>"
      ]
     },
     "execution_count": 24,
     "metadata": {},
     "output_type": "execute_result"
    },
    {
     "data": {
      "image/png": "[encoded data removed]",
      "text/plain": [
       "<Figure size 432x288 with 1 Axes>"
      ]
     },
     "metadata": {
      "needs_background": "light"
     },
     "output_type": "display_data"
    }
   ],
   "source": [
    "sns.histplot(x='ejection_fraction', data=df, bins=13, hue='DEATH_EVENT', kde=True)\n",
    "# ejection_Fraction(박출계수)가 낮은것과 사망과 관련이 있어보임\u001b"
   ]
  },
  {
   "cell_type": "code",
   "execution_count": 26,
   "metadata": {
    "colab": {
     "base_uri": "https://localhost:8080/",
     "height": 296
    },
    "executionInfo": {
     "elapsed": 783,
     "status": "ok",
     "timestamp": 1632194944114,
     "user": {
      "displayName": "팡팡",
      "photoUrl": "https://lh3.googleusercontent.com/a/default-user=s64",
      "userId": "08351897761321616592"
     },
     "user_tz": -540
    },
    "id": "BqUDgx5UZb9q",
    "outputId": "95cf33e8-6632-49da-927b-2ecb32a7e86c"
   },
   "outputs": [
    {
     "data": {
      "text/plain": [
       "<matplotlib.axes._subplots.AxesSubplot at 0x7f8d769fd550>"
      ]
     },
     "execution_count": 26,
     "metadata": {},
     "output_type": "execute_result"
    },
    {
     "data": {
      "image/png": "[encoded data removed]",
      "text/plain": [
       "<Figure size 432x288 with 1 Axes>"
      ]
     },
     "metadata": {
      "needs_background": "light"
     },
     "output_type": "display_data"
    }
   ],
   "source": [
    "sns.histplot(x='platelets', data=df, hue='DEATH_EVENT')\n",
    "# 혈소판수는 사망과 크게 상관없어보임"
   ]
  },
  {
   "cell_type": "code",
   "execution_count": 29,
   "metadata": {
    "colab": {
     "base_uri": "https://localhost:8080/",
     "height": 469
    },
    "executionInfo": {
     "elapsed": 1402,
     "status": "ok",
     "timestamp": 1632195039874,
     "user": {
      "displayName": "팡팡",
      "photoUrl": "https://lh3.googleusercontent.com/a/default-user=s64",
      "userId": "08351897761321616592"
     },
     "user_tz": -540
    },
    "id": "f28AQOwtZonR",
    "outputId": "fc167eec-d40a-464b-c566-7f99dff4b8b5"
   },
   "outputs": [
    {
     "data": {
      "text/plain": [
       "<seaborn.axisgrid.JointGrid at 0x7f8d76c441d0>"
      ]
     },
     "execution_count": 29,
     "metadata": {},
     "output_type": "execute_result"
    },
    {
     "data": {
      "image/png": "[encoded data removed]",
      "text/plain": [
       "<Figure size 432x432 with 3 Axes>"
      ]
     },
     "metadata": {
      "needs_background": "light"
     },
     "output_type": "display_data"
    }
   ],
   "source": [
    "# sns.jointplot(data=df, x='platelets', y='creatinine_phosphokinase', hue='DEATH_EVENT')\n",
    "# 데이터가 뭉쳐있어서 판단이 어려움 => 알파값을 준다 (투명화) \n",
    "sns.jointplot(data=df, x='platelets', y='creatinine_phosphokinase', hue='DEATH_EVENT', alpha=0.3)"
   ]
  },
  {
   "cell_type": "markdown",
   "metadata": {
    "id": "KywGh9sjtYl9"
   },
   "source": [
    "### 문제 6. Boxplot 계열을 이용하여 범주별 통계 확인하기\n"
   ]
  },
  {
   "cell_type": "code",
   "execution_count": 31,
   "metadata": {
    "colab": {
     "base_uri": "https://localhost:8080/",
     "height": 297
    },
    "executionInfo": {
     "elapsed": 5,
     "status": "ok",
     "timestamp": 1632195398493,
     "user": {
      "displayName": "팡팡",
      "photoUrl": "https://lh3.googleusercontent.com/a/default-user=s64",
      "userId": "08351897761321616592"
     },
     "user_tz": -540
    },
    "id": "TqXkwW8JDxhH",
    "outputId": "c8c4ea28-f60a-49f4-9eca-f8f31150f912"
   },
   "outputs": [
    {
     "data": {
      "text/plain": [
       "<matplotlib.axes._subplots.AxesSubplot at 0x7f8d6dd2d5d0>"
      ]
     },
     "execution_count": 31,
     "metadata": {},
     "output_type": "execute_result"
    },
    {
     "data": {
      "image/png": "[encoded data removed]",
      "text/plain": [
       "<Figure size 432x288 with 1 Axes>"
      ]
     },
     "metadata": {
      "needs_background": "light"
     },
     "output_type": "display_data"
    }
   ],
   "source": [
    "# seaborn의 Boxplot 계열(boxplot(), violinplot(), swarmplot())을 사용\n",
    "# Hint) hue 키워드를 사용하여 범주 세분화 가능\n",
    "sns.boxplot(x='DEATH_EVENT', y = 'ejection_fraction',data=df)"
   ]
  },
  {
   "cell_type": "code",
   "execution_count": 32,
   "metadata": {
    "colab": {
     "base_uri": "https://localhost:8080/",
     "height": 296
    },
    "executionInfo": {
     "elapsed": 315,
     "status": "ok",
     "timestamp": 1632195456966,
     "user": {
      "displayName": "팡팡",
      "photoUrl": "https://lh3.googleusercontent.com/a/default-user=s64",
      "userId": "08351897761321616592"
     },
     "user_tz": -540
    },
    "id": "5y6MamyKbgPD",
    "outputId": "afa08186-8368-4c50-c619-abdd4fb01058"
   },
   "outputs": [
    {
     "data": {
      "text/plain": [
       "<matplotlib.axes._subplots.AxesSubplot at 0x7f8d6dc94a10>"
      ]
     },
     "execution_count": 32,
     "metadata": {},
     "output_type": "execute_result"
    },
    {
     "data": {
      "image/png": "[encoded data removed]",
      "text/plain": [
       "<Figure size 432x288 with 1 Axes>"
      ]
     },
     "metadata": {
      "needs_background": "light"
     },
     "output_type": "display_data"
    }
   ],
   "source": [
    "sns.boxplot(x='smoking', y = 'ejection_fraction',data=df)\n",
    "# 흡연자가 ejection_fraction의 값이 좀 더 좁게 밀집되있는걸 확인 할 수 있다."
   ]
  },
  {
   "cell_type": "code",
   "execution_count": 34,
   "metadata": {
    "colab": {
     "base_uri": "https://localhost:8080/",
     "height": 297
    },
    "executionInfo": {
     "elapsed": 394,
     "status": "ok",
     "timestamp": 1632195587472,
     "user": {
      "displayName": "팡팡",
      "photoUrl": "https://lh3.googleusercontent.com/a/default-user=s64",
      "userId": "08351897761321616592"
     },
     "user_tz": -540
    },
    "id": "IqLYsGyYbpCm",
    "outputId": "d67ef70b-b531-440b-f055-786814e79467"
   },
   "outputs": [
    {
     "data": {
      "text/plain": [
       "<matplotlib.axes._subplots.AxesSubplot at 0x7f8d6dbb2190>"
      ]
     },
     "execution_count": 34,
     "metadata": {},
     "output_type": "execute_result"
    },
    {
     "data": {
      "image/png": "[encoded data removed]",
      "text/plain": [
       "<Figure size 432x288 with 1 Axes>"
      ]
     },
     "metadata": {
      "needs_background": "light"
     },
     "output_type": "display_data"
    }
   ],
   "source": [
    "sns.violinplot(x='DEATH_EVENT', y = 'ejection_fraction', hue='smoking', data=df)"
   ]
  },
  {
   "cell_type": "code",
   "execution_count": 38,
   "metadata": {
    "colab": {
     "base_uri": "https://localhost:8080/",
     "height": 351
    },
    "executionInfo": {
     "elapsed": 969,
     "status": "ok",
     "timestamp": 1632195692413,
     "user": {
      "displayName": "팡팡",
      "photoUrl": "https://lh3.googleusercontent.com/a/default-user=s64",
      "userId": "08351897761321616592"
     },
     "user_tz": -540
    },
    "id": "S5_WaQwPcIyC",
    "outputId": "7e874f6e-9dc8-4ae6-8c2b-19c6aa4f650c"
   },
   "outputs": [
    {
     "name": "stderr",
     "output_type": "stream",
     "text": [
      "/usr/local/lib/python3.7/dist-packages/seaborn/categorical.py:1296: UserWarning: 9.9% of the points cannot be placed; you may want to decrease the size of the markers or use stripplot.\n",
      "  warnings.warn(msg, UserWarning)\n"
     ]
    },
    {
     "data": {
      "text/plain": [
       "<matplotlib.axes._subplots.AxesSubplot at 0x7f8d6da84590>"
      ]
     },
     "execution_count": 38,
     "metadata": {},
     "output_type": "execute_result"
    },
    {
     "data": {
      "image/png": "[encoded data removed]",
      "text/plain": [
       "<Figure size 432x288 with 1 Axes>"
      ]
     },
     "metadata": {
      "needs_background": "light"
     },
     "output_type": "display_data"
    }
   ],
   "source": [
    "sns.swarmplot(x='DEATH_EVENT', y = 'platelets', hue='smoking', data=df)"
   ]
  },
  {
   "cell_type": "markdown",
   "metadata": {
    "id": "GD18QuastZy8"
   },
   "source": [
    "## Step 3. 모델 학습을 위한 데이터 전처리\n"
   ]
  },
  {
   "cell_type": "markdown",
   "metadata": {
    "id": "Dev2yLeMta85"
   },
   "source": [
    "### 문제 7. StandardScaler를 이용하여 데이터 전처리하기\n"
   ]
  },
  {
   "cell_type": "code",
   "execution_count": 39,
   "metadata": {
    "executionInfo": {
     "elapsed": 304,
     "status": "ok",
     "timestamp": 1632195703244,
     "user": {
      "displayName": "팡팡",
      "photoUrl": "https://lh3.googleusercontent.com/a/default-user=s64",
      "userId": "08351897761321616592"
     },
     "user_tz": -540
    },
    "id": "8P7qVd6yEk3v"
   },
   "outputs": [],
   "source": [
    "from sklearn.preprocessing import StandardScaler"
   ]
  },
  {
   "cell_type": "code",
   "execution_count": 40,
   "metadata": {
    "colab": {
     "base_uri": "https://localhost:8080/"
    },
    "executionInfo": {
     "elapsed": 310,
     "status": "ok",
     "timestamp": 1632195739648,
     "user": {
      "displayName": "팡팡",
      "photoUrl": "https://lh3.googleusercontent.com/a/default-user=s64",
      "userId": "08351897761321616592"
     },
     "user_tz": -540
    },
    "id": "n3QynE-xcmU2",
    "outputId": "1ec245d4-461b-4daa-b7de-951bb2212ead"
   },
   "outputs": [
    {
     "data": {
      "text/plain": [
       "Index(['age', 'anaemia', 'creatinine_phosphokinase', 'diabetes',\n",
       "       'ejection_fraction', 'high_blood_pressure', 'platelets',\n",
       "       'serum_creatinine', 'serum_sodium', 'sex', 'smoking', 'time',\n",
       "       'DEATH_EVENT'],\n",
       "      dtype='object')"
      ]
     },
     "execution_count": 40,
     "metadata": {},
     "output_type": "execute_result"
    }
   ],
   "source": [
    "df.columns"
   ]
  },
  {
   "cell_type": "code",
   "execution_count": 41,
   "metadata": {
    "executionInfo": {
     "elapsed": 342,
     "status": "ok",
     "timestamp": 1632195865606,
     "user": {
      "displayName": "팡팡",
      "photoUrl": "https://lh3.googleusercontent.com/a/default-user=s64",
      "userId": "08351897761321616592"
     },
     "user_tz": -540
    },
    "id": "wZUdkt0lEndT"
   },
   "outputs": [],
   "source": [
    "# 수치형 입력 데이터, 범주형 입력 데이터, 출력 데이터로 구분하기\n",
    "X_num = df[['age', 'creatinine_phosphokinase', 'ejection_fraction', 'platelets', 'serum_creatinine', 'serum_sodium', 'time']]\n",
    "X_cat = df[['anaemia','diabetes','high_blood_pressure','sex', 'smoking']]\n",
    "y = df['DEATH_EVENT']"
   ]
  },
  {
   "cell_type": "code",
   "execution_count": 46,
   "metadata": {
    "executionInfo": {
     "elapsed": 428,
     "status": "ok",
     "timestamp": 1632196104626,
     "user": {
      "displayName": "팡팡",
      "photoUrl": "https://lh3.googleusercontent.com/a/default-user=s64",
      "userId": "08351897761321616592"
     },
     "user_tz": -540
    },
    "id": "W3EO22NCE3wG"
   },
   "outputs": [],
   "source": [
    "# 수치형 입력 데이터를 전처리하고 입력 데이터 통합하기\n",
    "scaler = StandardScaler() # 값을 표준화시킴\n",
    "scaler.fit(X_num)\n",
    "X_scaled = scaler.transform(X_num)\n",
    "X_scaled = pd.DataFrame(data=X_scaled, index=X_num.index, columns=X_num.columns)     # X_scaled에 데이터가 numpy로 들어가 있으니, 다시 보기편하게 pd해준다\n",
    "X = pd.concat([X_scaled, X_cat], axis=1)"
   ]
  },
  {
   "cell_type": "code",
   "execution_count": 47,
   "metadata": {
    "colab": {
     "base_uri": "https://localhost:8080/",
     "height": 419
    },
    "executionInfo": {
     "elapsed": 484,
     "status": "ok",
     "timestamp": 1632196111340,
     "user": {
      "displayName": "팡팡",
      "photoUrl": "https://lh3.googleusercontent.com/a/default-user=s64",
      "userId": "08351897761321616592"
     },
     "user_tz": -540
    },
    "id": "UwGG1zyueB_w",
    "outputId": "734d2020-935c-4f4b-dcfb-d54080ea17c3"
   },
   "outputs": [
    {
     "data": {
      "text/html": [
       "<div>\n",
       "<style scoped>\n",
       "    .dataframe tbody tr th:only-of-type {\n",
       "        vertical-align: middle;\n",
       "    }\n",
       "\n",
       "    .dataframe tbody tr th {\n",
       "        vertical-align: top;\n",
       "    }\n",
       "\n",
       "    .dataframe thead th {\n",
       "        text-align: right;\n",
       "    }\n",
       "</style>\n",
       "<table border=\"1\" class=\"dataframe\">\n",
       "  <thead>\n",
       "    <tr style=\"text-align: right;\">\n",
       "      <th></th>\n",
       "      <th>age</th>\n",
       "      <th>creatinine_phosphokinase</th>\n",
       "      <th>ejection_fraction</th>\n",
       "      <th>platelets</th>\n",
       "      <th>serum_creatinine</th>\n",
       "      <th>serum_sodium</th>\n",
       "      <th>time</th>\n",
       "      <th>anaemia</th>\n",
       "      <th>diabetes</th>\n",
       "      <th>high_blood_pressure</th>\n",
       "      <th>sex</th>\n",
       "      <th>smoking</th>\n",
       "    </tr>\n",
       "  </thead>\n",
       "  <tbody>\n",
       "    <tr>\n",
       "      <th>0</th>\n",
       "      <td>1.192945</td>\n",
       "      <td>0.000166</td>\n",
       "      <td>-1.530560</td>\n",
       "      <td>1.681648e-02</td>\n",
       "      <td>0.490057</td>\n",
       "      <td>-1.504036</td>\n",
       "      <td>-1.629502</td>\n",
       "      <td>0</td>\n",
       "      <td>0</td>\n",
       "      <td>1</td>\n",
       "      <td>1</td>\n",
       "      <td>0</td>\n",
       "    </tr>\n",
       "    <tr>\n",
       "      <th>1</th>\n",
       "      <td>-0.491279</td>\n",
       "      <td>7.514640</td>\n",
       "      <td>-0.007077</td>\n",
       "      <td>7.535660e-09</td>\n",
       "      <td>-0.284552</td>\n",
       "      <td>-0.141976</td>\n",
       "      <td>-1.603691</td>\n",
       "      <td>0</td>\n",
       "      <td>0</td>\n",
       "      <td>0</td>\n",
       "      <td>1</td>\n",
       "      <td>0</td>\n",
       "    </tr>\n",
       "    <tr>\n",
       "      <th>2</th>\n",
       "      <td>0.350833</td>\n",
       "      <td>-0.449939</td>\n",
       "      <td>-1.530560</td>\n",
       "      <td>-1.038073e+00</td>\n",
       "      <td>-0.090900</td>\n",
       "      <td>-1.731046</td>\n",
       "      <td>-1.590785</td>\n",
       "      <td>0</td>\n",
       "      <td>0</td>\n",
       "      <td>0</td>\n",
       "      <td>1</td>\n",
       "      <td>1</td>\n",
       "    </tr>\n",
       "    <tr>\n",
       "      <th>3</th>\n",
       "      <td>-0.912335</td>\n",
       "      <td>-0.486071</td>\n",
       "      <td>-1.530560</td>\n",
       "      <td>-5.464741e-01</td>\n",
       "      <td>0.490057</td>\n",
       "      <td>0.085034</td>\n",
       "      <td>-1.590785</td>\n",
       "      <td>1</td>\n",
       "      <td>0</td>\n",
       "      <td>0</td>\n",
       "      <td>1</td>\n",
       "      <td>0</td>\n",
       "    </tr>\n",
       "    <tr>\n",
       "      <th>4</th>\n",
       "      <td>0.350833</td>\n",
       "      <td>-0.435486</td>\n",
       "      <td>-1.530560</td>\n",
       "      <td>6.517986e-01</td>\n",
       "      <td>1.264666</td>\n",
       "      <td>-4.682176</td>\n",
       "      <td>-1.577879</td>\n",
       "      <td>1</td>\n",
       "      <td>1</td>\n",
       "      <td>0</td>\n",
       "      <td>0</td>\n",
       "      <td>0</td>\n",
       "    </tr>\n",
       "    <tr>\n",
       "      <th>...</th>\n",
       "      <td>...</td>\n",
       "      <td>...</td>\n",
       "      <td>...</td>\n",
       "      <td>...</td>\n",
       "      <td>...</td>\n",
       "      <td>...</td>\n",
       "      <td>...</td>\n",
       "      <td>...</td>\n",
       "      <td>...</td>\n",
       "      <td>...</td>\n",
       "      <td>...</td>\n",
       "      <td>...</td>\n",
       "    </tr>\n",
       "    <tr>\n",
       "      <th>294</th>\n",
       "      <td>0.098199</td>\n",
       "      <td>-0.537688</td>\n",
       "      <td>-0.007077</td>\n",
       "      <td>-1.109765e+00</td>\n",
       "      <td>-0.284552</td>\n",
       "      <td>1.447094</td>\n",
       "      <td>1.803451</td>\n",
       "      <td>0</td>\n",
       "      <td>1</td>\n",
       "      <td>1</td>\n",
       "      <td>1</td>\n",
       "      <td>1</td>\n",
       "    </tr>\n",
       "    <tr>\n",
       "      <th>295</th>\n",
       "      <td>-0.491279</td>\n",
       "      <td>1.278215</td>\n",
       "      <td>-0.007077</td>\n",
       "      <td>6.802472e-02</td>\n",
       "      <td>-0.187726</td>\n",
       "      <td>0.539054</td>\n",
       "      <td>1.816357</td>\n",
       "      <td>0</td>\n",
       "      <td>0</td>\n",
       "      <td>0</td>\n",
       "      <td>0</td>\n",
       "      <td>0</td>\n",
       "    </tr>\n",
       "    <tr>\n",
       "      <th>296</th>\n",
       "      <td>-1.333392</td>\n",
       "      <td>1.525979</td>\n",
       "      <td>1.854958</td>\n",
       "      <td>4.902082e+00</td>\n",
       "      <td>-0.575031</td>\n",
       "      <td>0.312044</td>\n",
       "      <td>1.906697</td>\n",
       "      <td>0</td>\n",
       "      <td>1</td>\n",
       "      <td>0</td>\n",
       "      <td>0</td>\n",
       "      <td>0</td>\n",
       "    </tr>\n",
       "    <tr>\n",
       "      <th>297</th>\n",
       "      <td>-1.333392</td>\n",
       "      <td>1.890398</td>\n",
       "      <td>-0.007077</td>\n",
       "      <td>-1.263389e+00</td>\n",
       "      <td>0.005926</td>\n",
       "      <td>0.766064</td>\n",
       "      <td>1.932509</td>\n",
       "      <td>0</td>\n",
       "      <td>0</td>\n",
       "      <td>0</td>\n",
       "      <td>1</td>\n",
       "      <td>1</td>\n",
       "    </tr>\n",
       "    <tr>\n",
       "      <th>298</th>\n",
       "      <td>-0.912335</td>\n",
       "      <td>-0.398321</td>\n",
       "      <td>0.585389</td>\n",
       "      <td>1.348231e+00</td>\n",
       "      <td>0.199578</td>\n",
       "      <td>-0.141976</td>\n",
       "      <td>1.997038</td>\n",
       "      <td>0</td>\n",
       "      <td>0</td>\n",
       "      <td>0</td>\n",
       "      <td>1</td>\n",
       "      <td>1</td>\n",
       "    </tr>\n",
       "  </tbody>\n",
       "</table>\n",
       "<p>299 rows × 12 columns</p>\n",
       "</div>"
      ],
      "text/plain": [
       "          age  creatinine_phosphokinase  ...  sex  smoking\n",
       "0    1.192945                  0.000166  ...    1        0\n",
       "1   -0.491279                  7.514640  ...    1        0\n",
       "2    0.350833                 -0.449939  ...    1        1\n",
       "3   -0.912335                 -0.486071  ...    1        0\n",
       "4    0.350833                 -0.435486  ...    0        0\n",
       "..        ...                       ...  ...  ...      ...\n",
       "294  0.098199                 -0.537688  ...    1        1\n",
       "295 -0.491279                  1.278215  ...    0        0\n",
       "296 -1.333392                  1.525979  ...    0        0\n",
       "297 -1.333392                  1.890398  ...    1        1\n",
       "298 -0.912335                 -0.398321  ...    1        1\n",
       "\n",
       "[299 rows x 12 columns]"
      ]
     },
     "execution_count": 47,
     "metadata": {},
     "output_type": "execute_result"
    }
   ],
   "source": [
    "X"
   ]
  },
  {
   "cell_type": "markdown",
   "metadata": {
    "id": "x93Tb6lptcA2"
   },
   "source": [
    "### 문제 8. 학습데이터와 테스트데이터 분리하기\n"
   ]
  },
  {
   "cell_type": "code",
   "execution_count": 48,
   "metadata": {
    "executionInfo": {
     "elapsed": 300,
     "status": "ok",
     "timestamp": 1632196129916,
     "user": {
      "displayName": "팡팡",
      "photoUrl": "https://lh3.googleusercontent.com/a/default-user=s64",
      "userId": "08351897761321616592"
     },
     "user_tz": -540
    },
    "id": "C9kMQI8SEche"
   },
   "outputs": [],
   "source": [
    "from sklearn.model_selection import train_test_split"
   ]
  },
  {
   "cell_type": "code",
   "execution_count": 50,
   "metadata": {
    "executionInfo": {
     "elapsed": 302,
     "status": "ok",
     "timestamp": 1632196238028,
     "user": {
      "displayName": "팡팡",
      "photoUrl": "https://lh3.googleusercontent.com/a/default-user=s64",
      "userId": "08351897761321616592"
     },
     "user_tz": -540
    },
    "id": "F07QjOFwFNEw"
   },
   "outputs": [],
   "source": [
    "# train_test_split() 함수로 학습 데이터와 테스트 데이터 분리하기\n",
    "X_train, X_test, y_train, y_test = train_test_split(X,y, test_size=0.3, random_state=1) # shuffle을 활용하면 순서대로하냐 안하냐 차이를 둘 수 있음"
   ]
  },
  {
   "cell_type": "code",
   "execution_count": 51,
   "metadata": {
    "colab": {
     "base_uri": "https://localhost:8080/",
     "height": 419
    },
    "executionInfo": {
     "elapsed": 291,
     "status": "ok",
     "timestamp": 1632196248518,
     "user": {
      "displayName": "팡팡",
      "photoUrl": "https://lh3.googleusercontent.com/a/default-user=s64",
      "userId": "08351897761321616592"
     },
     "user_tz": -540
    },
    "id": "MeX5Dk6qejZv",
    "outputId": "dfbc8033-cd3c-4a9a-b7d2-95c3a6a29d4d"
   },
   "outputs": [
    {
     "data": {
      "text/html": [
       "<div>\n",
       "<style scoped>\n",
       "    .dataframe tbody tr th:only-of-type {\n",
       "        vertical-align: middle;\n",
       "    }\n",
       "\n",
       "    .dataframe tbody tr th {\n",
       "        vertical-align: top;\n",
       "    }\n",
       "\n",
       "    .dataframe thead th {\n",
       "        text-align: right;\n",
       "    }\n",
       "</style>\n",
       "<table border=\"1\" class=\"dataframe\">\n",
       "  <thead>\n",
       "    <tr style=\"text-align: right;\">\n",
       "      <th></th>\n",
       "      <th>age</th>\n",
       "      <th>creatinine_phosphokinase</th>\n",
       "      <th>ejection_fraction</th>\n",
       "      <th>platelets</th>\n",
       "      <th>serum_creatinine</th>\n",
       "      <th>serum_sodium</th>\n",
       "      <th>time</th>\n",
       "      <th>anaemia</th>\n",
       "      <th>diabetes</th>\n",
       "      <th>high_blood_pressure</th>\n",
       "      <th>sex</th>\n",
       "      <th>smoking</th>\n",
       "    </tr>\n",
       "  </thead>\n",
       "  <tbody>\n",
       "    <tr>\n",
       "      <th>14</th>\n",
       "      <td>-0.996547</td>\n",
       "      <td>-0.518074</td>\n",
       "      <td>-0.684180</td>\n",
       "      <td>1.675963</td>\n",
       "      <td>-0.381379</td>\n",
       "      <td>0.312044</td>\n",
       "      <td>-1.526256</td>\n",
       "      <td>1</td>\n",
       "      <td>0</td>\n",
       "      <td>1</td>\n",
       "      <td>0</td>\n",
       "      <td>0</td>\n",
       "    </tr>\n",
       "    <tr>\n",
       "      <th>210</th>\n",
       "      <td>0.771889</td>\n",
       "      <td>-0.381804</td>\n",
       "      <td>-1.784473</td>\n",
       "      <td>1.286781</td>\n",
       "      <td>-0.381379</td>\n",
       "      <td>-0.141976</td>\n",
       "      <td>0.745172</td>\n",
       "      <td>0</td>\n",
       "      <td>1</td>\n",
       "      <td>1</td>\n",
       "      <td>1</td>\n",
       "      <td>1</td>\n",
       "    </tr>\n",
       "    <tr>\n",
       "      <th>236</th>\n",
       "      <td>1.192945</td>\n",
       "      <td>-0.477812</td>\n",
       "      <td>1.008578</td>\n",
       "      <td>-0.157292</td>\n",
       "      <td>-0.284552</td>\n",
       "      <td>2.582144</td>\n",
       "      <td>1.016195</td>\n",
       "      <td>0</td>\n",
       "      <td>0</td>\n",
       "      <td>1</td>\n",
       "      <td>1</td>\n",
       "      <td>0</td>\n",
       "    </tr>\n",
       "    <tr>\n",
       "      <th>44</th>\n",
       "      <td>-0.070223</td>\n",
       "      <td>0.006360</td>\n",
       "      <td>1.854958</td>\n",
       "      <td>-0.710340</td>\n",
       "      <td>-0.284552</td>\n",
       "      <td>1.220084</td>\n",
       "      <td>-1.255233</td>\n",
       "      <td>1</td>\n",
       "      <td>1</td>\n",
       "      <td>0</td>\n",
       "      <td>0</td>\n",
       "      <td>0</td>\n",
       "    </tr>\n",
       "    <tr>\n",
       "      <th>163</th>\n",
       "      <td>-0.912335</td>\n",
       "      <td>1.808842</td>\n",
       "      <td>-0.260991</td>\n",
       "      <td>-1.929096</td>\n",
       "      <td>-0.478205</td>\n",
       "      <td>1.220084</td>\n",
       "      <td>-0.054990</td>\n",
       "      <td>1</td>\n",
       "      <td>1</td>\n",
       "      <td>0</td>\n",
       "      <td>0</td>\n",
       "      <td>0</td>\n",
       "    </tr>\n",
       "    <tr>\n",
       "      <th>...</th>\n",
       "      <td>...</td>\n",
       "      <td>...</td>\n",
       "      <td>...</td>\n",
       "      <td>...</td>\n",
       "      <td>...</td>\n",
       "      <td>...</td>\n",
       "      <td>...</td>\n",
       "      <td>...</td>\n",
       "      <td>...</td>\n",
       "      <td>...</td>\n",
       "      <td>...</td>\n",
       "      <td>...</td>\n",
       "    </tr>\n",
       "    <tr>\n",
       "      <th>203</th>\n",
       "      <td>-0.070223</td>\n",
       "      <td>-0.539753</td>\n",
       "      <td>-1.107370</td>\n",
       "      <td>-0.525991</td>\n",
       "      <td>2.039276</td>\n",
       "      <td>-0.141976</td>\n",
       "      <td>0.732266</td>\n",
       "      <td>0</td>\n",
       "      <td>0</td>\n",
       "      <td>1</td>\n",
       "      <td>1</td>\n",
       "      <td>1</td>\n",
       "    </tr>\n",
       "    <tr>\n",
       "      <th>255</th>\n",
       "      <td>-0.743913</td>\n",
       "      <td>-0.403483</td>\n",
       "      <td>-0.684180</td>\n",
       "      <td>0.723490</td>\n",
       "      <td>-0.381379</td>\n",
       "      <td>1.220084</td>\n",
       "      <td>1.106535</td>\n",
       "      <td>1</td>\n",
       "      <td>1</td>\n",
       "      <td>1</td>\n",
       "      <td>1</td>\n",
       "      <td>1</td>\n",
       "    </tr>\n",
       "    <tr>\n",
       "      <th>72</th>\n",
       "      <td>2.035057</td>\n",
       "      <td>5.471619</td>\n",
       "      <td>-0.260991</td>\n",
       "      <td>-0.208500</td>\n",
       "      <td>-0.381379</td>\n",
       "      <td>-1.050016</td>\n",
       "      <td>-0.751905</td>\n",
       "      <td>0</td>\n",
       "      <td>0</td>\n",
       "      <td>0</td>\n",
       "      <td>1</td>\n",
       "      <td>1</td>\n",
       "    </tr>\n",
       "    <tr>\n",
       "      <th>235</th>\n",
       "      <td>1.361368</td>\n",
       "      <td>-0.488136</td>\n",
       "      <td>1.008578</td>\n",
       "      <td>1.460889</td>\n",
       "      <td>-0.284552</td>\n",
       "      <td>0.085034</td>\n",
       "      <td>1.016195</td>\n",
       "      <td>1</td>\n",
       "      <td>0</td>\n",
       "      <td>1</td>\n",
       "      <td>1</td>\n",
       "      <td>0</td>\n",
       "    </tr>\n",
       "    <tr>\n",
       "      <th>37</th>\n",
       "      <td>1.782424</td>\n",
       "      <td>0.281997</td>\n",
       "      <td>1.008578</td>\n",
       "      <td>0.590349</td>\n",
       "      <td>-0.381379</td>\n",
       "      <td>1.901114</td>\n",
       "      <td>-1.293951</td>\n",
       "      <td>1</td>\n",
       "      <td>1</td>\n",
       "      <td>1</td>\n",
       "      <td>0</td>\n",
       "      <td>0</td>\n",
       "    </tr>\n",
       "  </tbody>\n",
       "</table>\n",
       "<p>209 rows × 12 columns</p>\n",
       "</div>"
      ],
      "text/plain": [
       "          age  creatinine_phosphokinase  ...  sex  smoking\n",
       "14  -0.996547                 -0.518074  ...    0        0\n",
       "210  0.771889                 -0.381804  ...    1        1\n",
       "236  1.192945                 -0.477812  ...    1        0\n",
       "44  -0.070223                  0.006360  ...    0        0\n",
       "163 -0.912335                  1.808842  ...    0        0\n",
       "..        ...                       ...  ...  ...      ...\n",
       "203 -0.070223                 -0.539753  ...    1        1\n",
       "255 -0.743913                 -0.403483  ...    1        1\n",
       "72   2.035057                  5.471619  ...    1        1\n",
       "235  1.361368                 -0.488136  ...    1        0\n",
       "37   1.782424                  0.281997  ...    0        0\n",
       "\n",
       "[209 rows x 12 columns]"
      ]
     },
     "execution_count": 51,
     "metadata": {},
     "output_type": "execute_result"
    }
   ],
   "source": [
    "X_train"
   ]
  },
  {
   "cell_type": "markdown",
   "metadata": {
    "id": "DTqb-HqPtc4I"
   },
   "source": [
    "## Step 4. Classification 모델 학습하기\n"
   ]
  },
  {
   "cell_type": "markdown",
   "metadata": {
    "id": "Ckexl202tmZI"
   },
   "source": [
    "### 문제 9. Logistic Regression 모델 생성/학습하기\n"
   ]
  },
  {
   "cell_type": "code",
   "execution_count": 52,
   "metadata": {
    "executionInfo": {
     "elapsed": 298,
     "status": "ok",
     "timestamp": 1632196284674,
     "user": {
      "displayName": "팡팡",
      "photoUrl": "https://lh3.googleusercontent.com/a/default-user=s64",
      "userId": "08351897761321616592"
     },
     "user_tz": -540
    },
    "id": "2Wt_0AdNFfbN"
   },
   "outputs": [],
   "source": [
    "from sklearn.linear_model import LogisticRegression"
   ]
  },
  {
   "cell_type": "code",
   "execution_count": 54,
   "metadata": {
    "colab": {
     "base_uri": "https://localhost:8080/"
    },
    "executionInfo": {
     "elapsed": 391,
     "status": "ok",
     "timestamp": 1632196351597,
     "user": {
      "displayName": "팡팡",
      "photoUrl": "https://lh3.googleusercontent.com/a/default-user=s64",
      "userId": "08351897761321616592"
     },
     "user_tz": -540
    },
    "id": "1lM57a_8Fdbh",
    "outputId": "749edf07-9729-4710-a10b-bdd69e631fa4"
   },
   "outputs": [
    {
     "data": {
      "text/plain": [
       "LogisticRegression(C=1.0, class_weight=None, dual=False, fit_intercept=True,\n",
       "                   intercept_scaling=1, l1_ratio=None, max_iter=1000,\n",
       "                   multi_class='auto', n_jobs=None, penalty='l2',\n",
       "                   random_state=None, solver='lbfgs', tol=0.0001, verbose=0,\n",
       "                   warm_start=False)"
      ]
     },
     "execution_count": 54,
     "metadata": {},
     "output_type": "execute_result"
    }
   ],
   "source": [
    "# LogisticRegression 모델 생성/학습\n",
    "model_lr = LogisticRegression(max_iter=1000)\n",
    "model_lr.fit(X_train, y_train)"
   ]
  },
  {
   "cell_type": "markdown",
   "metadata": {
    "id": "APOI7Hc9tnvr"
   },
   "source": [
    "### 문제 10. 모델 학습 결과 평가하기\n"
   ]
  },
  {
   "cell_type": "code",
   "execution_count": 55,
   "metadata": {
    "executionInfo": {
     "elapsed": 295,
     "status": "ok",
     "timestamp": 1632196393541,
     "user": {
      "displayName": "팡팡",
      "photoUrl": "https://lh3.googleusercontent.com/a/default-user=s64",
      "userId": "08351897761321616592"
     },
     "user_tz": -540
    },
    "id": "2lIoyMjFFrif"
   },
   "outputs": [],
   "source": [
    "from sklearn.metrics import classification_report"
   ]
  },
  {
   "cell_type": "code",
   "execution_count": 56,
   "metadata": {
    "colab": {
     "base_uri": "https://localhost:8080/"
    },
    "executionInfo": {
     "elapsed": 332,
     "status": "ok",
     "timestamp": 1632196427665,
     "user": {
      "displayName": "팡팡",
      "photoUrl": "https://lh3.googleusercontent.com/a/default-user=s64",
      "userId": "08351897761321616592"
     },
     "user_tz": -540
    },
    "id": "1dD9JnN-FnpC",
    "outputId": "76e79696-b0d1-46f8-c5ab-9b437ac60bc8"
   },
   "outputs": [
    {
     "name": "stdout",
     "output_type": "stream",
     "text": [
      "              precision    recall  f1-score   support\n",
      "\n",
      "           0       0.86      0.92      0.89        64\n",
      "           1       0.76      0.62      0.68        26\n",
      "\n",
      "    accuracy                           0.83        90\n",
      "   macro avg       0.81      0.77      0.78        90\n",
      "weighted avg       0.83      0.83      0.83        90\n",
      "\n"
     ]
    }
   ],
   "source": [
    "# Predict를 수행하고 classification_report() 결과 출력하기\n",
    "pred = model_lr.predict(X_test)\n",
    "print(classification_report(y_test, pred))\n",
    "# f1-score : 정확도 83%"
   ]
  },
  {
   "cell_type": "markdown",
   "metadata": {
    "id": "xTRTOLTNto3h"
   },
   "source": [
    "### 문제 11. XGBoost 모델 생성/학습하기\n"
   ]
  },
  {
   "cell_type": "code",
   "execution_count": 57,
   "metadata": {
    "executionInfo": {
     "elapsed": 320,
     "status": "ok",
     "timestamp": 1632196452459,
     "user": {
      "displayName": "팡팡",
      "photoUrl": "https://lh3.googleusercontent.com/a/default-user=s64",
      "userId": "08351897761321616592"
     },
     "user_tz": -540
    },
    "id": "ow28ZRL4F7D5"
   },
   "outputs": [],
   "source": [
    "from xgboost import XGBClassifier"
   ]
  },
  {
   "cell_type": "code",
   "execution_count": 60,
   "metadata": {
    "colab": {
     "base_uri": "https://localhost:8080/"
    },
    "executionInfo": {
     "elapsed": 344,
     "status": "ok",
     "timestamp": 1632196500384,
     "user": {
      "displayName": "팡팡",
      "photoUrl": "https://lh3.googleusercontent.com/a/default-user=s64",
      "userId": "08351897761321616592"
     },
     "user_tz": -540
    },
    "id": "LSSNqFUrGM6R",
    "outputId": "5eedc3ca-1cf6-4213-ddd9-b15638b4a97a"
   },
   "outputs": [
    {
     "data": {
      "text/plain": [
       "XGBClassifier(base_score=0.5, booster='gbtree', colsample_bylevel=1,\n",
       "              colsample_bynode=1, colsample_bytree=1, gamma=0,\n",
       "              learning_rate=0.1, max_delta_step=0, max_depth=3,\n",
       "              min_child_weight=1, missing=None, n_estimators=100, n_jobs=1,\n",
       "              nthread=None, objective='binary:logistic', random_state=0,\n",
       "              reg_alpha=0, reg_lambda=1, scale_pos_weight=1, seed=None,\n",
       "              silent=None, subsample=1, verbosity=1)"
      ]
     },
     "execution_count": 60,
     "metadata": {},
     "output_type": "execute_result"
    }
   ],
   "source": [
    "# XGBClassifier 모델 생성/학습\n",
    "model_xgb = XGBClassifier()\n",
    "model_xgb.fit(X_train,y_train)"
   ]
  },
  {
   "cell_type": "markdown",
   "metadata": {
    "id": "kAisZoSEtp35"
   },
   "source": [
    "### 문제 12. 모델 학습 결과 평가하기\n"
   ]
  },
  {
   "cell_type": "code",
   "execution_count": 61,
   "metadata": {
    "colab": {
     "base_uri": "https://localhost:8080/"
    },
    "executionInfo": {
     "elapsed": 288,
     "status": "ok",
     "timestamp": 1632196524170,
     "user": {
      "displayName": "팡팡",
      "photoUrl": "https://lh3.googleusercontent.com/a/default-user=s64",
      "userId": "08351897761321616592"
     },
     "user_tz": -540
    },
    "id": "WLnyYNJwGRgd",
    "outputId": "94133388-b6f9-437f-9251-98abe2d07977"
   },
   "outputs": [
    {
     "name": "stdout",
     "output_type": "stream",
     "text": [
      "              precision    recall  f1-score   support\n",
      "\n",
      "           0       0.90      0.97      0.93        64\n",
      "           1       0.90      0.73      0.81        26\n",
      "\n",
      "    accuracy                           0.90        90\n",
      "   macro avg       0.90      0.85      0.87        90\n",
      "weighted avg       0.90      0.90      0.90        90\n",
      "\n"
     ]
    }
   ],
   "source": [
    "# Predict를 수행하고 classification_report() 결과 출력하기\n",
    "pred = model_xgb.predict(X_test)\n",
    "print(classification_report(y_test, pred))\n",
    "# f1-score : 정확도 90%"
   ]
  },
  {
   "cell_type": "markdown",
   "metadata": {
    "id": "3A7Ghq67tqsM"
   },
   "source": [
    "### 문제 13. 특징의 중요도 확인하기\n"
   ]
  },
  {
   "cell_type": "code",
   "execution_count": 63,
   "metadata": {
    "colab": {
     "base_uri": "https://localhost:8080/",
     "height": 385
    },
    "executionInfo": {
     "elapsed": 359,
     "status": "ok",
     "timestamp": 1632196656853,
     "user": {
      "displayName": "팡팡",
      "photoUrl": "https://lh3.googleusercontent.com/a/default-user=s64",
      "userId": "08351897761321616592"
     },
     "user_tz": -540
    },
    "id": "1Fo6x7b7GU1W",
    "outputId": "1080e317-1db7-4405-f77a-46d55ef7227e"
   },
   "outputs": [
    {
     "data": {
      "image/png": "[encoded data removed]",
      "text/plain": [
       "<Figure size 432x288 with 1 Axes>"
      ]
     },
     "metadata": {
      "needs_background": "light"
     },
     "output_type": "display_data"
    }
   ],
   "source": [
    "# XGBClassifier 모델의 feature_importances_를 이용하여 중요도 plot\n",
    "# plt.plot(model_xgb.feature_importances_)\n",
    "plt.bar(X.columns, model_xgb.feature_importances_)\n",
    "plt.xticks(rotation=90)\n",
    "plt.show()"
   ]
  },
  {
   "cell_type": "markdown",
   "metadata": {
    "id": "7icVVlSwtr53"
   },
   "source": [
    "## Step5 모델 학습 결과 심화 분석하기\n"
   ]
  },
  {
   "cell_type": "markdown",
   "metadata": {
    "id": "LmaEIOOItvJa"
   },
   "source": [
    "### 문제 14. Precision-Recall 커브 확인하기"
   ]
  },
  {
   "cell_type": "code",
   "execution_count": 64,
   "metadata": {
    "executionInfo": {
     "elapsed": 317,
     "status": "ok",
     "timestamp": 1632196750669,
     "user": {
      "displayName": "팡팡",
      "photoUrl": "https://lh3.googleusercontent.com/a/default-user=s64",
      "userId": "08351897761321616592"
     },
     "user_tz": -540
    },
    "id": "nmgLWL84Gji6"
   },
   "outputs": [],
   "source": [
    "from sklearn.metrics import plot_precision_recall_curve"
   ]
  },
  {
   "cell_type": "code",
   "execution_count": 65,
   "metadata": {
    "colab": {
     "base_uri": "https://localhost:8080/",
     "height": 296
    },
    "executionInfo": {
     "elapsed": 404,
     "status": "ok",
     "timestamp": 1632196789157,
     "user": {
      "displayName": "팡팡",
      "photoUrl": "https://lh3.googleusercontent.com/a/default-user=s64",
      "userId": "08351897761321616592"
     },
     "user_tz": -540
    },
    "id": "BUIXk9RNGnRa",
    "outputId": "3ed38a8e-5995-43f1-91e7-73c3fbe8000b"
   },
   "outputs": [
    {
     "data": {
      "text/plain": [
       "<sklearn.metrics._plot.precision_recall_curve.PrecisionRecallDisplay at 0x7f8d61204450>"
      ]
     },
     "execution_count": 65,
     "metadata": {},
     "output_type": "execute_result"
    },
    {
     "data": {
      "image/png": "[encoded data removed]",
      "text/plain": [
       "<Figure size 432x288 with 1 Axes>"
      ]
     },
     "metadata": {
      "needs_background": "light"
     },
     "output_type": "display_data"
    }
   ],
   "source": [
    "# 두 모델의 Precision-Recall 커브를 한번에 그리기 (힌트: fig.gca()로 ax를 반환받아 사용)\n",
    "fig = plt.figure()\n",
    "ax = fig.gca()\n",
    "plot_precision_recall_curve(model_lr, X_test, y_test, ax=ax)\n",
    "plot_precision_recall_curve(model_xgb, X_test, y_test, ax=ax)"
   ]
  },
  {
   "cell_type": "markdown",
   "metadata": {
    "id": "5yIbQKjktuwg"
   },
   "source": [
    "### 문제 15. ROC 커브 확인하기"
   ]
  },
  {
   "cell_type": "code",
   "execution_count": 66,
   "metadata": {
    "executionInfo": {
     "elapsed": 289,
     "status": "ok",
     "timestamp": 1632196837846,
     "user": {
      "displayName": "팡팡",
      "photoUrl": "https://lh3.googleusercontent.com/a/default-user=s64",
      "userId": "08351897761321616592"
     },
     "user_tz": -540
    },
    "id": "kZKXWpKOGmXf"
   },
   "outputs": [],
   "source": [
    "from sklearn.metrics import plot_roc_curve"
   ]
  },
  {
   "cell_type": "code",
   "execution_count": 67,
   "metadata": {
    "colab": {
     "base_uri": "https://localhost:8080/",
     "height": 296
    },
    "executionInfo": {
     "elapsed": 623,
     "status": "ok",
     "timestamp": 1632196838801,
     "user": {
      "displayName": "팡팡",
      "photoUrl": "https://lh3.googleusercontent.com/a/default-user=s64",
      "userId": "08351897761321616592"
     },
     "user_tz": -540
    },
    "id": "3bY4SZZ4HBdN",
    "outputId": "766cb86e-25ae-4b83-bfdc-d26bb9078c13"
   },
   "outputs": [
    {
     "data": {
      "text/plain": [
       "<sklearn.metrics._plot.roc_curve.RocCurveDisplay at 0x7f8d615f5c10>"
      ]
     },
     "execution_count": 67,
     "metadata": {},
     "output_type": "execute_result"
    },
    {
     "data": {
      "image/png": "[encoded data removed]",
      "text/plain": [
       "<Figure size 432x288 with 1 Axes>"
      ]
     },
     "metadata": {
      "needs_background": "light"
     },
     "output_type": "display_data"
    }
   ],
   "source": [
    "# 두 모델의 ROC 커브를 한번에 그리기 (힌트: fig.gca()로 ax를 반환받아 사용)\n",
    "fig = plt.figure()\n",
    "ax = fig.gca()\n",
    "plot_roc_curve(model_lr, X_test, y_test, ax=ax)\n",
    "plot_roc_curve(model_xgb, X_test, y_test, ax=ax)"
   ]
  },
  {
   "cell_type": "code",
   "execution_count": null,
   "metadata": {
    "id": "sqKnthu_gz_i"
   },
   "outputs": [],
   "source": []
  }
 ],
 "metadata": {
  "colab": {
   "collapsed_sections": [
    "cxZwPnfms0-9"
   ],
   "name": "Chapter 01 - 데이터 분석으로 심부전증을 예방할 수 있을까(문제).ipynb",
   "provenance": [
    {
     "file_id": "1j79f83Q3TPyjwsbNx2fy_Dt-J37MVNvZ",
     "timestamp": 1605597047726
    },
    {
     "file_id": "1QiLPv5TzBrE7Lb-X4fMq7KHePTq0Em2L",
     "timestamp": 1605593695308
    },
    {
     "file_id": "1Ot6dlC7E_dqo8XOgyTA03SKSqFcvkCdO",
     "timestamp": 1605087778098
    },
    {
     "file_id": "1cS2OjWOehEb97E7763rQ_LrzQIK34Kd-",
     "timestamp": 1604921871166
    },
    {
     "file_id": "1g7SaVjG6EvBPvIH4ADG2RA3qN8v521d1",
     "timestamp": 1604886286018
    }
   ]
  },
  "kernelspec": {
   "display_name": "Python 3",
   "language": "python",
   "name": "python3"
  },
  "language_info": {
   "codemirror_mode": {
    "name": "ipython",
    "version": 3
   },
   "file_extension": ".py",
   "mimetype": "text/x-python",
   "name": "python",
   "nbconvert_exporter": "python",
   "pygments_lexer": "ipython3",
   "version": "3.9.4"
  },
  "toc": {
   "base_numbering": 1,
   "nav_menu": {},
   "number_sections": true,
   "sideBar": true,
   "skip_h1_title": false,
   "title_cell": "Table of Contents",
   "title_sidebar": "Contents",
   "toc_cell": false,
   "toc_position": {},
   "toc_section_display": true,
   "toc_window_display": false
  },
  "varInspector": {
   "cols": {
    "lenName": 16,
    "lenType": 16,
    "lenVar": 40
   },
   "kernels_config": {
    "python": {
     "delete_cmd_postfix": "",
     "delete_cmd_prefix": "del ",
     "library": "var_list.py",
     "varRefreshCmd": "print(var_dic_list())"
    },
    "r": {
     "delete_cmd_postfix": ") ",
     "delete_cmd_prefix": "rm(",
     "library": "var_list.r",
     "varRefreshCmd": "cat(var_dic_list()) "
    }
   },
   "types_to_exclude": [
    "module",
    "function",
    "builtin_function_or_method",
    "instance",
    "_Feature"
   ],
   "window_display": false
  }
 },
 "nbformat": 4,
 "nbformat_minor": 1
}
